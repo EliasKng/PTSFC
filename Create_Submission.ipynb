{
 "cells": [
  {
   "cell_type": "markdown",
   "source": [
    "# Create Submission File"
   ],
   "metadata": {
    "collapsed": false
   },
   "id": "8c32bd09ca64c40b"
  },
  {
   "cell_type": "markdown",
   "source": [
    "## Imports and get data"
   ],
   "metadata": {
    "collapsed": false
   },
   "id": "14fdcf25ca938883"
  },
  {
   "cell_type": "code",
   "execution_count": 1,
   "outputs": [
    {
     "name": "stderr",
     "output_type": "stream",
     "text": [
      "/Users/elias/Desktop/PTSFC/venv/lib/python3.9/site-packages/urllib3/__init__.py:34: NotOpenSSLWarning: urllib3 v2.0 only supports OpenSSL 1.1.1+, currently the 'ssl' module is compiled with 'LibreSSL 2.8.3'. See: https://github.com/urllib3/urllib3/issues/3020\n",
      "  warnings.warn(\n"
     ]
    }
   ],
   "source": [
    "import pickle\n",
    "import seaborn as sns\n",
    "import matplotlib.pyplot as plt\n",
    "from datetime import timedelta\n",
    "import pandas as pd\n",
    "import numpy as np\n",
    "from HelpFunctions.calc_score import evaluate_horizon\n",
    "from HelpFunctions.mix_models import mix_models\n",
    "from HelpFunctions.date_and_time import most_recent_thursday, split_time\n",
    "\n",
    "from DAX.HelpFunctions.get_dax_data import get_dax_data\n",
    "from DAX.Models import baseline as dax_bl\n",
    "from DAX.Models import garch11 as dax_garch\n",
    "\n",
    "from Energy.HelpFunctions.get_energy_data import get_energy_data, prepare_data\n",
    "from Energy.Models import baseline as en_bl\n",
    "from Energy.Models import Model4_population as en_m4_pop\n",
    "from datetime import datetime\n",
    "import pytz\n",
    "\n",
    "# import importlib\n",
    "# importlib.reload(Energy.Models)\n",
    "\n",
    "# import importlib\n",
    "# importlib.reload(Energy.Models)"
   ],
   "metadata": {
    "collapsed": false,
    "ExecuteTime": {
     "end_time": "2023-11-28T09:45:59.281249Z",
     "start_time": "2023-11-28T09:45:59.022409Z"
    }
   },
   "id": "c30798cf9e7795b4"
  },
  {
   "cell_type": "markdown",
   "source": [
    "### DAX: Get and prepare Data\n",
    "Use tuesday as last datapoint"
   ],
   "metadata": {
    "collapsed": false
   },
   "id": "a5a087de7041bd86"
  },
  {
   "cell_type": "code",
   "execution_count": 2,
   "outputs": [],
   "source": [
    "# Insert Date of Wednesday (forecast-day) here. The current day has to be wednesday!!\n",
    "start_date = datetime(2023, 11, 22, 12, 0, 0)"
   ],
   "metadata": {
    "collapsed": false,
    "ExecuteTime": {
     "end_time": "2023-11-28T09:45:59.285313Z",
     "start_time": "2023-11-28T09:45:59.282026Z"
    }
   },
   "id": "fe12d8b274c080da"
  },
  {
   "cell_type": "code",
   "execution_count": 3,
   "outputs": [],
   "source": [
    "df_dax = get_dax_data()\n",
    "# pretend_start_date = date(2023, 11, 22, 11, 00, 0, tzinfo=pytz.timezone('Europe/Berlin'))\n",
    "\n",
    "df_dax = df_dax[df_dax.index.date <= start_date.date()]"
   ],
   "metadata": {
    "collapsed": false,
    "ExecuteTime": {
     "end_time": "2023-11-28T09:46:00.874342Z",
     "start_time": "2023-11-28T09:45:59.284981Z"
    }
   },
   "id": "ae761a7c6fa93c50"
  },
  {
   "cell_type": "markdown",
   "source": [
    "### Energy: Get and prepare Data"
   ],
   "metadata": {
    "collapsed": false
   },
   "id": "68351dfe67b07c44"
  },
  {
   "cell_type": "code",
   "execution_count": 4,
   "outputs": [],
   "source": [
    "# from Energy.HelpFunctions.get_energy_data import fetch_energy_data\n",
    "# fetch_energy_data()"
   ],
   "metadata": {
    "collapsed": false,
    "ExecuteTime": {
     "end_time": "2023-11-28T09:46:00.878124Z",
     "start_time": "2023-11-28T09:46:00.874839Z"
    }
   },
   "id": "616a683b3b913537"
  },
  {
   "cell_type": "code",
   "execution_count": 5,
   "outputs": [
    {
     "name": "stderr",
     "output_type": "stream",
     "text": [
      "/Users/elias/Desktop/PTSFC/Energy/HelpFunctions/get_energy_data.py:17: UserWarning: The data is not up to date anymore. Please call fetch_energy_data\n",
      "  warnings.warn(\"The data is not up to date anymore. Please call fetch_energy_data\", UserWarning)\n"
     ]
    }
   ],
   "source": [
    "df_en = get_energy_data(force_return=True)\n",
    "df_en = prepare_data(df_en)"
   ],
   "metadata": {
    "collapsed": false,
    "ExecuteTime": {
     "end_time": "2023-11-28T09:46:00.942661Z",
     "start_time": "2023-11-28T09:46:00.878519Z"
    }
   },
   "id": "b59e1a44bd7c2e8f"
  },
  {
   "cell_type": "code",
   "execution_count": 6,
   "outputs": [],
   "source": [
    "df_en = df_en.loc[df_en.index <= start_date]"
   ],
   "metadata": {
    "collapsed": false,
    "ExecuteTime": {
     "end_time": "2023-11-28T09:46:00.945384Z",
     "start_time": "2023-11-28T09:46:00.941240Z"
    }
   },
   "id": "3ce91a690ad2cdc5"
  },
  {
   "cell_type": "markdown",
   "source": [
    "## Run models for the data"
   ],
   "metadata": {
    "collapsed": false
   },
   "id": "b64db28817cc4bb"
  },
  {
   "cell_type": "markdown",
   "source": [
    "### DAX"
   ],
   "metadata": {
    "collapsed": false
   },
   "id": "61218b68e5a9083d"
  },
  {
   "cell_type": "code",
   "execution_count": 7,
   "outputs": [],
   "source": [
    "# dax_bl.baseline(df_dax)\n",
    "forecast_dax = dax_garch.garch11(df_dax)"
   ],
   "metadata": {
    "collapsed": false,
    "ExecuteTime": {
     "end_time": "2023-11-28T09:46:01.051865Z",
     "start_time": "2023-11-28T09:46:00.945717Z"
    }
   },
   "id": "742fa6034b59aa97"
  },
  {
   "cell_type": "markdown",
   "source": [
    "### Energy"
   ],
   "metadata": {
    "collapsed": false
   },
   "id": "a401e8783d00353a"
  },
  {
   "cell_type": "code",
   "execution_count": 8,
   "outputs": [
    {
     "name": "stderr",
     "output_type": "stream",
     "text": [
      "/Users/elias/Desktop/PTSFC/venv/lib/python3.9/site-packages/statsmodels/regression/quantile_regression.py:191: IterationLimitWarning: Maximum number of iterations (1000) reached.\n",
      "  warnings.warn(\"Maximum number of iterations (\" + str(max_iter) +\n"
     ]
    }
   ],
   "source": [
    "# en_bl.baseline(df_en, LAST_IDX=-1, offset_horizons=11)\n",
    "forecast_en = en_m4_pop.model4_population(df_en, offset_horizons=11)"
   ],
   "metadata": {
    "collapsed": false,
    "ExecuteTime": {
     "end_time": "2023-11-28T09:46:06.955296Z",
     "start_time": "2023-11-28T09:46:01.052209Z"
    }
   },
   "id": "9f069c9dbd9ca3d0"
  },
  {
   "cell_type": "markdown",
   "source": [
    "### Infections"
   ],
   "metadata": {
    "collapsed": false
   },
   "id": "105bec481fe1b70e"
  },
  {
   "cell_type": "code",
   "execution_count": 17,
   "outputs": [],
   "source": [
    "forecast_infections = {\n",
    "    'forecast_date': [start_date.strftime('%Y-%m-%d')] * 5,\n",
    "    'target': ['infections'] * 5,\n",
    "    'horizon': ['0 week', '1 week', '2 week', '3 week', '4 week'],\n",
    "    # 'q0.025': ['NA'] * 5,\n",
    "    # 'q0.25': ['NA'] * 5,\n",
    "    # 'q0.5': ['NA'] * 5,\n",
    "    # 'q0.75': ['NA'] * 5,\n",
    "    # 'q0.975': ['NA'] * 5,\n",
    "    'q0.025': [np.nan] * 5,\n",
    "    'q0.25': [np.nan] * 5,\n",
    "    'q0.5': [np.nan] * 5,\n",
    "    'q0.75': [np.nan] * 5,\n",
    "    'q0.975': [np.nan] * 5\n",
    "}\n",
    "\n",
    "forecast_infections = pd.DataFrame(forecast_infections)"
   ],
   "metadata": {
    "collapsed": false,
    "ExecuteTime": {
     "end_time": "2023-11-28T09:52:11.385110Z",
     "start_time": "2023-11-28T09:52:11.379385Z"
    }
   },
   "id": "5a3873d90a18c7fb"
  },
  {
   "cell_type": "code",
   "execution_count": 18,
   "outputs": [
    {
     "data": {
      "text/plain": "  forecast_date      target horizon  q0.025  q0.25  q0.5  q0.75  q0.975\n0    2023-11-22  infections  0 week     NaN    NaN   NaN    NaN     NaN\n1    2023-11-22  infections  1 week     NaN    NaN   NaN    NaN     NaN\n2    2023-11-22  infections  2 week     NaN    NaN   NaN    NaN     NaN\n3    2023-11-22  infections  3 week     NaN    NaN   NaN    NaN     NaN\n4    2023-11-22  infections  4 week     NaN    NaN   NaN    NaN     NaN",
      "text/html": "<div>\n<style scoped>\n    .dataframe tbody tr th:only-of-type {\n        vertical-align: middle;\n    }\n\n    .dataframe tbody tr th {\n        vertical-align: top;\n    }\n\n    .dataframe thead th {\n        text-align: right;\n    }\n</style>\n<table border=\"1\" class=\"dataframe\">\n  <thead>\n    <tr style=\"text-align: right;\">\n      <th></th>\n      <th>forecast_date</th>\n      <th>target</th>\n      <th>horizon</th>\n      <th>q0.025</th>\n      <th>q0.25</th>\n      <th>q0.5</th>\n      <th>q0.75</th>\n      <th>q0.975</th>\n    </tr>\n  </thead>\n  <tbody>\n    <tr>\n      <th>0</th>\n      <td>2023-11-22</td>\n      <td>infections</td>\n      <td>0 week</td>\n      <td>NaN</td>\n      <td>NaN</td>\n      <td>NaN</td>\n      <td>NaN</td>\n      <td>NaN</td>\n    </tr>\n    <tr>\n      <th>1</th>\n      <td>2023-11-22</td>\n      <td>infections</td>\n      <td>1 week</td>\n      <td>NaN</td>\n      <td>NaN</td>\n      <td>NaN</td>\n      <td>NaN</td>\n      <td>NaN</td>\n    </tr>\n    <tr>\n      <th>2</th>\n      <td>2023-11-22</td>\n      <td>infections</td>\n      <td>2 week</td>\n      <td>NaN</td>\n      <td>NaN</td>\n      <td>NaN</td>\n      <td>NaN</td>\n      <td>NaN</td>\n    </tr>\n    <tr>\n      <th>3</th>\n      <td>2023-11-22</td>\n      <td>infections</td>\n      <td>3 week</td>\n      <td>NaN</td>\n      <td>NaN</td>\n      <td>NaN</td>\n      <td>NaN</td>\n      <td>NaN</td>\n    </tr>\n    <tr>\n      <th>4</th>\n      <td>2023-11-22</td>\n      <td>infections</td>\n      <td>4 week</td>\n      <td>NaN</td>\n      <td>NaN</td>\n      <td>NaN</td>\n      <td>NaN</td>\n      <td>NaN</td>\n    </tr>\n  </tbody>\n</table>\n</div>"
     },
     "execution_count": 18,
     "metadata": {},
     "output_type": "execute_result"
    }
   ],
   "source": [
    "forecast_infections"
   ],
   "metadata": {
    "collapsed": false,
    "ExecuteTime": {
     "end_time": "2023-11-28T09:52:11.791031Z",
     "start_time": "2023-11-28T09:52:11.782835Z"
    }
   },
   "id": "7d5811c34b25292f"
  },
  {
   "cell_type": "markdown",
   "source": [
    "## Merge results\n",
    "\n",
    "Check results: Are they valid, forecast_date is right? The last entry might be cut off"
   ],
   "metadata": {
    "collapsed": false
   },
   "id": "a0f6402def6f6bb4"
  },
  {
   "cell_type": "code",
   "execution_count": 19,
   "outputs": [
    {
     "data": {
      "text/plain": "          forecast_date      target  horizon     q0.025      q0.25       q0.5  \\\n0            2023-11-23         DAX    1 day  -1.704474  -0.586567   0.000000   \n1            2023-11-24         DAX    2 day  -2.538400  -0.873549   0.000000   \n2            2023-11-27         DAX    5 day  -3.201805  -1.101849   0.000000   \n3            2023-11-28         DAX    6 day  -4.264001  -1.467387   0.000000   \n4            2023-11-29         DAX    7 day  -5.251630  -1.807263   0.000000   \n5   2023-11-24 12:00:00      energy  36 hour  49.780452  59.711653  65.078282   \n6   2023-11-24 16:00:00      energy  40 hour  49.772025  57.927653  62.675497   \n7   2023-11-24 20:00:00      energy  44 hour  47.186092  54.170055  57.832552   \n8   2023-11-25 12:00:00      energy  60 hour  41.129800  50.936517  55.292036   \n9   2023-11-25 16:00:00      energy  64 hour  41.121373  49.152517  52.889251   \n10  2023-11-25 20:00:00      energy  68 hour  38.535440  45.394919  48.046306   \n11           2023-11-22  infections   0 week        NaN        NaN        NaN   \n12           2023-11-22  infections   1 week        NaN        NaN        NaN   \n13           2023-11-22  infections   2 week        NaN        NaN        NaN   \n14           2023-11-22  infections   3 week        NaN        NaN        NaN   \n15           2023-11-22  infections   4 week        NaN        NaN        NaN   \n\n        q0.75     q0.975  \n0    0.586567   1.704474  \n1    0.873549   2.538400  \n2    1.101849   3.201805  \n3    1.467387   4.264001  \n4    1.807263   5.251630  \n5   68.350023  74.826615  \n6   66.118272  73.109561  \n7   61.094500  68.285615  \n8   58.089000  63.756366  \n9   55.857249  62.039311  \n10  50.833477  57.215365  \n11        NaN        NaN  \n12        NaN        NaN  \n13        NaN        NaN  \n14        NaN        NaN  \n15        NaN        NaN  ",
      "text/html": "<div>\n<style scoped>\n    .dataframe tbody tr th:only-of-type {\n        vertical-align: middle;\n    }\n\n    .dataframe tbody tr th {\n        vertical-align: top;\n    }\n\n    .dataframe thead th {\n        text-align: right;\n    }\n</style>\n<table border=\"1\" class=\"dataframe\">\n  <thead>\n    <tr style=\"text-align: right;\">\n      <th></th>\n      <th>forecast_date</th>\n      <th>target</th>\n      <th>horizon</th>\n      <th>q0.025</th>\n      <th>q0.25</th>\n      <th>q0.5</th>\n      <th>q0.75</th>\n      <th>q0.975</th>\n    </tr>\n  </thead>\n  <tbody>\n    <tr>\n      <th>0</th>\n      <td>2023-11-23</td>\n      <td>DAX</td>\n      <td>1 day</td>\n      <td>-1.704474</td>\n      <td>-0.586567</td>\n      <td>0.000000</td>\n      <td>0.586567</td>\n      <td>1.704474</td>\n    </tr>\n    <tr>\n      <th>1</th>\n      <td>2023-11-24</td>\n      <td>DAX</td>\n      <td>2 day</td>\n      <td>-2.538400</td>\n      <td>-0.873549</td>\n      <td>0.000000</td>\n      <td>0.873549</td>\n      <td>2.538400</td>\n    </tr>\n    <tr>\n      <th>2</th>\n      <td>2023-11-27</td>\n      <td>DAX</td>\n      <td>5 day</td>\n      <td>-3.201805</td>\n      <td>-1.101849</td>\n      <td>0.000000</td>\n      <td>1.101849</td>\n      <td>3.201805</td>\n    </tr>\n    <tr>\n      <th>3</th>\n      <td>2023-11-28</td>\n      <td>DAX</td>\n      <td>6 day</td>\n      <td>-4.264001</td>\n      <td>-1.467387</td>\n      <td>0.000000</td>\n      <td>1.467387</td>\n      <td>4.264001</td>\n    </tr>\n    <tr>\n      <th>4</th>\n      <td>2023-11-29</td>\n      <td>DAX</td>\n      <td>7 day</td>\n      <td>-5.251630</td>\n      <td>-1.807263</td>\n      <td>0.000000</td>\n      <td>1.807263</td>\n      <td>5.251630</td>\n    </tr>\n    <tr>\n      <th>5</th>\n      <td>2023-11-24 12:00:00</td>\n      <td>energy</td>\n      <td>36 hour</td>\n      <td>49.780452</td>\n      <td>59.711653</td>\n      <td>65.078282</td>\n      <td>68.350023</td>\n      <td>74.826615</td>\n    </tr>\n    <tr>\n      <th>6</th>\n      <td>2023-11-24 16:00:00</td>\n      <td>energy</td>\n      <td>40 hour</td>\n      <td>49.772025</td>\n      <td>57.927653</td>\n      <td>62.675497</td>\n      <td>66.118272</td>\n      <td>73.109561</td>\n    </tr>\n    <tr>\n      <th>7</th>\n      <td>2023-11-24 20:00:00</td>\n      <td>energy</td>\n      <td>44 hour</td>\n      <td>47.186092</td>\n      <td>54.170055</td>\n      <td>57.832552</td>\n      <td>61.094500</td>\n      <td>68.285615</td>\n    </tr>\n    <tr>\n      <th>8</th>\n      <td>2023-11-25 12:00:00</td>\n      <td>energy</td>\n      <td>60 hour</td>\n      <td>41.129800</td>\n      <td>50.936517</td>\n      <td>55.292036</td>\n      <td>58.089000</td>\n      <td>63.756366</td>\n    </tr>\n    <tr>\n      <th>9</th>\n      <td>2023-11-25 16:00:00</td>\n      <td>energy</td>\n      <td>64 hour</td>\n      <td>41.121373</td>\n      <td>49.152517</td>\n      <td>52.889251</td>\n      <td>55.857249</td>\n      <td>62.039311</td>\n    </tr>\n    <tr>\n      <th>10</th>\n      <td>2023-11-25 20:00:00</td>\n      <td>energy</td>\n      <td>68 hour</td>\n      <td>38.535440</td>\n      <td>45.394919</td>\n      <td>48.046306</td>\n      <td>50.833477</td>\n      <td>57.215365</td>\n    </tr>\n    <tr>\n      <th>11</th>\n      <td>2023-11-22</td>\n      <td>infections</td>\n      <td>0 week</td>\n      <td>NaN</td>\n      <td>NaN</td>\n      <td>NaN</td>\n      <td>NaN</td>\n      <td>NaN</td>\n    </tr>\n    <tr>\n      <th>12</th>\n      <td>2023-11-22</td>\n      <td>infections</td>\n      <td>1 week</td>\n      <td>NaN</td>\n      <td>NaN</td>\n      <td>NaN</td>\n      <td>NaN</td>\n      <td>NaN</td>\n    </tr>\n    <tr>\n      <th>13</th>\n      <td>2023-11-22</td>\n      <td>infections</td>\n      <td>2 week</td>\n      <td>NaN</td>\n      <td>NaN</td>\n      <td>NaN</td>\n      <td>NaN</td>\n      <td>NaN</td>\n    </tr>\n    <tr>\n      <th>14</th>\n      <td>2023-11-22</td>\n      <td>infections</td>\n      <td>3 week</td>\n      <td>NaN</td>\n      <td>NaN</td>\n      <td>NaN</td>\n      <td>NaN</td>\n      <td>NaN</td>\n    </tr>\n    <tr>\n      <th>15</th>\n      <td>2023-11-22</td>\n      <td>infections</td>\n      <td>4 week</td>\n      <td>NaN</td>\n      <td>NaN</td>\n      <td>NaN</td>\n      <td>NaN</td>\n      <td>NaN</td>\n    </tr>\n  </tbody>\n</table>\n</div>"
     },
     "execution_count": 19,
     "metadata": {},
     "output_type": "execute_result"
    }
   ],
   "source": [
    "forecasts = pd.concat([forecast_dax,forecast_en, forecast_infections]).reset_index().drop(columns=['index'])\n",
    "forecasts"
   ],
   "metadata": {
    "collapsed": false,
    "ExecuteTime": {
     "end_time": "2023-11-28T09:52:12.668689Z",
     "start_time": "2023-11-28T09:52:12.664014Z"
    }
   },
   "id": "9a6cbf31cfef99e2"
  },
  {
   "cell_type": "markdown",
   "source": [
    "If everything seems good: Override forecast_date"
   ],
   "metadata": {
    "collapsed": false
   },
   "id": "d5cac7727b9a5070"
  },
  {
   "cell_type": "code",
   "execution_count": 20,
   "outputs": [],
   "source": [
    "forecasts['forecast_date'] = [start_date.strftime('%Y-%m-%d') for _ in range(len(forecasts))]"
   ],
   "metadata": {
    "collapsed": false,
    "ExecuteTime": {
     "end_time": "2023-11-28T09:52:14.148129Z",
     "start_time": "2023-11-28T09:52:14.138543Z"
    }
   },
   "id": "32de480b970161d"
  },
  {
   "cell_type": "code",
   "execution_count": 21,
   "outputs": [
    {
     "data": {
      "text/plain": "   forecast_date      target  horizon     q0.025      q0.25       q0.5  \\\n0     2023-11-22         DAX    1 day  -1.704474  -0.586567   0.000000   \n1     2023-11-22         DAX    2 day  -2.538400  -0.873549   0.000000   \n2     2023-11-22         DAX    5 day  -3.201805  -1.101849   0.000000   \n3     2023-11-22         DAX    6 day  -4.264001  -1.467387   0.000000   \n4     2023-11-22         DAX    7 day  -5.251630  -1.807263   0.000000   \n5     2023-11-22      energy  36 hour  49.780452  59.711653  65.078282   \n6     2023-11-22      energy  40 hour  49.772025  57.927653  62.675497   \n7     2023-11-22      energy  44 hour  47.186092  54.170055  57.832552   \n8     2023-11-22      energy  60 hour  41.129800  50.936517  55.292036   \n9     2023-11-22      energy  64 hour  41.121373  49.152517  52.889251   \n10    2023-11-22      energy  68 hour  38.535440  45.394919  48.046306   \n11    2023-11-22  infections   0 week        NaN        NaN        NaN   \n12    2023-11-22  infections   1 week        NaN        NaN        NaN   \n13    2023-11-22  infections   2 week        NaN        NaN        NaN   \n14    2023-11-22  infections   3 week        NaN        NaN        NaN   \n15    2023-11-22  infections   4 week        NaN        NaN        NaN   \n\n        q0.75     q0.975  \n0    0.586567   1.704474  \n1    0.873549   2.538400  \n2    1.101849   3.201805  \n3    1.467387   4.264001  \n4    1.807263   5.251630  \n5   68.350023  74.826615  \n6   66.118272  73.109561  \n7   61.094500  68.285615  \n8   58.089000  63.756366  \n9   55.857249  62.039311  \n10  50.833477  57.215365  \n11        NaN        NaN  \n12        NaN        NaN  \n13        NaN        NaN  \n14        NaN        NaN  \n15        NaN        NaN  ",
      "text/html": "<div>\n<style scoped>\n    .dataframe tbody tr th:only-of-type {\n        vertical-align: middle;\n    }\n\n    .dataframe tbody tr th {\n        vertical-align: top;\n    }\n\n    .dataframe thead th {\n        text-align: right;\n    }\n</style>\n<table border=\"1\" class=\"dataframe\">\n  <thead>\n    <tr style=\"text-align: right;\">\n      <th></th>\n      <th>forecast_date</th>\n      <th>target</th>\n      <th>horizon</th>\n      <th>q0.025</th>\n      <th>q0.25</th>\n      <th>q0.5</th>\n      <th>q0.75</th>\n      <th>q0.975</th>\n    </tr>\n  </thead>\n  <tbody>\n    <tr>\n      <th>0</th>\n      <td>2023-11-22</td>\n      <td>DAX</td>\n      <td>1 day</td>\n      <td>-1.704474</td>\n      <td>-0.586567</td>\n      <td>0.000000</td>\n      <td>0.586567</td>\n      <td>1.704474</td>\n    </tr>\n    <tr>\n      <th>1</th>\n      <td>2023-11-22</td>\n      <td>DAX</td>\n      <td>2 day</td>\n      <td>-2.538400</td>\n      <td>-0.873549</td>\n      <td>0.000000</td>\n      <td>0.873549</td>\n      <td>2.538400</td>\n    </tr>\n    <tr>\n      <th>2</th>\n      <td>2023-11-22</td>\n      <td>DAX</td>\n      <td>5 day</td>\n      <td>-3.201805</td>\n      <td>-1.101849</td>\n      <td>0.000000</td>\n      <td>1.101849</td>\n      <td>3.201805</td>\n    </tr>\n    <tr>\n      <th>3</th>\n      <td>2023-11-22</td>\n      <td>DAX</td>\n      <td>6 day</td>\n      <td>-4.264001</td>\n      <td>-1.467387</td>\n      <td>0.000000</td>\n      <td>1.467387</td>\n      <td>4.264001</td>\n    </tr>\n    <tr>\n      <th>4</th>\n      <td>2023-11-22</td>\n      <td>DAX</td>\n      <td>7 day</td>\n      <td>-5.251630</td>\n      <td>-1.807263</td>\n      <td>0.000000</td>\n      <td>1.807263</td>\n      <td>5.251630</td>\n    </tr>\n    <tr>\n      <th>5</th>\n      <td>2023-11-22</td>\n      <td>energy</td>\n      <td>36 hour</td>\n      <td>49.780452</td>\n      <td>59.711653</td>\n      <td>65.078282</td>\n      <td>68.350023</td>\n      <td>74.826615</td>\n    </tr>\n    <tr>\n      <th>6</th>\n      <td>2023-11-22</td>\n      <td>energy</td>\n      <td>40 hour</td>\n      <td>49.772025</td>\n      <td>57.927653</td>\n      <td>62.675497</td>\n      <td>66.118272</td>\n      <td>73.109561</td>\n    </tr>\n    <tr>\n      <th>7</th>\n      <td>2023-11-22</td>\n      <td>energy</td>\n      <td>44 hour</td>\n      <td>47.186092</td>\n      <td>54.170055</td>\n      <td>57.832552</td>\n      <td>61.094500</td>\n      <td>68.285615</td>\n    </tr>\n    <tr>\n      <th>8</th>\n      <td>2023-11-22</td>\n      <td>energy</td>\n      <td>60 hour</td>\n      <td>41.129800</td>\n      <td>50.936517</td>\n      <td>55.292036</td>\n      <td>58.089000</td>\n      <td>63.756366</td>\n    </tr>\n    <tr>\n      <th>9</th>\n      <td>2023-11-22</td>\n      <td>energy</td>\n      <td>64 hour</td>\n      <td>41.121373</td>\n      <td>49.152517</td>\n      <td>52.889251</td>\n      <td>55.857249</td>\n      <td>62.039311</td>\n    </tr>\n    <tr>\n      <th>10</th>\n      <td>2023-11-22</td>\n      <td>energy</td>\n      <td>68 hour</td>\n      <td>38.535440</td>\n      <td>45.394919</td>\n      <td>48.046306</td>\n      <td>50.833477</td>\n      <td>57.215365</td>\n    </tr>\n    <tr>\n      <th>11</th>\n      <td>2023-11-22</td>\n      <td>infections</td>\n      <td>0 week</td>\n      <td>NaN</td>\n      <td>NaN</td>\n      <td>NaN</td>\n      <td>NaN</td>\n      <td>NaN</td>\n    </tr>\n    <tr>\n      <th>12</th>\n      <td>2023-11-22</td>\n      <td>infections</td>\n      <td>1 week</td>\n      <td>NaN</td>\n      <td>NaN</td>\n      <td>NaN</td>\n      <td>NaN</td>\n      <td>NaN</td>\n    </tr>\n    <tr>\n      <th>13</th>\n      <td>2023-11-22</td>\n      <td>infections</td>\n      <td>2 week</td>\n      <td>NaN</td>\n      <td>NaN</td>\n      <td>NaN</td>\n      <td>NaN</td>\n      <td>NaN</td>\n    </tr>\n    <tr>\n      <th>14</th>\n      <td>2023-11-22</td>\n      <td>infections</td>\n      <td>3 week</td>\n      <td>NaN</td>\n      <td>NaN</td>\n      <td>NaN</td>\n      <td>NaN</td>\n      <td>NaN</td>\n    </tr>\n    <tr>\n      <th>15</th>\n      <td>2023-11-22</td>\n      <td>infections</td>\n      <td>4 week</td>\n      <td>NaN</td>\n      <td>NaN</td>\n      <td>NaN</td>\n      <td>NaN</td>\n      <td>NaN</td>\n    </tr>\n  </tbody>\n</table>\n</div>"
     },
     "execution_count": 21,
     "metadata": {},
     "output_type": "execute_result"
    }
   ],
   "source": [
    "forecasts"
   ],
   "metadata": {
    "collapsed": false,
    "ExecuteTime": {
     "end_time": "2023-11-28T09:52:15.235208Z",
     "start_time": "2023-11-28T09:52:15.217667Z"
    }
   },
   "id": "f1a175becc740208"
  },
  {
   "cell_type": "markdown",
   "source": [
    "### Check df & Save csv-File"
   ],
   "metadata": {
    "collapsed": false
   },
   "id": "bd5784a4dab355d8"
  },
  {
   "cell_type": "code",
   "execution_count": 23,
   "outputs": [
    {
     "name": "stdout",
     "output_type": "stream",
     "text": [
      "Start checking...\n",
      "---------------------------\n",
      "Checking the Columns...\n",
      "Checking type of columns...\n",
      "----WARNING: Some elements in q0.025 column are not numeric. This may be fine if you only submit 2 out of 3 targets.\n",
      "\n",
      "----WARNING: Some elements in q0.25 column are not numeric. This may be fine if you only submit 2 out of 3 targets.\n",
      "\n",
      "----WARNING: Some elements in q0.5 column are not numeric. This may be fine if you only submit 2 out of 3 targets.\n",
      "\n",
      "----WARNING: Some elements in q0.75 column are not numeric. This may be fine if you only submit 2 out of 3 targets.\n",
      "\n",
      "----WARNING: Some elements in q0.975 column are not numeric. This may be fine if you only submit 2 out of 3 targets.\n",
      "\n",
      "Checking if the Dates make sense...\n",
      "Checking targets...\n",
      "Checking quantiles...\n",
      "Assume that -- infections -- is your NaN-target. Please DOUBLECHECK if this is correct.\n",
      "---------------------------\n",
      "Looks good!\n"
     ]
    },
    {
     "name": "stderr",
     "output_type": "stream",
     "text": [
      "/Users/elias/Desktop/PTSFC/HelpFunctions/check_submission.py:175: FutureWarning: Series.__setitem__ treating keys as positions is deprecated. In a future version, integer keys will always be treated as labels (consistent with DataFrame behavior). To set a value by position, use `ser.iloc[pos] = value`\n",
      "  diffs[0] = 0\n",
      "/Users/elias/Desktop/PTSFC/HelpFunctions/check_submission.py:175: FutureWarning: Series.__setitem__ treating keys as positions is deprecated. In a future version, integer keys will always be treated as labels (consistent with DataFrame behavior). To set a value by position, use `ser.iloc[pos] = value`\n",
      "  diffs[0] = 0\n",
      "/Users/elias/Desktop/PTSFC/HelpFunctions/check_submission.py:175: FutureWarning: Series.__setitem__ treating keys as positions is deprecated. In a future version, integer keys will always be treated as labels (consistent with DataFrame behavior). To set a value by position, use `ser.iloc[pos] = value`\n",
      "  diffs[0] = 0\n",
      "/Users/elias/Desktop/PTSFC/HelpFunctions/check_submission.py:175: FutureWarning: Series.__setitem__ treating keys as positions is deprecated. In a future version, integer keys will always be treated as labels (consistent with DataFrame behavior). To set a value by position, use `ser.iloc[pos] = value`\n",
      "  diffs[0] = 0\n",
      "/Users/elias/Desktop/PTSFC/HelpFunctions/check_submission.py:175: FutureWarning: Series.__setitem__ treating keys as positions is deprecated. In a future version, integer keys will always be treated as labels (consistent with DataFrame behavior). To set a value by position, use `ser.iloc[pos] = value`\n",
      "  diffs[0] = 0\n",
      "/Users/elias/Desktop/PTSFC/HelpFunctions/check_submission.py:175: FutureWarning: Series.__setitem__ treating keys as positions is deprecated. In a future version, integer keys will always be treated as labels (consistent with DataFrame behavior). To set a value by position, use `ser.iloc[pos] = value`\n",
      "  diffs[0] = 0\n",
      "/Users/elias/Desktop/PTSFC/HelpFunctions/check_submission.py:175: FutureWarning: Series.__setitem__ treating keys as positions is deprecated. In a future version, integer keys will always be treated as labels (consistent with DataFrame behavior). To set a value by position, use `ser.iloc[pos] = value`\n",
      "  diffs[0] = 0\n",
      "/Users/elias/Desktop/PTSFC/HelpFunctions/check_submission.py:175: FutureWarning: Series.__setitem__ treating keys as positions is deprecated. In a future version, integer keys will always be treated as labels (consistent with DataFrame behavior). To set a value by position, use `ser.iloc[pos] = value`\n",
      "  diffs[0] = 0\n",
      "/Users/elias/Desktop/PTSFC/HelpFunctions/check_submission.py:175: FutureWarning: Series.__setitem__ treating keys as positions is deprecated. In a future version, integer keys will always be treated as labels (consistent with DataFrame behavior). To set a value by position, use `ser.iloc[pos] = value`\n",
      "  diffs[0] = 0\n",
      "/Users/elias/Desktop/PTSFC/HelpFunctions/check_submission.py:175: FutureWarning: Series.__setitem__ treating keys as positions is deprecated. In a future version, integer keys will always be treated as labels (consistent with DataFrame behavior). To set a value by position, use `ser.iloc[pos] = value`\n",
      "  diffs[0] = 0\n",
      "/Users/elias/Desktop/PTSFC/HelpFunctions/check_submission.py:175: FutureWarning: Series.__setitem__ treating keys as positions is deprecated. In a future version, integer keys will always be treated as labels (consistent with DataFrame behavior). To set a value by position, use `ser.iloc[pos] = value`\n",
      "  diffs[0] = 0\n"
     ]
    }
   ],
   "source": [
    "from HelpFunctions.check_submission import check_submission_df\n",
    "\n",
    "check_submission_df(forecasts)\n",
    "forecasts.to_csv(f'./Abgaben/{start_date.strftime(\"%Y%m%d\")}_JakePeralta.csv', index=False)"
   ],
   "metadata": {
    "collapsed": false,
    "ExecuteTime": {
     "end_time": "2023-11-28T09:56:40.422840Z",
     "start_time": "2023-11-28T09:56:40.418996Z"
    }
   },
   "id": "47bccebca5a246c1"
  },
  {
   "cell_type": "code",
   "execution_count": null,
   "outputs": [],
   "source": [],
   "metadata": {
    "collapsed": false,
    "ExecuteTime": {
     "start_time": "2023-11-28T09:46:07.853721Z"
    }
   },
   "id": "d30d3456e1371d4b"
  }
 ],
 "metadata": {
  "kernelspec": {
   "display_name": "Python 3",
   "language": "python",
   "name": "python3"
  },
  "language_info": {
   "codemirror_mode": {
    "name": "ipython",
    "version": 2
   },
   "file_extension": ".py",
   "mimetype": "text/x-python",
   "name": "python",
   "nbconvert_exporter": "python",
   "pygments_lexer": "ipython2",
   "version": "2.7.6"
  }
 },
 "nbformat": 4,
 "nbformat_minor": 5
}
