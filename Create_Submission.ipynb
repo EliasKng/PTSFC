{
 "cells": [
  {
   "cell_type": "markdown",
   "source": [
    "# Create Submission File"
   ],
   "metadata": {
    "collapsed": false
   },
   "id": "8c32bd09ca64c40b"
  },
  {
   "cell_type": "markdown",
   "source": [
    "## Imports and get data"
   ],
   "metadata": {
    "collapsed": false
   },
   "id": "14fdcf25ca938883"
  },
  {
   "cell_type": "code",
   "execution_count": 1,
   "outputs": [
    {
     "name": "stderr",
     "output_type": "stream",
     "text": [
      "/Users/elias/Desktop/PTSFC/venv/lib/python3.9/site-packages/urllib3/__init__.py:34: NotOpenSSLWarning: urllib3 v2.0 only supports OpenSSL 1.1.1+, currently the 'ssl' module is compiled with 'LibreSSL 2.8.3'. See: https://github.com/urllib3/urllib3/issues/3020\n",
      "  warnings.warn(\n"
     ]
    }
   ],
   "source": [
    "import pickle\n",
    "import seaborn as sns\n",
    "import matplotlib.pyplot as plt\n",
    "from datetime import timedelta\n",
    "import pandas as pd\n",
    "import numpy as np\n",
    "from HelpFunctions.calc_score import evaluate_horizon\n",
    "from HelpFunctions.mix_models import mix_models\n",
    "from HelpFunctions.date_and_time import most_recent_thursday, split_time\n",
    "\n",
    "from DAX.HelpFunctions.get_dax_data import get_dax_data\n",
    "from DAX.Models import baseline as dax_bl\n",
    "from DAX.Models import garch11 as dax_garch\n",
    "\n",
    "from Energy.HelpFunctions.get_energy_data import get_energy_data, prepare_data\n",
    "from Energy.Models import baseline as en_bl\n",
    "from Energy.Models import Model4_population as en_m4_pop\n",
    "from datetime import datetime\n",
    "import pytz\n",
    "\n",
    "# import importlib\n",
    "# importlib.reload(Energy.Models)\n",
    "\n",
    "# import importlib\n",
    "# importlib.reload(Energy.Models)"
   ],
   "metadata": {
    "collapsed": false,
    "ExecuteTime": {
     "end_time": "2024-02-07T17:42:28.405205Z",
     "start_time": "2024-02-07T17:42:25.721543Z"
    }
   },
   "id": "c30798cf9e7795b4"
  },
  {
   "cell_type": "markdown",
   "source": [
    "### DAX: Get and prepare Data\n",
    "Use tuesday as last datapoint"
   ],
   "metadata": {
    "collapsed": false
   },
   "id": "a5a087de7041bd86"
  },
  {
   "cell_type": "code",
   "execution_count": 23,
   "outputs": [],
   "source": [
    "# Insert Date of Wednesday (forecast-day) here. The current day has to be wednesday!!\n",
    "start_date = datetime(2024, 2, 7, 14, 0, 0)\n",
    "assert start_date.weekday() == 2"
   ],
   "metadata": {
    "collapsed": false,
    "ExecuteTime": {
     "end_time": "2024-02-07T17:48:54.777027Z",
     "start_time": "2024-02-07T17:48:54.763746Z"
    }
   },
   "id": "fe12d8b274c080da"
  },
  {
   "cell_type": "code",
   "execution_count": 15,
   "outputs": [],
   "source": [
    "df_dax = get_dax_data()\n",
    "# pretend_start_date = date(2023, 11, 22, 11, 00, 0, tzinfo=pytz.timezone('Europe/Berlin'))\n",
    "\n",
    "df_dax = df_dax[df_dax.index.date <= start_date.date()]"
   ],
   "metadata": {
    "collapsed": false,
    "ExecuteTime": {
     "end_time": "2024-02-07T17:46:58.257972Z",
     "start_time": "2024-02-07T17:46:57.989506Z"
    }
   },
   "id": "ae761a7c6fa93c50"
  },
  {
   "cell_type": "code",
   "execution_count": 11,
   "outputs": [
    {
     "data": {
      "text/plain": "                                  Close      ret1      ret2      ret3  \\\nDate                                                                    \n2024-02-01 00:00:00+01:00  16859.039062 -0.264911 -0.669800 -0.489173   \n2024-02-02 00:00:00+01:00  16918.210938  0.350366  0.085454 -0.319434   \n2024-02-05 00:00:00+01:00  16904.060547 -0.083675  0.266691  0.001779   \n2024-02-06 00:00:00+01:00  17033.240234  0.761288  0.677613  1.027979   \n2024-02-07 00:00:00+01:00  16921.960938 -0.655450  0.105838  0.022163   \n\n                               ret4      ret5  \nDate                                           \n2024-02-01 00:00:00+01:00 -0.605267 -0.283605  \n2024-02-02 00:00:00+01:00 -0.138807 -0.254901  \n2024-02-05 00:00:00+01:00 -0.403109 -0.222482  \n2024-02-06 00:00:00+01:00  0.763067  0.358179  \n2024-02-07 00:00:00+01:00  0.372529  0.107617  ",
      "text/html": "<div>\n<style scoped>\n    .dataframe tbody tr th:only-of-type {\n        vertical-align: middle;\n    }\n\n    .dataframe tbody tr th {\n        vertical-align: top;\n    }\n\n    .dataframe thead th {\n        text-align: right;\n    }\n</style>\n<table border=\"1\" class=\"dataframe\">\n  <thead>\n    <tr style=\"text-align: right;\">\n      <th></th>\n      <th>Close</th>\n      <th>ret1</th>\n      <th>ret2</th>\n      <th>ret3</th>\n      <th>ret4</th>\n      <th>ret5</th>\n    </tr>\n    <tr>\n      <th>Date</th>\n      <th></th>\n      <th></th>\n      <th></th>\n      <th></th>\n      <th></th>\n      <th></th>\n    </tr>\n  </thead>\n  <tbody>\n    <tr>\n      <th>2024-02-01 00:00:00+01:00</th>\n      <td>16859.039062</td>\n      <td>-0.264911</td>\n      <td>-0.669800</td>\n      <td>-0.489173</td>\n      <td>-0.605267</td>\n      <td>-0.283605</td>\n    </tr>\n    <tr>\n      <th>2024-02-02 00:00:00+01:00</th>\n      <td>16918.210938</td>\n      <td>0.350366</td>\n      <td>0.085454</td>\n      <td>-0.319434</td>\n      <td>-0.138807</td>\n      <td>-0.254901</td>\n    </tr>\n    <tr>\n      <th>2024-02-05 00:00:00+01:00</th>\n      <td>16904.060547</td>\n      <td>-0.083675</td>\n      <td>0.266691</td>\n      <td>0.001779</td>\n      <td>-0.403109</td>\n      <td>-0.222482</td>\n    </tr>\n    <tr>\n      <th>2024-02-06 00:00:00+01:00</th>\n      <td>17033.240234</td>\n      <td>0.761288</td>\n      <td>0.677613</td>\n      <td>1.027979</td>\n      <td>0.763067</td>\n      <td>0.358179</td>\n    </tr>\n    <tr>\n      <th>2024-02-07 00:00:00+01:00</th>\n      <td>16921.960938</td>\n      <td>-0.655450</td>\n      <td>0.105838</td>\n      <td>0.022163</td>\n      <td>0.372529</td>\n      <td>0.107617</td>\n    </tr>\n  </tbody>\n</table>\n</div>"
     },
     "execution_count": 11,
     "metadata": {},
     "output_type": "execute_result"
    }
   ],
   "source": [
    "df_dax.tail()"
   ],
   "metadata": {
    "collapsed": false,
    "ExecuteTime": {
     "end_time": "2024-02-07T17:46:39.044707Z",
     "start_time": "2024-02-07T17:46:39.041476Z"
    }
   },
   "id": "92645117f2cf725e"
  },
  {
   "cell_type": "markdown",
   "source": [
    "### Energy: Get and prepare Data"
   ],
   "metadata": {
    "collapsed": false
   },
   "id": "68351dfe67b07c44"
  },
  {
   "cell_type": "code",
   "execution_count": 5,
   "outputs": [
    {
     "name": "stderr",
     "output_type": "stream",
     "text": [
      "  0%|          | 0/268 [00:00<?, ?it/s]/Users/elias/Desktop/PTSFC/Energy/HelpFunctions/get_energy_data.py:54: FutureWarning: The behavior of DataFrame concatenation with empty or all-NA entries is deprecated. In a future version, this will no longer exclude empty or all-NA columns when determining the result dtypes. To retain the old behavior, exclude the relevant entries before the concat operation.\n",
      "  energydata = pd.concat([energydata, pd.DataFrame(rawdata, columns=col_names)])\n",
      "100%|██████████| 268/268 [00:51<00:00,  5.22it/s]\n"
     ]
    }
   ],
   "source": [
    "from Energy.HelpFunctions.get_energy_data import fetch_energy_data\n",
    "fetch_energy_data()"
   ],
   "metadata": {
    "collapsed": false,
    "ExecuteTime": {
     "end_time": "2024-02-07T17:43:44.160349Z",
     "start_time": "2024-02-07T17:42:52.541688Z"
    }
   },
   "id": "616a683b3b913537"
  },
  {
   "cell_type": "code",
   "execution_count": 7,
   "outputs": [
    {
     "data": {
      "text/plain": "                       gesamt\ndate_time                    \n2024-02-03 14:00:00  56.16325\n2024-02-03 15:00:00  55.49975\n2024-02-03 16:00:00  55.98875\n2024-02-03 17:00:00  58.95075\n2024-02-03 18:00:00  59.93425\n...                       ...\n2024-02-07 13:00:00  69.24350\n2024-02-07 14:00:00  67.47475\n2024-02-07 15:00:00  66.21075\n2024-02-07 16:00:00  65.28950\n2024-02-07 17:00:00  50.36800\n\n[100 rows x 1 columns]",
      "text/html": "<div>\n<style scoped>\n    .dataframe tbody tr th:only-of-type {\n        vertical-align: middle;\n    }\n\n    .dataframe tbody tr th {\n        vertical-align: top;\n    }\n\n    .dataframe thead th {\n        text-align: right;\n    }\n</style>\n<table border=\"1\" class=\"dataframe\">\n  <thead>\n    <tr style=\"text-align: right;\">\n      <th></th>\n      <th>gesamt</th>\n    </tr>\n    <tr>\n      <th>date_time</th>\n      <th></th>\n    </tr>\n  </thead>\n  <tbody>\n    <tr>\n      <th>2024-02-03 14:00:00</th>\n      <td>56.16325</td>\n    </tr>\n    <tr>\n      <th>2024-02-03 15:00:00</th>\n      <td>55.49975</td>\n    </tr>\n    <tr>\n      <th>2024-02-03 16:00:00</th>\n      <td>55.98875</td>\n    </tr>\n    <tr>\n      <th>2024-02-03 17:00:00</th>\n      <td>58.95075</td>\n    </tr>\n    <tr>\n      <th>2024-02-03 18:00:00</th>\n      <td>59.93425</td>\n    </tr>\n    <tr>\n      <th>...</th>\n      <td>...</td>\n    </tr>\n    <tr>\n      <th>2024-02-07 13:00:00</th>\n      <td>69.24350</td>\n    </tr>\n    <tr>\n      <th>2024-02-07 14:00:00</th>\n      <td>67.47475</td>\n    </tr>\n    <tr>\n      <th>2024-02-07 15:00:00</th>\n      <td>66.21075</td>\n    </tr>\n    <tr>\n      <th>2024-02-07 16:00:00</th>\n      <td>65.28950</td>\n    </tr>\n    <tr>\n      <th>2024-02-07 17:00:00</th>\n      <td>50.36800</td>\n    </tr>\n  </tbody>\n</table>\n<p>100 rows × 1 columns</p>\n</div>"
     },
     "execution_count": 7,
     "metadata": {},
     "output_type": "execute_result"
    }
   ],
   "source": [
    "df_en = get_energy_data(force_return=True)\n",
    "df_en = prepare_data(df_en)\n",
    "df_en.tail(100)"
   ],
   "metadata": {
    "collapsed": false,
    "ExecuteTime": {
     "end_time": "2024-02-07T17:44:11.385229Z",
     "start_time": "2024-02-07T17:44:11.353042Z"
    }
   },
   "id": "e449dea409e6e931"
  },
  {
   "cell_type": "code",
   "execution_count": 24,
   "outputs": [],
   "source": [
    "df_en = df_en.loc[df_en.index <= start_date]"
   ],
   "metadata": {
    "collapsed": false,
    "ExecuteTime": {
     "end_time": "2024-02-07T17:48:59.295044Z",
     "start_time": "2024-02-07T17:48:59.289212Z"
    }
   },
   "id": "3ce91a690ad2cdc5"
  },
  {
   "cell_type": "code",
   "execution_count": 21,
   "outputs": [],
   "source": [
    "df_en = df_en[:-6]"
   ],
   "metadata": {
    "collapsed": false,
    "ExecuteTime": {
     "end_time": "2024-01-31T15:18:55.312360Z",
     "start_time": "2024-01-31T15:18:55.295779Z"
    }
   },
   "id": "84f660aab898533d"
  },
  {
   "cell_type": "code",
   "execution_count": 18,
   "outputs": [
    {
     "data": {
      "text/plain": "<Axes: xlabel='date_time'>"
     },
     "execution_count": 18,
     "metadata": {},
     "output_type": "execute_result"
    },
    {
     "data": {
      "text/plain": "<Figure size 640x480 with 1 Axes>",
      "image/png": "[encoded data removed]"
     },
     "metadata": {},
     "output_type": "display_data"
    }
   ],
   "source": [
    "df_en.tail(100).plot()"
   ],
   "metadata": {
    "collapsed": false,
    "ExecuteTime": {
     "end_time": "2024-02-07T17:47:37.374560Z",
     "start_time": "2024-02-07T17:47:37.262249Z"
    }
   },
   "id": "f2de4a0cdb6fbc97"
  },
  {
   "cell_type": "code",
   "execution_count": 19,
   "outputs": [],
   "source": [
    "# Check if still required next week ...\n",
    "# df_en.loc['2024-01-17 16:00:00', 'gesamt'] = (df_en.loc['2024-01-17 15:00:00', 'gesamt'] +df_en.loc['2024-01-17 17:00:00', 'gesamt'])/2\n",
    "# df_en.tail()"
   ],
   "metadata": {
    "collapsed": false,
    "ExecuteTime": {
     "end_time": "2024-02-07T17:47:58.902418Z",
     "start_time": "2024-02-07T17:47:58.897647Z"
    }
   },
   "id": "9ec8ed6cc58d3ad6"
  },
  {
   "cell_type": "markdown",
   "source": [
    "## Run models for the data"
   ],
   "metadata": {
    "collapsed": false
   },
   "id": "b64db28817cc4bb"
  },
  {
   "cell_type": "markdown",
   "source": [
    "### DAX"
   ],
   "metadata": {
    "collapsed": false
   },
   "id": "61218b68e5a9083d"
  },
  {
   "cell_type": "code",
   "execution_count": 20,
   "outputs": [
    {
     "data": {
      "text/plain": "  forecast_date target horizon    q0.025     q0.25      q0.5     q0.75  \\\n0    2024-02-08    DAX   1 day -1.471075 -0.431829  0.015949  0.486681   \n1    2024-02-09    DAX   2 day -1.805224 -0.562150  0.020280  0.609579   \n2    2024-02-12    DAX   5 day -2.524377 -0.776079  0.037582  0.874236   \n3    2024-02-13    DAX   6 day -2.949666 -0.917584  0.057055  1.047316   \n4    2024-02-14    DAX   7 day -3.046416 -0.911790  0.065832  1.115923   \n\n     q0.975  \n0  1.450788  \n1  1.846146  \n2  2.480208  \n3  2.979706  \n4  3.058655  ",
      "text/html": "<div>\n<style scoped>\n    .dataframe tbody tr th:only-of-type {\n        vertical-align: middle;\n    }\n\n    .dataframe tbody tr th {\n        vertical-align: top;\n    }\n\n    .dataframe thead th {\n        text-align: right;\n    }\n</style>\n<table border=\"1\" class=\"dataframe\">\n  <thead>\n    <tr style=\"text-align: right;\">\n      <th></th>\n      <th>forecast_date</th>\n      <th>target</th>\n      <th>horizon</th>\n      <th>q0.025</th>\n      <th>q0.25</th>\n      <th>q0.5</th>\n      <th>q0.75</th>\n      <th>q0.975</th>\n    </tr>\n  </thead>\n  <tbody>\n    <tr>\n      <th>0</th>\n      <td>2024-02-08</td>\n      <td>DAX</td>\n      <td>1 day</td>\n      <td>-1.471075</td>\n      <td>-0.431829</td>\n      <td>0.015949</td>\n      <td>0.486681</td>\n      <td>1.450788</td>\n    </tr>\n    <tr>\n      <th>1</th>\n      <td>2024-02-09</td>\n      <td>DAX</td>\n      <td>2 day</td>\n      <td>-1.805224</td>\n      <td>-0.562150</td>\n      <td>0.020280</td>\n      <td>0.609579</td>\n      <td>1.846146</td>\n    </tr>\n    <tr>\n      <th>2</th>\n      <td>2024-02-12</td>\n      <td>DAX</td>\n      <td>5 day</td>\n      <td>-2.524377</td>\n      <td>-0.776079</td>\n      <td>0.037582</td>\n      <td>0.874236</td>\n      <td>2.480208</td>\n    </tr>\n    <tr>\n      <th>3</th>\n      <td>2024-02-13</td>\n      <td>DAX</td>\n      <td>6 day</td>\n      <td>-2.949666</td>\n      <td>-0.917584</td>\n      <td>0.057055</td>\n      <td>1.047316</td>\n      <td>2.979706</td>\n    </tr>\n    <tr>\n      <th>4</th>\n      <td>2024-02-14</td>\n      <td>DAX</td>\n      <td>7 day</td>\n      <td>-3.046416</td>\n      <td>-0.911790</td>\n      <td>0.065832</td>\n      <td>1.115923</td>\n      <td>3.058655</td>\n    </tr>\n  </tbody>\n</table>\n</div>"
     },
     "execution_count": 20,
     "metadata": {},
     "output_type": "execute_result"
    }
   ],
   "source": [
    "from DAX.Models import arma_garch_11 as ag\n",
    "from DAX.Models import baseline as bl\n",
    "\n",
    "import importlib\n",
    "importlib.reload(ag)\n",
    "importlib.reload(bl)\n",
    "\n",
    "\n",
    "# dax_bl.baseline(df_dax)\n",
    "# forecast_dax = dax_garch.garch11(df_dax)\n",
    "forecast_dax = mix_models([ag.garch11_norm_1y, bl.baseline_1y], [1,0.5], df_dax, 'DAX')\n",
    "forecast_dax\n"
   ],
   "metadata": {
    "collapsed": false,
    "ExecuteTime": {
     "end_time": "2024-02-07T17:48:06.071045Z",
     "start_time": "2024-02-07T17:48:00.858901Z"
    }
   },
   "id": "742fa6034b59aa97"
  },
  {
   "cell_type": "markdown",
   "source": [
    "### Energy  "
   ],
   "metadata": {
    "collapsed": false
   },
   "id": "a401e8783d00353a"
  },
  {
   "cell_type": "code",
   "execution_count": 27,
   "outputs": [
    {
     "name": "stderr",
     "output_type": "stream",
     "text": [
      "/Users/elias/Desktop/PTSFC/venv/lib/python3.9/site-packages/statsmodels/regression/quantile_regression.py:191: IterationLimitWarning: Maximum number of iterations (1000) reached.\n",
      "  warnings.warn(\"Maximum number of iterations (\" + str(max_iter) +\n"
     ]
    },
    {
     "data": {
      "text/plain": "        forecast_date  target  horizon     q0.025      q0.25       q0.5  \\\n0 2024-02-09 12:00:00  energy  36 hour  57.654474  64.081444  67.540082   \n1 2024-02-09 16:00:00  energy  40 hour  55.170165  60.874453  64.033996   \n2 2024-02-09 20:00:00  energy  44 hour  52.200738  57.218683  59.863792   \n3 2024-02-10 12:00:00  energy  60 hour  48.157139  54.566580  57.560163   \n4 2024-02-10 16:00:00  energy  64 hour  45.835233  51.521992  54.216481   \n5 2024-02-10 20:00:00  energy  68 hour  43.796733  48.797149  50.977203   \n\n       q0.75     q0.975  \n0  69.973334  74.607695  \n1  66.601796  71.260723  \n2  62.327089  67.083828  \n3  59.792278  64.030168  \n4  56.583144  60.845600  \n5  53.239363  57.599630  ",
      "text/html": "<div>\n<style scoped>\n    .dataframe tbody tr th:only-of-type {\n        vertical-align: middle;\n    }\n\n    .dataframe tbody tr th {\n        vertical-align: top;\n    }\n\n    .dataframe thead th {\n        text-align: right;\n    }\n</style>\n<table border=\"1\" class=\"dataframe\">\n  <thead>\n    <tr style=\"text-align: right;\">\n      <th></th>\n      <th>forecast_date</th>\n      <th>target</th>\n      <th>horizon</th>\n      <th>q0.025</th>\n      <th>q0.25</th>\n      <th>q0.5</th>\n      <th>q0.75</th>\n      <th>q0.975</th>\n    </tr>\n  </thead>\n  <tbody>\n    <tr>\n      <th>0</th>\n      <td>2024-02-09 12:00:00</td>\n      <td>energy</td>\n      <td>36 hour</td>\n      <td>57.654474</td>\n      <td>64.081444</td>\n      <td>67.540082</td>\n      <td>69.973334</td>\n      <td>74.607695</td>\n    </tr>\n    <tr>\n      <th>1</th>\n      <td>2024-02-09 16:00:00</td>\n      <td>energy</td>\n      <td>40 hour</td>\n      <td>55.170165</td>\n      <td>60.874453</td>\n      <td>64.033996</td>\n      <td>66.601796</td>\n      <td>71.260723</td>\n    </tr>\n    <tr>\n      <th>2</th>\n      <td>2024-02-09 20:00:00</td>\n      <td>energy</td>\n      <td>44 hour</td>\n      <td>52.200738</td>\n      <td>57.218683</td>\n      <td>59.863792</td>\n      <td>62.327089</td>\n      <td>67.083828</td>\n    </tr>\n    <tr>\n      <th>3</th>\n      <td>2024-02-10 12:00:00</td>\n      <td>energy</td>\n      <td>60 hour</td>\n      <td>48.157139</td>\n      <td>54.566580</td>\n      <td>57.560163</td>\n      <td>59.792278</td>\n      <td>64.030168</td>\n    </tr>\n    <tr>\n      <th>4</th>\n      <td>2024-02-10 16:00:00</td>\n      <td>energy</td>\n      <td>64 hour</td>\n      <td>45.835233</td>\n      <td>51.521992</td>\n      <td>54.216481</td>\n      <td>56.583144</td>\n      <td>60.845600</td>\n    </tr>\n    <tr>\n      <th>5</th>\n      <td>2024-02-10 20:00:00</td>\n      <td>energy</td>\n      <td>68 hour</td>\n      <td>43.796733</td>\n      <td>48.797149</td>\n      <td>50.977203</td>\n      <td>53.239363</td>\n      <td>57.599630</td>\n    </tr>\n  </tbody>\n</table>\n</div>"
     },
     "execution_count": 27,
     "metadata": {},
     "output_type": "execute_result"
    }
   ],
   "source": [
    "from Energy.Models import mstl\n",
    "from Energy.Models.baseline import baseline\n",
    "from HelpFunctions.mix_models import mix_models_per_horizon\n",
    "from Energy.Models.Model4_sunhours import model4_sunhours\n",
    "from Energy.Models.Model4_holidays_2 import model4_holidays_2\n",
    "from Energy.Models.Model4_population import model4_population\n",
    "from Energy.Models import Model5\n",
    "\n",
    "# en_bl.baseline(df_en, LAST_IDX=-1, offset_horizons=11)\n",
    "\n",
    "import importlib\n",
    "importlib.reload(Model5)\n",
    "importlib.reload(mstl)\n",
    "\n",
    "weights_m5_bl_m4_x = [1,1]\n",
    "functions_m5_bl_m4_x = [mstl.mstl, Model5.model5]\n",
    "\n",
    "\n",
    "\n",
    "\n",
    "# forecast_en = en_m4_pop.model4_population(df_en, offset_horizons=15)\n",
    "forecast_en = mix_models(functions_m5_bl_m4_x, weights_m5_bl_m4_x, df_en, target=\"energy\", offset_horizons=9)\n",
    "forecast_en"
   ],
   "metadata": {
    "collapsed": false,
    "ExecuteTime": {
     "end_time": "2024-02-07T17:49:43.798885Z",
     "start_time": "2024-02-07T17:49:33.336851Z"
    }
   },
   "id": "27c1531489976aa4"
  },
  {
   "cell_type": "code",
   "execution_count": 28,
   "outputs": [
    {
     "data": {
      "text/plain": "<Figure size 640x480 with 1 Axes>",
      "image/png": "[encoded data removed]"
     },
     "metadata": {},
     "output_type": "display_data"
    }
   ],
   "source": [
    "plot_df = forecast_en.copy() \\\n",
    "    .set_index('forecast_date')['q0.5']\n",
    "plt.plot(df_en[-100:])\n",
    "plt.plot(plot_df)\n",
    "plt.xticks(rotation=45)\n",
    "plt.show()"
   ],
   "metadata": {
    "collapsed": false,
    "ExecuteTime": {
     "end_time": "2024-02-07T17:49:43.954596Z",
     "start_time": "2024-02-07T17:49:43.804777Z"
    }
   },
   "id": "c62f14f82b884bf8"
  },
  {
   "cell_type": "markdown",
   "source": [
    "### Infections"
   ],
   "metadata": {
    "collapsed": false
   },
   "id": "105bec481fe1b70e"
  },
  {
   "cell_type": "code",
   "execution_count": 29,
   "outputs": [],
   "source": [
    "forecast_infections = {\n",
    "    'forecast_date': [start_date.strftime('%Y-%m-%d')] * 5,\n",
    "    'target': ['infections'] * 5,\n",
    "    'horizon': ['0 week', '1 week', '2 week', '3 week', '4 week'],\n",
    "    # 'q0.025': ['NA'] * 5,\n",
    "    # 'q0.25': ['NA'] * 5,\n",
    "    # 'q0.5': ['NA'] * 5,\n",
    "    # 'q0.75': ['NA'] * 5,\n",
    "    # 'q0.975': ['NA'] * 5,\n",
    "    'q0.025': [np.nan] * 5,\n",
    "    'q0.25': [np.nan] * 5,\n",
    "    'q0.5': [np.nan] * 5,\n",
    "    'q0.75': [np.nan] * 5,\n",
    "    'q0.975': [np.nan] * 5\n",
    "}\n",
    "\n",
    "forecast_infections = pd.DataFrame(forecast_infections)"
   ],
   "metadata": {
    "collapsed": false,
    "ExecuteTime": {
     "end_time": "2024-02-07T17:50:00.851771Z",
     "start_time": "2024-02-07T17:50:00.846205Z"
    }
   },
   "id": "5a3873d90a18c7fb"
  },
  {
   "cell_type": "code",
   "execution_count": 30,
   "outputs": [
    {
     "data": {
      "text/plain": "  forecast_date      target horizon  q0.025  q0.25  q0.5  q0.75  q0.975\n0    2024-02-07  infections  0 week     NaN    NaN   NaN    NaN     NaN\n1    2024-02-07  infections  1 week     NaN    NaN   NaN    NaN     NaN\n2    2024-02-07  infections  2 week     NaN    NaN   NaN    NaN     NaN\n3    2024-02-07  infections  3 week     NaN    NaN   NaN    NaN     NaN\n4    2024-02-07  infections  4 week     NaN    NaN   NaN    NaN     NaN",
      "text/html": "<div>\n<style scoped>\n    .dataframe tbody tr th:only-of-type {\n        vertical-align: middle;\n    }\n\n    .dataframe tbody tr th {\n        vertical-align: top;\n    }\n\n    .dataframe thead th {\n        text-align: right;\n    }\n</style>\n<table border=\"1\" class=\"dataframe\">\n  <thead>\n    <tr style=\"text-align: right;\">\n      <th></th>\n      <th>forecast_date</th>\n      <th>target</th>\n      <th>horizon</th>\n      <th>q0.025</th>\n      <th>q0.25</th>\n      <th>q0.5</th>\n      <th>q0.75</th>\n      <th>q0.975</th>\n    </tr>\n  </thead>\n  <tbody>\n    <tr>\n      <th>0</th>\n      <td>2024-02-07</td>\n      <td>infections</td>\n      <td>0 week</td>\n      <td>NaN</td>\n      <td>NaN</td>\n      <td>NaN</td>\n      <td>NaN</td>\n      <td>NaN</td>\n    </tr>\n    <tr>\n      <th>1</th>\n      <td>2024-02-07</td>\n      <td>infections</td>\n      <td>1 week</td>\n      <td>NaN</td>\n      <td>NaN</td>\n      <td>NaN</td>\n      <td>NaN</td>\n      <td>NaN</td>\n    </tr>\n    <tr>\n      <th>2</th>\n      <td>2024-02-07</td>\n      <td>infections</td>\n      <td>2 week</td>\n      <td>NaN</td>\n      <td>NaN</td>\n      <td>NaN</td>\n      <td>NaN</td>\n      <td>NaN</td>\n    </tr>\n    <tr>\n      <th>3</th>\n      <td>2024-02-07</td>\n      <td>infections</td>\n      <td>3 week</td>\n      <td>NaN</td>\n      <td>NaN</td>\n      <td>NaN</td>\n      <td>NaN</td>\n      <td>NaN</td>\n    </tr>\n    <tr>\n      <th>4</th>\n      <td>2024-02-07</td>\n      <td>infections</td>\n      <td>4 week</td>\n      <td>NaN</td>\n      <td>NaN</td>\n      <td>NaN</td>\n      <td>NaN</td>\n      <td>NaN</td>\n    </tr>\n  </tbody>\n</table>\n</div>"
     },
     "execution_count": 30,
     "metadata": {},
     "output_type": "execute_result"
    }
   ],
   "source": [
    "forecast_infections"
   ],
   "metadata": {
    "collapsed": false,
    "ExecuteTime": {
     "end_time": "2024-02-07T17:50:13.451312Z",
     "start_time": "2024-02-07T17:50:13.447079Z"
    }
   },
   "id": "7d5811c34b25292f"
  },
  {
   "cell_type": "markdown",
   "source": [
    "## Merge results\n",
    "\n",
    "Check results: Are they valid, forecast_date is right? The last entry might be cut off"
   ],
   "metadata": {
    "collapsed": false
   },
   "id": "a0f6402def6f6bb4"
  },
  {
   "cell_type": "code",
   "execution_count": 31,
   "outputs": [
    {
     "data": {
      "text/plain": "          forecast_date      target  horizon     q0.025      q0.25       q0.5  \\\n0            2024-02-08         DAX    1 day  -1.471075  -0.431829   0.015949   \n1            2024-02-09         DAX    2 day  -1.805224  -0.562150   0.020280   \n2            2024-02-12         DAX    5 day  -2.524377  -0.776079   0.037582   \n3            2024-02-13         DAX    6 day  -2.949666  -0.917584   0.057055   \n4            2024-02-14         DAX    7 day  -3.046416  -0.911790   0.065832   \n5   2024-02-09 12:00:00      energy  36 hour  57.654474  64.081444  67.540082   \n6   2024-02-09 16:00:00      energy  40 hour  55.170165  60.874453  64.033996   \n7   2024-02-09 20:00:00      energy  44 hour  52.200738  57.218683  59.863792   \n8   2024-02-10 12:00:00      energy  60 hour  48.157139  54.566580  57.560163   \n9   2024-02-10 16:00:00      energy  64 hour  45.835233  51.521992  54.216481   \n10  2024-02-10 20:00:00      energy  68 hour  43.796733  48.797149  50.977203   \n11           2024-02-07  infections   0 week        NaN        NaN        NaN   \n12           2024-02-07  infections   1 week        NaN        NaN        NaN   \n13           2024-02-07  infections   2 week        NaN        NaN        NaN   \n14           2024-02-07  infections   3 week        NaN        NaN        NaN   \n15           2024-02-07  infections   4 week        NaN        NaN        NaN   \n\n        q0.75     q0.975  \n0    0.486681   1.450788  \n1    0.609579   1.846146  \n2    0.874236   2.480208  \n3    1.047316   2.979706  \n4    1.115923   3.058655  \n5   69.973334  74.607695  \n6   66.601796  71.260723  \n7   62.327089  67.083828  \n8   59.792278  64.030168  \n9   56.583144  60.845600  \n10  53.239363  57.599630  \n11        NaN        NaN  \n12        NaN        NaN  \n13        NaN        NaN  \n14        NaN        NaN  \n15        NaN        NaN  ",
      "text/html": "<div>\n<style scoped>\n    .dataframe tbody tr th:only-of-type {\n        vertical-align: middle;\n    }\n\n    .dataframe tbody tr th {\n        vertical-align: top;\n    }\n\n    .dataframe thead th {\n        text-align: right;\n    }\n</style>\n<table border=\"1\" class=\"dataframe\">\n  <thead>\n    <tr style=\"text-align: right;\">\n      <th></th>\n      <th>forecast_date</th>\n      <th>target</th>\n      <th>horizon</th>\n      <th>q0.025</th>\n      <th>q0.25</th>\n      <th>q0.5</th>\n      <th>q0.75</th>\n      <th>q0.975</th>\n    </tr>\n  </thead>\n  <tbody>\n    <tr>\n      <th>0</th>\n      <td>2024-02-08</td>\n      <td>DAX</td>\n      <td>1 day</td>\n      <td>-1.471075</td>\n      <td>-0.431829</td>\n      <td>0.015949</td>\n      <td>0.486681</td>\n      <td>1.450788</td>\n    </tr>\n    <tr>\n      <th>1</th>\n      <td>2024-02-09</td>\n      <td>DAX</td>\n      <td>2 day</td>\n      <td>-1.805224</td>\n      <td>-0.562150</td>\n      <td>0.020280</td>\n      <td>0.609579</td>\n      <td>1.846146</td>\n    </tr>\n    <tr>\n      <th>2</th>\n      <td>2024-02-12</td>\n      <td>DAX</td>\n      <td>5 day</td>\n      <td>-2.524377</td>\n      <td>-0.776079</td>\n      <td>0.037582</td>\n      <td>0.874236</td>\n      <td>2.480208</td>\n    </tr>\n    <tr>\n      <th>3</th>\n      <td>2024-02-13</td>\n      <td>DAX</td>\n      <td>6 day</td>\n      <td>-2.949666</td>\n      <td>-0.917584</td>\n      <td>0.057055</td>\n      <td>1.047316</td>\n      <td>2.979706</td>\n    </tr>\n    <tr>\n      <th>4</th>\n      <td>2024-02-14</td>\n      <td>DAX</td>\n      <td>7 day</td>\n      <td>-3.046416</td>\n      <td>-0.911790</td>\n      <td>0.065832</td>\n      <td>1.115923</td>\n      <td>3.058655</td>\n    </tr>\n    <tr>\n      <th>5</th>\n      <td>2024-02-09 12:00:00</td>\n      <td>energy</td>\n      <td>36 hour</td>\n      <td>57.654474</td>\n      <td>64.081444</td>\n      <td>67.540082</td>\n      <td>69.973334</td>\n      <td>74.607695</td>\n    </tr>\n    <tr>\n      <th>6</th>\n      <td>2024-02-09 16:00:00</td>\n      <td>energy</td>\n      <td>40 hour</td>\n      <td>55.170165</td>\n      <td>60.874453</td>\n      <td>64.033996</td>\n      <td>66.601796</td>\n      <td>71.260723</td>\n    </tr>\n    <tr>\n      <th>7</th>\n      <td>2024-02-09 20:00:00</td>\n      <td>energy</td>\n      <td>44 hour</td>\n      <td>52.200738</td>\n      <td>57.218683</td>\n      <td>59.863792</td>\n      <td>62.327089</td>\n      <td>67.083828</td>\n    </tr>\n    <tr>\n      <th>8</th>\n      <td>2024-02-10 12:00:00</td>\n      <td>energy</td>\n      <td>60 hour</td>\n      <td>48.157139</td>\n      <td>54.566580</td>\n      <td>57.560163</td>\n      <td>59.792278</td>\n      <td>64.030168</td>\n    </tr>\n    <tr>\n      <th>9</th>\n      <td>2024-02-10 16:00:00</td>\n      <td>energy</td>\n      <td>64 hour</td>\n      <td>45.835233</td>\n      <td>51.521992</td>\n      <td>54.216481</td>\n      <td>56.583144</td>\n      <td>60.845600</td>\n    </tr>\n    <tr>\n      <th>10</th>\n      <td>2024-02-10 20:00:00</td>\n      <td>energy</td>\n      <td>68 hour</td>\n      <td>43.796733</td>\n      <td>48.797149</td>\n      <td>50.977203</td>\n      <td>53.239363</td>\n      <td>57.599630</td>\n    </tr>\n    <tr>\n      <th>11</th>\n      <td>2024-02-07</td>\n      <td>infections</td>\n      <td>0 week</td>\n      <td>NaN</td>\n      <td>NaN</td>\n      <td>NaN</td>\n      <td>NaN</td>\n      <td>NaN</td>\n    </tr>\n    <tr>\n      <th>12</th>\n      <td>2024-02-07</td>\n      <td>infections</td>\n      <td>1 week</td>\n      <td>NaN</td>\n      <td>NaN</td>\n      <td>NaN</td>\n      <td>NaN</td>\n      <td>NaN</td>\n    </tr>\n    <tr>\n      <th>13</th>\n      <td>2024-02-07</td>\n      <td>infections</td>\n      <td>2 week</td>\n      <td>NaN</td>\n      <td>NaN</td>\n      <td>NaN</td>\n      <td>NaN</td>\n      <td>NaN</td>\n    </tr>\n    <tr>\n      <th>14</th>\n      <td>2024-02-07</td>\n      <td>infections</td>\n      <td>3 week</td>\n      <td>NaN</td>\n      <td>NaN</td>\n      <td>NaN</td>\n      <td>NaN</td>\n      <td>NaN</td>\n    </tr>\n    <tr>\n      <th>15</th>\n      <td>2024-02-07</td>\n      <td>infections</td>\n      <td>4 week</td>\n      <td>NaN</td>\n      <td>NaN</td>\n      <td>NaN</td>\n      <td>NaN</td>\n      <td>NaN</td>\n    </tr>\n  </tbody>\n</table>\n</div>"
     },
     "execution_count": 31,
     "metadata": {},
     "output_type": "execute_result"
    }
   ],
   "source": [
    "forecasts = pd.concat([forecast_dax,forecast_en, forecast_infections]).reset_index().drop(columns=['index'])\n",
    "forecasts"
   ],
   "metadata": {
    "collapsed": false,
    "ExecuteTime": {
     "end_time": "2024-02-07T17:50:23.244942Z",
     "start_time": "2024-02-07T17:50:23.237915Z"
    }
   },
   "id": "9a6cbf31cfef99e2"
  },
  {
   "cell_type": "markdown",
   "source": [
    "If everything seems good: Override forecast_date"
   ],
   "metadata": {
    "collapsed": false
   },
   "id": "d5cac7727b9a5070"
  },
  {
   "cell_type": "code",
   "execution_count": 32,
   "outputs": [],
   "source": [
    "forecasts['forecast_date'] = [start_date.strftime('%Y-%m-%d') for _ in range(len(forecasts))]"
   ],
   "metadata": {
    "collapsed": false,
    "ExecuteTime": {
     "end_time": "2024-02-07T17:50:31.464386Z",
     "start_time": "2024-02-07T17:50:31.457827Z"
    }
   },
   "id": "32de480b970161d"
  },
  {
   "cell_type": "code",
   "execution_count": 33,
   "outputs": [
    {
     "data": {
      "text/plain": "   forecast_date      target  horizon     q0.025      q0.25       q0.5  \\\n0     2024-02-07         DAX    1 day  -1.471075  -0.431829   0.015949   \n1     2024-02-07         DAX    2 day  -1.805224  -0.562150   0.020280   \n2     2024-02-07         DAX    5 day  -2.524377  -0.776079   0.037582   \n3     2024-02-07         DAX    6 day  -2.949666  -0.917584   0.057055   \n4     2024-02-07         DAX    7 day  -3.046416  -0.911790   0.065832   \n5     2024-02-07      energy  36 hour  57.654474  64.081444  67.540082   \n6     2024-02-07      energy  40 hour  55.170165  60.874453  64.033996   \n7     2024-02-07      energy  44 hour  52.200738  57.218683  59.863792   \n8     2024-02-07      energy  60 hour  48.157139  54.566580  57.560163   \n9     2024-02-07      energy  64 hour  45.835233  51.521992  54.216481   \n10    2024-02-07      energy  68 hour  43.796733  48.797149  50.977203   \n11    2024-02-07  infections   0 week        NaN        NaN        NaN   \n12    2024-02-07  infections   1 week        NaN        NaN        NaN   \n13    2024-02-07  infections   2 week        NaN        NaN        NaN   \n14    2024-02-07  infections   3 week        NaN        NaN        NaN   \n15    2024-02-07  infections   4 week        NaN        NaN        NaN   \n\n        q0.75     q0.975  \n0    0.486681   1.450788  \n1    0.609579   1.846146  \n2    0.874236   2.480208  \n3    1.047316   2.979706  \n4    1.115923   3.058655  \n5   69.973334  74.607695  \n6   66.601796  71.260723  \n7   62.327089  67.083828  \n8   59.792278  64.030168  \n9   56.583144  60.845600  \n10  53.239363  57.599630  \n11        NaN        NaN  \n12        NaN        NaN  \n13        NaN        NaN  \n14        NaN        NaN  \n15        NaN        NaN  ",
      "text/html": "<div>\n<style scoped>\n    .dataframe tbody tr th:only-of-type {\n        vertical-align: middle;\n    }\n\n    .dataframe tbody tr th {\n        vertical-align: top;\n    }\n\n    .dataframe thead th {\n        text-align: right;\n    }\n</style>\n<table border=\"1\" class=\"dataframe\">\n  <thead>\n    <tr style=\"text-align: right;\">\n      <th></th>\n      <th>forecast_date</th>\n      <th>target</th>\n      <th>horizon</th>\n      <th>q0.025</th>\n      <th>q0.25</th>\n      <th>q0.5</th>\n      <th>q0.75</th>\n      <th>q0.975</th>\n    </tr>\n  </thead>\n  <tbody>\n    <tr>\n      <th>0</th>\n      <td>2024-02-07</td>\n      <td>DAX</td>\n      <td>1 day</td>\n      <td>-1.471075</td>\n      <td>-0.431829</td>\n      <td>0.015949</td>\n      <td>0.486681</td>\n      <td>1.450788</td>\n    </tr>\n    <tr>\n      <th>1</th>\n      <td>2024-02-07</td>\n      <td>DAX</td>\n      <td>2 day</td>\n      <td>-1.805224</td>\n      <td>-0.562150</td>\n      <td>0.020280</td>\n      <td>0.609579</td>\n      <td>1.846146</td>\n    </tr>\n    <tr>\n      <th>2</th>\n      <td>2024-02-07</td>\n      <td>DAX</td>\n      <td>5 day</td>\n      <td>-2.524377</td>\n      <td>-0.776079</td>\n      <td>0.037582</td>\n      <td>0.874236</td>\n      <td>2.480208</td>\n    </tr>\n    <tr>\n      <th>3</th>\n      <td>2024-02-07</td>\n      <td>DAX</td>\n      <td>6 day</td>\n      <td>-2.949666</td>\n      <td>-0.917584</td>\n      <td>0.057055</td>\n      <td>1.047316</td>\n      <td>2.979706</td>\n    </tr>\n    <tr>\n      <th>4</th>\n      <td>2024-02-07</td>\n      <td>DAX</td>\n      <td>7 day</td>\n      <td>-3.046416</td>\n      <td>-0.911790</td>\n      <td>0.065832</td>\n      <td>1.115923</td>\n      <td>3.058655</td>\n    </tr>\n    <tr>\n      <th>5</th>\n      <td>2024-02-07</td>\n      <td>energy</td>\n      <td>36 hour</td>\n      <td>57.654474</td>\n      <td>64.081444</td>\n      <td>67.540082</td>\n      <td>69.973334</td>\n      <td>74.607695</td>\n    </tr>\n    <tr>\n      <th>6</th>\n      <td>2024-02-07</td>\n      <td>energy</td>\n      <td>40 hour</td>\n      <td>55.170165</td>\n      <td>60.874453</td>\n      <td>64.033996</td>\n      <td>66.601796</td>\n      <td>71.260723</td>\n    </tr>\n    <tr>\n      <th>7</th>\n      <td>2024-02-07</td>\n      <td>energy</td>\n      <td>44 hour</td>\n      <td>52.200738</td>\n      <td>57.218683</td>\n      <td>59.863792</td>\n      <td>62.327089</td>\n      <td>67.083828</td>\n    </tr>\n    <tr>\n      <th>8</th>\n      <td>2024-02-07</td>\n      <td>energy</td>\n      <td>60 hour</td>\n      <td>48.157139</td>\n      <td>54.566580</td>\n      <td>57.560163</td>\n      <td>59.792278</td>\n      <td>64.030168</td>\n    </tr>\n    <tr>\n      <th>9</th>\n      <td>2024-02-07</td>\n      <td>energy</td>\n      <td>64 hour</td>\n      <td>45.835233</td>\n      <td>51.521992</td>\n      <td>54.216481</td>\n      <td>56.583144</td>\n      <td>60.845600</td>\n    </tr>\n    <tr>\n      <th>10</th>\n      <td>2024-02-07</td>\n      <td>energy</td>\n      <td>68 hour</td>\n      <td>43.796733</td>\n      <td>48.797149</td>\n      <td>50.977203</td>\n      <td>53.239363</td>\n      <td>57.599630</td>\n    </tr>\n    <tr>\n      <th>11</th>\n      <td>2024-02-07</td>\n      <td>infections</td>\n      <td>0 week</td>\n      <td>NaN</td>\n      <td>NaN</td>\n      <td>NaN</td>\n      <td>NaN</td>\n      <td>NaN</td>\n    </tr>\n    <tr>\n      <th>12</th>\n      <td>2024-02-07</td>\n      <td>infections</td>\n      <td>1 week</td>\n      <td>NaN</td>\n      <td>NaN</td>\n      <td>NaN</td>\n      <td>NaN</td>\n      <td>NaN</td>\n    </tr>\n    <tr>\n      <th>13</th>\n      <td>2024-02-07</td>\n      <td>infections</td>\n      <td>2 week</td>\n      <td>NaN</td>\n      <td>NaN</td>\n      <td>NaN</td>\n      <td>NaN</td>\n      <td>NaN</td>\n    </tr>\n    <tr>\n      <th>14</th>\n      <td>2024-02-07</td>\n      <td>infections</td>\n      <td>3 week</td>\n      <td>NaN</td>\n      <td>NaN</td>\n      <td>NaN</td>\n      <td>NaN</td>\n      <td>NaN</td>\n    </tr>\n    <tr>\n      <th>15</th>\n      <td>2024-02-07</td>\n      <td>infections</td>\n      <td>4 week</td>\n      <td>NaN</td>\n      <td>NaN</td>\n      <td>NaN</td>\n      <td>NaN</td>\n      <td>NaN</td>\n    </tr>\n  </tbody>\n</table>\n</div>"
     },
     "execution_count": 33,
     "metadata": {},
     "output_type": "execute_result"
    }
   ],
   "source": [
    "forecasts"
   ],
   "metadata": {
    "collapsed": false,
    "ExecuteTime": {
     "end_time": "2024-02-07T17:50:32.573498Z",
     "start_time": "2024-02-07T17:50:32.564073Z"
    }
   },
   "id": "f1a175becc740208"
  },
  {
   "cell_type": "markdown",
   "source": [
    "### Check df & Save csv-File"
   ],
   "metadata": {
    "collapsed": false
   },
   "id": "bd5784a4dab355d8"
  },
  {
   "cell_type": "code",
   "execution_count": 34,
   "outputs": [
    {
     "name": "stdout",
     "output_type": "stream",
     "text": [
      "Start checking...\n",
      "---------------------------\n",
      "Checking the Columns...\n",
      "Checking type of columns...\n",
      "----WARNING: Some elements in q0.025 column are not numeric. This may be fine if you only submit 2 out of 3 targets.\n",
      "\n",
      "----WARNING: Some elements in q0.25 column are not numeric. This may be fine if you only submit 2 out of 3 targets.\n",
      "\n",
      "----WARNING: Some elements in q0.5 column are not numeric. This may be fine if you only submit 2 out of 3 targets.\n",
      "\n",
      "----WARNING: Some elements in q0.75 column are not numeric. This may be fine if you only submit 2 out of 3 targets.\n",
      "\n",
      "----WARNING: Some elements in q0.975 column are not numeric. This may be fine if you only submit 2 out of 3 targets.\n",
      "\n",
      "Checking if the Dates make sense...\n",
      "Checking targets...\n",
      "Checking quantiles...\n",
      "Assume that -- infections -- is your NaN-target. Please DOUBLECHECK if this is correct.\n",
      "---------------------------\n",
      "Looks good!\n"
     ]
    },
    {
     "name": "stderr",
     "output_type": "stream",
     "text": [
      "/Users/elias/Desktop/PTSFC/HelpFunctions/check_submission.py:175: FutureWarning: Series.__setitem__ treating keys as positions is deprecated. In a future version, integer keys will always be treated as labels (consistent with DataFrame behavior). To set a value by position, use `ser.iloc[pos] = value`\n",
      "  diffs[0] = 0\n",
      "/Users/elias/Desktop/PTSFC/HelpFunctions/check_submission.py:175: FutureWarning: Series.__setitem__ treating keys as positions is deprecated. In a future version, integer keys will always be treated as labels (consistent with DataFrame behavior). To set a value by position, use `ser.iloc[pos] = value`\n",
      "  diffs[0] = 0\n",
      "/Users/elias/Desktop/PTSFC/HelpFunctions/check_submission.py:175: FutureWarning: Series.__setitem__ treating keys as positions is deprecated. In a future version, integer keys will always be treated as labels (consistent with DataFrame behavior). To set a value by position, use `ser.iloc[pos] = value`\n",
      "  diffs[0] = 0\n",
      "/Users/elias/Desktop/PTSFC/HelpFunctions/check_submission.py:175: FutureWarning: Series.__setitem__ treating keys as positions is deprecated. In a future version, integer keys will always be treated as labels (consistent with DataFrame behavior). To set a value by position, use `ser.iloc[pos] = value`\n",
      "  diffs[0] = 0\n",
      "/Users/elias/Desktop/PTSFC/HelpFunctions/check_submission.py:175: FutureWarning: Series.__setitem__ treating keys as positions is deprecated. In a future version, integer keys will always be treated as labels (consistent with DataFrame behavior). To set a value by position, use `ser.iloc[pos] = value`\n",
      "  diffs[0] = 0\n",
      "/Users/elias/Desktop/PTSFC/HelpFunctions/check_submission.py:175: FutureWarning: Series.__setitem__ treating keys as positions is deprecated. In a future version, integer keys will always be treated as labels (consistent with DataFrame behavior). To set a value by position, use `ser.iloc[pos] = value`\n",
      "  diffs[0] = 0\n",
      "/Users/elias/Desktop/PTSFC/HelpFunctions/check_submission.py:175: FutureWarning: Series.__setitem__ treating keys as positions is deprecated. In a future version, integer keys will always be treated as labels (consistent with DataFrame behavior). To set a value by position, use `ser.iloc[pos] = value`\n",
      "  diffs[0] = 0\n",
      "/Users/elias/Desktop/PTSFC/HelpFunctions/check_submission.py:175: FutureWarning: Series.__setitem__ treating keys as positions is deprecated. In a future version, integer keys will always be treated as labels (consistent with DataFrame behavior). To set a value by position, use `ser.iloc[pos] = value`\n",
      "  diffs[0] = 0\n",
      "/Users/elias/Desktop/PTSFC/HelpFunctions/check_submission.py:175: FutureWarning: Series.__setitem__ treating keys as positions is deprecated. In a future version, integer keys will always be treated as labels (consistent with DataFrame behavior). To set a value by position, use `ser.iloc[pos] = value`\n",
      "  diffs[0] = 0\n",
      "/Users/elias/Desktop/PTSFC/HelpFunctions/check_submission.py:175: FutureWarning: Series.__setitem__ treating keys as positions is deprecated. In a future version, integer keys will always be treated as labels (consistent with DataFrame behavior). To set a value by position, use `ser.iloc[pos] = value`\n",
      "  diffs[0] = 0\n",
      "/Users/elias/Desktop/PTSFC/HelpFunctions/check_submission.py:175: FutureWarning: Series.__setitem__ treating keys as positions is deprecated. In a future version, integer keys will always be treated as labels (consistent with DataFrame behavior). To set a value by position, use `ser.iloc[pos] = value`\n",
      "  diffs[0] = 0\n"
     ]
    }
   ],
   "source": [
    "from HelpFunctions.check_submission import check_submission_df\n",
    "\n",
    "check_submission_df(forecasts)\n",
    "forecasts.to_csv(f'./Abgaben/{start_date.strftime(\"%Y%m%d\")}_JakePeralta.csv', na_rep='NA', index=False)"
   ],
   "metadata": {
    "collapsed": false,
    "ExecuteTime": {
     "end_time": "2024-02-07T17:50:40.242105Z",
     "start_time": "2024-02-07T17:50:40.212861Z"
    }
   },
   "id": "47bccebca5a246c1"
  },
  {
   "cell_type": "code",
   "execution_count": null,
   "outputs": [],
   "source": [],
   "metadata": {
    "collapsed": false,
    "is_executing": true
   },
   "id": "d30d3456e1371d4b"
  }
 ],
 "metadata": {
  "kernelspec": {
   "display_name": "Python 3",
   "language": "python",
   "name": "python3"
  },
  "language_info": {
   "codemirror_mode": {
    "name": "ipython",
    "version": 2
   },
   "file_extension": ".py",
   "mimetype": "text/x-python",
   "name": "python",
   "nbconvert_exporter": "python",
   "pygments_lexer": "ipython2",
   "version": "2.7.6"
  }
 },
 "nbformat": 4,
 "nbformat_minor": 5
}
