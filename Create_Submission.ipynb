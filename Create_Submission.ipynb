{
 "cells": [
  {
   "cell_type": "markdown",
   "source": [
    "# Create Submission File"
   ],
   "metadata": {
    "collapsed": false
   },
   "id": "8c32bd09ca64c40b"
  },
  {
   "cell_type": "markdown",
   "source": [
    "## Imports and get data"
   ],
   "metadata": {
    "collapsed": false
   },
   "id": "14fdcf25ca938883"
  },
  {
   "cell_type": "code",
   "execution_count": 1,
   "outputs": [
    {
     "name": "stderr",
     "output_type": "stream",
     "text": [
      "/Users/elias/Desktop/PTSFC/venv/lib/python3.9/site-packages/urllib3/__init__.py:34: NotOpenSSLWarning: urllib3 v2.0 only supports OpenSSL 1.1.1+, currently the 'ssl' module is compiled with 'LibreSSL 2.8.3'. See: https://github.com/urllib3/urllib3/issues/3020\n",
      "  warnings.warn(\n"
     ]
    }
   ],
   "source": [
    "import pickle\n",
    "import seaborn as sns\n",
    "import matplotlib.pyplot as plt\n",
    "from datetime import timedelta\n",
    "import pandas as pd\n",
    "import numpy as np\n",
    "from HelpFunctions.calc_score import evaluate_horizon\n",
    "from HelpFunctions.mix_models import mix_models\n",
    "from HelpFunctions.date_and_time import most_recent_thursday, split_time\n",
    "\n",
    "from DAX.HelpFunctions.get_dax_data import get_dax_data\n",
    "from DAX.Models import baseline as dax_bl\n",
    "from DAX.Models import garch11 as dax_garch\n",
    "\n",
    "from Energy.HelpFunctions.get_energy_data import get_energy_data, prepare_data\n",
    "from Energy.Models import baseline as en_bl\n",
    "from Energy.Models import Model4_population as en_m4_pop\n",
    "from datetime import datetime\n",
    "import pytz\n",
    "\n",
    "# import importlib\n",
    "# importlib.reload(Energy.Models)\n",
    "\n",
    "# import importlib\n",
    "# importlib.reload(Energy.Models)"
   ],
   "metadata": {
    "collapsed": false,
    "ExecuteTime": {
     "end_time": "2023-11-29T11:41:47.933458Z",
     "start_time": "2023-11-29T11:41:47.676055Z"
    }
   },
   "id": "c30798cf9e7795b4"
  },
  {
   "cell_type": "markdown",
   "source": [
    "### DAX: Get and prepare Data\n",
    "Use tuesday as last datapoint"
   ],
   "metadata": {
    "collapsed": false
   },
   "id": "a5a087de7041bd86"
  },
  {
   "cell_type": "code",
   "execution_count": 2,
   "outputs": [],
   "source": [
    "# Insert Date of Wednesday (forecast-day) here. The current day has to be wednesday!!\n",
    "start_date = datetime(2023, 11, 29, 8, 0, 0)"
   ],
   "metadata": {
    "collapsed": false,
    "ExecuteTime": {
     "end_time": "2023-11-29T11:41:47.936837Z",
     "start_time": "2023-11-29T11:41:47.921674Z"
    }
   },
   "id": "fe12d8b274c080da"
  },
  {
   "cell_type": "code",
   "execution_count": 3,
   "outputs": [],
   "source": [
    "df_dax = get_dax_data()\n",
    "# pretend_start_date = date(2023, 11, 22, 11, 00, 0, tzinfo=pytz.timezone('Europe/Berlin'))\n",
    "\n",
    "df_dax = df_dax[df_dax.index.date <= start_date.date()]"
   ],
   "metadata": {
    "collapsed": false,
    "ExecuteTime": {
     "end_time": "2023-11-29T11:41:48.515598Z",
     "start_time": "2023-11-29T11:41:47.924519Z"
    }
   },
   "id": "ae761a7c6fa93c50"
  },
  {
   "cell_type": "code",
   "execution_count": 4,
   "outputs": [
    {
     "data": {
      "text/plain": "                                  Close      ret1      ret2      ret3  \\\nDate                                                                    \n1987-12-30 00:00:00+01:00   1005.190002       NaN       NaN       NaN   \n1988-01-04 00:00:00+01:00    956.489990 -4.966154       NaN       NaN   \n1988-01-05 00:00:00+01:00    996.099976  4.057731 -0.908423       NaN   \n1988-01-06 00:00:00+01:00   1006.010010  0.989967  5.047698  0.081544   \n1988-01-07 00:00:00+01:00   1014.469971  0.837426  1.827393  5.885123   \n...                                 ...       ...       ...       ...   \n2023-11-23 00:00:00+01:00  15994.730469  0.231031  0.590686  0.585656   \n2023-11-24 00:00:00+01:00  16029.490234  0.217084  0.448115  0.807771   \n2023-11-27 00:00:00+01:00  15966.370117 -0.394552 -0.177468  0.053563   \n2023-11-28 00:00:00+01:00  15992.669922  0.164584 -0.229968 -0.012883   \n2023-11-29 00:00:00+01:00  16136.240234  0.893720  1.058305  0.663752   \n\n                               ret4      ret5  \nDate                                           \n1987-12-30 00:00:00+01:00       NaN       NaN  \n1988-01-04 00:00:00+01:00       NaN       NaN  \n1988-01-05 00:00:00+01:00       NaN       NaN  \n1988-01-06 00:00:00+01:00       NaN       NaN  \n1988-01-07 00:00:00+01:00  0.918970       NaN  \n...                             ...       ...  \n2023-11-23 00:00:00+01:00  0.473590  1.309719  \n2023-11-24 00:00:00+01:00  0.802741  0.690674  \n2023-11-27 00:00:00+01:00  0.413218  0.408188  \n2023-11-28 00:00:00+01:00  0.218148  0.577803  \n2023-11-29 00:00:00+01:00  0.880837  1.111868  \n\n[9082 rows x 6 columns]",
      "text/html": "<div>\n<style scoped>\n    .dataframe tbody tr th:only-of-type {\n        vertical-align: middle;\n    }\n\n    .dataframe tbody tr th {\n        vertical-align: top;\n    }\n\n    .dataframe thead th {\n        text-align: right;\n    }\n</style>\n<table border=\"1\" class=\"dataframe\">\n  <thead>\n    <tr style=\"text-align: right;\">\n      <th></th>\n      <th>Close</th>\n      <th>ret1</th>\n      <th>ret2</th>\n      <th>ret3</th>\n      <th>ret4</th>\n      <th>ret5</th>\n    </tr>\n    <tr>\n      <th>Date</th>\n      <th></th>\n      <th></th>\n      <th></th>\n      <th></th>\n      <th></th>\n      <th></th>\n    </tr>\n  </thead>\n  <tbody>\n    <tr>\n      <th>1987-12-30 00:00:00+01:00</th>\n      <td>1005.190002</td>\n      <td>NaN</td>\n      <td>NaN</td>\n      <td>NaN</td>\n      <td>NaN</td>\n      <td>NaN</td>\n    </tr>\n    <tr>\n      <th>1988-01-04 00:00:00+01:00</th>\n      <td>956.489990</td>\n      <td>-4.966154</td>\n      <td>NaN</td>\n      <td>NaN</td>\n      <td>NaN</td>\n      <td>NaN</td>\n    </tr>\n    <tr>\n      <th>1988-01-05 00:00:00+01:00</th>\n      <td>996.099976</td>\n      <td>4.057731</td>\n      <td>-0.908423</td>\n      <td>NaN</td>\n      <td>NaN</td>\n      <td>NaN</td>\n    </tr>\n    <tr>\n      <th>1988-01-06 00:00:00+01:00</th>\n      <td>1006.010010</td>\n      <td>0.989967</td>\n      <td>5.047698</td>\n      <td>0.081544</td>\n      <td>NaN</td>\n      <td>NaN</td>\n    </tr>\n    <tr>\n      <th>1988-01-07 00:00:00+01:00</th>\n      <td>1014.469971</td>\n      <td>0.837426</td>\n      <td>1.827393</td>\n      <td>5.885123</td>\n      <td>0.918970</td>\n      <td>NaN</td>\n    </tr>\n    <tr>\n      <th>...</th>\n      <td>...</td>\n      <td>...</td>\n      <td>...</td>\n      <td>...</td>\n      <td>...</td>\n      <td>...</td>\n    </tr>\n    <tr>\n      <th>2023-11-23 00:00:00+01:00</th>\n      <td>15994.730469</td>\n      <td>0.231031</td>\n      <td>0.590686</td>\n      <td>0.585656</td>\n      <td>0.473590</td>\n      <td>1.309719</td>\n    </tr>\n    <tr>\n      <th>2023-11-24 00:00:00+01:00</th>\n      <td>16029.490234</td>\n      <td>0.217084</td>\n      <td>0.448115</td>\n      <td>0.807771</td>\n      <td>0.802741</td>\n      <td>0.690674</td>\n    </tr>\n    <tr>\n      <th>2023-11-27 00:00:00+01:00</th>\n      <td>15966.370117</td>\n      <td>-0.394552</td>\n      <td>-0.177468</td>\n      <td>0.053563</td>\n      <td>0.413218</td>\n      <td>0.408188</td>\n    </tr>\n    <tr>\n      <th>2023-11-28 00:00:00+01:00</th>\n      <td>15992.669922</td>\n      <td>0.164584</td>\n      <td>-0.229968</td>\n      <td>-0.012883</td>\n      <td>0.218148</td>\n      <td>0.577803</td>\n    </tr>\n    <tr>\n      <th>2023-11-29 00:00:00+01:00</th>\n      <td>16136.240234</td>\n      <td>0.893720</td>\n      <td>1.058305</td>\n      <td>0.663752</td>\n      <td>0.880837</td>\n      <td>1.111868</td>\n    </tr>\n  </tbody>\n</table>\n<p>9082 rows × 6 columns</p>\n</div>"
     },
     "execution_count": 4,
     "metadata": {},
     "output_type": "execute_result"
    }
   ],
   "source": [
    "df_dax"
   ],
   "metadata": {
    "collapsed": false,
    "ExecuteTime": {
     "end_time": "2023-11-29T11:41:48.528386Z",
     "start_time": "2023-11-29T11:41:48.517612Z"
    }
   },
   "id": "92645117f2cf725e"
  },
  {
   "cell_type": "markdown",
   "source": [
    "### Energy: Get and prepare Data"
   ],
   "metadata": {
    "collapsed": false
   },
   "id": "68351dfe67b07c44"
  },
  {
   "cell_type": "code",
   "execution_count": 5,
   "outputs": [],
   "source": [
    "# from Energy.HelpFunctions.get_energy_data import fetch_energy_data\n",
    "# fetch_energy_data()"
   ],
   "metadata": {
    "collapsed": false,
    "ExecuteTime": {
     "end_time": "2023-11-29T11:41:48.528568Z",
     "start_time": "2023-11-29T11:41:48.525790Z"
    }
   },
   "id": "616a683b3b913537"
  },
  {
   "cell_type": "code",
   "execution_count": 6,
   "outputs": [],
   "source": [
    "df_en = get_energy_data(force_return=True)\n",
    "df_en = prepare_data(df_en)"
   ],
   "metadata": {
    "collapsed": false,
    "ExecuteTime": {
     "end_time": "2023-11-29T11:41:48.611763Z",
     "start_time": "2023-11-29T11:41:48.528823Z"
    }
   },
   "id": "b59e1a44bd7c2e8f"
  },
  {
   "cell_type": "code",
   "execution_count": 7,
   "outputs": [],
   "source": [
    "df_en = df_en.loc[df_en.index <= start_date]"
   ],
   "metadata": {
    "collapsed": false,
    "ExecuteTime": {
     "end_time": "2023-11-29T11:41:48.612147Z",
     "start_time": "2023-11-29T11:41:48.594983Z"
    }
   },
   "id": "3ce91a690ad2cdc5"
  },
  {
   "cell_type": "code",
   "execution_count": 8,
   "outputs": [
    {
     "data": {
      "text/plain": "                       gesamt  weekday\ndate_time                             \n2018-12-24 00:00:00  42.02925        0\n2018-12-24 01:00:00  39.61025        0\n2018-12-24 02:00:00  39.13875        0\n2018-12-24 03:00:00  39.42100        0\n2018-12-24 04:00:00  40.74775        0\n...                       ...      ...\n2023-11-29 04:00:00  52.31725        2\n2023-11-29 05:00:00  55.00700        2\n2023-11-29 06:00:00  62.19825        2\n2023-11-29 07:00:00  67.06550        2\n2023-11-29 08:00:00  34.65650        2\n\n[43233 rows x 2 columns]",
      "text/html": "<div>\n<style scoped>\n    .dataframe tbody tr th:only-of-type {\n        vertical-align: middle;\n    }\n\n    .dataframe tbody tr th {\n        vertical-align: top;\n    }\n\n    .dataframe thead th {\n        text-align: right;\n    }\n</style>\n<table border=\"1\" class=\"dataframe\">\n  <thead>\n    <tr style=\"text-align: right;\">\n      <th></th>\n      <th>gesamt</th>\n      <th>weekday</th>\n    </tr>\n    <tr>\n      <th>date_time</th>\n      <th></th>\n      <th></th>\n    </tr>\n  </thead>\n  <tbody>\n    <tr>\n      <th>2018-12-24 00:00:00</th>\n      <td>42.02925</td>\n      <td>0</td>\n    </tr>\n    <tr>\n      <th>2018-12-24 01:00:00</th>\n      <td>39.61025</td>\n      <td>0</td>\n    </tr>\n    <tr>\n      <th>2018-12-24 02:00:00</th>\n      <td>39.13875</td>\n      <td>0</td>\n    </tr>\n    <tr>\n      <th>2018-12-24 03:00:00</th>\n      <td>39.42100</td>\n      <td>0</td>\n    </tr>\n    <tr>\n      <th>2018-12-24 04:00:00</th>\n      <td>40.74775</td>\n      <td>0</td>\n    </tr>\n    <tr>\n      <th>...</th>\n      <td>...</td>\n      <td>...</td>\n    </tr>\n    <tr>\n      <th>2023-11-29 04:00:00</th>\n      <td>52.31725</td>\n      <td>2</td>\n    </tr>\n    <tr>\n      <th>2023-11-29 05:00:00</th>\n      <td>55.00700</td>\n      <td>2</td>\n    </tr>\n    <tr>\n      <th>2023-11-29 06:00:00</th>\n      <td>62.19825</td>\n      <td>2</td>\n    </tr>\n    <tr>\n      <th>2023-11-29 07:00:00</th>\n      <td>67.06550</td>\n      <td>2</td>\n    </tr>\n    <tr>\n      <th>2023-11-29 08:00:00</th>\n      <td>34.65650</td>\n      <td>2</td>\n    </tr>\n  </tbody>\n</table>\n<p>43233 rows × 2 columns</p>\n</div>"
     },
     "execution_count": 8,
     "metadata": {},
     "output_type": "execute_result"
    }
   ],
   "source": [
    "df_en"
   ],
   "metadata": {
    "collapsed": false,
    "ExecuteTime": {
     "end_time": "2023-11-29T11:41:48.612561Z",
     "start_time": "2023-11-29T11:41:48.600661Z"
    }
   },
   "id": "c221e429f2097fc6"
  },
  {
   "cell_type": "markdown",
   "source": [
    "## Run models for the data"
   ],
   "metadata": {
    "collapsed": false
   },
   "id": "b64db28817cc4bb"
  },
  {
   "cell_type": "markdown",
   "source": [
    "### DAX"
   ],
   "metadata": {
    "collapsed": false
   },
   "id": "61218b68e5a9083d"
  },
  {
   "cell_type": "code",
   "execution_count": 9,
   "outputs": [
    {
     "data": {
      "text/plain": "  forecast_date target horizon    q0.025     q0.25      q0.5     q0.75  \\\n0    2023-11-30    DAX   1 day -2.455251 -0.547924  0.033557  0.632592   \n1    2023-12-01    DAX   2 day -3.130767 -0.782713  0.038871  0.870507   \n2    2023-12-04    DAX   5 day -4.007580 -0.930672  0.081452  1.086359   \n3    2023-12-05    DAX   6 day -5.055998 -1.180942  0.100559  1.380627   \n4    2023-12-06    DAX   7 day -5.596188 -1.312663  0.171306  1.564070   \n\n     q0.975  \n0  2.154504  \n1  2.872066  \n2  3.692348  \n3  4.598382  \n4  5.358285  ",
      "text/html": "<div>\n<style scoped>\n    .dataframe tbody tr th:only-of-type {\n        vertical-align: middle;\n    }\n\n    .dataframe tbody tr th {\n        vertical-align: top;\n    }\n\n    .dataframe thead th {\n        text-align: right;\n    }\n</style>\n<table border=\"1\" class=\"dataframe\">\n  <thead>\n    <tr style=\"text-align: right;\">\n      <th></th>\n      <th>forecast_date</th>\n      <th>target</th>\n      <th>horizon</th>\n      <th>q0.025</th>\n      <th>q0.25</th>\n      <th>q0.5</th>\n      <th>q0.75</th>\n      <th>q0.975</th>\n    </tr>\n  </thead>\n  <tbody>\n    <tr>\n      <th>0</th>\n      <td>2023-11-30</td>\n      <td>DAX</td>\n      <td>1 day</td>\n      <td>-2.455251</td>\n      <td>-0.547924</td>\n      <td>0.033557</td>\n      <td>0.632592</td>\n      <td>2.154504</td>\n    </tr>\n    <tr>\n      <th>1</th>\n      <td>2023-12-01</td>\n      <td>DAX</td>\n      <td>2 day</td>\n      <td>-3.130767</td>\n      <td>-0.782713</td>\n      <td>0.038871</td>\n      <td>0.870507</td>\n      <td>2.872066</td>\n    </tr>\n    <tr>\n      <th>2</th>\n      <td>2023-12-04</td>\n      <td>DAX</td>\n      <td>5 day</td>\n      <td>-4.007580</td>\n      <td>-0.930672</td>\n      <td>0.081452</td>\n      <td>1.086359</td>\n      <td>3.692348</td>\n    </tr>\n    <tr>\n      <th>3</th>\n      <td>2023-12-05</td>\n      <td>DAX</td>\n      <td>6 day</td>\n      <td>-5.055998</td>\n      <td>-1.180942</td>\n      <td>0.100559</td>\n      <td>1.380627</td>\n      <td>4.598382</td>\n    </tr>\n    <tr>\n      <th>4</th>\n      <td>2023-12-06</td>\n      <td>DAX</td>\n      <td>7 day</td>\n      <td>-5.596188</td>\n      <td>-1.312663</td>\n      <td>0.171306</td>\n      <td>1.564070</td>\n      <td>5.358285</td>\n    </tr>\n  </tbody>\n</table>\n</div>"
     },
     "execution_count": 9,
     "metadata": {},
     "output_type": "execute_result"
    }
   ],
   "source": [
    "from DAX.Models.baseline import baseline\n",
    "# dax_bl.baseline(df_dax)\n",
    "# forecast_dax = dax_garch.garch11(df_dax)\n",
    "forecast_dax = mix_models([dax_garch.garch11, baseline], [1,1], df_dax, 'DAX')\n",
    "forecast_dax"
   ],
   "metadata": {
    "collapsed": false,
    "ExecuteTime": {
     "end_time": "2023-11-29T11:41:48.730347Z",
     "start_time": "2023-11-29T11:41:48.605709Z"
    }
   },
   "id": "742fa6034b59aa97"
  },
  {
   "cell_type": "markdown",
   "source": [
    "### Energy"
   ],
   "metadata": {
    "collapsed": false
   },
   "id": "a401e8783d00353a"
  },
  {
   "cell_type": "code",
   "execution_count": 10,
   "outputs": [
    {
     "data": {
      "text/plain": "        forecast_date  target  horizon     q0.025      q0.25       q0.5  \\\n0 2023-12-01 12:00:00  energy  36 hour  50.467131  60.497766  66.051668   \n1 2023-12-01 16:00:00  energy  40 hour  50.025403  58.757404  63.646105   \n2 2023-12-01 20:00:00  energy  44 hour  47.654780  54.893569  58.800761   \n3 2023-12-02 12:00:00  energy  60 hour  43.415123  52.010165  56.195260   \n4 2023-12-02 16:00:00  energy  64 hour  42.424454  49.698458  53.552043   \n5 2023-12-02 20:00:00  energy  68 hour  41.852393  46.227110  49.266626   \n\n       q0.75     q0.975  \n0  69.157071  75.901056  \n1  67.067508  73.881302  \n2  62.064985  68.977180  \n3  59.430764  64.503686  \n4  56.876443  62.514251  \n5  52.891458  59.335954  ",
      "text/html": "<div>\n<style scoped>\n    .dataframe tbody tr th:only-of-type {\n        vertical-align: middle;\n    }\n\n    .dataframe tbody tr th {\n        vertical-align: top;\n    }\n\n    .dataframe thead th {\n        text-align: right;\n    }\n</style>\n<table border=\"1\" class=\"dataframe\">\n  <thead>\n    <tr style=\"text-align: right;\">\n      <th></th>\n      <th>forecast_date</th>\n      <th>target</th>\n      <th>horizon</th>\n      <th>q0.025</th>\n      <th>q0.25</th>\n      <th>q0.5</th>\n      <th>q0.75</th>\n      <th>q0.975</th>\n    </tr>\n  </thead>\n  <tbody>\n    <tr>\n      <th>0</th>\n      <td>2023-12-01 12:00:00</td>\n      <td>energy</td>\n      <td>36 hour</td>\n      <td>50.467131</td>\n      <td>60.497766</td>\n      <td>66.051668</td>\n      <td>69.157071</td>\n      <td>75.901056</td>\n    </tr>\n    <tr>\n      <th>1</th>\n      <td>2023-12-01 16:00:00</td>\n      <td>energy</td>\n      <td>40 hour</td>\n      <td>50.025403</td>\n      <td>58.757404</td>\n      <td>63.646105</td>\n      <td>67.067508</td>\n      <td>73.881302</td>\n    </tr>\n    <tr>\n      <th>2</th>\n      <td>2023-12-01 20:00:00</td>\n      <td>energy</td>\n      <td>44 hour</td>\n      <td>47.654780</td>\n      <td>54.893569</td>\n      <td>58.800761</td>\n      <td>62.064985</td>\n      <td>68.977180</td>\n    </tr>\n    <tr>\n      <th>3</th>\n      <td>2023-12-02 12:00:00</td>\n      <td>energy</td>\n      <td>60 hour</td>\n      <td>43.415123</td>\n      <td>52.010165</td>\n      <td>56.195260</td>\n      <td>59.430764</td>\n      <td>64.503686</td>\n    </tr>\n    <tr>\n      <th>4</th>\n      <td>2023-12-02 16:00:00</td>\n      <td>energy</td>\n      <td>64 hour</td>\n      <td>42.424454</td>\n      <td>49.698458</td>\n      <td>53.552043</td>\n      <td>56.876443</td>\n      <td>62.514251</td>\n    </tr>\n    <tr>\n      <th>5</th>\n      <td>2023-12-02 20:00:00</td>\n      <td>energy</td>\n      <td>68 hour</td>\n      <td>41.852393</td>\n      <td>46.227110</td>\n      <td>49.266626</td>\n      <td>52.891458</td>\n      <td>59.335954</td>\n    </tr>\n  </tbody>\n</table>\n</div>"
     },
     "execution_count": 10,
     "metadata": {},
     "output_type": "execute_result"
    }
   ],
   "source": [
    "from Energy.Models.baseline import baseline\n",
    "from HelpFunctions.mix_models import mix_models_per_horizon\n",
    "from Energy.Models.Model4_sunhours import model4_sunhours\n",
    "from Energy.Models.Model4_holidays_2 import model4_holidays_2\n",
    "from Energy.Models.Model4_population import model4_population\n",
    "from Energy.Models.Model5 import model5\n",
    "\n",
    "# en_bl.baseline(df_en, LAST_IDX=-1, offset_horizons=11)\n",
    "\n",
    "weights_m5_bl_m4_x = [[1,1,1,0,0,0.3],[0,0,0,0.25,0.25,0.7],[0,0,0,0.25,0.25,0],[0,0,0,0.25,0.25,0],[0,0,0,0.25,0.25,0]]\n",
    "functions_m5_bl_m4_x = [model5, baseline, model4_population, model4_holidays_2, model4_sunhours]\n",
    "\n",
    "\n",
    "\n",
    "\n",
    "# forecast_en = en_m4_pop.model4_population(df_en, offset_horizons=15)\n",
    "forecast_en = mix_models_per_horizon(functions_m5_bl_m4_x, weights_m5_bl_m4_x, df_en, target=\"energy\", offset_horizons=15)\n",
    "forecast_en"
   ],
   "metadata": {
    "collapsed": false,
    "ExecuteTime": {
     "end_time": "2023-11-29T11:42:06.070635Z",
     "start_time": "2023-11-29T11:41:48.729626Z"
    }
   },
   "id": "9f069c9dbd9ca3d0"
  },
  {
   "cell_type": "markdown",
   "source": [
    "### Infections"
   ],
   "metadata": {
    "collapsed": false
   },
   "id": "105bec481fe1b70e"
  },
  {
   "cell_type": "code",
   "execution_count": 11,
   "outputs": [],
   "source": [
    "forecast_infections = {\n",
    "    'forecast_date': [start_date.strftime('%Y-%m-%d')] * 5,\n",
    "    'target': ['infections'] * 5,\n",
    "    'horizon': ['0 week', '1 week', '2 week', '3 week', '4 week'],\n",
    "    # 'q0.025': ['NA'] * 5,\n",
    "    # 'q0.25': ['NA'] * 5,\n",
    "    # 'q0.5': ['NA'] * 5,\n",
    "    # 'q0.75': ['NA'] * 5,\n",
    "    # 'q0.975': ['NA'] * 5,\n",
    "    'q0.025': [np.nan] * 5,\n",
    "    'q0.25': [np.nan] * 5,\n",
    "    'q0.5': [np.nan] * 5,\n",
    "    'q0.75': [np.nan] * 5,\n",
    "    'q0.975': [np.nan] * 5\n",
    "}\n",
    "\n",
    "forecast_infections = pd.DataFrame(forecast_infections)"
   ],
   "metadata": {
    "collapsed": false,
    "ExecuteTime": {
     "end_time": "2023-11-29T11:42:06.112856Z",
     "start_time": "2023-11-29T11:42:06.086937Z"
    }
   },
   "id": "5a3873d90a18c7fb"
  },
  {
   "cell_type": "code",
   "execution_count": 12,
   "outputs": [
    {
     "data": {
      "text/plain": "  forecast_date      target horizon  q0.025  q0.25  q0.5  q0.75  q0.975\n0    2023-11-29  infections  0 week     NaN    NaN   NaN    NaN     NaN\n1    2023-11-29  infections  1 week     NaN    NaN   NaN    NaN     NaN\n2    2023-11-29  infections  2 week     NaN    NaN   NaN    NaN     NaN\n3    2023-11-29  infections  3 week     NaN    NaN   NaN    NaN     NaN\n4    2023-11-29  infections  4 week     NaN    NaN   NaN    NaN     NaN",
      "text/html": "<div>\n<style scoped>\n    .dataframe tbody tr th:only-of-type {\n        vertical-align: middle;\n    }\n\n    .dataframe tbody tr th {\n        vertical-align: top;\n    }\n\n    .dataframe thead th {\n        text-align: right;\n    }\n</style>\n<table border=\"1\" class=\"dataframe\">\n  <thead>\n    <tr style=\"text-align: right;\">\n      <th></th>\n      <th>forecast_date</th>\n      <th>target</th>\n      <th>horizon</th>\n      <th>q0.025</th>\n      <th>q0.25</th>\n      <th>q0.5</th>\n      <th>q0.75</th>\n      <th>q0.975</th>\n    </tr>\n  </thead>\n  <tbody>\n    <tr>\n      <th>0</th>\n      <td>2023-11-29</td>\n      <td>infections</td>\n      <td>0 week</td>\n      <td>NaN</td>\n      <td>NaN</td>\n      <td>NaN</td>\n      <td>NaN</td>\n      <td>NaN</td>\n    </tr>\n    <tr>\n      <th>1</th>\n      <td>2023-11-29</td>\n      <td>infections</td>\n      <td>1 week</td>\n      <td>NaN</td>\n      <td>NaN</td>\n      <td>NaN</td>\n      <td>NaN</td>\n      <td>NaN</td>\n    </tr>\n    <tr>\n      <th>2</th>\n      <td>2023-11-29</td>\n      <td>infections</td>\n      <td>2 week</td>\n      <td>NaN</td>\n      <td>NaN</td>\n      <td>NaN</td>\n      <td>NaN</td>\n      <td>NaN</td>\n    </tr>\n    <tr>\n      <th>3</th>\n      <td>2023-11-29</td>\n      <td>infections</td>\n      <td>3 week</td>\n      <td>NaN</td>\n      <td>NaN</td>\n      <td>NaN</td>\n      <td>NaN</td>\n      <td>NaN</td>\n    </tr>\n    <tr>\n      <th>4</th>\n      <td>2023-11-29</td>\n      <td>infections</td>\n      <td>4 week</td>\n      <td>NaN</td>\n      <td>NaN</td>\n      <td>NaN</td>\n      <td>NaN</td>\n      <td>NaN</td>\n    </tr>\n  </tbody>\n</table>\n</div>"
     },
     "execution_count": 12,
     "metadata": {},
     "output_type": "execute_result"
    }
   ],
   "source": [
    "forecast_infections"
   ],
   "metadata": {
    "collapsed": false,
    "ExecuteTime": {
     "end_time": "2023-11-29T11:42:06.154749Z",
     "start_time": "2023-11-29T11:42:06.094849Z"
    }
   },
   "id": "7d5811c34b25292f"
  },
  {
   "cell_type": "markdown",
   "source": [
    "## Merge results\n",
    "\n",
    "Check results: Are they valid, forecast_date is right? The last entry might be cut off"
   ],
   "metadata": {
    "collapsed": false
   },
   "id": "a0f6402def6f6bb4"
  },
  {
   "cell_type": "code",
   "execution_count": 13,
   "outputs": [
    {
     "data": {
      "text/plain": "          forecast_date      target  horizon     q0.025      q0.25       q0.5  \\\n0            2023-11-30         DAX    1 day  -2.455251  -0.547924   0.033557   \n1            2023-12-01         DAX    2 day  -3.130767  -0.782713   0.038871   \n2            2023-12-04         DAX    5 day  -4.007580  -0.930672   0.081452   \n3            2023-12-05         DAX    6 day  -5.055998  -1.180942   0.100559   \n4            2023-12-06         DAX    7 day  -5.596188  -1.312663   0.171306   \n5   2023-12-01 12:00:00      energy  36 hour  50.467131  60.497766  66.051668   \n6   2023-12-01 16:00:00      energy  40 hour  50.025403  58.757404  63.646105   \n7   2023-12-01 20:00:00      energy  44 hour  47.654780  54.893569  58.800761   \n8   2023-12-02 12:00:00      energy  60 hour  43.415123  52.010165  56.195260   \n9   2023-12-02 16:00:00      energy  64 hour  42.424454  49.698458  53.552043   \n10  2023-12-02 20:00:00      energy  68 hour  41.852393  46.227110  49.266626   \n11           2023-11-29  infections   0 week        NaN        NaN        NaN   \n12           2023-11-29  infections   1 week        NaN        NaN        NaN   \n13           2023-11-29  infections   2 week        NaN        NaN        NaN   \n14           2023-11-29  infections   3 week        NaN        NaN        NaN   \n15           2023-11-29  infections   4 week        NaN        NaN        NaN   \n\n        q0.75     q0.975  \n0    0.632592   2.154504  \n1    0.870507   2.872066  \n2    1.086359   3.692348  \n3    1.380627   4.598382  \n4    1.564070   5.358285  \n5   69.157071  75.901056  \n6   67.067508  73.881302  \n7   62.064985  68.977180  \n8   59.430764  64.503686  \n9   56.876443  62.514251  \n10  52.891458  59.335954  \n11        NaN        NaN  \n12        NaN        NaN  \n13        NaN        NaN  \n14        NaN        NaN  \n15        NaN        NaN  ",
      "text/html": "<div>\n<style scoped>\n    .dataframe tbody tr th:only-of-type {\n        vertical-align: middle;\n    }\n\n    .dataframe tbody tr th {\n        vertical-align: top;\n    }\n\n    .dataframe thead th {\n        text-align: right;\n    }\n</style>\n<table border=\"1\" class=\"dataframe\">\n  <thead>\n    <tr style=\"text-align: right;\">\n      <th></th>\n      <th>forecast_date</th>\n      <th>target</th>\n      <th>horizon</th>\n      <th>q0.025</th>\n      <th>q0.25</th>\n      <th>q0.5</th>\n      <th>q0.75</th>\n      <th>q0.975</th>\n    </tr>\n  </thead>\n  <tbody>\n    <tr>\n      <th>0</th>\n      <td>2023-11-30</td>\n      <td>DAX</td>\n      <td>1 day</td>\n      <td>-2.455251</td>\n      <td>-0.547924</td>\n      <td>0.033557</td>\n      <td>0.632592</td>\n      <td>2.154504</td>\n    </tr>\n    <tr>\n      <th>1</th>\n      <td>2023-12-01</td>\n      <td>DAX</td>\n      <td>2 day</td>\n      <td>-3.130767</td>\n      <td>-0.782713</td>\n      <td>0.038871</td>\n      <td>0.870507</td>\n      <td>2.872066</td>\n    </tr>\n    <tr>\n      <th>2</th>\n      <td>2023-12-04</td>\n      <td>DAX</td>\n      <td>5 day</td>\n      <td>-4.007580</td>\n      <td>-0.930672</td>\n      <td>0.081452</td>\n      <td>1.086359</td>\n      <td>3.692348</td>\n    </tr>\n    <tr>\n      <th>3</th>\n      <td>2023-12-05</td>\n      <td>DAX</td>\n      <td>6 day</td>\n      <td>-5.055998</td>\n      <td>-1.180942</td>\n      <td>0.100559</td>\n      <td>1.380627</td>\n      <td>4.598382</td>\n    </tr>\n    <tr>\n      <th>4</th>\n      <td>2023-12-06</td>\n      <td>DAX</td>\n      <td>7 day</td>\n      <td>-5.596188</td>\n      <td>-1.312663</td>\n      <td>0.171306</td>\n      <td>1.564070</td>\n      <td>5.358285</td>\n    </tr>\n    <tr>\n      <th>5</th>\n      <td>2023-12-01 12:00:00</td>\n      <td>energy</td>\n      <td>36 hour</td>\n      <td>50.467131</td>\n      <td>60.497766</td>\n      <td>66.051668</td>\n      <td>69.157071</td>\n      <td>75.901056</td>\n    </tr>\n    <tr>\n      <th>6</th>\n      <td>2023-12-01 16:00:00</td>\n      <td>energy</td>\n      <td>40 hour</td>\n      <td>50.025403</td>\n      <td>58.757404</td>\n      <td>63.646105</td>\n      <td>67.067508</td>\n      <td>73.881302</td>\n    </tr>\n    <tr>\n      <th>7</th>\n      <td>2023-12-01 20:00:00</td>\n      <td>energy</td>\n      <td>44 hour</td>\n      <td>47.654780</td>\n      <td>54.893569</td>\n      <td>58.800761</td>\n      <td>62.064985</td>\n      <td>68.977180</td>\n    </tr>\n    <tr>\n      <th>8</th>\n      <td>2023-12-02 12:00:00</td>\n      <td>energy</td>\n      <td>60 hour</td>\n      <td>43.415123</td>\n      <td>52.010165</td>\n      <td>56.195260</td>\n      <td>59.430764</td>\n      <td>64.503686</td>\n    </tr>\n    <tr>\n      <th>9</th>\n      <td>2023-12-02 16:00:00</td>\n      <td>energy</td>\n      <td>64 hour</td>\n      <td>42.424454</td>\n      <td>49.698458</td>\n      <td>53.552043</td>\n      <td>56.876443</td>\n      <td>62.514251</td>\n    </tr>\n    <tr>\n      <th>10</th>\n      <td>2023-12-02 20:00:00</td>\n      <td>energy</td>\n      <td>68 hour</td>\n      <td>41.852393</td>\n      <td>46.227110</td>\n      <td>49.266626</td>\n      <td>52.891458</td>\n      <td>59.335954</td>\n    </tr>\n    <tr>\n      <th>11</th>\n      <td>2023-11-29</td>\n      <td>infections</td>\n      <td>0 week</td>\n      <td>NaN</td>\n      <td>NaN</td>\n      <td>NaN</td>\n      <td>NaN</td>\n      <td>NaN</td>\n    </tr>\n    <tr>\n      <th>12</th>\n      <td>2023-11-29</td>\n      <td>infections</td>\n      <td>1 week</td>\n      <td>NaN</td>\n      <td>NaN</td>\n      <td>NaN</td>\n      <td>NaN</td>\n      <td>NaN</td>\n    </tr>\n    <tr>\n      <th>13</th>\n      <td>2023-11-29</td>\n      <td>infections</td>\n      <td>2 week</td>\n      <td>NaN</td>\n      <td>NaN</td>\n      <td>NaN</td>\n      <td>NaN</td>\n      <td>NaN</td>\n    </tr>\n    <tr>\n      <th>14</th>\n      <td>2023-11-29</td>\n      <td>infections</td>\n      <td>3 week</td>\n      <td>NaN</td>\n      <td>NaN</td>\n      <td>NaN</td>\n      <td>NaN</td>\n      <td>NaN</td>\n    </tr>\n    <tr>\n      <th>15</th>\n      <td>2023-11-29</td>\n      <td>infections</td>\n      <td>4 week</td>\n      <td>NaN</td>\n      <td>NaN</td>\n      <td>NaN</td>\n      <td>NaN</td>\n      <td>NaN</td>\n    </tr>\n  </tbody>\n</table>\n</div>"
     },
     "execution_count": 13,
     "metadata": {},
     "output_type": "execute_result"
    }
   ],
   "source": [
    "forecasts = pd.concat([forecast_dax,forecast_en, forecast_infections]).reset_index().drop(columns=['index'])\n",
    "forecasts"
   ],
   "metadata": {
    "collapsed": false,
    "ExecuteTime": {
     "end_time": "2023-11-29T11:42:06.157040Z",
     "start_time": "2023-11-29T11:42:06.111038Z"
    }
   },
   "id": "9a6cbf31cfef99e2"
  },
  {
   "cell_type": "markdown",
   "source": [
    "If everything seems good: Override forecast_date"
   ],
   "metadata": {
    "collapsed": false
   },
   "id": "d5cac7727b9a5070"
  },
  {
   "cell_type": "code",
   "execution_count": 14,
   "outputs": [],
   "source": [
    "forecasts['forecast_date'] = [start_date.strftime('%Y-%m-%d') for _ in range(len(forecasts))]"
   ],
   "metadata": {
    "collapsed": false,
    "ExecuteTime": {
     "end_time": "2023-11-29T11:42:06.157277Z",
     "start_time": "2023-11-29T11:42:06.116851Z"
    }
   },
   "id": "32de480b970161d"
  },
  {
   "cell_type": "code",
   "execution_count": 15,
   "outputs": [
    {
     "data": {
      "text/plain": "   forecast_date      target  horizon     q0.025      q0.25       q0.5  \\\n0     2023-11-29         DAX    1 day  -2.455251  -0.547924   0.033557   \n1     2023-11-29         DAX    2 day  -3.130767  -0.782713   0.038871   \n2     2023-11-29         DAX    5 day  -4.007580  -0.930672   0.081452   \n3     2023-11-29         DAX    6 day  -5.055998  -1.180942   0.100559   \n4     2023-11-29         DAX    7 day  -5.596188  -1.312663   0.171306   \n5     2023-11-29      energy  36 hour  50.467131  60.497766  66.051668   \n6     2023-11-29      energy  40 hour  50.025403  58.757404  63.646105   \n7     2023-11-29      energy  44 hour  47.654780  54.893569  58.800761   \n8     2023-11-29      energy  60 hour  43.415123  52.010165  56.195260   \n9     2023-11-29      energy  64 hour  42.424454  49.698458  53.552043   \n10    2023-11-29      energy  68 hour  41.852393  46.227110  49.266626   \n11    2023-11-29  infections   0 week        NaN        NaN        NaN   \n12    2023-11-29  infections   1 week        NaN        NaN        NaN   \n13    2023-11-29  infections   2 week        NaN        NaN        NaN   \n14    2023-11-29  infections   3 week        NaN        NaN        NaN   \n15    2023-11-29  infections   4 week        NaN        NaN        NaN   \n\n        q0.75     q0.975  \n0    0.632592   2.154504  \n1    0.870507   2.872066  \n2    1.086359   3.692348  \n3    1.380627   4.598382  \n4    1.564070   5.358285  \n5   69.157071  75.901056  \n6   67.067508  73.881302  \n7   62.064985  68.977180  \n8   59.430764  64.503686  \n9   56.876443  62.514251  \n10  52.891458  59.335954  \n11        NaN        NaN  \n12        NaN        NaN  \n13        NaN        NaN  \n14        NaN        NaN  \n15        NaN        NaN  ",
      "text/html": "<div>\n<style scoped>\n    .dataframe tbody tr th:only-of-type {\n        vertical-align: middle;\n    }\n\n    .dataframe tbody tr th {\n        vertical-align: top;\n    }\n\n    .dataframe thead th {\n        text-align: right;\n    }\n</style>\n<table border=\"1\" class=\"dataframe\">\n  <thead>\n    <tr style=\"text-align: right;\">\n      <th></th>\n      <th>forecast_date</th>\n      <th>target</th>\n      <th>horizon</th>\n      <th>q0.025</th>\n      <th>q0.25</th>\n      <th>q0.5</th>\n      <th>q0.75</th>\n      <th>q0.975</th>\n    </tr>\n  </thead>\n  <tbody>\n    <tr>\n      <th>0</th>\n      <td>2023-11-29</td>\n      <td>DAX</td>\n      <td>1 day</td>\n      <td>-2.455251</td>\n      <td>-0.547924</td>\n      <td>0.033557</td>\n      <td>0.632592</td>\n      <td>2.154504</td>\n    </tr>\n    <tr>\n      <th>1</th>\n      <td>2023-11-29</td>\n      <td>DAX</td>\n      <td>2 day</td>\n      <td>-3.130767</td>\n      <td>-0.782713</td>\n      <td>0.038871</td>\n      <td>0.870507</td>\n      <td>2.872066</td>\n    </tr>\n    <tr>\n      <th>2</th>\n      <td>2023-11-29</td>\n      <td>DAX</td>\n      <td>5 day</td>\n      <td>-4.007580</td>\n      <td>-0.930672</td>\n      <td>0.081452</td>\n      <td>1.086359</td>\n      <td>3.692348</td>\n    </tr>\n    <tr>\n      <th>3</th>\n      <td>2023-11-29</td>\n      <td>DAX</td>\n      <td>6 day</td>\n      <td>-5.055998</td>\n      <td>-1.180942</td>\n      <td>0.100559</td>\n      <td>1.380627</td>\n      <td>4.598382</td>\n    </tr>\n    <tr>\n      <th>4</th>\n      <td>2023-11-29</td>\n      <td>DAX</td>\n      <td>7 day</td>\n      <td>-5.596188</td>\n      <td>-1.312663</td>\n      <td>0.171306</td>\n      <td>1.564070</td>\n      <td>5.358285</td>\n    </tr>\n    <tr>\n      <th>5</th>\n      <td>2023-11-29</td>\n      <td>energy</td>\n      <td>36 hour</td>\n      <td>50.467131</td>\n      <td>60.497766</td>\n      <td>66.051668</td>\n      <td>69.157071</td>\n      <td>75.901056</td>\n    </tr>\n    <tr>\n      <th>6</th>\n      <td>2023-11-29</td>\n      <td>energy</td>\n      <td>40 hour</td>\n      <td>50.025403</td>\n      <td>58.757404</td>\n      <td>63.646105</td>\n      <td>67.067508</td>\n      <td>73.881302</td>\n    </tr>\n    <tr>\n      <th>7</th>\n      <td>2023-11-29</td>\n      <td>energy</td>\n      <td>44 hour</td>\n      <td>47.654780</td>\n      <td>54.893569</td>\n      <td>58.800761</td>\n      <td>62.064985</td>\n      <td>68.977180</td>\n    </tr>\n    <tr>\n      <th>8</th>\n      <td>2023-11-29</td>\n      <td>energy</td>\n      <td>60 hour</td>\n      <td>43.415123</td>\n      <td>52.010165</td>\n      <td>56.195260</td>\n      <td>59.430764</td>\n      <td>64.503686</td>\n    </tr>\n    <tr>\n      <th>9</th>\n      <td>2023-11-29</td>\n      <td>energy</td>\n      <td>64 hour</td>\n      <td>42.424454</td>\n      <td>49.698458</td>\n      <td>53.552043</td>\n      <td>56.876443</td>\n      <td>62.514251</td>\n    </tr>\n    <tr>\n      <th>10</th>\n      <td>2023-11-29</td>\n      <td>energy</td>\n      <td>68 hour</td>\n      <td>41.852393</td>\n      <td>46.227110</td>\n      <td>49.266626</td>\n      <td>52.891458</td>\n      <td>59.335954</td>\n    </tr>\n    <tr>\n      <th>11</th>\n      <td>2023-11-29</td>\n      <td>infections</td>\n      <td>0 week</td>\n      <td>NaN</td>\n      <td>NaN</td>\n      <td>NaN</td>\n      <td>NaN</td>\n      <td>NaN</td>\n    </tr>\n    <tr>\n      <th>12</th>\n      <td>2023-11-29</td>\n      <td>infections</td>\n      <td>1 week</td>\n      <td>NaN</td>\n      <td>NaN</td>\n      <td>NaN</td>\n      <td>NaN</td>\n      <td>NaN</td>\n    </tr>\n    <tr>\n      <th>13</th>\n      <td>2023-11-29</td>\n      <td>infections</td>\n      <td>2 week</td>\n      <td>NaN</td>\n      <td>NaN</td>\n      <td>NaN</td>\n      <td>NaN</td>\n      <td>NaN</td>\n    </tr>\n    <tr>\n      <th>14</th>\n      <td>2023-11-29</td>\n      <td>infections</td>\n      <td>3 week</td>\n      <td>NaN</td>\n      <td>NaN</td>\n      <td>NaN</td>\n      <td>NaN</td>\n      <td>NaN</td>\n    </tr>\n    <tr>\n      <th>15</th>\n      <td>2023-11-29</td>\n      <td>infections</td>\n      <td>4 week</td>\n      <td>NaN</td>\n      <td>NaN</td>\n      <td>NaN</td>\n      <td>NaN</td>\n      <td>NaN</td>\n    </tr>\n  </tbody>\n</table>\n</div>"
     },
     "execution_count": 15,
     "metadata": {},
     "output_type": "execute_result"
    }
   ],
   "source": [
    "forecasts"
   ],
   "metadata": {
    "collapsed": false,
    "ExecuteTime": {
     "end_time": "2023-11-29T11:42:06.157977Z",
     "start_time": "2023-11-29T11:42:06.124376Z"
    }
   },
   "id": "f1a175becc740208"
  },
  {
   "cell_type": "markdown",
   "source": [
    "### Check df & Save csv-File"
   ],
   "metadata": {
    "collapsed": false
   },
   "id": "bd5784a4dab355d8"
  },
  {
   "cell_type": "code",
   "execution_count": 16,
   "outputs": [
    {
     "name": "stdout",
     "output_type": "stream",
     "text": [
      "Start checking...\n",
      "---------------------------\n",
      "Checking the Columns...\n",
      "Checking type of columns...\n",
      "----WARNING: Some elements in q0.025 column are not numeric. This may be fine if you only submit 2 out of 3 targets.\n",
      "\n",
      "----WARNING: Some elements in q0.25 column are not numeric. This may be fine if you only submit 2 out of 3 targets.\n",
      "\n",
      "----WARNING: Some elements in q0.5 column are not numeric. This may be fine if you only submit 2 out of 3 targets.\n",
      "\n",
      "----WARNING: Some elements in q0.75 column are not numeric. This may be fine if you only submit 2 out of 3 targets.\n",
      "\n",
      "----WARNING: Some elements in q0.975 column are not numeric. This may be fine if you only submit 2 out of 3 targets.\n",
      "\n",
      "Checking if the Dates make sense...\n",
      "Checking targets...\n",
      "Checking quantiles...\n",
      "Assume that -- infections -- is your NaN-target. Please DOUBLECHECK if this is correct.\n",
      "---------------------------\n",
      "Looks good!\n"
     ]
    },
    {
     "name": "stderr",
     "output_type": "stream",
     "text": [
      "/Users/elias/Desktop/PTSFC/HelpFunctions/check_submission.py:175: FutureWarning: Series.__setitem__ treating keys as positions is deprecated. In a future version, integer keys will always be treated as labels (consistent with DataFrame behavior). To set a value by position, use `ser.iloc[pos] = value`\n",
      "  diffs[0] = 0\n",
      "/Users/elias/Desktop/PTSFC/HelpFunctions/check_submission.py:175: FutureWarning: Series.__setitem__ treating keys as positions is deprecated. In a future version, integer keys will always be treated as labels (consistent with DataFrame behavior). To set a value by position, use `ser.iloc[pos] = value`\n",
      "  diffs[0] = 0\n",
      "/Users/elias/Desktop/PTSFC/HelpFunctions/check_submission.py:175: FutureWarning: Series.__setitem__ treating keys as positions is deprecated. In a future version, integer keys will always be treated as labels (consistent with DataFrame behavior). To set a value by position, use `ser.iloc[pos] = value`\n",
      "  diffs[0] = 0\n",
      "/Users/elias/Desktop/PTSFC/HelpFunctions/check_submission.py:175: FutureWarning: Series.__setitem__ treating keys as positions is deprecated. In a future version, integer keys will always be treated as labels (consistent with DataFrame behavior). To set a value by position, use `ser.iloc[pos] = value`\n",
      "  diffs[0] = 0\n",
      "/Users/elias/Desktop/PTSFC/HelpFunctions/check_submission.py:175: FutureWarning: Series.__setitem__ treating keys as positions is deprecated. In a future version, integer keys will always be treated as labels (consistent with DataFrame behavior). To set a value by position, use `ser.iloc[pos] = value`\n",
      "  diffs[0] = 0\n",
      "/Users/elias/Desktop/PTSFC/HelpFunctions/check_submission.py:175: FutureWarning: Series.__setitem__ treating keys as positions is deprecated. In a future version, integer keys will always be treated as labels (consistent with DataFrame behavior). To set a value by position, use `ser.iloc[pos] = value`\n",
      "  diffs[0] = 0\n",
      "/Users/elias/Desktop/PTSFC/HelpFunctions/check_submission.py:175: FutureWarning: Series.__setitem__ treating keys as positions is deprecated. In a future version, integer keys will always be treated as labels (consistent with DataFrame behavior). To set a value by position, use `ser.iloc[pos] = value`\n",
      "  diffs[0] = 0\n",
      "/Users/elias/Desktop/PTSFC/HelpFunctions/check_submission.py:175: FutureWarning: Series.__setitem__ treating keys as positions is deprecated. In a future version, integer keys will always be treated as labels (consistent with DataFrame behavior). To set a value by position, use `ser.iloc[pos] = value`\n",
      "  diffs[0] = 0\n",
      "/Users/elias/Desktop/PTSFC/HelpFunctions/check_submission.py:175: FutureWarning: Series.__setitem__ treating keys as positions is deprecated. In a future version, integer keys will always be treated as labels (consistent with DataFrame behavior). To set a value by position, use `ser.iloc[pos] = value`\n",
      "  diffs[0] = 0\n",
      "/Users/elias/Desktop/PTSFC/HelpFunctions/check_submission.py:175: FutureWarning: Series.__setitem__ treating keys as positions is deprecated. In a future version, integer keys will always be treated as labels (consistent with DataFrame behavior). To set a value by position, use `ser.iloc[pos] = value`\n",
      "  diffs[0] = 0\n",
      "/Users/elias/Desktop/PTSFC/HelpFunctions/check_submission.py:175: FutureWarning: Series.__setitem__ treating keys as positions is deprecated. In a future version, integer keys will always be treated as labels (consistent with DataFrame behavior). To set a value by position, use `ser.iloc[pos] = value`\n",
      "  diffs[0] = 0\n"
     ]
    }
   ],
   "source": [
    "from HelpFunctions.check_submission import check_submission_df\n",
    "\n",
    "check_submission_df(forecasts)\n",
    "forecasts.to_csv(f'./Abgaben/{start_date.strftime(\"%Y%m%d\")}_JakePeralta.csv', na_rep='NA', index=False)"
   ],
   "metadata": {
    "collapsed": false,
    "ExecuteTime": {
     "end_time": "2023-11-29T11:42:06.303386Z",
     "start_time": "2023-11-29T11:42:06.130563Z"
    }
   },
   "id": "47bccebca5a246c1"
  },
  {
   "cell_type": "code",
   "execution_count": 16,
   "outputs": [],
   "source": [],
   "metadata": {
    "collapsed": false,
    "ExecuteTime": {
     "end_time": "2023-11-29T11:42:06.303623Z",
     "start_time": "2023-11-29T11:42:06.181927Z"
    }
   },
   "id": "d30d3456e1371d4b"
  }
 ],
 "metadata": {
  "kernelspec": {
   "display_name": "Python 3",
   "language": "python",
   "name": "python3"
  },
  "language_info": {
   "codemirror_mode": {
    "name": "ipython",
    "version": 2
   },
   "file_extension": ".py",
   "mimetype": "text/x-python",
   "name": "python",
   "nbconvert_exporter": "python",
   "pygments_lexer": "ipython2",
   "version": "2.7.6"
  }
 },
 "nbformat": 4,
 "nbformat_minor": 5
}
