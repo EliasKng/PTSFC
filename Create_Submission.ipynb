{
 "cells": [
  {
   "cell_type": "markdown",
   "source": [
    "# Create Submission File"
   ],
   "metadata": {
    "collapsed": false
   },
   "id": "8c32bd09ca64c40b"
  },
  {
   "cell_type": "markdown",
   "source": [
    "## Imports and get data"
   ],
   "metadata": {
    "collapsed": false
   },
   "id": "14fdcf25ca938883"
  },
  {
   "cell_type": "code",
   "execution_count": 2,
   "outputs": [
    {
     "name": "stderr",
     "output_type": "stream",
     "text": [
      "/Users/elias/Desktop/PTSFC/venv/lib/python3.9/site-packages/urllib3/__init__.py:34: NotOpenSSLWarning: urllib3 v2.0 only supports OpenSSL 1.1.1+, currently the 'ssl' module is compiled with 'LibreSSL 2.8.3'. See: https://github.com/urllib3/urllib3/issues/3020\n",
      "  warnings.warn(\n"
     ]
    }
   ],
   "source": [
    "import pickle\n",
    "import seaborn as sns\n",
    "import matplotlib.pyplot as plt\n",
    "from datetime import timedelta\n",
    "import pandas as pd\n",
    "import numpy as np\n",
    "from HelpFunctions.calc_score import evaluate_horizon\n",
    "from HelpFunctions.mix_models import mix_models\n",
    "from HelpFunctions.date_and_time import most_recent_thursday, split_time\n",
    "\n",
    "from DAX.HelpFunctions.get_dax_data import get_dax_data\n",
    "from DAX.Models import baseline as dax_bl\n",
    "from DAX.Models import garch11 as dax_garch\n",
    "\n",
    "from Energy.HelpFunctions.get_energy_data import get_energy_data, prepare_data\n",
    "from Energy.Models import baseline as en_bl\n",
    "from Energy.Models import Model4_population as en_m4_pop\n",
    "from datetime import datetime\n",
    "import pytz\n",
    "\n",
    "# import importlib\n",
    "# importlib.reload(Energy.Models)\n",
    "\n",
    "# import importlib\n",
    "# importlib.reload(Energy.Models)"
   ],
   "metadata": {
    "collapsed": false,
    "ExecuteTime": {
     "end_time": "2023-12-12T15:05:08.046698Z",
     "start_time": "2023-12-12T15:05:07.669429Z"
    }
   },
   "id": "c30798cf9e7795b4"
  },
  {
   "cell_type": "markdown",
   "source": [
    "### DAX: Get and prepare Data\n",
    "Use tuesday as last datapoint"
   ],
   "metadata": {
    "collapsed": false
   },
   "id": "a5a087de7041bd86"
  },
  {
   "cell_type": "code",
   "execution_count": 4,
   "outputs": [],
   "source": [
    "# Insert Date of Wednesday (forecast-day) here. The current day has to be wednesday!!\n",
    "start_date = datetime(2023, 12, 13, 8, 0, 0)\n",
    "assert start_date.weekday() == 2"
   ],
   "metadata": {
    "collapsed": false,
    "ExecuteTime": {
     "end_time": "2023-12-12T14:57:22.795853Z",
     "start_time": "2023-12-12T14:57:22.783704Z"
    }
   },
   "id": "fe12d8b274c080da"
  },
  {
   "cell_type": "code",
   "execution_count": 5,
   "outputs": [],
   "source": [
    "df_dax = get_dax_data()\n",
    "# pretend_start_date = date(2023, 11, 22, 11, 00, 0, tzinfo=pytz.timezone('Europe/Berlin'))\n",
    "\n",
    "df_dax = df_dax[df_dax.index.date <= start_date.date()]"
   ],
   "metadata": {
    "collapsed": false,
    "ExecuteTime": {
     "end_time": "2023-12-12T14:57:24.456381Z",
     "start_time": "2023-12-12T14:57:23.852285Z"
    }
   },
   "id": "ae761a7c6fa93c50"
  },
  {
   "cell_type": "code",
   "execution_count": 6,
   "outputs": [
    {
     "data": {
      "text/plain": "                                  Close      ret1      ret2      ret3  \\\nDate                                                                    \n1987-12-30 00:00:00+01:00   1005.190002       NaN       NaN       NaN   \n1988-01-04 00:00:00+01:00    956.489990 -4.966154       NaN       NaN   \n1988-01-05 00:00:00+01:00    996.099976  4.057731 -0.908423       NaN   \n1988-01-06 00:00:00+01:00   1006.010010  0.989967  5.047698  0.081544   \n1988-01-07 00:00:00+01:00   1014.469971  0.837426  1.827393  5.885123   \n...                                 ...       ...       ...       ...   \n2023-12-06 00:00:00+01:00  16656.439453  0.743190  1.522537  1.566682   \n2023-12-07 00:00:00+01:00  16628.990234 -0.164932  0.578257  1.357605   \n2023-12-08 00:00:00+01:00  16759.220703  0.780102  0.615170  1.358360   \n2023-12-11 00:00:00+01:00  16794.429688  0.209867  0.989969  0.825037   \n2023-12-12 00:00:00+01:00  16768.669922 -0.153501  0.056366  0.836469   \n\n                               ret4      ret5  \nDate                                           \n1987-12-30 00:00:00+01:00       NaN       NaN  \n1988-01-04 00:00:00+01:00       NaN       NaN  \n1988-01-05 00:00:00+01:00       NaN       NaN  \n1988-01-06 00:00:00+01:00       NaN       NaN  \n1988-01-07 00:00:00+01:00  0.918970       NaN  \n...                             ...       ...  \n2023-12-06 00:00:00+01:00  2.683366  2.985878  \n2023-12-07 00:00:00+01:00  1.401750  2.518433  \n2023-12-08 00:00:00+01:00  2.137707  2.181852  \n2023-12-11 00:00:00+01:00  1.568227  2.347574  \n2023-12-12 00:00:00+01:00  0.671536  1.414726  \n\n[9091 rows x 6 columns]",
      "text/html": "<div>\n<style scoped>\n    .dataframe tbody tr th:only-of-type {\n        vertical-align: middle;\n    }\n\n    .dataframe tbody tr th {\n        vertical-align: top;\n    }\n\n    .dataframe thead th {\n        text-align: right;\n    }\n</style>\n<table border=\"1\" class=\"dataframe\">\n  <thead>\n    <tr style=\"text-align: right;\">\n      <th></th>\n      <th>Close</th>\n      <th>ret1</th>\n      <th>ret2</th>\n      <th>ret3</th>\n      <th>ret4</th>\n      <th>ret5</th>\n    </tr>\n    <tr>\n      <th>Date</th>\n      <th></th>\n      <th></th>\n      <th></th>\n      <th></th>\n      <th></th>\n      <th></th>\n    </tr>\n  </thead>\n  <tbody>\n    <tr>\n      <th>1987-12-30 00:00:00+01:00</th>\n      <td>1005.190002</td>\n      <td>NaN</td>\n      <td>NaN</td>\n      <td>NaN</td>\n      <td>NaN</td>\n      <td>NaN</td>\n    </tr>\n    <tr>\n      <th>1988-01-04 00:00:00+01:00</th>\n      <td>956.489990</td>\n      <td>-4.966154</td>\n      <td>NaN</td>\n      <td>NaN</td>\n      <td>NaN</td>\n      <td>NaN</td>\n    </tr>\n    <tr>\n      <th>1988-01-05 00:00:00+01:00</th>\n      <td>996.099976</td>\n      <td>4.057731</td>\n      <td>-0.908423</td>\n      <td>NaN</td>\n      <td>NaN</td>\n      <td>NaN</td>\n    </tr>\n    <tr>\n      <th>1988-01-06 00:00:00+01:00</th>\n      <td>1006.010010</td>\n      <td>0.989967</td>\n      <td>5.047698</td>\n      <td>0.081544</td>\n      <td>NaN</td>\n      <td>NaN</td>\n    </tr>\n    <tr>\n      <th>1988-01-07 00:00:00+01:00</th>\n      <td>1014.469971</td>\n      <td>0.837426</td>\n      <td>1.827393</td>\n      <td>5.885123</td>\n      <td>0.918970</td>\n      <td>NaN</td>\n    </tr>\n    <tr>\n      <th>...</th>\n      <td>...</td>\n      <td>...</td>\n      <td>...</td>\n      <td>...</td>\n      <td>...</td>\n      <td>...</td>\n    </tr>\n    <tr>\n      <th>2023-12-06 00:00:00+01:00</th>\n      <td>16656.439453</td>\n      <td>0.743190</td>\n      <td>1.522537</td>\n      <td>1.566682</td>\n      <td>2.683366</td>\n      <td>2.985878</td>\n    </tr>\n    <tr>\n      <th>2023-12-07 00:00:00+01:00</th>\n      <td>16628.990234</td>\n      <td>-0.164932</td>\n      <td>0.578257</td>\n      <td>1.357605</td>\n      <td>1.401750</td>\n      <td>2.518433</td>\n    </tr>\n    <tr>\n      <th>2023-12-08 00:00:00+01:00</th>\n      <td>16759.220703</td>\n      <td>0.780102</td>\n      <td>0.615170</td>\n      <td>1.358360</td>\n      <td>2.137707</td>\n      <td>2.181852</td>\n    </tr>\n    <tr>\n      <th>2023-12-11 00:00:00+01:00</th>\n      <td>16794.429688</td>\n      <td>0.209867</td>\n      <td>0.989969</td>\n      <td>0.825037</td>\n      <td>1.568227</td>\n      <td>2.347574</td>\n    </tr>\n    <tr>\n      <th>2023-12-12 00:00:00+01:00</th>\n      <td>16768.669922</td>\n      <td>-0.153501</td>\n      <td>0.056366</td>\n      <td>0.836469</td>\n      <td>0.671536</td>\n      <td>1.414726</td>\n    </tr>\n  </tbody>\n</table>\n<p>9091 rows × 6 columns</p>\n</div>"
     },
     "execution_count": 6,
     "metadata": {},
     "output_type": "execute_result"
    }
   ],
   "source": [
    "df_dax"
   ],
   "metadata": {
    "collapsed": false,
    "ExecuteTime": {
     "end_time": "2023-12-12T14:57:24.471046Z",
     "start_time": "2023-12-12T14:57:24.458896Z"
    }
   },
   "id": "92645117f2cf725e"
  },
  {
   "cell_type": "markdown",
   "source": [
    "### Energy: Get and prepare Data"
   ],
   "metadata": {
    "collapsed": false
   },
   "id": "68351dfe67b07c44"
  },
  {
   "cell_type": "code",
   "execution_count": 7,
   "outputs": [
    {
     "name": "stderr",
     "output_type": "stream",
     "text": [
      "  0%|          | 0/260 [00:00<?, ?it/s]/Users/elias/Desktop/PTSFC/Energy/HelpFunctions/get_energy_data.py:55: FutureWarning: The behavior of DataFrame concatenation with empty or all-NA entries is deprecated. In a future version, this will no longer exclude empty or all-NA columns when determining the result dtypes. To retain the old behavior, exclude the relevant entries before the concat operation.\n",
      "  energydata = pd.concat([energydata, pd.DataFrame(rawdata, columns=col_names)])\n",
      "100%|██████████| 260/260 [00:22<00:00, 11.42it/s]\n"
     ]
    }
   ],
   "source": [
    "from Energy.HelpFunctions.get_energy_data import fetch_energy_data\n",
    "fetch_energy_data()"
   ],
   "metadata": {
    "collapsed": false,
    "ExecuteTime": {
     "end_time": "2023-12-12T14:57:53.628003Z",
     "start_time": "2023-12-12T14:57:30.667793Z"
    }
   },
   "id": "616a683b3b913537"
  },
  {
   "cell_type": "code",
   "execution_count": 3,
   "outputs": [
    {
     "name": "stderr",
     "output_type": "stream",
     "text": [
      "/Users/elias/Desktop/PTSFC/Energy/HelpFunctions/get_energy_data.py:17: UserWarning: The data is not up to date anymore. Please call fetch_energy_data\n",
      "  warnings.warn(\"The data is not up to date anymore. Please call fetch_energy_data\", UserWarning)\n"
     ]
    }
   ],
   "source": [
    "df_en = get_energy_data(force_return=True)\n",
    "df_en = prepare_data(df_en)"
   ],
   "metadata": {
    "collapsed": false,
    "ExecuteTime": {
     "end_time": "2023-12-12T15:05:12.054720Z",
     "start_time": "2023-12-12T15:05:12.004714Z"
    }
   },
   "id": "b59e1a44bd7c2e8f"
  },
  {
   "cell_type": "code",
   "execution_count": 4,
   "outputs": [
    {
     "ename": "NameError",
     "evalue": "name 'start_date' is not defined",
     "output_type": "error",
     "traceback": [
      "\u001B[0;31m---------------------------------------------------------------------------\u001B[0m",
      "\u001B[0;31mNameError\u001B[0m                                 Traceback (most recent call last)",
      "Cell \u001B[0;32mIn[4], line 1\u001B[0m\n\u001B[0;32m----> 1\u001B[0m df_en \u001B[38;5;241m=\u001B[39m df_en\u001B[38;5;241m.\u001B[39mloc[df_en\u001B[38;5;241m.\u001B[39mindex \u001B[38;5;241m<\u001B[39m\u001B[38;5;241m=\u001B[39m \u001B[43mstart_date\u001B[49m]\n",
      "\u001B[0;31mNameError\u001B[0m: name 'start_date' is not defined"
     ]
    }
   ],
   "source": [
    "df_en = df_en.loc[df_en.index <= start_date]"
   ],
   "metadata": {
    "collapsed": false,
    "ExecuteTime": {
     "end_time": "2023-12-12T15:05:13.032563Z",
     "start_time": "2023-12-12T15:05:12.978498Z"
    }
   },
   "id": "3ce91a690ad2cdc5"
  },
  {
   "cell_type": "code",
   "execution_count": 5,
   "outputs": [
    {
     "name": "stderr",
     "output_type": "stream",
     "text": [
      "/Users/elias/Desktop/PTSFC/Energy/HelpFunctions/get_energy_data.py:17: UserWarning: The data is not up to date anymore. Please call fetch_energy_data\n",
      "  warnings.warn(\"The data is not up to date anymore. Please call fetch_energy_data\", UserWarning)\n"
     ]
    },
    {
     "data": {
      "text/plain": "                     Netzlast_Gesamt\ndate_time                           \n2018-12-24 00:00:00         42029.25\n2018-12-24 01:00:00         39610.25\n2018-12-24 02:00:00         39138.75\n2018-12-24 03:00:00         39421.00\n2018-12-24 04:00:00         40747.75\n...                              ...\n2023-12-04 15:00:00         70153.50\n2023-12-04 16:00:00         70703.50\n2023-12-04 17:00:00         72672.00\n2023-12-04 18:00:00         71837.00\n2023-12-04 19:00:00         53073.75\n\n[43364 rows x 1 columns]",
      "text/html": "<div>\n<style scoped>\n    .dataframe tbody tr th:only-of-type {\n        vertical-align: middle;\n    }\n\n    .dataframe tbody tr th {\n        vertical-align: top;\n    }\n\n    .dataframe thead th {\n        text-align: right;\n    }\n</style>\n<table border=\"1\" class=\"dataframe\">\n  <thead>\n    <tr style=\"text-align: right;\">\n      <th></th>\n      <th>Netzlast_Gesamt</th>\n    </tr>\n    <tr>\n      <th>date_time</th>\n      <th></th>\n    </tr>\n  </thead>\n  <tbody>\n    <tr>\n      <th>2018-12-24 00:00:00</th>\n      <td>42029.25</td>\n    </tr>\n    <tr>\n      <th>2018-12-24 01:00:00</th>\n      <td>39610.25</td>\n    </tr>\n    <tr>\n      <th>2018-12-24 02:00:00</th>\n      <td>39138.75</td>\n    </tr>\n    <tr>\n      <th>2018-12-24 03:00:00</th>\n      <td>39421.00</td>\n    </tr>\n    <tr>\n      <th>2018-12-24 04:00:00</th>\n      <td>40747.75</td>\n    </tr>\n    <tr>\n      <th>...</th>\n      <td>...</td>\n    </tr>\n    <tr>\n      <th>2023-12-04 15:00:00</th>\n      <td>70153.50</td>\n    </tr>\n    <tr>\n      <th>2023-12-04 16:00:00</th>\n      <td>70703.50</td>\n    </tr>\n    <tr>\n      <th>2023-12-04 17:00:00</th>\n      <td>72672.00</td>\n    </tr>\n    <tr>\n      <th>2023-12-04 18:00:00</th>\n      <td>71837.00</td>\n    </tr>\n    <tr>\n      <th>2023-12-04 19:00:00</th>\n      <td>53073.75</td>\n    </tr>\n  </tbody>\n</table>\n<p>43364 rows × 1 columns</p>\n</div>"
     },
     "execution_count": 5,
     "metadata": {},
     "output_type": "execute_result"
    }
   ],
   "source": [
    "get_energy_data(force_return=True)"
   ],
   "metadata": {
    "collapsed": false,
    "ExecuteTime": {
     "end_time": "2023-12-12T15:05:13.576593Z",
     "start_time": "2023-12-12T15:05:13.506831Z"
    }
   },
   "id": "9ec8ed6cc58d3ad6"
  },
  {
   "cell_type": "markdown",
   "source": [
    "## Run models for the data"
   ],
   "metadata": {
    "collapsed": false
   },
   "id": "b64db28817cc4bb"
  },
  {
   "cell_type": "markdown",
   "source": [
    "### DAX"
   ],
   "metadata": {
    "collapsed": false
   },
   "id": "61218b68e5a9083d"
  },
  {
   "cell_type": "code",
   "execution_count": 14,
   "outputs": [
    {
     "data": {
      "text/plain": "  forecast_date target horizon    q0.025     q0.25      q0.5     q0.75  \\\n0    2023-12-13    DAX   1 day -3.251335 -0.632117  0.064390  0.781185   \n1    2023-12-14    DAX   2 day -3.636778 -0.721054  0.136271  0.992888   \n2    2023-12-15    DAX   5 day -4.679263 -0.807332  0.269508  1.346280   \n3    2023-12-18    DAX   6 day -5.501670 -0.952888  0.279832  1.510589   \n4    2023-12-19    DAX   7 day -5.631634 -0.858713  0.473039  1.727851   \n\n     q0.975  \n0  3.008683  \n1  3.554754  \n2  4.724116  \n3  5.385541  \n4  5.994030  ",
      "text/html": "<div>\n<style scoped>\n    .dataframe tbody tr th:only-of-type {\n        vertical-align: middle;\n    }\n\n    .dataframe tbody tr th {\n        vertical-align: top;\n    }\n\n    .dataframe thead th {\n        text-align: right;\n    }\n</style>\n<table border=\"1\" class=\"dataframe\">\n  <thead>\n    <tr style=\"text-align: right;\">\n      <th></th>\n      <th>forecast_date</th>\n      <th>target</th>\n      <th>horizon</th>\n      <th>q0.025</th>\n      <th>q0.25</th>\n      <th>q0.5</th>\n      <th>q0.75</th>\n      <th>q0.975</th>\n    </tr>\n  </thead>\n  <tbody>\n    <tr>\n      <th>0</th>\n      <td>2023-12-13</td>\n      <td>DAX</td>\n      <td>1 day</td>\n      <td>-3.251335</td>\n      <td>-0.632117</td>\n      <td>0.064390</td>\n      <td>0.781185</td>\n      <td>3.008683</td>\n    </tr>\n    <tr>\n      <th>1</th>\n      <td>2023-12-14</td>\n      <td>DAX</td>\n      <td>2 day</td>\n      <td>-3.636778</td>\n      <td>-0.721054</td>\n      <td>0.136271</td>\n      <td>0.992888</td>\n      <td>3.554754</td>\n    </tr>\n    <tr>\n      <th>2</th>\n      <td>2023-12-15</td>\n      <td>DAX</td>\n      <td>5 day</td>\n      <td>-4.679263</td>\n      <td>-0.807332</td>\n      <td>0.269508</td>\n      <td>1.346280</td>\n      <td>4.724116</td>\n    </tr>\n    <tr>\n      <th>3</th>\n      <td>2023-12-18</td>\n      <td>DAX</td>\n      <td>6 day</td>\n      <td>-5.501670</td>\n      <td>-0.952888</td>\n      <td>0.279832</td>\n      <td>1.510589</td>\n      <td>5.385541</td>\n    </tr>\n    <tr>\n      <th>4</th>\n      <td>2023-12-19</td>\n      <td>DAX</td>\n      <td>7 day</td>\n      <td>-5.631634</td>\n      <td>-0.858713</td>\n      <td>0.473039</td>\n      <td>1.727851</td>\n      <td>5.994030</td>\n    </tr>\n  </tbody>\n</table>\n</div>"
     },
     "execution_count": 14,
     "metadata": {},
     "output_type": "execute_result"
    }
   ],
   "source": [
    "from DAX.Models.arma_garch_11 import arma_garch_11\n",
    "from DAX.Models.baseline import baseline\n",
    "# dax_bl.baseline(df_dax)\n",
    "# forecast_dax = dax_garch.garch11(df_dax)\n",
    "forecast_dax = mix_models([arma_garch_11, baseline], [1,1], df_dax, 'DAX')\n",
    "forecast_dax"
   ],
   "metadata": {
    "collapsed": false,
    "ExecuteTime": {
     "end_time": "2023-12-12T15:00:39.448814Z",
     "start_time": "2023-12-12T15:00:32.539402Z"
    }
   },
   "id": "742fa6034b59aa97"
  },
  {
   "cell_type": "markdown",
   "source": [
    "### Energy"
   ],
   "metadata": {
    "collapsed": false
   },
   "id": "a401e8783d00353a"
  },
  {
   "cell_type": "code",
   "execution_count": 9,
   "outputs": [
    {
     "data": {
      "text/plain": "        forecast_date  target  horizon     q0.025      q0.25       q0.5  \\\n0 2023-12-08 12:00:00  energy  36 hour  51.211792  60.978822  66.006145   \n1 2023-12-08 16:00:00  energy  40 hour  50.441191  58.550079  63.146476   \n2 2023-12-08 20:00:00  energy  44 hour  48.175862  54.811355  58.872356   \n3 2023-12-09 12:00:00  energy  60 hour  43.078250  51.933858  56.258513   \n4 2023-12-09 16:00:00  energy  64 hour  42.099342  49.725203  53.667444   \n5 2023-12-09 20:00:00  energy  68 hour  39.933314  46.470891  49.677924   \n\n       q0.75     q0.975  \n0  69.591613  75.928808  \n1  67.019122  73.616147  \n2  62.406643  69.007995  \n3  59.377057  64.638557  \n4  56.957228  62.648578  \n5  52.847549  58.674600  ",
      "text/html": "<div>\n<style scoped>\n    .dataframe tbody tr th:only-of-type {\n        vertical-align: middle;\n    }\n\n    .dataframe tbody tr th {\n        vertical-align: top;\n    }\n\n    .dataframe thead th {\n        text-align: right;\n    }\n</style>\n<table border=\"1\" class=\"dataframe\">\n  <thead>\n    <tr style=\"text-align: right;\">\n      <th></th>\n      <th>forecast_date</th>\n      <th>target</th>\n      <th>horizon</th>\n      <th>q0.025</th>\n      <th>q0.25</th>\n      <th>q0.5</th>\n      <th>q0.75</th>\n      <th>q0.975</th>\n    </tr>\n  </thead>\n  <tbody>\n    <tr>\n      <th>0</th>\n      <td>2023-12-08 12:00:00</td>\n      <td>energy</td>\n      <td>36 hour</td>\n      <td>51.211792</td>\n      <td>60.978822</td>\n      <td>66.006145</td>\n      <td>69.591613</td>\n      <td>75.928808</td>\n    </tr>\n    <tr>\n      <th>1</th>\n      <td>2023-12-08 16:00:00</td>\n      <td>energy</td>\n      <td>40 hour</td>\n      <td>50.441191</td>\n      <td>58.550079</td>\n      <td>63.146476</td>\n      <td>67.019122</td>\n      <td>73.616147</td>\n    </tr>\n    <tr>\n      <th>2</th>\n      <td>2023-12-08 20:00:00</td>\n      <td>energy</td>\n      <td>44 hour</td>\n      <td>48.175862</td>\n      <td>54.811355</td>\n      <td>58.872356</td>\n      <td>62.406643</td>\n      <td>69.007995</td>\n    </tr>\n    <tr>\n      <th>3</th>\n      <td>2023-12-09 12:00:00</td>\n      <td>energy</td>\n      <td>60 hour</td>\n      <td>43.078250</td>\n      <td>51.933858</td>\n      <td>56.258513</td>\n      <td>59.377057</td>\n      <td>64.638557</td>\n    </tr>\n    <tr>\n      <th>4</th>\n      <td>2023-12-09 16:00:00</td>\n      <td>energy</td>\n      <td>64 hour</td>\n      <td>42.099342</td>\n      <td>49.725203</td>\n      <td>53.667444</td>\n      <td>56.957228</td>\n      <td>62.648578</td>\n    </tr>\n    <tr>\n      <th>5</th>\n      <td>2023-12-09 20:00:00</td>\n      <td>energy</td>\n      <td>68 hour</td>\n      <td>39.933314</td>\n      <td>46.470891</td>\n      <td>49.677924</td>\n      <td>52.847549</td>\n      <td>58.674600</td>\n    </tr>\n  </tbody>\n</table>\n</div>"
     },
     "execution_count": 9,
     "metadata": {},
     "output_type": "execute_result"
    }
   ],
   "source": [
    "from Energy.Models.baseline import baseline\n",
    "from HelpFunctions.mix_models import mix_models_per_horizon\n",
    "from Energy.Models.Model4_sunhours import model4_sunhours\n",
    "from Energy.Models.Model4_holidays_2 import model4_holidays_2\n",
    "from Energy.Models.Model4_population import model4_population\n",
    "from Energy.Models.Model5 import model5\n",
    "\n",
    "# en_bl.baseline(df_en, LAST_IDX=-1, offset_horizons=11)\n",
    "\n",
    "weights_m5_bl_m4_x = [1,1,1,1,1]\n",
    "functions_m5_bl_m4_x = [model5, baseline, model4_population, model4_holidays_2, model4_sunhours]\n",
    "\n",
    "\n",
    "\n",
    "\n",
    "# forecast_en = en_m4_pop.model4_population(df_en, offset_horizons=15)\n",
    "forecast_en = mix_models(functions_m5_bl_m4_x, weights_m5_bl_m4_x, df_en, target=\"energy\", offset_horizons=52)\n",
    "forecast_en"
   ],
   "metadata": {
    "collapsed": false,
    "ExecuteTime": {
     "end_time": "2023-12-12T15:07:42.568261Z",
     "start_time": "2023-12-12T15:07:28.011787Z"
    }
   },
   "id": "9f069c9dbd9ca3d0"
  },
  {
   "cell_type": "markdown",
   "source": [
    "### Infections"
   ],
   "metadata": {
    "collapsed": false
   },
   "id": "105bec481fe1b70e"
  },
  {
   "cell_type": "code",
   "execution_count": null,
   "outputs": [],
   "source": [
    "forecast_infections = {\n",
    "    'forecast_date': [start_date.strftime('%Y-%m-%d')] * 5,\n",
    "    'target': ['infections'] * 5,\n",
    "    'horizon': ['0 week', '1 week', '2 week', '3 week', '4 week'],\n",
    "    # 'q0.025': ['NA'] * 5,\n",
    "    # 'q0.25': ['NA'] * 5,\n",
    "    # 'q0.5': ['NA'] * 5,\n",
    "    # 'q0.75': ['NA'] * 5,\n",
    "    # 'q0.975': ['NA'] * 5,\n",
    "    'q0.025': [np.nan] * 5,\n",
    "    'q0.25': [np.nan] * 5,\n",
    "    'q0.5': [np.nan] * 5,\n",
    "    'q0.75': [np.nan] * 5,\n",
    "    'q0.975': [np.nan] * 5\n",
    "}\n",
    "\n",
    "forecast_infections = pd.DataFrame(forecast_infections)"
   ],
   "metadata": {
    "collapsed": false
   },
   "id": "5a3873d90a18c7fb"
  },
  {
   "cell_type": "code",
   "execution_count": null,
   "outputs": [],
   "source": [
    "forecast_infections"
   ],
   "metadata": {
    "collapsed": false
   },
   "id": "7d5811c34b25292f"
  },
  {
   "cell_type": "markdown",
   "source": [
    "## Merge results\n",
    "\n",
    "Check results: Are they valid, forecast_date is right? The last entry might be cut off"
   ],
   "metadata": {
    "collapsed": false
   },
   "id": "a0f6402def6f6bb4"
  },
  {
   "cell_type": "code",
   "execution_count": null,
   "outputs": [],
   "source": [
    "forecasts = pd.concat([forecast_dax,forecast_en, forecast_infections]).reset_index().drop(columns=['index'])\n",
    "forecasts"
   ],
   "metadata": {
    "collapsed": false
   },
   "id": "9a6cbf31cfef99e2"
  },
  {
   "cell_type": "markdown",
   "source": [
    "If everything seems good: Override forecast_date"
   ],
   "metadata": {
    "collapsed": false
   },
   "id": "d5cac7727b9a5070"
  },
  {
   "cell_type": "code",
   "execution_count": null,
   "outputs": [],
   "source": [
    "forecasts['forecast_date'] = [start_date.strftime('%Y-%m-%d') for _ in range(len(forecasts))]"
   ],
   "metadata": {
    "collapsed": false
   },
   "id": "32de480b970161d"
  },
  {
   "cell_type": "code",
   "execution_count": null,
   "outputs": [],
   "source": [
    "forecasts"
   ],
   "metadata": {
    "collapsed": false
   },
   "id": "f1a175becc740208"
  },
  {
   "cell_type": "markdown",
   "source": [
    "### Check df & Save csv-File"
   ],
   "metadata": {
    "collapsed": false
   },
   "id": "bd5784a4dab355d8"
  },
  {
   "cell_type": "code",
   "execution_count": null,
   "outputs": [],
   "source": [
    "from HelpFunctions.check_submission import check_submission_df\n",
    "\n",
    "check_submission_df(forecasts)\n",
    "forecasts.to_csv(f'./Abgaben/{start_date.strftime(\"%Y%m%d\")}_JakePeralta.csv', na_rep='NA', index=False)"
   ],
   "metadata": {
    "collapsed": false
   },
   "id": "47bccebca5a246c1"
  },
  {
   "cell_type": "code",
   "execution_count": null,
   "outputs": [],
   "source": [],
   "metadata": {
    "collapsed": false
   },
   "id": "d30d3456e1371d4b"
  }
 ],
 "metadata": {
  "kernelspec": {
   "display_name": "Python 3",
   "language": "python",
   "name": "python3"
  },
  "language_info": {
   "codemirror_mode": {
    "name": "ipython",
    "version": 2
   },
   "file_extension": ".py",
   "mimetype": "text/x-python",
   "name": "python",
   "nbconvert_exporter": "python",
   "pygments_lexer": "ipython2",
   "version": "2.7.6"
  }
 },
 "nbformat": 4,
 "nbformat_minor": 5
}
