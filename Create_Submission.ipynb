{
 "cells": [
  {
   "cell_type": "markdown",
   "source": [
    "# Create Submission File"
   ],
   "metadata": {
    "collapsed": false
   },
   "id": "8c32bd09ca64c40b"
  },
  {
   "cell_type": "markdown",
   "source": [
    "## Imports and get data"
   ],
   "metadata": {
    "collapsed": false
   },
   "id": "14fdcf25ca938883"
  },
  {
   "cell_type": "code",
   "execution_count": 34,
   "outputs": [],
   "source": [
    "import pickle\n",
    "import seaborn as sns\n",
    "import matplotlib.pyplot as plt\n",
    "from datetime import timedelta\n",
    "import pandas as pd\n",
    "import numpy as np\n",
    "from HelpFunctions.calc_score import evaluate_horizon\n",
    "from HelpFunctions.mix_models import mix_models\n",
    "from HelpFunctions.date_and_time import most_recent_thursday, split_time\n",
    "\n",
    "from DAX.HelpFunctions.get_dax_data import get_dax_data\n",
    "from DAX.Models import baseline as dax_bl\n",
    "from DAX.Models import garch11 as dax_garch\n",
    "\n",
    "from Energy.HelpFunctions.get_energy_data import get_energy_data, prepare_data\n",
    "from Energy.Models import baseline as en_bl\n",
    "from Energy.Models import Model4_population as en_m4_pop\n",
    "from datetime import datetime\n",
    "import pytz\n",
    "\n",
    "# import importlib\n",
    "# importlib.reload(Energy.Models)\n",
    "\n",
    "# import importlib\n",
    "# importlib.reload(Energy.Models)"
   ],
   "metadata": {
    "collapsed": false,
    "ExecuteTime": {
     "end_time": "2024-01-17T18:24:44.835933Z",
     "start_time": "2024-01-17T18:24:44.830640Z"
    }
   },
   "id": "c30798cf9e7795b4"
  },
  {
   "cell_type": "markdown",
   "source": [
    "### DAX: Get and prepare Data\n",
    "Use tuesday as last datapoint"
   ],
   "metadata": {
    "collapsed": false
   },
   "id": "a5a087de7041bd86"
  },
  {
   "cell_type": "code",
   "execution_count": 114,
   "outputs": [],
   "source": [
    "# Insert Date of Wednesday (forecast-day) here. The current day has to be wednesday!!\n",
    "start_date = datetime(2024, 1, 17, 18, 0, 0)\n",
    "assert start_date.weekday() == 2"
   ],
   "metadata": {
    "collapsed": false,
    "ExecuteTime": {
     "end_time": "2024-01-17T18:39:13.598321Z",
     "start_time": "2024-01-17T18:39:13.590593Z"
    }
   },
   "id": "fe12d8b274c080da"
  },
  {
   "cell_type": "code",
   "execution_count": 115,
   "outputs": [],
   "source": [
    "df_dax = get_dax_data()\n",
    "# pretend_start_date = date(2023, 11, 22, 11, 00, 0, tzinfo=pytz.timezone('Europe/Berlin'))\n",
    "\n",
    "df_dax = df_dax[df_dax.index.date <= start_date.date()]"
   ],
   "metadata": {
    "collapsed": false,
    "ExecuteTime": {
     "end_time": "2024-01-17T18:39:14.393809Z",
     "start_time": "2024-01-17T18:39:13.935187Z"
    }
   },
   "id": "ae761a7c6fa93c50"
  },
  {
   "cell_type": "code",
   "execution_count": 116,
   "outputs": [
    {
     "data": {
      "text/plain": "                                  Close      ret1      ret2      ret3  \\\nDate                                                                    \n2024-01-11 00:00:00+01:00  16547.029297 -0.859180 -0.850485 -1.018792   \n2024-01-12 00:00:00+01:00  16704.560547  0.947518  0.088338  0.097034   \n2024-01-15 00:00:00+01:00  16622.220703 -0.494137  0.453381 -0.405799   \n2024-01-16 00:00:00+01:00  16571.679688 -0.304520 -0.798657  0.148861   \n2024-01-17 00:00:00+01:00  16431.689453 -0.848344 -1.152864 -1.647001   \n\n                               ret4      ret5  \nDate                                           \n2024-01-11 00:00:00+01:00 -0.284731 -0.423708  \n2024-01-12 00:00:00+01:00 -0.071273  0.662787  \n2024-01-15 00:00:00+01:00 -0.397104 -0.565411  \n2024-01-16 00:00:00+01:00 -0.710319 -0.701624  \n2024-01-17 00:00:00+01:00 -0.699483 -1.558663  ",
      "text/html": "<div>\n<style scoped>\n    .dataframe tbody tr th:only-of-type {\n        vertical-align: middle;\n    }\n\n    .dataframe tbody tr th {\n        vertical-align: top;\n    }\n\n    .dataframe thead th {\n        text-align: right;\n    }\n</style>\n<table border=\"1\" class=\"dataframe\">\n  <thead>\n    <tr style=\"text-align: right;\">\n      <th></th>\n      <th>Close</th>\n      <th>ret1</th>\n      <th>ret2</th>\n      <th>ret3</th>\n      <th>ret4</th>\n      <th>ret5</th>\n    </tr>\n    <tr>\n      <th>Date</th>\n      <th></th>\n      <th></th>\n      <th></th>\n      <th></th>\n      <th></th>\n      <th></th>\n    </tr>\n  </thead>\n  <tbody>\n    <tr>\n      <th>2024-01-11 00:00:00+01:00</th>\n      <td>16547.029297</td>\n      <td>-0.859180</td>\n      <td>-0.850485</td>\n      <td>-1.018792</td>\n      <td>-0.284731</td>\n      <td>-0.423708</td>\n    </tr>\n    <tr>\n      <th>2024-01-12 00:00:00+01:00</th>\n      <td>16704.560547</td>\n      <td>0.947518</td>\n      <td>0.088338</td>\n      <td>0.097034</td>\n      <td>-0.071273</td>\n      <td>0.662787</td>\n    </tr>\n    <tr>\n      <th>2024-01-15 00:00:00+01:00</th>\n      <td>16622.220703</td>\n      <td>-0.494137</td>\n      <td>0.453381</td>\n      <td>-0.405799</td>\n      <td>-0.397104</td>\n      <td>-0.565411</td>\n    </tr>\n    <tr>\n      <th>2024-01-16 00:00:00+01:00</th>\n      <td>16571.679688</td>\n      <td>-0.304520</td>\n      <td>-0.798657</td>\n      <td>0.148861</td>\n      <td>-0.710319</td>\n      <td>-0.701624</td>\n    </tr>\n    <tr>\n      <th>2024-01-17 00:00:00+01:00</th>\n      <td>16431.689453</td>\n      <td>-0.848344</td>\n      <td>-1.152864</td>\n      <td>-1.647001</td>\n      <td>-0.699483</td>\n      <td>-1.558663</td>\n    </tr>\n  </tbody>\n</table>\n</div>"
     },
     "execution_count": 116,
     "metadata": {},
     "output_type": "execute_result"
    }
   ],
   "source": [
    "df_dax.tail()"
   ],
   "metadata": {
    "collapsed": false,
    "ExecuteTime": {
     "end_time": "2024-01-17T18:39:14.399024Z",
     "start_time": "2024-01-17T18:39:14.396964Z"
    }
   },
   "id": "92645117f2cf725e"
  },
  {
   "cell_type": "markdown",
   "source": [
    "### Energy: Get and prepare Data"
   ],
   "metadata": {
    "collapsed": false
   },
   "id": "68351dfe67b07c44"
  },
  {
   "cell_type": "code",
   "execution_count": 122,
   "outputs": [
    {
     "name": "stderr",
     "output_type": "stream",
     "text": [
      "  0%|          | 0/265 [00:00<?, ?it/s]/Users/elias/Desktop/PTSFC/Energy/HelpFunctions/get_energy_data.py:54: FutureWarning: The behavior of DataFrame concatenation with empty or all-NA entries is deprecated. In a future version, this will no longer exclude empty or all-NA columns when determining the result dtypes. To retain the old behavior, exclude the relevant entries before the concat operation.\n",
      "  energydata = pd.concat([energydata, pd.DataFrame(rawdata, columns=col_names)])\n",
      "100%|██████████| 265/265 [00:45<00:00,  5.89it/s]\n"
     ]
    }
   ],
   "source": [
    "from Energy.HelpFunctions.get_energy_data import fetch_energy_data\n",
    "fetch_energy_data()"
   ],
   "metadata": {
    "collapsed": false,
    "ExecuteTime": {
     "end_time": "2024-01-17T18:44:38.555451Z",
     "start_time": "2024-01-17T18:43:53.356561Z"
    }
   },
   "id": "616a683b3b913537"
  },
  {
   "cell_type": "code",
   "execution_count": 123,
   "outputs": [],
   "source": [
    "df_en = get_energy_data()\n",
    "df_en = prepare_data(df_en)"
   ],
   "metadata": {
    "collapsed": false,
    "ExecuteTime": {
     "end_time": "2024-01-17T18:44:38.574192Z",
     "start_time": "2024-01-17T18:44:38.554274Z"
    }
   },
   "id": "b59e1a44bd7c2e8f"
  },
  {
   "cell_type": "code",
   "execution_count": 126,
   "outputs": [
    {
     "data": {
      "text/plain": "                       gesamt\ndate_time                    \n2024-01-17 09:00:00  73.11700\n2024-01-17 10:00:00  73.06200\n2024-01-17 11:00:00  72.65925\n2024-01-17 12:00:00  72.72250\n2024-01-17 13:00:00  71.57850\n2024-01-17 14:00:00  70.56925\n2024-01-17 15:00:00  69.19300\n2024-01-17 16:00:00  17.30400\n2024-01-17 17:00:00  70.99425\n2024-01-17 18:00:00  53.09200",
      "text/html": "<div>\n<style scoped>\n    .dataframe tbody tr th:only-of-type {\n        vertical-align: middle;\n    }\n\n    .dataframe tbody tr th {\n        vertical-align: top;\n    }\n\n    .dataframe thead th {\n        text-align: right;\n    }\n</style>\n<table border=\"1\" class=\"dataframe\">\n  <thead>\n    <tr style=\"text-align: right;\">\n      <th></th>\n      <th>gesamt</th>\n    </tr>\n    <tr>\n      <th>date_time</th>\n      <th></th>\n    </tr>\n  </thead>\n  <tbody>\n    <tr>\n      <th>2024-01-17 09:00:00</th>\n      <td>73.11700</td>\n    </tr>\n    <tr>\n      <th>2024-01-17 10:00:00</th>\n      <td>73.06200</td>\n    </tr>\n    <tr>\n      <th>2024-01-17 11:00:00</th>\n      <td>72.65925</td>\n    </tr>\n    <tr>\n      <th>2024-01-17 12:00:00</th>\n      <td>72.72250</td>\n    </tr>\n    <tr>\n      <th>2024-01-17 13:00:00</th>\n      <td>71.57850</td>\n    </tr>\n    <tr>\n      <th>2024-01-17 14:00:00</th>\n      <td>70.56925</td>\n    </tr>\n    <tr>\n      <th>2024-01-17 15:00:00</th>\n      <td>69.19300</td>\n    </tr>\n    <tr>\n      <th>2024-01-17 16:00:00</th>\n      <td>17.30400</td>\n    </tr>\n    <tr>\n      <th>2024-01-17 17:00:00</th>\n      <td>70.99425</td>\n    </tr>\n    <tr>\n      <th>2024-01-17 18:00:00</th>\n      <td>53.09200</td>\n    </tr>\n  </tbody>\n</table>\n</div>"
     },
     "execution_count": 126,
     "metadata": {},
     "output_type": "execute_result"
    }
   ],
   "source": [
    "df_en.tail(10)"
   ],
   "metadata": {
    "collapsed": false,
    "ExecuteTime": {
     "end_time": "2024-01-17T18:44:45.945894Z",
     "start_time": "2024-01-17T18:44:45.937685Z"
    }
   },
   "id": "e1359061e9967705"
  },
  {
   "cell_type": "code",
   "execution_count": 119,
   "outputs": [],
   "source": [
    "df_en = df_en.loc[df_en.index <= start_date]"
   ],
   "metadata": {
    "collapsed": false,
    "ExecuteTime": {
     "end_time": "2024-01-17T18:39:19.321999Z",
     "start_time": "2024-01-17T18:39:19.290271Z"
    }
   },
   "id": "3ce91a690ad2cdc5"
  },
  {
   "cell_type": "code",
   "execution_count": 1,
   "outputs": [
    {
     "ename": "NameError",
     "evalue": "name 'df_en' is not defined",
     "output_type": "error",
     "traceback": [
      "\u001B[0;31m---------------------------------------------------------------------------\u001B[0m",
      "\u001B[0;31mNameError\u001B[0m                                 Traceback (most recent call last)",
      "Cell \u001B[0;32mIn[1], line 2\u001B[0m\n\u001B[1;32m      1\u001B[0m \u001B[38;5;66;03m# Check if still required next week ...\u001B[39;00m\n\u001B[0;32m----> 2\u001B[0m df_en\u001B[38;5;241m.\u001B[39mloc[\u001B[38;5;124m'\u001B[39m\u001B[38;5;124m2024-01-17 16:00:00\u001B[39m\u001B[38;5;124m'\u001B[39m, \u001B[38;5;124m'\u001B[39m\u001B[38;5;124mgesamt\u001B[39m\u001B[38;5;124m'\u001B[39m] \u001B[38;5;241m=\u001B[39m (\u001B[43mdf_en\u001B[49m\u001B[38;5;241m.\u001B[39mloc[\u001B[38;5;124m'\u001B[39m\u001B[38;5;124m2024-01-17 15:00:00\u001B[39m\u001B[38;5;124m'\u001B[39m, \u001B[38;5;124m'\u001B[39m\u001B[38;5;124mgesamt\u001B[39m\u001B[38;5;124m'\u001B[39m] \u001B[38;5;241m+\u001B[39mdf_en\u001B[38;5;241m.\u001B[39mloc[\u001B[38;5;124m'\u001B[39m\u001B[38;5;124m2024-01-17 17:00:00\u001B[39m\u001B[38;5;124m'\u001B[39m, \u001B[38;5;124m'\u001B[39m\u001B[38;5;124mgesamt\u001B[39m\u001B[38;5;124m'\u001B[39m])\u001B[38;5;241m/\u001B[39m\u001B[38;5;241m2\u001B[39m\n\u001B[1;32m      3\u001B[0m df_en\u001B[38;5;241m.\u001B[39mtail()\n",
      "\u001B[0;31mNameError\u001B[0m: name 'df_en' is not defined"
     ]
    }
   ],
   "source": [
    "# Check if still required next week ...\n",
    "df_en.loc['2024-01-17 16:00:00', 'gesamt'] = (df_en.loc['2024-01-17 15:00:00', 'gesamt'] +df_en.loc['2024-01-17 17:00:00', 'gesamt'])/2\n",
    "df_en.tail()"
   ],
   "metadata": {
    "collapsed": false,
    "ExecuteTime": {
     "end_time": "2024-01-17T18:47:50.551219Z",
     "start_time": "2024-01-17T18:47:50.375426Z"
    }
   },
   "id": "9ec8ed6cc58d3ad6"
  },
  {
   "cell_type": "markdown",
   "source": [
    "## Run models for the data"
   ],
   "metadata": {
    "collapsed": false
   },
   "id": "b64db28817cc4bb"
  },
  {
   "cell_type": "markdown",
   "source": [
    "### DAX"
   ],
   "metadata": {
    "collapsed": false
   },
   "id": "61218b68e5a9083d"
  },
  {
   "cell_type": "code",
   "execution_count": 106,
   "outputs": [
    {
     "data": {
      "text/plain": "  forecast_date target horizon    q0.025     q0.25      q0.5     q0.75  \\\n0    2024-01-18    DAX   1 day -1.558635 -0.423302  0.018505  0.505234   \n1    2024-01-19    DAX   2 day -2.145728 -0.653572  0.010310  0.720111   \n2    2024-01-22    DAX   5 day -2.842990 -0.841287  0.070235  0.986638   \n3    2024-01-23    DAX   6 day -2.995225 -0.869402  0.100907  1.047762   \n4    2024-01-24    DAX   7 day -3.287998 -0.926635  0.103120  1.232834   \n\n     q0.975  \n0  1.547897  \n1  2.215027  \n2  2.776736  \n3  3.040285  \n4  3.306357  ",
      "text/html": "<div>\n<style scoped>\n    .dataframe tbody tr th:only-of-type {\n        vertical-align: middle;\n    }\n\n    .dataframe tbody tr th {\n        vertical-align: top;\n    }\n\n    .dataframe thead th {\n        text-align: right;\n    }\n</style>\n<table border=\"1\" class=\"dataframe\">\n  <thead>\n    <tr style=\"text-align: right;\">\n      <th></th>\n      <th>forecast_date</th>\n      <th>target</th>\n      <th>horizon</th>\n      <th>q0.025</th>\n      <th>q0.25</th>\n      <th>q0.5</th>\n      <th>q0.75</th>\n      <th>q0.975</th>\n    </tr>\n  </thead>\n  <tbody>\n    <tr>\n      <th>0</th>\n      <td>2024-01-18</td>\n      <td>DAX</td>\n      <td>1 day</td>\n      <td>-1.558635</td>\n      <td>-0.423302</td>\n      <td>0.018505</td>\n      <td>0.505234</td>\n      <td>1.547897</td>\n    </tr>\n    <tr>\n      <th>1</th>\n      <td>2024-01-19</td>\n      <td>DAX</td>\n      <td>2 day</td>\n      <td>-2.145728</td>\n      <td>-0.653572</td>\n      <td>0.010310</td>\n      <td>0.720111</td>\n      <td>2.215027</td>\n    </tr>\n    <tr>\n      <th>2</th>\n      <td>2024-01-22</td>\n      <td>DAX</td>\n      <td>5 day</td>\n      <td>-2.842990</td>\n      <td>-0.841287</td>\n      <td>0.070235</td>\n      <td>0.986638</td>\n      <td>2.776736</td>\n    </tr>\n    <tr>\n      <th>3</th>\n      <td>2024-01-23</td>\n      <td>DAX</td>\n      <td>6 day</td>\n      <td>-2.995225</td>\n      <td>-0.869402</td>\n      <td>0.100907</td>\n      <td>1.047762</td>\n      <td>3.040285</td>\n    </tr>\n    <tr>\n      <th>4</th>\n      <td>2024-01-24</td>\n      <td>DAX</td>\n      <td>7 day</td>\n      <td>-3.287998</td>\n      <td>-0.926635</td>\n      <td>0.103120</td>\n      <td>1.232834</td>\n      <td>3.306357</td>\n    </tr>\n  </tbody>\n</table>\n</div>"
     },
     "execution_count": 106,
     "metadata": {},
     "output_type": "execute_result"
    }
   ],
   "source": [
    "from DAX.Models import arma_garch_11 as ag\n",
    "from DAX.Models import baseline as bl\n",
    "\n",
    "import importlib\n",
    "importlib.reload(ag)\n",
    "importlib.reload(bl)\n",
    "\n",
    "\n",
    "# dax_bl.baseline(df_dax)\n",
    "# forecast_dax = dax_garch.garch11(df_dax)\n",
    "forecast_dax = mix_models([ag.garch11_norm_1y, bl.baseline_1y], [1,1], df_dax, 'DAX')\n",
    "forecast_dax\n"
   ],
   "metadata": {
    "collapsed": false,
    "ExecuteTime": {
     "end_time": "2024-01-17T18:37:43.353026Z",
     "start_time": "2024-01-17T18:37:42.387195Z"
    }
   },
   "id": "742fa6034b59aa97"
  },
  {
   "cell_type": "markdown",
   "source": [
    "### Energy  "
   ],
   "metadata": {
    "collapsed": false
   },
   "id": "a401e8783d00353a"
  },
  {
   "cell_type": "code",
   "execution_count": 107,
   "outputs": [
    {
     "data": {
      "text/plain": "        forecast_date  target  horizon     q0.025      q0.25       q0.5  \\\n0 2024-01-19 12:00:00  energy  36 hour  58.324867  64.902470  68.517759   \n1 2024-01-19 16:00:00  energy  40 hour  56.282704  62.124835  65.431514   \n2 2024-01-19 20:00:00  energy  44 hour  52.989286  58.142251  60.948244   \n3 2024-01-20 12:00:00  energy  60 hour  50.255321  56.832334  59.979786   \n4 2024-01-20 16:00:00  energy  64 hour  49.067564  54.909106  57.747947   \n5 2024-01-20 20:00:00  energy  68 hour  46.397904  51.550280  53.888435   \n\n       q0.75     q0.975  \n0  70.959155  75.874334  \n1  68.004441  72.945365  \n2  63.430792  68.432895  \n3  62.221662  66.729531  \n4  60.121355  64.654968  \n5  56.171464  60.766256  ",
      "text/html": "<div>\n<style scoped>\n    .dataframe tbody tr th:only-of-type {\n        vertical-align: middle;\n    }\n\n    .dataframe tbody tr th {\n        vertical-align: top;\n    }\n\n    .dataframe thead th {\n        text-align: right;\n    }\n</style>\n<table border=\"1\" class=\"dataframe\">\n  <thead>\n    <tr style=\"text-align: right;\">\n      <th></th>\n      <th>forecast_date</th>\n      <th>target</th>\n      <th>horizon</th>\n      <th>q0.025</th>\n      <th>q0.25</th>\n      <th>q0.5</th>\n      <th>q0.75</th>\n      <th>q0.975</th>\n    </tr>\n  </thead>\n  <tbody>\n    <tr>\n      <th>0</th>\n      <td>2024-01-19 12:00:00</td>\n      <td>energy</td>\n      <td>36 hour</td>\n      <td>58.324867</td>\n      <td>64.902470</td>\n      <td>68.517759</td>\n      <td>70.959155</td>\n      <td>75.874334</td>\n    </tr>\n    <tr>\n      <th>1</th>\n      <td>2024-01-19 16:00:00</td>\n      <td>energy</td>\n      <td>40 hour</td>\n      <td>56.282704</td>\n      <td>62.124835</td>\n      <td>65.431514</td>\n      <td>68.004441</td>\n      <td>72.945365</td>\n    </tr>\n    <tr>\n      <th>2</th>\n      <td>2024-01-19 20:00:00</td>\n      <td>energy</td>\n      <td>44 hour</td>\n      <td>52.989286</td>\n      <td>58.142251</td>\n      <td>60.948244</td>\n      <td>63.430792</td>\n      <td>68.432895</td>\n    </tr>\n    <tr>\n      <th>3</th>\n      <td>2024-01-20 12:00:00</td>\n      <td>energy</td>\n      <td>60 hour</td>\n      <td>50.255321</td>\n      <td>56.832334</td>\n      <td>59.979786</td>\n      <td>62.221662</td>\n      <td>66.729531</td>\n    </tr>\n    <tr>\n      <th>4</th>\n      <td>2024-01-20 16:00:00</td>\n      <td>energy</td>\n      <td>64 hour</td>\n      <td>49.067564</td>\n      <td>54.909106</td>\n      <td>57.747947</td>\n      <td>60.121355</td>\n      <td>64.654968</td>\n    </tr>\n    <tr>\n      <th>5</th>\n      <td>2024-01-20 20:00:00</td>\n      <td>energy</td>\n      <td>68 hour</td>\n      <td>46.397904</td>\n      <td>51.550280</td>\n      <td>53.888435</td>\n      <td>56.171464</td>\n      <td>60.766256</td>\n    </tr>\n  </tbody>\n</table>\n</div>"
     },
     "execution_count": 107,
     "metadata": {},
     "output_type": "execute_result"
    }
   ],
   "source": [
    "from Energy.Models import mstl\n",
    "from Energy.Models.baseline import baseline\n",
    "from HelpFunctions.mix_models import mix_models_per_horizon\n",
    "from Energy.Models.Model4_sunhours import model4_sunhours\n",
    "from Energy.Models.Model4_holidays_2 import model4_holidays_2\n",
    "from Energy.Models.Model4_population import model4_population\n",
    "from Energy.Models import Model5\n",
    "\n",
    "# en_bl.baseline(df_en, LAST_IDX=-1, offset_horizons=11)\n",
    "\n",
    "import importlib\n",
    "importlib.reload(Model5)\n",
    "importlib.reload(mstl)\n",
    "\n",
    "weights_m5_bl_m4_x = [1,1]\n",
    "functions_m5_bl_m4_x = [mstl.mstl, Model5.model5]\n",
    "\n",
    "\n",
    "\n",
    "\n",
    "# forecast_en = en_m4_pop.model4_population(df_en, offset_horizons=15)\n",
    "forecast_en = mix_models(functions_m5_bl_m4_x, weights_m5_bl_m4_x, df_en, target=\"energy\", offset_horizons=6)\n",
    "forecast_en"
   ],
   "metadata": {
    "collapsed": false,
    "ExecuteTime": {
     "end_time": "2024-01-17T18:37:54.743846Z",
     "start_time": "2024-01-17T18:37:49.225501Z"
    }
   },
   "id": "27c1531489976aa4"
  },
  {
   "cell_type": "markdown",
   "source": [
    "### Infections"
   ],
   "metadata": {
    "collapsed": false
   },
   "id": "105bec481fe1b70e"
  },
  {
   "cell_type": "code",
   "execution_count": 108,
   "outputs": [],
   "source": [
    "forecast_infections = {\n",
    "    'forecast_date': [start_date.strftime('%Y-%m-%d')] * 5,\n",
    "    'target': ['infections'] * 5,\n",
    "    'horizon': ['0 week', '1 week', '2 week', '3 week', '4 week'],\n",
    "    # 'q0.025': ['NA'] * 5,\n",
    "    # 'q0.25': ['NA'] * 5,\n",
    "    # 'q0.5': ['NA'] * 5,\n",
    "    # 'q0.75': ['NA'] * 5,\n",
    "    # 'q0.975': ['NA'] * 5,\n",
    "    'q0.025': [np.nan] * 5,\n",
    "    'q0.25': [np.nan] * 5,\n",
    "    'q0.5': [np.nan] * 5,\n",
    "    'q0.75': [np.nan] * 5,\n",
    "    'q0.975': [np.nan] * 5\n",
    "}\n",
    "\n",
    "forecast_infections = pd.DataFrame(forecast_infections)"
   ],
   "metadata": {
    "collapsed": false,
    "ExecuteTime": {
     "end_time": "2024-01-17T18:38:33.320186Z",
     "start_time": "2024-01-17T18:38:33.316983Z"
    }
   },
   "id": "5a3873d90a18c7fb"
  },
  {
   "cell_type": "code",
   "execution_count": 109,
   "outputs": [
    {
     "data": {
      "text/plain": "  forecast_date      target horizon  q0.025  q0.25  q0.5  q0.75  q0.975\n0    2024-01-17  infections  0 week     NaN    NaN   NaN    NaN     NaN\n1    2024-01-17  infections  1 week     NaN    NaN   NaN    NaN     NaN\n2    2024-01-17  infections  2 week     NaN    NaN   NaN    NaN     NaN\n3    2024-01-17  infections  3 week     NaN    NaN   NaN    NaN     NaN\n4    2024-01-17  infections  4 week     NaN    NaN   NaN    NaN     NaN",
      "text/html": "<div>\n<style scoped>\n    .dataframe tbody tr th:only-of-type {\n        vertical-align: middle;\n    }\n\n    .dataframe tbody tr th {\n        vertical-align: top;\n    }\n\n    .dataframe thead th {\n        text-align: right;\n    }\n</style>\n<table border=\"1\" class=\"dataframe\">\n  <thead>\n    <tr style=\"text-align: right;\">\n      <th></th>\n      <th>forecast_date</th>\n      <th>target</th>\n      <th>horizon</th>\n      <th>q0.025</th>\n      <th>q0.25</th>\n      <th>q0.5</th>\n      <th>q0.75</th>\n      <th>q0.975</th>\n    </tr>\n  </thead>\n  <tbody>\n    <tr>\n      <th>0</th>\n      <td>2024-01-17</td>\n      <td>infections</td>\n      <td>0 week</td>\n      <td>NaN</td>\n      <td>NaN</td>\n      <td>NaN</td>\n      <td>NaN</td>\n      <td>NaN</td>\n    </tr>\n    <tr>\n      <th>1</th>\n      <td>2024-01-17</td>\n      <td>infections</td>\n      <td>1 week</td>\n      <td>NaN</td>\n      <td>NaN</td>\n      <td>NaN</td>\n      <td>NaN</td>\n      <td>NaN</td>\n    </tr>\n    <tr>\n      <th>2</th>\n      <td>2024-01-17</td>\n      <td>infections</td>\n      <td>2 week</td>\n      <td>NaN</td>\n      <td>NaN</td>\n      <td>NaN</td>\n      <td>NaN</td>\n      <td>NaN</td>\n    </tr>\n    <tr>\n      <th>3</th>\n      <td>2024-01-17</td>\n      <td>infections</td>\n      <td>3 week</td>\n      <td>NaN</td>\n      <td>NaN</td>\n      <td>NaN</td>\n      <td>NaN</td>\n      <td>NaN</td>\n    </tr>\n    <tr>\n      <th>4</th>\n      <td>2024-01-17</td>\n      <td>infections</td>\n      <td>4 week</td>\n      <td>NaN</td>\n      <td>NaN</td>\n      <td>NaN</td>\n      <td>NaN</td>\n      <td>NaN</td>\n    </tr>\n  </tbody>\n</table>\n</div>"
     },
     "execution_count": 109,
     "metadata": {},
     "output_type": "execute_result"
    }
   ],
   "source": [
    "forecast_infections"
   ],
   "metadata": {
    "collapsed": false,
    "ExecuteTime": {
     "end_time": "2024-01-17T18:38:34.898235Z",
     "start_time": "2024-01-17T18:38:34.890853Z"
    }
   },
   "id": "7d5811c34b25292f"
  },
  {
   "cell_type": "markdown",
   "source": [
    "## Merge results\n",
    "\n",
    "Check results: Are they valid, forecast_date is right? The last entry might be cut off"
   ],
   "metadata": {
    "collapsed": false
   },
   "id": "a0f6402def6f6bb4"
  },
  {
   "cell_type": "code",
   "execution_count": 110,
   "outputs": [
    {
     "data": {
      "text/plain": "          forecast_date      target  horizon     q0.025      q0.25       q0.5  \\\n0            2024-01-18         DAX    1 day  -1.558635  -0.423302   0.018505   \n1            2024-01-19         DAX    2 day  -2.145728  -0.653572   0.010310   \n2            2024-01-22         DAX    5 day  -2.842990  -0.841287   0.070235   \n3            2024-01-23         DAX    6 day  -2.995225  -0.869402   0.100907   \n4            2024-01-24         DAX    7 day  -3.287998  -0.926635   0.103120   \n5   2024-01-19 12:00:00      energy  36 hour  58.324867  64.902470  68.517759   \n6   2024-01-19 16:00:00      energy  40 hour  56.282704  62.124835  65.431514   \n7   2024-01-19 20:00:00      energy  44 hour  52.989286  58.142251  60.948244   \n8   2024-01-20 12:00:00      energy  60 hour  50.255321  56.832334  59.979786   \n9   2024-01-20 16:00:00      energy  64 hour  49.067564  54.909106  57.747947   \n10  2024-01-20 20:00:00      energy  68 hour  46.397904  51.550280  53.888435   \n11           2024-01-17  infections   0 week        NaN        NaN        NaN   \n12           2024-01-17  infections   1 week        NaN        NaN        NaN   \n13           2024-01-17  infections   2 week        NaN        NaN        NaN   \n14           2024-01-17  infections   3 week        NaN        NaN        NaN   \n15           2024-01-17  infections   4 week        NaN        NaN        NaN   \n\n        q0.75     q0.975  \n0    0.505234   1.547897  \n1    0.720111   2.215027  \n2    0.986638   2.776736  \n3    1.047762   3.040285  \n4    1.232834   3.306357  \n5   70.959155  75.874334  \n6   68.004441  72.945365  \n7   63.430792  68.432895  \n8   62.221662  66.729531  \n9   60.121355  64.654968  \n10  56.171464  60.766256  \n11        NaN        NaN  \n12        NaN        NaN  \n13        NaN        NaN  \n14        NaN        NaN  \n15        NaN        NaN  ",
      "text/html": "<div>\n<style scoped>\n    .dataframe tbody tr th:only-of-type {\n        vertical-align: middle;\n    }\n\n    .dataframe tbody tr th {\n        vertical-align: top;\n    }\n\n    .dataframe thead th {\n        text-align: right;\n    }\n</style>\n<table border=\"1\" class=\"dataframe\">\n  <thead>\n    <tr style=\"text-align: right;\">\n      <th></th>\n      <th>forecast_date</th>\n      <th>target</th>\n      <th>horizon</th>\n      <th>q0.025</th>\n      <th>q0.25</th>\n      <th>q0.5</th>\n      <th>q0.75</th>\n      <th>q0.975</th>\n    </tr>\n  </thead>\n  <tbody>\n    <tr>\n      <th>0</th>\n      <td>2024-01-18</td>\n      <td>DAX</td>\n      <td>1 day</td>\n      <td>-1.558635</td>\n      <td>-0.423302</td>\n      <td>0.018505</td>\n      <td>0.505234</td>\n      <td>1.547897</td>\n    </tr>\n    <tr>\n      <th>1</th>\n      <td>2024-01-19</td>\n      <td>DAX</td>\n      <td>2 day</td>\n      <td>-2.145728</td>\n      <td>-0.653572</td>\n      <td>0.010310</td>\n      <td>0.720111</td>\n      <td>2.215027</td>\n    </tr>\n    <tr>\n      <th>2</th>\n      <td>2024-01-22</td>\n      <td>DAX</td>\n      <td>5 day</td>\n      <td>-2.842990</td>\n      <td>-0.841287</td>\n      <td>0.070235</td>\n      <td>0.986638</td>\n      <td>2.776736</td>\n    </tr>\n    <tr>\n      <th>3</th>\n      <td>2024-01-23</td>\n      <td>DAX</td>\n      <td>6 day</td>\n      <td>-2.995225</td>\n      <td>-0.869402</td>\n      <td>0.100907</td>\n      <td>1.047762</td>\n      <td>3.040285</td>\n    </tr>\n    <tr>\n      <th>4</th>\n      <td>2024-01-24</td>\n      <td>DAX</td>\n      <td>7 day</td>\n      <td>-3.287998</td>\n      <td>-0.926635</td>\n      <td>0.103120</td>\n      <td>1.232834</td>\n      <td>3.306357</td>\n    </tr>\n    <tr>\n      <th>5</th>\n      <td>2024-01-19 12:00:00</td>\n      <td>energy</td>\n      <td>36 hour</td>\n      <td>58.324867</td>\n      <td>64.902470</td>\n      <td>68.517759</td>\n      <td>70.959155</td>\n      <td>75.874334</td>\n    </tr>\n    <tr>\n      <th>6</th>\n      <td>2024-01-19 16:00:00</td>\n      <td>energy</td>\n      <td>40 hour</td>\n      <td>56.282704</td>\n      <td>62.124835</td>\n      <td>65.431514</td>\n      <td>68.004441</td>\n      <td>72.945365</td>\n    </tr>\n    <tr>\n      <th>7</th>\n      <td>2024-01-19 20:00:00</td>\n      <td>energy</td>\n      <td>44 hour</td>\n      <td>52.989286</td>\n      <td>58.142251</td>\n      <td>60.948244</td>\n      <td>63.430792</td>\n      <td>68.432895</td>\n    </tr>\n    <tr>\n      <th>8</th>\n      <td>2024-01-20 12:00:00</td>\n      <td>energy</td>\n      <td>60 hour</td>\n      <td>50.255321</td>\n      <td>56.832334</td>\n      <td>59.979786</td>\n      <td>62.221662</td>\n      <td>66.729531</td>\n    </tr>\n    <tr>\n      <th>9</th>\n      <td>2024-01-20 16:00:00</td>\n      <td>energy</td>\n      <td>64 hour</td>\n      <td>49.067564</td>\n      <td>54.909106</td>\n      <td>57.747947</td>\n      <td>60.121355</td>\n      <td>64.654968</td>\n    </tr>\n    <tr>\n      <th>10</th>\n      <td>2024-01-20 20:00:00</td>\n      <td>energy</td>\n      <td>68 hour</td>\n      <td>46.397904</td>\n      <td>51.550280</td>\n      <td>53.888435</td>\n      <td>56.171464</td>\n      <td>60.766256</td>\n    </tr>\n    <tr>\n      <th>11</th>\n      <td>2024-01-17</td>\n      <td>infections</td>\n      <td>0 week</td>\n      <td>NaN</td>\n      <td>NaN</td>\n      <td>NaN</td>\n      <td>NaN</td>\n      <td>NaN</td>\n    </tr>\n    <tr>\n      <th>12</th>\n      <td>2024-01-17</td>\n      <td>infections</td>\n      <td>1 week</td>\n      <td>NaN</td>\n      <td>NaN</td>\n      <td>NaN</td>\n      <td>NaN</td>\n      <td>NaN</td>\n    </tr>\n    <tr>\n      <th>13</th>\n      <td>2024-01-17</td>\n      <td>infections</td>\n      <td>2 week</td>\n      <td>NaN</td>\n      <td>NaN</td>\n      <td>NaN</td>\n      <td>NaN</td>\n      <td>NaN</td>\n    </tr>\n    <tr>\n      <th>14</th>\n      <td>2024-01-17</td>\n      <td>infections</td>\n      <td>3 week</td>\n      <td>NaN</td>\n      <td>NaN</td>\n      <td>NaN</td>\n      <td>NaN</td>\n      <td>NaN</td>\n    </tr>\n    <tr>\n      <th>15</th>\n      <td>2024-01-17</td>\n      <td>infections</td>\n      <td>4 week</td>\n      <td>NaN</td>\n      <td>NaN</td>\n      <td>NaN</td>\n      <td>NaN</td>\n      <td>NaN</td>\n    </tr>\n  </tbody>\n</table>\n</div>"
     },
     "execution_count": 110,
     "metadata": {},
     "output_type": "execute_result"
    }
   ],
   "source": [
    "forecasts = pd.concat([forecast_dax,forecast_en, forecast_infections]).reset_index().drop(columns=['index'])\n",
    "forecasts"
   ],
   "metadata": {
    "collapsed": false,
    "ExecuteTime": {
     "end_time": "2024-01-17T18:38:41.473615Z",
     "start_time": "2024-01-17T18:38:41.469438Z"
    }
   },
   "id": "9a6cbf31cfef99e2"
  },
  {
   "cell_type": "markdown",
   "source": [
    "If everything seems good: Override forecast_date"
   ],
   "metadata": {
    "collapsed": false
   },
   "id": "d5cac7727b9a5070"
  },
  {
   "cell_type": "code",
   "execution_count": 111,
   "outputs": [],
   "source": [
    "forecasts['forecast_date'] = [start_date.strftime('%Y-%m-%d') for _ in range(len(forecasts))]"
   ],
   "metadata": {
    "collapsed": false,
    "ExecuteTime": {
     "end_time": "2024-01-17T18:38:44.289924Z",
     "start_time": "2024-01-17T18:38:44.283007Z"
    }
   },
   "id": "32de480b970161d"
  },
  {
   "cell_type": "code",
   "execution_count": 112,
   "outputs": [
    {
     "data": {
      "text/plain": "   forecast_date      target  horizon     q0.025      q0.25       q0.5  \\\n0     2024-01-17         DAX    1 day  -1.558635  -0.423302   0.018505   \n1     2024-01-17         DAX    2 day  -2.145728  -0.653572   0.010310   \n2     2024-01-17         DAX    5 day  -2.842990  -0.841287   0.070235   \n3     2024-01-17         DAX    6 day  -2.995225  -0.869402   0.100907   \n4     2024-01-17         DAX    7 day  -3.287998  -0.926635   0.103120   \n5     2024-01-17      energy  36 hour  58.324867  64.902470  68.517759   \n6     2024-01-17      energy  40 hour  56.282704  62.124835  65.431514   \n7     2024-01-17      energy  44 hour  52.989286  58.142251  60.948244   \n8     2024-01-17      energy  60 hour  50.255321  56.832334  59.979786   \n9     2024-01-17      energy  64 hour  49.067564  54.909106  57.747947   \n10    2024-01-17      energy  68 hour  46.397904  51.550280  53.888435   \n11    2024-01-17  infections   0 week        NaN        NaN        NaN   \n12    2024-01-17  infections   1 week        NaN        NaN        NaN   \n13    2024-01-17  infections   2 week        NaN        NaN        NaN   \n14    2024-01-17  infections   3 week        NaN        NaN        NaN   \n15    2024-01-17  infections   4 week        NaN        NaN        NaN   \n\n        q0.75     q0.975  \n0    0.505234   1.547897  \n1    0.720111   2.215027  \n2    0.986638   2.776736  \n3    1.047762   3.040285  \n4    1.232834   3.306357  \n5   70.959155  75.874334  \n6   68.004441  72.945365  \n7   63.430792  68.432895  \n8   62.221662  66.729531  \n9   60.121355  64.654968  \n10  56.171464  60.766256  \n11        NaN        NaN  \n12        NaN        NaN  \n13        NaN        NaN  \n14        NaN        NaN  \n15        NaN        NaN  ",
      "text/html": "<div>\n<style scoped>\n    .dataframe tbody tr th:only-of-type {\n        vertical-align: middle;\n    }\n\n    .dataframe tbody tr th {\n        vertical-align: top;\n    }\n\n    .dataframe thead th {\n        text-align: right;\n    }\n</style>\n<table border=\"1\" class=\"dataframe\">\n  <thead>\n    <tr style=\"text-align: right;\">\n      <th></th>\n      <th>forecast_date</th>\n      <th>target</th>\n      <th>horizon</th>\n      <th>q0.025</th>\n      <th>q0.25</th>\n      <th>q0.5</th>\n      <th>q0.75</th>\n      <th>q0.975</th>\n    </tr>\n  </thead>\n  <tbody>\n    <tr>\n      <th>0</th>\n      <td>2024-01-17</td>\n      <td>DAX</td>\n      <td>1 day</td>\n      <td>-1.558635</td>\n      <td>-0.423302</td>\n      <td>0.018505</td>\n      <td>0.505234</td>\n      <td>1.547897</td>\n    </tr>\n    <tr>\n      <th>1</th>\n      <td>2024-01-17</td>\n      <td>DAX</td>\n      <td>2 day</td>\n      <td>-2.145728</td>\n      <td>-0.653572</td>\n      <td>0.010310</td>\n      <td>0.720111</td>\n      <td>2.215027</td>\n    </tr>\n    <tr>\n      <th>2</th>\n      <td>2024-01-17</td>\n      <td>DAX</td>\n      <td>5 day</td>\n      <td>-2.842990</td>\n      <td>-0.841287</td>\n      <td>0.070235</td>\n      <td>0.986638</td>\n      <td>2.776736</td>\n    </tr>\n    <tr>\n      <th>3</th>\n      <td>2024-01-17</td>\n      <td>DAX</td>\n      <td>6 day</td>\n      <td>-2.995225</td>\n      <td>-0.869402</td>\n      <td>0.100907</td>\n      <td>1.047762</td>\n      <td>3.040285</td>\n    </tr>\n    <tr>\n      <th>4</th>\n      <td>2024-01-17</td>\n      <td>DAX</td>\n      <td>7 day</td>\n      <td>-3.287998</td>\n      <td>-0.926635</td>\n      <td>0.103120</td>\n      <td>1.232834</td>\n      <td>3.306357</td>\n    </tr>\n    <tr>\n      <th>5</th>\n      <td>2024-01-17</td>\n      <td>energy</td>\n      <td>36 hour</td>\n      <td>58.324867</td>\n      <td>64.902470</td>\n      <td>68.517759</td>\n      <td>70.959155</td>\n      <td>75.874334</td>\n    </tr>\n    <tr>\n      <th>6</th>\n      <td>2024-01-17</td>\n      <td>energy</td>\n      <td>40 hour</td>\n      <td>56.282704</td>\n      <td>62.124835</td>\n      <td>65.431514</td>\n      <td>68.004441</td>\n      <td>72.945365</td>\n    </tr>\n    <tr>\n      <th>7</th>\n      <td>2024-01-17</td>\n      <td>energy</td>\n      <td>44 hour</td>\n      <td>52.989286</td>\n      <td>58.142251</td>\n      <td>60.948244</td>\n      <td>63.430792</td>\n      <td>68.432895</td>\n    </tr>\n    <tr>\n      <th>8</th>\n      <td>2024-01-17</td>\n      <td>energy</td>\n      <td>60 hour</td>\n      <td>50.255321</td>\n      <td>56.832334</td>\n      <td>59.979786</td>\n      <td>62.221662</td>\n      <td>66.729531</td>\n    </tr>\n    <tr>\n      <th>9</th>\n      <td>2024-01-17</td>\n      <td>energy</td>\n      <td>64 hour</td>\n      <td>49.067564</td>\n      <td>54.909106</td>\n      <td>57.747947</td>\n      <td>60.121355</td>\n      <td>64.654968</td>\n    </tr>\n    <tr>\n      <th>10</th>\n      <td>2024-01-17</td>\n      <td>energy</td>\n      <td>68 hour</td>\n      <td>46.397904</td>\n      <td>51.550280</td>\n      <td>53.888435</td>\n      <td>56.171464</td>\n      <td>60.766256</td>\n    </tr>\n    <tr>\n      <th>11</th>\n      <td>2024-01-17</td>\n      <td>infections</td>\n      <td>0 week</td>\n      <td>NaN</td>\n      <td>NaN</td>\n      <td>NaN</td>\n      <td>NaN</td>\n      <td>NaN</td>\n    </tr>\n    <tr>\n      <th>12</th>\n      <td>2024-01-17</td>\n      <td>infections</td>\n      <td>1 week</td>\n      <td>NaN</td>\n      <td>NaN</td>\n      <td>NaN</td>\n      <td>NaN</td>\n      <td>NaN</td>\n    </tr>\n    <tr>\n      <th>13</th>\n      <td>2024-01-17</td>\n      <td>infections</td>\n      <td>2 week</td>\n      <td>NaN</td>\n      <td>NaN</td>\n      <td>NaN</td>\n      <td>NaN</td>\n      <td>NaN</td>\n    </tr>\n    <tr>\n      <th>14</th>\n      <td>2024-01-17</td>\n      <td>infections</td>\n      <td>3 week</td>\n      <td>NaN</td>\n      <td>NaN</td>\n      <td>NaN</td>\n      <td>NaN</td>\n      <td>NaN</td>\n    </tr>\n    <tr>\n      <th>15</th>\n      <td>2024-01-17</td>\n      <td>infections</td>\n      <td>4 week</td>\n      <td>NaN</td>\n      <td>NaN</td>\n      <td>NaN</td>\n      <td>NaN</td>\n      <td>NaN</td>\n    </tr>\n  </tbody>\n</table>\n</div>"
     },
     "execution_count": 112,
     "metadata": {},
     "output_type": "execute_result"
    }
   ],
   "source": [
    "forecasts"
   ],
   "metadata": {
    "collapsed": false,
    "ExecuteTime": {
     "end_time": "2024-01-17T18:38:46.231776Z",
     "start_time": "2024-01-17T18:38:46.219260Z"
    }
   },
   "id": "f1a175becc740208"
  },
  {
   "cell_type": "markdown",
   "source": [
    "### Check df & Save csv-File"
   ],
   "metadata": {
    "collapsed": false
   },
   "id": "bd5784a4dab355d8"
  },
  {
   "cell_type": "code",
   "execution_count": 113,
   "outputs": [
    {
     "name": "stdout",
     "output_type": "stream",
     "text": [
      "Start checking...\n",
      "---------------------------\n",
      "Checking the Columns...\n",
      "Checking type of columns...\n",
      "----WARNING: Some elements in q0.025 column are not numeric. This may be fine if you only submit 2 out of 3 targets.\n",
      "\n",
      "----WARNING: Some elements in q0.25 column are not numeric. This may be fine if you only submit 2 out of 3 targets.\n",
      "\n",
      "----WARNING: Some elements in q0.5 column are not numeric. This may be fine if you only submit 2 out of 3 targets.\n",
      "\n",
      "----WARNING: Some elements in q0.75 column are not numeric. This may be fine if you only submit 2 out of 3 targets.\n",
      "\n",
      "----WARNING: Some elements in q0.975 column are not numeric. This may be fine if you only submit 2 out of 3 targets.\n",
      "\n",
      "Checking if the Dates make sense...\n",
      "Checking targets...\n",
      "Checking quantiles...\n",
      "Assume that -- infections -- is your NaN-target. Please DOUBLECHECK if this is correct.\n",
      "---------------------------\n",
      "Looks good!\n"
     ]
    },
    {
     "name": "stderr",
     "output_type": "stream",
     "text": [
      "/Users/elias/Desktop/PTSFC/HelpFunctions/check_submission.py:175: FutureWarning: Series.__setitem__ treating keys as positions is deprecated. In a future version, integer keys will always be treated as labels (consistent with DataFrame behavior). To set a value by position, use `ser.iloc[pos] = value`\n",
      "  diffs[0] = 0\n",
      "/Users/elias/Desktop/PTSFC/HelpFunctions/check_submission.py:175: FutureWarning: Series.__setitem__ treating keys as positions is deprecated. In a future version, integer keys will always be treated as labels (consistent with DataFrame behavior). To set a value by position, use `ser.iloc[pos] = value`\n",
      "  diffs[0] = 0\n",
      "/Users/elias/Desktop/PTSFC/HelpFunctions/check_submission.py:175: FutureWarning: Series.__setitem__ treating keys as positions is deprecated. In a future version, integer keys will always be treated as labels (consistent with DataFrame behavior). To set a value by position, use `ser.iloc[pos] = value`\n",
      "  diffs[0] = 0\n",
      "/Users/elias/Desktop/PTSFC/HelpFunctions/check_submission.py:175: FutureWarning: Series.__setitem__ treating keys as positions is deprecated. In a future version, integer keys will always be treated as labels (consistent with DataFrame behavior). To set a value by position, use `ser.iloc[pos] = value`\n",
      "  diffs[0] = 0\n",
      "/Users/elias/Desktop/PTSFC/HelpFunctions/check_submission.py:175: FutureWarning: Series.__setitem__ treating keys as positions is deprecated. In a future version, integer keys will always be treated as labels (consistent with DataFrame behavior). To set a value by position, use `ser.iloc[pos] = value`\n",
      "  diffs[0] = 0\n",
      "/Users/elias/Desktop/PTSFC/HelpFunctions/check_submission.py:175: FutureWarning: Series.__setitem__ treating keys as positions is deprecated. In a future version, integer keys will always be treated as labels (consistent with DataFrame behavior). To set a value by position, use `ser.iloc[pos] = value`\n",
      "  diffs[0] = 0\n",
      "/Users/elias/Desktop/PTSFC/HelpFunctions/check_submission.py:175: FutureWarning: Series.__setitem__ treating keys as positions is deprecated. In a future version, integer keys will always be treated as labels (consistent with DataFrame behavior). To set a value by position, use `ser.iloc[pos] = value`\n",
      "  diffs[0] = 0\n",
      "/Users/elias/Desktop/PTSFC/HelpFunctions/check_submission.py:175: FutureWarning: Series.__setitem__ treating keys as positions is deprecated. In a future version, integer keys will always be treated as labels (consistent with DataFrame behavior). To set a value by position, use `ser.iloc[pos] = value`\n",
      "  diffs[0] = 0\n",
      "/Users/elias/Desktop/PTSFC/HelpFunctions/check_submission.py:175: FutureWarning: Series.__setitem__ treating keys as positions is deprecated. In a future version, integer keys will always be treated as labels (consistent with DataFrame behavior). To set a value by position, use `ser.iloc[pos] = value`\n",
      "  diffs[0] = 0\n",
      "/Users/elias/Desktop/PTSFC/HelpFunctions/check_submission.py:175: FutureWarning: Series.__setitem__ treating keys as positions is deprecated. In a future version, integer keys will always be treated as labels (consistent with DataFrame behavior). To set a value by position, use `ser.iloc[pos] = value`\n",
      "  diffs[0] = 0\n",
      "/Users/elias/Desktop/PTSFC/HelpFunctions/check_submission.py:175: FutureWarning: Series.__setitem__ treating keys as positions is deprecated. In a future version, integer keys will always be treated as labels (consistent with DataFrame behavior). To set a value by position, use `ser.iloc[pos] = value`\n",
      "  diffs[0] = 0\n"
     ]
    }
   ],
   "source": [
    "from HelpFunctions.check_submission import check_submission_df\n",
    "\n",
    "check_submission_df(forecasts)\n",
    "forecasts.to_csv(f'./Abgaben/{start_date.strftime(\"%Y%m%d\")}_JakePeralta.csv', na_rep='NA', index=False)"
   ],
   "metadata": {
    "collapsed": false,
    "ExecuteTime": {
     "end_time": "2024-01-17T18:38:50.549244Z",
     "start_time": "2024-01-17T18:38:50.546454Z"
    }
   },
   "id": "47bccebca5a246c1"
  },
  {
   "cell_type": "code",
   "execution_count": null,
   "outputs": [],
   "source": [],
   "metadata": {
    "collapsed": false,
    "is_executing": true
   },
   "id": "d30d3456e1371d4b"
  }
 ],
 "metadata": {
  "kernelspec": {
   "display_name": "Python 3",
   "language": "python",
   "name": "python3"
  },
  "language_info": {
   "codemirror_mode": {
    "name": "ipython",
    "version": 2
   },
   "file_extension": ".py",
   "mimetype": "text/x-python",
   "name": "python",
   "nbconvert_exporter": "python",
   "pygments_lexer": "ipython2",
   "version": "2.7.6"
  }
 },
 "nbformat": 4,
 "nbformat_minor": 5
}
