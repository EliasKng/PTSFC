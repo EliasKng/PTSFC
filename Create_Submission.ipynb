{
 "cells": [
  {
   "cell_type": "markdown",
   "source": [
    "# Create Submission File"
   ],
   "metadata": {
    "collapsed": false
   },
   "id": "8c32bd09ca64c40b"
  },
  {
   "cell_type": "markdown",
   "source": [
    "## Imports and get data"
   ],
   "metadata": {
    "collapsed": false
   },
   "id": "14fdcf25ca938883"
  },
  {
   "cell_type": "code",
   "execution_count": 1,
   "outputs": [
    {
     "name": "stderr",
     "output_type": "stream",
     "text": [
      "/Users/elias/Desktop/PTSFC/venv/lib/python3.9/site-packages/urllib3/__init__.py:34: NotOpenSSLWarning: urllib3 v2.0 only supports OpenSSL 1.1.1+, currently the 'ssl' module is compiled with 'LibreSSL 2.8.3'. See: https://github.com/urllib3/urllib3/issues/3020\n",
      "  warnings.warn(\n"
     ]
    }
   ],
   "source": [
    "import pickle\n",
    "import seaborn as sns\n",
    "import matplotlib.pyplot as plt\n",
    "from datetime import timedelta\n",
    "import pandas as pd\n",
    "import numpy as np\n",
    "from HelpFunctions.calc_score import evaluate_horizon\n",
    "from HelpFunctions.mix_models import mix_models\n",
    "from HelpFunctions.date_and_time import most_recent_thursday, split_time\n",
    "\n",
    "from DAX.HelpFunctions.get_dax_data import get_dax_data\n",
    "from DAX.Models import baseline as dax_bl\n",
    "from DAX.Models import garch11 as dax_garch\n",
    "\n",
    "from Energy.HelpFunctions.get_energy_data import get_energy_data, prepare_data\n",
    "from Energy.Models import baseline as en_bl\n",
    "from Energy.Models import Model4_population as en_m4_pop\n",
    "from datetime import datetime\n",
    "import pytz\n",
    "\n",
    "# import importlib\n",
    "# importlib.reload(Energy.Models)\n",
    "\n",
    "# import importlib\n",
    "# importlib.reload(Energy.Models)"
   ],
   "metadata": {
    "collapsed": false,
    "ExecuteTime": {
     "end_time": "2024-02-14T18:26:27.863812Z",
     "start_time": "2024-02-14T18:26:25.181715Z"
    }
   },
   "id": "c30798cf9e7795b4"
  },
  {
   "cell_type": "markdown",
   "source": [
    "### DAX: Get and prepare Data\n",
    "Use tuesday as last datapoint"
   ],
   "metadata": {
    "collapsed": false
   },
   "id": "a5a087de7041bd86"
  },
  {
   "cell_type": "code",
   "execution_count": 2,
   "outputs": [],
   "source": [
    "# Insert Date of Wednesday (forecast-day) here. The current day has to be wednesday!!\n",
    "start_date = datetime(2024, 2, 14, 20, 0, 0)\n",
    "assert start_date.weekday() == 2"
   ],
   "metadata": {
    "collapsed": false,
    "ExecuteTime": {
     "end_time": "2024-02-14T18:26:28.759449Z",
     "start_time": "2024-02-14T18:26:28.743978Z"
    }
   },
   "id": "fe12d8b274c080da"
  },
  {
   "cell_type": "code",
   "execution_count": 3,
   "outputs": [],
   "source": [
    "df_dax = get_dax_data()\n",
    "# pretend_start_date = date(2023, 11, 22, 11, 00, 0, tzinfo=pytz.timezone('Europe/Berlin'))\n",
    "\n",
    "df_dax = df_dax[df_dax.index.date <= start_date.date()]"
   ],
   "metadata": {
    "collapsed": false,
    "ExecuteTime": {
     "end_time": "2024-02-14T18:26:31.507749Z",
     "start_time": "2024-02-14T18:26:30.872215Z"
    }
   },
   "id": "ae761a7c6fa93c50"
  },
  {
   "cell_type": "code",
   "execution_count": 4,
   "outputs": [
    {
     "data": {
      "text/plain": "                                  Close      ret1      ret2      ret3  \\\nDate                                                                    \n2024-02-08 00:00:00+01:00  16963.830078  0.247119 -0.408331  0.352957   \n2024-02-09 00:00:00+01:00  16926.500000 -0.220299  0.026820 -0.628630   \n2024-02-12 00:00:00+01:00  17037.349609  0.652753  0.432454  0.679573   \n2024-02-13 00:00:00+01:00  16880.830078 -0.922931 -0.270178 -0.490477   \n2024-02-14 00:00:00+01:00  16945.480469  0.382250 -0.540681  0.112072   \n\n                               ret4      ret5  \nDate                                           \n2024-02-08 00:00:00+01:00  0.269282  0.619648  \n2024-02-09 00:00:00+01:00  0.132658  0.048983  \n2024-02-12 00:00:00+01:00  0.024123  0.785411  \n2024-02-13 00:00:00+01:00 -0.243358 -0.898808  \n2024-02-14 00:00:00+01:00 -0.108228  0.138892  ",
      "text/html": "<div>\n<style scoped>\n    .dataframe tbody tr th:only-of-type {\n        vertical-align: middle;\n    }\n\n    .dataframe tbody tr th {\n        vertical-align: top;\n    }\n\n    .dataframe thead th {\n        text-align: right;\n    }\n</style>\n<table border=\"1\" class=\"dataframe\">\n  <thead>\n    <tr style=\"text-align: right;\">\n      <th></th>\n      <th>Close</th>\n      <th>ret1</th>\n      <th>ret2</th>\n      <th>ret3</th>\n      <th>ret4</th>\n      <th>ret5</th>\n    </tr>\n    <tr>\n      <th>Date</th>\n      <th></th>\n      <th></th>\n      <th></th>\n      <th></th>\n      <th></th>\n      <th></th>\n    </tr>\n  </thead>\n  <tbody>\n    <tr>\n      <th>2024-02-08 00:00:00+01:00</th>\n      <td>16963.830078</td>\n      <td>0.247119</td>\n      <td>-0.408331</td>\n      <td>0.352957</td>\n      <td>0.269282</td>\n      <td>0.619648</td>\n    </tr>\n    <tr>\n      <th>2024-02-09 00:00:00+01:00</th>\n      <td>16926.500000</td>\n      <td>-0.220299</td>\n      <td>0.026820</td>\n      <td>-0.628630</td>\n      <td>0.132658</td>\n      <td>0.048983</td>\n    </tr>\n    <tr>\n      <th>2024-02-12 00:00:00+01:00</th>\n      <td>17037.349609</td>\n      <td>0.652753</td>\n      <td>0.432454</td>\n      <td>0.679573</td>\n      <td>0.024123</td>\n      <td>0.785411</td>\n    </tr>\n    <tr>\n      <th>2024-02-13 00:00:00+01:00</th>\n      <td>16880.830078</td>\n      <td>-0.922931</td>\n      <td>-0.270178</td>\n      <td>-0.490477</td>\n      <td>-0.243358</td>\n      <td>-0.898808</td>\n    </tr>\n    <tr>\n      <th>2024-02-14 00:00:00+01:00</th>\n      <td>16945.480469</td>\n      <td>0.382250</td>\n      <td>-0.540681</td>\n      <td>0.112072</td>\n      <td>-0.108228</td>\n      <td>0.138892</td>\n    </tr>\n  </tbody>\n</table>\n</div>"
     },
     "execution_count": 4,
     "metadata": {},
     "output_type": "execute_result"
    }
   ],
   "source": [
    "df_dax.tail()"
   ],
   "metadata": {
    "collapsed": false,
    "ExecuteTime": {
     "end_time": "2024-02-14T18:26:32.616374Z",
     "start_time": "2024-02-14T18:26:32.608429Z"
    }
   },
   "id": "92645117f2cf725e"
  },
  {
   "cell_type": "markdown",
   "source": [
    "### Energy: Get and prepare Data"
   ],
   "metadata": {
    "collapsed": false
   },
   "id": "68351dfe67b07c44"
  },
  {
   "cell_type": "code",
   "execution_count": 5,
   "outputs": [
    {
     "name": "stderr",
     "output_type": "stream",
     "text": [
      "  0%|          | 0/269 [00:00<?, ?it/s]/Users/elias/Desktop/PTSFC/Energy/HelpFunctions/get_energy_data.py:54: FutureWarning: The behavior of DataFrame concatenation with empty or all-NA entries is deprecated. In a future version, this will no longer exclude empty or all-NA columns when determining the result dtypes. To retain the old behavior, exclude the relevant entries before the concat operation.\n",
      "  energydata = pd.concat([energydata, pd.DataFrame(rawdata, columns=col_names)])\n",
      "100%|██████████| 269/269 [00:33<00:00,  7.94it/s]\n"
     ]
    }
   ],
   "source": [
    "from Energy.HelpFunctions.get_energy_data import fetch_energy_data\n",
    "fetch_energy_data()"
   ],
   "metadata": {
    "collapsed": false,
    "ExecuteTime": {
     "end_time": "2024-02-14T18:27:09.202213Z",
     "start_time": "2024-02-14T18:26:34.865738Z"
    }
   },
   "id": "616a683b3b913537"
  },
  {
   "cell_type": "code",
   "execution_count": 11,
   "outputs": [
    {
     "data": {
      "text/plain": "                       gesamt\ndate_time                    \n2024-02-10 15:00:00  51.22950\n2024-02-10 16:00:00  51.86125\n2024-02-10 17:00:00  54.88350\n2024-02-10 18:00:00  56.56075\n2024-02-10 19:00:00  55.25725\n...                       ...\n2024-02-14 14:00:00  65.06575\n2024-02-14 15:00:00  64.20625\n2024-02-14 16:00:00  62.83600\n2024-02-14 17:00:00  64.90125\n2024-02-14 18:00:00  49.72600\n\n[100 rows x 1 columns]",
      "text/html": "<div>\n<style scoped>\n    .dataframe tbody tr th:only-of-type {\n        vertical-align: middle;\n    }\n\n    .dataframe tbody tr th {\n        vertical-align: top;\n    }\n\n    .dataframe thead th {\n        text-align: right;\n    }\n</style>\n<table border=\"1\" class=\"dataframe\">\n  <thead>\n    <tr style=\"text-align: right;\">\n      <th></th>\n      <th>gesamt</th>\n    </tr>\n    <tr>\n      <th>date_time</th>\n      <th></th>\n    </tr>\n  </thead>\n  <tbody>\n    <tr>\n      <th>2024-02-10 15:00:00</th>\n      <td>51.22950</td>\n    </tr>\n    <tr>\n      <th>2024-02-10 16:00:00</th>\n      <td>51.86125</td>\n    </tr>\n    <tr>\n      <th>2024-02-10 17:00:00</th>\n      <td>54.88350</td>\n    </tr>\n    <tr>\n      <th>2024-02-10 18:00:00</th>\n      <td>56.56075</td>\n    </tr>\n    <tr>\n      <th>2024-02-10 19:00:00</th>\n      <td>55.25725</td>\n    </tr>\n    <tr>\n      <th>...</th>\n      <td>...</td>\n    </tr>\n    <tr>\n      <th>2024-02-14 14:00:00</th>\n      <td>65.06575</td>\n    </tr>\n    <tr>\n      <th>2024-02-14 15:00:00</th>\n      <td>64.20625</td>\n    </tr>\n    <tr>\n      <th>2024-02-14 16:00:00</th>\n      <td>62.83600</td>\n    </tr>\n    <tr>\n      <th>2024-02-14 17:00:00</th>\n      <td>64.90125</td>\n    </tr>\n    <tr>\n      <th>2024-02-14 18:00:00</th>\n      <td>49.72600</td>\n    </tr>\n  </tbody>\n</table>\n<p>100 rows × 1 columns</p>\n</div>"
     },
     "execution_count": 11,
     "metadata": {},
     "output_type": "execute_result"
    }
   ],
   "source": [
    "df_en = get_energy_data(force_return=True)\n",
    "df_en = prepare_data(df_en)\n",
    "df_en.tail(100)"
   ],
   "metadata": {
    "collapsed": false,
    "ExecuteTime": {
     "end_time": "2024-02-14T18:29:33.350295Z",
     "start_time": "2024-02-14T18:29:33.320266Z"
    }
   },
   "id": "e449dea409e6e931"
  },
  {
   "cell_type": "code",
   "execution_count": 12,
   "outputs": [],
   "source": [
    "df_en = df_en.loc[df_en.index <= start_date]"
   ],
   "metadata": {
    "collapsed": false,
    "ExecuteTime": {
     "end_time": "2024-02-14T18:29:34.175806Z",
     "start_time": "2024-02-14T18:29:34.170847Z"
    }
   },
   "id": "3ce91a690ad2cdc5"
  },
  {
   "cell_type": "code",
   "execution_count": 23,
   "outputs": [],
   "source": [
    "df_en = df_en[:-1]"
   ],
   "metadata": {
    "collapsed": false,
    "ExecuteTime": {
     "end_time": "2024-02-14T18:34:19.590411Z",
     "start_time": "2024-02-14T18:34:19.581625Z"
    }
   },
   "id": "84f660aab898533d"
  },
  {
   "cell_type": "code",
   "execution_count": 20,
   "outputs": [
    {
     "data": {
      "text/plain": "                       gesamt\ndate_time                    \n2024-02-10 14:00:00  52.23925\n2024-02-10 15:00:00  51.22950\n2024-02-10 16:00:00  51.86125\n2024-02-10 17:00:00  54.88350\n2024-02-10 18:00:00  56.56075\n...                       ...\n2024-02-14 13:00:00  66.16300\n2024-02-14 14:00:00  65.06575\n2024-02-14 15:00:00  64.20625\n2024-02-14 16:00:00  62.83600\n2024-02-14 17:00:00  64.90125\n\n[100 rows x 1 columns]",
      "text/html": "<div>\n<style scoped>\n    .dataframe tbody tr th:only-of-type {\n        vertical-align: middle;\n    }\n\n    .dataframe tbody tr th {\n        vertical-align: top;\n    }\n\n    .dataframe thead th {\n        text-align: right;\n    }\n</style>\n<table border=\"1\" class=\"dataframe\">\n  <thead>\n    <tr style=\"text-align: right;\">\n      <th></th>\n      <th>gesamt</th>\n    </tr>\n    <tr>\n      <th>date_time</th>\n      <th></th>\n    </tr>\n  </thead>\n  <tbody>\n    <tr>\n      <th>2024-02-10 14:00:00</th>\n      <td>52.23925</td>\n    </tr>\n    <tr>\n      <th>2024-02-10 15:00:00</th>\n      <td>51.22950</td>\n    </tr>\n    <tr>\n      <th>2024-02-10 16:00:00</th>\n      <td>51.86125</td>\n    </tr>\n    <tr>\n      <th>2024-02-10 17:00:00</th>\n      <td>54.88350</td>\n    </tr>\n    <tr>\n      <th>2024-02-10 18:00:00</th>\n      <td>56.56075</td>\n    </tr>\n    <tr>\n      <th>...</th>\n      <td>...</td>\n    </tr>\n    <tr>\n      <th>2024-02-14 13:00:00</th>\n      <td>66.16300</td>\n    </tr>\n    <tr>\n      <th>2024-02-14 14:00:00</th>\n      <td>65.06575</td>\n    </tr>\n    <tr>\n      <th>2024-02-14 15:00:00</th>\n      <td>64.20625</td>\n    </tr>\n    <tr>\n      <th>2024-02-14 16:00:00</th>\n      <td>62.83600</td>\n    </tr>\n    <tr>\n      <th>2024-02-14 17:00:00</th>\n      <td>64.90125</td>\n    </tr>\n  </tbody>\n</table>\n<p>100 rows × 1 columns</p>\n</div>"
     },
     "execution_count": 20,
     "metadata": {},
     "output_type": "execute_result"
    }
   ],
   "source": [
    "df_en.tail(100)"
   ],
   "metadata": {
    "collapsed": false,
    "ExecuteTime": {
     "end_time": "2024-02-14T18:30:40.891549Z",
     "start_time": "2024-02-14T18:30:40.882221Z"
    }
   },
   "id": "f2de4a0cdb6fbc97"
  },
  {
   "cell_type": "code",
   "execution_count": 22,
   "outputs": [
    {
     "data": {
      "text/plain": "                       gesamt\ndate_time                    \n2024-02-02 06:00:00  59.17975\n2024-02-02 07:00:00  65.19125\n2024-02-02 08:00:00  68.49000\n2024-02-02 09:00:00  68.94675\n2024-02-02 10:00:00  69.73150\n...                       ...\n2024-02-14 13:00:00  66.16300\n2024-02-14 14:00:00  65.06575\n2024-02-14 15:00:00  64.20625\n2024-02-14 16:00:00  62.83600\n2024-02-14 17:00:00  64.90125\n\n[300 rows x 1 columns]",
      "text/html": "<div>\n<style scoped>\n    .dataframe tbody tr th:only-of-type {\n        vertical-align: middle;\n    }\n\n    .dataframe tbody tr th {\n        vertical-align: top;\n    }\n\n    .dataframe thead th {\n        text-align: right;\n    }\n</style>\n<table border=\"1\" class=\"dataframe\">\n  <thead>\n    <tr style=\"text-align: right;\">\n      <th></th>\n      <th>gesamt</th>\n    </tr>\n    <tr>\n      <th>date_time</th>\n      <th></th>\n    </tr>\n  </thead>\n  <tbody>\n    <tr>\n      <th>2024-02-02 06:00:00</th>\n      <td>59.17975</td>\n    </tr>\n    <tr>\n      <th>2024-02-02 07:00:00</th>\n      <td>65.19125</td>\n    </tr>\n    <tr>\n      <th>2024-02-02 08:00:00</th>\n      <td>68.49000</td>\n    </tr>\n    <tr>\n      <th>2024-02-02 09:00:00</th>\n      <td>68.94675</td>\n    </tr>\n    <tr>\n      <th>2024-02-02 10:00:00</th>\n      <td>69.73150</td>\n    </tr>\n    <tr>\n      <th>...</th>\n      <td>...</td>\n    </tr>\n    <tr>\n      <th>2024-02-14 13:00:00</th>\n      <td>66.16300</td>\n    </tr>\n    <tr>\n      <th>2024-02-14 14:00:00</th>\n      <td>65.06575</td>\n    </tr>\n    <tr>\n      <th>2024-02-14 15:00:00</th>\n      <td>64.20625</td>\n    </tr>\n    <tr>\n      <th>2024-02-14 16:00:00</th>\n      <td>62.83600</td>\n    </tr>\n    <tr>\n      <th>2024-02-14 17:00:00</th>\n      <td>64.90125</td>\n    </tr>\n  </tbody>\n</table>\n<p>300 rows × 1 columns</p>\n</div>"
     },
     "execution_count": 22,
     "metadata": {},
     "output_type": "execute_result"
    }
   ],
   "source": [
    "df_en.tail(300)"
   ],
   "metadata": {
    "collapsed": false,
    "ExecuteTime": {
     "end_time": "2024-02-14T18:32:06.214002Z",
     "start_time": "2024-02-14T18:32:06.205945Z"
    }
   },
   "id": "614da7cfda2614e7"
  },
  {
   "cell_type": "code",
   "execution_count": 19,
   "outputs": [],
   "source": [
    "# Check if still required next week ...\n",
    "# df_en.loc['2024-01-17 16:00:00', 'gesamt'] = (df_en.loc['2024-01-17 15:00:00', 'gesamt'] +df_en.loc['2024-01-17 17:00:00', 'gesamt'])/2\n",
    "# df_en.tail()"
   ],
   "metadata": {
    "collapsed": false,
    "ExecuteTime": {
     "end_time": "2024-02-07T17:47:58.902418Z",
     "start_time": "2024-02-07T17:47:58.897647Z"
    }
   },
   "id": "9ec8ed6cc58d3ad6"
  },
  {
   "cell_type": "markdown",
   "source": [
    "## Run models for the data"
   ],
   "metadata": {
    "collapsed": false
   },
   "id": "b64db28817cc4bb"
  },
  {
   "cell_type": "markdown",
   "source": [
    "### DAX"
   ],
   "metadata": {
    "collapsed": false
   },
   "id": "61218b68e5a9083d"
  },
  {
   "cell_type": "code",
   "execution_count": 24,
   "outputs": [
    {
     "data": {
      "text/plain": "  forecast_date target horizon    q0.025     q0.25      q0.5     q0.75  \\\n0    2024-02-15    DAX   1 day -1.476984 -0.435362  0.015949  0.487517   \n1    2024-02-16    DAX   2 day -1.776190 -0.551777  0.012975  0.596879   \n2    2024-02-19    DAX   5 day -2.495796 -0.755006  0.036821  0.860827   \n3    2024-02-20    DAX   6 day -2.928077 -0.910155  0.042492  1.024472   \n4    2024-02-21    DAX   7 day -3.065102 -0.928176  0.057648  1.122354   \n\n     q0.975  \n0  1.456696  \n1  1.817112  \n2  2.451627  \n3  2.958117  \n4  3.077342  ",
      "text/html": "<div>\n<style scoped>\n    .dataframe tbody tr th:only-of-type {\n        vertical-align: middle;\n    }\n\n    .dataframe tbody tr th {\n        vertical-align: top;\n    }\n\n    .dataframe thead th {\n        text-align: right;\n    }\n</style>\n<table border=\"1\" class=\"dataframe\">\n  <thead>\n    <tr style=\"text-align: right;\">\n      <th></th>\n      <th>forecast_date</th>\n      <th>target</th>\n      <th>horizon</th>\n      <th>q0.025</th>\n      <th>q0.25</th>\n      <th>q0.5</th>\n      <th>q0.75</th>\n      <th>q0.975</th>\n    </tr>\n  </thead>\n  <tbody>\n    <tr>\n      <th>0</th>\n      <td>2024-02-15</td>\n      <td>DAX</td>\n      <td>1 day</td>\n      <td>-1.476984</td>\n      <td>-0.435362</td>\n      <td>0.015949</td>\n      <td>0.487517</td>\n      <td>1.456696</td>\n    </tr>\n    <tr>\n      <th>1</th>\n      <td>2024-02-16</td>\n      <td>DAX</td>\n      <td>2 day</td>\n      <td>-1.776190</td>\n      <td>-0.551777</td>\n      <td>0.012975</td>\n      <td>0.596879</td>\n      <td>1.817112</td>\n    </tr>\n    <tr>\n      <th>2</th>\n      <td>2024-02-19</td>\n      <td>DAX</td>\n      <td>5 day</td>\n      <td>-2.495796</td>\n      <td>-0.755006</td>\n      <td>0.036821</td>\n      <td>0.860827</td>\n      <td>2.451627</td>\n    </tr>\n    <tr>\n      <th>3</th>\n      <td>2024-02-20</td>\n      <td>DAX</td>\n      <td>6 day</td>\n      <td>-2.928077</td>\n      <td>-0.910155</td>\n      <td>0.042492</td>\n      <td>1.024472</td>\n      <td>2.958117</td>\n    </tr>\n    <tr>\n      <th>4</th>\n      <td>2024-02-21</td>\n      <td>DAX</td>\n      <td>7 day</td>\n      <td>-3.065102</td>\n      <td>-0.928176</td>\n      <td>0.057648</td>\n      <td>1.122354</td>\n      <td>3.077342</td>\n    </tr>\n  </tbody>\n</table>\n</div>"
     },
     "execution_count": 24,
     "metadata": {},
     "output_type": "execute_result"
    }
   ],
   "source": [
    "from DAX.Models import arma_garch_11 as ag\n",
    "from DAX.Models import baseline as bl\n",
    "\n",
    "import importlib\n",
    "importlib.reload(ag)\n",
    "importlib.reload(bl)\n",
    "\n",
    "\n",
    "# dax_bl.baseline(df_dax)\n",
    "# forecast_dax = dax_garch.garch11(df_dax)\n",
    "forecast_dax = mix_models([ag.garch11_norm_1y, bl.baseline_1y], [1,0.5], df_dax, 'DAX')\n",
    "forecast_dax\n"
   ],
   "metadata": {
    "collapsed": false,
    "ExecuteTime": {
     "end_time": "2024-02-14T18:34:49.043354Z",
     "start_time": "2024-02-14T18:34:44.483362Z"
    }
   },
   "id": "742fa6034b59aa97"
  },
  {
   "cell_type": "markdown",
   "source": [
    "### Energy  "
   ],
   "metadata": {
    "collapsed": false
   },
   "id": "a401e8783d00353a"
  },
  {
   "cell_type": "code",
   "execution_count": 26,
   "outputs": [
    {
     "data": {
      "text/plain": "        forecast_date  target  horizon     q0.025      q0.25       q0.5  \\\n0 2024-02-16 12:00:00  energy  36 hour  55.657841  62.031507  65.436939   \n1 2024-02-16 16:00:00  energy  40 hour  53.080652  58.730124  61.825507   \n2 2024-02-16 20:00:00  energy  44 hour  50.627047  55.583548  58.179247   \n3 2024-02-17 12:00:00  energy  60 hour  45.751310  52.106464  55.058335   \n4 2024-02-17 16:00:00  energy  64 hour  43.392177  49.023136  51.664958   \n5 2024-02-17 20:00:00  energy  68 hour  42.139011  47.077000  49.219139   \n\n       q0.75     q0.975  \n0  67.835125  72.360136  \n1  64.374955  68.921919  \n2  60.609566  65.249897  \n3  57.246731  61.376985  \n4  54.004617  58.156823  \n5  51.439668  55.685241  ",
      "text/html": "<div>\n<style scoped>\n    .dataframe tbody tr th:only-of-type {\n        vertical-align: middle;\n    }\n\n    .dataframe tbody tr th {\n        vertical-align: top;\n    }\n\n    .dataframe thead th {\n        text-align: right;\n    }\n</style>\n<table border=\"1\" class=\"dataframe\">\n  <thead>\n    <tr style=\"text-align: right;\">\n      <th></th>\n      <th>forecast_date</th>\n      <th>target</th>\n      <th>horizon</th>\n      <th>q0.025</th>\n      <th>q0.25</th>\n      <th>q0.5</th>\n      <th>q0.75</th>\n      <th>q0.975</th>\n    </tr>\n  </thead>\n  <tbody>\n    <tr>\n      <th>0</th>\n      <td>2024-02-16 12:00:00</td>\n      <td>energy</td>\n      <td>36 hour</td>\n      <td>55.657841</td>\n      <td>62.031507</td>\n      <td>65.436939</td>\n      <td>67.835125</td>\n      <td>72.360136</td>\n    </tr>\n    <tr>\n      <th>1</th>\n      <td>2024-02-16 16:00:00</td>\n      <td>energy</td>\n      <td>40 hour</td>\n      <td>53.080652</td>\n      <td>58.730124</td>\n      <td>61.825507</td>\n      <td>64.374955</td>\n      <td>68.921919</td>\n    </tr>\n    <tr>\n      <th>2</th>\n      <td>2024-02-16 20:00:00</td>\n      <td>energy</td>\n      <td>44 hour</td>\n      <td>50.627047</td>\n      <td>55.583548</td>\n      <td>58.179247</td>\n      <td>60.609566</td>\n      <td>65.249897</td>\n    </tr>\n    <tr>\n      <th>3</th>\n      <td>2024-02-17 12:00:00</td>\n      <td>energy</td>\n      <td>60 hour</td>\n      <td>45.751310</td>\n      <td>52.106464</td>\n      <td>55.058335</td>\n      <td>57.246731</td>\n      <td>61.376985</td>\n    </tr>\n    <tr>\n      <th>4</th>\n      <td>2024-02-17 16:00:00</td>\n      <td>energy</td>\n      <td>64 hour</td>\n      <td>43.392177</td>\n      <td>49.023136</td>\n      <td>51.664958</td>\n      <td>54.004617</td>\n      <td>58.156823</td>\n    </tr>\n    <tr>\n      <th>5</th>\n      <td>2024-02-17 20:00:00</td>\n      <td>energy</td>\n      <td>68 hour</td>\n      <td>42.139011</td>\n      <td>47.077000</td>\n      <td>49.219139</td>\n      <td>51.439668</td>\n      <td>55.685241</td>\n    </tr>\n  </tbody>\n</table>\n</div>"
     },
     "execution_count": 26,
     "metadata": {},
     "output_type": "execute_result"
    }
   ],
   "source": [
    "from Energy.Models import mstl\n",
    "from Energy.Models.baseline import baseline\n",
    "from HelpFunctions.mix_models import mix_models_per_horizon\n",
    "from Energy.Models.Model4_sunhours import model4_sunhours\n",
    "from Energy.Models.Model4_holidays_2 import model4_holidays_2\n",
    "from Energy.Models.Model4_population import model4_population\n",
    "from Energy.Models import Model5\n",
    "\n",
    "# en_bl.baseline(df_en, LAST_IDX=-1, offset_horizons=11)\n",
    "\n",
    "import importlib\n",
    "importlib.reload(Model5)\n",
    "importlib.reload(mstl)\n",
    "\n",
    "weights_m5_bl_m4_x = [1,1]\n",
    "functions_m5_bl_m4_x = [mstl.mstl, Model5.model5]\n",
    "\n",
    "\n",
    "\n",
    "\n",
    "# forecast_en = en_m4_pop.model4_population(df_en, offset_horizons=15)\n",
    "forecast_en = mix_models(functions_m5_bl_m4_x, weights_m5_bl_m4_x, df_en, target=\"energy\", offset_horizons=7)\n",
    "forecast_en"
   ],
   "metadata": {
    "collapsed": false,
    "ExecuteTime": {
     "end_time": "2024-02-14T18:35:37.992646Z",
     "start_time": "2024-02-14T18:35:31.582791Z"
    }
   },
   "id": "27c1531489976aa4"
  },
  {
   "cell_type": "code",
   "execution_count": 27,
   "outputs": [
    {
     "data": {
      "text/plain": "<Figure size 640x480 with 1 Axes>",
      "image/png": "[encoded data removed]"
     },
     "metadata": {},
     "output_type": "display_data"
    }
   ],
   "source": [
    "plot_df = forecast_en.copy() \\\n",
    "    .set_index('forecast_date')['q0.5']\n",
    "plt.plot(df_en[-100:])\n",
    "plt.plot(plot_df)\n",
    "plt.xticks(rotation=45)\n",
    "plt.show()"
   ],
   "metadata": {
    "collapsed": false,
    "ExecuteTime": {
     "end_time": "2024-02-14T18:36:00.750512Z",
     "start_time": "2024-02-14T18:36:00.635207Z"
    }
   },
   "id": "c62f14f82b884bf8"
  },
  {
   "cell_type": "markdown",
   "source": [
    "### Infections"
   ],
   "metadata": {
    "collapsed": false
   },
   "id": "105bec481fe1b70e"
  },
  {
   "cell_type": "code",
   "execution_count": 28,
   "outputs": [],
   "source": [
    "forecast_infections = {\n",
    "    'forecast_date': [start_date.strftime('%Y-%m-%d')] * 5,\n",
    "    'target': ['infections'] * 5,\n",
    "    'horizon': ['0 week', '1 week', '2 week', '3 week', '4 week'],\n",
    "    # 'q0.025': ['NA'] * 5,\n",
    "    # 'q0.25': ['NA'] * 5,\n",
    "    # 'q0.5': ['NA'] * 5,\n",
    "    # 'q0.75': ['NA'] * 5,\n",
    "    # 'q0.975': ['NA'] * 5,\n",
    "    'q0.025': [np.nan] * 5,\n",
    "    'q0.25': [np.nan] * 5,\n",
    "    'q0.5': [np.nan] * 5,\n",
    "    'q0.75': [np.nan] * 5,\n",
    "    'q0.975': [np.nan] * 5\n",
    "}\n",
    "\n",
    "forecast_infections = pd.DataFrame(forecast_infections)"
   ],
   "metadata": {
    "collapsed": false,
    "ExecuteTime": {
     "end_time": "2024-02-14T18:36:06.627756Z",
     "start_time": "2024-02-14T18:36:06.622982Z"
    }
   },
   "id": "5a3873d90a18c7fb"
  },
  {
   "cell_type": "code",
   "execution_count": 29,
   "outputs": [
    {
     "data": {
      "text/plain": "  forecast_date      target horizon  q0.025  q0.25  q0.5  q0.75  q0.975\n0    2024-02-14  infections  0 week     NaN    NaN   NaN    NaN     NaN\n1    2024-02-14  infections  1 week     NaN    NaN   NaN    NaN     NaN\n2    2024-02-14  infections  2 week     NaN    NaN   NaN    NaN     NaN\n3    2024-02-14  infections  3 week     NaN    NaN   NaN    NaN     NaN\n4    2024-02-14  infections  4 week     NaN    NaN   NaN    NaN     NaN",
      "text/html": "<div>\n<style scoped>\n    .dataframe tbody tr th:only-of-type {\n        vertical-align: middle;\n    }\n\n    .dataframe tbody tr th {\n        vertical-align: top;\n    }\n\n    .dataframe thead th {\n        text-align: right;\n    }\n</style>\n<table border=\"1\" class=\"dataframe\">\n  <thead>\n    <tr style=\"text-align: right;\">\n      <th></th>\n      <th>forecast_date</th>\n      <th>target</th>\n      <th>horizon</th>\n      <th>q0.025</th>\n      <th>q0.25</th>\n      <th>q0.5</th>\n      <th>q0.75</th>\n      <th>q0.975</th>\n    </tr>\n  </thead>\n  <tbody>\n    <tr>\n      <th>0</th>\n      <td>2024-02-14</td>\n      <td>infections</td>\n      <td>0 week</td>\n      <td>NaN</td>\n      <td>NaN</td>\n      <td>NaN</td>\n      <td>NaN</td>\n      <td>NaN</td>\n    </tr>\n    <tr>\n      <th>1</th>\n      <td>2024-02-14</td>\n      <td>infections</td>\n      <td>1 week</td>\n      <td>NaN</td>\n      <td>NaN</td>\n      <td>NaN</td>\n      <td>NaN</td>\n      <td>NaN</td>\n    </tr>\n    <tr>\n      <th>2</th>\n      <td>2024-02-14</td>\n      <td>infections</td>\n      <td>2 week</td>\n      <td>NaN</td>\n      <td>NaN</td>\n      <td>NaN</td>\n      <td>NaN</td>\n      <td>NaN</td>\n    </tr>\n    <tr>\n      <th>3</th>\n      <td>2024-02-14</td>\n      <td>infections</td>\n      <td>3 week</td>\n      <td>NaN</td>\n      <td>NaN</td>\n      <td>NaN</td>\n      <td>NaN</td>\n      <td>NaN</td>\n    </tr>\n    <tr>\n      <th>4</th>\n      <td>2024-02-14</td>\n      <td>infections</td>\n      <td>4 week</td>\n      <td>NaN</td>\n      <td>NaN</td>\n      <td>NaN</td>\n      <td>NaN</td>\n      <td>NaN</td>\n    </tr>\n  </tbody>\n</table>\n</div>"
     },
     "execution_count": 29,
     "metadata": {},
     "output_type": "execute_result"
    }
   ],
   "source": [
    "forecast_infections"
   ],
   "metadata": {
    "collapsed": false,
    "ExecuteTime": {
     "end_time": "2024-02-14T18:36:14.978529Z",
     "start_time": "2024-02-14T18:36:14.975294Z"
    }
   },
   "id": "7d5811c34b25292f"
  },
  {
   "cell_type": "markdown",
   "source": [
    "## Merge results\n",
    "\n",
    "Check results: Are they valid, forecast_date is right? The last entry might be cut off"
   ],
   "metadata": {
    "collapsed": false
   },
   "id": "a0f6402def6f6bb4"
  },
  {
   "cell_type": "code",
   "execution_count": 30,
   "outputs": [
    {
     "data": {
      "text/plain": "          forecast_date      target  horizon     q0.025      q0.25       q0.5  \\\n0            2024-02-15         DAX    1 day  -1.476984  -0.435362   0.015949   \n1            2024-02-16         DAX    2 day  -1.776190  -0.551777   0.012975   \n2            2024-02-19         DAX    5 day  -2.495796  -0.755006   0.036821   \n3            2024-02-20         DAX    6 day  -2.928077  -0.910155   0.042492   \n4            2024-02-21         DAX    7 day  -3.065102  -0.928176   0.057648   \n5   2024-02-16 12:00:00      energy  36 hour  55.657841  62.031507  65.436939   \n6   2024-02-16 16:00:00      energy  40 hour  53.080652  58.730124  61.825507   \n7   2024-02-16 20:00:00      energy  44 hour  50.627047  55.583548  58.179247   \n8   2024-02-17 12:00:00      energy  60 hour  45.751310  52.106464  55.058335   \n9   2024-02-17 16:00:00      energy  64 hour  43.392177  49.023136  51.664958   \n10  2024-02-17 20:00:00      energy  68 hour  42.139011  47.077000  49.219139   \n11           2024-02-14  infections   0 week        NaN        NaN        NaN   \n12           2024-02-14  infections   1 week        NaN        NaN        NaN   \n13           2024-02-14  infections   2 week        NaN        NaN        NaN   \n14           2024-02-14  infections   3 week        NaN        NaN        NaN   \n15           2024-02-14  infections   4 week        NaN        NaN        NaN   \n\n        q0.75     q0.975  \n0    0.487517   1.456696  \n1    0.596879   1.817112  \n2    0.860827   2.451627  \n3    1.024472   2.958117  \n4    1.122354   3.077342  \n5   67.835125  72.360136  \n6   64.374955  68.921919  \n7   60.609566  65.249897  \n8   57.246731  61.376985  \n9   54.004617  58.156823  \n10  51.439668  55.685241  \n11        NaN        NaN  \n12        NaN        NaN  \n13        NaN        NaN  \n14        NaN        NaN  \n15        NaN        NaN  ",
      "text/html": "<div>\n<style scoped>\n    .dataframe tbody tr th:only-of-type {\n        vertical-align: middle;\n    }\n\n    .dataframe tbody tr th {\n        vertical-align: top;\n    }\n\n    .dataframe thead th {\n        text-align: right;\n    }\n</style>\n<table border=\"1\" class=\"dataframe\">\n  <thead>\n    <tr style=\"text-align: right;\">\n      <th></th>\n      <th>forecast_date</th>\n      <th>target</th>\n      <th>horizon</th>\n      <th>q0.025</th>\n      <th>q0.25</th>\n      <th>q0.5</th>\n      <th>q0.75</th>\n      <th>q0.975</th>\n    </tr>\n  </thead>\n  <tbody>\n    <tr>\n      <th>0</th>\n      <td>2024-02-15</td>\n      <td>DAX</td>\n      <td>1 day</td>\n      <td>-1.476984</td>\n      <td>-0.435362</td>\n      <td>0.015949</td>\n      <td>0.487517</td>\n      <td>1.456696</td>\n    </tr>\n    <tr>\n      <th>1</th>\n      <td>2024-02-16</td>\n      <td>DAX</td>\n      <td>2 day</td>\n      <td>-1.776190</td>\n      <td>-0.551777</td>\n      <td>0.012975</td>\n      <td>0.596879</td>\n      <td>1.817112</td>\n    </tr>\n    <tr>\n      <th>2</th>\n      <td>2024-02-19</td>\n      <td>DAX</td>\n      <td>5 day</td>\n      <td>-2.495796</td>\n      <td>-0.755006</td>\n      <td>0.036821</td>\n      <td>0.860827</td>\n      <td>2.451627</td>\n    </tr>\n    <tr>\n      <th>3</th>\n      <td>2024-02-20</td>\n      <td>DAX</td>\n      <td>6 day</td>\n      <td>-2.928077</td>\n      <td>-0.910155</td>\n      <td>0.042492</td>\n      <td>1.024472</td>\n      <td>2.958117</td>\n    </tr>\n    <tr>\n      <th>4</th>\n      <td>2024-02-21</td>\n      <td>DAX</td>\n      <td>7 day</td>\n      <td>-3.065102</td>\n      <td>-0.928176</td>\n      <td>0.057648</td>\n      <td>1.122354</td>\n      <td>3.077342</td>\n    </tr>\n    <tr>\n      <th>5</th>\n      <td>2024-02-16 12:00:00</td>\n      <td>energy</td>\n      <td>36 hour</td>\n      <td>55.657841</td>\n      <td>62.031507</td>\n      <td>65.436939</td>\n      <td>67.835125</td>\n      <td>72.360136</td>\n    </tr>\n    <tr>\n      <th>6</th>\n      <td>2024-02-16 16:00:00</td>\n      <td>energy</td>\n      <td>40 hour</td>\n      <td>53.080652</td>\n      <td>58.730124</td>\n      <td>61.825507</td>\n      <td>64.374955</td>\n      <td>68.921919</td>\n    </tr>\n    <tr>\n      <th>7</th>\n      <td>2024-02-16 20:00:00</td>\n      <td>energy</td>\n      <td>44 hour</td>\n      <td>50.627047</td>\n      <td>55.583548</td>\n      <td>58.179247</td>\n      <td>60.609566</td>\n      <td>65.249897</td>\n    </tr>\n    <tr>\n      <th>8</th>\n      <td>2024-02-17 12:00:00</td>\n      <td>energy</td>\n      <td>60 hour</td>\n      <td>45.751310</td>\n      <td>52.106464</td>\n      <td>55.058335</td>\n      <td>57.246731</td>\n      <td>61.376985</td>\n    </tr>\n    <tr>\n      <th>9</th>\n      <td>2024-02-17 16:00:00</td>\n      <td>energy</td>\n      <td>64 hour</td>\n      <td>43.392177</td>\n      <td>49.023136</td>\n      <td>51.664958</td>\n      <td>54.004617</td>\n      <td>58.156823</td>\n    </tr>\n    <tr>\n      <th>10</th>\n      <td>2024-02-17 20:00:00</td>\n      <td>energy</td>\n      <td>68 hour</td>\n      <td>42.139011</td>\n      <td>47.077000</td>\n      <td>49.219139</td>\n      <td>51.439668</td>\n      <td>55.685241</td>\n    </tr>\n    <tr>\n      <th>11</th>\n      <td>2024-02-14</td>\n      <td>infections</td>\n      <td>0 week</td>\n      <td>NaN</td>\n      <td>NaN</td>\n      <td>NaN</td>\n      <td>NaN</td>\n      <td>NaN</td>\n    </tr>\n    <tr>\n      <th>12</th>\n      <td>2024-02-14</td>\n      <td>infections</td>\n      <td>1 week</td>\n      <td>NaN</td>\n      <td>NaN</td>\n      <td>NaN</td>\n      <td>NaN</td>\n      <td>NaN</td>\n    </tr>\n    <tr>\n      <th>13</th>\n      <td>2024-02-14</td>\n      <td>infections</td>\n      <td>2 week</td>\n      <td>NaN</td>\n      <td>NaN</td>\n      <td>NaN</td>\n      <td>NaN</td>\n      <td>NaN</td>\n    </tr>\n    <tr>\n      <th>14</th>\n      <td>2024-02-14</td>\n      <td>infections</td>\n      <td>3 week</td>\n      <td>NaN</td>\n      <td>NaN</td>\n      <td>NaN</td>\n      <td>NaN</td>\n      <td>NaN</td>\n    </tr>\n    <tr>\n      <th>15</th>\n      <td>2024-02-14</td>\n      <td>infections</td>\n      <td>4 week</td>\n      <td>NaN</td>\n      <td>NaN</td>\n      <td>NaN</td>\n      <td>NaN</td>\n      <td>NaN</td>\n    </tr>\n  </tbody>\n</table>\n</div>"
     },
     "execution_count": 30,
     "metadata": {},
     "output_type": "execute_result"
    }
   ],
   "source": [
    "forecasts = pd.concat([forecast_dax,forecast_en, forecast_infections]).reset_index().drop(columns=['index'])\n",
    "forecasts"
   ],
   "metadata": {
    "collapsed": false,
    "ExecuteTime": {
     "end_time": "2024-02-14T18:36:17.724848Z",
     "start_time": "2024-02-14T18:36:17.709978Z"
    }
   },
   "id": "9a6cbf31cfef99e2"
  },
  {
   "cell_type": "markdown",
   "source": [
    "If everything seems good: Override forecast_date"
   ],
   "metadata": {
    "collapsed": false
   },
   "id": "d5cac7727b9a5070"
  },
  {
   "cell_type": "code",
   "execution_count": 31,
   "outputs": [],
   "source": [
    "forecasts['forecast_date'] = [start_date.strftime('%Y-%m-%d') for _ in range(len(forecasts))]"
   ],
   "metadata": {
    "collapsed": false,
    "ExecuteTime": {
     "end_time": "2024-02-14T18:36:36.416833Z",
     "start_time": "2024-02-14T18:36:36.408602Z"
    }
   },
   "id": "32de480b970161d"
  },
  {
   "cell_type": "code",
   "execution_count": 32,
   "outputs": [
    {
     "data": {
      "text/plain": "   forecast_date      target  horizon     q0.025      q0.25       q0.5  \\\n0     2024-02-14         DAX    1 day  -1.476984  -0.435362   0.015949   \n1     2024-02-14         DAX    2 day  -1.776190  -0.551777   0.012975   \n2     2024-02-14         DAX    5 day  -2.495796  -0.755006   0.036821   \n3     2024-02-14         DAX    6 day  -2.928077  -0.910155   0.042492   \n4     2024-02-14         DAX    7 day  -3.065102  -0.928176   0.057648   \n5     2024-02-14      energy  36 hour  55.657841  62.031507  65.436939   \n6     2024-02-14      energy  40 hour  53.080652  58.730124  61.825507   \n7     2024-02-14      energy  44 hour  50.627047  55.583548  58.179247   \n8     2024-02-14      energy  60 hour  45.751310  52.106464  55.058335   \n9     2024-02-14      energy  64 hour  43.392177  49.023136  51.664958   \n10    2024-02-14      energy  68 hour  42.139011  47.077000  49.219139   \n11    2024-02-14  infections   0 week        NaN        NaN        NaN   \n12    2024-02-14  infections   1 week        NaN        NaN        NaN   \n13    2024-02-14  infections   2 week        NaN        NaN        NaN   \n14    2024-02-14  infections   3 week        NaN        NaN        NaN   \n15    2024-02-14  infections   4 week        NaN        NaN        NaN   \n\n        q0.75     q0.975  \n0    0.487517   1.456696  \n1    0.596879   1.817112  \n2    0.860827   2.451627  \n3    1.024472   2.958117  \n4    1.122354   3.077342  \n5   67.835125  72.360136  \n6   64.374955  68.921919  \n7   60.609566  65.249897  \n8   57.246731  61.376985  \n9   54.004617  58.156823  \n10  51.439668  55.685241  \n11        NaN        NaN  \n12        NaN        NaN  \n13        NaN        NaN  \n14        NaN        NaN  \n15        NaN        NaN  ",
      "text/html": "<div>\n<style scoped>\n    .dataframe tbody tr th:only-of-type {\n        vertical-align: middle;\n    }\n\n    .dataframe tbody tr th {\n        vertical-align: top;\n    }\n\n    .dataframe thead th {\n        text-align: right;\n    }\n</style>\n<table border=\"1\" class=\"dataframe\">\n  <thead>\n    <tr style=\"text-align: right;\">\n      <th></th>\n      <th>forecast_date</th>\n      <th>target</th>\n      <th>horizon</th>\n      <th>q0.025</th>\n      <th>q0.25</th>\n      <th>q0.5</th>\n      <th>q0.75</th>\n      <th>q0.975</th>\n    </tr>\n  </thead>\n  <tbody>\n    <tr>\n      <th>0</th>\n      <td>2024-02-14</td>\n      <td>DAX</td>\n      <td>1 day</td>\n      <td>-1.476984</td>\n      <td>-0.435362</td>\n      <td>0.015949</td>\n      <td>0.487517</td>\n      <td>1.456696</td>\n    </tr>\n    <tr>\n      <th>1</th>\n      <td>2024-02-14</td>\n      <td>DAX</td>\n      <td>2 day</td>\n      <td>-1.776190</td>\n      <td>-0.551777</td>\n      <td>0.012975</td>\n      <td>0.596879</td>\n      <td>1.817112</td>\n    </tr>\n    <tr>\n      <th>2</th>\n      <td>2024-02-14</td>\n      <td>DAX</td>\n      <td>5 day</td>\n      <td>-2.495796</td>\n      <td>-0.755006</td>\n      <td>0.036821</td>\n      <td>0.860827</td>\n      <td>2.451627</td>\n    </tr>\n    <tr>\n      <th>3</th>\n      <td>2024-02-14</td>\n      <td>DAX</td>\n      <td>6 day</td>\n      <td>-2.928077</td>\n      <td>-0.910155</td>\n      <td>0.042492</td>\n      <td>1.024472</td>\n      <td>2.958117</td>\n    </tr>\n    <tr>\n      <th>4</th>\n      <td>2024-02-14</td>\n      <td>DAX</td>\n      <td>7 day</td>\n      <td>-3.065102</td>\n      <td>-0.928176</td>\n      <td>0.057648</td>\n      <td>1.122354</td>\n      <td>3.077342</td>\n    </tr>\n    <tr>\n      <th>5</th>\n      <td>2024-02-14</td>\n      <td>energy</td>\n      <td>36 hour</td>\n      <td>55.657841</td>\n      <td>62.031507</td>\n      <td>65.436939</td>\n      <td>67.835125</td>\n      <td>72.360136</td>\n    </tr>\n    <tr>\n      <th>6</th>\n      <td>2024-02-14</td>\n      <td>energy</td>\n      <td>40 hour</td>\n      <td>53.080652</td>\n      <td>58.730124</td>\n      <td>61.825507</td>\n      <td>64.374955</td>\n      <td>68.921919</td>\n    </tr>\n    <tr>\n      <th>7</th>\n      <td>2024-02-14</td>\n      <td>energy</td>\n      <td>44 hour</td>\n      <td>50.627047</td>\n      <td>55.583548</td>\n      <td>58.179247</td>\n      <td>60.609566</td>\n      <td>65.249897</td>\n    </tr>\n    <tr>\n      <th>8</th>\n      <td>2024-02-14</td>\n      <td>energy</td>\n      <td>60 hour</td>\n      <td>45.751310</td>\n      <td>52.106464</td>\n      <td>55.058335</td>\n      <td>57.246731</td>\n      <td>61.376985</td>\n    </tr>\n    <tr>\n      <th>9</th>\n      <td>2024-02-14</td>\n      <td>energy</td>\n      <td>64 hour</td>\n      <td>43.392177</td>\n      <td>49.023136</td>\n      <td>51.664958</td>\n      <td>54.004617</td>\n      <td>58.156823</td>\n    </tr>\n    <tr>\n      <th>10</th>\n      <td>2024-02-14</td>\n      <td>energy</td>\n      <td>68 hour</td>\n      <td>42.139011</td>\n      <td>47.077000</td>\n      <td>49.219139</td>\n      <td>51.439668</td>\n      <td>55.685241</td>\n    </tr>\n    <tr>\n      <th>11</th>\n      <td>2024-02-14</td>\n      <td>infections</td>\n      <td>0 week</td>\n      <td>NaN</td>\n      <td>NaN</td>\n      <td>NaN</td>\n      <td>NaN</td>\n      <td>NaN</td>\n    </tr>\n    <tr>\n      <th>12</th>\n      <td>2024-02-14</td>\n      <td>infections</td>\n      <td>1 week</td>\n      <td>NaN</td>\n      <td>NaN</td>\n      <td>NaN</td>\n      <td>NaN</td>\n      <td>NaN</td>\n    </tr>\n    <tr>\n      <th>13</th>\n      <td>2024-02-14</td>\n      <td>infections</td>\n      <td>2 week</td>\n      <td>NaN</td>\n      <td>NaN</td>\n      <td>NaN</td>\n      <td>NaN</td>\n      <td>NaN</td>\n    </tr>\n    <tr>\n      <th>14</th>\n      <td>2024-02-14</td>\n      <td>infections</td>\n      <td>3 week</td>\n      <td>NaN</td>\n      <td>NaN</td>\n      <td>NaN</td>\n      <td>NaN</td>\n      <td>NaN</td>\n    </tr>\n    <tr>\n      <th>15</th>\n      <td>2024-02-14</td>\n      <td>infections</td>\n      <td>4 week</td>\n      <td>NaN</td>\n      <td>NaN</td>\n      <td>NaN</td>\n      <td>NaN</td>\n      <td>NaN</td>\n    </tr>\n  </tbody>\n</table>\n</div>"
     },
     "execution_count": 32,
     "metadata": {},
     "output_type": "execute_result"
    }
   ],
   "source": [
    "forecasts"
   ],
   "metadata": {
    "collapsed": false,
    "ExecuteTime": {
     "end_time": "2024-02-14T18:36:37.503707Z",
     "start_time": "2024-02-14T18:36:37.498900Z"
    }
   },
   "id": "f1a175becc740208"
  },
  {
   "cell_type": "markdown",
   "source": [
    "### Check df & Save csv-File"
   ],
   "metadata": {
    "collapsed": false
   },
   "id": "bd5784a4dab355d8"
  },
  {
   "cell_type": "code",
   "execution_count": 33,
   "outputs": [
    {
     "name": "stdout",
     "output_type": "stream",
     "text": [
      "Start checking...\n",
      "---------------------------\n",
      "Checking the Columns...\n",
      "Checking type of columns...\n",
      "----WARNING: Some elements in q0.025 column are not numeric. This may be fine if you only submit 2 out of 3 targets.\n",
      "\n",
      "----WARNING: Some elements in q0.25 column are not numeric. This may be fine if you only submit 2 out of 3 targets.\n",
      "\n",
      "----WARNING: Some elements in q0.5 column are not numeric. This may be fine if you only submit 2 out of 3 targets.\n",
      "\n",
      "----WARNING: Some elements in q0.75 column are not numeric. This may be fine if you only submit 2 out of 3 targets.\n",
      "\n",
      "----WARNING: Some elements in q0.975 column are not numeric. This may be fine if you only submit 2 out of 3 targets.\n",
      "\n",
      "Checking if the Dates make sense...\n",
      "Checking targets...\n",
      "Checking quantiles...\n",
      "Assume that -- infections -- is your NaN-target. Please DOUBLECHECK if this is correct.\n",
      "---------------------------\n",
      "Looks good!\n"
     ]
    },
    {
     "name": "stderr",
     "output_type": "stream",
     "text": [
      "/Users/elias/Desktop/PTSFC/HelpFunctions/check_submission.py:175: FutureWarning: Series.__setitem__ treating keys as positions is deprecated. In a future version, integer keys will always be treated as labels (consistent with DataFrame behavior). To set a value by position, use `ser.iloc[pos] = value`\n",
      "  diffs[0] = 0\n",
      "/Users/elias/Desktop/PTSFC/HelpFunctions/check_submission.py:175: FutureWarning: Series.__setitem__ treating keys as positions is deprecated. In a future version, integer keys will always be treated as labels (consistent with DataFrame behavior). To set a value by position, use `ser.iloc[pos] = value`\n",
      "  diffs[0] = 0\n",
      "/Users/elias/Desktop/PTSFC/HelpFunctions/check_submission.py:175: FutureWarning: Series.__setitem__ treating keys as positions is deprecated. In a future version, integer keys will always be treated as labels (consistent with DataFrame behavior). To set a value by position, use `ser.iloc[pos] = value`\n",
      "  diffs[0] = 0\n",
      "/Users/elias/Desktop/PTSFC/HelpFunctions/check_submission.py:175: FutureWarning: Series.__setitem__ treating keys as positions is deprecated. In a future version, integer keys will always be treated as labels (consistent with DataFrame behavior). To set a value by position, use `ser.iloc[pos] = value`\n",
      "  diffs[0] = 0\n",
      "/Users/elias/Desktop/PTSFC/HelpFunctions/check_submission.py:175: FutureWarning: Series.__setitem__ treating keys as positions is deprecated. In a future version, integer keys will always be treated as labels (consistent with DataFrame behavior). To set a value by position, use `ser.iloc[pos] = value`\n",
      "  diffs[0] = 0\n",
      "/Users/elias/Desktop/PTSFC/HelpFunctions/check_submission.py:175: FutureWarning: Series.__setitem__ treating keys as positions is deprecated. In a future version, integer keys will always be treated as labels (consistent with DataFrame behavior). To set a value by position, use `ser.iloc[pos] = value`\n",
      "  diffs[0] = 0\n",
      "/Users/elias/Desktop/PTSFC/HelpFunctions/check_submission.py:175: FutureWarning: Series.__setitem__ treating keys as positions is deprecated. In a future version, integer keys will always be treated as labels (consistent with DataFrame behavior). To set a value by position, use `ser.iloc[pos] = value`\n",
      "  diffs[0] = 0\n",
      "/Users/elias/Desktop/PTSFC/HelpFunctions/check_submission.py:175: FutureWarning: Series.__setitem__ treating keys as positions is deprecated. In a future version, integer keys will always be treated as labels (consistent with DataFrame behavior). To set a value by position, use `ser.iloc[pos] = value`\n",
      "  diffs[0] = 0\n",
      "/Users/elias/Desktop/PTSFC/HelpFunctions/check_submission.py:175: FutureWarning: Series.__setitem__ treating keys as positions is deprecated. In a future version, integer keys will always be treated as labels (consistent with DataFrame behavior). To set a value by position, use `ser.iloc[pos] = value`\n",
      "  diffs[0] = 0\n",
      "/Users/elias/Desktop/PTSFC/HelpFunctions/check_submission.py:175: FutureWarning: Series.__setitem__ treating keys as positions is deprecated. In a future version, integer keys will always be treated as labels (consistent with DataFrame behavior). To set a value by position, use `ser.iloc[pos] = value`\n",
      "  diffs[0] = 0\n",
      "/Users/elias/Desktop/PTSFC/HelpFunctions/check_submission.py:175: FutureWarning: Series.__setitem__ treating keys as positions is deprecated. In a future version, integer keys will always be treated as labels (consistent with DataFrame behavior). To set a value by position, use `ser.iloc[pos] = value`\n",
      "  diffs[0] = 0\n"
     ]
    }
   ],
   "source": [
    "from HelpFunctions.check_submission import check_submission_df\n",
    "\n",
    "check_submission_df(forecasts)\n",
    "forecasts.to_csv(f'./Abgaben/{start_date.strftime(\"%Y%m%d\")}_JakePeralta.csv', na_rep='NA', index=False)"
   ],
   "metadata": {
    "collapsed": false,
    "ExecuteTime": {
     "end_time": "2024-02-14T18:36:52.787490Z",
     "start_time": "2024-02-14T18:36:52.755769Z"
    }
   },
   "id": "47bccebca5a246c1"
  },
  {
   "cell_type": "code",
   "execution_count": null,
   "outputs": [],
   "source": [],
   "metadata": {
    "collapsed": false,
    "is_executing": true
   },
   "id": "d30d3456e1371d4b"
  }
 ],
 "metadata": {
  "kernelspec": {
   "display_name": "Python 3",
   "language": "python",
   "name": "python3"
  },
  "language_info": {
   "codemirror_mode": {
    "name": "ipython",
    "version": 2
   },
   "file_extension": ".py",
   "mimetype": "text/x-python",
   "name": "python",
   "nbconvert_exporter": "python",
   "pygments_lexer": "ipython2",
   "version": "2.7.6"
  }
 },
 "nbformat": 4,
 "nbformat_minor": 5
}
