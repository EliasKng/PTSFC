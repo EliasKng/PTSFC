{
 "cells": [
  {
   "cell_type": "markdown",
   "source": [
    "# Create Submission File"
   ],
   "metadata": {
    "collapsed": false
   },
   "id": "8c32bd09ca64c40b"
  },
  {
   "cell_type": "markdown",
   "source": [
    "## Imports and get data"
   ],
   "metadata": {
    "collapsed": false
   },
   "id": "14fdcf25ca938883"
  },
  {
   "cell_type": "code",
   "execution_count": 6,
   "outputs": [],
   "source": [
    "import pickle\n",
    "import seaborn as sns\n",
    "import matplotlib.pyplot as plt\n",
    "from datetime import timedelta\n",
    "import pandas as pd\n",
    "import numpy as np\n",
    "from HelpFunctions.calc_score import evaluate_horizon\n",
    "from HelpFunctions.mix_models import mix_models\n",
    "from HelpFunctions.date_and_time import most_recent_thursday, split_time\n",
    "\n",
    "from DAX.HelpFunctions.get_dax_data import get_dax_data\n",
    "from DAX.Models import baseline as dax_bl\n",
    "from DAX.Models import garch11 as dax_garch\n",
    "\n",
    "from Energy.HelpFunctions.get_energy_data import get_energy_data, prepare_data\n",
    "from Energy.Models import baseline as en_bl\n",
    "from Energy.Models import Model4_population as en_m4_pop\n",
    "from datetime import datetime\n",
    "import pytz\n",
    "\n",
    "# import importlib\n",
    "# importlib.reload(Energy.Models)\n",
    "\n",
    "# import importlib\n",
    "# importlib.reload(Energy.Models)"
   ],
   "metadata": {
    "collapsed": false,
    "ExecuteTime": {
     "end_time": "2024-01-02T11:28:38.377343Z",
     "start_time": "2024-01-02T11:28:38.335983Z"
    }
   },
   "id": "c30798cf9e7795b4"
  },
  {
   "cell_type": "markdown",
   "source": [
    "### DAX: Get and prepare Data\n",
    "Use tuesday as last datapoint"
   ],
   "metadata": {
    "collapsed": false
   },
   "id": "a5a087de7041bd86"
  },
  {
   "cell_type": "code",
   "execution_count": 7,
   "outputs": [],
   "source": [
    "# Insert Date of Wednesday (forecast-day) here. The current day has to be wednesday!!\n",
    "start_date = datetime(2023, 12, 20, 8, 0, 0)\n",
    "assert start_date.weekday() == 2"
   ],
   "metadata": {
    "collapsed": false,
    "ExecuteTime": {
     "end_time": "2024-01-02T11:28:38.388434Z",
     "start_time": "2024-01-02T11:28:38.341873Z"
    }
   },
   "id": "fe12d8b274c080da"
  },
  {
   "cell_type": "code",
   "execution_count": 8,
   "outputs": [],
   "source": [
    "df_dax = get_dax_data()\n",
    "# pretend_start_date = date(2023, 11, 22, 11, 00, 0, tzinfo=pytz.timezone('Europe/Berlin'))\n",
    "\n",
    "df_dax = df_dax[df_dax.index.date <= start_date.date()]"
   ],
   "metadata": {
    "collapsed": false,
    "ExecuteTime": {
     "end_time": "2024-01-02T11:28:38.691443Z",
     "start_time": "2024-01-02T11:28:38.347952Z"
    }
   },
   "id": "ae761a7c6fa93c50"
  },
  {
   "cell_type": "code",
   "execution_count": 9,
   "outputs": [
    {
     "data": {
      "text/plain": "                                  Close      ret1      ret2      ret3  \\\nDate                                                                    \n2023-12-14 00:00:00+01:00  16752.230469 -0.082464 -0.235570 -0.251585   \n2023-12-15 00:00:00+01:00  16751.439453 -0.004722 -0.087186 -0.240292   \n2023-12-18 00:00:00+01:00  16650.550781 -0.604090 -0.608812 -0.691276   \n2023-12-19 00:00:00+01:00  16744.410156  0.562118 -0.041971 -0.046693   \n2023-12-20 00:00:00+01:00  16733.050781 -0.067863  0.494256 -0.109834   \n\n                               ret4      ret5  \nDate                                           \n2023-12-14 00:00:00+01:00 -0.041718  0.738384  \n2023-12-15 00:00:00+01:00 -0.256307 -0.046440  \n2023-12-18 00:00:00+01:00 -0.844382 -0.860397  \n2023-12-19 00:00:00+01:00 -0.129157 -0.282263  \n2023-12-20 00:00:00+01:00 -0.114556 -0.197020  ",
      "text/html": "<div>\n<style scoped>\n    .dataframe tbody tr th:only-of-type {\n        vertical-align: middle;\n    }\n\n    .dataframe tbody tr th {\n        vertical-align: top;\n    }\n\n    .dataframe thead th {\n        text-align: right;\n    }\n</style>\n<table border=\"1\" class=\"dataframe\">\n  <thead>\n    <tr style=\"text-align: right;\">\n      <th></th>\n      <th>Close</th>\n      <th>ret1</th>\n      <th>ret2</th>\n      <th>ret3</th>\n      <th>ret4</th>\n      <th>ret5</th>\n    </tr>\n    <tr>\n      <th>Date</th>\n      <th></th>\n      <th></th>\n      <th></th>\n      <th></th>\n      <th></th>\n      <th></th>\n    </tr>\n  </thead>\n  <tbody>\n    <tr>\n      <th>2023-12-14 00:00:00+01:00</th>\n      <td>16752.230469</td>\n      <td>-0.082464</td>\n      <td>-0.235570</td>\n      <td>-0.251585</td>\n      <td>-0.041718</td>\n      <td>0.738384</td>\n    </tr>\n    <tr>\n      <th>2023-12-15 00:00:00+01:00</th>\n      <td>16751.439453</td>\n      <td>-0.004722</td>\n      <td>-0.087186</td>\n      <td>-0.240292</td>\n      <td>-0.256307</td>\n      <td>-0.046440</td>\n    </tr>\n    <tr>\n      <th>2023-12-18 00:00:00+01:00</th>\n      <td>16650.550781</td>\n      <td>-0.604090</td>\n      <td>-0.608812</td>\n      <td>-0.691276</td>\n      <td>-0.844382</td>\n      <td>-0.860397</td>\n    </tr>\n    <tr>\n      <th>2023-12-19 00:00:00+01:00</th>\n      <td>16744.410156</td>\n      <td>0.562118</td>\n      <td>-0.041971</td>\n      <td>-0.046693</td>\n      <td>-0.129157</td>\n      <td>-0.282263</td>\n    </tr>\n    <tr>\n      <th>2023-12-20 00:00:00+01:00</th>\n      <td>16733.050781</td>\n      <td>-0.067863</td>\n      <td>0.494256</td>\n      <td>-0.109834</td>\n      <td>-0.114556</td>\n      <td>-0.197020</td>\n    </tr>\n  </tbody>\n</table>\n</div>"
     },
     "execution_count": 9,
     "metadata": {},
     "output_type": "execute_result"
    }
   ],
   "source": [
    "df_dax.tail()"
   ],
   "metadata": {
    "collapsed": false,
    "ExecuteTime": {
     "end_time": "2024-01-02T11:28:38.702062Z",
     "start_time": "2024-01-02T11:28:38.696517Z"
    }
   },
   "id": "92645117f2cf725e"
  },
  {
   "cell_type": "markdown",
   "source": [
    "### Energy: Get and prepare Data"
   ],
   "metadata": {
    "collapsed": false
   },
   "id": "68351dfe67b07c44"
  },
  {
   "cell_type": "code",
   "execution_count": 10,
   "outputs": [
    {
     "name": "stderr",
     "output_type": "stream",
     "text": [
      "  0%|          | 0/263 [00:00<?, ?it/s]/Users/elias/Desktop/PTSFC/Energy/HelpFunctions/get_energy_data.py:54: FutureWarning: The behavior of DataFrame concatenation with empty or all-NA entries is deprecated. In a future version, this will no longer exclude empty or all-NA columns when determining the result dtypes. To retain the old behavior, exclude the relevant entries before the concat operation.\n",
      "  energydata = pd.concat([energydata, pd.DataFrame(rawdata, columns=col_names)])\n",
      "100%|██████████| 263/263 [00:22<00:00, 11.88it/s]\n"
     ]
    }
   ],
   "source": [
    "from Energy.HelpFunctions.get_energy_data import fetch_energy_data\n",
    "fetch_energy_data()"
   ],
   "metadata": {
    "collapsed": false,
    "ExecuteTime": {
     "end_time": "2024-01-02T11:29:01.012203Z",
     "start_time": "2024-01-02T11:28:38.699828Z"
    }
   },
   "id": "616a683b3b913537"
  },
  {
   "cell_type": "code",
   "execution_count": 11,
   "outputs": [],
   "source": [
    "df_en = get_energy_data(force_return=True)\n",
    "df_en = prepare_data(df_en)"
   ],
   "metadata": {
    "collapsed": false,
    "ExecuteTime": {
     "end_time": "2024-01-02T11:29:01.077694Z",
     "start_time": "2024-01-02T11:29:01.007897Z"
    }
   },
   "id": "b59e1a44bd7c2e8f"
  },
  {
   "cell_type": "code",
   "execution_count": 12,
   "outputs": [],
   "source": [
    "df_en = df_en.loc[df_en.index <= start_date]"
   ],
   "metadata": {
    "collapsed": false,
    "ExecuteTime": {
     "end_time": "2024-01-02T11:29:01.085094Z",
     "start_time": "2024-01-02T11:29:01.077397Z"
    }
   },
   "id": "3ce91a690ad2cdc5"
  },
  {
   "cell_type": "code",
   "execution_count": 13,
   "outputs": [
    {
     "data": {
      "text/plain": "                       gesamt\ndate_time                    \n2023-12-20 04:00:00  44.92275\n2023-12-20 05:00:00  48.51875\n2023-12-20 06:00:00  54.82350\n2023-12-20 07:00:00  61.03775\n2023-12-20 08:00:00  64.59875",
      "text/html": "<div>\n<style scoped>\n    .dataframe tbody tr th:only-of-type {\n        vertical-align: middle;\n    }\n\n    .dataframe tbody tr th {\n        vertical-align: top;\n    }\n\n    .dataframe thead th {\n        text-align: right;\n    }\n</style>\n<table border=\"1\" class=\"dataframe\">\n  <thead>\n    <tr style=\"text-align: right;\">\n      <th></th>\n      <th>gesamt</th>\n    </tr>\n    <tr>\n      <th>date_time</th>\n      <th></th>\n    </tr>\n  </thead>\n  <tbody>\n    <tr>\n      <th>2023-12-20 04:00:00</th>\n      <td>44.92275</td>\n    </tr>\n    <tr>\n      <th>2023-12-20 05:00:00</th>\n      <td>48.51875</td>\n    </tr>\n    <tr>\n      <th>2023-12-20 06:00:00</th>\n      <td>54.82350</td>\n    </tr>\n    <tr>\n      <th>2023-12-20 07:00:00</th>\n      <td>61.03775</td>\n    </tr>\n    <tr>\n      <th>2023-12-20 08:00:00</th>\n      <td>64.59875</td>\n    </tr>\n  </tbody>\n</table>\n</div>"
     },
     "execution_count": 13,
     "metadata": {},
     "output_type": "execute_result"
    }
   ],
   "source": [
    "df_en.tail()"
   ],
   "metadata": {
    "collapsed": false,
    "ExecuteTime": {
     "end_time": "2024-01-02T11:29:01.085889Z",
     "start_time": "2024-01-02T11:29:01.082154Z"
    }
   },
   "id": "9ec8ed6cc58d3ad6"
  },
  {
   "cell_type": "markdown",
   "source": [
    "## Run models for the data"
   ],
   "metadata": {
    "collapsed": false
   },
   "id": "b64db28817cc4bb"
  },
  {
   "cell_type": "markdown",
   "source": [
    "### DAX"
   ],
   "metadata": {
    "collapsed": false
   },
   "id": "61218b68e5a9083d"
  },
  {
   "cell_type": "code",
   "execution_count": 14,
   "outputs": [
    {
     "name": "stdout",
     "output_type": "stream",
     "text": [
      "1\n",
      "1\n",
      "1\n",
      "1\n",
      "1\n"
     ]
    },
    {
     "data": {
      "text/plain": "  forecast_date target horizon    q0.025     q0.25      q0.5     q0.75  \\\n0    2023-12-21    DAX   1 day -1.533723 -0.405423  0.041765  0.523728   \n1    2023-12-22    DAX   2 day -2.101241 -0.630386  0.054355  0.784434   \n2    2023-12-25    DAX   5 day -2.671243 -0.756009  0.119449  1.018722   \n3    2023-12-26    DAX   6 day -3.035672 -0.862041  0.154987  1.201198   \n4    2023-12-27    DAX   7 day -3.256062 -0.903910  0.194874  1.321378   \n\n     q0.975  \n0  1.532850  \n1  2.280994  \n2  2.715961  \n3  3.249899  \n4  3.602143  ",
      "text/html": "<div>\n<style scoped>\n    .dataframe tbody tr th:only-of-type {\n        vertical-align: middle;\n    }\n\n    .dataframe tbody tr th {\n        vertical-align: top;\n    }\n\n    .dataframe thead th {\n        text-align: right;\n    }\n</style>\n<table border=\"1\" class=\"dataframe\">\n  <thead>\n    <tr style=\"text-align: right;\">\n      <th></th>\n      <th>forecast_date</th>\n      <th>target</th>\n      <th>horizon</th>\n      <th>q0.025</th>\n      <th>q0.25</th>\n      <th>q0.5</th>\n      <th>q0.75</th>\n      <th>q0.975</th>\n    </tr>\n  </thead>\n  <tbody>\n    <tr>\n      <th>0</th>\n      <td>2023-12-21</td>\n      <td>DAX</td>\n      <td>1 day</td>\n      <td>-1.533723</td>\n      <td>-0.405423</td>\n      <td>0.041765</td>\n      <td>0.523728</td>\n      <td>1.532850</td>\n    </tr>\n    <tr>\n      <th>1</th>\n      <td>2023-12-22</td>\n      <td>DAX</td>\n      <td>2 day</td>\n      <td>-2.101241</td>\n      <td>-0.630386</td>\n      <td>0.054355</td>\n      <td>0.784434</td>\n      <td>2.280994</td>\n    </tr>\n    <tr>\n      <th>2</th>\n      <td>2023-12-25</td>\n      <td>DAX</td>\n      <td>5 day</td>\n      <td>-2.671243</td>\n      <td>-0.756009</td>\n      <td>0.119449</td>\n      <td>1.018722</td>\n      <td>2.715961</td>\n    </tr>\n    <tr>\n      <th>3</th>\n      <td>2023-12-26</td>\n      <td>DAX</td>\n      <td>6 day</td>\n      <td>-3.035672</td>\n      <td>-0.862041</td>\n      <td>0.154987</td>\n      <td>1.201198</td>\n      <td>3.249899</td>\n    </tr>\n    <tr>\n      <th>4</th>\n      <td>2023-12-27</td>\n      <td>DAX</td>\n      <td>7 day</td>\n      <td>-3.256062</td>\n      <td>-0.903910</td>\n      <td>0.194874</td>\n      <td>1.321378</td>\n      <td>3.602143</td>\n    </tr>\n  </tbody>\n</table>\n</div>"
     },
     "execution_count": 14,
     "metadata": {},
     "output_type": "execute_result"
    }
   ],
   "source": [
    "from DAX.Models import arma_garch_11 as ag\n",
    "from DAX.Models import baseline as bl\n",
    "\n",
    "import importlib\n",
    "importlib.reload(ag)\n",
    "importlib.reload(bl)\n",
    "\n",
    "\n",
    "# dax_bl.baseline(df_dax)\n",
    "# forecast_dax = dax_garch.garch11(df_dax)\n",
    "forecast_dax = mix_models([ag.garch11_norm_1y, bl.baseline_1y], [1,1], df_dax, 'DAX')\n",
    "forecast_dax\n"
   ],
   "metadata": {
    "collapsed": false,
    "ExecuteTime": {
     "end_time": "2024-01-02T11:29:02.309261Z",
     "start_time": "2024-01-02T11:29:01.085817Z"
    }
   },
   "id": "742fa6034b59aa97"
  },
  {
   "cell_type": "markdown",
   "source": [
    "### Energy  "
   ],
   "metadata": {
    "collapsed": false
   },
   "id": "a401e8783d00353a"
  },
  {
   "cell_type": "code",
   "execution_count": 15,
   "outputs": [
    {
     "ename": "AttributeError",
     "evalue": "'DataFrame' object has no attribute 'weekday'",
     "output_type": "error",
     "traceback": [
      "\u001B[0;31m---------------------------------------------------------------------------\u001B[0m",
      "\u001B[0;31mAttributeError\u001B[0m                            Traceback (most recent call last)",
      "\u001B[0;32m/var/folders/c7/nx3f8qlj38ld0jj0l_0nyp2h0000gn/T/ipykernel_22566/4000620990.py\u001B[0m in \u001B[0;36m?\u001B[0;34m()\u001B[0m\n\u001B[0;32m---> 17\u001B[0;31m \u001B[0;32mfrom\u001B[0m \u001B[0mEnergy\u001B[0m\u001B[0;34m.\u001B[0m\u001B[0mModels\u001B[0m\u001B[0;34m.\u001B[0m\u001B[0mbaseline\u001B[0m \u001B[0;32mimport\u001B[0m \u001B[0mbaseline\u001B[0m\u001B[0;34m\u001B[0m\u001B[0;34m\u001B[0m\u001B[0m\n\u001B[0m\u001B[1;32m     18\u001B[0m \u001B[0;32mfrom\u001B[0m \u001B[0mHelpFunctions\u001B[0m\u001B[0;34m.\u001B[0m\u001B[0mmix_models\u001B[0m \u001B[0;32mimport\u001B[0m \u001B[0mmix_models_per_horizon\u001B[0m\u001B[0;34m\u001B[0m\u001B[0;34m\u001B[0m\u001B[0m\n\u001B[1;32m     19\u001B[0m \u001B[0;32mfrom\u001B[0m \u001B[0mEnergy\u001B[0m\u001B[0;34m.\u001B[0m\u001B[0mModels\u001B[0m\u001B[0;34m.\u001B[0m\u001B[0mModel4_sunhours\u001B[0m \u001B[0;32mimport\u001B[0m \u001B[0mmodel4_sunhours\u001B[0m\u001B[0;34m\u001B[0m\u001B[0;34m\u001B[0m\u001B[0m\n\u001B[1;32m     20\u001B[0m \u001B[0;32mfrom\u001B[0m \u001B[0mEnergy\u001B[0m\u001B[0;34m.\u001B[0m\u001B[0mModels\u001B[0m\u001B[0;34m.\u001B[0m\u001B[0mModel4_holidays_2\u001B[0m \u001B[0;32mimport\u001B[0m \u001B[0mmodel4_holidays_2\u001B[0m\u001B[0;34m\u001B[0m\u001B[0;34m\u001B[0m\u001B[0m\n",
      "\u001B[0;32m~/Desktop/PTSFC/HelpFunctions/mix_models.py\u001B[0m in \u001B[0;36m?\u001B[0;34m(models, weights, df, target, offset_horizons)\u001B[0m\n\u001B[1;32m      6\u001B[0m     \u001B[0mtotal_weight\u001B[0m \u001B[0;34m=\u001B[0m \u001B[0msum\u001B[0m\u001B[0;34m(\u001B[0m\u001B[0mweights\u001B[0m\u001B[0;34m)\u001B[0m\u001B[0;34m\u001B[0m\u001B[0;34m\u001B[0m\u001B[0m\n\u001B[1;32m      7\u001B[0m     \u001B[0;32mif\u001B[0m \u001B[0mtotal_weight\u001B[0m \u001B[0;34m!=\u001B[0m \u001B[0;36m1\u001B[0m\u001B[0;34m:\u001B[0m\u001B[0;34m\u001B[0m\u001B[0;34m\u001B[0m\u001B[0m\n\u001B[1;32m      8\u001B[0m         \u001B[0mweights\u001B[0m \u001B[0;34m=\u001B[0m \u001B[0;34m[\u001B[0m\u001B[0mw\u001B[0m \u001B[0;34m/\u001B[0m \u001B[0mtotal_weight\u001B[0m \u001B[0;32mfor\u001B[0m \u001B[0mw\u001B[0m \u001B[0;32min\u001B[0m \u001B[0mweights\u001B[0m\u001B[0;34m]\u001B[0m\u001B[0;34m\u001B[0m\u001B[0;34m\u001B[0m\u001B[0m\n\u001B[1;32m      9\u001B[0m \u001B[0;34m\u001B[0m\u001B[0m\n\u001B[0;32m---> 10\u001B[0;31m     \u001B[0mmodel_forecasts\u001B[0m\u001B[0;34m,\u001B[0m \u001B[0mforecast_dates\u001B[0m\u001B[0;34m,\u001B[0m \u001B[0mhorizons\u001B[0m \u001B[0;34m=\u001B[0m \u001B[0m_run_models\u001B[0m\u001B[0;34m(\u001B[0m\u001B[0mmodels\u001B[0m\u001B[0;34m,\u001B[0m \u001B[0mdf\u001B[0m\u001B[0;34m,\u001B[0m \u001B[0moffset_horizons\u001B[0m\u001B[0;34m)\u001B[0m\u001B[0;34m\u001B[0m\u001B[0;34m\u001B[0m\u001B[0m\n\u001B[0m\u001B[1;32m     11\u001B[0m \u001B[0;34m\u001B[0m\u001B[0m\n\u001B[1;32m     12\u001B[0m     \u001B[0mmixed_forecasts\u001B[0m \u001B[0;34m=\u001B[0m \u001B[0mnp\u001B[0m\u001B[0;34m.\u001B[0m\u001B[0mzeros\u001B[0m\u001B[0;34m(\u001B[0m\u001B[0mmodel_forecasts\u001B[0m\u001B[0;34m[\u001B[0m\u001B[0;36m0\u001B[0m\u001B[0;34m]\u001B[0m\u001B[0;34m.\u001B[0m\u001B[0mshape\u001B[0m\u001B[0;34m)\u001B[0m\u001B[0;34m\u001B[0m\u001B[0;34m\u001B[0m\u001B[0m\n\u001B[1;32m     13\u001B[0m     \u001B[0;32mfor\u001B[0m \u001B[0mf\u001B[0m\u001B[0;34m,\u001B[0m \u001B[0mw\u001B[0m \u001B[0;32min\u001B[0m \u001B[0mzip\u001B[0m\u001B[0;34m(\u001B[0m\u001B[0mmodel_forecasts\u001B[0m\u001B[0;34m,\u001B[0m \u001B[0mweights\u001B[0m\u001B[0;34m)\u001B[0m\u001B[0;34m:\u001B[0m\u001B[0;34m\u001B[0m\u001B[0;34m\u001B[0m\u001B[0m\n",
      "\u001B[0;32m~/Desktop/PTSFC/HelpFunctions/mix_models.py\u001B[0m in \u001B[0;36m?\u001B[0;34m(models, df, offset_horizons)\u001B[0m\n\u001B[1;32m     53\u001B[0m     \u001B[0;32mfor\u001B[0m \u001B[0mm\u001B[0m \u001B[0;32min\u001B[0m \u001B[0mmodels\u001B[0m\u001B[0;34m:\u001B[0m\u001B[0;34m\u001B[0m\u001B[0;34m\u001B[0m\u001B[0m\n\u001B[1;32m     54\u001B[0m         \u001B[0;32mif\u001B[0m \u001B[0moffset_horizons\u001B[0m \u001B[0;34m==\u001B[0m \u001B[0;36m0\u001B[0m\u001B[0;34m:\u001B[0m\u001B[0;34m\u001B[0m\u001B[0;34m\u001B[0m\u001B[0m\n\u001B[1;32m     55\u001B[0m             \u001B[0mforecast\u001B[0m \u001B[0;34m=\u001B[0m \u001B[0mm\u001B[0m\u001B[0;34m(\u001B[0m\u001B[0mdf\u001B[0m\u001B[0;34m)\u001B[0m\u001B[0;34m\u001B[0m\u001B[0;34m\u001B[0m\u001B[0m\n\u001B[1;32m     56\u001B[0m         \u001B[0;32melse\u001B[0m\u001B[0;34m:\u001B[0m\u001B[0;34m\u001B[0m\u001B[0;34m\u001B[0m\u001B[0m\n\u001B[0;32m---> 57\u001B[0;31m             \u001B[0mforecast\u001B[0m \u001B[0;34m=\u001B[0m \u001B[0mm\u001B[0m\u001B[0;34m(\u001B[0m\u001B[0mdf\u001B[0m\u001B[0;34m,\u001B[0m \u001B[0moffset_horizons\u001B[0m\u001B[0;34m=\u001B[0m\u001B[0moffset_horizons\u001B[0m\u001B[0;34m)\u001B[0m\u001B[0;34m\u001B[0m\u001B[0;34m\u001B[0m\u001B[0m\n\u001B[0m\u001B[1;32m     58\u001B[0m         \u001B[0mmodel_forecasts\u001B[0m\u001B[0;34m.\u001B[0m\u001B[0mappend\u001B[0m\u001B[0;34m(\u001B[0m\u001B[0mforecast\u001B[0m\u001B[0;34m.\u001B[0m\u001B[0mloc\u001B[0m\u001B[0;34m[\u001B[0m\u001B[0;34m:\u001B[0m\u001B[0;34m,\u001B[0m \u001B[0;34m[\u001B[0m\u001B[0;34m'q0.025'\u001B[0m\u001B[0;34m,\u001B[0m \u001B[0;34m'q0.25'\u001B[0m\u001B[0;34m,\u001B[0m \u001B[0;34m'q0.5'\u001B[0m\u001B[0;34m,\u001B[0m \u001B[0;34m'q0.75'\u001B[0m\u001B[0;34m,\u001B[0m \u001B[0;34m'q0.975'\u001B[0m\u001B[0;34m]\u001B[0m\u001B[0;34m]\u001B[0m\u001B[0;34m)\u001B[0m\u001B[0;34m\u001B[0m\u001B[0;34m\u001B[0m\u001B[0m\n\u001B[1;32m     59\u001B[0m         \u001B[0mforecast_dates\u001B[0m \u001B[0;34m=\u001B[0m \u001B[0mforecast\u001B[0m\u001B[0;34m[\u001B[0m\u001B[0;34m'forecast_date'\u001B[0m\u001B[0;34m]\u001B[0m\u001B[0;34m\u001B[0m\u001B[0;34m\u001B[0m\u001B[0m\n\u001B[1;32m     60\u001B[0m         \u001B[0mhorizons\u001B[0m \u001B[0;34m=\u001B[0m \u001B[0mforecast\u001B[0m\u001B[0;34m[\u001B[0m\u001B[0;34m'horizon'\u001B[0m\u001B[0;34m]\u001B[0m\u001B[0;34m\u001B[0m\u001B[0;34m\u001B[0m\u001B[0m\n",
      "\u001B[0;32m~/Desktop/PTSFC/Energy/Models/baseline.py\u001B[0m in \u001B[0;36m?\u001B[0;34m(df, LAST_IDX, offset_horizons)\u001B[0m\n\u001B[1;32m     20\u001B[0m         \u001B[0mhour\u001B[0m \u001B[0;34m=\u001B[0m \u001B[0md\u001B[0m\u001B[0;34m.\u001B[0m\u001B[0mhour\u001B[0m\u001B[0;34m\u001B[0m\u001B[0;34m\u001B[0m\u001B[0m\n\u001B[1;32m     21\u001B[0m \u001B[0;34m\u001B[0m\u001B[0m\n\u001B[1;32m     22\u001B[0m         \u001B[0mdf_tmp\u001B[0m \u001B[0;34m=\u001B[0m \u001B[0mdf\u001B[0m\u001B[0;34m.\u001B[0m\u001B[0miloc\u001B[0m\u001B[0;34m[\u001B[0m\u001B[0;34m:\u001B[0m\u001B[0mLAST_IDX\u001B[0m\u001B[0;34m]\u001B[0m\u001B[0;34m\u001B[0m\u001B[0;34m\u001B[0m\u001B[0m\n\u001B[1;32m     23\u001B[0m \u001B[0;34m\u001B[0m\u001B[0m\n\u001B[0;32m---> 24\u001B[0;31m         \u001B[0mcond\u001B[0m \u001B[0;34m=\u001B[0m \u001B[0;34m(\u001B[0m\u001B[0mdf_tmp\u001B[0m\u001B[0;34m.\u001B[0m\u001B[0mweekday\u001B[0m \u001B[0;34m==\u001B[0m \u001B[0mweekday\u001B[0m\u001B[0;34m)\u001B[0m \u001B[0;34m&\u001B[0m \u001B[0;34m(\u001B[0m\u001B[0mdf_tmp\u001B[0m\u001B[0;34m.\u001B[0m\u001B[0mindex\u001B[0m\u001B[0;34m.\u001B[0m\u001B[0mtime\u001B[0m \u001B[0;34m==\u001B[0m \u001B[0md\u001B[0m\u001B[0;34m.\u001B[0m\u001B[0mtime\u001B[0m\u001B[0;34m(\u001B[0m\u001B[0;34m)\u001B[0m\u001B[0;34m)\u001B[0m\u001B[0;34m\u001B[0m\u001B[0;34m\u001B[0m\u001B[0m\n\u001B[0m\u001B[1;32m     25\u001B[0m \u001B[0;34m\u001B[0m\u001B[0m\n\u001B[1;32m     26\u001B[0m         \u001B[0mpred_baseline\u001B[0m\u001B[0;34m[\u001B[0m\u001B[0mi\u001B[0m\u001B[0;34m,\u001B[0m \u001B[0;34m:\u001B[0m\u001B[0;34m]\u001B[0m \u001B[0;34m=\u001B[0m \u001B[0mnp\u001B[0m\u001B[0;34m.\u001B[0m\u001B[0mquantile\u001B[0m\u001B[0;34m(\u001B[0m\u001B[0mdf_tmp\u001B[0m\u001B[0;34m[\u001B[0m\u001B[0mcond\u001B[0m\u001B[0;34m]\u001B[0m\u001B[0;34m.\u001B[0m\u001B[0miloc\u001B[0m\u001B[0;34m[\u001B[0m\u001B[0;34m-\u001B[0m\u001B[0mlast_t\u001B[0m\u001B[0;34m:\u001B[0m\u001B[0;34m]\u001B[0m\u001B[0;34m[\u001B[0m\u001B[0;34m\"gesamt\"\u001B[0m\u001B[0;34m]\u001B[0m\u001B[0;34m,\u001B[0m \u001B[0mq\u001B[0m\u001B[0;34m=\u001B[0m\u001B[0mtau\u001B[0m\u001B[0;34m)\u001B[0m\u001B[0;34m\u001B[0m\u001B[0;34m\u001B[0m\u001B[0m\n\u001B[1;32m     27\u001B[0m \u001B[0;34m\u001B[0m\u001B[0m\n",
      "\u001B[0;32m~/Desktop/PTSFC/venv/lib/python3.9/site-packages/pandas/core/generic.py\u001B[0m in \u001B[0;36m?\u001B[0;34m(self, name)\u001B[0m\n\u001B[1;32m   6200\u001B[0m             \u001B[0;32mand\u001B[0m \u001B[0mname\u001B[0m \u001B[0;32mnot\u001B[0m \u001B[0;32min\u001B[0m \u001B[0mself\u001B[0m\u001B[0;34m.\u001B[0m\u001B[0m_accessors\u001B[0m\u001B[0;34m\u001B[0m\u001B[0;34m\u001B[0m\u001B[0m\n\u001B[1;32m   6201\u001B[0m             \u001B[0;32mand\u001B[0m \u001B[0mself\u001B[0m\u001B[0;34m.\u001B[0m\u001B[0m_info_axis\u001B[0m\u001B[0;34m.\u001B[0m\u001B[0m_can_hold_identifiers_and_holds_name\u001B[0m\u001B[0;34m(\u001B[0m\u001B[0mname\u001B[0m\u001B[0;34m)\u001B[0m\u001B[0;34m\u001B[0m\u001B[0;34m\u001B[0m\u001B[0m\n\u001B[1;32m   6202\u001B[0m         ):\n\u001B[1;32m   6203\u001B[0m             \u001B[0;32mreturn\u001B[0m \u001B[0mself\u001B[0m\u001B[0;34m[\u001B[0m\u001B[0mname\u001B[0m\u001B[0;34m]\u001B[0m\u001B[0;34m\u001B[0m\u001B[0;34m\u001B[0m\u001B[0m\n\u001B[0;32m-> 6204\u001B[0;31m         \u001B[0;32mreturn\u001B[0m \u001B[0mobject\u001B[0m\u001B[0;34m.\u001B[0m\u001B[0m__getattribute__\u001B[0m\u001B[0;34m(\u001B[0m\u001B[0mself\u001B[0m\u001B[0;34m,\u001B[0m \u001B[0mname\u001B[0m\u001B[0;34m)\u001B[0m\u001B[0;34m\u001B[0m\u001B[0;34m\u001B[0m\u001B[0m\n\u001B[0m",
      "\u001B[0;31mAttributeError\u001B[0m: 'DataFrame' object has no attribute 'weekday'"
     ]
    }
   ],
   "source": [
    "from Energy.Models.baseline import baseline\n",
    "from HelpFunctions.mix_models import mix_models_per_horizon\n",
    "from Energy.Models.Model4_sunhours import model4_sunhours\n",
    "from Energy.Models.Model4_holidays_2 import model4_holidays_2\n",
    "from Energy.Models.Model4_population import model4_population\n",
    "from Energy.Models.Model5 import model5\n",
    "\n",
    "# en_bl.baseline(df_en, LAST_IDX=-1, offset_horizons=11)\n",
    "\n",
    "weights_m5_bl_m4_x = [1,1,0,0,0]\n",
    "functions_m5_bl_m4_x = [model5, baseline, model4_population, model4_holidays_2, model4_sunhours]\n",
    "\n",
    "\n",
    "\n",
    "\n",
    "# forecast_en = en_m4_pop.model4_population(df_en, offset_horizons=15)\n",
    "forecast_en = mix_models(functions_m5_bl_m4_x, weights_m5_bl_m4_x, df_en, target=\"energy\", offset_horizons=15)\n",
    "forecast_en"
   ],
   "metadata": {
    "collapsed": false,
    "ExecuteTime": {
     "end_time": "2024-01-02T11:29:08.994963Z",
     "start_time": "2024-01-02T11:29:02.308529Z"
    }
   },
   "id": "27c1531489976aa4"
  },
  {
   "cell_type": "markdown",
   "source": [
    "### Infections"
   ],
   "metadata": {
    "collapsed": false
   },
   "id": "105bec481fe1b70e"
  },
  {
   "cell_type": "code",
   "execution_count": null,
   "outputs": [],
   "source": [
    "forecast_infections = {\n",
    "    'forecast_date': [start_date.strftime('%Y-%m-%d')] * 5,\n",
    "    'target': ['infections'] * 5,\n",
    "    'horizon': ['0 week', '1 week', '2 week', '3 week', '4 week'],\n",
    "    # 'q0.025': ['NA'] * 5,\n",
    "    # 'q0.25': ['NA'] * 5,\n",
    "    # 'q0.5': ['NA'] * 5,\n",
    "    # 'q0.75': ['NA'] * 5,\n",
    "    # 'q0.975': ['NA'] * 5,\n",
    "    'q0.025': [np.nan] * 5,\n",
    "    'q0.25': [np.nan] * 5,\n",
    "    'q0.5': [np.nan] * 5,\n",
    "    'q0.75': [np.nan] * 5,\n",
    "    'q0.975': [np.nan] * 5\n",
    "}\n",
    "\n",
    "forecast_infections = pd.DataFrame(forecast_infections)"
   ],
   "metadata": {
    "collapsed": false,
    "ExecuteTime": {
     "end_time": "2024-01-02T11:29:09.000748Z",
     "start_time": "2024-01-02T11:29:08.998483Z"
    }
   },
   "id": "5a3873d90a18c7fb"
  },
  {
   "cell_type": "code",
   "execution_count": null,
   "outputs": [],
   "source": [
    "forecast_infections"
   ],
   "metadata": {
    "collapsed": false,
    "ExecuteTime": {
     "start_time": "2024-01-02T11:29:09.002074Z"
    }
   },
   "id": "7d5811c34b25292f"
  },
  {
   "cell_type": "markdown",
   "source": [
    "## Merge results\n",
    "\n",
    "Check results: Are they valid, forecast_date is right? The last entry might be cut off"
   ],
   "metadata": {
    "collapsed": false
   },
   "id": "a0f6402def6f6bb4"
  },
  {
   "cell_type": "code",
   "execution_count": null,
   "outputs": [],
   "source": [
    "forecasts = pd.concat([forecast_dax,forecast_en, forecast_infections]).reset_index().drop(columns=['index'])\n",
    "forecasts"
   ],
   "metadata": {
    "collapsed": false,
    "ExecuteTime": {
     "end_time": "2024-01-02T11:29:09.004877Z",
     "start_time": "2024-01-02T11:29:09.004285Z"
    }
   },
   "id": "9a6cbf31cfef99e2"
  },
  {
   "cell_type": "markdown",
   "source": [
    "If everything seems good: Override forecast_date"
   ],
   "metadata": {
    "collapsed": false
   },
   "id": "d5cac7727b9a5070"
  },
  {
   "cell_type": "code",
   "execution_count": null,
   "outputs": [],
   "source": [
    "forecasts['forecast_date'] = [start_date.strftime('%Y-%m-%d') for _ in range(len(forecasts))]"
   ],
   "metadata": {
    "collapsed": false,
    "ExecuteTime": {
     "start_time": "2024-01-02T11:29:09.007577Z"
    }
   },
   "id": "32de480b970161d"
  },
  {
   "cell_type": "code",
   "execution_count": null,
   "outputs": [],
   "source": [
    "forecasts"
   ],
   "metadata": {
    "collapsed": false,
    "ExecuteTime": {
     "end_time": "2024-01-02T11:29:09.020057Z",
     "start_time": "2024-01-02T11:29:09.010976Z"
    }
   },
   "id": "f1a175becc740208"
  },
  {
   "cell_type": "markdown",
   "source": [
    "### Check df & Save csv-File"
   ],
   "metadata": {
    "collapsed": false
   },
   "id": "bd5784a4dab355d8"
  },
  {
   "cell_type": "code",
   "execution_count": null,
   "outputs": [],
   "source": [
    "from HelpFunctions.check_submission import check_submission_df\n",
    "\n",
    "check_submission_df(forecasts)\n",
    "forecasts.to_csv(f'./Abgaben/{start_date.strftime(\"%Y%m%d\")}_JakePeralta.csv', na_rep='NA', index=False)"
   ],
   "metadata": {
    "collapsed": false,
    "ExecuteTime": {
     "start_time": "2024-01-02T11:29:09.014068Z"
    }
   },
   "id": "47bccebca5a246c1"
  },
  {
   "cell_type": "code",
   "execution_count": null,
   "outputs": [],
   "source": [],
   "metadata": {
    "collapsed": false,
    "ExecuteTime": {
     "start_time": "2024-01-02T11:29:09.016345Z"
    }
   },
   "id": "d30d3456e1371d4b"
  }
 ],
 "metadata": {
  "kernelspec": {
   "display_name": "Python 3",
   "language": "python",
   "name": "python3"
  },
  "language_info": {
   "codemirror_mode": {
    "name": "ipython",
    "version": 2
   },
   "file_extension": ".py",
   "mimetype": "text/x-python",
   "name": "python",
   "nbconvert_exporter": "python",
   "pygments_lexer": "ipython2",
   "version": "2.7.6"
  }
 },
 "nbformat": 4,
 "nbformat_minor": 5
}
