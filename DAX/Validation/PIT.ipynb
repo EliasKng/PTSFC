{
 "cells": [
  {
   "cell_type": "code",
   "execution_count": null,
   "id": "initial_id",
   "metadata": {
    "collapsed": true
   },
   "outputs": [],
   "source": [
    "from HelpFunctions.date_and_time import most_recent_thursday, split_time\n",
    "from DAX.HelpFunctions.get_dax_data import get_dax_data\n",
    "from datetime import timedelta\n",
    "from HelpFunctions.calc_score import evaluate_horizon\n",
    "from HelpFunctions.mix_models import mix_models\n",
    "import pandas as pd\n",
    "from DAX.Models.baseline import baseline\n",
    "import pickle\n",
    "import seaborn as sns\n",
    "import matplotlib.pyplot as plt\n",
    "# import importlib\n",
    "# importlib.reload(Energy.Models)"
   ]
  },
  {
   "cell_type": "code",
   "execution_count": null,
   "outputs": [],
   "source": [
    "df = get_dax_data()"
   ],
   "metadata": {
    "collapsed": false
   },
   "id": "4540cd020c8925b2"
  },
  {
   "cell_type": "code",
   "execution_count": null,
   "outputs": [],
   "source": [
    "# We have to start with the tuesday data\n",
    "start_date_excl = most_recent_thursday(df) - timedelta(days=1)\n",
    "df_cval = df.loc[df.index < start_date_excl]\n",
    "df_cval.index = df_cval.index.date"
   ],
   "metadata": {
    "collapsed": false
   },
   "id": "5a2d4f5c5f31fd76"
  },
  {
   "cell_type": "code",
   "execution_count": null,
   "outputs": [],
   "source": [
    "df_cval.tail()"
   ],
   "metadata": {
    "collapsed": false
   },
   "id": "c6b11a2aa69c0249"
  },
  {
   "cell_type": "code",
   "execution_count": null,
   "outputs": [],
   "source": [
    "def evaluate_models(models, df, last_x, years =False, months=False, weeks=False):\n",
    "    # Check that exactly one of the boolean parameters is True\n",
    "    if sum([years, months, weeks]) != 1:\n",
    "        raise ValueError(\"Exactly one of the boolean parameters (years, months, weeks) must be True.\")\n",
    "    \n",
    "    years = int(years)\n",
    "    months = int(months)\n",
    "    weeks = int(weeks)\n",
    "        \n",
    "    for m in models:\n",
    "        print(f'*********** Start the evaluation of Model {m[\"name\"]} ***********')\n",
    "        m['evaluation'] = evaluate_model(m, df, last_x, years, months, weeks)\n",
    "        \n",
    "def evaluate_model(model, df, last_x, years, months, weeks):\n",
    "    df_before = df\n",
    "    evaluation = pd.DataFrame()\n",
    "    \n",
    "    for w in range(last_x):\n",
    "        print(f'Iteration {w+1} of {last_x}')\n",
    "        df_before, df_after = split_time(df_before, num_years=years, num_months=months, num_weeks=weeks)\n",
    "        \n",
    "        pred = None\n",
    "        # Is mixed model?\n",
    "        if callable(model['function']):\n",
    "            pred = model['function'](df_before)\n",
    "        else: \n",
    "            pred = mix_models(model['function'][0], model['function'][1], df_before, target='DAX')\n",
    "        # Makes sure we try to find observations for dates that have an observation (e.g. 05-01 is missing)\n",
    "        dates = [[horizon+1, d] for horizon,d in enumerate(pred['forecast_date']) if d in df.index]\n",
    "        pred = pred.set_index('forecast_date')\n",
    "\n",
    "        \n",
    "        # Add observations to pred\n",
    "        pred['observation'] = ''\n",
    "        pred['score'] = ''\n",
    "        for h,d in dates:\n",
    "            # Look up the right observation for date d\n",
    "            o = df.loc[d][f'ret{h}']\n",
    "            pred.loc[d,'observation'] = o\n",
    "    \n",
    "        # Add scores to pred\n",
    "        for index, row in pred.iterrows():\n",
    "            quantile_preds = row[['q0.025','q0.25','q0.5','q0.75','q0.975']]\n",
    "            observation = row['observation']\n",
    "            \n",
    "            score = evaluate_horizon(quantile_preds, observation)\n",
    "            \n",
    "            pred.at[index, 'score'] = score\n",
    "            \n",
    "        evaluation = pd.concat([evaluation, pred])\n",
    "    evaluation = evaluation.sort_index()\n",
    "    \n",
    "    return evaluation"
   ],
   "metadata": {
    "collapsed": false
   },
   "id": "9ad542f046842a66"
  },
  {
   "cell_type": "code",
   "execution_count": null,
   "outputs": [],
   "source": [
    "from DAX.Models import arma_garch_11 as ag\n",
    "import importlib\n",
    "importlib.reload(ag)\n",
    "\n",
    "models = [\n",
    "    {\n",
    "        'name': 'garch11_norm_1y',\n",
    "        'function': ag.garch11_norm_1y\n",
    "    },\n",
    "    {\n",
    "        'name': 'garch11_norm_2y',\n",
    "        'function': ag.garch11_norm_2y\n",
    "    },\n",
    "    {\n",
    "        'name': 'garch11_norm_5y',\n",
    "        'function': ag.garch11_norm_5y\n",
    "    },\n",
    "]\n",
    "\n"
   ],
   "metadata": {
    "collapsed": false
   },
   "id": "13fbb2ee46633091"
  },
  {
   "cell_type": "code",
   "execution_count": null,
   "outputs": [],
   "source": [
    "evaluate_models(models, df, 50, weeks=True)"
   ],
   "metadata": {
    "collapsed": false
   },
   "id": "b92eb089f837ede7"
  },
  {
   "cell_type": "code",
   "execution_count": null,
   "outputs": [],
   "source": [
    "import numpy as np\n",
    "\n",
    "\n",
    "model_index = 2\n",
    "results_per_horizon = []\n",
    "\n",
    "models[model_index]['evaluation'] = models[model_index]['evaluation'].dropna()\n",
    "\n",
    "for h in [f'{h} day' for h in [1, 2, 5, 6, 7]]:\n",
    "    results_per_horizon.append(models[model_index]['evaluation'][models[model_index]['evaluation']['horizon'] == h])\n",
    "\n",
    "# results36h = models[0]['evaluation'][models[0]['evaluation']['horizon'] == '36 hour']\n",
    "\n",
    "\n",
    "\n",
    "# results = models[0]['evaluation']\n",
    "\n"
   ],
   "metadata": {
    "collapsed": false
   },
   "id": "8bb7e85e7c45b8b7"
  },
  {
   "cell_type": "markdown",
   "source": [
    "## Check Calibration manually"
   ],
   "metadata": {
    "collapsed": false
   },
   "id": "6e0f34a0f74acd94"
  },
  {
   "cell_type": "code",
   "execution_count": null,
   "outputs": [],
   "source": [],
   "metadata": {
    "collapsed": false
   },
   "id": "761f62ea46f36f0f"
  },
  {
   "cell_type": "markdown",
   "source": [
    "## Create PIT Histogram"
   ],
   "metadata": {
    "collapsed": false
   },
   "id": "9cddce9ad4e55eda"
  },
  {
   "cell_type": "code",
   "execution_count": null,
   "outputs": [],
   "source": [
    "# import matplotlib.pyplot as plt\n",
    "# import numpy as np\n",
    "# import string\n",
    "# import random\n",
    "# import scipy.stats as stats\n",
    "# \n",
    "# from scipy.stats import uniform\n",
    "# \n",
    "# for index, r in enumerate(results_per_horizon):\n",
    "#     print(r['observation'])\n",
    "#     obs = np.array(np.array(r['observation']),dtype=float)\n",
    "#     forecasts = np.array(np.array(r.loc[:,'q0.025':'q0.975']),dtype=float)\n",
    "# \n",
    "#     # Example quantile forecasts and observations\n",
    "#     quantile_forecasts = forecasts\n",
    "#     observations = obs\n",
    "#     \n",
    "#     # Calculate PIT values\n",
    "#     pit_values = np.zeros_like(quantile_forecasts)\n",
    "#     \n",
    "#     for i in range(quantile_forecasts.shape[1]):\n",
    "#         sorted_forecasts = np.sort(quantile_forecasts[:, i])\n",
    "#         ecdf_values = np.linspace(0, 1, len(sorted_forecasts))\n",
    "#         pit_values[:, i] = np.interp(\n",
    "#             quantile_forecasts[:, i], sorted_forecasts, ecdf_values)\n",
    "#     \n",
    "#     # Create PIT histogram\n",
    "#     fig, ax = plt.subplots()\n",
    "#     ax.hist(pit_values.flatten(), bins=20, density=True,\n",
    "#             alpha=0.75, color='blue', edgecolor='black')\n",
    "#     \n",
    "#     # Plot the uniform distribution for reference\n",
    "#     x = np.linspace(0, 1, 100)\n",
    "#     ax.plot(x, uniform.pdf(x), 'r-', lw=2, label='Uniform [0,1]')\n",
    "#     \n",
    "#     ax.set_title('Probability Integral Transform (PIT)')\n",
    "#     ax.set_xlabel('PIT Values')\n",
    "#     ax.set_ylabel('Density')\n",
    "#     ax.legend()\n",
    "#     \n",
    "#     \n",
    "#     plt.savefig(f'../plots/{index} {\"\".join(random.SystemRandom().choice(string.ascii_uppercase + string.digits) for _ in range(4))}.png')\n",
    "#     plt.show()"
   ],
   "metadata": {
    "collapsed": false
   },
   "id": "657ae091d4683924"
  },
  {
   "cell_type": "markdown",
   "source": [
    "## Check Manually"
   ],
   "metadata": {
    "collapsed": false
   },
   "id": "bdc4d0653525c5e8"
  },
  {
   "cell_type": "code",
   "execution_count": null,
   "outputs": [],
   "source": [
    "for model_index in range(len(models)):\n",
    "    results_per_horizon = []\n",
    "    \n",
    "    models[model_index]['evaluation'] = models[model_index]['evaluation'].dropna()\n",
    "    \n",
    "    for h in [f'{h} day' for h in [1, 2, 5, 6, 7]]:\n",
    "        results_per_horizon.append(models[model_index]['evaluation'][models[model_index]['evaluation']['horizon'] == h])\n",
    "\n",
    "\n",
    "\n",
    "    array = []\n",
    "    \n",
    "    for q in ['q0.025', 'q0.25', 'q0.5', 'q0.75', 'q0.975']:\n",
    "        # print(f'*** {q} ***')\n",
    "        # arr = models[5]['evaluation'][q] > models[5]['evaluation']['gesamt']\n",
    "        # print(arr.mean())\n",
    "        \n",
    "        per_quantile = []\n",
    "        \n",
    "        \n",
    "        for index, r in enumerate(results_per_horizon):\n",
    "            # r.loc[:, f'{q}larger'] = r[q] > r['gesamt']\n",
    "            mean = (r[q] > r['observation']).mean()\n",
    "            # print(r[f'{q}larger'].mean())\n",
    "            per_quantile.append(round(mean,3))\n",
    "        per_quantile.append(round((models[model_index]['evaluation'][q] > models[model_index]['evaluation']['observation']).mean(), 3))\n",
    "        \n",
    "        array.append(per_quantile)\n",
    "            \n",
    "    print(pd.DataFrame(array, columns=['1 day', '2 day', '5 day', '6 day', '7 day', 'All horizons'], index=['q0.025', 'q0.25', 'q0.5', 'q0.75', 'q0.975']))\n",
    "\n"
   ],
   "metadata": {
    "collapsed": false
   },
   "id": "20f4517a52167791"
  },
  {
   "cell_type": "code",
   "execution_count": null,
   "outputs": [],
   "source": [],
   "metadata": {
    "collapsed": false
   },
   "id": "eb0e24599d83ee2f"
  }
 ],
 "metadata": {
  "kernelspec": {
   "display_name": "Python 3",
   "language": "python",
   "name": "python3"
  },
  "language_info": {
   "codemirror_mode": {
    "name": "ipython",
    "version": 2
   },
   "file_extension": ".py",
   "mimetype": "text/x-python",
   "name": "python",
   "nbconvert_exporter": "python",
   "pygments_lexer": "ipython2",
   "version": "2.7.6"
  }
 },
 "nbformat": 4,
 "nbformat_minor": 5
}
