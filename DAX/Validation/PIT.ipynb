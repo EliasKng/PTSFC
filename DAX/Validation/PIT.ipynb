{
 "cells": [
  {
   "cell_type": "code",
   "execution_count": 7,
   "id": "initial_id",
   "metadata": {
    "collapsed": true,
    "ExecuteTime": {
     "end_time": "2023-12-30T15:17:58.375388Z",
     "start_time": "2023-12-30T15:17:58.173874Z"
    }
   },
   "outputs": [],
   "source": [
    "from HelpFunctions.date_and_time import most_recent_thursday, split_time\n",
    "from DAX.HelpFunctions.get_dax_data import get_dax_data\n",
    "from datetime import timedelta\n",
    "from HelpFunctions.calc_score import evaluate_horizon\n",
    "from HelpFunctions.mix_models import mix_models\n",
    "import pandas as pd\n",
    "from DAX.Models.baseline import baseline\n",
    "import pickle\n",
    "import seaborn as sns\n",
    "import matplotlib.pyplot as plt\n",
    "# import importlib\n",
    "# importlib.reload(Energy.Models)"
   ]
  },
  {
   "cell_type": "code",
   "execution_count": 8,
   "outputs": [],
   "source": [
    "df = get_dax_data()"
   ],
   "metadata": {
    "collapsed": false,
    "ExecuteTime": {
     "end_time": "2023-12-30T15:17:58.602219Z",
     "start_time": "2023-12-30T15:17:58.180461Z"
    }
   },
   "id": "4540cd020c8925b2"
  },
  {
   "cell_type": "code",
   "execution_count": 9,
   "outputs": [],
   "source": [
    "# We have to start with the tuesday data\n",
    "start_date_excl = most_recent_thursday(df) - timedelta(days=1)\n",
    "df_cval = df.loc[df.index < start_date_excl]\n",
    "df_cval.index = df_cval.index.date"
   ],
   "metadata": {
    "collapsed": false,
    "ExecuteTime": {
     "end_time": "2023-12-30T15:17:58.618604Z",
     "start_time": "2023-12-30T15:17:58.605773Z"
    }
   },
   "id": "5a2d4f5c5f31fd76"
  },
  {
   "cell_type": "code",
   "execution_count": 10,
   "outputs": [
    {
     "data": {
      "text/plain": "                   Close      ret1      ret2      ret3      ret4      ret5\n2023-12-18  16650.550781 -0.604090 -0.608812 -0.691276 -0.844382 -0.860397\n2023-12-19  16744.410156  0.562118 -0.041971 -0.046693 -0.129157 -0.282263\n2023-12-20  16733.050781 -0.067863  0.494256 -0.109834 -0.114556 -0.197020\n2023-12-21  16687.419922 -0.273071 -0.340934  0.221184 -0.382905 -0.387627\n2023-12-22  16706.179688  0.112355 -0.160716 -0.228579  0.333540 -0.270550",
      "text/html": "<div>\n<style scoped>\n    .dataframe tbody tr th:only-of-type {\n        vertical-align: middle;\n    }\n\n    .dataframe tbody tr th {\n        vertical-align: top;\n    }\n\n    .dataframe thead th {\n        text-align: right;\n    }\n</style>\n<table border=\"1\" class=\"dataframe\">\n  <thead>\n    <tr style=\"text-align: right;\">\n      <th></th>\n      <th>Close</th>\n      <th>ret1</th>\n      <th>ret2</th>\n      <th>ret3</th>\n      <th>ret4</th>\n      <th>ret5</th>\n    </tr>\n  </thead>\n  <tbody>\n    <tr>\n      <th>2023-12-18</th>\n      <td>16650.550781</td>\n      <td>-0.604090</td>\n      <td>-0.608812</td>\n      <td>-0.691276</td>\n      <td>-0.844382</td>\n      <td>-0.860397</td>\n    </tr>\n    <tr>\n      <th>2023-12-19</th>\n      <td>16744.410156</td>\n      <td>0.562118</td>\n      <td>-0.041971</td>\n      <td>-0.046693</td>\n      <td>-0.129157</td>\n      <td>-0.282263</td>\n    </tr>\n    <tr>\n      <th>2023-12-20</th>\n      <td>16733.050781</td>\n      <td>-0.067863</td>\n      <td>0.494256</td>\n      <td>-0.109834</td>\n      <td>-0.114556</td>\n      <td>-0.197020</td>\n    </tr>\n    <tr>\n      <th>2023-12-21</th>\n      <td>16687.419922</td>\n      <td>-0.273071</td>\n      <td>-0.340934</td>\n      <td>0.221184</td>\n      <td>-0.382905</td>\n      <td>-0.387627</td>\n    </tr>\n    <tr>\n      <th>2023-12-22</th>\n      <td>16706.179688</td>\n      <td>0.112355</td>\n      <td>-0.160716</td>\n      <td>-0.228579</td>\n      <td>0.333540</td>\n      <td>-0.270550</td>\n    </tr>\n  </tbody>\n</table>\n</div>"
     },
     "execution_count": 10,
     "metadata": {},
     "output_type": "execute_result"
    }
   ],
   "source": [
    "df_cval.tail()"
   ],
   "metadata": {
    "collapsed": false,
    "ExecuteTime": {
     "end_time": "2023-12-30T15:17:58.633875Z",
     "start_time": "2023-12-30T15:17:58.622372Z"
    }
   },
   "id": "c6b11a2aa69c0249"
  },
  {
   "cell_type": "code",
   "execution_count": 11,
   "outputs": [],
   "source": [
    "def evaluate_models(models, df, last_x, years =False, months=False, weeks=False):\n",
    "    # Check that exactly one of the boolean parameters is True\n",
    "    if sum([years, months, weeks]) != 1:\n",
    "        raise ValueError(\"Exactly one of the boolean parameters (years, months, weeks) must be True.\")\n",
    "    \n",
    "    years = int(years)\n",
    "    months = int(months)\n",
    "    weeks = int(weeks)\n",
    "        \n",
    "    for m in models:\n",
    "        print(f'*********** Start the evaluation of Model {m[\"name\"]} ***********')\n",
    "        m['evaluation'] = evaluate_model(m, df, last_x, years, months, weeks)\n",
    "        \n",
    "def evaluate_model(model, df, last_x, years, months, weeks):\n",
    "    df_before = df\n",
    "    evaluation = pd.DataFrame()\n",
    "    \n",
    "    for w in range(last_x):\n",
    "        print(f'Iteration {w+1} of {last_x}')\n",
    "        df_before, df_after = split_time(df_before, num_years=years, num_months=months, num_weeks=weeks)\n",
    "        \n",
    "        pred = None\n",
    "        # Is mixed model?\n",
    "        if callable(model['function']):\n",
    "            pred = model['function'](df_before)\n",
    "        else: \n",
    "            pred = mix_models(model['function'][0], model['function'][1], df_before, target='DAX')\n",
    "        # Makes sure we try to find observations for dates that have an observation (e.g. 05-01 is missing)\n",
    "        dates = [[horizon+1, d] for horizon,d in enumerate(pred['forecast_date']) if d in df.index]\n",
    "        pred = pred.set_index('forecast_date')\n",
    "\n",
    "        \n",
    "        # Add observations to pred\n",
    "        pred['observation'] = ''\n",
    "        pred['score'] = ''\n",
    "        for h,d in dates:\n",
    "            # Look up the right observation for date d\n",
    "            o = df.loc[d][f'ret{h}']\n",
    "            pred.loc[d,'observation'] = o\n",
    "    \n",
    "        # Add scores to pred\n",
    "        for index, row in pred.iterrows():\n",
    "            quantile_preds = row[['q0.025','q0.25','q0.5','q0.75','q0.975']]\n",
    "            observation = row['observation']\n",
    "            \n",
    "            score = evaluate_horizon(quantile_preds, observation)\n",
    "            \n",
    "            pred.at[index, 'score'] = score\n",
    "            \n",
    "        evaluation = pd.concat([evaluation, pred])\n",
    "    evaluation = evaluation.sort_index()\n",
    "    \n",
    "    return evaluation"
   ],
   "metadata": {
    "collapsed": false,
    "ExecuteTime": {
     "end_time": "2023-12-30T15:17:58.647482Z",
     "start_time": "2023-12-30T15:17:58.636668Z"
    }
   },
   "id": "9ad542f046842a66"
  },
  {
   "cell_type": "code",
   "execution_count": 40,
   "outputs": [],
   "source": [
    "from DAX.Models.arma_garch_11 import arma_garch_11\n",
    "from DAX.Models.garch11 import garch11, garch11_t\n",
    "from DAX.Models.baseline_100 import baseline_100\n",
    "from DAX.Models.baseline_300 import baseline_300\n",
    "\n",
    "models = [\n",
    "    # {\n",
    "    #     'name': 'baseline',\n",
    "    #     'function': baseline\n",
    "    # },\n",
    "    # {\n",
    "    #     'name': 'garch11_t',\n",
    "    #     'function': garch11_t\n",
    "    # },\n",
    "    {\n",
    "        'name': 'arma_garch_11',\n",
    "        'function': arma_garch_11\n",
    "    },\n",
    "    # {\n",
    "    #     'name': 'baseline_armagarch11',\n",
    "    #     'function': [[baseline, arma_garch_11],[0.5,0.5]]\n",
    "    #  },\n",
    "    # {\n",
    "    #     'name': 'baseline_300',\n",
    "    #     'function': baseline_300\n",
    "    #  },\n",
    "    # {\n",
    "    #     'name': 'baseline_100',\n",
    "    #     'function': baseline_100\n",
    "    #  },\n",
    "]\n"
   ],
   "metadata": {
    "collapsed": false,
    "ExecuteTime": {
     "end_time": "2023-12-30T15:45:41.112795Z",
     "start_time": "2023-12-30T15:45:41.107340Z"
    }
   },
   "id": "13fbb2ee46633091"
  },
  {
   "cell_type": "code",
   "execution_count": 41,
   "outputs": [
    {
     "name": "stdout",
     "output_type": "stream",
     "text": [
      "*********** Start the evaluation of Model arma_garch_11 ***********\n",
      "Iteration 1 of 150\n",
      "Iteration 2 of 150\n",
      "Iteration 3 of 150\n",
      "Iteration 4 of 150\n",
      "Iteration 5 of 150\n",
      "Iteration 6 of 150\n",
      "Iteration 7 of 150\n",
      "Iteration 8 of 150\n",
      "Iteration 9 of 150\n",
      "Iteration 10 of 150\n",
      "Iteration 11 of 150\n",
      "Iteration 12 of 150\n",
      "Iteration 13 of 150\n",
      "Iteration 14 of 150\n",
      "Iteration 15 of 150\n",
      "Iteration 16 of 150\n",
      "Iteration 17 of 150\n",
      "Iteration 18 of 150\n",
      "Iteration 19 of 150\n",
      "Iteration 20 of 150\n",
      "Iteration 21 of 150\n",
      "Iteration 22 of 150\n",
      "Iteration 23 of 150\n",
      "Iteration 24 of 150\n",
      "Iteration 25 of 150\n",
      "Iteration 26 of 150\n",
      "Iteration 27 of 150\n",
      "Iteration 28 of 150\n",
      "Iteration 29 of 150\n",
      "Iteration 30 of 150\n",
      "Iteration 31 of 150\n",
      "Iteration 32 of 150\n",
      "Iteration 33 of 150\n",
      "Iteration 34 of 150\n",
      "Iteration 35 of 150\n",
      "Iteration 36 of 150\n",
      "Iteration 37 of 150\n",
      "Iteration 38 of 150\n",
      "Iteration 39 of 150\n",
      "Iteration 40 of 150\n",
      "Iteration 41 of 150\n",
      "Iteration 42 of 150\n",
      "Iteration 43 of 150\n",
      "Iteration 44 of 150\n",
      "Iteration 45 of 150\n",
      "Iteration 46 of 150\n",
      "Iteration 47 of 150\n",
      "Iteration 48 of 150\n",
      "Iteration 49 of 150\n",
      "Iteration 50 of 150\n",
      "Iteration 51 of 150\n",
      "Iteration 52 of 150\n",
      "Iteration 53 of 150\n",
      "Iteration 54 of 150\n",
      "Iteration 55 of 150\n",
      "Iteration 56 of 150\n",
      "Iteration 57 of 150\n",
      "Iteration 58 of 150\n",
      "Iteration 59 of 150\n",
      "Iteration 60 of 150\n",
      "Iteration 61 of 150\n",
      "Iteration 62 of 150\n",
      "Iteration 63 of 150\n",
      "Iteration 64 of 150\n",
      "Iteration 65 of 150\n",
      "Iteration 66 of 150\n",
      "Iteration 67 of 150\n",
      "Iteration 68 of 150\n",
      "Iteration 69 of 150\n",
      "Iteration 70 of 150\n",
      "Iteration 71 of 150\n",
      "Iteration 72 of 150\n",
      "Iteration 73 of 150\n",
      "Iteration 74 of 150\n",
      "Iteration 75 of 150\n",
      "Iteration 76 of 150\n",
      "Iteration 77 of 150\n",
      "Iteration 78 of 150\n",
      "Iteration 79 of 150\n",
      "Iteration 80 of 150\n",
      "Iteration 81 of 150\n",
      "Iteration 82 of 150\n",
      "Iteration 83 of 150\n",
      "Iteration 84 of 150\n",
      "Iteration 85 of 150\n",
      "Iteration 86 of 150\n",
      "Iteration 87 of 150\n",
      "Iteration 88 of 150\n",
      "Iteration 89 of 150\n",
      "Iteration 90 of 150\n",
      "Iteration 91 of 150\n",
      "Iteration 92 of 150\n",
      "Iteration 93 of 150\n",
      "Iteration 94 of 150\n",
      "Iteration 95 of 150\n",
      "Iteration 96 of 150\n",
      "Iteration 97 of 150\n",
      "Iteration 98 of 150\n",
      "Iteration 99 of 150\n",
      "Iteration 100 of 150\n",
      "Iteration 101 of 150\n",
      "Iteration 102 of 150\n",
      "Iteration 103 of 150\n",
      "Iteration 104 of 150\n",
      "Iteration 105 of 150\n",
      "Iteration 106 of 150\n",
      "Iteration 107 of 150\n",
      "Iteration 108 of 150\n",
      "Iteration 109 of 150\n",
      "Iteration 110 of 150\n",
      "Iteration 111 of 150\n",
      "Iteration 112 of 150\n",
      "Iteration 113 of 150\n",
      "Iteration 114 of 150\n",
      "Iteration 115 of 150\n",
      "Iteration 116 of 150\n",
      "Iteration 117 of 150\n",
      "Iteration 118 of 150\n",
      "Iteration 119 of 150\n",
      "Iteration 120 of 150\n",
      "Iteration 121 of 150\n",
      "Iteration 122 of 150\n",
      "Iteration 123 of 150\n",
      "Iteration 124 of 150\n",
      "Iteration 125 of 150\n",
      "Iteration 126 of 150\n",
      "Iteration 127 of 150\n",
      "Iteration 128 of 150\n",
      "Iteration 129 of 150\n",
      "Iteration 130 of 150\n",
      "Iteration 131 of 150\n",
      "Iteration 132 of 150\n",
      "Iteration 133 of 150\n",
      "Iteration 134 of 150\n",
      "Iteration 135 of 150\n",
      "Iteration 136 of 150\n",
      "Iteration 137 of 150\n",
      "Iteration 138 of 150\n",
      "Iteration 139 of 150\n",
      "Iteration 140 of 150\n",
      "Iteration 141 of 150\n",
      "Iteration 142 of 150\n",
      "Iteration 143 of 150\n",
      "Iteration 144 of 150\n",
      "Iteration 145 of 150\n",
      "Iteration 146 of 150\n",
      "Iteration 147 of 150\n",
      "Iteration 148 of 150\n",
      "Iteration 149 of 150\n",
      "Iteration 150 of 150\n"
     ]
    }
   ],
   "source": [
    "evaluate_models(models, df, 150, weeks=True)"
   ],
   "metadata": {
    "collapsed": false,
    "ExecuteTime": {
     "end_time": "2023-12-30T15:58:42.265177Z",
     "start_time": "2023-12-30T15:45:43.148417Z"
    }
   },
   "id": "b92eb089f837ede7"
  },
  {
   "cell_type": "code",
   "execution_count": 42,
   "outputs": [],
   "source": [
    "import numpy as np\n",
    "\n",
    "\n",
    "model_index = 0\n",
    "results = []\n",
    "\n",
    "models[0]['evaluation'] = models[0]['evaluation'].dropna()\n",
    "\n",
    "for h in [f'{h} day' for h in [1, 2, 5, 6, 7]]:\n",
    "    results.append(models[model_index]['evaluation'][models[model_index]['evaluation']['horizon'] == h])\n",
    "\n",
    "# results36h = models[0]['evaluation'][models[0]['evaluation']['horizon'] == '36 hour']\n",
    "\n",
    "\n",
    "\n",
    "# results = models[0]['evaluation']\n",
    "\n"
   ],
   "metadata": {
    "collapsed": false,
    "ExecuteTime": {
     "end_time": "2023-12-30T15:58:50.219410Z",
     "start_time": "2023-12-30T15:58:50.209688Z"
    }
   },
   "id": "8bb7e85e7c45b8b7"
  },
  {
   "cell_type": "markdown",
   "source": [
    "## Create PIT Histogram"
   ],
   "metadata": {
    "collapsed": false
   },
   "id": "9cddce9ad4e55eda"
  },
  {
   "cell_type": "code",
   "execution_count": 43,
   "outputs": [
    {
     "ename": "FileNotFoundError",
     "evalue": "[Errno 2] No such file or directory: 'plots/0 PP5C.png'",
     "output_type": "error",
     "traceback": [
      "\u001B[0;31m---------------------------------------------------------------------------\u001B[0m",
      "\u001B[0;31mFileNotFoundError\u001B[0m                         Traceback (most recent call last)",
      "Cell \u001B[0;32mIn[43], line 41\u001B[0m\n\u001B[1;32m     37\u001B[0m ax\u001B[38;5;241m.\u001B[39mset_ylabel(\u001B[38;5;124m'\u001B[39m\u001B[38;5;124mDensity\u001B[39m\u001B[38;5;124m'\u001B[39m)\n\u001B[1;32m     38\u001B[0m ax\u001B[38;5;241m.\u001B[39mlegend()\n\u001B[0;32m---> 41\u001B[0m \u001B[43mplt\u001B[49m\u001B[38;5;241;43m.\u001B[39;49m\u001B[43msavefig\u001B[49m\u001B[43m(\u001B[49m\u001B[38;5;124;43mf\u001B[39;49m\u001B[38;5;124;43m'\u001B[39;49m\u001B[38;5;124;43mplots/\u001B[39;49m\u001B[38;5;132;43;01m{\u001B[39;49;00m\u001B[43mindex\u001B[49m\u001B[38;5;132;43;01m}\u001B[39;49;00m\u001B[38;5;124;43m \u001B[39;49m\u001B[38;5;132;43;01m{\u001B[39;49;00m\u001B[38;5;124;43m\"\u001B[39;49m\u001B[38;5;124;43m\"\u001B[39;49m\u001B[38;5;241;43m.\u001B[39;49m\u001B[43mjoin\u001B[49m\u001B[43m(\u001B[49m\u001B[43mrandom\u001B[49m\u001B[38;5;241;43m.\u001B[39;49m\u001B[43mSystemRandom\u001B[49m\u001B[43m(\u001B[49m\u001B[43m)\u001B[49m\u001B[38;5;241;43m.\u001B[39;49m\u001B[43mchoice\u001B[49m\u001B[43m(\u001B[49m\u001B[43mstring\u001B[49m\u001B[38;5;241;43m.\u001B[39;49m\u001B[43mascii_uppercase\u001B[49m\u001B[38;5;250;43m \u001B[39;49m\u001B[38;5;241;43m+\u001B[39;49m\u001B[38;5;250;43m \u001B[39;49m\u001B[43mstring\u001B[49m\u001B[38;5;241;43m.\u001B[39;49m\u001B[43mdigits\u001B[49m\u001B[43m)\u001B[49m\u001B[38;5;250;43m \u001B[39;49m\u001B[38;5;28;43;01mfor\u001B[39;49;00m\u001B[38;5;250;43m \u001B[39;49m\u001B[43m_\u001B[49m\u001B[38;5;250;43m \u001B[39;49m\u001B[38;5;129;43;01min\u001B[39;49;00m\u001B[38;5;250;43m \u001B[39;49m\u001B[38;5;28;43mrange\u001B[39;49m\u001B[43m(\u001B[49m\u001B[38;5;241;43m4\u001B[39;49m\u001B[43m)\u001B[49m\u001B[43m)\u001B[49m\u001B[38;5;132;43;01m}\u001B[39;49;00m\u001B[38;5;124;43m.png\u001B[39;49m\u001B[38;5;124;43m'\u001B[39;49m\u001B[43m)\u001B[49m\n\u001B[1;32m     42\u001B[0m plt\u001B[38;5;241m.\u001B[39mshow()\n",
      "File \u001B[0;32m~/Desktop/PTSFC/venv/lib/python3.9/site-packages/matplotlib/pyplot.py:1119\u001B[0m, in \u001B[0;36msavefig\u001B[0;34m(*args, **kwargs)\u001B[0m\n\u001B[1;32m   1116\u001B[0m fig \u001B[38;5;241m=\u001B[39m gcf()\n\u001B[1;32m   1117\u001B[0m \u001B[38;5;66;03m# savefig default implementation has no return, so mypy is unhappy\u001B[39;00m\n\u001B[1;32m   1118\u001B[0m \u001B[38;5;66;03m# presumably this is here because subclasses can return?\u001B[39;00m\n\u001B[0;32m-> 1119\u001B[0m res \u001B[38;5;241m=\u001B[39m \u001B[43mfig\u001B[49m\u001B[38;5;241;43m.\u001B[39;49m\u001B[43msavefig\u001B[49m\u001B[43m(\u001B[49m\u001B[38;5;241;43m*\u001B[39;49m\u001B[43margs\u001B[49m\u001B[43m,\u001B[49m\u001B[43m \u001B[49m\u001B[38;5;241;43m*\u001B[39;49m\u001B[38;5;241;43m*\u001B[39;49m\u001B[43mkwargs\u001B[49m\u001B[43m)\u001B[49m  \u001B[38;5;66;03m# type: ignore[func-returns-value]\u001B[39;00m\n\u001B[1;32m   1120\u001B[0m fig\u001B[38;5;241m.\u001B[39mcanvas\u001B[38;5;241m.\u001B[39mdraw_idle()  \u001B[38;5;66;03m# Need this if 'transparent=True', to reset colors.\u001B[39;00m\n\u001B[1;32m   1121\u001B[0m \u001B[38;5;28;01mreturn\u001B[39;00m res\n",
      "File \u001B[0;32m~/Desktop/PTSFC/venv/lib/python3.9/site-packages/matplotlib/figure.py:3390\u001B[0m, in \u001B[0;36mFigure.savefig\u001B[0;34m(self, fname, transparent, **kwargs)\u001B[0m\n\u001B[1;32m   3388\u001B[0m     \u001B[38;5;28;01mfor\u001B[39;00m ax \u001B[38;5;129;01min\u001B[39;00m \u001B[38;5;28mself\u001B[39m\u001B[38;5;241m.\u001B[39maxes:\n\u001B[1;32m   3389\u001B[0m         _recursively_make_axes_transparent(stack, ax)\n\u001B[0;32m-> 3390\u001B[0m \u001B[38;5;28;43mself\u001B[39;49m\u001B[38;5;241;43m.\u001B[39;49m\u001B[43mcanvas\u001B[49m\u001B[38;5;241;43m.\u001B[39;49m\u001B[43mprint_figure\u001B[49m\u001B[43m(\u001B[49m\u001B[43mfname\u001B[49m\u001B[43m,\u001B[49m\u001B[43m \u001B[49m\u001B[38;5;241;43m*\u001B[39;49m\u001B[38;5;241;43m*\u001B[39;49m\u001B[43mkwargs\u001B[49m\u001B[43m)\u001B[49m\n",
      "File \u001B[0;32m~/Desktop/PTSFC/venv/lib/python3.9/site-packages/matplotlib/backend_bases.py:2193\u001B[0m, in \u001B[0;36mFigureCanvasBase.print_figure\u001B[0;34m(self, filename, dpi, facecolor, edgecolor, orientation, format, bbox_inches, pad_inches, bbox_extra_artists, backend, **kwargs)\u001B[0m\n\u001B[1;32m   2189\u001B[0m \u001B[38;5;28;01mtry\u001B[39;00m:\n\u001B[1;32m   2190\u001B[0m     \u001B[38;5;66;03m# _get_renderer may change the figure dpi (as vector formats\u001B[39;00m\n\u001B[1;32m   2191\u001B[0m     \u001B[38;5;66;03m# force the figure dpi to 72), so we need to set it again here.\u001B[39;00m\n\u001B[1;32m   2192\u001B[0m     \u001B[38;5;28;01mwith\u001B[39;00m cbook\u001B[38;5;241m.\u001B[39m_setattr_cm(\u001B[38;5;28mself\u001B[39m\u001B[38;5;241m.\u001B[39mfigure, dpi\u001B[38;5;241m=\u001B[39mdpi):\n\u001B[0;32m-> 2193\u001B[0m         result \u001B[38;5;241m=\u001B[39m \u001B[43mprint_method\u001B[49m\u001B[43m(\u001B[49m\n\u001B[1;32m   2194\u001B[0m \u001B[43m            \u001B[49m\u001B[43mfilename\u001B[49m\u001B[43m,\u001B[49m\n\u001B[1;32m   2195\u001B[0m \u001B[43m            \u001B[49m\u001B[43mfacecolor\u001B[49m\u001B[38;5;241;43m=\u001B[39;49m\u001B[43mfacecolor\u001B[49m\u001B[43m,\u001B[49m\n\u001B[1;32m   2196\u001B[0m \u001B[43m            \u001B[49m\u001B[43medgecolor\u001B[49m\u001B[38;5;241;43m=\u001B[39;49m\u001B[43medgecolor\u001B[49m\u001B[43m,\u001B[49m\n\u001B[1;32m   2197\u001B[0m \u001B[43m            \u001B[49m\u001B[43morientation\u001B[49m\u001B[38;5;241;43m=\u001B[39;49m\u001B[43morientation\u001B[49m\u001B[43m,\u001B[49m\n\u001B[1;32m   2198\u001B[0m \u001B[43m            \u001B[49m\u001B[43mbbox_inches_restore\u001B[49m\u001B[38;5;241;43m=\u001B[39;49m\u001B[43m_bbox_inches_restore\u001B[49m\u001B[43m,\u001B[49m\n\u001B[1;32m   2199\u001B[0m \u001B[43m            \u001B[49m\u001B[38;5;241;43m*\u001B[39;49m\u001B[38;5;241;43m*\u001B[39;49m\u001B[43mkwargs\u001B[49m\u001B[43m)\u001B[49m\n\u001B[1;32m   2200\u001B[0m \u001B[38;5;28;01mfinally\u001B[39;00m:\n\u001B[1;32m   2201\u001B[0m     \u001B[38;5;28;01mif\u001B[39;00m bbox_inches \u001B[38;5;129;01mand\u001B[39;00m restore_bbox:\n",
      "File \u001B[0;32m~/Desktop/PTSFC/venv/lib/python3.9/site-packages/matplotlib/backend_bases.py:2043\u001B[0m, in \u001B[0;36mFigureCanvasBase._switch_canvas_and_return_print_method.<locals>.<lambda>\u001B[0;34m(*args, **kwargs)\u001B[0m\n\u001B[1;32m   2039\u001B[0m     optional_kws \u001B[38;5;241m=\u001B[39m {  \u001B[38;5;66;03m# Passed by print_figure for other renderers.\u001B[39;00m\n\u001B[1;32m   2040\u001B[0m         \u001B[38;5;124m\"\u001B[39m\u001B[38;5;124mdpi\u001B[39m\u001B[38;5;124m\"\u001B[39m, \u001B[38;5;124m\"\u001B[39m\u001B[38;5;124mfacecolor\u001B[39m\u001B[38;5;124m\"\u001B[39m, \u001B[38;5;124m\"\u001B[39m\u001B[38;5;124medgecolor\u001B[39m\u001B[38;5;124m\"\u001B[39m, \u001B[38;5;124m\"\u001B[39m\u001B[38;5;124morientation\u001B[39m\u001B[38;5;124m\"\u001B[39m,\n\u001B[1;32m   2041\u001B[0m         \u001B[38;5;124m\"\u001B[39m\u001B[38;5;124mbbox_inches_restore\u001B[39m\u001B[38;5;124m\"\u001B[39m}\n\u001B[1;32m   2042\u001B[0m     skip \u001B[38;5;241m=\u001B[39m optional_kws \u001B[38;5;241m-\u001B[39m {\u001B[38;5;241m*\u001B[39minspect\u001B[38;5;241m.\u001B[39msignature(meth)\u001B[38;5;241m.\u001B[39mparameters}\n\u001B[0;32m-> 2043\u001B[0m     print_method \u001B[38;5;241m=\u001B[39m functools\u001B[38;5;241m.\u001B[39mwraps(meth)(\u001B[38;5;28;01mlambda\u001B[39;00m \u001B[38;5;241m*\u001B[39margs, \u001B[38;5;241m*\u001B[39m\u001B[38;5;241m*\u001B[39mkwargs: \u001B[43mmeth\u001B[49m\u001B[43m(\u001B[49m\n\u001B[1;32m   2044\u001B[0m \u001B[43m        \u001B[49m\u001B[38;5;241;43m*\u001B[39;49m\u001B[43margs\u001B[49m\u001B[43m,\u001B[49m\u001B[43m \u001B[49m\u001B[38;5;241;43m*\u001B[39;49m\u001B[38;5;241;43m*\u001B[39;49m\u001B[43m{\u001B[49m\u001B[43mk\u001B[49m\u001B[43m:\u001B[49m\u001B[43m \u001B[49m\u001B[43mv\u001B[49m\u001B[43m \u001B[49m\u001B[38;5;28;43;01mfor\u001B[39;49;00m\u001B[43m \u001B[49m\u001B[43mk\u001B[49m\u001B[43m,\u001B[49m\u001B[43m \u001B[49m\u001B[43mv\u001B[49m\u001B[43m \u001B[49m\u001B[38;5;129;43;01min\u001B[39;49;00m\u001B[43m \u001B[49m\u001B[43mkwargs\u001B[49m\u001B[38;5;241;43m.\u001B[39;49m\u001B[43mitems\u001B[49m\u001B[43m(\u001B[49m\u001B[43m)\u001B[49m\u001B[43m \u001B[49m\u001B[38;5;28;43;01mif\u001B[39;49;00m\u001B[43m \u001B[49m\u001B[43mk\u001B[49m\u001B[43m \u001B[49m\u001B[38;5;129;43;01mnot\u001B[39;49;00m\u001B[43m \u001B[49m\u001B[38;5;129;43;01min\u001B[39;49;00m\u001B[43m \u001B[49m\u001B[43mskip\u001B[49m\u001B[43m}\u001B[49m\u001B[43m)\u001B[49m)\n\u001B[1;32m   2045\u001B[0m \u001B[38;5;28;01melse\u001B[39;00m:  \u001B[38;5;66;03m# Let third-parties do as they see fit.\u001B[39;00m\n\u001B[1;32m   2046\u001B[0m     print_method \u001B[38;5;241m=\u001B[39m meth\n",
      "File \u001B[0;32m~/Desktop/PTSFC/venv/lib/python3.9/site-packages/matplotlib/backends/backend_agg.py:497\u001B[0m, in \u001B[0;36mFigureCanvasAgg.print_png\u001B[0;34m(self, filename_or_obj, metadata, pil_kwargs)\u001B[0m\n\u001B[1;32m    450\u001B[0m \u001B[38;5;28;01mdef\u001B[39;00m \u001B[38;5;21mprint_png\u001B[39m(\u001B[38;5;28mself\u001B[39m, filename_or_obj, \u001B[38;5;241m*\u001B[39m, metadata\u001B[38;5;241m=\u001B[39m\u001B[38;5;28;01mNone\u001B[39;00m, pil_kwargs\u001B[38;5;241m=\u001B[39m\u001B[38;5;28;01mNone\u001B[39;00m):\n\u001B[1;32m    451\u001B[0m \u001B[38;5;250m    \u001B[39m\u001B[38;5;124;03m\"\"\"\u001B[39;00m\n\u001B[1;32m    452\u001B[0m \u001B[38;5;124;03m    Write the figure to a PNG file.\u001B[39;00m\n\u001B[1;32m    453\u001B[0m \n\u001B[0;32m   (...)\u001B[0m\n\u001B[1;32m    495\u001B[0m \u001B[38;5;124;03m        *metadata*, including the default 'Software' key.\u001B[39;00m\n\u001B[1;32m    496\u001B[0m \u001B[38;5;124;03m    \"\"\"\u001B[39;00m\n\u001B[0;32m--> 497\u001B[0m     \u001B[38;5;28;43mself\u001B[39;49m\u001B[38;5;241;43m.\u001B[39;49m\u001B[43m_print_pil\u001B[49m\u001B[43m(\u001B[49m\u001B[43mfilename_or_obj\u001B[49m\u001B[43m,\u001B[49m\u001B[43m \u001B[49m\u001B[38;5;124;43m\"\u001B[39;49m\u001B[38;5;124;43mpng\u001B[39;49m\u001B[38;5;124;43m\"\u001B[39;49m\u001B[43m,\u001B[49m\u001B[43m \u001B[49m\u001B[43mpil_kwargs\u001B[49m\u001B[43m,\u001B[49m\u001B[43m \u001B[49m\u001B[43mmetadata\u001B[49m\u001B[43m)\u001B[49m\n",
      "File \u001B[0;32m~/Desktop/PTSFC/venv/lib/python3.9/site-packages/matplotlib/backends/backend_agg.py:446\u001B[0m, in \u001B[0;36mFigureCanvasAgg._print_pil\u001B[0;34m(self, filename_or_obj, fmt, pil_kwargs, metadata)\u001B[0m\n\u001B[1;32m    441\u001B[0m \u001B[38;5;250m\u001B[39m\u001B[38;5;124;03m\"\"\"\u001B[39;00m\n\u001B[1;32m    442\u001B[0m \u001B[38;5;124;03mDraw the canvas, then save it using `.image.imsave` (to which\u001B[39;00m\n\u001B[1;32m    443\u001B[0m \u001B[38;5;124;03m*pil_kwargs* and *metadata* are forwarded).\u001B[39;00m\n\u001B[1;32m    444\u001B[0m \u001B[38;5;124;03m\"\"\"\u001B[39;00m\n\u001B[1;32m    445\u001B[0m FigureCanvasAgg\u001B[38;5;241m.\u001B[39mdraw(\u001B[38;5;28mself\u001B[39m)\n\u001B[0;32m--> 446\u001B[0m \u001B[43mmpl\u001B[49m\u001B[38;5;241;43m.\u001B[39;49m\u001B[43mimage\u001B[49m\u001B[38;5;241;43m.\u001B[39;49m\u001B[43mimsave\u001B[49m\u001B[43m(\u001B[49m\n\u001B[1;32m    447\u001B[0m \u001B[43m    \u001B[49m\u001B[43mfilename_or_obj\u001B[49m\u001B[43m,\u001B[49m\u001B[43m \u001B[49m\u001B[38;5;28;43mself\u001B[39;49m\u001B[38;5;241;43m.\u001B[39;49m\u001B[43mbuffer_rgba\u001B[49m\u001B[43m(\u001B[49m\u001B[43m)\u001B[49m\u001B[43m,\u001B[49m\u001B[43m \u001B[49m\u001B[38;5;28;43mformat\u001B[39;49m\u001B[38;5;241;43m=\u001B[39;49m\u001B[43mfmt\u001B[49m\u001B[43m,\u001B[49m\u001B[43m \u001B[49m\u001B[43morigin\u001B[49m\u001B[38;5;241;43m=\u001B[39;49m\u001B[38;5;124;43m\"\u001B[39;49m\u001B[38;5;124;43mupper\u001B[39;49m\u001B[38;5;124;43m\"\u001B[39;49m\u001B[43m,\u001B[49m\n\u001B[1;32m    448\u001B[0m \u001B[43m    \u001B[49m\u001B[43mdpi\u001B[49m\u001B[38;5;241;43m=\u001B[39;49m\u001B[38;5;28;43mself\u001B[39;49m\u001B[38;5;241;43m.\u001B[39;49m\u001B[43mfigure\u001B[49m\u001B[38;5;241;43m.\u001B[39;49m\u001B[43mdpi\u001B[49m\u001B[43m,\u001B[49m\u001B[43m \u001B[49m\u001B[43mmetadata\u001B[49m\u001B[38;5;241;43m=\u001B[39;49m\u001B[43mmetadata\u001B[49m\u001B[43m,\u001B[49m\u001B[43m \u001B[49m\u001B[43mpil_kwargs\u001B[49m\u001B[38;5;241;43m=\u001B[39;49m\u001B[43mpil_kwargs\u001B[49m\u001B[43m)\u001B[49m\n",
      "File \u001B[0;32m~/Desktop/PTSFC/venv/lib/python3.9/site-packages/matplotlib/image.py:1656\u001B[0m, in \u001B[0;36mimsave\u001B[0;34m(fname, arr, vmin, vmax, cmap, format, origin, dpi, metadata, pil_kwargs)\u001B[0m\n\u001B[1;32m   1654\u001B[0m pil_kwargs\u001B[38;5;241m.\u001B[39msetdefault(\u001B[38;5;124m\"\u001B[39m\u001B[38;5;124mformat\u001B[39m\u001B[38;5;124m\"\u001B[39m, \u001B[38;5;28mformat\u001B[39m)\n\u001B[1;32m   1655\u001B[0m pil_kwargs\u001B[38;5;241m.\u001B[39msetdefault(\u001B[38;5;124m\"\u001B[39m\u001B[38;5;124mdpi\u001B[39m\u001B[38;5;124m\"\u001B[39m, (dpi, dpi))\n\u001B[0;32m-> 1656\u001B[0m \u001B[43mimage\u001B[49m\u001B[38;5;241;43m.\u001B[39;49m\u001B[43msave\u001B[49m\u001B[43m(\u001B[49m\u001B[43mfname\u001B[49m\u001B[43m,\u001B[49m\u001B[43m \u001B[49m\u001B[38;5;241;43m*\u001B[39;49m\u001B[38;5;241;43m*\u001B[39;49m\u001B[43mpil_kwargs\u001B[49m\u001B[43m)\u001B[49m\n",
      "File \u001B[0;32m~/Desktop/PTSFC/venv/lib/python3.9/site-packages/PIL/Image.py:2435\u001B[0m, in \u001B[0;36mImage.save\u001B[0;34m(self, fp, format, **params)\u001B[0m\n\u001B[1;32m   2433\u001B[0m         fp \u001B[38;5;241m=\u001B[39m builtins\u001B[38;5;241m.\u001B[39mopen(filename, \u001B[38;5;124m\"\u001B[39m\u001B[38;5;124mr+b\u001B[39m\u001B[38;5;124m\"\u001B[39m)\n\u001B[1;32m   2434\u001B[0m     \u001B[38;5;28;01melse\u001B[39;00m:\n\u001B[0;32m-> 2435\u001B[0m         fp \u001B[38;5;241m=\u001B[39m \u001B[43mbuiltins\u001B[49m\u001B[38;5;241;43m.\u001B[39;49m\u001B[43mopen\u001B[49m\u001B[43m(\u001B[49m\u001B[43mfilename\u001B[49m\u001B[43m,\u001B[49m\u001B[43m \u001B[49m\u001B[38;5;124;43m\"\u001B[39;49m\u001B[38;5;124;43mw+b\u001B[39;49m\u001B[38;5;124;43m\"\u001B[39;49m\u001B[43m)\u001B[49m\n\u001B[1;32m   2437\u001B[0m \u001B[38;5;28;01mtry\u001B[39;00m:\n\u001B[1;32m   2438\u001B[0m     save_handler(\u001B[38;5;28mself\u001B[39m, fp, filename)\n",
      "\u001B[0;31mFileNotFoundError\u001B[0m: [Errno 2] No such file or directory: 'plots/0 PP5C.png'"
     ]
    },
    {
     "data": {
      "text/plain": "<Figure size 640x480 with 1 Axes>",
      "image/png": "[encoded data removed]"
     },
     "metadata": {},
     "output_type": "display_data"
    }
   ],
   "source": [
    "import matplotlib.pyplot as plt\n",
    "import numpy as np\n",
    "import string\n",
    "import random\n",
    "import scipy.stats as stats\n",
    "\n",
    "from scipy.stats import uniform\n",
    "\n",
    "for index, r in enumerate(results):\n",
    "    obs = np.array(np.array(r['observation']),dtype=float)\n",
    "    forecasts = np.array(np.array(r.loc[:,'q0.025':'q0.975']),dtype=float)\n",
    "\n",
    "    # Example quantile forecasts and observations\n",
    "    quantile_forecasts = forecasts\n",
    "    observations = obs\n",
    "    \n",
    "    # Calculate PIT values\n",
    "    pit_values = np.zeros_like(quantile_forecasts)\n",
    "    \n",
    "    for i in range(quantile_forecasts.shape[1]):\n",
    "        sorted_forecasts = np.sort(quantile_forecasts[:, i])\n",
    "        ecdf_values = np.linspace(0, 1, len(sorted_forecasts))\n",
    "        pit_values[:, i] = np.interp(\n",
    "            quantile_forecasts[:, i], sorted_forecasts, ecdf_values)\n",
    "    \n",
    "    # Create PIT histogram\n",
    "    fig, ax = plt.subplots()\n",
    "    ax.hist(pit_values.flatten(), bins=20, density=True,\n",
    "            alpha=0.75, color='blue', edgecolor='black')\n",
    "    \n",
    "    # Plot the uniform distribution for reference\n",
    "    x = np.linspace(0, 1, 100)\n",
    "    ax.plot(x, uniform.pdf(x), 'r-', lw=2, label='Uniform [0,1]')\n",
    "    \n",
    "    ax.set_title('Probability Integral Transform (PIT)')\n",
    "    ax.set_xlabel('PIT Values')\n",
    "    ax.set_ylabel('Density')\n",
    "    ax.legend()\n",
    "    \n",
    "    \n",
    "    plt.savefig(f'../plots/{index} {\"\".join(random.SystemRandom().choice(string.ascii_uppercase + string.digits) for _ in range(4))}.png')\n",
    "    plt.show()"
   ],
   "metadata": {
    "collapsed": false,
    "ExecuteTime": {
     "end_time": "2023-12-30T15:58:52.377176Z",
     "start_time": "2023-12-30T15:58:52.178199Z"
    }
   },
   "id": "657ae091d4683924"
  },
  {
   "cell_type": "markdown",
   "source": [
    "## Check Manually"
   ],
   "metadata": {
    "collapsed": false
   },
   "id": "bdc4d0653525c5e8"
  },
  {
   "cell_type": "code",
   "execution_count": 44,
   "outputs": [
    {
     "data": {
      "text/plain": "        1 day  2 day  5 day  6 day  7 day  All horizons\nq0.025  0.007  0.035  0.007  0.007  0.013         0.014\nq0.25   0.203  0.215  0.227  0.200  0.227         0.214\nq0.5    0.531  0.535  0.567  0.553  0.547         0.547\nq0.75   0.895  0.833  0.813  0.807  0.820         0.833\nq0.975  1.000  1.000  1.000  1.000  0.993         0.999",
      "text/html": "<div>\n<style scoped>\n    .dataframe tbody tr th:only-of-type {\n        vertical-align: middle;\n    }\n\n    .dataframe tbody tr th {\n        vertical-align: top;\n    }\n\n    .dataframe thead th {\n        text-align: right;\n    }\n</style>\n<table border=\"1\" class=\"dataframe\">\n  <thead>\n    <tr style=\"text-align: right;\">\n      <th></th>\n      <th>1 day</th>\n      <th>2 day</th>\n      <th>5 day</th>\n      <th>6 day</th>\n      <th>7 day</th>\n      <th>All horizons</th>\n    </tr>\n  </thead>\n  <tbody>\n    <tr>\n      <th>q0.025</th>\n      <td>0.007</td>\n      <td>0.035</td>\n      <td>0.007</td>\n      <td>0.007</td>\n      <td>0.013</td>\n      <td>0.014</td>\n    </tr>\n    <tr>\n      <th>q0.25</th>\n      <td>0.203</td>\n      <td>0.215</td>\n      <td>0.227</td>\n      <td>0.200</td>\n      <td>0.227</td>\n      <td>0.214</td>\n    </tr>\n    <tr>\n      <th>q0.5</th>\n      <td>0.531</td>\n      <td>0.535</td>\n      <td>0.567</td>\n      <td>0.553</td>\n      <td>0.547</td>\n      <td>0.547</td>\n    </tr>\n    <tr>\n      <th>q0.75</th>\n      <td>0.895</td>\n      <td>0.833</td>\n      <td>0.813</td>\n      <td>0.807</td>\n      <td>0.820</td>\n      <td>0.833</td>\n    </tr>\n    <tr>\n      <th>q0.975</th>\n      <td>1.000</td>\n      <td>1.000</td>\n      <td>1.000</td>\n      <td>1.000</td>\n      <td>0.993</td>\n      <td>0.999</td>\n    </tr>\n  </tbody>\n</table>\n</div>"
     },
     "execution_count": 44,
     "metadata": {},
     "output_type": "execute_result"
    }
   ],
   "source": [
    "array = []\n",
    "\n",
    "for q in ['q0.025', 'q0.25', 'q0.5', 'q0.75', 'q0.975']:\n",
    "    # print(f'*** {q} ***')\n",
    "    # arr = models[5]['evaluation'][q] > models[5]['evaluation']['gesamt']\n",
    "    # print(arr.mean())\n",
    "    \n",
    "    per_quantile = []\n",
    "    \n",
    "    \n",
    "    for index, r in enumerate(results):\n",
    "        # r.loc[:, f'{q}larger'] = r[q] > r['gesamt']\n",
    "        mean = (r[q] > r['observation']).mean()\n",
    "        # print(r[f'{q}larger'].mean())\n",
    "        per_quantile.append(round(mean,3))\n",
    "    per_quantile.append(round((models[model_index]['evaluation'][q] > models[model_index]['evaluation']['observation']).mean(), 3))\n",
    "    \n",
    "    array.append(per_quantile)\n",
    "        \n",
    "pd.DataFrame(array, columns=['1 day', '2 day', '5 day', '6 day', '7 day', 'All horizons'], index=['q0.025', 'q0.25', 'q0.5', 'q0.75', 'q0.975'])\n",
    "\n"
   ],
   "metadata": {
    "collapsed": false,
    "ExecuteTime": {
     "end_time": "2023-12-30T15:59:00.849234Z",
     "start_time": "2023-12-30T15:59:00.846120Z"
    }
   },
   "id": "77a741af7ca905ad"
  },
  {
   "cell_type": "code",
   "execution_count": null,
   "outputs": [],
   "source": [],
   "metadata": {
    "collapsed": false
   },
   "id": "20f4517a52167791"
  }
 ],
 "metadata": {
  "kernelspec": {
   "display_name": "Python 3",
   "language": "python",
   "name": "python3"
  },
  "language_info": {
   "codemirror_mode": {
    "name": "ipython",
    "version": 2
   },
   "file_extension": ".py",
   "mimetype": "text/x-python",
   "name": "python",
   "nbconvert_exporter": "python",
   "pygments_lexer": "ipython2",
   "version": "2.7.6"
  }
 },
 "nbformat": 4,
 "nbformat_minor": 5
}
