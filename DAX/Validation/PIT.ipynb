{
 "cells": [
  {
   "cell_type": "code",
   "execution_count": null,
   "id": "initial_id",
   "metadata": {
    "collapsed": true
   },
   "outputs": [],
   "source": [
    "from HelpFunctions.date_and_time import most_recent_thursday, split_time\n",
    "from DAX.HelpFunctions.get_dax_data import get_dax_data\n",
    "from datetime import timedelta\n",
    "from HelpFunctions.calc_score import evaluate_horizon\n",
    "from HelpFunctions.mix_models import mix_models\n",
    "import pandas as pd\n",
    "from DAX.Models.baseline import baseline\n",
    "import pickle\n",
    "import seaborn as sns\n",
    "import matplotlib.pyplot as plt\n",
    "# import importlib\n",
    "# importlib.reload(Energy.Models)"
   ]
  },
  {
   "cell_type": "code",
   "execution_count": null,
   "outputs": [],
   "source": [
    "df = get_dax_data()"
   ],
   "metadata": {
    "collapsed": false
   },
   "id": "4540cd020c8925b2"
  },
  {
   "cell_type": "code",
   "execution_count": null,
   "outputs": [],
   "source": [
    "# We have to start with the tuesday data\n",
    "start_date_excl = most_recent_thursday(df) - timedelta(days=1)\n",
    "df_cval = df.loc[df.index < start_date_excl]\n",
    "df_cval.index = df_cval.index.date"
   ],
   "metadata": {
    "collapsed": false
   },
   "id": "5a2d4f5c5f31fd76"
  },
  {
   "cell_type": "code",
   "execution_count": null,
   "outputs": [],
   "source": [
    "df_cval.tail()"
   ],
   "metadata": {
    "collapsed": false
   },
   "id": "c6b11a2aa69c0249"
  },
  {
   "cell_type": "code",
   "execution_count": null,
   "outputs": [],
   "source": [
    "def evaluate_models(models, df, last_x, years =False, months=False, weeks=False):\n",
    "    # Check that exactly one of the boolean parameters is True\n",
    "    if sum([years, months, weeks]) != 1:\n",
    "        raise ValueError(\"Exactly one of the boolean parameters (years, months, weeks) must be True.\")\n",
    "    \n",
    "    years = int(years)\n",
    "    months = int(months)\n",
    "    weeks = int(weeks)\n",
    "        \n",
    "    for m in models:\n",
    "        print(f'*********** Start the evaluation of Model {m[\"name\"]} ***********')\n",
    "        m['evaluation'] = evaluate_model(m, df, last_x, years, months, weeks)\n",
    "        \n",
    "def evaluate_model(model, df, last_x, years, months, weeks):\n",
    "    df_before = df\n",
    "    evaluation = pd.DataFrame()\n",
    "    \n",
    "    for w in range(last_x):\n",
    "        print(f'Iteration {w+1} of {last_x}')\n",
    "        df_before, df_after = split_time(df_before, num_years=years, num_months=months, num_weeks=weeks)\n",
    "        \n",
    "        pred = None\n",
    "        # Is mixed model?\n",
    "        if callable(model['function']):\n",
    "            pred = model['function'](df_before)\n",
    "        else: \n",
    "            pred = mix_models(model['function'][0], model['function'][1], df_before, target='DAX')\n",
    "        # Makes sure we try to find observations for dates that have an observation (e.g. 05-01 is missing)\n",
    "        dates = [[horizon+1, d] for horizon,d in enumerate(pred['forecast_date']) if d in df.index]\n",
    "        pred = pred.set_index('forecast_date')\n",
    "\n",
    "        \n",
    "        # Add observations to pred\n",
    "        pred['observation'] = ''\n",
    "        pred['score'] = ''\n",
    "        for h,d in dates:\n",
    "            # Look up the right observation for date d\n",
    "            o = df.loc[d][f'ret{h}']\n",
    "            pred.loc[d,'observation'] = o\n",
    "    \n",
    "        # Add scores to pred\n",
    "        for index, row in pred.iterrows():\n",
    "            quantile_preds = row[['q0.025','q0.25','q0.5','q0.75','q0.975']]\n",
    "            observation = row['observation']\n",
    "            \n",
    "            score = evaluate_horizon(quantile_preds, observation)\n",
    "            \n",
    "            pred.at[index, 'score'] = score\n",
    "            \n",
    "        evaluation = pd.concat([evaluation, pred])\n",
    "    evaluation = evaluation.sort_index()\n",
    "    \n",
    "    return evaluation"
   ],
   "metadata": {
    "collapsed": false
   },
   "id": "9ad542f046842a66"
  },
  {
   "cell_type": "code",
   "execution_count": null,
   "outputs": [],
   "source": [
    "from DAX.Models import arma_garch_11 as ag\n",
    "from DAX.Models import quant_reg as qr\n",
    "from DAX.Models import baseline as bl\n",
    "import importlib\n",
    "importlib.reload(qr)\n",
    "importlib.reload(bl)\n",
    "\n",
    "models = [\n",
    "    {\n",
    "        'name': 'baseline',\n",
    "        'function': bl.baseline\n",
    "    },\n",
    "    {\n",
    "        'name': 'GARCH(1,1)',\n",
    "        'function': ag.garch11_norm_1y\n",
    "    },\n",
    "    {\n",
    "        'name': 'GARCH(3,1)',\n",
    "        'function': ag.garch31_norm_1y\n",
    "    },\n",
    "    {\n",
    "        'name': 'ARMA(1,1)GARCH(3,1)',\n",
    "        'function': ag.arma_11_garch_31_norm_1y\n",
    "    },\n",
    "    {\n",
    "        'name': 'QuantileRegression',\n",
    "        'function': qr.quant_reg_3d\n",
    "    },\n",
    "    {\n",
    "        'name': 'DAX Ensemble',\n",
    "        'function': [[ag.garch11_norm_1y, qr.quant_reg_3d, bl.baseline],[1,1,1]]\n",
    "    }\n",
    "]\n"
   ],
   "metadata": {
    "collapsed": false
   },
   "id": "13fbb2ee46633091"
  },
  {
   "cell_type": "code",
   "execution_count": null,
   "outputs": [],
   "source": [
    "evaluate_models(models, df, 100, weeks=True)"
   ],
   "metadata": {
    "collapsed": false
   },
   "id": "b92eb089f837ede7"
  },
  {
   "cell_type": "code",
   "execution_count": 13,
   "outputs": [],
   "source": [
    "import numpy as np\n",
    "\n",
    "\n",
    "model_index = 0\n",
    "results_per_horizon = []\n",
    "\n",
    "models[model_index]['evaluation'] = models[model_index]['evaluation'].dropna()\n",
    "\n",
    "for h in [f'{h} day' for h in [1, 2, 5, 6, 7]]:\n",
    "    results_per_horizon.append(models[model_index]['evaluation'][models[model_index]['evaluation']['horizon'] == h])\n",
    "\n",
    "# results36h = models[0]['evaluation'][models[0]['evaluation']['horizon'] == '36 hour']\n",
    "\n",
    "\n",
    "\n",
    "# results = models[0]['evaluation']\n",
    "\n"
   ],
   "metadata": {
    "collapsed": false,
    "ExecuteTime": {
     "end_time": "2024-03-18T16:21:12.350872Z",
     "start_time": "2024-03-18T16:21:12.344428Z"
    }
   },
   "id": "8bb7e85e7c45b8b7"
  },
  {
   "cell_type": "markdown",
   "source": [
    "## Check Calibration manually"
   ],
   "metadata": {
    "collapsed": false
   },
   "id": "6e0f34a0f74acd94"
  },
  {
   "cell_type": "code",
   "execution_count": 13,
   "outputs": [],
   "source": [],
   "metadata": {
    "collapsed": false,
    "ExecuteTime": {
     "end_time": "2024-03-18T16:21:13.519593Z",
     "start_time": "2024-03-18T16:21:13.516974Z"
    }
   },
   "id": "761f62ea46f36f0f"
  },
  {
   "cell_type": "markdown",
   "source": [
    "## Create PIT Histogram"
   ],
   "metadata": {
    "collapsed": false
   },
   "id": "9cddce9ad4e55eda"
  },
  {
   "cell_type": "code",
   "execution_count": 14,
   "outputs": [],
   "source": [
    "# import matplotlib.pyplot as plt\n",
    "# import numpy as np\n",
    "# import string\n",
    "# import random\n",
    "# import scipy.stats as stats\n",
    "# \n",
    "# from scipy.stats import uniform\n",
    "# \n",
    "# for index, r in enumerate(results_per_horizon):\n",
    "#     print(r['observation'])\n",
    "#     obs = np.array(np.array(r['observation']),dtype=float)\n",
    "#     forecasts = np.array(np.array(r.loc[:,'q0.025':'q0.975']),dtype=float)\n",
    "# \n",
    "#     # Example quantile forecasts and observations\n",
    "#     quantile_forecasts = forecasts\n",
    "#     observations = obs\n",
    "#     \n",
    "#     # Calculate PIT values\n",
    "#     pit_values = np.zeros_like(quantile_forecasts)\n",
    "#     \n",
    "#     for i in range(quantile_forecasts.shape[1]):\n",
    "#         sorted_forecasts = np.sort(quantile_forecasts[:, i])\n",
    "#         ecdf_values = np.linspace(0, 1, len(sorted_forecasts))\n",
    "#         pit_values[:, i] = np.interp(\n",
    "#             quantile_forecasts[:, i], sorted_forecasts, ecdf_values)\n",
    "#     \n",
    "#     # Create PIT histogram\n",
    "#     fig, ax = plt.subplots()\n",
    "#     ax.hist(pit_values.flatten(), bins=20, density=True,\n",
    "#             alpha=0.75, color='blue', edgecolor='black')\n",
    "#     \n",
    "#     # Plot the uniform distribution for reference\n",
    "#     x = np.linspace(0, 1, 100)\n",
    "#     ax.plot(x, uniform.pdf(x), 'r-', lw=2, label='Uniform [0,1]')\n",
    "#     \n",
    "#     ax.set_title('Probability Integral Transform (PIT)')\n",
    "#     ax.set_xlabel('PIT Values')\n",
    "#     ax.set_ylabel('Density')\n",
    "#     ax.legend()\n",
    "#     \n",
    "#     \n",
    "#     plt.savefig(f'../plots/{index} {\"\".join(random.SystemRandom().choice(string.ascii_uppercase + string.digits) for _ in range(4))}.png')\n",
    "#     plt.show()"
   ],
   "metadata": {
    "collapsed": false,
    "ExecuteTime": {
     "end_time": "2024-03-18T16:21:14.084476Z",
     "start_time": "2024-03-18T16:21:14.079673Z"
    }
   },
   "id": "657ae091d4683924"
  },
  {
   "cell_type": "markdown",
   "source": [
    "## Check Manually"
   ],
   "metadata": {
    "collapsed": false
   },
   "id": "bdc4d0653525c5e8"
  },
  {
   "cell_type": "code",
   "execution_count": 17,
   "outputs": [
    {
     "name": "stdout",
     "output_type": "stream",
     "text": [
      "baseline\n",
      "         1 day   2 day  5 day  6 day  7 day  All horizons\n",
      "q0.025  0.0000  0.0208   0.02   0.00   0.01        0.0102\n",
      "q0.25   0.2526  0.1875   0.25   0.20   0.19        0.2159\n",
      "q0.5    0.5474  0.5312   0.49   0.48   0.54        0.5173\n",
      "q0.75   0.7474  0.7292   0.73   0.78   0.73        0.7434\n",
      "q0.975  0.9789  0.9896   0.98   0.99   0.99        0.9857\n",
      "GARCH(1,1)\n",
      "         1 day   2 day  5 day  6 day  7 day  All horizons\n",
      "q0.025  0.0316  0.0521   0.02   0.03   0.01        0.0285\n",
      "q0.25   0.2211  0.1667   0.19   0.14   0.15        0.1731\n",
      "q0.5    0.4947  0.5104   0.44   0.47   0.43        0.4684\n",
      "q0.75   0.7789  0.7396   0.73   0.75   0.73        0.7454\n",
      "q0.975  0.9684  0.9688   0.97   0.99   0.98        0.9756\n",
      "GARCH(3,1)\n",
      "         1 day   2 day  5 day  6 day  7 day  All horizons\n",
      "q0.025  0.0421  0.0521   0.02   0.03   0.01        0.0305\n",
      "q0.25   0.2211  0.1667   0.19   0.14   0.15        0.1731\n",
      "q0.5    0.4947  0.5104   0.44   0.47   0.43        0.4684\n",
      "q0.75   0.8105  0.7292   0.72   0.75   0.74        0.7495\n",
      "q0.975  0.9579  0.9688   0.97   0.99   0.98        0.9735\n",
      "ARMA(1,1)GARCH(3,1)\n",
      "         1 day   2 day  5 day  6 day  7 day  All horizons\n",
      "q0.025  0.0526  0.1042   0.09   0.09   0.10        0.0876\n",
      "q0.25   0.2316  0.2500   0.31   0.27   0.30        0.2729\n",
      "q0.5    0.5263  0.5625   0.52   0.51   0.53        0.5295\n",
      "q0.75   0.8000  0.6979   0.71   0.69   0.66        0.7108\n",
      "q0.975  0.9684  0.9167   0.94   0.92   0.90        0.9287\n",
      "QuantileRegression\n",
      "         1 day   2 day  5 day  6 day  7 day  All horizons\n",
      "q0.025  0.1158  0.0938   0.14   0.08   0.05        0.0957\n",
      "q0.25   0.2316  0.2188   0.31   0.24   0.28        0.2566\n",
      "q0.5    0.5474  0.5104   0.50   0.48   0.53        0.5132\n",
      "q0.75   0.7789  0.7708   0.75   0.76   0.72        0.7556\n",
      "q0.975  0.9053  0.8854   0.85   0.93   0.97        0.9084\n",
      "DAX Ensemble\n",
      "         1 day   2 day  5 day  6 day  7 day  All horizons\n",
      "q0.025  0.0316  0.0521   0.02   0.03   0.01        0.0285\n",
      "q0.25   0.2316  0.1562   0.21   0.16   0.20        0.1914\n",
      "q0.5    0.5474  0.5208   0.49   0.48   0.50        0.5071\n",
      "q0.75   0.7579  0.7500   0.76   0.76   0.72        0.7495\n",
      "q0.975  0.9684  0.9792   0.96   0.99   0.99        0.9776\n"
     ]
    }
   ],
   "source": [
    "for model_index in range(len(models)):\n",
    "    results_per_horizon = []\n",
    "    \n",
    "    models[model_index]['evaluation'] = models[model_index]['evaluation'].dropna()\n",
    "    \n",
    "    for h in [f'{h} day' for h in [1, 2, 5, 6, 7]]:\n",
    "        results_per_horizon.append(models[model_index]['evaluation'][models[model_index]['evaluation']['horizon'] == h])\n",
    "\n",
    "\n",
    "\n",
    "    array = []\n",
    "    \n",
    "    for q in ['q0.025', 'q0.25', 'q0.5', 'q0.75', 'q0.975']:\n",
    "        # print(f'*** {q} ***')\n",
    "        # arr = models[5]['evaluation'][q] > models[5]['evaluation']['gesamt']\n",
    "        # print(arr.mean())\n",
    "        \n",
    "        per_quantile = []\n",
    "        \n",
    "        \n",
    "        for index, r in enumerate(results_per_horizon):\n",
    "            # r.loc[:, f'{q}larger'] = r[q] > r['gesamt']\n",
    "            mean = (r[q] > r['observation']).mean()\n",
    "            # print(r[f'{q}larger'].mean())\n",
    "            per_quantile.append(round(mean,4))\n",
    "        per_quantile.append(round((models[model_index]['evaluation'][q] > models[model_index]['evaluation']['observation']).mean(), 4))\n",
    "        \n",
    "        array.append(per_quantile)\n",
    "        \n",
    "    print(models[model_index]['name'])            \n",
    "    print(pd.DataFrame(array, columns=['1 day', '2 day', '5 day', '6 day', '7 day', 'All horizons'], index=['q0.025', 'q0.25', 'q0.5', 'q0.75', 'q0.975']))\n",
    "\n"
   ],
   "metadata": {
    "collapsed": false,
    "ExecuteTime": {
     "end_time": "2024-03-18T16:30:14.233038Z",
     "start_time": "2024-03-18T16:30:14.207735Z"
    }
   },
   "id": "20f4517a52167791"
  },
  {
   "cell_type": "code",
   "execution_count": null,
   "outputs": [],
   "source": [],
   "metadata": {
    "collapsed": false
   },
   "id": "eb0e24599d83ee2f"
  }
 ],
 "metadata": {
  "kernelspec": {
   "display_name": "Python 3",
   "language": "python",
   "name": "python3"
  },
  "language_info": {
   "codemirror_mode": {
    "name": "ipython",
    "version": 2
   },
   "file_extension": ".py",
   "mimetype": "text/x-python",
   "name": "python",
   "nbconvert_exporter": "python",
   "pygments_lexer": "ipython2",
   "version": "2.7.6"
  }
 },
 "nbformat": 4,
 "nbformat_minor": 5
}
