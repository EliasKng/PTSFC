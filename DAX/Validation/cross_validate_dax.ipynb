{
 "cells": [
  {
   "cell_type": "code",
   "execution_count": 1,
   "id": "initial_id",
   "metadata": {
    "collapsed": true,
    "ExecuteTime": {
     "end_time": "2023-11-18T13:48:18.024250Z",
     "start_time": "2023-11-18T13:48:17.466152Z"
    }
   },
   "outputs": [
    {
     "name": "stderr",
     "output_type": "stream",
     "text": [
      "/Users/elias/Desktop/PTSFC/venv/lib/python3.9/site-packages/urllib3/__init__.py:34: NotOpenSSLWarning: urllib3 v2.0 only supports OpenSSL 1.1.1+, currently the 'ssl' module is compiled with 'LibreSSL 2.8.3'. See: https://github.com/urllib3/urllib3/issues/3020\n",
      "  warnings.warn(\n"
     ]
    }
   ],
   "source": [
    "import pandas as pd\n",
    "import pickle\n",
    "import numpy as np\n",
    "import matplotlib.pyplot as plt\n",
    "import seaborn as sns\n",
    "from Energy.HelpFunctions.get_energy_data import get_energy_data, prepare_data\n",
    "from Energy.HelpFunctions.get_energy_data import get_energy_data, prepare_data\n",
    "from HelpFunctions.date_and_time import most_recent_thursday, split_time\n",
    "from Energy.Models.baseline import baseline\n",
    "from HelpFunctions.calc_score import evaluate_horizon\n",
    "from Energy.Models.Model1 import model1\n",
    "from Energy.Models.Model2 import model2\n",
    "from DAX.HelpFunctions.get_dax_data import get_dax_data\n",
    "\n",
    "# import importlib\n",
    "# importlib.reload(Energy.Models)"
   ]
  },
  {
   "cell_type": "code",
   "execution_count": 2,
   "outputs": [],
   "source": [
    "df = get_dax_data()"
   ],
   "metadata": {
    "collapsed": false,
    "ExecuteTime": {
     "end_time": "2023-11-18T13:48:18.548303Z",
     "start_time": "2023-11-18T13:48:18.024934Z"
    }
   },
   "id": "4540cd020c8925b2"
  },
  {
   "cell_type": "code",
   "execution_count": 3,
   "outputs": [],
   "source": [
    "start_date_excl = most_recent_thursday(df)\n",
    "df_cval = df.loc[df.index < start_date_excl]"
   ],
   "metadata": {
    "collapsed": false,
    "ExecuteTime": {
     "end_time": "2023-11-18T13:48:27.334463Z",
     "start_time": "2023-11-18T13:48:27.327687Z"
    }
   },
   "id": "5a2d4f5c5f31fd76"
  },
  {
   "cell_type": "code",
   "execution_count": 6,
   "outputs": [
    {
     "data": {
      "text/plain": "                                   Open          High           Low  \\\nDate                                                                  \n2023-11-09 00:00:00+01:00  15246.500000  15364.490234  15212.990234   \n2023-11-10 00:00:00+01:00  15296.580078  15309.519531  15171.580078   \n2023-11-13 00:00:00+01:00  15285.120117  15346.790039  15252.269531   \n2023-11-14 00:00:00+01:00  15358.589844  15632.440430  15337.599609   \n2023-11-15 00:00:00+01:00  15631.669922  15759.839844  15628.190430   \n\n                                  Close    Volume  Dividends  Stock Splits  \\\nDate                                                                         \n2023-11-09 00:00:00+01:00  15352.540039  68377100        0.0           0.0   \n2023-11-10 00:00:00+01:00  15234.389648  77014100        0.0           0.0   \n2023-11-13 00:00:00+01:00  15345.000000  65170400        0.0           0.0   \n2023-11-14 00:00:00+01:00  15614.429688  98894400        0.0           0.0   \n2023-11-15 00:00:00+01:00  15748.169922  91670700        0.0           0.0   \n\n                               ret1      ret2      ret3      ret4      ret5  \nDate                                                                         \n2023-11-09 00:00:00+01:00  0.804006  1.310618  1.420692  1.069299  1.370296  \n2023-11-10 00:00:00+01:00 -0.772559  0.031447  0.538060  0.648134  0.296741  \n2023-11-13 00:00:00+01:00  0.723434 -0.049125  0.754881  1.261494  1.371568  \n2023-11-14 00:00:00+01:00  1.740578  2.464012  1.691453  2.495459  3.002072  \n2023-11-15 00:00:00+01:00  0.852870  2.593448  3.316881  2.544323  3.348329  ",
      "text/html": "<div>\n<style scoped>\n    .dataframe tbody tr th:only-of-type {\n        vertical-align: middle;\n    }\n\n    .dataframe tbody tr th {\n        vertical-align: top;\n    }\n\n    .dataframe thead th {\n        text-align: right;\n    }\n</style>\n<table border=\"1\" class=\"dataframe\">\n  <thead>\n    <tr style=\"text-align: right;\">\n      <th></th>\n      <th>Open</th>\n      <th>High</th>\n      <th>Low</th>\n      <th>Close</th>\n      <th>Volume</th>\n      <th>Dividends</th>\n      <th>Stock Splits</th>\n      <th>ret1</th>\n      <th>ret2</th>\n      <th>ret3</th>\n      <th>ret4</th>\n      <th>ret5</th>\n    </tr>\n    <tr>\n      <th>Date</th>\n      <th></th>\n      <th></th>\n      <th></th>\n      <th></th>\n      <th></th>\n      <th></th>\n      <th></th>\n      <th></th>\n      <th></th>\n      <th></th>\n      <th></th>\n      <th></th>\n    </tr>\n  </thead>\n  <tbody>\n    <tr>\n      <th>2023-11-09 00:00:00+01:00</th>\n      <td>15246.500000</td>\n      <td>15364.490234</td>\n      <td>15212.990234</td>\n      <td>15352.540039</td>\n      <td>68377100</td>\n      <td>0.0</td>\n      <td>0.0</td>\n      <td>0.804006</td>\n      <td>1.310618</td>\n      <td>1.420692</td>\n      <td>1.069299</td>\n      <td>1.370296</td>\n    </tr>\n    <tr>\n      <th>2023-11-10 00:00:00+01:00</th>\n      <td>15296.580078</td>\n      <td>15309.519531</td>\n      <td>15171.580078</td>\n      <td>15234.389648</td>\n      <td>77014100</td>\n      <td>0.0</td>\n      <td>0.0</td>\n      <td>-0.772559</td>\n      <td>0.031447</td>\n      <td>0.538060</td>\n      <td>0.648134</td>\n      <td>0.296741</td>\n    </tr>\n    <tr>\n      <th>2023-11-13 00:00:00+01:00</th>\n      <td>15285.120117</td>\n      <td>15346.790039</td>\n      <td>15252.269531</td>\n      <td>15345.000000</td>\n      <td>65170400</td>\n      <td>0.0</td>\n      <td>0.0</td>\n      <td>0.723434</td>\n      <td>-0.049125</td>\n      <td>0.754881</td>\n      <td>1.261494</td>\n      <td>1.371568</td>\n    </tr>\n    <tr>\n      <th>2023-11-14 00:00:00+01:00</th>\n      <td>15358.589844</td>\n      <td>15632.440430</td>\n      <td>15337.599609</td>\n      <td>15614.429688</td>\n      <td>98894400</td>\n      <td>0.0</td>\n      <td>0.0</td>\n      <td>1.740578</td>\n      <td>2.464012</td>\n      <td>1.691453</td>\n      <td>2.495459</td>\n      <td>3.002072</td>\n    </tr>\n    <tr>\n      <th>2023-11-15 00:00:00+01:00</th>\n      <td>15631.669922</td>\n      <td>15759.839844</td>\n      <td>15628.190430</td>\n      <td>15748.169922</td>\n      <td>91670700</td>\n      <td>0.0</td>\n      <td>0.0</td>\n      <td>0.852870</td>\n      <td>2.593448</td>\n      <td>3.316881</td>\n      <td>2.544323</td>\n      <td>3.348329</td>\n    </tr>\n  </tbody>\n</table>\n</div>"
     },
     "execution_count": 6,
     "metadata": {},
     "output_type": "execute_result"
    }
   ],
   "source": [
    "df_cval.tail()"
   ],
   "metadata": {
    "collapsed": false,
    "ExecuteTime": {
     "end_time": "2023-11-18T13:48:54.903544Z",
     "start_time": "2023-11-18T13:48:54.898415Z"
    }
   },
   "id": "c6b11a2aa69c0249"
  },
  {
   "cell_type": "code",
   "execution_count": null,
   "outputs": [],
   "source": [],
   "metadata": {
    "collapsed": false
   },
   "id": "9ad542f046842a66"
  }
 ],
 "metadata": {
  "kernelspec": {
   "display_name": "Python 3",
   "language": "python",
   "name": "python3"
  },
  "language_info": {
   "codemirror_mode": {
    "name": "ipython",
    "version": 2
   },
   "file_extension": ".py",
   "mimetype": "text/x-python",
   "name": "python",
   "nbconvert_exporter": "python",
   "pygments_lexer": "ipython2",
   "version": "2.7.6"
  }
 },
 "nbformat": 4,
 "nbformat_minor": 5
}
