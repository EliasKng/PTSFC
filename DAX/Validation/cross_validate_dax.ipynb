{
 "cells": [
  {
   "cell_type": "code",
   "execution_count": 67,
   "id": "initial_id",
   "metadata": {
    "collapsed": true,
    "ExecuteTime": {
     "end_time": "2023-11-18T14:27:53.407841Z",
     "start_time": "2023-11-18T14:27:53.398220Z"
    }
   },
   "outputs": [],
   "source": [
    "from HelpFunctions.date_and_time import most_recent_thursday, split_time\n",
    "from DAX.HelpFunctions.get_dax_data import get_dax_data\n",
    "from datetime import timedelta\n",
    "from HelpFunctions.calc_score import evaluate_horizon\n",
    "import pandas as pd\n",
    "from DAX.Models.baseline import baseline\n",
    "import pickle\n",
    "\n",
    "# import importlib\n",
    "# importlib.reload(Energy.Models)"
   ]
  },
  {
   "cell_type": "code",
   "execution_count": null,
   "outputs": [],
   "source": [
    "df = get_dax_data()"
   ],
   "metadata": {
    "collapsed": false
   },
   "id": "4540cd020c8925b2"
  },
  {
   "cell_type": "code",
   "execution_count": null,
   "outputs": [],
   "source": [
    "# We have to start with the tuesday data\n",
    "start_date_excl = most_recent_thursday(df) - timedelta(days=1)\n",
    "df_cval = df.loc[df.index < start_date_excl]\n",
    "df_cval.index = df_cval.index.date"
   ],
   "metadata": {
    "collapsed": false
   },
   "id": "5a2d4f5c5f31fd76"
  },
  {
   "cell_type": "code",
   "execution_count": null,
   "outputs": [],
   "source": [
    "df_cval.tail()"
   ],
   "metadata": {
    "collapsed": false
   },
   "id": "c6b11a2aa69c0249"
  },
  {
   "cell_type": "code",
   "execution_count": 123,
   "outputs": [],
   "source": [
    "def evaluate_models(models, df, last_x, years =False, months=False, weeks=False):\n",
    "    # Check that exactly one of the boolean parameters is True\n",
    "    if sum([years, months, weeks]) != 1:\n",
    "        raise ValueError(\"Exactly one of the boolean parameters (years, months, weeks) must be True.\")\n",
    "    \n",
    "    years = int(years)\n",
    "    months = int(months)\n",
    "    weeks = int(weeks)\n",
    "        \n",
    "    for m in models:\n",
    "        print(f'*********** Start the evaluation of Model {m[\"name\"]} ***********')\n",
    "        m['evaluation'] = evaluate_model(m, df, last_x, years, months, weeks)\n",
    "        \n",
    "def evaluate_model(model, df, last_x, years, months, weeks):\n",
    "    df_before = df\n",
    "    evaluation = pd.DataFrame()\n",
    "    \n",
    "    for w in range(last_x):\n",
    "        print(f'Iteration {w+1} of {last_x}')\n",
    "        df_before, df_after = split_time(df_before, num_years=years, num_months=months, num_weeks=weeks)\n",
    "        pred = model['function'](df_before)\n",
    "        # Makes sure we try to find observations for dates that have an observation (e.g. 05-01 is missing)\n",
    "        dates = [d for d in pred['forecast_date'] if d in df.index]\n",
    "        obs = pd.DataFrame({'ret1': df.loc[dates]['ret1']})\n",
    "        pred = pred.set_index('forecast_date')\n",
    "        obs.index = obs.index.strftime('%Y-%m-%d')\n",
    "        # obs.index = obs.index.date\n",
    "        # pred.index = pd.to_datetime(pred.index).date\n",
    "        merged_df = pd.merge(pred, obs, left_index=True, right_index=True) \n",
    "    \n",
    "         # Add scores to the merged_df\n",
    "        for index, row in merged_df.iterrows():\n",
    "            quantile_preds = row[['q0.025','q0.25','q0.5','q0.75','q0.975']]\n",
    "            observation = row['ret1']\n",
    "            score = evaluate_horizon(quantile_preds, observation)\n",
    "            merged_df.at[index, 'score'] = score\n",
    "        # print(merged_df[['q0.025','q0.25','q0.5','q0.75','q0.975']])\n",
    "        evaluation = pd.concat([evaluation, merged_df])\n",
    "    evaluation = evaluation.sort_index()\n",
    "    return evaluation"
   ],
   "metadata": {
    "collapsed": false,
    "ExecuteTime": {
     "end_time": "2023-11-18T14:53:02.789001Z",
     "start_time": "2023-11-18T14:53:02.782469Z"
    }
   },
   "id": "9ad542f046842a66"
  },
  {
   "cell_type": "code",
   "execution_count": 124,
   "outputs": [],
   "source": [
    "models = [\n",
    "    {\n",
    "        'name': 'baseline',\n",
    "        'function': baseline\n",
    "     },\n",
    "]\n"
   ],
   "metadata": {
    "collapsed": false,
    "ExecuteTime": {
     "end_time": "2023-11-18T14:53:03.138655Z",
     "start_time": "2023-11-18T14:53:03.136826Z"
    }
   },
   "id": "13fbb2ee46633091"
  },
  {
   "cell_type": "code",
   "execution_count": 125,
   "outputs": [
    {
     "name": "stdout",
     "output_type": "stream",
     "text": [
      "*********** Start the evaluation of Model baseline ***********\n",
      "Iteration 1 of 100\n",
      "Iteration 2 of 100\n",
      "Iteration 3 of 100\n",
      "Iteration 4 of 100\n",
      "Iteration 5 of 100\n",
      "Iteration 6 of 100\n",
      "Iteration 7 of 100\n",
      "Iteration 8 of 100\n",
      "Iteration 9 of 100\n",
      "Iteration 10 of 100\n",
      "Iteration 11 of 100\n",
      "Iteration 12 of 100\n",
      "Iteration 13 of 100\n",
      "Iteration 14 of 100\n",
      "Iteration 15 of 100\n",
      "Iteration 16 of 100\n",
      "Iteration 17 of 100\n",
      "Iteration 18 of 100\n",
      "Iteration 19 of 100\n",
      "Iteration 20 of 100\n",
      "Iteration 21 of 100\n",
      "Iteration 22 of 100\n",
      "Iteration 23 of 100\n",
      "Iteration 24 of 100\n",
      "Iteration 25 of 100\n",
      "Iteration 26 of 100\n",
      "Iteration 27 of 100\n",
      "Iteration 28 of 100\n",
      "Iteration 29 of 100\n",
      "['2023-05-02', '2023-05-03', '2023-05-04', '2023-05-05']\n",
      "0    2023-05-01\n",
      "1    2023-05-02\n",
      "2    2023-05-03\n",
      "3    2023-05-04\n",
      "4    2023-05-05\n",
      "Name: forecast_date, dtype: object\n",
      "Iteration 30 of 100\n",
      "Iteration 31 of 100\n",
      "Iteration 32 of 100\n",
      "['2023-04-11', '2023-04-12', '2023-04-13']\n",
      "0    2023-04-07\n",
      "1    2023-04-10\n",
      "2    2023-04-11\n",
      "3    2023-04-12\n",
      "4    2023-04-13\n",
      "Name: forecast_date, dtype: object\n",
      "Iteration 33 of 100\n",
      "Iteration 34 of 100\n",
      "Iteration 35 of 100\n",
      "Iteration 36 of 100\n",
      "Iteration 37 of 100\n",
      "Iteration 38 of 100\n",
      "Iteration 39 of 100\n",
      "Iteration 40 of 100\n",
      "Iteration 41 of 100\n",
      "Iteration 42 of 100\n",
      "Iteration 43 of 100\n",
      "Iteration 44 of 100\n",
      "Iteration 45 of 100\n",
      "Iteration 46 of 100\n",
      "Iteration 47 of 100\n",
      "['2022-12-23', '2022-12-27', '2022-12-28', '2022-12-29']\n",
      "0    2022-12-23\n",
      "1    2022-12-26\n",
      "2    2022-12-27\n",
      "3    2022-12-28\n",
      "4    2022-12-29\n",
      "Name: forecast_date, dtype: object\n",
      "Iteration 48 of 100\n",
      "Iteration 49 of 100\n",
      "Iteration 50 of 100\n",
      "Iteration 51 of 100\n",
      "Iteration 52 of 100\n",
      "Iteration 53 of 100\n",
      "Iteration 54 of 100\n",
      "Iteration 55 of 100\n",
      "Iteration 56 of 100\n",
      "Iteration 57 of 100\n",
      "Iteration 58 of 100\n",
      "Iteration 59 of 100\n",
      "Iteration 60 of 100\n",
      "Iteration 61 of 100\n",
      "Iteration 62 of 100\n",
      "Iteration 63 of 100\n",
      "Iteration 64 of 100\n",
      "Iteration 65 of 100\n",
      "Iteration 66 of 100\n",
      "Iteration 67 of 100\n",
      "Iteration 68 of 100\n",
      "Iteration 69 of 100\n",
      "Iteration 70 of 100\n",
      "Iteration 71 of 100\n",
      "Iteration 72 of 100\n",
      "Iteration 73 of 100\n",
      "Iteration 74 of 100\n",
      "Iteration 75 of 100\n",
      "Iteration 76 of 100\n",
      "Iteration 77 of 100\n",
      "Iteration 78 of 100\n",
      "Iteration 79 of 100\n",
      "Iteration 80 of 100\n",
      "Iteration 81 of 100\n",
      "Iteration 82 of 100\n",
      "Iteration 83 of 100\n",
      "['2022-04-19', '2022-04-20', '2022-04-21']\n",
      "0    2022-04-15\n",
      "1    2022-04-18\n",
      "2    2022-04-19\n",
      "3    2022-04-20\n",
      "4    2022-04-21\n",
      "Name: forecast_date, dtype: object\n",
      "Iteration 84 of 100\n",
      "Iteration 85 of 100\n",
      "Iteration 86 of 100\n",
      "Iteration 87 of 100\n",
      "Iteration 88 of 100\n",
      "Iteration 89 of 100\n",
      "Iteration 90 of 100\n",
      "Iteration 91 of 100\n",
      "Iteration 92 of 100\n",
      "Iteration 93 of 100\n",
      "Iteration 94 of 100\n",
      "Iteration 95 of 100\n",
      "Iteration 96 of 100\n",
      "Iteration 97 of 100\n",
      "Iteration 98 of 100\n",
      "['2022-01-03', '2022-01-04', '2022-01-05', '2022-01-06']\n",
      "0    2021-12-31\n",
      "1    2022-01-03\n",
      "2    2022-01-04\n",
      "3    2022-01-05\n",
      "4    2022-01-06\n",
      "Name: forecast_date, dtype: object\n",
      "Iteration 99 of 100\n",
      "['2021-12-27', '2021-12-28', '2021-12-29', '2021-12-30']\n",
      "0    2021-12-24\n",
      "1    2021-12-27\n",
      "2    2021-12-28\n",
      "3    2021-12-29\n",
      "4    2021-12-30\n",
      "Name: forecast_date, dtype: object\n",
      "Iteration 100 of 100\n"
     ]
    }
   ],
   "source": [
    "evaluate_models(models, df, 100, weeks=True)"
   ],
   "metadata": {
    "collapsed": false,
    "ExecuteTime": {
     "end_time": "2023-11-18T14:53:04.602247Z",
     "start_time": "2023-11-18T14:53:03.516553Z"
    }
   },
   "id": "b92eb089f837ede7"
  },
  {
   "cell_type": "code",
   "execution_count": 121,
   "outputs": [],
   "source": [
    "with open('./Model evaluations/baseline.pkl', 'wb') as f:\n",
    "    pickle.dump(models, f)\n",
    "#         \n",
    "# with open('./Model evaluations/baseline.pkl', 'rb') as f:\n",
    "#     models = pickle.load(f)"
   ],
   "metadata": {
    "collapsed": false,
    "ExecuteTime": {
     "end_time": "2023-11-18T14:51:29.318266Z",
     "start_time": "2023-11-18T14:51:29.314762Z"
    }
   },
   "id": "df953c81258d61db"
  },
  {
   "cell_type": "code",
   "execution_count": null,
   "outputs": [],
   "source": [],
   "metadata": {
    "collapsed": false
   },
   "id": "e7b964b0416d233b"
  }
 ],
 "metadata": {
  "kernelspec": {
   "display_name": "Python 3",
   "language": "python",
   "name": "python3"
  },
  "language_info": {
   "codemirror_mode": {
    "name": "ipython",
    "version": 2
   },
   "file_extension": ".py",
   "mimetype": "text/x-python",
   "name": "python",
   "nbconvert_exporter": "python",
   "pygments_lexer": "ipython2",
   "version": "2.7.6"
  }
 },
 "nbformat": 4,
 "nbformat_minor": 5
}
