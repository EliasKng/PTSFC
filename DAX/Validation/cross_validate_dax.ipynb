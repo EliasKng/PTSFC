{
 "cells": [
  {
   "cell_type": "code",
   "execution_count": 177,
   "id": "initial_id",
   "metadata": {
    "collapsed": true,
    "ExecuteTime": {
     "end_time": "2023-11-18T15:14:37.034503Z",
     "start_time": "2023-11-18T15:14:37.018784Z"
    }
   },
   "outputs": [],
   "source": [
    "from HelpFunctions.date_and_time import most_recent_thursday, split_time\n",
    "from DAX.HelpFunctions.get_dax_data import get_dax_data\n",
    "from datetime import timedelta\n",
    "from HelpFunctions.calc_score import evaluate_horizon\n",
    "import pandas as pd\n",
    "from DAX.Models.baseline import baseline\n",
    "import pickle\n",
    "import seaborn as sns\n",
    "import matplotlib.pyplot as plt\n",
    "\n",
    "# import importlib\n",
    "# importlib.reload(Energy.Models)"
   ]
  },
  {
   "cell_type": "code",
   "execution_count": null,
   "outputs": [],
   "source": [
    "df = get_dax_data()"
   ],
   "metadata": {
    "collapsed": false
   },
   "id": "4540cd020c8925b2"
  },
  {
   "cell_type": "code",
   "execution_count": null,
   "outputs": [],
   "source": [
    "# We have to start with the tuesday data\n",
    "start_date_excl = most_recent_thursday(df) - timedelta(days=1)\n",
    "df_cval = df.loc[df.index < start_date_excl]\n",
    "df_cval.index = df_cval.index.date"
   ],
   "metadata": {
    "collapsed": false
   },
   "id": "5a2d4f5c5f31fd76"
  },
  {
   "cell_type": "code",
   "execution_count": null,
   "outputs": [],
   "source": [
    "df_cval.tail()"
   ],
   "metadata": {
    "collapsed": false
   },
   "id": "c6b11a2aa69c0249"
  },
  {
   "cell_type": "code",
   "execution_count": null,
   "outputs": [],
   "source": [
    "def evaluate_models(models, df, last_x, years =False, months=False, weeks=False):\n",
    "    # Check that exactly one of the boolean parameters is True\n",
    "    if sum([years, months, weeks]) != 1:\n",
    "        raise ValueError(\"Exactly one of the boolean parameters (years, months, weeks) must be True.\")\n",
    "    \n",
    "    years = int(years)\n",
    "    months = int(months)\n",
    "    weeks = int(weeks)\n",
    "        \n",
    "    for m in models:\n",
    "        print(f'*********** Start the evaluation of Model {m[\"name\"]} ***********')\n",
    "        m['evaluation'] = evaluate_model(m, df, last_x, years, months, weeks)\n",
    "        \n",
    "def evaluate_model(model, df, last_x, years, months, weeks):\n",
    "    df_before = df\n",
    "    evaluation = pd.DataFrame()\n",
    "    \n",
    "    for w in range(last_x):\n",
    "        print(f'Iteration {w+1} of {last_x}')\n",
    "        df_before, df_after = split_time(df_before, num_years=years, num_months=months, num_weeks=weeks)\n",
    "        pred = model['function'](df_before)\n",
    "        # Makes sure we try to find observations for dates that have an observation (e.g. 05-01 is missing)\n",
    "        dates = [d for d in pred['forecast_date'] if d in df.index]\n",
    "        obs = pd.DataFrame({'ret1': df.loc[dates]['ret1']})\n",
    "        pred = pred.set_index('forecast_date')\n",
    "        obs.index = obs.index.strftime('%Y-%m-%d')\n",
    "        # obs.index = obs.index.date\n",
    "        # pred.index = pd.to_datetime(pred.index).date\n",
    "        merged_df = pd.merge(pred, obs, left_index=True, right_index=True) \n",
    "    \n",
    "         # Add scores to the merged_df\n",
    "        for index, row in merged_df.iterrows():\n",
    "            quantile_preds = row[['q0.025','q0.25','q0.5','q0.75','q0.975']]\n",
    "            observation = row['ret1']\n",
    "            score = evaluate_horizon(quantile_preds, observation)\n",
    "            merged_df.at[index, 'score'] = score\n",
    "        # print(merged_df[['q0.025','q0.25','q0.5','q0.75','q0.975']])\n",
    "        evaluation = pd.concat([evaluation, merged_df])\n",
    "    evaluation = evaluation.sort_index()\n",
    "    return evaluation"
   ],
   "metadata": {
    "collapsed": false
   },
   "id": "9ad542f046842a66"
  },
  {
   "cell_type": "code",
   "execution_count": null,
   "outputs": [],
   "source": [
    "models = [\n",
    "    {\n",
    "        'name': 'baseline',\n",
    "        'function': baseline\n",
    "     },\n",
    "]\n"
   ],
   "metadata": {
    "collapsed": false
   },
   "id": "13fbb2ee46633091"
  },
  {
   "cell_type": "code",
   "execution_count": null,
   "outputs": [],
   "source": [
    "evaluate_models(models, df, 100, weeks=True)"
   ],
   "metadata": {
    "collapsed": false
   },
   "id": "b92eb089f837ede7"
  },
  {
   "cell_type": "code",
   "execution_count": 128,
   "outputs": [],
   "source": [
    "with open('./Model evaluations/baseline.pkl', 'wb') as f:\n",
    "    pickle.dump(models, f)\n",
    "#         \n",
    "# with open('./Model evaluations/baseline.pkl', 'rb') as f:\n",
    "#     models = pickle.load(f)"
   ],
   "metadata": {
    "collapsed": false,
    "ExecuteTime": {
     "end_time": "2023-11-18T14:56:28.379417Z",
     "start_time": "2023-11-18T14:56:28.359992Z"
    }
   },
   "id": "df953c81258d61db"
  },
  {
   "cell_type": "code",
   "execution_count": 131,
   "outputs": [
    {
     "data": {
      "text/plain": "           target horizon    q0.025     q0.25      q0.5     q0.75    q0.975  \\\n2021-12-17    DAX   1 day -2.710994 -0.485397  0.075470  0.662321  2.438222   \n2021-12-20    DAX   2 day -3.936562 -0.748017  0.162165  0.914373  3.132972   \n2021-12-21    DAX   5 day -4.759447 -0.849379  0.165364  1.226143  3.890326   \n2021-12-22    DAX   6 day -5.246158 -0.964597  0.242305  1.414134  4.574074   \n2021-12-23    DAX   7 day -5.753083 -1.093500  0.385871  1.493921  5.192237   \n...           ...     ...       ...       ...       ...       ...       ...   \n2023-11-13    DAX   1 day -3.321265 -0.551383  0.057215  0.715600  2.719772   \n2023-11-14    DAX   2 day -4.087895 -0.823250  0.072355  0.978977  3.570492   \n2023-11-15    DAX   5 day -5.259161 -0.917655  0.147247  1.209531  4.628697   \n2023-11-16    DAX   6 day -6.282629 -1.044070  0.185156  1.435721  5.367396   \n2023-11-17    DAX   7 day -6.735742 -1.091646  0.324014  1.553010  6.259934   \n\n                ret1     score  \n2021-12-17 -0.671907  1.951719  \n2021-12-20 -1.898059  5.544979  \n2021-12-21  1.354143  2.915028  \n2021-12-22  0.940890  2.378962  \n2021-12-23  1.038867  2.493972  \n...              ...       ...  \n2023-11-13  0.723434  1.617430  \n2023-11-14  1.740578  4.475457  \n2023-11-15  0.852870  2.263609  \n2023-11-16  0.243797  1.881038  \n2023-11-17  0.836129  2.484227  \n\n[492 rows x 9 columns]",
      "text/html": "<div>\n<style scoped>\n    .dataframe tbody tr th:only-of-type {\n        vertical-align: middle;\n    }\n\n    .dataframe tbody tr th {\n        vertical-align: top;\n    }\n\n    .dataframe thead th {\n        text-align: right;\n    }\n</style>\n<table border=\"1\" class=\"dataframe\">\n  <thead>\n    <tr style=\"text-align: right;\">\n      <th></th>\n      <th>target</th>\n      <th>horizon</th>\n      <th>q0.025</th>\n      <th>q0.25</th>\n      <th>q0.5</th>\n      <th>q0.75</th>\n      <th>q0.975</th>\n      <th>ret1</th>\n      <th>score</th>\n    </tr>\n  </thead>\n  <tbody>\n    <tr>\n      <th>2021-12-17</th>\n      <td>DAX</td>\n      <td>1 day</td>\n      <td>-2.710994</td>\n      <td>-0.485397</td>\n      <td>0.075470</td>\n      <td>0.662321</td>\n      <td>2.438222</td>\n      <td>-0.671907</td>\n      <td>1.951719</td>\n    </tr>\n    <tr>\n      <th>2021-12-20</th>\n      <td>DAX</td>\n      <td>2 day</td>\n      <td>-3.936562</td>\n      <td>-0.748017</td>\n      <td>0.162165</td>\n      <td>0.914373</td>\n      <td>3.132972</td>\n      <td>-1.898059</td>\n      <td>5.544979</td>\n    </tr>\n    <tr>\n      <th>2021-12-21</th>\n      <td>DAX</td>\n      <td>5 day</td>\n      <td>-4.759447</td>\n      <td>-0.849379</td>\n      <td>0.165364</td>\n      <td>1.226143</td>\n      <td>3.890326</td>\n      <td>1.354143</td>\n      <td>2.915028</td>\n    </tr>\n    <tr>\n      <th>2021-12-22</th>\n      <td>DAX</td>\n      <td>6 day</td>\n      <td>-5.246158</td>\n      <td>-0.964597</td>\n      <td>0.242305</td>\n      <td>1.414134</td>\n      <td>4.574074</td>\n      <td>0.940890</td>\n      <td>2.378962</td>\n    </tr>\n    <tr>\n      <th>2021-12-23</th>\n      <td>DAX</td>\n      <td>7 day</td>\n      <td>-5.753083</td>\n      <td>-1.093500</td>\n      <td>0.385871</td>\n      <td>1.493921</td>\n      <td>5.192237</td>\n      <td>1.038867</td>\n      <td>2.493972</td>\n    </tr>\n    <tr>\n      <th>...</th>\n      <td>...</td>\n      <td>...</td>\n      <td>...</td>\n      <td>...</td>\n      <td>...</td>\n      <td>...</td>\n      <td>...</td>\n      <td>...</td>\n      <td>...</td>\n    </tr>\n    <tr>\n      <th>2023-11-13</th>\n      <td>DAX</td>\n      <td>1 day</td>\n      <td>-3.321265</td>\n      <td>-0.551383</td>\n      <td>0.057215</td>\n      <td>0.715600</td>\n      <td>2.719772</td>\n      <td>0.723434</td>\n      <td>1.617430</td>\n    </tr>\n    <tr>\n      <th>2023-11-14</th>\n      <td>DAX</td>\n      <td>2 day</td>\n      <td>-4.087895</td>\n      <td>-0.823250</td>\n      <td>0.072355</td>\n      <td>0.978977</td>\n      <td>3.570492</td>\n      <td>1.740578</td>\n      <td>4.475457</td>\n    </tr>\n    <tr>\n      <th>2023-11-15</th>\n      <td>DAX</td>\n      <td>5 day</td>\n      <td>-5.259161</td>\n      <td>-0.917655</td>\n      <td>0.147247</td>\n      <td>1.209531</td>\n      <td>4.628697</td>\n      <td>0.852870</td>\n      <td>2.263609</td>\n    </tr>\n    <tr>\n      <th>2023-11-16</th>\n      <td>DAX</td>\n      <td>6 day</td>\n      <td>-6.282629</td>\n      <td>-1.044070</td>\n      <td>0.185156</td>\n      <td>1.435721</td>\n      <td>5.367396</td>\n      <td>0.243797</td>\n      <td>1.881038</td>\n    </tr>\n    <tr>\n      <th>2023-11-17</th>\n      <td>DAX</td>\n      <td>7 day</td>\n      <td>-6.735742</td>\n      <td>-1.091646</td>\n      <td>0.324014</td>\n      <td>1.553010</td>\n      <td>6.259934</td>\n      <td>0.836129</td>\n      <td>2.484227</td>\n    </tr>\n  </tbody>\n</table>\n<p>492 rows × 9 columns</p>\n</div>"
     },
     "execution_count": 131,
     "metadata": {},
     "output_type": "execute_result"
    }
   ],
   "source": [
    "models[0]['evaluation']"
   ],
   "metadata": {
    "collapsed": false,
    "ExecuteTime": {
     "end_time": "2023-11-18T14:57:44.646060Z",
     "start_time": "2023-11-18T14:57:44.638629Z"
    }
   },
   "id": "ed1b61a6549ba0d1"
  },
  {
   "cell_type": "code",
   "execution_count": 173,
   "outputs": [],
   "source": [
    "horizons = [str(i) + \" day\" for i in (1, 2, 5, 6, 7)]\n",
    "scores = []\n",
    "names = []\n",
    "for m in models:\n",
    "    scores_m = m['evaluation'].loc[:,('horizon','score')]\n",
    "    scores.append(scores_m)\n",
    "\n",
    "\n",
    "score_df = pd.concat(scores, axis=1)\n"
   ],
   "metadata": {
    "collapsed": false,
    "ExecuteTime": {
     "end_time": "2023-11-18T15:14:02.649535Z",
     "start_time": "2023-11-18T15:14:02.643575Z"
    }
   },
   "id": "1ed8a405ad11008d"
  },
  {
   "cell_type": "markdown",
   "source": [],
   "metadata": {
    "collapsed": false
   },
   "id": "1b6f9b4ca9dc47f8"
  },
  {
   "cell_type": "code",
   "execution_count": 174,
   "outputs": [
    {
     "data": {
      "text/plain": "           horizon     score\n2021-12-17   1 day  1.951719\n2021-12-20   2 day  5.544979\n2021-12-21   5 day  2.915028\n2021-12-22   6 day  2.378962\n2021-12-23   7 day  2.493972\n...            ...       ...\n2023-11-13   1 day  1.617430\n2023-11-14   2 day  4.475457\n2023-11-15   5 day  2.263609\n2023-11-16   6 day  1.881038\n2023-11-17   7 day  2.484227\n\n[492 rows x 2 columns]",
      "text/html": "<div>\n<style scoped>\n    .dataframe tbody tr th:only-of-type {\n        vertical-align: middle;\n    }\n\n    .dataframe tbody tr th {\n        vertical-align: top;\n    }\n\n    .dataframe thead th {\n        text-align: right;\n    }\n</style>\n<table border=\"1\" class=\"dataframe\">\n  <thead>\n    <tr style=\"text-align: right;\">\n      <th></th>\n      <th>horizon</th>\n      <th>score</th>\n    </tr>\n  </thead>\n  <tbody>\n    <tr>\n      <th>2021-12-17</th>\n      <td>1 day</td>\n      <td>1.951719</td>\n    </tr>\n    <tr>\n      <th>2021-12-20</th>\n      <td>2 day</td>\n      <td>5.544979</td>\n    </tr>\n    <tr>\n      <th>2021-12-21</th>\n      <td>5 day</td>\n      <td>2.915028</td>\n    </tr>\n    <tr>\n      <th>2021-12-22</th>\n      <td>6 day</td>\n      <td>2.378962</td>\n    </tr>\n    <tr>\n      <th>2021-12-23</th>\n      <td>7 day</td>\n      <td>2.493972</td>\n    </tr>\n    <tr>\n      <th>...</th>\n      <td>...</td>\n      <td>...</td>\n    </tr>\n    <tr>\n      <th>2023-11-13</th>\n      <td>1 day</td>\n      <td>1.617430</td>\n    </tr>\n    <tr>\n      <th>2023-11-14</th>\n      <td>2 day</td>\n      <td>4.475457</td>\n    </tr>\n    <tr>\n      <th>2023-11-15</th>\n      <td>5 day</td>\n      <td>2.263609</td>\n    </tr>\n    <tr>\n      <th>2023-11-16</th>\n      <td>6 day</td>\n      <td>1.881038</td>\n    </tr>\n    <tr>\n      <th>2023-11-17</th>\n      <td>7 day</td>\n      <td>2.484227</td>\n    </tr>\n  </tbody>\n</table>\n<p>492 rows × 2 columns</p>\n</div>"
     },
     "execution_count": 174,
     "metadata": {},
     "output_type": "execute_result"
    }
   ],
   "source": [
    "score_df"
   ],
   "metadata": {
    "collapsed": false,
    "ExecuteTime": {
     "end_time": "2023-11-18T15:14:03.748331Z",
     "start_time": "2023-11-18T15:14:03.743146Z"
    }
   },
   "id": "63db63d24be5d7b4"
  },
  {
   "cell_type": "code",
   "execution_count": 178,
   "outputs": [
    {
     "data": {
      "text/plain": "<Figure size 640x480 with 1 Axes>",
      "image/png": "[encoded data removed]"
     },
     "metadata": {},
     "output_type": "display_data"
    }
   ],
   "source": [
    "sns.kdeplot(data=score_df.loc[:,['score']], fill=True)\n",
    "\n",
    "# Adding labels and title\n",
    "plt.xlabel('Score')\n",
    "plt.ylabel('Density')\n",
    "plt.title('Density Plot of Scores')\n",
    "\n",
    "# Display the plot\n",
    "plt.show()"
   ],
   "metadata": {
    "collapsed": false,
    "ExecuteTime": {
     "end_time": "2023-11-18T15:14:42.273622Z",
     "start_time": "2023-11-18T15:14:42.073140Z"
    }
   },
   "id": "1d905b9d9c682ee4"
  },
  {
   "cell_type": "code",
   "execution_count": null,
   "outputs": [],
   "source": [],
   "metadata": {
    "collapsed": false
   },
   "id": "fb132cbf91343528"
  }
 ],
 "metadata": {
  "kernelspec": {
   "display_name": "Python 3",
   "language": "python",
   "name": "python3"
  },
  "language_info": {
   "codemirror_mode": {
    "name": "ipython",
    "version": 2
   },
   "file_extension": ".py",
   "mimetype": "text/x-python",
   "name": "python",
   "nbconvert_exporter": "python",
   "pygments_lexer": "ipython2",
   "version": "2.7.6"
  }
 },
 "nbformat": 4,
 "nbformat_minor": 5
}
