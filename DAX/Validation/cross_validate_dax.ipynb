{
 "cells": [
  {
   "cell_type": "code",
   "execution_count": null,
   "id": "initial_id",
   "metadata": {
    "collapsed": true
   },
   "outputs": [],
   "source": [
    "from HelpFunctions.date_and_time import most_recent_thursday, split_time\n",
    "from DAX.HelpFunctions.get_dax_data import get_dax_data\n",
    "from datetime import timedelta\n",
    "from HelpFunctions.calc_score import evaluate_horizon\n",
    "from HelpFunctions.mix_models import mix_models\n",
    "import pandas as pd\n",
    "from DAX.Models.baseline import baseline\n",
    "import pickle\n",
    "import seaborn as sns\n",
    "import matplotlib.pyplot as plt\n",
    "# import importlib\n",
    "# importlib.reload(Energy.Models)"
   ]
  },
  {
   "cell_type": "code",
   "execution_count": null,
   "outputs": [],
   "source": [
    "df = get_dax_data()"
   ],
   "metadata": {
    "collapsed": false
   },
   "id": "4540cd020c8925b2"
  },
  {
   "cell_type": "code",
   "execution_count": null,
   "outputs": [],
   "source": [
    "# We have to start with the tuesday data\n",
    "start_date_excl = most_recent_thursday(df) - timedelta(days=1)\n",
    "df_cval = df.loc[df.index < start_date_excl]\n",
    "df_cval.index = df_cval.index.date"
   ],
   "metadata": {
    "collapsed": false
   },
   "id": "5a2d4f5c5f31fd76"
  },
  {
   "cell_type": "code",
   "execution_count": null,
   "outputs": [],
   "source": [
    "df_cval.tail()"
   ],
   "metadata": {
    "collapsed": false
   },
   "id": "c6b11a2aa69c0249"
  },
  {
   "cell_type": "code",
   "execution_count": null,
   "outputs": [],
   "source": [
    "def evaluate_models(models, df, last_x, years =False, months=False, weeks=False):\n",
    "    # Check that exactly one of the boolean parameters is True\n",
    "    if sum([years, months, weeks]) != 1:\n",
    "        raise ValueError(\"Exactly one of the boolean parameters (years, months, weeks) must be True.\")\n",
    "    \n",
    "    years = int(years)\n",
    "    months = int(months)\n",
    "    weeks = int(weeks)\n",
    "        \n",
    "    for m in models:\n",
    "        print(f'*********** Start the evaluation of Model {m[\"name\"]} ***********')\n",
    "        m['evaluation'] = evaluate_model(m, df, last_x, years, months, weeks)\n",
    "        \n",
    "def evaluate_model(model, df, last_x, years, months, weeks):\n",
    "    df_before = df\n",
    "    evaluation = pd.DataFrame()\n",
    "    \n",
    "    for w in range(last_x):\n",
    "        print(f'Iteration {w+1} of {last_x}')\n",
    "        df_before, df_after = split_time(df_before, num_years=years, num_months=months, num_weeks=weeks)\n",
    "        \n",
    "        pred = None\n",
    "        # Is mixed model?\n",
    "        if callable(model['function']):\n",
    "            pred = model['function'](df_before)\n",
    "        else: \n",
    "            pred = mix_models(model['function'][0], model['function'][1], df_before, target='DAX')\n",
    "        # Makes sure we try to find observations for dates that have an observation (e.g. 05-01 is missing)\n",
    "        dates = [[horizon+1, d] for horizon,d in enumerate(pred['forecast_date']) if d in df.index]\n",
    "        pred = pred.set_index('forecast_date')\n",
    "\n",
    "        \n",
    "        # Add observations to pred\n",
    "        pred['observation'] = ''\n",
    "        pred['score'] = ''\n",
    "        for h,d in dates:\n",
    "            # Look up the right observation for date d\n",
    "            o = df.loc[d][f'ret{h}']\n",
    "            pred.loc[d,'observation'] = o\n",
    "    \n",
    "        # Add scores to pred\n",
    "        for index, row in pred.iterrows():\n",
    "            quantile_preds = row[['q0.025','q0.25','q0.5','q0.75','q0.975']]\n",
    "            observation = row['observation']\n",
    "            \n",
    "            score = evaluate_horizon(quantile_preds, observation)\n",
    "            \n",
    "            pred.at[index, 'score'] = score\n",
    "            \n",
    "        evaluation = pd.concat([evaluation, pred])\n",
    "    evaluation = evaluation.sort_index()\n",
    "    \n",
    "    return evaluation"
   ],
   "metadata": {
    "collapsed": false
   },
   "id": "9ad542f046842a66"
  },
  {
   "cell_type": "code",
   "execution_count": null,
   "outputs": [],
   "source": [
    "from DAX.Models import arma_garch_11 as ag\n",
    "import importlib\n",
    "importlib.reload(ag)\n",
    "\n",
    "models = [\n",
    "    {\n",
    "        'name': 'garch11_norm_1y',\n",
    "        'function': ag.garch11_norm_1y\n",
    "    },\n",
    "    {\n",
    "        'name': 'garch11_norm_2y',\n",
    "        'function': ag.garch11_norm_2y\n",
    "    },\n",
    "    {\n",
    "        'name': 'garch11_norm_5y',\n",
    "        'function': ag.garch11_norm_5y\n",
    "    },\n",
    "]\n"
   ],
   "metadata": {
    "collapsed": false
   },
   "id": "13fbb2ee46633091"
  },
  {
   "cell_type": "code",
   "execution_count": null,
   "outputs": [],
   "source": [
    "evaluate_models(models, df, 50, weeks=True)"
   ],
   "metadata": {
    "collapsed": false
   },
   "id": "b92eb089f837ede7"
  },
  {
   "cell_type": "code",
   "execution_count": null,
   "outputs": [],
   "source": [
    "# with open('./Model evaluations/ARMAGARCH11.pkl', 'wb') as f:\n",
    "#     pickle.dump(models, f)\n",
    "#         \n",
    "# with open('./Model evaluations/baseline.pkl', 'rb') as f:\n",
    "#     models = pickle.load(f)"
   ],
   "metadata": {
    "collapsed": false
   },
   "id": "df953c81258d61db"
  },
  {
   "cell_type": "code",
   "execution_count": null,
   "outputs": [],
   "source": [
    "horizons = [str(i) + \" day\" for i in (1, 2, 5, 6, 7)]\n",
    "scores = []\n",
    "names = []\n",
    "for h in horizons:\n",
    "    for m in models:\n",
    "        col_name = f'{m[\"name\"]}: {h}'\n",
    "        scores.append(m['evaluation']['score'][m['evaluation']['horizon'] == h])\n",
    "        names.append(col_name)\n",
    "\n",
    "score_df = pd.concat(scores, axis=1,keys=names)\n",
    "score_df = score_df.sort_index()"
   ],
   "metadata": {
    "collapsed": false
   },
   "id": "95ef8d4c446f49f8"
  },
  {
   "cell_type": "code",
   "execution_count": null,
   "outputs": [],
   "source": [
    "score_df"
   ],
   "metadata": {
    "collapsed": false
   },
   "id": "3ae09706fee0c635"
  },
  {
   "cell_type": "markdown",
   "source": [
    "# Plot obtained scores"
   ],
   "metadata": {
    "collapsed": false
   },
   "id": "c7f8c723a18b38d6"
  },
  {
   "cell_type": "code",
   "execution_count": null,
   "outputs": [],
   "source": [
    "# models_display = ['baseline','garch11_t', 'arma_garch_11', 'baseline_armagarch11']\n",
    "models_display = ['garch11_norm_1y', 'garch11_norm_2y', 'garch11_norm_5y']\n",
    "# models_display = ['baseline', 'model4_sunhours', 'model4_holidays_2', 'model4', 'model4_population']\n",
    "for h in [str(i) + \" day\" for i in (1, 2, 5, 6, 7)]:\n",
    "    # sns.kdeplot(data=score_df.loc[:,[f'baseline: {h}',f'model3: {h}',f'MM_baseline_model3: {h}']], fill=True)\n",
    "    sns.kdeplot(data=score_df.loc[:,[f'{m}: {h}' for m in models_display]], fill=True)\n",
    "    \n",
    "    # Adding labels and title\n",
    "    plt.xlabel('Score')\n",
    "    plt.ylabel('Density')\n",
    "    plt.title(f'Density Plot of Scores: {h} horizon')\n",
    "    \n",
    "    # Display the plot\n",
    "    plt.savefig(f'../Plots/density_plot_{h.replace(\" \", \"_\")}.png')\n",
    "    plt.show()"
   ],
   "metadata": {
    "collapsed": false
   },
   "id": "eef46f59e0df2405"
  },
  {
   "cell_type": "code",
   "execution_count": null,
   "outputs": [],
   "source": [
    "import statistics\n",
    "horizon = '1 day'\n",
    "score_df.loc[:,[f'{m}: {h}' for m in models_display]]\n",
    "for i,m in enumerate([statistics.mean(score_df.loc[:,f'{m}: {horizon}'].dropna()) for m in models_display]):\n",
    "    print(f'{models_display[i]} mean score in the past 50 weeks: {m}')"
   ],
   "metadata": {
    "collapsed": false
   },
   "id": "4a1fb024b1009519"
  },
  {
   "cell_type": "code",
   "execution_count": null,
   "outputs": [],
   "source": [
    "for h in [str(i) + \" day\" for i in (1, 2, 5, 6, 7)]:\n",
    "    score_df_36_no_na = score_df[score_df[f'{models_display[0]}: {h}'].notna()]\n",
    "    for c in [f'{m}: {h}' for m in models_display]:\n",
    "        plt.plot(score_df_36_no_na.index, score_df_36_no_na[c], label=c)\n",
    "\n",
    "    plt.xlabel('time')\n",
    "    plt.ylabel('score')\n",
    "    plt.title(f'Comparison of scores over time: {h}')\n",
    "    # plt.ylim(0,50)\n",
    "    \n",
    "    # Display legend\n",
    "    plt.legend()\n",
    "    plt.xticks(rotation=45)\n",
    "    plt.savefig(f'../Plots/line_plot_{h.replace(\" \", \"_\")}.png')\n",
    "\n",
    "    # Show the plot\n",
    "    plt.show()"
   ],
   "metadata": {
    "collapsed": false
   },
   "id": "d9e2680ed6f75645"
  },
  {
   "cell_type": "code",
   "execution_count": null,
   "outputs": [],
   "source": [
    "\n",
    "\n",
    "import matplotlib.pyplot as plt\n",
    "\n",
    "def plot_evaluation(evaluation_data):\n",
    "    # Assuming your DataFrame is named df\n",
    "    numeric_columns = evaluation_data.select_dtypes(include='number')\n",
    "    \n",
    "    # Plotting\n",
    "    plt.figure(figsize=(12, 8))\n",
    "    for column in numeric_columns.columns:\n",
    "        plt.plot(evaluation_data.index, evaluation_data[column], label=column)\n",
    "    plt.plot(evaluation_data.index, evaluation_data['observation'], label = 'observation')\n",
    "    \n",
    "    # Adding labels and legend\n",
    "    plt.xlabel('Forecast Date')\n",
    "    plt.ylabel('Values')\n",
    "    plt.title('Visualization of forecast and observation')\n",
    "    plt.legend()\n",
    "    plt.grid(True)\n",
    "    plt.xticks(rotation=45)\n",
    "    plt.savefig(f'../plots/evaluation_overview.png')\n",
    "    plt.show()\n",
    "\n"
   ],
   "metadata": {
    "collapsed": false
   },
   "id": "33168e8e697172da"
  },
  {
   "cell_type": "code",
   "execution_count": null,
   "outputs": [],
   "source": [
    "model_index = 1\n",
    "plot_evaluation(models[model_index]['evaluation'][models[model_index]['evaluation']['horizon'] == '5 day'].dropna())"
   ],
   "metadata": {
    "collapsed": false
   },
   "id": "d3f295f0882d6534"
  },
  {
   "cell_type": "code",
   "execution_count": null,
   "outputs": [],
   "source": [
    "models[0]['evaluation']"
   ],
   "metadata": {
    "collapsed": false
   },
   "id": "82eecd88029a3dc"
  },
  {
   "cell_type": "code",
   "execution_count": null,
   "outputs": [],
   "source": [],
   "metadata": {
    "collapsed": false
   },
   "id": "c39b0fc8e7a761db"
  }
 ],
 "metadata": {
  "kernelspec": {
   "display_name": "Python 3",
   "language": "python",
   "name": "python3"
  },
  "language_info": {
   "codemirror_mode": {
    "name": "ipython",
    "version": 2
   },
   "file_extension": ".py",
   "mimetype": "text/x-python",
   "name": "python",
   "nbconvert_exporter": "python",
   "pygments_lexer": "ipython2",
   "version": "2.7.6"
  }
 },
 "nbformat": 4,
 "nbformat_minor": 5
}
