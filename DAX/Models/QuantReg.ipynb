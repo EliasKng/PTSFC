{
 "cells": [
  {
   "cell_type": "code",
   "execution_count": 6,
   "outputs": [],
   "source": [
    "import pandas as pd\n",
    "from datetime import timedelta\n",
    "from DAX.HelpFunctions.get_dax_data import get_dax_data\n",
    "import numpy as np\n",
    "from HelpFunctions.date_and_time import most_recent_thursday\n",
    "from HelpFunctions.date_and_time import next_working_days\n",
    "import statsmodels.api as sm\n",
    "pd.set_option('display.width', 400)"
   ],
   "metadata": {
    "collapsed": false,
    "ExecuteTime": {
     "end_time": "2024-02-06T14:30:23.296477Z",
     "start_time": "2024-02-06T14:30:23.288973Z"
    }
   },
   "id": "2ed4acf4a94c94e7"
  },
  {
   "cell_type": "code",
   "execution_count": 2,
   "outputs": [
    {
     "name": "stdout",
     "output_type": "stream",
     "text": [
      "0     5\n",
      "1     4\n",
      "2     5\n",
      "3     3\n",
      "4     4\n",
      "5     5\n",
      "6     4\n",
      "7     5\n",
      "8     3\n",
      "9     4\n",
      "10    5\n",
      "11    3\n",
      "Name: Category, dtype: int64\n",
      "Empty DataFrame\n",
      "Columns: [Category, Value]\n",
      "Index: []\n"
     ]
    }
   ],
   "source": [
    "import pandas as pd\n",
    "\n",
    "# Example DataFrame\n",
    "data = {'Category': ['A', 'B', 'A', 'C', 'B', 'A', 'B', 'A', 'C', 'B', 'A', 'C'],\n",
    "        'Value': [1, 2, 3, 4, 5, 6, 7, 8, 9, 10, 11, 12]}\n",
    "df = pd.DataFrame(data)\n",
    "\n",
    "# Group by 'Category' and filter entries with a count > 5\n",
    "print(df.groupby('Category')['Category'].transform('count'))\n",
    "grouped = df.groupby('Category')['Category'].transform('count')\n",
    "mask = grouped > 5\n",
    "filtered_df = df[mask]\n",
    "\n",
    "print(filtered_df)\n"
   ],
   "metadata": {
    "collapsed": false,
    "ExecuteTime": {
     "end_time": "2024-03-10T14:11:32.371092Z",
     "start_time": "2024-03-10T14:11:32.365922Z"
    }
   },
   "id": "89b9cd202db5cf85"
  },
  {
   "cell_type": "code",
   "execution_count": 7,
   "outputs": [],
   "source": [
    "df = get_dax_data()\n",
    "df = df[['ret1', 'ret2', 'ret3', 'ret4', 'ret5']]\n",
    "df = df.dropna()"
   ],
   "metadata": {
    "collapsed": false,
    "ExecuteTime": {
     "end_time": "2024-02-06T14:30:24.314929Z",
     "start_time": "2024-02-06T14:30:24.028768Z"
    }
   },
   "id": "initial_id"
  },
  {
   "cell_type": "code",
   "execution_count": 8,
   "outputs": [],
   "source": [
    "start_date_excl = most_recent_thursday(df) - timedelta(days=1)\n",
    "df = df.loc[df.index < start_date_excl]\n",
    "df.index = df.index.date"
   ],
   "metadata": {
    "collapsed": false,
    "ExecuteTime": {
     "end_time": "2024-02-06T14:30:24.322752Z",
     "start_time": "2024-02-06T14:30:24.315900Z"
    }
   },
   "id": "2581cc07798bc647"
  },
  {
   "cell_type": "code",
   "execution_count": 9,
   "outputs": [],
   "source": [
    "def rolling_ret_volatility(ret, days=5):\n",
    "    volatility_measure = []\n",
    "    for i in range(len(ret)):\n",
    "        start_index = max(0, i-days+1)\n",
    "        end_index = i + 1\n",
    "        \n",
    "        vol = ret.iloc[start_index:end_index].abs().sum()\n",
    "        \n",
    "        volatility_measure.append(vol)\n",
    "    return volatility_measure\n",
    "\n",
    "\n",
    "def quant_reg(df):    \n",
    "    df = df.dropna()\n",
    "    df = df[-1000:]\n",
    "    df['volatility'] = rolling_ret_volatility(df['ret1'])\n",
    "    \n",
    "    horizons = np.arange(1,6)\n",
    "    \n",
    "    forecasts = []\n",
    "    for horizon in horizons:\n",
    "        ret = df[f'ret{horizon}']\n",
    "        vol = df['volatility']\n",
    "        forecasts.append(_quant_reg_one_horizon(ret, vol, horizon))\n",
    "    forecasts = pd.concat(forecasts)\n",
    "    print(forecasts)\n",
    "        \n",
    "    \n",
    "\n",
    "\n",
    "def _quant_reg_one_horizon(ret, vol, horizon):\n",
    "    df = pd.DataFrame()\n",
    "    df['ret'] = ret\n",
    "    df['volatility'] = vol    \n",
    "    \n",
    "    y = df['ret']\n",
    "    X = df.drop(columns=['ret'])\n",
    "    X = sm.add_constant(X)\n",
    "    \n",
    "    last_ts = df.index[-1]\n",
    "    fc_date = next_working_days(last_ts, num_days=5)[horizon - 1]    \n",
    "\n",
    "    forecast = pd.DataFrame({'date_time': [fc_date]})\n",
    "    forecast.set_index('date_time', inplace=True)\n",
    "    \n",
    "    \n",
    "    forecast['volatility'] = df.loc[:,'volatility'].iloc[-1]\n",
    "    \n",
    "    X_fc = forecast\n",
    "    X_fc = sm.add_constant(X_fc, has_constant='add')\n",
    "\n",
    "    quantiles = [0.025, 0.25, 0.5, 0.75, 0.975]\n",
    "    model_qr = sm.QuantReg(y, X)\n",
    "\n",
    "    for q in quantiles:\n",
    "        model_temp = model_qr.fit(q=q)\n",
    "        forecast_temp = model_temp.predict(X_fc)\n",
    "        forecast[f'q{q}'] = forecast_temp\n",
    "\n",
    "    fc_results = forecast.iloc[:,\n",
    "                          forecast.columns.get_loc('q0.025'):forecast.columns.get_loc('q0.975') + 1]\n",
    "\n",
    "    fc_results = fc_results.reset_index(drop=False)\n",
    "    fc_results = fc_results.rename(columns={\"date_time\": \"forecast_date\"})\n",
    "    fc_results['horizon'] = f'{horizon} day'\n",
    "    fc_results['target'] = \"DAX\"\n",
    "    fc_results = fc_results[\n",
    "        ['forecast_date', 'target', 'horizon', 'q0.025', 'q0.25', 'q0.5', 'q0.75', 'q0.975']]\n",
    "    \n",
    "    return fc_results\n",
    "    \n",
    "    "
   ],
   "metadata": {
    "collapsed": false,
    "ExecuteTime": {
     "end_time": "2024-02-06T14:30:24.375610Z",
     "start_time": "2024-02-06T14:30:24.372827Z"
    }
   },
   "id": "60bd980ec597a734"
  },
  {
   "cell_type": "code",
   "execution_count": 10,
   "outputs": [
    {
     "name": "stdout",
     "output_type": "stream",
     "text": [
      "  forecast_date target horizon    q0.025     q0.25      q0.5     q0.75    q0.975\n",
      "0    2024-01-31    DAX   1 day -1.192141 -0.314656  0.058116  0.450124  1.161549\n",
      "0    2024-02-01    DAX   2 day -1.461592 -0.460144  0.106265  0.672163  1.583035\n",
      "0    2024-02-02    DAX   3 day -1.624667 -0.500691  0.183071  0.849433  1.816741\n",
      "0    2024-02-05    DAX   4 day -1.881449 -0.485671  0.220067  1.002475  2.057018\n",
      "0    2024-02-06    DAX   5 day -2.276466 -0.527292  0.398386  1.231128  2.298978\n"
     ]
    }
   ],
   "source": [
    "quant_reg(df)\n",
    "# df = df.dropna()\n",
    "# _quant_reg_one_horizon(df['ret5'],0, 1)"
   ],
   "metadata": {
    "collapsed": false,
    "ExecuteTime": {
     "end_time": "2024-02-06T14:30:24.681151Z",
     "start_time": "2024-02-06T14:30:24.541139Z"
    }
   },
   "id": "521743b78960560a"
  }
 ],
 "metadata": {
  "kernelspec": {
   "display_name": "Python 3",
   "language": "python",
   "name": "python3"
  },
  "language_info": {
   "codemirror_mode": {
    "name": "ipython",
    "version": 2
   },
   "file_extension": ".py",
   "mimetype": "text/x-python",
   "name": "python",
   "nbconvert_exporter": "python",
   "pygments_lexer": "ipython2",
   "version": "2.7.6"
  }
 },
 "nbformat": 4,
 "nbformat_minor": 5
}
