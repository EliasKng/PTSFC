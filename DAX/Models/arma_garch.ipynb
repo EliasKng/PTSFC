{
 "cells": [
  {
   "cell_type": "code",
   "execution_count": null,
   "id": "initial_id",
   "metadata": {
    "collapsed": true
   },
   "outputs": [],
   "source": [
    "import numpy as np\n",
    "import rpy2\n",
    "import rpy2.robjects as ro\n",
    "import rpy2.robjects.pandas2ri as pandas2ri\n",
    "from rpy2.robjects.conversion import localconverter\n",
    "\n",
    "import rpy2.robjects.packages as rpackages\n",
    "import rpy2.robjects as robjects\n",
    "\n",
    "import rpy2.robjects.numpy2ri"
   ]
  },
  {
   "cell_type": "code",
   "execution_count": null,
   "outputs": [],
   "source": [
    "from DAX.HelpFunctions.get_dax_data import get_dax_data\n",
    "\n",
    "df = get_dax_data()"
   ],
   "metadata": {
    "collapsed": false
   },
   "id": "4115f4051ff94b58"
  },
  {
   "cell_type": "code",
   "execution_count": null,
   "outputs": [],
   "source": [
    "y = df['ret1'].dropna().to_numpy()\n",
    "y"
   ],
   "metadata": {
    "collapsed": false
   },
   "id": "c4bbf44e4c0f3735"
  },
  {
   "cell_type": "markdown",
   "source": [
    "# Setup Arma Garch 1,1"
   ],
   "metadata": {
    "collapsed": false
   },
   "id": "c141bfb8bb19c830"
  },
  {
   "cell_type": "code",
   "execution_count": null,
   "outputs": [],
   "source": [
    "rpy2.robjects.numpy2ri.activate()\n",
    "\n",
    "rugarch = rpackages.importr('rugarch')\n",
    "\n",
    "#GARCH(1,1)\n",
    "variance_model = robjects.ListVector({'model': \"sGARCH\",\n",
    "                                      'garchOrder': robjects.IntVector([1, 1])})\n",
    "\n",
    "#ARMA(1,1)\n",
    "mean_model = robjects.ListVector({'armaOrder': robjects.IntVector([1, 1]),\n",
    "                                  'include.mean': True})\n",
    "\n",
    "\n",
    "#defines the DoF for the t-Dist\n",
    "params= robjects.ListVector({'shape': 3})\n",
    "\n",
    "\n",
    "model = rugarch.ugarchspec(variance_model=variance_model,\n",
    "                           mean_model=mean_model,\n",
    "                           distribution_model=\"std\", # \"std\" -> student t, \"norm\" -> normal\n",
    "                           fixed_pars=params)\n",
    "\n",
    "\n",
    "#In the following, I'm assuming that your timeseries is in a numpy array called \"y\"\n",
    "modelfit = rugarch.ugarchfit(spec=model,\n",
    "                             data=y,\n",
    "                             solver='hybrid',\n",
    "                             tol=1e-3)\n",
    "\n",
    "#historic mu and sigma\n",
    "sigma_hist = np.asarray(rugarch.sigma(modelfit))\n",
    "mu_hist = np.asarray(rugarch.fitted(modelfit))\n",
    "\n",
    "#1-day ahead forecast mu and sigma\n",
    "forecast = rugarch.ugarchforecast(modelfit)\n",
    "sigma = np.asarray(rugarch.sigma(forecast))[0]\n",
    "mu = np.asarray(rugarch.fitted(forecast))[0]"
   ],
   "metadata": {
    "collapsed": false
   },
   "id": "b06987bded336758"
  },
  {
   "cell_type": "code",
   "execution_count": null,
   "outputs": [],
   "source": [],
   "metadata": {
    "collapsed": false
   },
   "id": "e6737977d8038455"
  },
  {
   "cell_type": "code",
   "execution_count": 33,
   "outputs": [
    {
     "data": {
      "text/plain": "  forecast_date target horizon    q0.025     q0.25      q0.5     q0.75  \\\n0    2023-12-13    DAX   1 day -3.180269 -0.720820  0.057328  0.835475   \n1    2023-12-14    DAX   2 day -3.184259 -0.631431  0.176261  0.983952   \n2    2023-12-15    DAX   5 day -4.094467 -0.704449  0.368123  1.440694   \n3    2023-12-18    DAX   6 day -4.708343 -0.866121  0.349523  1.565167   \n4    2023-12-19    DAX   7 day -4.514567 -0.622331  0.609138  1.840606   \n\n     q0.975  \n0  3.294924  \n1  3.536780  \n2  4.830712  \n3  5.407389  \n4  5.732843  ",
      "text/html": "<div>\n<style scoped>\n    .dataframe tbody tr th:only-of-type {\n        vertical-align: middle;\n    }\n\n    .dataframe tbody tr th {\n        vertical-align: top;\n    }\n\n    .dataframe thead th {\n        text-align: right;\n    }\n</style>\n<table border=\"1\" class=\"dataframe\">\n  <thead>\n    <tr style=\"text-align: right;\">\n      <th></th>\n      <th>forecast_date</th>\n      <th>target</th>\n      <th>horizon</th>\n      <th>q0.025</th>\n      <th>q0.25</th>\n      <th>q0.5</th>\n      <th>q0.75</th>\n      <th>q0.975</th>\n    </tr>\n  </thead>\n  <tbody>\n    <tr>\n      <th>0</th>\n      <td>2023-12-13</td>\n      <td>DAX</td>\n      <td>1 day</td>\n      <td>-3.180269</td>\n      <td>-0.720820</td>\n      <td>0.057328</td>\n      <td>0.835475</td>\n      <td>3.294924</td>\n    </tr>\n    <tr>\n      <th>1</th>\n      <td>2023-12-14</td>\n      <td>DAX</td>\n      <td>2 day</td>\n      <td>-3.184259</td>\n      <td>-0.631431</td>\n      <td>0.176261</td>\n      <td>0.983952</td>\n      <td>3.536780</td>\n    </tr>\n    <tr>\n      <th>2</th>\n      <td>2023-12-15</td>\n      <td>DAX</td>\n      <td>5 day</td>\n      <td>-4.094467</td>\n      <td>-0.704449</td>\n      <td>0.368123</td>\n      <td>1.440694</td>\n      <td>4.830712</td>\n    </tr>\n    <tr>\n      <th>3</th>\n      <td>2023-12-18</td>\n      <td>DAX</td>\n      <td>6 day</td>\n      <td>-4.708343</td>\n      <td>-0.866121</td>\n      <td>0.349523</td>\n      <td>1.565167</td>\n      <td>5.407389</td>\n    </tr>\n    <tr>\n      <th>4</th>\n      <td>2023-12-19</td>\n      <td>DAX</td>\n      <td>7 day</td>\n      <td>-4.514567</td>\n      <td>-0.622331</td>\n      <td>0.609138</td>\n      <td>1.840606</td>\n      <td>5.732843</td>\n    </tr>\n  </tbody>\n</table>\n</div>"
     },
     "execution_count": 33,
     "metadata": {},
     "output_type": "execute_result"
    }
   ],
   "source": [
    "from DAX.Models import arma_garch_11 as ag11\n",
    "import numpy as np\n",
    "from DAX.HelpFunctions.get_dax_data import get_dax_data\n",
    "\n",
    "import importlib\n",
    "importlib.reload(ag11)\n",
    "\n",
    "df = get_dax_data()\n",
    "ag11.arma_garch_11(df)"
   ],
   "metadata": {
    "collapsed": false,
    "ExecuteTime": {
     "end_time": "2023-12-12T14:10:44.947795Z",
     "start_time": "2023-12-12T14:10:39.417409Z"
    }
   },
   "id": "d91ec0eaa284e8ce"
  },
  {
   "cell_type": "code",
   "execution_count": null,
   "outputs": [],
   "source": [
    "df.tail(10)"
   ],
   "metadata": {
    "collapsed": false
   },
   "id": "c09d757e91534058"
  },
  {
   "cell_type": "code",
   "execution_count": null,
   "outputs": [],
   "source": [],
   "metadata": {
    "collapsed": false
   },
   "id": "6655ffac9d9569f8"
  }
 ],
 "metadata": {
  "kernelspec": {
   "display_name": "Python 3",
   "language": "python",
   "name": "python3"
  },
  "language_info": {
   "codemirror_mode": {
    "name": "ipython",
    "version": 2
   },
   "file_extension": ".py",
   "mimetype": "text/x-python",
   "name": "python",
   "nbconvert_exporter": "python",
   "pygments_lexer": "ipython2",
   "version": "2.7.6"
  }
 },
 "nbformat": 4,
 "nbformat_minor": 5
}
