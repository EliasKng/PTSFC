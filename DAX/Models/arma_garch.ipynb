{
 "cells": [
  {
   "cell_type": "code",
   "execution_count": null,
   "id": "initial_id",
   "metadata": {
    "collapsed": true
   },
   "outputs": [],
   "source": [
    "import numpy as np\n",
    "import rpy2\n",
    "import rpy2.robjects as ro\n",
    "import rpy2.robjects.pandas2ri as pandas2ri\n",
    "from rpy2.robjects.conversion import localconverter\n",
    "\n",
    "import rpy2.robjects.packages as rpackages\n",
    "import rpy2.robjects as robjects\n",
    "\n",
    "import rpy2.robjects.numpy2ri"
   ]
  },
  {
   "cell_type": "code",
   "execution_count": null,
   "outputs": [],
   "source": [
    "from DAX.HelpFunctions.get_dax_data import get_dax_data\n",
    "\n",
    "df = get_dax_data()"
   ],
   "metadata": {
    "collapsed": false
   },
   "id": "4115f4051ff94b58"
  },
  {
   "cell_type": "code",
   "execution_count": null,
   "outputs": [],
   "source": [
    "y = df['ret1'].dropna().to_numpy()\n",
    "y"
   ],
   "metadata": {
    "collapsed": false
   },
   "id": "c4bbf44e4c0f3735"
  },
  {
   "cell_type": "markdown",
   "source": [
    "# Setup Arma Garch 1,1"
   ],
   "metadata": {
    "collapsed": false
   },
   "id": "c141bfb8bb19c830"
  },
  {
   "cell_type": "code",
   "execution_count": null,
   "outputs": [],
   "source": [
    "rpy2.robjects.numpy2ri.activate()\n",
    "\n",
    "rugarch = rpackages.importr('rugarch')\n",
    "\n",
    "#GARCH(1,1)\n",
    "variance_model = robjects.ListVector({'model': \"sGARCH\",\n",
    "                                      'garchOrder': robjects.IntVector([1, 1])})\n",
    "\n",
    "#ARMA(1,1)\n",
    "mean_model = robjects.ListVector({'armaOrder': robjects.IntVector([1, 1]),\n",
    "                                  'include.mean': True})\n",
    "\n",
    "\n",
    "#defines the DoF for the t-Dist\n",
    "params= robjects.ListVector({'shape': 3})\n",
    "\n",
    "\n",
    "model = rugarch.ugarchspec(variance_model=variance_model,\n",
    "                           mean_model=mean_model,\n",
    "                           distribution_model=\"std\", # \"std\" -> student t, \"norm\" -> normal\n",
    "                           fixed_pars=params)\n",
    "\n",
    "\n",
    "#In the following, I'm assuming that your timeseries is in a numpy array called \"y\"\n",
    "modelfit = rugarch.ugarchfit(spec=model,\n",
    "                             data=y,\n",
    "                             solver='hybrid',\n",
    "                             tol=1e-3)\n",
    "\n",
    "#historic mu and sigma\n",
    "sigma_hist = np.asarray(rugarch.sigma(modelfit))\n",
    "mu_hist = np.asarray(rugarch.fitted(modelfit))\n",
    "\n",
    "#1-day ahead forecast mu and sigma\n",
    "forecast = rugarch.ugarchforecast(modelfit)\n",
    "sigma = np.asarray(rugarch.sigma(forecast))[0]\n",
    "mu = np.asarray(rugarch.fitted(forecast))[0]"
   ],
   "metadata": {
    "collapsed": false
   },
   "id": "b06987bded336758"
  },
  {
   "cell_type": "code",
   "execution_count": null,
   "outputs": [],
   "source": [],
   "metadata": {
    "collapsed": false
   },
   "id": "e6737977d8038455"
  },
  {
   "cell_type": "code",
   "execution_count": null,
   "outputs": [],
   "source": [
    "from DAX.Models import arma_garch_11 as ag11\n",
    "import numpy as np\n",
    "from DAX.HelpFunctions.get_dax_data import get_dax_data\n",
    "\n",
    "import importlib\n",
    "importlib.reload(ag11)\n",
    "\n",
    "df = get_dax_data()\n",
    "print(ag11.arma_garch_11_3df(df))\n",
    "print(ag11.arma_garch_11_8df(df))"
   ],
   "metadata": {
    "collapsed": false
   },
   "id": "d91ec0eaa284e8ce"
  },
  {
   "cell_type": "code",
   "execution_count": null,
   "outputs": [],
   "source": [],
   "metadata": {
    "collapsed": false
   },
   "id": "c09d757e91534058"
  },
  {
   "cell_type": "code",
   "execution_count": null,
   "outputs": [],
   "source": [],
   "metadata": {
    "collapsed": false
   },
   "id": "6655ffac9d9569f8"
  }
 ],
 "metadata": {
  "kernelspec": {
   "display_name": "Python 3",
   "language": "python",
   "name": "python3"
  },
  "language_info": {
   "codemirror_mode": {
    "name": "ipython",
    "version": 2
   },
   "file_extension": ".py",
   "mimetype": "text/x-python",
   "name": "python",
   "nbconvert_exporter": "python",
   "pygments_lexer": "ipython2",
   "version": "2.7.6"
  }
 },
 "nbformat": 4,
 "nbformat_minor": 5
}
