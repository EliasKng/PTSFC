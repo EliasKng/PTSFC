{
 "cells": [
  {
   "cell_type": "code",
   "execution_count": 27,
   "id": "initial_id",
   "metadata": {
    "collapsed": true,
    "ExecuteTime": {
     "end_time": "2024-03-08T14:52:16.253432Z",
     "start_time": "2024-03-08T14:52:16.247258Z"
    }
   },
   "outputs": [],
   "source": [
    "import numpy as np\n",
    "import pandas as pd\n",
    "import rpy2\n",
    "import rpy2.robjects as ro\n",
    "import rpy2.robjects.pandas2ri as pandas2ri\n",
    "from rpy2.robjects.conversion import localconverter\n",
    "\n",
    "import rpy2.robjects.packages as rpackages\n",
    "import rpy2.robjects as robjects\n",
    "\n",
    "import rpy2.robjects.numpy2ri\n",
    "import pandas as pd"
   ]
  },
  {
   "cell_type": "code",
   "execution_count": 22,
   "outputs": [],
   "source": [
    "from DAX.HelpFunctions.get_dax_data import get_dax_data\n",
    "\n",
    "df = get_dax_data()"
   ],
   "metadata": {
    "collapsed": false,
    "ExecuteTime": {
     "end_time": "2024-03-08T14:48:08.965099Z",
     "start_time": "2024-03-08T14:48:08.703541Z"
    }
   },
   "id": "4115f4051ff94b58"
  },
  {
   "cell_type": "code",
   "execution_count": 23,
   "outputs": [],
   "source": [
    "y = df['ret1'].dropna().to_numpy()"
   ],
   "metadata": {
    "collapsed": false,
    "ExecuteTime": {
     "end_time": "2024-03-08T14:48:08.969663Z",
     "start_time": "2024-03-08T14:48:08.965787Z"
    }
   },
   "id": "c4bbf44e4c0f3735"
  },
  {
   "cell_type": "markdown",
   "source": [
    "# Setup Arma Garch 1,1"
   ],
   "metadata": {
    "collapsed": false
   },
   "id": "c141bfb8bb19c830"
  },
  {
   "cell_type": "code",
   "execution_count": 46,
   "outputs": [
    {
     "name": "stdout",
     "output_type": "stream",
     "text": [
      "AIC: [3.18125534]\n",
      "BIC: 3.1843685722711013\n",
      "1 : 1 : 3.1843685722711013\n",
      "AIC: [3.18197519]\n",
      "BIC: 3.1858667288736666\n",
      "1 : 2 : 3.1858667288736666\n",
      "AIC: [3.18248713]\n",
      "BIC: 3.187156969680764\n",
      "1 : 3 : 3.187156969680764\n",
      "AIC: [3.18265904]\n",
      "BIC: 3.1881071940547643\n",
      "1 : 4 : 3.1881071940547643\n",
      "AIC: [3.18281423]\n",
      "BIC: 3.1890406827796616\n",
      "1 : 5 : 3.1890406827796616\n",
      "AIC: [3.17852752]\n",
      "BIC: 3.182419054886505\n",
      "2 : 1 : 3.182419054886505\n",
      "AIC: [3.1787461]\n",
      "BIC: 3.183415941696546\n",
      "2 : 2 : 3.183415941696546\n",
      "AIC: [3.17907537]\n",
      "BIC: 3.1845235161579786\n",
      "2 : 3 : 3.1845235161579786\n",
      "AIC: [3.17956741]\n",
      "BIC: 3.1857938630780507\n",
      "2 : 4 : 3.1857938630780507\n",
      "AIC: [3.17961876]\n",
      "BIC: 3.1866235216338867\n",
      "2 : 5 : 3.1866235216338867\n",
      "AIC: [3.17706937]\n",
      "BIC: 3.181739214166251\n",
      "3 : 1 : 3.181739214166251\n",
      "AIC: [3.17665462]\n",
      "BIC: 3.182102766655603\n",
      "3 : 2 : 3.182102766655603\n",
      "AIC: [3.17594466]\n",
      "BIC: 3.1821711144363567\n",
      "3 : 3 : 3.1821711144363567\n",
      "AIC: [3.17595206]\n",
      "BIC: 3.1829568258178274\n",
      "3 : 4 : 3.1829568258178274\n",
      "AIC: [3.17596616]\n",
      "BIC: 3.183749231495095\n",
      "3 : 5 : 3.183749231495095\n",
      "AIC: [3.17743994]\n",
      "BIC: 3.1828880878983927\n",
      "4 : 1 : 3.1828880878983927\n",
      "AIC: [3.17704316]\n",
      "BIC: 3.183269615333383\n",
      "4 : 2 : 3.183269615333383\n",
      "AIC: [3.17623585]\n",
      "BIC: 3.183240609831\n",
      "4 : 3 : 3.183240609831\n",
      "AIC: [3.17614293]\n",
      "BIC: 3.1839260016971953\n",
      "4 : 4 : 3.1839260016971953\n",
      "AIC: [3.17550231]\n",
      "BIC: 3.1840636860879443\n",
      "4 : 5 : 3.1840636860879443\n",
      "AIC: [3.17789487]\n",
      "BIC: 3.1841213228878607\n",
      "5 : 1 : 3.1841213228878607\n",
      "AIC: [3.17749141]\n",
      "BIC: 3.1844961719808507\n",
      "5 : 2 : 3.1844961719808507\n",
      "AIC: [3.17672577]\n",
      "BIC: 3.184508844333391\n",
      "5 : 3 : 3.184508844333391\n",
      "AIC: [3.17648097]\n",
      "BIC: 3.1850423497003724\n",
      "5 : 4 : 3.1850423497003724\n",
      "AIC: [3.17572092]\n",
      "BIC: 3.1850606017272645\n",
      "5 : 5 : 3.1850606017272645\n"
     ]
    }
   ],
   "source": [
    "\n",
    "rpy2.robjects.numpy2ri.activate()\n",
    "\n",
    "\n",
    "rugarch = rpackages.importr('rugarch')\n",
    "\n",
    "bic_df = pd.DataFrame()\n",
    "\n",
    "for p in range(1,6):\n",
    "    for q in range(1,6):\n",
    "        # GARCH(1,1)\n",
    "        variance_model = robjects.ListVector({'model': \"sGARCH\",\n",
    "                                              'garchOrder': robjects.IntVector([p, q])})\n",
    "        # ARMA(1,1)\n",
    "        mean_model = robjects.ListVector({'armaOrder': robjects.IntVector([0,0]),\n",
    "                                          'include.mean': True})\n",
    "        \n",
    "        model = rugarch.ugarchspec(variance_model=variance_model,\n",
    "                                       mean_model=mean_model,\n",
    "                                       distribution_model=\"norm\",  # \"std\" -> student t, \"norm\" -> normal\n",
    "                                       )\n",
    "        \n",
    "        \n",
    "        # In the following, I'm assuming that your timeseries is in a numpy array called \"y\"\n",
    "        modelfit = rugarch.ugarchfit(spec=model,\n",
    "                                     data=y,\n",
    "                                     solver='hybrid',\n",
    "                                     tol=1e-3)\n",
    "        \n",
    "        info_criteria = rugarch.infocriteria(modelfit)\n",
    "        \n",
    "        # Assuming the first two elements are AIC and BIC respectively\n",
    "        aic = info_criteria[0]  # AIC\n",
    "        bic = info_criteria[1][0]  # BIC\n",
    "        \n",
    "        # Print AIC and BIC\n",
    "        print(\"AIC:\", aic)\n",
    "        print(\"BIC:\", bic)\n",
    "        print(f'{p} : {q} : {bic}')\n",
    "        bic_df.loc[p,q] = bic\n",
    "        \n",
    "        # historic mu and sigma\n",
    "        sigma_hist = np.asarray(rugarch.sigma(modelfit))\n",
    "        mu_hist = np.asarray(rugarch.fitted(modelfit))\n",
    "        \n",
    "        # 1-day ahead forecast mu and sigma\n",
    "        forecast = rugarch.ugarchforecast(modelfit)\n",
    "        sigma = np.asarray(rugarch.sigma(forecast))\n",
    "        mu = np.asarray(rugarch.fitted(forecast))"
   ],
   "metadata": {
    "collapsed": false,
    "ExecuteTime": {
     "end_time": "2024-03-08T15:21:02.262577Z",
     "start_time": "2024-03-08T15:20:46.742499Z"
    }
   },
   "id": "b06987bded336758"
  },
  {
   "cell_type": "code",
   "execution_count": 47,
   "outputs": [
    {
     "data": {
      "text/plain": "          1         2         3         4         5\n1  3.184369  3.185867  3.187157  3.188107  3.189041\n2  3.182419  3.183416  3.184524  3.185794  3.186624\n3  3.181739  3.182103  3.182171  3.182957  3.183749\n4  3.182888  3.183270  3.183241  3.183926  3.184064\n5  3.184121  3.184496  3.184509  3.185042  3.185061",
      "text/html": "<div>\n<style scoped>\n    .dataframe tbody tr th:only-of-type {\n        vertical-align: middle;\n    }\n\n    .dataframe tbody tr th {\n        vertical-align: top;\n    }\n\n    .dataframe thead th {\n        text-align: right;\n    }\n</style>\n<table border=\"1\" class=\"dataframe\">\n  <thead>\n    <tr style=\"text-align: right;\">\n      <th></th>\n      <th>1</th>\n      <th>2</th>\n      <th>3</th>\n      <th>4</th>\n      <th>5</th>\n    </tr>\n  </thead>\n  <tbody>\n    <tr>\n      <th>1</th>\n      <td>3.184369</td>\n      <td>3.185867</td>\n      <td>3.187157</td>\n      <td>3.188107</td>\n      <td>3.189041</td>\n    </tr>\n    <tr>\n      <th>2</th>\n      <td>3.182419</td>\n      <td>3.183416</td>\n      <td>3.184524</td>\n      <td>3.185794</td>\n      <td>3.186624</td>\n    </tr>\n    <tr>\n      <th>3</th>\n      <td>3.181739</td>\n      <td>3.182103</td>\n      <td>3.182171</td>\n      <td>3.182957</td>\n      <td>3.183749</td>\n    </tr>\n    <tr>\n      <th>4</th>\n      <td>3.182888</td>\n      <td>3.183270</td>\n      <td>3.183241</td>\n      <td>3.183926</td>\n      <td>3.184064</td>\n    </tr>\n    <tr>\n      <th>5</th>\n      <td>3.184121</td>\n      <td>3.184496</td>\n      <td>3.184509</td>\n      <td>3.185042</td>\n      <td>3.185061</td>\n    </tr>\n  </tbody>\n</table>\n</div>"
     },
     "execution_count": 47,
     "metadata": {},
     "output_type": "execute_result"
    }
   ],
   "source": [
    "bic_df"
   ],
   "metadata": {
    "collapsed": false,
    "ExecuteTime": {
     "end_time": "2024-03-08T15:21:10.369944Z",
     "start_time": "2024-03-08T15:21:10.363676Z"
    }
   },
   "id": "d48472ee71d69b7e"
  },
  {
   "cell_type": "code",
   "execution_count": 48,
   "outputs": [
    {
     "data": {
      "text/plain": "[3.181739214166251,\n 3.182102766655603,\n 3.1821711144363567,\n 3.182419054886505,\n 3.1828880878983927,\n 3.1829568258178274,\n 3.183240609831,\n 3.183269615333383,\n 3.183415941696546,\n 3.183749231495095,\n 3.1839260016971953,\n 3.1840636860879443,\n 3.1841213228878607,\n 3.1843685722711013,\n 3.1844961719808507,\n 3.184508844333391,\n 3.1845235161579786,\n 3.1850423497003724,\n 3.1850606017272645,\n 3.1857938630780507,\n 3.1858667288736666,\n 3.1866235216338867,\n 3.187156969680764,\n 3.1881071940547643,\n 3.1890406827796616]"
     },
     "execution_count": 48,
     "metadata": {},
     "output_type": "execute_result"
    }
   ],
   "source": [
    "sorted(np.array(bic_df).flatten())"
   ],
   "metadata": {
    "collapsed": false,
    "ExecuteTime": {
     "end_time": "2024-03-08T15:21:12.318239Z",
     "start_time": "2024-03-08T15:21:12.310742Z"
    }
   },
   "id": "e6737977d8038455"
  },
  {
   "cell_type": "code",
   "execution_count": 25,
   "outputs": [
    {
     "ename": "AttributeError",
     "evalue": "module 'DAX.Models.arma_garch_11' has no attribute 'arma_garch_11_3df'",
     "output_type": "error",
     "traceback": [
      "\u001B[0;31m---------------------------------------------------------------------------\u001B[0m",
      "\u001B[0;31mAttributeError\u001B[0m                            Traceback (most recent call last)",
      "Cell \u001B[0;32mIn[25], line 9\u001B[0m\n\u001B[1;32m      6\u001B[0m importlib\u001B[38;5;241m.\u001B[39mreload(ag11)\n\u001B[1;32m      8\u001B[0m df \u001B[38;5;241m=\u001B[39m get_dax_data()\n\u001B[0;32m----> 9\u001B[0m \u001B[38;5;28mprint\u001B[39m(\u001B[43mag11\u001B[49m\u001B[38;5;241;43m.\u001B[39;49m\u001B[43marma_garch_11_3df\u001B[49m(df))\n\u001B[1;32m     10\u001B[0m \u001B[38;5;28mprint\u001B[39m(ag11\u001B[38;5;241m.\u001B[39marma_garch_11_8df(df))\n",
      "\u001B[0;31mAttributeError\u001B[0m: module 'DAX.Models.arma_garch_11' has no attribute 'arma_garch_11_3df'"
     ]
    }
   ],
   "source": [
    "from DAX.Models import arma_garch_11 as ag11\n",
    "import numpy as np\n",
    "from DAX.HelpFunctions.get_dax_data import get_dax_data\n",
    "\n",
    "import importlib\n",
    "importlib.reload(ag11)\n",
    "\n",
    "df = get_dax_data()\n",
    "print(ag11.arma_garch_11_3df(df))\n",
    "print(ag11.arma_garch_11_8df(df))"
   ],
   "metadata": {
    "collapsed": false,
    "ExecuteTime": {
     "end_time": "2024-03-08T14:48:10.086892Z",
     "start_time": "2024-03-08T14:48:09.851005Z"
    }
   },
   "id": "d91ec0eaa284e8ce"
  },
  {
   "cell_type": "code",
   "execution_count": null,
   "outputs": [],
   "source": [],
   "metadata": {
    "collapsed": false,
    "ExecuteTime": {
     "start_time": "2024-03-08T14:48:10.088104Z"
    }
   },
   "id": "c09d757e91534058"
  },
  {
   "cell_type": "code",
   "execution_count": null,
   "outputs": [],
   "source": [],
   "metadata": {
    "collapsed": false,
    "ExecuteTime": {
     "start_time": "2024-03-08T14:48:10.089190Z"
    }
   },
   "id": "6655ffac9d9569f8"
  }
 ],
 "metadata": {
  "kernelspec": {
   "display_name": "Python 3",
   "language": "python",
   "name": "python3"
  },
  "language_info": {
   "codemirror_mode": {
    "name": "ipython",
    "version": 2
   },
   "file_extension": ".py",
   "mimetype": "text/x-python",
   "name": "python",
   "nbconvert_exporter": "python",
   "pygments_lexer": "ipython2",
   "version": "2.7.6"
  }
 },
 "nbformat": 4,
 "nbformat_minor": 5
}
