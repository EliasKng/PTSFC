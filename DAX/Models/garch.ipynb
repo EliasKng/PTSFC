{
 "cells": [
  {
   "cell_type": "code",
   "execution_count": 8,
   "id": "initial_id",
   "metadata": {
    "collapsed": true,
    "ExecuteTime": {
     "end_time": "2023-11-19T17:45:21.845140Z",
     "start_time": "2023-11-19T17:45:21.838830Z"
    }
   },
   "outputs": [],
   "source": [
    "import pandas as pd\n",
    "import numpy as np\n",
    "import matplotlib.pyplot as plt\n",
    "from datetime import timedelta, datetime\n",
    "from DAX.HelpFunctions.get_dax_data import get_dax_data\n",
    "import seaborn as sns\n",
    "\n",
    "\n",
    "from random import gauss\n",
    "import matplotlib.pyplot as plt\n",
    "import numpy as np\n",
    "from arch import arch_model\n",
    "from statsmodels.graphics.tsaplots import plot_acf, plot_pacf\n",
    "from HelpFunctions.date_and_time import most_recent_thursday\n",
    "from HelpFunctions.date_and_time import next_working_days\n",
    "from scipy.stats import norm\n",
    "import math"
   ]
  },
  {
   "cell_type": "code",
   "execution_count": null,
   "outputs": [],
   "source": [
    "df = get_dax_data()"
   ],
   "metadata": {
    "collapsed": false
   },
   "id": "1fe27c64ea73124a"
  },
  {
   "cell_type": "code",
   "execution_count": null,
   "outputs": [],
   "source": [
    "start_date_excl = most_recent_thursday(df) - timedelta(days=1)\n",
    "df_cval = df.loc[df.index < start_date_excl]\n",
    "df_cval.index = df_cval.index.date"
   ],
   "metadata": {
    "collapsed": false
   },
   "id": "9c28d98e35e6dfc3"
  },
  {
   "cell_type": "code",
   "execution_count": null,
   "outputs": [],
   "source": [
    "df.index = df.index.date"
   ],
   "metadata": {
    "collapsed": false
   },
   "id": "79afff6c1acabbc3"
  },
  {
   "cell_type": "code",
   "execution_count": null,
   "outputs": [],
   "source": [
    "from statsmodels.tsa.stattools import pacf\n",
    "\n",
    "df_tmp = df\n",
    "df_tmp['Date'] = pd.to_datetime(df_tmp.index)\n",
    "df_tmp.set_index('Date', inplace=True)\n",
    "df_tmp['ret1_sq'] = df_tmp['ret1']**2\n",
    "\n",
    "# Calculate PACF for the ret1 column\n",
    "lags = 20  # consider 5 lags\n",
    "partial_autocorrelation = pacf(df_tmp['ret1_sq'].dropna(), nlags=5)\n",
    "\n",
    "# Create PACF plot for the ret1 column\n",
    "plt.figure(figsize=(10, 6))\n",
    "plot_pacf(df_tmp['ret1_sq'].dropna(), lags=lags, title='Partial Autocorrelation Function (PACF) - ret1')\n",
    "plt.xlabel('Lag')\n",
    "plt.ylabel('PACF')\n",
    "plt.grid(True)\n",
    "plt.show()"
   ],
   "metadata": {
    "collapsed": false
   },
   "id": "63550b4dfee8236a"
  },
  {
   "cell_type": "markdown",
   "source": [
    "It can be seen that the correlation of the lags is very high for the first lages. I'll therefore consider using GARCH(p,q) with a p,q>1."
   ],
   "metadata": {
    "collapsed": false
   },
   "id": "7a72a14ba7956dd1"
  },
  {
   "cell_type": "markdown",
   "source": [
    "## Create GARCH(1,1) model. Using normal distribution"
   ],
   "metadata": {
    "collapsed": false
   },
   "id": "fbf1f8a743c12f58"
  },
  {
   "cell_type": "code",
   "execution_count": null,
   "outputs": [],
   "source": [
    "df_garch = df['ret1']\n",
    "df_garch = df_garch.dropna()\n",
    "len(df_garch)"
   ],
   "metadata": {
    "collapsed": false
   },
   "id": "7d49d6904b2b9bc0"
  },
  {
   "cell_type": "code",
   "execution_count": null,
   "outputs": [],
   "source": [
    "test_size = 900 # Take roughly 10% for testing\n",
    "train, test = df_garch[:-test_size], df_garch[-test_size:]\n",
    "model = arch_model(train, mean='zero', p=1, q=1)\n",
    "model_fit = model.fit()"
   ],
   "metadata": {
    "collapsed": false
   },
   "id": "ab7abf2c5b76d232"
  },
  {
   "cell_type": "code",
   "execution_count": null,
   "outputs": [],
   "source": [
    "model_fit.summary()"
   ],
   "metadata": {
    "collapsed": false
   },
   "id": "9d182befafa046e9"
  },
  {
   "cell_type": "markdown",
   "source": [
    "- aplha[1] and beta[1] are highly significant.\n",
    "- (nu is ~8 so we have t(nu=8) best representing the data?) past results when using t-dist"
   ],
   "metadata": {
    "collapsed": false
   },
   "id": "cbfe5156a76b7ca8"
  },
  {
   "cell_type": "markdown",
   "source": [
    "### Predict using the GARCH(1,1) model"
   ],
   "metadata": {
    "collapsed": false
   },
   "id": "d25840392a7dc48c"
  },
  {
   "cell_type": "code",
   "execution_count": 78,
   "outputs": [],
   "source": [
    "predictions = model_fit.forecast(horizon=1)"
   ],
   "metadata": {
    "collapsed": false,
    "ExecuteTime": {
     "end_time": "2023-11-19T17:07:56.107023Z",
     "start_time": "2023-11-19T17:07:56.102328Z"
    }
   },
   "id": "a213bcf81c6bfec8"
  },
  {
   "cell_type": "code",
   "execution_count": 79,
   "outputs": [
    {
     "data": {
      "text/plain": "<matplotlib.legend.Legend at 0x15e78cd60>"
     },
     "execution_count": 79,
     "metadata": {},
     "output_type": "execute_result"
    },
    {
     "data": {
      "text/plain": "<Figure size 1000x400 with 1 Axes>",
      "image/png": "[encoded data removed]"
     },
     "metadata": {},
     "output_type": "display_data"
    }
   ],
   "source": [
    "plt.figure(figsize=(10,4))\n",
    "preds, = plt.plot(np.sqrt(predictions.variance.values[-1, :]))\n",
    "true, = plt.plot(test[-test_size:])\n",
    "plt.title('Volatility Prediction', fontsize=20)\n",
    "plt.legend(['Predicted Volatility'], fontsize=16)"
   ],
   "metadata": {
    "collapsed": false,
    "ExecuteTime": {
     "end_time": "2023-11-19T17:07:56.588410Z",
     "start_time": "2023-11-19T17:07:56.406091Z"
    }
   },
   "id": "c4de27a767cde336"
  },
  {
   "cell_type": "code",
   "execution_count": 80,
   "outputs": [
    {
     "data": {
      "text/plain": "array([[4.29786495]])"
     },
     "execution_count": 80,
     "metadata": {},
     "output_type": "execute_result"
    }
   ],
   "source": [
    "predictions.variance.values"
   ],
   "metadata": {
    "collapsed": false,
    "ExecuteTime": {
     "end_time": "2023-11-19T17:07:57.222512Z",
     "start_time": "2023-11-19T17:07:57.214521Z"
    }
   },
   "id": "8d26ee2df9bf6d5"
  },
  {
   "cell_type": "code",
   "execution_count": 93,
   "outputs": [],
   "source": [
    "from scipy.stats import norm\n",
    "import math\n",
    "# Define the mean and standard deviation of the normal distribution\n",
    "mean = 0\n",
    "std_dev = 1\n",
    "variance = predictions.variance.values[0][0]\n",
    "\n",
    "# Calculate the quantile\n",
    "predicted_quantiles = norm.ppf([0.025,0.25,0.5,0.75,0.975], loc=0, scale=math.sqrt(variance))"
   ],
   "metadata": {
    "collapsed": false,
    "ExecuteTime": {
     "end_time": "2023-11-19T17:13:11.836641Z",
     "start_time": "2023-11-19T17:13:11.831549Z"
    }
   },
   "id": "17ef6cd6c9a6740e"
  },
  {
   "cell_type": "code",
   "execution_count": 94,
   "outputs": [
    {
     "data": {
      "text/plain": "array([-4.0632587 , -1.39830444,  0.        ,  1.39830444,  4.0632587 ])"
     },
     "execution_count": 94,
     "metadata": {},
     "output_type": "execute_result"
    }
   ],
   "source": [
    "predicted_quantiles"
   ],
   "metadata": {
    "collapsed": false,
    "ExecuteTime": {
     "end_time": "2023-11-19T17:13:12.137006Z",
     "start_time": "2023-11-19T17:13:12.131889Z"
    }
   },
   "id": "513b2272f472c4bf"
  },
  {
   "cell_type": "markdown",
   "source": [
    "### Now lets create one function that can run the whole thing."
   ],
   "metadata": {
    "collapsed": false
   },
   "id": "5fa0e59941502260"
  },
  {
   "cell_type": "code",
   "execution_count": 4,
   "outputs": [],
   "source": [
    "df = get_dax_data()\n",
    "start_date_excl = most_recent_thursday(df) - timedelta(days=1)\n",
    "df_cval = df.loc[df.index < start_date_excl]\n",
    "df_cval.index = df_cval.index.date"
   ],
   "metadata": {
    "collapsed": false,
    "ExecuteTime": {
     "end_time": "2023-11-19T17:45:02.347320Z",
     "start_time": "2023-11-19T17:45:00.529521Z"
    }
   },
   "id": "e5cb7fb6a82fdcf6"
  },
  {
   "cell_type": "code",
   "execution_count": 5,
   "outputs": [],
   "source": [
    "df_cval = df_cval.dropna()"
   ],
   "metadata": {
    "collapsed": false,
    "ExecuteTime": {
     "end_time": "2023-11-19T17:45:02.351690Z",
     "start_time": "2023-11-19T17:45:02.348703Z"
    }
   },
   "id": "62e9bbfa7e90733"
  },
  {
   "cell_type": "code",
   "execution_count": 17,
   "outputs": [],
   "source": [
    "\n",
    "\n",
    "# from HelpFunctions.date_and_time import next_working_days\n",
    "\n",
    "\n",
    "def get_norm_quantiles(variance):\n",
    "        return norm.ppf([0.025,0.25,0.5,0.75,0.975], loc=0, scale=math.sqrt(variance))\n",
    "\n",
    "# Runs GARCH(1,1) for each horizon\n",
    "def garch11s(df):\n",
    "    variances = [garch11(df[f'ret{h}'], h) for h in range(1,6)]\n",
    "    quantiles = [get_norm_quantiles(v) for v in variances]\n",
    "    column_names = [f'q{q}' for q in [0.025,0.25,0.5,0.75,0.975]]\n",
    "    dates = next_working_days(max(df.index).date(), 5)\n",
    "    \n",
    "    \n",
    "    quantile_df = pd.DataFrame(quantiles, columns=column_names)\n",
    "    quantile_df['forecast_date'] = dates\n",
    "    quantile_df.set_index('forecast_date', inplace=True)\n",
    "    return quantile_df\n",
    "        \n",
    "        \n",
    "    \n",
    "# df should only contain one column (the log-returns of the horizon to predict)\n",
    "def garch11(df, horizon):\n",
    "    train = df.dropna()\n",
    "    model = arch_model(train, mean='zero', p=1, q=1)\n",
    "    model_fit = model.fit()\n",
    "    predictions = model_fit.forecast(horizon=horizon)\n",
    "    return predictions.variance.values[0][-1]"
   ],
   "metadata": {
    "collapsed": false,
    "ExecuteTime": {
     "end_time": "2023-11-19T17:47:37.568967Z",
     "start_time": "2023-11-19T17:47:37.565318Z"
    }
   },
   "id": "720d7ecdd5847c6a"
  },
  {
   "cell_type": "code",
   "execution_count": 18,
   "outputs": [
    {
     "name": "stdout",
     "output_type": "stream",
     "text": [
      "Iteration:      1,   Func. Count:      5,   Neg. LLF: 58589.12288077312\n",
      "Iteration:      2,   Func. Count:     14,   Neg. LLF: 17298.298708844035\n",
      "Iteration:      3,   Func. Count:     21,   Neg. LLF: 25956.183934355784\n",
      "Iteration:      4,   Func. Count:     27,   Neg. LLF: 14496.735137243277\n",
      "Iteration:      5,   Func. Count:     32,   Neg. LLF: 14496.691566795726\n",
      "Iteration:      6,   Func. Count:     35,   Neg. LLF: 14496.691566792215\n",
      "Optimization terminated successfully    (Exit mode 0)\n",
      "            Current function value: 14496.691566795726\n",
      "            Iterations: 6\n",
      "            Function evaluations: 35\n",
      "            Gradient evaluations: 6\n",
      "Iteration:      1,   Func. Count:      5,   Neg. LLF: 61675.803841677916\n",
      "Iteration:      2,   Func. Count:     14,   Neg. LLF: 21578.13731579131\n",
      "Iteration:      3,   Func. Count:     20,   Neg. LLF: 19164.164398417197\n",
      "Iteration:      4,   Func. Count:     26,   Neg. LLF: 4916915484.65971\n",
      "Iteration:      5,   Func. Count:     31,   Neg. LLF: 17382.38351363437\n",
      "Iteration:      6,   Func. Count:     36,   Neg. LLF: 17341.766858932937\n",
      "Iteration:      7,   Func. Count:     40,   Neg. LLF: 17341.420426378907\n",
      "Iteration:      8,   Func. Count:     44,   Neg. LLF: 17341.41509696738\n",
      "Iteration:      9,   Func. Count:     48,   Neg. LLF: 17341.414597885883\n",
      "Iteration:     10,   Func. Count:     52,   Neg. LLF: 17341.414584079495\n",
      "Iteration:     11,   Func. Count:     55,   Neg. LLF: 17341.414584077953\n",
      "Optimization terminated successfully    (Exit mode 0)\n",
      "            Current function value: 17341.414584079495\n",
      "            Iterations: 11\n",
      "            Function evaluations: 55\n",
      "            Gradient evaluations: 11\n",
      "Iteration:      1,   Func. Count:      5,   Neg. LLF: 27369.101569327784\n",
      "Iteration:      2,   Func. Count:     15,   Neg. LLF: 24231.625020573585\n",
      "Iteration:      3,   Func. Count:     21,   Neg. LLF: 20257.216621548025\n",
      "Iteration:      4,   Func. Count:     26,   Neg. LLF: 18907.493948077987\n",
      "Iteration:      5,   Func. Count:     31,   Neg. LLF: 18889.021235037213\n",
      "Iteration:      6,   Func. Count:     35,   Neg. LLF: 18886.945287625393\n",
      "Iteration:      7,   Func. Count:     39,   Neg. LLF: 18886.30767370405\n",
      "Iteration:      8,   Func. Count:     43,   Neg. LLF: 18886.245663019763\n",
      "Iteration:      9,   Func. Count:     47,   Neg. LLF: 18886.24065293296\n",
      "Iteration:     10,   Func. Count:     51,   Neg. LLF: 18886.24010403757\n",
      "Iteration:     11,   Func. Count:     55,   Neg. LLF: 18886.24005857097\n",
      "Iteration:     12,   Func. Count:     59,   Neg. LLF: 18886.240057565083\n",
      "Iteration:     13,   Func. Count:     62,   Neg. LLF: 18886.240057565155\n",
      "Optimization terminated successfully    (Exit mode 0)\n",
      "            Current function value: 18886.240057565083\n",
      "            Iterations: 13\n",
      "            Function evaluations: 62\n",
      "            Gradient evaluations: 13\n",
      "Iteration:      1,   Func. Count:      5,   Neg. LLF: 28604.826424739473\n",
      "Iteration:      2,   Func. Count:     14,   Neg. LLF: 20981.122534519945\n",
      "Iteration:      3,   Func. Count:     19,   Neg. LLF: 25563.77389951752\n",
      "Iteration:      4,   Func. Count:     25,   Neg. LLF: 20403.39743407882\n",
      "Iteration:      5,   Func. Count:     30,   Neg. LLF: 19845.0445197481\n",
      "Iteration:      6,   Func. Count:     34,   Neg. LLF: 19839.121118374365\n",
      "Iteration:      7,   Func. Count:     38,   Neg. LLF: 19837.20223187141\n",
      "Iteration:      8,   Func. Count:     42,   Neg. LLF: 19836.84828011018\n",
      "Iteration:      9,   Func. Count:     46,   Neg. LLF: 19836.799362857008\n",
      "Iteration:     10,   Func. Count:     50,   Neg. LLF: 19836.793611278346\n",
      "Iteration:     11,   Func. Count:     54,   Neg. LLF: 19836.79313769057\n",
      "Iteration:     12,   Func. Count:     58,   Neg. LLF: 19836.793121853716\n",
      "Iteration:     13,   Func. Count:     61,   Neg. LLF: 19836.79312185394\n",
      "Optimization terminated successfully    (Exit mode 0)\n",
      "            Current function value: 19836.793121853716\n",
      "            Iterations: 13\n",
      "            Function evaluations: 61\n",
      "            Gradient evaluations: 13\n",
      "Iteration:      1,   Func. Count:      5,   Neg. LLF: 26578.030132185097\n",
      "Iteration:      2,   Func. Count:     13,   Neg. LLF: 21614.863275179\n",
      "Iteration:      3,   Func. Count:     18,   Neg. LLF: 26927.197586098348\n",
      "Iteration:      4,   Func. Count:     23,   Neg. LLF: 20901.458104305708\n",
      "Iteration:      5,   Func. Count:     28,   Neg. LLF: 20662.4050322449\n",
      "Iteration:      6,   Func. Count:     32,   Neg. LLF: 20662.169632743637\n",
      "Iteration:      7,   Func. Count:     36,   Neg. LLF: 20662.112046123995\n",
      "Iteration:      8,   Func. Count:     40,   Neg. LLF: 20662.099156095435\n",
      "Iteration:      9,   Func. Count:     44,   Neg. LLF: 20662.098920502158\n",
      "Iteration:     10,   Func. Count:     48,   Neg. LLF: 20662.09891852336\n",
      "Iteration:     11,   Func. Count:     51,   Neg. LLF: 20662.0989185228\n",
      "Optimization terminated successfully    (Exit mode 0)\n",
      "            Current function value: 20662.09891852336\n",
      "            Iterations: 11\n",
      "            Function evaluations: 51\n",
      "            Gradient evaluations: 11\n"
     ]
    }
   ],
   "source": [
    "quantiles = garch11s(df)"
   ],
   "metadata": {
    "collapsed": false,
    "ExecuteTime": {
     "end_time": "2023-11-19T17:47:38.136700Z",
     "start_time": "2023-11-19T17:47:38.029059Z"
    }
   },
   "id": "3beb9c2a5c74e7ed"
  }
 ],
 "metadata": {
  "kernelspec": {
   "display_name": "Python 3",
   "language": "python",
   "name": "python3"
  },
  "language_info": {
   "codemirror_mode": {
    "name": "ipython",
    "version": 2
   },
   "file_extension": ".py",
   "mimetype": "text/x-python",
   "name": "python",
   "nbconvert_exporter": "python",
   "pygments_lexer": "ipython2",
   "version": "2.7.6"
  }
 },
 "nbformat": 4,
 "nbformat_minor": 5
}
