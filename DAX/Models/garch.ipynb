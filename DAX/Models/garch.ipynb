{
 "cells": [
  {
   "cell_type": "code",
   "execution_count": null,
   "id": "initial_id",
   "metadata": {
    "collapsed": true
   },
   "outputs": [],
   "source": [
    "import pandas as pd\n",
    "import numpy as np\n",
    "import matplotlib.pyplot as plt\n",
    "from datetime import timedelta, datetime\n",
    "from DAX.HelpFunctions.get_dax_data import get_dax_data\n",
    "import seaborn as sns\n",
    "\n",
    "\n",
    "from random import gauss\n",
    "import matplotlib.pyplot as plt\n",
    "import numpy as np\n",
    "from arch import arch_model\n",
    "from statsmodels.graphics.tsaplots import plot_acf, plot_pacf\n",
    "from HelpFunctions.date_and_time import most_recent_thursday\n",
    "from HelpFunctions.date_and_time import next_working_days\n",
    "from scipy.stats import norm\n",
    "import math"
   ]
  },
  {
   "cell_type": "code",
   "execution_count": null,
   "outputs": [],
   "source": [
    "df = get_dax_data()"
   ],
   "metadata": {
    "collapsed": false
   },
   "id": "1fe27c64ea73124a"
  },
  {
   "cell_type": "code",
   "execution_count": null,
   "outputs": [],
   "source": [
    "start_date_excl = most_recent_thursday(df) - timedelta(days=1)\n",
    "df_cval = df.loc[df.index < start_date_excl]\n",
    "df_cval.index = df_cval.index.date"
   ],
   "metadata": {
    "collapsed": false
   },
   "id": "9c28d98e35e6dfc3"
  },
  {
   "cell_type": "code",
   "execution_count": null,
   "outputs": [],
   "source": [
    "df.index = df.index.date"
   ],
   "metadata": {
    "collapsed": false
   },
   "id": "79afff6c1acabbc3"
  },
  {
   "cell_type": "code",
   "execution_count": null,
   "outputs": [],
   "source": [
    "from statsmodels.tsa.stattools import pacf\n",
    "\n",
    "df_tmp = df\n",
    "df_tmp['Date'] = pd.to_datetime(df_tmp.index)\n",
    "df_tmp.set_index('Date', inplace=True)\n",
    "df_tmp['ret1_sq'] = df_tmp['ret1']**2\n",
    "\n",
    "# Calculate PACF for the ret1 column\n",
    "lags = 20  # consider 5 lags\n",
    "partial_autocorrelation = pacf(df_tmp['ret1_sq'].dropna(), nlags=5)\n",
    "\n",
    "# Create PACF plot for the ret1 column\n",
    "plt.figure(figsize=(10, 6))\n",
    "plot_pacf(df_tmp['ret1_sq'].dropna(), lags=lags, title='Partial Autocorrelation Function (PACF) - ret1')\n",
    "plt.xlabel('Lag')\n",
    "plt.ylabel('PACF')\n",
    "plt.grid(True)\n",
    "plt.show()"
   ],
   "metadata": {
    "collapsed": false
   },
   "id": "63550b4dfee8236a"
  },
  {
   "cell_type": "markdown",
   "source": [
    "It can be seen that the correlation of the lags is very high for the first lages. I'll therefore consider using GARCH(p,q) with a p,q>1."
   ],
   "metadata": {
    "collapsed": false
   },
   "id": "7a72a14ba7956dd1"
  },
  {
   "cell_type": "markdown",
   "source": [
    "## Create GARCH(1,1) model. Using normal distribution"
   ],
   "metadata": {
    "collapsed": false
   },
   "id": "fbf1f8a743c12f58"
  },
  {
   "cell_type": "code",
   "execution_count": null,
   "outputs": [],
   "source": [
    "df_garch = df['ret1']\n",
    "df_garch = df_garch.dropna()\n",
    "len(df_garch)"
   ],
   "metadata": {
    "collapsed": false
   },
   "id": "7d49d6904b2b9bc0"
  },
  {
   "cell_type": "code",
   "execution_count": null,
   "outputs": [],
   "source": [
    "test_size = 900 # Take roughly 10% for testing\n",
    "train, test = df_garch[:-test_size], df_garch[-test_size:]\n",
    "model = arch_model(train, mean='zero', p=1, q=1)\n",
    "model_fit = model.fit()"
   ],
   "metadata": {
    "collapsed": false
   },
   "id": "ab7abf2c5b76d232"
  },
  {
   "cell_type": "code",
   "execution_count": null,
   "outputs": [],
   "source": [
    "model_fit.summary()"
   ],
   "metadata": {
    "collapsed": false
   },
   "id": "9d182befafa046e9"
  },
  {
   "cell_type": "markdown",
   "source": [
    "- aplha[1] and beta[1] are highly significant.\n",
    "- (nu is ~8 so we have t(nu=8) best representing the data?) past results when using t-dist"
   ],
   "metadata": {
    "collapsed": false
   },
   "id": "cbfe5156a76b7ca8"
  },
  {
   "cell_type": "markdown",
   "source": [
    "### Predict using the GARCH(1,1) model"
   ],
   "metadata": {
    "collapsed": false
   },
   "id": "d25840392a7dc48c"
  },
  {
   "cell_type": "code",
   "execution_count": null,
   "outputs": [],
   "source": [
    "predictions = model_fit.forecast(horizon=1)"
   ],
   "metadata": {
    "collapsed": false
   },
   "id": "a213bcf81c6bfec8"
  },
  {
   "cell_type": "code",
   "execution_count": null,
   "outputs": [],
   "source": [
    "plt.figure(figsize=(10,4))\n",
    "preds, = plt.plot(np.sqrt(predictions.variance.values[-1, :]))\n",
    "true, = plt.plot(test[-test_size:])\n",
    "plt.title('Volatility Prediction', fontsize=20)\n",
    "plt.legend(['Predicted Volatility'], fontsize=16)"
   ],
   "metadata": {
    "collapsed": false
   },
   "id": "c4de27a767cde336"
  },
  {
   "cell_type": "code",
   "execution_count": null,
   "outputs": [],
   "source": [
    "predictions.variance.values"
   ],
   "metadata": {
    "collapsed": false
   },
   "id": "8d26ee2df9bf6d5"
  },
  {
   "cell_type": "code",
   "execution_count": null,
   "outputs": [],
   "source": [
    "from scipy.stats import norm\n",
    "import math\n",
    "# Define the mean and standard deviation of the normal distribution\n",
    "mean = 0\n",
    "std_dev = 1\n",
    "variance = predictions.variance.values[0][0]\n",
    "\n",
    "# Calculate the quantile\n",
    "predicted_quantiles = norm.ppf([0.025,0.25,0.5,0.75,0.975], loc=0, scale=math.sqrt(variance))"
   ],
   "metadata": {
    "collapsed": false
   },
   "id": "17ef6cd6c9a6740e"
  },
  {
   "cell_type": "code",
   "execution_count": null,
   "outputs": [],
   "source": [
    "predicted_quantiles"
   ],
   "metadata": {
    "collapsed": false
   },
   "id": "513b2272f472c4bf"
  },
  {
   "cell_type": "markdown",
   "source": [
    "### Now lets create one function that can run the whole thing."
   ],
   "metadata": {
    "collapsed": false
   },
   "id": "5fa0e59941502260"
  },
  {
   "cell_type": "code",
   "execution_count": null,
   "outputs": [],
   "source": [
    "df = get_dax_data()\n",
    "start_date_excl = most_recent_thursday(df) - timedelta(days=1)\n",
    "df_cval = df.loc[df.index < start_date_excl]\n",
    "df_cval.index = df_cval.index.date"
   ],
   "metadata": {
    "collapsed": false
   },
   "id": "e5cb7fb6a82fdcf6"
  },
  {
   "cell_type": "code",
   "execution_count": null,
   "outputs": [],
   "source": [
    "df_cval = df_cval.dropna()"
   ],
   "metadata": {
    "collapsed": false
   },
   "id": "62e9bbfa7e90733"
  },
  {
   "cell_type": "code",
   "execution_count": null,
   "outputs": [],
   "source": [
    "\n",
    "\n",
    "# from HelpFunctions.date_and_time import next_working_days\n",
    "\n",
    "\n",
    "def get_norm_quantiles(variance):\n",
    "        return norm.ppf([0.025,0.25,0.5,0.75,0.975], loc=0, scale=math.sqrt(variance))\n",
    "\n",
    "# Runs GARCH(1,1) for each horizon\n",
    "def garch11s(df):\n",
    "    variances = [garch11(df[f'ret{h}'], h) for h in range(1,6)]\n",
    "    quantiles = [get_norm_quantiles(v) for v in variances]\n",
    "    column_names = [f'q{q}' for q in [0.025,0.25,0.5,0.75,0.975]]\n",
    "    dates = next_working_days(max(df.index).date(), 5)\n",
    "    \n",
    "    \n",
    "    quantile_df = pd.DataFrame(quantiles, columns=column_names)\n",
    "    quantile_df['forecast_date'] = dates\n",
    "    quantile_df.set_index('forecast_date', inplace=True)\n",
    "    return quantile_df\n",
    "        \n",
    "        \n",
    "    \n",
    "# df should only contain one column (the log-returns of the horizon to predict)\n",
    "def garch11(df, horizon):\n",
    "    train = df.dropna()\n",
    "    model = arch_model(train, mean='zero', p=1, q=1)\n",
    "    model_fit = model.fit()\n",
    "    predictions = model_fit.forecast(horizon=horizon)\n",
    "    return predictions.variance.values[0][-1]"
   ],
   "metadata": {
    "collapsed": false
   },
   "id": "720d7ecdd5847c6a"
  },
  {
   "cell_type": "code",
   "execution_count": null,
   "outputs": [],
   "source": [
    "quantiles = garch11s(df)"
   ],
   "metadata": {
    "collapsed": false
   },
   "id": "3beb9c2a5c74e7ed"
  },
  {
   "cell_type": "markdown",
   "source": [
    "# Let's test out the t-distribution"
   ],
   "metadata": {
    "collapsed": false
   },
   "id": "6474787ed59b2940"
  },
  {
   "cell_type": "code",
   "execution_count": null,
   "outputs": [],
   "source": [],
   "metadata": {
    "collapsed": false
   },
   "id": "77b5e85522f1992"
  },
  {
   "cell_type": "code",
   "execution_count": null,
   "outputs": [],
   "source": [
    "from scipy.stats import t\n",
    "\n",
    "def get_t_quantile(confidence_level, degrees_of_freedom, variance):\n",
    "    # Calculate the standard deviation from the specified variance\n",
    "    std_dev = variance ** 0.05\n",
    "    \n",
    "    # Create a t-distribution object with the specified degrees of freedom and standard deviation\n",
    "    t_dist = t(df=degrees_of_freedom, scale=std_dev)\n",
    "    \n",
    "    # Calculate the t-quantile\n",
    "    t_quantile = t_dist.ppf((1 + confidence_level) / 2)\n",
    "    \n",
    "    return t_quantile\n",
    "\n",
    "# Example usage\n",
    "confidence_level = 0.95\n",
    "degrees_of_freedom = 10\n",
    "variance = 4.0  # Replace this with your desired variance\n",
    "\n",
    "t_quantile = get_t_quantile(confidence_level, degrees_of_freedom, variance)\n",
    "print(f'T-Quantile at {confidence_level}% confidence level with {degrees_of_freedom} degrees of freedom and variance {variance}: {t_quantile}')"
   ],
   "metadata": {
    "collapsed": false
   },
   "id": "abaaa9dea7a37d3c"
  }
 ],
 "metadata": {
  "kernelspec": {
   "display_name": "Python 3",
   "language": "python",
   "name": "python3"
  },
  "language_info": {
   "codemirror_mode": {
    "name": "ipython",
    "version": 2
   },
   "file_extension": ".py",
   "mimetype": "text/x-python",
   "name": "python",
   "nbconvert_exporter": "python",
   "pygments_lexer": "ipython2",
   "version": "2.7.6"
  }
 },
 "nbformat": 4,
 "nbformat_minor": 5
}
