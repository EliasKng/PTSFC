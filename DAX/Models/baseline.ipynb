{
 "cells": [
  {
   "cell_type": "code",
   "execution_count": 1,
   "id": "3d7236e6-7751-4928-9a79-124c5835761f",
   "metadata": {
    "ExecuteTime": {
     "end_time": "2023-11-18T13:37:06.473962Z",
     "start_time": "2023-11-18T13:37:06.439745Z"
    }
   },
   "outputs": [],
   "source": [
    "import pandas as pd\n",
    "import numpy as np\n",
    "import matplotlib.pyplot as plt\n",
    "from datetime import timedelta, datetime\n",
    "import seaborn as sns"
   ]
  },
  {
   "cell_type": "code",
   "execution_count": 2,
   "id": "529d881c-9e66-44be-9a91-a51ec467d426",
   "metadata": {
    "ExecuteTime": {
     "end_time": "2023-11-18T13:37:06.474974Z",
     "start_time": "2023-11-18T13:37:06.446819Z"
    }
   },
   "outputs": [],
   "source": [
    "#by hand, runs faster\n",
    "def compute_return(y, r_type=\"log\", h=1):\n",
    "    \n",
    "    # exclude first h observations\n",
    "    y2 = y[h:]\n",
    "    # exclude last h observations\n",
    "    y1 = y[:-h]\n",
    "    \n",
    "    if r_type == \"log\":\n",
    "        ret = np.concatenate(([np.nan]*h, 100 * (np.log(y2) - np.log(y1))))\n",
    "    else:\n",
    "        ret = np.concatenate(([np.nan]*h, 100 * (y2-y1)/y1))\n",
    "        \n",
    "    return ret\n",
    "\n",
    "#pythonic alternative (however: slower) to do the same thing:\n",
    "def compute_return_2(df, r_type=\"log\", h=1):\n",
    "    \n",
    "    if r_type == \"log\":\n",
    "        return (np.log(df) - np.log(df.shift(h))) * 100\n",
    "    else:\n",
    "        return ((df-df.shift(h))/df) * 100 "
   ]
  },
  {
   "cell_type": "code",
   "execution_count": 3,
   "id": "7c1325d1-328c-4fc5-b7e7-2fb0dfa2bf71",
   "metadata": {
    "ExecuteTime": {
     "end_time": "2023-11-18T13:37:06.587806Z",
     "start_time": "2023-11-18T13:37:06.449714Z"
    }
   },
   "outputs": [
    {
     "name": "stderr",
     "output_type": "stream",
     "text": [
      "/Users/elias/Desktop/PTSFC/venv/lib/python3.9/site-packages/urllib3/__init__.py:34: NotOpenSSLWarning: urllib3 v2.0 only supports OpenSSL 1.1.1+, currently the 'ssl' module is compiled with 'LibreSSL 2.8.3'. See: https://github.com/urllib3/urllib3/issues/3020\n",
      "  warnings.warn(\n"
     ]
    }
   ],
   "source": [
    "import yfinance as yf\n",
    "\n",
    "msft = yf.Ticker(\"^GDAXI\")"
   ]
  },
  {
   "cell_type": "code",
   "execution_count": 4,
   "id": "62efb5b5-757a-40a4-a3b2-4e1187e5a8de",
   "metadata": {
    "ExecuteTime": {
     "end_time": "2023-11-18T13:37:07.129113Z",
     "start_time": "2023-11-18T13:37:06.587016Z"
    }
   },
   "outputs": [],
   "source": [
    "hist = msft.history(period=\"max\")"
   ]
  },
  {
   "cell_type": "code",
   "execution_count": 5,
   "id": "dbf623a4-194a-496c-ae01-d86acac3d9d6",
   "metadata": {
    "ExecuteTime": {
     "end_time": "2023-11-18T13:37:07.133723Z",
     "start_time": "2023-11-18T13:37:07.131236Z"
    }
   },
   "outputs": [],
   "source": [
    "for i in range(5):\n",
    "    hist[\"ret\"+str(i+1)] = compute_return(hist[\"Close\"].values, h=i+1)"
   ]
  },
  {
   "cell_type": "code",
   "execution_count": 6,
   "id": "15bf0777-6463-4508-97f4-1e557df68457",
   "metadata": {
    "ExecuteTime": {
     "end_time": "2023-11-18T13:37:07.144486Z",
     "start_time": "2023-11-18T13:37:07.135913Z"
    }
   },
   "outputs": [
    {
     "data": {
      "text/plain": "                                   Open          High           Low  \\\nDate                                                                  \n2023-11-13 00:00:00+01:00  15285.120117  15346.790039  15252.269531   \n2023-11-14 00:00:00+01:00  15358.589844  15632.440430  15337.599609   \n2023-11-15 00:00:00+01:00  15631.669922  15759.839844  15628.190430   \n2023-11-16 00:00:00+01:00  15806.910156  15862.089844  15783.509766   \n2023-11-17 00:00:00+01:00  15828.780273  15952.450195  15826.669922   \n\n                                  Close    Volume  Dividends  Stock Splits  \\\nDate                                                                         \n2023-11-13 00:00:00+01:00  15345.000000  65170400        0.0           0.0   \n2023-11-14 00:00:00+01:00  15614.429688  98894400        0.0           0.0   \n2023-11-15 00:00:00+01:00  15748.169922  91670700        0.0           0.0   \n2023-11-16 00:00:00+01:00  15786.610352  68438900        0.0           0.0   \n2023-11-17 00:00:00+01:00  15919.160156  81125800        0.0           0.0   \n\n                               ret1      ret2      ret3      ret4      ret5  \nDate                                                                         \n2023-11-13 00:00:00+01:00  0.723434 -0.049125  0.754881  1.261494  1.371568  \n2023-11-14 00:00:00+01:00  1.740578  2.464012  1.691453  2.495459  3.002072  \n2023-11-15 00:00:00+01:00  0.852870  2.593448  3.316881  2.544323  3.348329  \n2023-11-16 00:00:00+01:00  0.243797  1.096667  2.837245  3.560679  2.788120  \n2023-11-17 00:00:00+01:00  0.836129  1.079926  1.932796  3.673374  4.396808  ",
      "text/html": "<div>\n<style scoped>\n    .dataframe tbody tr th:only-of-type {\n        vertical-align: middle;\n    }\n\n    .dataframe tbody tr th {\n        vertical-align: top;\n    }\n\n    .dataframe thead th {\n        text-align: right;\n    }\n</style>\n<table border=\"1\" class=\"dataframe\">\n  <thead>\n    <tr style=\"text-align: right;\">\n      <th></th>\n      <th>Open</th>\n      <th>High</th>\n      <th>Low</th>\n      <th>Close</th>\n      <th>Volume</th>\n      <th>Dividends</th>\n      <th>Stock Splits</th>\n      <th>ret1</th>\n      <th>ret2</th>\n      <th>ret3</th>\n      <th>ret4</th>\n      <th>ret5</th>\n    </tr>\n    <tr>\n      <th>Date</th>\n      <th></th>\n      <th></th>\n      <th></th>\n      <th></th>\n      <th></th>\n      <th></th>\n      <th></th>\n      <th></th>\n      <th></th>\n      <th></th>\n      <th></th>\n      <th></th>\n    </tr>\n  </thead>\n  <tbody>\n    <tr>\n      <th>2023-11-13 00:00:00+01:00</th>\n      <td>15285.120117</td>\n      <td>15346.790039</td>\n      <td>15252.269531</td>\n      <td>15345.000000</td>\n      <td>65170400</td>\n      <td>0.0</td>\n      <td>0.0</td>\n      <td>0.723434</td>\n      <td>-0.049125</td>\n      <td>0.754881</td>\n      <td>1.261494</td>\n      <td>1.371568</td>\n    </tr>\n    <tr>\n      <th>2023-11-14 00:00:00+01:00</th>\n      <td>15358.589844</td>\n      <td>15632.440430</td>\n      <td>15337.599609</td>\n      <td>15614.429688</td>\n      <td>98894400</td>\n      <td>0.0</td>\n      <td>0.0</td>\n      <td>1.740578</td>\n      <td>2.464012</td>\n      <td>1.691453</td>\n      <td>2.495459</td>\n      <td>3.002072</td>\n    </tr>\n    <tr>\n      <th>2023-11-15 00:00:00+01:00</th>\n      <td>15631.669922</td>\n      <td>15759.839844</td>\n      <td>15628.190430</td>\n      <td>15748.169922</td>\n      <td>91670700</td>\n      <td>0.0</td>\n      <td>0.0</td>\n      <td>0.852870</td>\n      <td>2.593448</td>\n      <td>3.316881</td>\n      <td>2.544323</td>\n      <td>3.348329</td>\n    </tr>\n    <tr>\n      <th>2023-11-16 00:00:00+01:00</th>\n      <td>15806.910156</td>\n      <td>15862.089844</td>\n      <td>15783.509766</td>\n      <td>15786.610352</td>\n      <td>68438900</td>\n      <td>0.0</td>\n      <td>0.0</td>\n      <td>0.243797</td>\n      <td>1.096667</td>\n      <td>2.837245</td>\n      <td>3.560679</td>\n      <td>2.788120</td>\n    </tr>\n    <tr>\n      <th>2023-11-17 00:00:00+01:00</th>\n      <td>15828.780273</td>\n      <td>15952.450195</td>\n      <td>15826.669922</td>\n      <td>15919.160156</td>\n      <td>81125800</td>\n      <td>0.0</td>\n      <td>0.0</td>\n      <td>0.836129</td>\n      <td>1.079926</td>\n      <td>1.932796</td>\n      <td>3.673374</td>\n      <td>4.396808</td>\n    </tr>\n  </tbody>\n</table>\n</div>"
     },
     "execution_count": 6,
     "metadata": {},
     "output_type": "execute_result"
    }
   ],
   "source": [
    "hist.tail()"
   ]
  },
  {
   "cell_type": "code",
   "execution_count": 7,
   "id": "bf3ae619-5bdc-4c66-8137-4daa880ce9c7",
   "metadata": {
    "ExecuteTime": {
     "end_time": "2023-11-18T13:37:07.147649Z",
     "start_time": "2023-11-18T13:37:07.142960Z"
    }
   },
   "outputs": [],
   "source": [
    "#quantile levels\n",
    "tau = [.025, .25, .5, .75, .975]"
   ]
  },
  {
   "cell_type": "code",
   "execution_count": 8,
   "id": "8e5ef128-ba07-497d-ab2b-1c7599e86bd0",
   "metadata": {
    "ExecuteTime": {
     "end_time": "2023-11-18T13:37:07.147936Z",
     "start_time": "2023-11-18T13:37:07.146044Z"
    }
   },
   "outputs": [],
   "source": [
    "#define prediction array\n",
    "#cols are quantile levels, rows are horizons\n",
    "pred_baseline = np.zeros((5,5))"
   ]
  },
  {
   "cell_type": "code",
   "execution_count": 9,
   "id": "6033e162-aecf-4e8c-a143-28446cffab0f",
   "metadata": {
    "ExecuteTime": {
     "end_time": "2023-11-18T13:37:07.154483Z",
     "start_time": "2023-11-18T13:37:07.149295Z"
    }
   },
   "outputs": [],
   "source": [
    "last_t = 1000\n",
    "\n",
    "for i in range(5):\n",
    "    ret_str = \"ret\"+str(i+1)\n",
    "    \n",
    "    pred_baseline[i,:] = np.quantile(hist[ret_str].iloc[-last_t:], q=tau)"
   ]
  },
  {
   "cell_type": "markdown",
   "id": "a7c1e0fa-8b06-4233-86b0-09d2f8e589e3",
   "metadata": {},
   "source": [
    "Visualize the results"
   ]
  },
  {
   "cell_type": "code",
   "execution_count": 10,
   "id": "2df653ed-170c-4a79-9c2e-04002faf0965",
   "metadata": {
    "ExecuteTime": {
     "end_time": "2023-11-18T13:37:07.339413Z",
     "start_time": "2023-11-18T13:37:07.152612Z"
    }
   },
   "outputs": [
    {
     "data": {
      "text/plain": "<Figure size 640x480 with 1 Axes>",
      "image/png": "[encoded data removed]"
     },
     "metadata": {},
     "output_type": "display_data"
    }
   ],
   "source": [
    "x = np.arange(5)+1\n",
    "_ = plt.plot(x,pred_baseline, ls=\"\", marker=\"o\", c=\"black\")\n",
    "_ = plt.xticks(x, x)\n",
    "_ = plt.plot((x,x),(pred_baseline[:,0], pred_baseline[:,-1]),c='black')"
   ]
  },
  {
   "cell_type": "markdown",
   "id": "b4bc6e8b-1537-4bc7-8941-7d6ecc7fffb8",
   "metadata": {},
   "source": [
    "Create Submission DataFrame"
   ]
  },
  {
   "cell_type": "code",
   "execution_count": 11,
   "outputs": [],
   "source": [
    "# Returns the five next working days as string\n",
    "def get_forecast_dates(most_recent_date):\n",
    "    working_days = []\n",
    "    current_date = most_recent_date\n",
    "\n",
    "    while len(working_days) < 5:\n",
    "        # Increment the current date by one day\n",
    "        current_date += timedelta(days=1)\n",
    "\n",
    "        # Check if the current date is a working day (Monday to Friday)\n",
    "        if current_date.weekday() < 5:\n",
    "            working_days.append(current_date.date().strftime('%Y-%m-%d'))\n",
    "\n",
    "    return working_days\n",
    "        "
   ],
   "metadata": {
    "collapsed": false,
    "ExecuteTime": {
     "end_time": "2023-11-18T13:37:07.339833Z",
     "start_time": "2023-11-18T13:37:07.281729Z"
    }
   },
   "id": "2ed70a21e7a9d967"
  },
  {
   "cell_type": "code",
   "execution_count": 12,
   "id": "c316a028-c4bf-459b-97e1-d65a38bdc4aa",
   "metadata": {
    "ExecuteTime": {
     "end_time": "2023-11-18T13:37:07.340980Z",
     "start_time": "2023-11-18T13:37:07.291308Z"
    }
   },
   "outputs": [
    {
     "data": {
      "text/plain": "  forecast_date target horizon    q0.025     q0.25      q0.5     q0.75  \\\n0    2023-11-20    DAX   1 day -3.321265 -0.551383  0.060969  0.720873   \n1    2023-11-21    DAX   2 day -4.087895 -0.823250  0.072355  0.987420   \n2    2023-11-22    DAX   5 day -5.259161 -0.917655  0.161798  1.224285   \n3    2023-11-23    DAX   6 day -6.282629 -1.044070  0.186070  1.440815   \n4    2023-11-24    DAX   7 day -6.735742 -1.091646  0.326190  1.573729   \n\n     q0.975  \n0  2.719772  \n1  3.570492  \n2  4.628697  \n3  5.367396  \n4  6.259934  ",
      "text/html": "<div>\n<style scoped>\n    .dataframe tbody tr th:only-of-type {\n        vertical-align: middle;\n    }\n\n    .dataframe tbody tr th {\n        vertical-align: top;\n    }\n\n    .dataframe thead th {\n        text-align: right;\n    }\n</style>\n<table border=\"1\" class=\"dataframe\">\n  <thead>\n    <tr style=\"text-align: right;\">\n      <th></th>\n      <th>forecast_date</th>\n      <th>target</th>\n      <th>horizon</th>\n      <th>q0.025</th>\n      <th>q0.25</th>\n      <th>q0.5</th>\n      <th>q0.75</th>\n      <th>q0.975</th>\n    </tr>\n  </thead>\n  <tbody>\n    <tr>\n      <th>0</th>\n      <td>2023-11-20</td>\n      <td>DAX</td>\n      <td>1 day</td>\n      <td>-3.321265</td>\n      <td>-0.551383</td>\n      <td>0.060969</td>\n      <td>0.720873</td>\n      <td>2.719772</td>\n    </tr>\n    <tr>\n      <th>1</th>\n      <td>2023-11-21</td>\n      <td>DAX</td>\n      <td>2 day</td>\n      <td>-4.087895</td>\n      <td>-0.823250</td>\n      <td>0.072355</td>\n      <td>0.987420</td>\n      <td>3.570492</td>\n    </tr>\n    <tr>\n      <th>2</th>\n      <td>2023-11-22</td>\n      <td>DAX</td>\n      <td>5 day</td>\n      <td>-5.259161</td>\n      <td>-0.917655</td>\n      <td>0.161798</td>\n      <td>1.224285</td>\n      <td>4.628697</td>\n    </tr>\n    <tr>\n      <th>3</th>\n      <td>2023-11-23</td>\n      <td>DAX</td>\n      <td>6 day</td>\n      <td>-6.282629</td>\n      <td>-1.044070</td>\n      <td>0.186070</td>\n      <td>1.440815</td>\n      <td>5.367396</td>\n    </tr>\n    <tr>\n      <th>4</th>\n      <td>2023-11-24</td>\n      <td>DAX</td>\n      <td>7 day</td>\n      <td>-6.735742</td>\n      <td>-1.091646</td>\n      <td>0.326190</td>\n      <td>1.573729</td>\n      <td>6.259934</td>\n    </tr>\n  </tbody>\n</table>\n</div>"
     },
     "execution_count": 12,
     "metadata": {},
     "output_type": "execute_result"
    }
   ],
   "source": [
    "df_sub = pd.DataFrame({\n",
    "    \"forecast_date\": get_forecast_dates(max(hist.index)),\n",
    "    \"target\": \"DAX\",\n",
    "    \"horizon\": [str(i) + \" day\" for i in (1,2,5,6,7)],\n",
    "    \"q0.025\": pred_baseline[:,0],\n",
    "    \"q0.25\": pred_baseline[:,1],\n",
    "    \"q0.5\": pred_baseline[:,2],\n",
    "    \"q0.75\": pred_baseline[:,3],\n",
    "    \"q0.975\": pred_baseline[:,4]})\n",
    "df_sub"
   ]
  },
  {
   "cell_type": "code",
   "execution_count": 13,
   "outputs": [
    {
     "data": {
      "text/plain": "  forecast_date target horizon    q0.025     q0.25      q0.5     q0.75  \\\n0    2023-11-20    DAX   1 day -3.321265 -0.551383  0.060969  0.720873   \n1    2023-11-21    DAX   2 day -4.087895 -0.823250  0.072355  0.987420   \n2    2023-11-22    DAX   5 day -5.259161 -0.917655  0.161798  1.224285   \n3    2023-11-23    DAX   6 day -6.282629 -1.044070  0.186070  1.440815   \n4    2023-11-24    DAX   7 day -6.735742 -1.091646  0.326190  1.573729   \n\n     q0.975  \n0  2.719772  \n1  3.570492  \n2  4.628697  \n3  5.367396  \n4  6.259934  ",
      "text/html": "<div>\n<style scoped>\n    .dataframe tbody tr th:only-of-type {\n        vertical-align: middle;\n    }\n\n    .dataframe tbody tr th {\n        vertical-align: top;\n    }\n\n    .dataframe thead th {\n        text-align: right;\n    }\n</style>\n<table border=\"1\" class=\"dataframe\">\n  <thead>\n    <tr style=\"text-align: right;\">\n      <th></th>\n      <th>forecast_date</th>\n      <th>target</th>\n      <th>horizon</th>\n      <th>q0.025</th>\n      <th>q0.25</th>\n      <th>q0.5</th>\n      <th>q0.75</th>\n      <th>q0.975</th>\n    </tr>\n  </thead>\n  <tbody>\n    <tr>\n      <th>0</th>\n      <td>2023-11-20</td>\n      <td>DAX</td>\n      <td>1 day</td>\n      <td>-3.321265</td>\n      <td>-0.551383</td>\n      <td>0.060969</td>\n      <td>0.720873</td>\n      <td>2.719772</td>\n    </tr>\n    <tr>\n      <th>1</th>\n      <td>2023-11-21</td>\n      <td>DAX</td>\n      <td>2 day</td>\n      <td>-4.087895</td>\n      <td>-0.823250</td>\n      <td>0.072355</td>\n      <td>0.987420</td>\n      <td>3.570492</td>\n    </tr>\n    <tr>\n      <th>2</th>\n      <td>2023-11-22</td>\n      <td>DAX</td>\n      <td>5 day</td>\n      <td>-5.259161</td>\n      <td>-0.917655</td>\n      <td>0.161798</td>\n      <td>1.224285</td>\n      <td>4.628697</td>\n    </tr>\n    <tr>\n      <th>3</th>\n      <td>2023-11-23</td>\n      <td>DAX</td>\n      <td>6 day</td>\n      <td>-6.282629</td>\n      <td>-1.044070</td>\n      <td>0.186070</td>\n      <td>1.440815</td>\n      <td>5.367396</td>\n    </tr>\n    <tr>\n      <th>4</th>\n      <td>2023-11-24</td>\n      <td>DAX</td>\n      <td>7 day</td>\n      <td>-6.735742</td>\n      <td>-1.091646</td>\n      <td>0.326190</td>\n      <td>1.573729</td>\n      <td>6.259934</td>\n    </tr>\n  </tbody>\n</table>\n</div>"
     },
     "execution_count": 13,
     "metadata": {},
     "output_type": "execute_result"
    }
   ],
   "source": [
    "from DAX.Models.baseline import baseline\n",
    "\n",
    "baseline(hist)"
   ],
   "metadata": {
    "collapsed": false,
    "ExecuteTime": {
     "end_time": "2023-11-18T13:37:07.376741Z",
     "start_time": "2023-11-18T13:37:07.307496Z"
    }
   },
   "id": "b9dab25613f90a24"
  },
  {
   "cell_type": "code",
   "execution_count": 13,
   "outputs": [],
   "source": [],
   "metadata": {
    "collapsed": false,
    "ExecuteTime": {
     "end_time": "2023-11-18T13:37:07.377324Z",
     "start_time": "2023-11-18T13:37:07.335080Z"
    }
   },
   "id": "4ac4f7ae4ce5ea12"
  }
 ],
 "metadata": {
  "kernelspec": {
   "display_name": "Python 3 (ipykernel)",
   "language": "python",
   "name": "python3"
  },
  "language_info": {
   "codemirror_mode": {
    "name": "ipython",
    "version": 3
   },
   "file_extension": ".py",
   "mimetype": "text/x-python",
   "name": "python",
   "nbconvert_exporter": "python",
   "pygments_lexer": "ipython3",
   "version": "3.7.13"
  }
 },
 "nbformat": 4,
 "nbformat_minor": 5
}
