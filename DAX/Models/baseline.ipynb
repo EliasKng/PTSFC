{
 "cells": [
  {
   "cell_type": "code",
   "execution_count": null,
   "id": "3d7236e6-7751-4928-9a79-124c5835761f",
   "metadata": {},
   "outputs": [],
   "source": [
    "import pandas as pd\n",
    "import numpy as np\n",
    "import matplotlib.pyplot as plt\n",
    "from datetime import timedelta, datetime\n",
    "from DAX.HelpFunctions.get_dax_data import get_dax_data\n",
    "import seaborn as sns"
   ]
  },
  {
   "cell_type": "code",
   "execution_count": null,
   "id": "dbf623a4-194a-496c-ae01-d86acac3d9d6",
   "metadata": {},
   "outputs": [],
   "source": [
    "hist = get_dax_data()"
   ]
  },
  {
   "cell_type": "code",
   "execution_count": null,
   "id": "15bf0777-6463-4508-97f4-1e557df68457",
   "metadata": {},
   "outputs": [],
   "source": [
    "hist.tail()"
   ]
  },
  {
   "cell_type": "code",
   "execution_count": null,
   "id": "bf3ae619-5bdc-4c66-8137-4daa880ce9c7",
   "metadata": {},
   "outputs": [],
   "source": [
    "#quantile levels\n",
    "tau = [.025, .25, .5, .75, .975]"
   ]
  },
  {
   "cell_type": "code",
   "execution_count": null,
   "id": "8e5ef128-ba07-497d-ab2b-1c7599e86bd0",
   "metadata": {},
   "outputs": [],
   "source": [
    "#define prediction array\n",
    "#cols are quantile levels, rows are horizons\n",
    "pred_baseline = np.zeros((5,5))"
   ]
  },
  {
   "cell_type": "code",
   "execution_count": null,
   "id": "6033e162-aecf-4e8c-a143-28446cffab0f",
   "metadata": {},
   "outputs": [],
   "source": [
    "last_t = 1000\n",
    "\n",
    "for i in range(5):\n",
    "    ret_str = \"ret\"+str(i+1)\n",
    "    \n",
    "    pred_baseline[i,:] = np.quantile(hist[ret_str].iloc[-last_t:], q=tau)"
   ]
  },
  {
   "cell_type": "markdown",
   "id": "a7c1e0fa-8b06-4233-86b0-09d2f8e589e3",
   "metadata": {},
   "source": [
    "Visualize the results"
   ]
  },
  {
   "cell_type": "code",
   "execution_count": null,
   "id": "2df653ed-170c-4a79-9c2e-04002faf0965",
   "metadata": {},
   "outputs": [],
   "source": [
    "x = np.arange(5)+1\n",
    "_ = plt.plot(x,pred_baseline, ls=\"\", marker=\"o\", c=\"black\")\n",
    "_ = plt.xticks(x, x)\n",
    "_ = plt.plot((x,x),(pred_baseline[:,0], pred_baseline[:,-1]),c='black')"
   ]
  },
  {
   "cell_type": "markdown",
   "id": "b4bc6e8b-1537-4bc7-8941-7d6ecc7fffb8",
   "metadata": {},
   "source": [
    "Create Submission DataFrame"
   ]
  },
  {
   "cell_type": "code",
   "execution_count": null,
   "outputs": [],
   "source": [
    "# Returns the five next working days as string\n",
    "def get_forecast_dates(most_recent_date):\n",
    "    working_days = []\n",
    "    current_date = most_recent_date\n",
    "\n",
    "    while len(working_days) < 5:\n",
    "        # Increment the current date by one day\n",
    "        current_date += timedelta(days=1)\n",
    "\n",
    "        # Check if the current date is a working day (Monday to Friday)\n",
    "        if current_date.weekday() < 5:\n",
    "            working_days.append(current_date.date().strftime('%Y-%m-%d'))\n",
    "\n",
    "    return working_days\n",
    "        "
   ],
   "metadata": {
    "collapsed": false
   },
   "id": "2ed70a21e7a9d967"
  },
  {
   "cell_type": "code",
   "execution_count": null,
   "id": "c316a028-c4bf-459b-97e1-d65a38bdc4aa",
   "metadata": {},
   "outputs": [],
   "source": [
    "df_sub = pd.DataFrame({\n",
    "    \"forecast_date\": get_forecast_dates(max(hist.index)),\n",
    "    \"target\": \"DAX\",\n",
    "    \"horizon\": [str(i) + \" day\" for i in (1,2,5,6,7)],\n",
    "    \"q0.025\": pred_baseline[:,0],\n",
    "    \"q0.25\": pred_baseline[:,1],\n",
    "    \"q0.5\": pred_baseline[:,2],\n",
    "    \"q0.75\": pred_baseline[:,3],\n",
    "    \"q0.975\": pred_baseline[:,4]})\n",
    "df_sub"
   ]
  },
  {
   "cell_type": "code",
   "execution_count": null,
   "outputs": [],
   "source": [
    "from DAX.Models.baseline import baseline\n",
    "\n",
    "baseline(hist)"
   ],
   "metadata": {
    "collapsed": false
   },
   "id": "b9dab25613f90a24"
  },
  {
   "cell_type": "code",
   "execution_count": null,
   "outputs": [],
   "source": [],
   "metadata": {
    "collapsed": false
   },
   "id": "4ac4f7ae4ce5ea12"
  }
 ],
 "metadata": {
  "kernelspec": {
   "display_name": "Python 3 (ipykernel)",
   "language": "python",
   "name": "python3"
  },
  "language_info": {
   "codemirror_mode": {
    "name": "ipython",
    "version": 3
   },
   "file_extension": ".py",
   "mimetype": "text/x-python",
   "name": "python",
   "nbconvert_exporter": "python",
   "pygments_lexer": "ipython3",
   "version": "3.7.13"
  }
 },
 "nbformat": 4,
 "nbformat_minor": 5
}
