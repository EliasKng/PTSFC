{
 "cells": [
  {
   "cell_type": "code",
   "execution_count": 86,
   "outputs": [],
   "source": [
    "import pandas as pd\n",
    "import numpy as np\n",
    "import matplotlib.pyplot as plt\n",
    "from datetime import timedelta, datetime\n",
    "from DAX.HelpFunctions.get_dax_data import get_dax_data\n",
    "import seaborn as sns"
   ],
   "metadata": {
    "collapsed": false,
    "ExecuteTime": {
     "end_time": "2023-11-22T16:12:01.681428Z",
     "start_time": "2023-11-22T16:12:01.674077Z"
    }
   },
   "id": "6b46a26fb5f7cf8f"
  },
  {
   "cell_type": "code",
   "execution_count": 87,
   "outputs": [],
   "source": [
    "df = get_dax_data()"
   ],
   "metadata": {
    "collapsed": false,
    "ExecuteTime": {
     "end_time": "2023-11-22T16:12:02.184059Z",
     "start_time": "2023-11-22T16:12:01.679317Z"
    }
   },
   "id": "d216b6ea3d2f6f8c"
  },
  {
   "cell_type": "code",
   "execution_count": 108,
   "outputs": [],
   "source": [
    "def mix_models(models, weights, df):\n",
    "    # Check that all weights sum to 1, otherwise normalize them\n",
    "    total_weight = sum(weights)\n",
    "    if total_weight != 1:\n",
    "        weights = [w / total_weight for w in weights]\n",
    "    \n",
    "    forecast_dates = []\n",
    "    model_forecasts = []\n",
    "    for m in models:\n",
    "        forecast = m(df)\n",
    "        model_forecasts.append(forecast.loc[:,['q0.025','q0.25','q0.5','q0.75','q0.975']])\n",
    "        forecast_dates = forecast['forecast_date']\n",
    "    \n",
    "    \n",
    "    mixed_forecasts = np.zeros(model_forecasts[0].shape)\n",
    "    for f, w in zip(model_forecasts, weights):\n",
    "        mixed_forecasts += f*w\n",
    "    mixed_forecasts['forecast_date'] = forecast_dates\n",
    "    mixed_forecasts = mixed_forecasts[['forecast_date', 'q0.025','q0.25','q0.5','q0.75','q0.975']]\n",
    "    return mixed_forecasts"
   ],
   "metadata": {
    "collapsed": false,
    "ExecuteTime": {
     "end_time": "2023-11-22T16:25:05.676634Z",
     "start_time": "2023-11-22T16:25:05.674239Z"
    }
   },
   "id": "b2ccfb422e380e6f"
  },
  {
   "cell_type": "code",
   "execution_count": 109,
   "outputs": [
    {
     "name": "stdout",
     "output_type": "stream",
     "text": [
      "Iteration:      1,   Func. Count:      5,   Neg. LLF: 58608.511942903206\n",
      "Iteration:      2,   Func. Count:     14,   Neg. LLF: 17302.34265571438\n",
      "Iteration:      3,   Func. Count:     21,   Neg. LLF: 26139.510999790844\n",
      "Iteration:      4,   Func. Count:     27,   Neg. LLF: 14499.37911826674\n",
      "Iteration:      5,   Func. Count:     32,   Neg. LLF: 14499.3272453932\n",
      "Iteration:      6,   Func. Count:     35,   Neg. LLF: 14499.327245389859\n",
      "Optimization terminated successfully    (Exit mode 0)\n",
      "            Current function value: 14499.3272453932\n",
      "            Iterations: 6\n",
      "            Function evaluations: 35\n",
      "            Gradient evaluations: 6\n",
      "Iteration:      1,   Func. Count:      5,   Neg. LLF: 61696.287621906326\n",
      "Iteration:      2,   Func. Count:     14,   Neg. LLF: 21586.681085706005\n",
      "Iteration:      3,   Func. Count:     20,   Neg. LLF: 19253.504595120037\n",
      "Iteration:      4,   Func. Count:     26,   Neg. LLF: 4917216449.92459\n",
      "Iteration:      5,   Func. Count:     31,   Neg. LLF: 17386.51432201678\n",
      "Iteration:      6,   Func. Count:     36,   Neg. LLF: 17345.864424275285\n",
      "Iteration:      7,   Func. Count:     40,   Neg. LLF: 17345.51017805116\n",
      "Iteration:      8,   Func. Count:     44,   Neg. LLF: 17345.504956506084\n",
      "Iteration:      9,   Func. Count:     48,   Neg. LLF: 17345.504489611834\n",
      "Iteration:     10,   Func. Count:     52,   Neg. LLF: 17345.504475809183\n",
      "Iteration:     11,   Func. Count:     55,   Neg. LLF: 17345.504475807793\n",
      "Optimization terminated successfully    (Exit mode 0)\n",
      "            Current function value: 17345.504475809183\n",
      "            Iterations: 11\n",
      "            Function evaluations: 55\n",
      "            Gradient evaluations: 11\n",
      "Iteration:      1,   Func. Count:      5,   Neg. LLF: 27376.79001788072\n",
      "Iteration:      2,   Func. Count:     15,   Neg. LLF: 24238.89295942728\n",
      "Iteration:      3,   Func. Count:     21,   Neg. LLF: 20260.182322432887\n",
      "Iteration:      4,   Func. Count:     26,   Neg. LLF: 18912.42240057744\n",
      "Iteration:      5,   Func. Count:     31,   Neg. LLF: 18894.054898779767\n",
      "Iteration:      6,   Func. Count:     35,   Neg. LLF: 18891.9688287904\n",
      "Iteration:      7,   Func. Count:     39,   Neg. LLF: 18891.320954921594\n",
      "Iteration:      8,   Func. Count:     43,   Neg. LLF: 18891.257499238585\n",
      "Iteration:      9,   Func. Count:     47,   Neg. LLF: 18891.25235074949\n",
      "Iteration:     10,   Func. Count:     51,   Neg. LLF: 18891.25178923303\n",
      "Iteration:     11,   Func. Count:     55,   Neg. LLF: 18891.25174221662\n",
      "Iteration:     12,   Func. Count:     59,   Neg. LLF: 18891.251741189393\n",
      "Iteration:     13,   Func. Count:     62,   Neg. LLF: 18891.251741189473\n",
      "Optimization terminated successfully    (Exit mode 0)\n",
      "            Current function value: 18891.251741189393\n",
      "            Iterations: 13\n",
      "            Function evaluations: 62\n",
      "            Gradient evaluations: 13\n",
      "Iteration:      1,   Func. Count:      5,   Neg. LLF: 28613.214648367626\n",
      "Iteration:      2,   Func. Count:     14,   Neg. LLF: 20987.249507168544\n",
      "Iteration:      3,   Func. Count:     19,   Neg. LLF: 25571.584997600214\n",
      "Iteration:      4,   Func. Count:     25,   Neg. LLF: 20410.573554031078\n",
      "Iteration:      5,   Func. Count:     30,   Neg. LLF: 19851.180126622505\n",
      "Iteration:      6,   Func. Count:     34,   Neg. LLF: 19845.212996019563\n",
      "Iteration:      7,   Func. Count:     38,   Neg. LLF: 19843.256421479146\n",
      "Iteration:      8,   Func. Count:     42,   Neg. LLF: 19842.892792719922\n",
      "Iteration:      9,   Func. Count:     46,   Neg. LLF: 19842.842561295238\n",
      "Iteration:     10,   Func. Count:     50,   Neg. LLF: 19842.836694659054\n",
      "Iteration:     11,   Func. Count:     54,   Neg. LLF: 19842.83620858536\n",
      "Iteration:     12,   Func. Count:     58,   Neg. LLF: 19842.83619214958\n",
      "Iteration:     13,   Func. Count:     61,   Neg. LLF: 19842.83619214981\n",
      "Optimization terminated successfully    (Exit mode 0)\n",
      "            Current function value: 19842.83619214958\n",
      "            Iterations: 13\n",
      "            Function evaluations: 61\n",
      "            Gradient evaluations: 13\n",
      "Iteration:      1,   Func. Count:      5,   Neg. LLF: 26579.261590220245\n",
      "Iteration:      2,   Func. Count:     13,   Neg. LLF: 21622.13923654521\n",
      "Iteration:      3,   Func. Count:     18,   Neg. LLF: 26935.134285159183\n",
      "Iteration:      4,   Func. Count:     23,   Neg. LLF: 20908.90552746883\n",
      "Iteration:      5,   Func. Count:     28,   Neg. LLF: 20669.515090831337\n",
      "Iteration:      6,   Func. Count:     32,   Neg. LLF: 20669.288900465395\n",
      "Iteration:      7,   Func. Count:     36,   Neg. LLF: 20669.233461042375\n",
      "Iteration:      8,   Func. Count:     40,   Neg. LLF: 20669.22092904448\n",
      "Iteration:      9,   Func. Count:     44,   Neg. LLF: 20669.220698158126\n",
      "Iteration:     10,   Func. Count:     48,   Neg. LLF: 20669.22069633664\n",
      "Iteration:     11,   Func. Count:     51,   Neg. LLF: 20669.220696336306\n",
      "Optimization terminated successfully    (Exit mode 0)\n",
      "            Current function value: 20669.22069633664\n",
      "            Iterations: 11\n",
      "            Function evaluations: 51\n",
      "            Gradient evaluations: 11\n"
     ]
    },
    {
     "data": {
      "text/plain": "  forecast_date    q0.025     q0.25      q0.5     q0.75    q0.975\n0    2023-11-23 -2.514508 -0.568668  0.032509  0.654284  2.213762\n1    2023-11-24 -3.315351 -0.846235  0.040133  0.931243  3.056650\n2    2023-11-27 -4.232780 -1.008171  0.082107  1.163857  3.917548\n3    2023-11-28 -5.282777 -1.258985  0.095585  1.458670  4.825161\n4    2023-11-29 -6.002996 -1.452659  0.165065  1.704066  5.765092",
      "text/html": "<div>\n<style scoped>\n    .dataframe tbody tr th:only-of-type {\n        vertical-align: middle;\n    }\n\n    .dataframe tbody tr th {\n        vertical-align: top;\n    }\n\n    .dataframe thead th {\n        text-align: right;\n    }\n</style>\n<table border=\"1\" class=\"dataframe\">\n  <thead>\n    <tr style=\"text-align: right;\">\n      <th></th>\n      <th>forecast_date</th>\n      <th>q0.025</th>\n      <th>q0.25</th>\n      <th>q0.5</th>\n      <th>q0.75</th>\n      <th>q0.975</th>\n    </tr>\n  </thead>\n  <tbody>\n    <tr>\n      <th>0</th>\n      <td>2023-11-23</td>\n      <td>-2.514508</td>\n      <td>-0.568668</td>\n      <td>0.032509</td>\n      <td>0.654284</td>\n      <td>2.213762</td>\n    </tr>\n    <tr>\n      <th>1</th>\n      <td>2023-11-24</td>\n      <td>-3.315351</td>\n      <td>-0.846235</td>\n      <td>0.040133</td>\n      <td>0.931243</td>\n      <td>3.056650</td>\n    </tr>\n    <tr>\n      <th>2</th>\n      <td>2023-11-27</td>\n      <td>-4.232780</td>\n      <td>-1.008171</td>\n      <td>0.082107</td>\n      <td>1.163857</td>\n      <td>3.917548</td>\n    </tr>\n    <tr>\n      <th>3</th>\n      <td>2023-11-28</td>\n      <td>-5.282777</td>\n      <td>-1.258985</td>\n      <td>0.095585</td>\n      <td>1.458670</td>\n      <td>4.825161</td>\n    </tr>\n    <tr>\n      <th>4</th>\n      <td>2023-11-29</td>\n      <td>-6.002996</td>\n      <td>-1.452659</td>\n      <td>0.165065</td>\n      <td>1.704066</td>\n      <td>5.765092</td>\n    </tr>\n  </tbody>\n</table>\n</div>"
     },
     "execution_count": 109,
     "metadata": {},
     "output_type": "execute_result"
    }
   ],
   "source": [
    "from DAX.Models.baseline import baseline\n",
    "from DAX.Models.garch11 import garch11\n",
    "\n",
    "results = mix_models([baseline, garch11], [1,1], df)\n",
    "results"
   ],
   "metadata": {
    "collapsed": false,
    "ExecuteTime": {
     "end_time": "2023-11-22T16:25:06.213901Z",
     "start_time": "2023-11-22T16:25:06.096729Z"
    }
   },
   "id": "180f2bc87a432357"
  },
  {
   "cell_type": "code",
   "execution_count": null,
   "outputs": [],
   "source": [
    "results"
   ],
   "metadata": {
    "collapsed": false,
    "ExecuteTime": {
     "start_time": "2023-11-22T16:12:02.329015Z"
    }
   },
   "id": "8990d5494dde68d5"
  },
  {
   "cell_type": "code",
   "execution_count": 96,
   "outputs": [
    {
     "data": {
      "text/plain": "  forecast_date target horizon    q0.025     q0.25      q0.5     q0.75  \\\n0    2023-11-23    DAX   1 day -3.321265 -0.549640  0.065019  0.720873   \n1    2023-11-24    DAX   2 day -4.087895 -0.817404  0.080265  0.987420   \n2    2023-11-27    DAX   5 day -5.259161 -0.912912  0.164214  1.224285   \n3    2023-11-28    DAX   6 day -6.282629 -1.044070  0.191170  1.443441   \n4    2023-11-29    DAX   7 day -6.735742 -1.091646  0.330130  1.594461   \n\n     q0.975  \n0  2.719772  \n1  3.570492  \n2  4.628697  \n3  5.367396  \n4  6.259934  ",
      "text/html": "<div>\n<style scoped>\n    .dataframe tbody tr th:only-of-type {\n        vertical-align: middle;\n    }\n\n    .dataframe tbody tr th {\n        vertical-align: top;\n    }\n\n    .dataframe thead th {\n        text-align: right;\n    }\n</style>\n<table border=\"1\" class=\"dataframe\">\n  <thead>\n    <tr style=\"text-align: right;\">\n      <th></th>\n      <th>forecast_date</th>\n      <th>target</th>\n      <th>horizon</th>\n      <th>q0.025</th>\n      <th>q0.25</th>\n      <th>q0.5</th>\n      <th>q0.75</th>\n      <th>q0.975</th>\n    </tr>\n  </thead>\n  <tbody>\n    <tr>\n      <th>0</th>\n      <td>2023-11-23</td>\n      <td>DAX</td>\n      <td>1 day</td>\n      <td>-3.321265</td>\n      <td>-0.549640</td>\n      <td>0.065019</td>\n      <td>0.720873</td>\n      <td>2.719772</td>\n    </tr>\n    <tr>\n      <th>1</th>\n      <td>2023-11-24</td>\n      <td>DAX</td>\n      <td>2 day</td>\n      <td>-4.087895</td>\n      <td>-0.817404</td>\n      <td>0.080265</td>\n      <td>0.987420</td>\n      <td>3.570492</td>\n    </tr>\n    <tr>\n      <th>2</th>\n      <td>2023-11-27</td>\n      <td>DAX</td>\n      <td>5 day</td>\n      <td>-5.259161</td>\n      <td>-0.912912</td>\n      <td>0.164214</td>\n      <td>1.224285</td>\n      <td>4.628697</td>\n    </tr>\n    <tr>\n      <th>3</th>\n      <td>2023-11-28</td>\n      <td>DAX</td>\n      <td>6 day</td>\n      <td>-6.282629</td>\n      <td>-1.044070</td>\n      <td>0.191170</td>\n      <td>1.443441</td>\n      <td>5.367396</td>\n    </tr>\n    <tr>\n      <th>4</th>\n      <td>2023-11-29</td>\n      <td>DAX</td>\n      <td>7 day</td>\n      <td>-6.735742</td>\n      <td>-1.091646</td>\n      <td>0.330130</td>\n      <td>1.594461</td>\n      <td>6.259934</td>\n    </tr>\n  </tbody>\n</table>\n</div>"
     },
     "execution_count": 96,
     "metadata": {},
     "output_type": "execute_result"
    }
   ],
   "source": [
    "baseline(df)"
   ],
   "metadata": {
    "collapsed": false,
    "ExecuteTime": {
     "end_time": "2023-11-22T16:17:00.740505Z",
     "start_time": "2023-11-22T16:17:00.722589Z"
    }
   },
   "id": "b9bd869653df61b0"
  },
  {
   "cell_type": "code",
   "execution_count": 107,
   "outputs": [
    {
     "name": "stdout",
     "output_type": "stream",
     "text": [
      "Iteration:      1,   Func. Count:      5,   Neg. LLF: 58608.511942903206\n",
      "Iteration:      2,   Func. Count:     14,   Neg. LLF: 17302.34265571438\n",
      "Iteration:      3,   Func. Count:     21,   Neg. LLF: 26139.510999790844\n",
      "Iteration:      4,   Func. Count:     27,   Neg. LLF: 14499.37911826674\n",
      "Iteration:      5,   Func. Count:     32,   Neg. LLF: 14499.3272453932\n",
      "Iteration:      6,   Func. Count:     35,   Neg. LLF: 14499.327245389859\n",
      "Optimization terminated successfully    (Exit mode 0)\n",
      "            Current function value: 14499.3272453932\n",
      "            Iterations: 6\n",
      "            Function evaluations: 35\n",
      "            Gradient evaluations: 6\n",
      "Iteration:      1,   Func. Count:      5,   Neg. LLF: 61696.287621906326\n",
      "Iteration:      2,   Func. Count:     14,   Neg. LLF: 21586.681085706005\n",
      "Iteration:      3,   Func. Count:     20,   Neg. LLF: 19253.504595120037\n",
      "Iteration:      4,   Func. Count:     26,   Neg. LLF: 4917216449.92459\n",
      "Iteration:      5,   Func. Count:     31,   Neg. LLF: 17386.51432201678\n",
      "Iteration:      6,   Func. Count:     36,   Neg. LLF: 17345.864424275285\n",
      "Iteration:      7,   Func. Count:     40,   Neg. LLF: 17345.51017805116\n",
      "Iteration:      8,   Func. Count:     44,   Neg. LLF: 17345.504956506084\n",
      "Iteration:      9,   Func. Count:     48,   Neg. LLF: 17345.504489611834\n",
      "Iteration:     10,   Func. Count:     52,   Neg. LLF: 17345.504475809183\n",
      "Iteration:     11,   Func. Count:     55,   Neg. LLF: 17345.504475807793\n",
      "Optimization terminated successfully    (Exit mode 0)\n",
      "            Current function value: 17345.504475809183\n",
      "            Iterations: 11\n",
      "            Function evaluations: 55\n",
      "            Gradient evaluations: 11\n",
      "Iteration:      1,   Func. Count:      5,   Neg. LLF: 27376.79001788072\n",
      "Iteration:      2,   Func. Count:     15,   Neg. LLF: 24238.89295942728\n",
      "Iteration:      3,   Func. Count:     21,   Neg. LLF: 20260.182322432887\n",
      "Iteration:      4,   Func. Count:     26,   Neg. LLF: 18912.42240057744\n",
      "Iteration:      5,   Func. Count:     31,   Neg. LLF: 18894.054898779767\n",
      "Iteration:      6,   Func. Count:     35,   Neg. LLF: 18891.9688287904\n",
      "Iteration:      7,   Func. Count:     39,   Neg. LLF: 18891.320954921594\n",
      "Iteration:      8,   Func. Count:     43,   Neg. LLF: 18891.257499238585\n",
      "Iteration:      9,   Func. Count:     47,   Neg. LLF: 18891.25235074949\n",
      "Iteration:     10,   Func. Count:     51,   Neg. LLF: 18891.25178923303\n",
      "Iteration:     11,   Func. Count:     55,   Neg. LLF: 18891.25174221662\n",
      "Iteration:     12,   Func. Count:     59,   Neg. LLF: 18891.251741189393\n",
      "Iteration:     13,   Func. Count:     62,   Neg. LLF: 18891.251741189473\n",
      "Optimization terminated successfully    (Exit mode 0)\n",
      "            Current function value: 18891.251741189393\n",
      "            Iterations: 13\n",
      "            Function evaluations: 62\n",
      "            Gradient evaluations: 13\n",
      "Iteration:      1,   Func. Count:      5,   Neg. LLF: 28613.214648367626\n",
      "Iteration:      2,   Func. Count:     14,   Neg. LLF: 20987.249507168544\n",
      "Iteration:      3,   Func. Count:     19,   Neg. LLF: 25571.584997600214\n",
      "Iteration:      4,   Func. Count:     25,   Neg. LLF: 20410.573554031078\n",
      "Iteration:      5,   Func. Count:     30,   Neg. LLF: 19851.180126622505\n",
      "Iteration:      6,   Func. Count:     34,   Neg. LLF: 19845.212996019563\n",
      "Iteration:      7,   Func. Count:     38,   Neg. LLF: 19843.256421479146\n",
      "Iteration:      8,   Func. Count:     42,   Neg. LLF: 19842.892792719922\n",
      "Iteration:      9,   Func. Count:     46,   Neg. LLF: 19842.842561295238\n",
      "Iteration:     10,   Func. Count:     50,   Neg. LLF: 19842.836694659054\n",
      "Iteration:     11,   Func. Count:     54,   Neg. LLF: 19842.83620858536\n",
      "Iteration:     12,   Func. Count:     58,   Neg. LLF: 19842.83619214958\n",
      "Iteration:     13,   Func. Count:     61,   Neg. LLF: 19842.83619214981\n",
      "Optimization terminated successfully    (Exit mode 0)\n",
      "            Current function value: 19842.83619214958\n",
      "            Iterations: 13\n",
      "            Function evaluations: 61\n",
      "            Gradient evaluations: 13\n",
      "Iteration:      1,   Func. Count:      5,   Neg. LLF: 26579.261590220245\n",
      "Iteration:      2,   Func. Count:     13,   Neg. LLF: 21622.13923654521\n",
      "Iteration:      3,   Func. Count:     18,   Neg. LLF: 26935.134285159183\n",
      "Iteration:      4,   Func. Count:     23,   Neg. LLF: 20908.90552746883\n",
      "Iteration:      5,   Func. Count:     28,   Neg. LLF: 20669.515090831337\n",
      "Iteration:      6,   Func. Count:     32,   Neg. LLF: 20669.288900465395\n",
      "Iteration:      7,   Func. Count:     36,   Neg. LLF: 20669.233461042375\n",
      "Iteration:      8,   Func. Count:     40,   Neg. LLF: 20669.22092904448\n",
      "Iteration:      9,   Func. Count:     44,   Neg. LLF: 20669.220698158126\n",
      "Iteration:     10,   Func. Count:     48,   Neg. LLF: 20669.22069633664\n",
      "Iteration:     11,   Func. Count:     51,   Neg. LLF: 20669.220696336306\n",
      "Optimization terminated successfully    (Exit mode 0)\n",
      "            Current function value: 20669.22069633664\n",
      "            Iterations: 11\n",
      "            Function evaluations: 51\n",
      "            Gradient evaluations: 11\n"
     ]
    },
    {
     "data": {
      "text/plain": "     q0.025     q0.25  q0.5     q0.75    q0.975 forecast_date horizon\n0 -1.707752 -0.587695   0.0  0.587695  1.707752    2023-11-23   1 day\n1 -2.542808 -0.875066   0.0  0.875066  2.542808    2023-11-24   2 day\n2 -3.206399 -1.103430   0.0  1.103430  3.206399    2023-11-27   5 day\n3 -4.282925 -1.473899   0.0  1.473899  4.282925    2023-11-28   6 day\n4 -5.270250 -1.813671   0.0  1.813671  5.270250    2023-11-29   7 day",
      "text/html": "<div>\n<style scoped>\n    .dataframe tbody tr th:only-of-type {\n        vertical-align: middle;\n    }\n\n    .dataframe tbody tr th {\n        vertical-align: top;\n    }\n\n    .dataframe thead th {\n        text-align: right;\n    }\n</style>\n<table border=\"1\" class=\"dataframe\">\n  <thead>\n    <tr style=\"text-align: right;\">\n      <th></th>\n      <th>q0.025</th>\n      <th>q0.25</th>\n      <th>q0.5</th>\n      <th>q0.75</th>\n      <th>q0.975</th>\n      <th>forecast_date</th>\n      <th>horizon</th>\n    </tr>\n  </thead>\n  <tbody>\n    <tr>\n      <th>0</th>\n      <td>-1.707752</td>\n      <td>-0.587695</td>\n      <td>0.0</td>\n      <td>0.587695</td>\n      <td>1.707752</td>\n      <td>2023-11-23</td>\n      <td>1 day</td>\n    </tr>\n    <tr>\n      <th>1</th>\n      <td>-2.542808</td>\n      <td>-0.875066</td>\n      <td>0.0</td>\n      <td>0.875066</td>\n      <td>2.542808</td>\n      <td>2023-11-24</td>\n      <td>2 day</td>\n    </tr>\n    <tr>\n      <th>2</th>\n      <td>-3.206399</td>\n      <td>-1.103430</td>\n      <td>0.0</td>\n      <td>1.103430</td>\n      <td>3.206399</td>\n      <td>2023-11-27</td>\n      <td>5 day</td>\n    </tr>\n    <tr>\n      <th>3</th>\n      <td>-4.282925</td>\n      <td>-1.473899</td>\n      <td>0.0</td>\n      <td>1.473899</td>\n      <td>4.282925</td>\n      <td>2023-11-28</td>\n      <td>6 day</td>\n    </tr>\n    <tr>\n      <th>4</th>\n      <td>-5.270250</td>\n      <td>-1.813671</td>\n      <td>0.0</td>\n      <td>1.813671</td>\n      <td>5.270250</td>\n      <td>2023-11-29</td>\n      <td>7 day</td>\n    </tr>\n  </tbody>\n</table>\n</div>"
     },
     "execution_count": 107,
     "metadata": {},
     "output_type": "execute_result"
    }
   ],
   "source": [
    "garch11(df)"
   ],
   "metadata": {
    "collapsed": false,
    "ExecuteTime": {
     "end_time": "2023-11-22T16:23:41.687229Z",
     "start_time": "2023-11-22T16:23:41.575291Z"
    }
   },
   "id": "a51256b7396a2705"
  },
  {
   "cell_type": "code",
   "execution_count": null,
   "outputs": [],
   "source": [
    "output"
   ],
   "metadata": {
    "collapsed": false,
    "ExecuteTime": {
     "start_time": "2023-11-22T16:12:02.334601Z"
    }
   },
   "id": "2fc1cda864e0e453"
  },
  {
   "cell_type": "code",
   "execution_count": null,
   "outputs": [],
   "source": [
    "(-3.321265-1.755764)/2"
   ],
   "metadata": {
    "collapsed": false,
    "ExecuteTime": {
     "start_time": "2023-11-22T16:12:02.336095Z"
    }
   },
   "id": "de2d5556160d618e"
  },
  {
   "cell_type": "code",
   "execution_count": null,
   "outputs": [],
   "source": [],
   "metadata": {
    "collapsed": false,
    "ExecuteTime": {
     "start_time": "2023-11-22T16:12:02.337174Z"
    }
   },
   "id": "b39d6c8c9966ed5a"
  }
 ],
 "metadata": {
  "kernelspec": {
   "display_name": "Python 3",
   "language": "python",
   "name": "python3"
  },
  "language_info": {
   "codemirror_mode": {
    "name": "ipython",
    "version": 2
   },
   "file_extension": ".py",
   "mimetype": "text/x-python",
   "name": "python",
   "nbconvert_exporter": "python",
   "pygments_lexer": "ipython2",
   "version": "2.7.6"
  }
 },
 "nbformat": 4,
 "nbformat_minor": 5
}
