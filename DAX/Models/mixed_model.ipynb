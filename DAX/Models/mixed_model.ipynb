{
 "cells": [
  {
   "cell_type": "code",
   "execution_count": 4,
   "outputs": [
    {
     "name": "stderr",
     "output_type": "stream",
     "text": [
      "/Users/elias/Desktop/PTSFC/venv/lib/python3.9/site-packages/urllib3/__init__.py:34: NotOpenSSLWarning: urllib3 v2.0 only supports OpenSSL 1.1.1+, currently the 'ssl' module is compiled with 'LibreSSL 2.8.3'. See: https://github.com/urllib3/urllib3/issues/3020\n",
      "  warnings.warn(\n"
     ]
    }
   ],
   "source": [
    "import pandas as pd\n",
    "import numpy as np\n",
    "import matplotlib.pyplot as plt\n",
    "from datetime import timedelta, datetime\n",
    "from DAX.HelpFunctions.get_dax_data import get_dax_data\n",
    "import seaborn as sns"
   ],
   "metadata": {
    "collapsed": false,
    "ExecuteTime": {
     "end_time": "2023-12-04T17:32:42.532482Z",
     "start_time": "2023-12-04T17:32:42.364733Z"
    }
   },
   "id": "6b46a26fb5f7cf8f"
  },
  {
   "cell_type": "code",
   "execution_count": 5,
   "outputs": [],
   "source": [
    "df = get_dax_data()"
   ],
   "metadata": {
    "collapsed": false,
    "ExecuteTime": {
     "end_time": "2023-12-04T17:32:43.852106Z",
     "start_time": "2023-12-04T17:32:42.683972Z"
    }
   },
   "id": "d216b6ea3d2f6f8c"
  },
  {
   "cell_type": "code",
   "execution_count": null,
   "outputs": [],
   "source": [
    "def mix_models(models, weights, df):\n",
    "    # Check that all weights sum to 1, otherwise normalize them\n",
    "    total_weight = sum(weights)\n",
    "    if total_weight != 1:\n",
    "        weights = [w / total_weight for w in weights]\n",
    "    \n",
    "    forecast_dates = []\n",
    "    model_forecasts = []\n",
    "    horizons = []\n",
    "    for m in models:\n",
    "        forecast = m(df)\n",
    "        model_forecasts.append(forecast.loc[:,['q0.025','q0.25','q0.5','q0.75','q0.975']])\n",
    "        forecast_dates = forecast['forecast_date']\n",
    "        horizons = forecast['horizon']\n",
    "    \n",
    "    \n",
    "    mixed_forecasts = np.zeros(model_forecasts[0].shape)\n",
    "    for f, w in zip(model_forecasts, weights):\n",
    "        mixed_forecasts += f*w\n",
    "    mixed_forecasts['forecast_date'] = forecast_dates\n",
    "    mixed_forecasts['horizon'] = horizons\n",
    "    mixed_forecasts = mixed_forecasts[['forecast_date', 'horizon', 'q0.025','q0.25','q0.5','q0.75','q0.975']]\n",
    "    return mixed_forecasts"
   ],
   "metadata": {
    "collapsed": false
   },
   "id": "b2ccfb422e380e6f"
  },
  {
   "cell_type": "code",
   "execution_count": null,
   "outputs": [],
   "source": [
    "from DAX.Models.baseline import baseline\n",
    "from DAX.Models.garch11 import garch11\n",
    "\n",
    "results = mix_models([baseline, garch11], [1,1], df)\n",
    "results"
   ],
   "metadata": {
    "collapsed": false
   },
   "id": "180f2bc87a432357"
  },
  {
   "cell_type": "code",
   "execution_count": null,
   "outputs": [],
   "source": [],
   "metadata": {
    "collapsed": false
   },
   "id": "488194cce9b5739c"
  }
 ],
 "metadata": {
  "kernelspec": {
   "display_name": "Python 3",
   "language": "python",
   "name": "python3"
  },
  "language_info": {
   "codemirror_mode": {
    "name": "ipython",
    "version": 2
   },
   "file_extension": ".py",
   "mimetype": "text/x-python",
   "name": "python",
   "nbconvert_exporter": "python",
   "pygments_lexer": "ipython2",
   "version": "2.7.6"
  }
 },
 "nbformat": 4,
 "nbformat_minor": 5
}
