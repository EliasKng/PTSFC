{
 "cells": [
  {
   "cell_type": "code",
   "execution_count": null,
   "id": "initial_id",
   "metadata": {
    "collapsed": true
   },
   "outputs": [],
   "source": [
    "import pandas as pd\n",
    "import numpy as np\n",
    "import matplotlib.pyplot as plt\n",
    "import seaborn as sns\n",
    "from Energy.HelpFunctions.get_energy_data import get_energy_data, prepare_data\n",
    "from Energy.HelpFunctions.date_and_time import most_recent_thursday, split_time\n",
    "from Energy.Models.baseline import baseline\n",
    "from Energy.HelpFunctions.calc_score import evaluate_horizon\n",
    "from Energy.Models.Model1 import model1\n",
    "\n",
    "# import importlib\n",
    "# importlib.reload(Energy.Models)"
   ]
  },
  {
   "cell_type": "code",
   "execution_count": 3,
   "outputs": [
    {
     "name": "stderr",
     "output_type": "stream",
     "text": [
      "100%|██████████| 256/256 [00:43<00:00,  5.90it/s]\n"
     ]
    }
   ],
   "source": [
    "df = get_energy_data()\n",
    "df = prepare_data(df)"
   ],
   "metadata": {
    "collapsed": false
   },
   "id": "7bbe30845c7abb4d"
  },
  {
   "cell_type": "code",
   "execution_count": null,
   "outputs": [],
   "source": [
    "# baseline(df, LAST_IDX=-1)\n",
    "# model1(df)"
   ],
   "metadata": {
    "collapsed": false
   },
   "id": "f76dde795cb75f16"
  },
  {
   "cell_type": "markdown",
   "source": [
    "# Cross validate"
   ],
   "metadata": {
    "collapsed": false
   },
   "id": "58741ff6badc9818"
  },
  {
   "cell_type": "markdown",
   "source": [
    "Remove everything til last thursday night 12pm"
   ],
   "metadata": {
    "collapsed": false
   },
   "id": "c75bc49e7d3d4f25"
  },
  {
   "cell_type": "markdown",
   "source": [],
   "metadata": {
    "collapsed": false
   },
   "id": "2cfa9d8e58e919d0"
  },
  {
   "cell_type": "code",
   "execution_count": 4,
   "outputs": [],
   "source": [
    "start_date_excl = most_recent_thursday(df)\n",
    "df_cval = df.loc[df.index < start_date_excl]"
   ],
   "metadata": {
    "collapsed": false,
    "ExecuteTime": {
     "end_time": "2023-11-13T08:05:06.066250Z",
     "start_time": "2023-11-13T08:05:06.060107Z"
    }
   },
   "id": "393b23d7490e8cb6"
  },
  {
   "cell_type": "code",
   "execution_count": 6,
   "outputs": [
    {
     "name": "stdout",
     "output_type": "stream",
     "text": [
      "                     weekday  hour  month  winter  low_consumption_time  \\\n",
      "date_time                                                                 \n",
      "2023-11-09 00:00:00        3     0     11       1                     1   \n",
      "2023-11-09 01:00:00        3     1     11       1                     1   \n",
      "2023-11-09 02:00:00        3     2     11       1                     1   \n",
      "2023-11-09 03:00:00        3     3     11       1                     1   \n",
      "2023-11-09 04:00:00        3     4     11       1                     1   \n",
      "...                      ...   ...    ...     ...                   ...   \n",
      "2023-11-17 03:00:00        4     3     11       1                     1   \n",
      "2023-11-17 04:00:00        4     4     11       1                     1   \n",
      "2023-11-17 05:00:00        4     5     11       1                     1   \n",
      "2023-11-17 06:00:00        4     6     11       1                     1   \n",
      "2023-11-17 07:00:00        4     7     11       1                     0   \n",
      "\n",
      "                     high_consumption_time  transition_time  weekend_day  \\\n",
      "date_time                                                                  \n",
      "2023-11-09 00:00:00                      0                0            0   \n",
      "2023-11-09 01:00:00                      0                0            0   \n",
      "2023-11-09 02:00:00                      0                0            0   \n",
      "2023-11-09 03:00:00                      0                0            0   \n",
      "2023-11-09 04:00:00                      0                0            0   \n",
      "...                                    ...              ...          ...   \n",
      "2023-11-17 03:00:00                      0                0            0   \n",
      "2023-11-17 04:00:00                      0                0            0   \n",
      "2023-11-17 05:00:00                      0                0            0   \n",
      "2023-11-17 06:00:00                      0                1            0   \n",
      "2023-11-17 07:00:00                      1                0            0   \n",
      "\n",
      "                        q0.025      q0.25       q0.5     q0.75     q0.975  \n",
      "date_time                                                                  \n",
      "2023-11-09 00:00:00  40.745251  47.899000  51.602253  54.84625  60.680453  \n",
      "2023-11-09 01:00:00  40.745251  47.899000  51.602253  54.84625  60.680453  \n",
      "2023-11-09 02:00:00  40.745251  47.899000  51.602253  54.84625  60.680453  \n",
      "2023-11-09 03:00:00  40.745251  47.899000  51.602253  54.84625  60.680453  \n",
      "2023-11-09 04:00:00  40.745251  47.899000  51.602253  54.84625  60.680453  \n",
      "...                        ...        ...        ...       ...        ...  \n",
      "2023-11-17 03:00:00  40.745251  47.899000  51.602253  54.84625  60.680453  \n",
      "2023-11-17 04:00:00  40.745251  47.899000  51.602253  54.84625  60.680453  \n",
      "2023-11-17 05:00:00  40.745251  47.899000  51.602253  54.84625  60.680453  \n",
      "2023-11-17 06:00:00  46.923001  56.038000  60.062752  63.48950  68.797452  \n",
      "2023-11-17 07:00:00  51.117004  63.483001  67.313252  70.63275  75.347749  \n",
      "\n",
      "[200 rows x 13 columns]\n"
     ]
    },
    {
     "data": {
      "text/plain": "        forecast_date     q0.025      q0.25       q0.5      q0.75     q0.975\n0 2023-11-10 12:00:00  51.117004  63.483001  67.313252  70.632750  75.347749\n1 2023-11-10 16:00:00  51.117004  63.483001  67.313252  70.632750  75.347749\n2 2023-11-10 20:00:00  46.923001  56.038000  60.062752  63.489500  68.797452\n3 2023-11-11 12:00:00  44.053504  53.248750  57.490751  61.055501  65.705296\n4 2023-11-11 16:00:00  44.053504  53.248750  57.490751  61.055501  65.705296\n5 2023-11-11 20:00:00  39.859501  45.803750  50.240250  53.912251  59.154999",
      "text/html": "<div>\n<style scoped>\n    .dataframe tbody tr th:only-of-type {\n        vertical-align: middle;\n    }\n\n    .dataframe tbody tr th {\n        vertical-align: top;\n    }\n\n    .dataframe thead th {\n        text-align: right;\n    }\n</style>\n<table border=\"1\" class=\"dataframe\">\n  <thead>\n    <tr style=\"text-align: right;\">\n      <th></th>\n      <th>forecast_date</th>\n      <th>q0.025</th>\n      <th>q0.25</th>\n      <th>q0.5</th>\n      <th>q0.75</th>\n      <th>q0.975</th>\n    </tr>\n  </thead>\n  <tbody>\n    <tr>\n      <th>0</th>\n      <td>2023-11-10 12:00:00</td>\n      <td>51.117004</td>\n      <td>63.483001</td>\n      <td>67.313252</td>\n      <td>70.632750</td>\n      <td>75.347749</td>\n    </tr>\n    <tr>\n      <th>1</th>\n      <td>2023-11-10 16:00:00</td>\n      <td>51.117004</td>\n      <td>63.483001</td>\n      <td>67.313252</td>\n      <td>70.632750</td>\n      <td>75.347749</td>\n    </tr>\n    <tr>\n      <th>2</th>\n      <td>2023-11-10 20:00:00</td>\n      <td>46.923001</td>\n      <td>56.038000</td>\n      <td>60.062752</td>\n      <td>63.489500</td>\n      <td>68.797452</td>\n    </tr>\n    <tr>\n      <th>3</th>\n      <td>2023-11-11 12:00:00</td>\n      <td>44.053504</td>\n      <td>53.248750</td>\n      <td>57.490751</td>\n      <td>61.055501</td>\n      <td>65.705296</td>\n    </tr>\n    <tr>\n      <th>4</th>\n      <td>2023-11-11 16:00:00</td>\n      <td>44.053504</td>\n      <td>53.248750</td>\n      <td>57.490751</td>\n      <td>61.055501</td>\n      <td>65.705296</td>\n    </tr>\n    <tr>\n      <th>5</th>\n      <td>2023-11-11 20:00:00</td>\n      <td>39.859501</td>\n      <td>45.803750</td>\n      <td>50.240250</td>\n      <td>53.912251</td>\n      <td>59.154999</td>\n    </tr>\n  </tbody>\n</table>\n</div>"
     },
     "execution_count": 6,
     "metadata": {},
     "output_type": "execute_result"
    }
   ],
   "source": [
    "# baseline(df_cval, LAST_IDX=-1)\n",
    "model1(df_cval)"
   ],
   "metadata": {
    "collapsed": false,
    "ExecuteTime": {
     "end_time": "2023-11-13T08:05:33.225927Z",
     "start_time": "2023-11-13T08:05:30.308983Z"
    }
   },
   "id": "27e46f4fe06a35cd"
  },
  {
   "cell_type": "markdown",
   "source": [
    "Repeatedly run the model. Record predictions and true values (observations). Make sure the observations are available for the most recent prediction."
   ],
   "metadata": {
    "collapsed": false
   },
   "id": "1b8dbeb69e58ff51"
  },
  {
   "cell_type": "code",
   "execution_count": 15,
   "outputs": [],
   "source": [
    "evaluation = pd.DataFrame()\n",
    "df_before = df_cval\n",
    "for w in range(100):\n",
    "    # Create a temp df that only contains the values used for training\n",
    "    df_before, df_after = split_time(df_before, num_weeks=1)\n",
    "    pred = baseline(df_before, LAST_IDX=-1)\n",
    "    # pred = model1(df_before)\n",
    "    # Transform the observations to timeseries with same index and then merge\n",
    "    obs = pd.DataFrame({'gesamt': df_cval.loc[pred['forecast_date']][\"gesamt\"]})\n",
    "    obs = obs.rename_axis('forecast_date')\n",
    "    pred = pred.set_index('forecast_date')\n",
    "    # print(pred.iloc[0]['q0.025','q0.25'])\n",
    "    merged_df = pd.merge(pred, obs, left_index=True, right_index=True) \n",
    "    \n",
    "    # Add scores to the merged_df\n",
    "    for index, row in merged_df.iterrows():\n",
    "        quantile_preds = row[['q0.025','q0.25','q0.5','q0.75','q0.975']]\n",
    "        observation = row['gesamt']\n",
    "        score = evaluate_horizon(quantile_preds, observation)\n",
    "        merged_df.at[index, 'score'] = score\n",
    "    # print(merged_df[['q0.025','q0.25','q0.5','q0.75','q0.975']])\n",
    "    evaluation = pd.concat([evaluation, merged_df])\n",
    "    "
   ],
   "metadata": {
    "collapsed": false,
    "ExecuteTime": {
     "end_time": "2023-11-13T08:11:31.685521Z",
     "start_time": "2023-11-13T08:11:27.695938Z"
    }
   },
   "id": "5cb11d31f501204a"
  },
  {
   "cell_type": "code",
   "execution_count": 16,
   "outputs": [
    {
     "data": {
      "text/plain": "                     target  horizon     q0.025      q0.25       q0.5  \\\nforecast_date                                                           \n2023-11-03 12:00:00  energy  36 hour  53.274763  60.872563  63.616750   \n2023-11-03 16:00:00  energy  40 hour  50.642019  55.814688  58.537500   \n2023-11-03 20:00:00  energy  44 hour  49.348806  52.384937  56.379125   \n2023-11-04 12:00:00  energy  60 hour  47.477200  51.317125  53.837750   \n2023-11-04 16:00:00  energy  64 hour  44.081156  47.382188  50.045750   \n...                     ...      ...        ...        ...        ...   \n2021-12-10 16:00:00  energy  40 hour  49.422063  58.959750  61.605000   \n2021-12-10 20:00:00  energy  44 hour  49.794556  55.053125  59.819375   \n2021-12-11 12:00:00  energy  60 hour  51.602300  54.199938  55.887000   \n2021-12-11 16:00:00  energy  64 hour  46.863575  49.572312  52.102500   \n2021-12-11 20:00:00  energy  68 hour  45.949019  48.853563  52.413375   \n\n                         q0.75     q0.975    gesamt      score  \nforecast_date                                                   \n2023-11-03 12:00:00  67.496313  75.325700  65.95400   6.751672  \n2023-11-03 16:00:00  63.074937  71.603694  61.48775   7.628459  \n2023-11-03 20:00:00  60.497062  67.426706  58.61850   7.199332  \n2023-11-04 12:00:00  57.682688  63.793750  55.63325   5.794109  \n2023-11-04 16:00:00  53.573437  63.037831  54.13450   9.254334  \n...                        ...        ...       ...        ...  \n2021-12-10 16:00:00  66.756438  72.169269  72.00400  25.929829  \n2021-12-10 20:00:00  63.881313  66.994919  65.66425  14.684862  \n2021-12-11 12:00:00  59.868625  63.831612  63.54050  18.443059  \n2021-12-11 16:00:00  56.106750  61.598312  63.41825  33.582581  \n2021-12-11 20:00:00  56.802563  60.269287  59.64925  17.619763  \n\n[600 rows x 9 columns]",
      "text/html": "<div>\n<style scoped>\n    .dataframe tbody tr th:only-of-type {\n        vertical-align: middle;\n    }\n\n    .dataframe tbody tr th {\n        vertical-align: top;\n    }\n\n    .dataframe thead th {\n        text-align: right;\n    }\n</style>\n<table border=\"1\" class=\"dataframe\">\n  <thead>\n    <tr style=\"text-align: right;\">\n      <th></th>\n      <th>target</th>\n      <th>horizon</th>\n      <th>q0.025</th>\n      <th>q0.25</th>\n      <th>q0.5</th>\n      <th>q0.75</th>\n      <th>q0.975</th>\n      <th>gesamt</th>\n      <th>score</th>\n    </tr>\n    <tr>\n      <th>forecast_date</th>\n      <th></th>\n      <th></th>\n      <th></th>\n      <th></th>\n      <th></th>\n      <th></th>\n      <th></th>\n      <th></th>\n      <th></th>\n    </tr>\n  </thead>\n  <tbody>\n    <tr>\n      <th>2023-11-03 12:00:00</th>\n      <td>energy</td>\n      <td>36 hour</td>\n      <td>53.274763</td>\n      <td>60.872563</td>\n      <td>63.616750</td>\n      <td>67.496313</td>\n      <td>75.325700</td>\n      <td>65.95400</td>\n      <td>6.751672</td>\n    </tr>\n    <tr>\n      <th>2023-11-03 16:00:00</th>\n      <td>energy</td>\n      <td>40 hour</td>\n      <td>50.642019</td>\n      <td>55.814688</td>\n      <td>58.537500</td>\n      <td>63.074937</td>\n      <td>71.603694</td>\n      <td>61.48775</td>\n      <td>7.628459</td>\n    </tr>\n    <tr>\n      <th>2023-11-03 20:00:00</th>\n      <td>energy</td>\n      <td>44 hour</td>\n      <td>49.348806</td>\n      <td>52.384937</td>\n      <td>56.379125</td>\n      <td>60.497062</td>\n      <td>67.426706</td>\n      <td>58.61850</td>\n      <td>7.199332</td>\n    </tr>\n    <tr>\n      <th>2023-11-04 12:00:00</th>\n      <td>energy</td>\n      <td>60 hour</td>\n      <td>47.477200</td>\n      <td>51.317125</td>\n      <td>53.837750</td>\n      <td>57.682688</td>\n      <td>63.793750</td>\n      <td>55.63325</td>\n      <td>5.794109</td>\n    </tr>\n    <tr>\n      <th>2023-11-04 16:00:00</th>\n      <td>energy</td>\n      <td>64 hour</td>\n      <td>44.081156</td>\n      <td>47.382188</td>\n      <td>50.045750</td>\n      <td>53.573437</td>\n      <td>63.037831</td>\n      <td>54.13450</td>\n      <td>9.254334</td>\n    </tr>\n    <tr>\n      <th>...</th>\n      <td>...</td>\n      <td>...</td>\n      <td>...</td>\n      <td>...</td>\n      <td>...</td>\n      <td>...</td>\n      <td>...</td>\n      <td>...</td>\n      <td>...</td>\n    </tr>\n    <tr>\n      <th>2021-12-10 16:00:00</th>\n      <td>energy</td>\n      <td>40 hour</td>\n      <td>49.422063</td>\n      <td>58.959750</td>\n      <td>61.605000</td>\n      <td>66.756438</td>\n      <td>72.169269</td>\n      <td>72.00400</td>\n      <td>25.929829</td>\n    </tr>\n    <tr>\n      <th>2021-12-10 20:00:00</th>\n      <td>energy</td>\n      <td>44 hour</td>\n      <td>49.794556</td>\n      <td>55.053125</td>\n      <td>59.819375</td>\n      <td>63.881313</td>\n      <td>66.994919</td>\n      <td>65.66425</td>\n      <td>14.684862</td>\n    </tr>\n    <tr>\n      <th>2021-12-11 12:00:00</th>\n      <td>energy</td>\n      <td>60 hour</td>\n      <td>51.602300</td>\n      <td>54.199938</td>\n      <td>55.887000</td>\n      <td>59.868625</td>\n      <td>63.831612</td>\n      <td>63.54050</td>\n      <td>18.443059</td>\n    </tr>\n    <tr>\n      <th>2021-12-11 16:00:00</th>\n      <td>energy</td>\n      <td>64 hour</td>\n      <td>46.863575</td>\n      <td>49.572312</td>\n      <td>52.102500</td>\n      <td>56.106750</td>\n      <td>61.598312</td>\n      <td>63.41825</td>\n      <td>33.582581</td>\n    </tr>\n    <tr>\n      <th>2021-12-11 20:00:00</th>\n      <td>energy</td>\n      <td>68 hour</td>\n      <td>45.949019</td>\n      <td>48.853563</td>\n      <td>52.413375</td>\n      <td>56.802563</td>\n      <td>60.269287</td>\n      <td>59.64925</td>\n      <td>17.619763</td>\n    </tr>\n  </tbody>\n</table>\n<p>600 rows × 9 columns</p>\n</div>"
     },
     "execution_count": 16,
     "metadata": {},
     "output_type": "execute_result"
    }
   ],
   "source": [
    "evaluation"
   ],
   "metadata": {
    "collapsed": false,
    "ExecuteTime": {
     "end_time": "2023-11-13T08:11:34.128832Z",
     "start_time": "2023-11-13T08:11:34.114160Z"
    }
   },
   "id": "8b660cc86a5184e2"
  },
  {
   "cell_type": "code",
   "execution_count": 17,
   "outputs": [
    {
     "data": {
      "text/plain": "                     target  horizon     q0.025      q0.25       q0.5  \\\nforecast_date                                                           \n2023-11-03 12:00:00  energy  36 hour  53.274763  60.872563  63.616750   \n2023-10-27 12:00:00  energy  36 hour  53.274763  60.872563  63.616750   \n2023-10-20 12:00:00  energy  36 hour  53.274763  60.872563  63.616750   \n2023-10-13 12:00:00  energy  36 hour  53.274763  60.872563  63.616750   \n2023-10-06 12:00:00  energy  36 hour  53.274763  60.872563  63.616750   \n...                     ...      ...        ...        ...        ...   \n2022-01-07 12:00:00  energy  36 hour  50.738319  63.703250  66.714000   \n2021-12-31 12:00:00  energy  36 hour  50.738319  63.846187  66.769000   \n2021-12-24 12:00:00  energy  36 hour  50.738319  64.077875  66.801375   \n2021-12-17 12:00:00  energy  36 hour  50.738319  64.077875  66.801375   \n2021-12-10 12:00:00  energy  36 hour  50.738319  64.077875  66.801375   \n\n                         q0.75     q0.975    gesamt      score  \nforecast_date                                                   \n2023-11-03 12:00:00  67.496313  75.325700  65.95400   6.751672  \n2023-10-27 12:00:00  68.005250  75.325700  66.15400   7.206141  \n2023-10-20 12:00:00  68.005250  75.325700  69.16975  12.550891  \n2023-10-13 12:00:00  68.295063  75.325700  65.68725   6.884297  \n2023-10-06 12:00:00  68.334312  75.325700  64.72350   5.940172  \n...                        ...        ...       ...        ...  \n2022-01-07 12:00:00  70.733125  73.924913  73.27550  16.320517  \n2021-12-31 12:00:00  70.795625  73.924913  56.43350  29.794923  \n2021-12-24 12:00:00  70.935063  73.924913  59.74025  20.324298  \n2021-12-17 12:00:00  70.951375  73.924913  70.77025   8.564955  \n2021-12-10 12:00:00  70.951375  73.924913  73.56475  16.586205  \n\n[100 rows x 9 columns]",
      "text/html": "<div>\n<style scoped>\n    .dataframe tbody tr th:only-of-type {\n        vertical-align: middle;\n    }\n\n    .dataframe tbody tr th {\n        vertical-align: top;\n    }\n\n    .dataframe thead th {\n        text-align: right;\n    }\n</style>\n<table border=\"1\" class=\"dataframe\">\n  <thead>\n    <tr style=\"text-align: right;\">\n      <th></th>\n      <th>target</th>\n      <th>horizon</th>\n      <th>q0.025</th>\n      <th>q0.25</th>\n      <th>q0.5</th>\n      <th>q0.75</th>\n      <th>q0.975</th>\n      <th>gesamt</th>\n      <th>score</th>\n    </tr>\n    <tr>\n      <th>forecast_date</th>\n      <th></th>\n      <th></th>\n      <th></th>\n      <th></th>\n      <th></th>\n      <th></th>\n      <th></th>\n      <th></th>\n      <th></th>\n    </tr>\n  </thead>\n  <tbody>\n    <tr>\n      <th>2023-11-03 12:00:00</th>\n      <td>energy</td>\n      <td>36 hour</td>\n      <td>53.274763</td>\n      <td>60.872563</td>\n      <td>63.616750</td>\n      <td>67.496313</td>\n      <td>75.325700</td>\n      <td>65.95400</td>\n      <td>6.751672</td>\n    </tr>\n    <tr>\n      <th>2023-10-27 12:00:00</th>\n      <td>energy</td>\n      <td>36 hour</td>\n      <td>53.274763</td>\n      <td>60.872563</td>\n      <td>63.616750</td>\n      <td>68.005250</td>\n      <td>75.325700</td>\n      <td>66.15400</td>\n      <td>7.206141</td>\n    </tr>\n    <tr>\n      <th>2023-10-20 12:00:00</th>\n      <td>energy</td>\n      <td>36 hour</td>\n      <td>53.274763</td>\n      <td>60.872563</td>\n      <td>63.616750</td>\n      <td>68.005250</td>\n      <td>75.325700</td>\n      <td>69.16975</td>\n      <td>12.550891</td>\n    </tr>\n    <tr>\n      <th>2023-10-13 12:00:00</th>\n      <td>energy</td>\n      <td>36 hour</td>\n      <td>53.274763</td>\n      <td>60.872563</td>\n      <td>63.616750</td>\n      <td>68.295063</td>\n      <td>75.325700</td>\n      <td>65.68725</td>\n      <td>6.884297</td>\n    </tr>\n    <tr>\n      <th>2023-10-06 12:00:00</th>\n      <td>energy</td>\n      <td>36 hour</td>\n      <td>53.274763</td>\n      <td>60.872563</td>\n      <td>63.616750</td>\n      <td>68.334312</td>\n      <td>75.325700</td>\n      <td>64.72350</td>\n      <td>5.940172</td>\n    </tr>\n    <tr>\n      <th>...</th>\n      <td>...</td>\n      <td>...</td>\n      <td>...</td>\n      <td>...</td>\n      <td>...</td>\n      <td>...</td>\n      <td>...</td>\n      <td>...</td>\n      <td>...</td>\n    </tr>\n    <tr>\n      <th>2022-01-07 12:00:00</th>\n      <td>energy</td>\n      <td>36 hour</td>\n      <td>50.738319</td>\n      <td>63.703250</td>\n      <td>66.714000</td>\n      <td>70.733125</td>\n      <td>73.924913</td>\n      <td>73.27550</td>\n      <td>16.320517</td>\n    </tr>\n    <tr>\n      <th>2021-12-31 12:00:00</th>\n      <td>energy</td>\n      <td>36 hour</td>\n      <td>50.738319</td>\n      <td>63.846187</td>\n      <td>66.769000</td>\n      <td>70.795625</td>\n      <td>73.924913</td>\n      <td>56.43350</td>\n      <td>29.794923</td>\n    </tr>\n    <tr>\n      <th>2021-12-24 12:00:00</th>\n      <td>energy</td>\n      <td>36 hour</td>\n      <td>50.738319</td>\n      <td>64.077875</td>\n      <td>66.801375</td>\n      <td>70.935063</td>\n      <td>73.924913</td>\n      <td>59.74025</td>\n      <td>20.324298</td>\n    </tr>\n    <tr>\n      <th>2021-12-17 12:00:00</th>\n      <td>energy</td>\n      <td>36 hour</td>\n      <td>50.738319</td>\n      <td>64.077875</td>\n      <td>66.801375</td>\n      <td>70.951375</td>\n      <td>73.924913</td>\n      <td>70.77025</td>\n      <td>8.564955</td>\n    </tr>\n    <tr>\n      <th>2021-12-10 12:00:00</th>\n      <td>energy</td>\n      <td>36 hour</td>\n      <td>50.738319</td>\n      <td>64.077875</td>\n      <td>66.801375</td>\n      <td>70.951375</td>\n      <td>73.924913</td>\n      <td>73.56475</td>\n      <td>16.586205</td>\n    </tr>\n  </tbody>\n</table>\n<p>100 rows × 9 columns</p>\n</div>"
     },
     "execution_count": 17,
     "metadata": {},
     "output_type": "execute_result"
    }
   ],
   "source": [
    "evaluation[evaluation['horizon'] == '36 hour']"
   ],
   "metadata": {
    "collapsed": false,
    "ExecuteTime": {
     "end_time": "2023-11-13T08:11:42.863199Z",
     "start_time": "2023-11-13T08:11:42.834417Z"
    }
   },
   "id": "bc59bb6c73ff24b2"
  },
  {
   "cell_type": "code",
   "execution_count": 18,
   "outputs": [
    {
     "data": {
      "text/plain": "<Figure size 640x480 with 1 Axes>",
      "image/png": "[encoded data removed]"
     },
     "metadata": {},
     "output_type": "display_data"
    }
   ],
   "source": [
    "import numpy as np\n",
    "import matplotlib.pyplot as plt\n",
    "import seaborn as sns\n",
    "\n",
    "# Example data (replace with your actual data)\n",
    "data = evaluation['score']\n",
    "\n",
    "# Kernel density estimate plot\n",
    "sns.kdeplot(data, fill=True)\n",
    "\n",
    "# Adding labels and title\n",
    "plt.xlabel('X-axis Label')\n",
    "plt.ylabel('Density')\n",
    "plt.title('Kernel Density Estimate Plot')\n",
    "\n",
    "# Display the plot\n",
    "plt.show()"
   ],
   "metadata": {
    "collapsed": false,
    "ExecuteTime": {
     "end_time": "2023-11-13T08:11:49.762801Z",
     "start_time": "2023-11-13T08:11:49.532665Z"
    }
   },
   "id": "aa86ff984b2fa530"
  },
  {
   "cell_type": "code",
   "execution_count": 10,
   "outputs": [
    {
     "ename": "KeyError",
     "evalue": "'horizon'",
     "output_type": "error",
     "traceback": [
      "\u001B[0;31m---------------------------------------------------------------------------\u001B[0m",
      "\u001B[0;31mKeyError\u001B[0m                                  Traceback (most recent call last)",
      "File \u001B[0;32m~/Desktop/PTSFC/venv/lib/python3.9/site-packages/pandas/core/indexes/base.py:3790\u001B[0m, in \u001B[0;36mIndex.get_loc\u001B[0;34m(self, key)\u001B[0m\n\u001B[1;32m   3789\u001B[0m \u001B[38;5;28;01mtry\u001B[39;00m:\n\u001B[0;32m-> 3790\u001B[0m     \u001B[38;5;28;01mreturn\u001B[39;00m \u001B[38;5;28;43mself\u001B[39;49m\u001B[38;5;241;43m.\u001B[39;49m\u001B[43m_engine\u001B[49m\u001B[38;5;241;43m.\u001B[39;49m\u001B[43mget_loc\u001B[49m\u001B[43m(\u001B[49m\u001B[43mcasted_key\u001B[49m\u001B[43m)\u001B[49m\n\u001B[1;32m   3791\u001B[0m \u001B[38;5;28;01mexcept\u001B[39;00m \u001B[38;5;167;01mKeyError\u001B[39;00m \u001B[38;5;28;01mas\u001B[39;00m err:\n",
      "File \u001B[0;32mindex.pyx:152\u001B[0m, in \u001B[0;36mpandas._libs.index.IndexEngine.get_loc\u001B[0;34m()\u001B[0m\n",
      "File \u001B[0;32mindex.pyx:181\u001B[0m, in \u001B[0;36mpandas._libs.index.IndexEngine.get_loc\u001B[0;34m()\u001B[0m\n",
      "File \u001B[0;32mpandas/_libs/hashtable_class_helper.pxi:7080\u001B[0m, in \u001B[0;36mpandas._libs.hashtable.PyObjectHashTable.get_item\u001B[0;34m()\u001B[0m\n",
      "File \u001B[0;32mpandas/_libs/hashtable_class_helper.pxi:7088\u001B[0m, in \u001B[0;36mpandas._libs.hashtable.PyObjectHashTable.get_item\u001B[0;34m()\u001B[0m\n",
      "\u001B[0;31mKeyError\u001B[0m: 'horizon'",
      "\nThe above exception was the direct cause of the following exception:\n",
      "\u001B[0;31mKeyError\u001B[0m                                  Traceback (most recent call last)",
      "Cell \u001B[0;32mIn[10], line 7\u001B[0m\n\u001B[1;32m      3\u001B[0m horizons \u001B[38;5;241m=\u001B[39m [\u001B[38;5;124m'\u001B[39m\u001B[38;5;124m36 hour\u001B[39m\u001B[38;5;124m'\u001B[39m, \u001B[38;5;124m'\u001B[39m\u001B[38;5;124m40 hour\u001B[39m\u001B[38;5;124m'\u001B[39m, \u001B[38;5;124m'\u001B[39m\u001B[38;5;124m44 hour\u001B[39m\u001B[38;5;124m'\u001B[39m, \u001B[38;5;124m'\u001B[39m\u001B[38;5;124m60 hour\u001B[39m\u001B[38;5;124m'\u001B[39m, \u001B[38;5;124m'\u001B[39m\u001B[38;5;124m64 hour\u001B[39m\u001B[38;5;124m'\u001B[39m, \u001B[38;5;124m'\u001B[39m\u001B[38;5;124m68 hour\u001B[39m\u001B[38;5;124m'\u001B[39m]\n\u001B[1;32m      5\u001B[0m \u001B[38;5;66;03m# for h in horizons:\u001B[39;00m\n\u001B[0;32m----> 7\u001B[0m ax \u001B[38;5;241m=\u001B[39m evaluation[\u001B[43mevaluation\u001B[49m\u001B[43m[\u001B[49m\u001B[38;5;124;43m'\u001B[39;49m\u001B[38;5;124;43mhorizon\u001B[39;49m\u001B[38;5;124;43m'\u001B[39;49m\u001B[43m]\u001B[49m \u001B[38;5;241m==\u001B[39m \u001B[38;5;124m'\u001B[39m\u001B[38;5;124m36 hour\u001B[39m\u001B[38;5;124m'\u001B[39m]\u001B[38;5;241m.\u001B[39mplot(kind\u001B[38;5;241m=\u001B[39m\u001B[38;5;124m'\u001B[39m\u001B[38;5;124mline\u001B[39m\u001B[38;5;124m'\u001B[39m,  linestyle\u001B[38;5;241m=\u001B[39m\u001B[38;5;124m'\u001B[39m\u001B[38;5;124m-\u001B[39m\u001B[38;5;124m'\u001B[39m)\n\u001B[1;32m      9\u001B[0m \u001B[38;5;66;03m# Adding labels and title\u001B[39;00m\n\u001B[1;32m     10\u001B[0m plt\u001B[38;5;241m.\u001B[39mxlabel(\u001B[38;5;124m'\u001B[39m\u001B[38;5;124mForecast Date\u001B[39m\u001B[38;5;124m'\u001B[39m)\n",
      "File \u001B[0;32m~/Desktop/PTSFC/venv/lib/python3.9/site-packages/pandas/core/frame.py:3893\u001B[0m, in \u001B[0;36mDataFrame.__getitem__\u001B[0;34m(self, key)\u001B[0m\n\u001B[1;32m   3891\u001B[0m \u001B[38;5;28;01mif\u001B[39;00m \u001B[38;5;28mself\u001B[39m\u001B[38;5;241m.\u001B[39mcolumns\u001B[38;5;241m.\u001B[39mnlevels \u001B[38;5;241m>\u001B[39m \u001B[38;5;241m1\u001B[39m:\n\u001B[1;32m   3892\u001B[0m     \u001B[38;5;28;01mreturn\u001B[39;00m \u001B[38;5;28mself\u001B[39m\u001B[38;5;241m.\u001B[39m_getitem_multilevel(key)\n\u001B[0;32m-> 3893\u001B[0m indexer \u001B[38;5;241m=\u001B[39m \u001B[38;5;28;43mself\u001B[39;49m\u001B[38;5;241;43m.\u001B[39;49m\u001B[43mcolumns\u001B[49m\u001B[38;5;241;43m.\u001B[39;49m\u001B[43mget_loc\u001B[49m\u001B[43m(\u001B[49m\u001B[43mkey\u001B[49m\u001B[43m)\u001B[49m\n\u001B[1;32m   3894\u001B[0m \u001B[38;5;28;01mif\u001B[39;00m is_integer(indexer):\n\u001B[1;32m   3895\u001B[0m     indexer \u001B[38;5;241m=\u001B[39m [indexer]\n",
      "File \u001B[0;32m~/Desktop/PTSFC/venv/lib/python3.9/site-packages/pandas/core/indexes/base.py:3797\u001B[0m, in \u001B[0;36mIndex.get_loc\u001B[0;34m(self, key)\u001B[0m\n\u001B[1;32m   3792\u001B[0m     \u001B[38;5;28;01mif\u001B[39;00m \u001B[38;5;28misinstance\u001B[39m(casted_key, \u001B[38;5;28mslice\u001B[39m) \u001B[38;5;129;01mor\u001B[39;00m (\n\u001B[1;32m   3793\u001B[0m         \u001B[38;5;28misinstance\u001B[39m(casted_key, abc\u001B[38;5;241m.\u001B[39mIterable)\n\u001B[1;32m   3794\u001B[0m         \u001B[38;5;129;01mand\u001B[39;00m \u001B[38;5;28many\u001B[39m(\u001B[38;5;28misinstance\u001B[39m(x, \u001B[38;5;28mslice\u001B[39m) \u001B[38;5;28;01mfor\u001B[39;00m x \u001B[38;5;129;01min\u001B[39;00m casted_key)\n\u001B[1;32m   3795\u001B[0m     ):\n\u001B[1;32m   3796\u001B[0m         \u001B[38;5;28;01mraise\u001B[39;00m InvalidIndexError(key)\n\u001B[0;32m-> 3797\u001B[0m     \u001B[38;5;28;01mraise\u001B[39;00m \u001B[38;5;167;01mKeyError\u001B[39;00m(key) \u001B[38;5;28;01mfrom\u001B[39;00m \u001B[38;5;21;01merr\u001B[39;00m\n\u001B[1;32m   3798\u001B[0m \u001B[38;5;28;01mexcept\u001B[39;00m \u001B[38;5;167;01mTypeError\u001B[39;00m:\n\u001B[1;32m   3799\u001B[0m     \u001B[38;5;66;03m# If we have a listlike key, _check_indexing_error will raise\u001B[39;00m\n\u001B[1;32m   3800\u001B[0m     \u001B[38;5;66;03m#  InvalidIndexError. Otherwise we fall through and re-raise\u001B[39;00m\n\u001B[1;32m   3801\u001B[0m     \u001B[38;5;66;03m#  the TypeError.\u001B[39;00m\n\u001B[1;32m   3802\u001B[0m     \u001B[38;5;28mself\u001B[39m\u001B[38;5;241m.\u001B[39m_check_indexing_error(key)\n",
      "\u001B[0;31mKeyError\u001B[0m: 'horizon'"
     ]
    }
   ],
   "source": [
    "import matplotlib.pyplot as plt\n",
    "\n",
    "horizons = ['36 hour', '40 hour', '44 hour', '60 hour', '64 hour', '68 hour']\n",
    "\n",
    "# for h in horizons:\n",
    "\n",
    "ax = evaluation[evaluation['horizon'] == '36 hour'].plot(kind='line',  linestyle='-')\n",
    "\n",
    "# Adding labels and title\n",
    "plt.xlabel('Forecast Date')\n",
    "plt.ylabel('Score')\n",
    "plt.title('Score Over Time: ' + '36 hour')\n",
    "ax.set_ylim(0, 80)\n",
    "# Display the plot\n",
    "plt.show()\n"
   ],
   "metadata": {
    "collapsed": false,
    "ExecuteTime": {
     "end_time": "2023-11-13T08:08:04.120337Z",
     "start_time": "2023-11-13T08:08:04.090071Z"
    }
   },
   "id": "9a8d042bb93fda67"
  },
  {
   "cell_type": "code",
   "execution_count": null,
   "outputs": [],
   "source": [
    "import matplotlib.pyplot as plt\n",
    "\n",
    "# List of horizons\n",
    "horizons = ['36 hour', '40 hour', '44 hour', '60 hour', '64 hour', '68 hour']\n",
    "\n",
    "# Plotting all lines in one plot\n",
    "plt.figure()  # Create a new figure\n",
    "for h in horizons:\n",
    "    subset = evaluation[evaluation['horizon'] == h]\n",
    "    plt.plot(subset.index, subset['score'], label=h)\n",
    "\n",
    "# Adding labels and title\n",
    "plt.xlabel('Forecast Date')\n",
    "plt.ylabel('Score')\n",
    "plt.title('Score Over Time')\n",
    "\n",
    "# Setting y-axis limit\n",
    "plt.ylim(0,55)\n",
    "\n",
    "# Adding legend\n",
    "plt.legend(title='Horizon')\n",
    "\n",
    "# Display the plot\n",
    "plt.show()"
   ],
   "metadata": {
    "collapsed": false
   },
   "id": "e5c47dab59f85ebe"
  },
  {
   "cell_type": "markdown",
   "source": [
    "It can be seen that the heavy outliers are 36 and 44 hour. Is it due to workdays (where production is still active) or not active?\n",
    "==> CHeck for Holydays\n",
    "\n",
    "YES! The orange outliers seem to be on Karfreitag.\n",
    "\n",
    "It can also be seen, that 60-68 hour-forecasts seem to have less extreme outliers"
   ],
   "metadata": {
    "collapsed": false
   },
   "id": "55bbf419890dc81"
  },
  {
   "cell_type": "code",
   "execution_count": null,
   "outputs": [],
   "source": [],
   "metadata": {
    "collapsed": false
   },
   "id": "78c267f33fd78a90"
  },
  {
   "cell_type": "code",
   "execution_count": null,
   "outputs": [],
   "source": [],
   "metadata": {
    "collapsed": false
   },
   "id": "dc7bbfd4063e6782"
  }
 ],
 "metadata": {
  "kernelspec": {
   "display_name": "Python 3",
   "language": "python",
   "name": "python3"
  },
  "language_info": {
   "codemirror_mode": {
    "name": "ipython",
    "version": 2
   },
   "file_extension": ".py",
   "mimetype": "text/x-python",
   "name": "python",
   "nbconvert_exporter": "python",
   "pygments_lexer": "ipython2",
   "version": "2.7.6"
  }
 },
 "nbformat": 4,
 "nbformat_minor": 5
}
