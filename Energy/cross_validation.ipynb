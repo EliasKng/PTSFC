{
 "cells": [
  {
   "cell_type": "code",
   "execution_count": null,
   "id": "initial_id",
   "metadata": {
    "collapsed": true
   },
   "outputs": [],
   "source": [
    "import pandas as pd\n",
    "import numpy as np\n",
    "import matplotlib.pyplot as plt\n",
    "import seaborn as sns\n",
    "from Energy.HelpFunctions.get_energy_data import get_energy_data, prepare_data\n",
    "from Energy.HelpFunctions.date_and_time import most_recent_thursday, split_time\n",
    "from Energy.Models.baseline import baseline\n",
    "from Energy.HelpFunctions.calc_score import evaluate_horizon\n",
    "\n",
    "# import importlib\n",
    "# importlib.reload(Energy.HelpFunctions)"
   ]
  },
  {
   "cell_type": "code",
   "execution_count": null,
   "outputs": [],
   "source": [
    "df = get_energy_data()\n",
    "df = prepare_data(df)"
   ],
   "metadata": {
    "collapsed": false
   },
   "id": "7bbe30845c7abb4d"
  },
  {
   "cell_type": "code",
   "execution_count": null,
   "outputs": [],
   "source": [],
   "metadata": {
    "collapsed": false
   },
   "id": "a38f56c62d37c3bb"
  },
  {
   "cell_type": "code",
   "execution_count": null,
   "outputs": [],
   "source": [
    "baseline(df, LAST_IDX=-1)"
   ],
   "metadata": {
    "collapsed": false
   },
   "id": "f76dde795cb75f16"
  },
  {
   "cell_type": "markdown",
   "source": [
    "# Cross validate"
   ],
   "metadata": {
    "collapsed": false
   },
   "id": "58741ff6badc9818"
  },
  {
   "cell_type": "markdown",
   "source": [
    "Remove everything til last thursday night 12pm"
   ],
   "metadata": {
    "collapsed": false
   },
   "id": "c75bc49e7d3d4f25"
  },
  {
   "cell_type": "markdown",
   "source": [],
   "metadata": {
    "collapsed": false
   },
   "id": "2cfa9d8e58e919d0"
  },
  {
   "cell_type": "code",
   "execution_count": null,
   "outputs": [],
   "source": [
    "start_date_excl = most_recent_thursday(df)\n",
    "df_cval = df.loc[df.index < start_date_excl]"
   ],
   "metadata": {
    "collapsed": false
   },
   "id": "393b23d7490e8cb6"
  },
  {
   "cell_type": "code",
   "execution_count": null,
   "outputs": [],
   "source": [
    "baseline(df_cval, LAST_IDX=-1)"
   ],
   "metadata": {
    "collapsed": false
   },
   "id": "27e46f4fe06a35cd"
  },
  {
   "cell_type": "markdown",
   "source": [
    "Repeatedly run the model. Record predictions and true values (observations). Make sure the observations are available for the most recent prediction."
   ],
   "metadata": {
    "collapsed": false
   },
   "id": "1b8dbeb69e58ff51"
  },
  {
   "cell_type": "code",
   "execution_count": null,
   "outputs": [],
   "source": [
    "evaluation = pd.DataFrame()\n",
    "df_before = df_cval\n",
    "for w in range(100):\n",
    "    # Create a temp df that only contains the values used for training\n",
    "    df_before, df_after = split_time(df_before, num_weeks=1)\n",
    "    pred = baseline(df_before, LAST_IDX=-1)\n",
    "    # Transform the observations to timeseries with same index and then merge\n",
    "    obs = pd.DataFrame({'gesamt': df_cval.loc[pred['forecast_date']][\"gesamt\"]})\n",
    "    obs = obs.rename_axis('forecast_date')\n",
    "    pred = pred.set_index('forecast_date')\n",
    "    # print(pred.iloc[0]['q0.025','q0.25'])\n",
    "    merged_df = pd.merge(pred, obs, left_index=True, right_index=True) \n",
    "    \n",
    "    # Add scores to the merged_df\n",
    "    for index, row in merged_df.iterrows():\n",
    "        quantile_preds = row[['q0.025','q0.25','q0.5','q0.75','q0.975']]\n",
    "        observation = row['gesamt']\n",
    "        score = evaluate_horizon(quantile_preds, observation)\n",
    "        merged_df.at[index, 'score'] = score\n",
    "    # print(merged_df[['q0.025','q0.25','q0.5','q0.75','q0.975']])\n",
    "    evaluation = pd.concat([evaluation, merged_df])\n",
    "    "
   ],
   "metadata": {
    "collapsed": false
   },
   "id": "5cb11d31f501204a"
  },
  {
   "cell_type": "code",
   "execution_count": null,
   "outputs": [],
   "source": [
    "evaluation"
   ],
   "metadata": {
    "collapsed": false
   },
   "id": "8b660cc86a5184e2"
  },
  {
   "cell_type": "code",
   "execution_count": null,
   "outputs": [],
   "source": [
    "evaluation[evaluation['horizon'] == '36 hour']"
   ],
   "metadata": {
    "collapsed": false
   },
   "id": "bc59bb6c73ff24b2"
  },
  {
   "cell_type": "code",
   "execution_count": null,
   "outputs": [],
   "source": [
    "import matplotlib.pyplot as plt\n",
    "\n",
    "horizons = ['36 hour', '40 hour', '44 hour', '60 hour', '64 hour', '68 hour']\n",
    "\n",
    "# for h in horizons:\n",
    "\n",
    "ax = evaluation[evaluation['horizon'] == '36 hour'].plot(kind='line',  linestyle='-')\n",
    "\n",
    "# Adding labels and title\n",
    "plt.xlabel('Forecast Date')\n",
    "plt.ylabel('Score')\n",
    "plt.title('Score Over Time: ' + '36 hour')\n",
    "ax.set_ylim(0, 80)\n",
    "# Display the plot\n",
    "plt.show()\n",
    "\n",
    "\n",
    "\n",
    "\n",
    "\n",
    "\n"
   ],
   "metadata": {
    "collapsed": false
   },
   "id": "9a8d042bb93fda67"
  },
  {
   "cell_type": "code",
   "execution_count": null,
   "outputs": [],
   "source": [
    "import matplotlib.pyplot as plt\n",
    "\n",
    "# List of horizons\n",
    "horizons = ['36 hour', '40 hour', '44 hour', '60 hour', '64 hour', '68 hour']\n",
    "\n",
    "# Plotting all lines in one plot\n",
    "plt.figure()  # Create a new figure\n",
    "for h in horizons:\n",
    "    subset = evaluation[evaluation['horizon'] == h]\n",
    "    plt.plot(subset.index, subset['score'], label=h)\n",
    "\n",
    "# Adding labels and title\n",
    "plt.xlabel('Forecast Date')\n",
    "plt.ylabel('Score')\n",
    "plt.title('Score Over Time')\n",
    "\n",
    "# Setting y-axis limit\n",
    "plt.ylim(0,55)\n",
    "\n",
    "# Adding legend\n",
    "plt.legend(title='Horizon')\n",
    "\n",
    "# Display the plot\n",
    "plt.show()"
   ],
   "metadata": {
    "collapsed": false
   },
   "id": "e5c47dab59f85ebe"
  },
  {
   "cell_type": "markdown",
   "source": [
    "It can be seen that the heavy outliers are 36 and 44 hour. Is it due to workdays (where production is still active) or not active?\n",
    "==> CHeck for Holydays\n",
    "\n",
    "YES! The orange outliers seem to be on Karfreitag.\n",
    "\n",
    "It can also be seen, that 60-68 hour-forecasts seem to have less extreme outliers"
   ],
   "metadata": {
    "collapsed": false
   },
   "id": "55bbf419890dc81"
  },
  {
   "cell_type": "code",
   "execution_count": null,
   "outputs": [],
   "source": [],
   "metadata": {
    "collapsed": false
   },
   "id": "78c267f33fd78a90"
  },
  {
   "cell_type": "code",
   "execution_count": null,
   "outputs": [],
   "source": [],
   "metadata": {
    "collapsed": false
   },
   "id": "dc7bbfd4063e6782"
  }
 ],
 "metadata": {
  "kernelspec": {
   "display_name": "Python 3",
   "language": "python",
   "name": "python3"
  },
  "language_info": {
   "codemirror_mode": {
    "name": "ipython",
    "version": 2
   },
   "file_extension": ".py",
   "mimetype": "text/x-python",
   "name": "python",
   "nbconvert_exporter": "python",
   "pygments_lexer": "ipython2",
   "version": "2.7.6"
  }
 },
 "nbformat": 4,
 "nbformat_minor": 5
}
