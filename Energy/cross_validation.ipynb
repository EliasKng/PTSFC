{
 "cells": [
  {
   "cell_type": "code",
   "execution_count": 2,
   "id": "initial_id",
   "metadata": {
    "collapsed": true,
    "ExecuteTime": {
     "end_time": "2023-11-12T07:02:23.976910Z",
     "start_time": "2023-11-12T07:02:23.914983Z"
    }
   },
   "outputs": [
    {
     "name": "stderr",
     "output_type": "stream",
     "text": [
      "/Users/elias/Desktop/PTSFC/venv/lib/python3.9/site-packages/urllib3/__init__.py:34: NotOpenSSLWarning: urllib3 v2.0 only supports OpenSSL 1.1.1+, currently the 'ssl' module is compiled with 'LibreSSL 2.8.3'. See: https://github.com/urllib3/urllib3/issues/3020\n",
      "  warnings.warn(\n"
     ]
    }
   ],
   "source": [
    "import pandas as pd\n",
    "import numpy as np\n",
    "import matplotlib.pyplot as plt\n",
    "import seaborn as sns\n",
    "from Energy.HelpFunctions.get_energy_data import get_energy_data, prepare_data"
   ]
  },
  {
   "cell_type": "code",
   "execution_count": 3,
   "outputs": [
    {
     "name": "stderr",
     "output_type": "stream",
     "text": [
      "  0%|          | 0/255 [00:00<?, ?it/s]/Users/elias/Desktop/PTSFC/Energy/HelpFunctions/get_energy_data.py:27: FutureWarning: The behavior of DataFrame concatenation with empty or all-NA entries is deprecated. In a future version, this will no longer exclude empty or all-NA columns when determining the result dtypes. To retain the old behavior, exclude the relevant entries before the concat operation.\n",
      "  energydata = pd.concat([energydata, pd.DataFrame(rawdata, columns=col_names)])\n",
      "100%|██████████| 255/255 [00:28<00:00,  8.98it/s]\n"
     ]
    }
   ],
   "source": [
    "df = get_energy_data()\n",
    "df = prepare_data(df)"
   ],
   "metadata": {
    "collapsed": false,
    "ExecuteTime": {
     "end_time": "2023-11-12T07:02:52.552842Z",
     "start_time": "2023-11-12T07:02:23.972961Z"
    }
   },
   "id": "7bbe30845c7abb4d"
  },
  {
   "cell_type": "code",
   "execution_count": 4,
   "outputs": [],
   "source": [
    "def remove_time(df, num_years = 0, num_months = 0, num_weeks = 0, num_days = 0, num_hours = 0):\n",
    "    # date_to_keep = df.index.max() - num_years - num_months - num_days\n",
    "    date_to_keep = df.index.max() - pd.DateOffset(years = num_years, months=num_months, weeks = num_weeks, days=num_days, hours = num_hours)\n",
    "    df = df.loc[df.index <= date_to_keep]\n",
    "    return df"
   ],
   "metadata": {
    "collapsed": false,
    "ExecuteTime": {
     "end_time": "2023-11-12T07:02:52.553058Z",
     "start_time": "2023-11-12T07:02:52.549303Z"
    }
   },
   "id": "b7dd779f9711d568"
  },
  {
   "cell_type": "code",
   "execution_count": 5,
   "outputs": [
    {
     "data": {
      "text/plain": "                       gesamt  weekday\ndate_time                             \n2018-12-24 00:00:00  42.02925        0\n2018-12-24 01:00:00  39.61025        0\n2018-12-24 02:00:00  39.13875        0\n2018-12-24 03:00:00  39.42100        0\n2018-12-24 04:00:00  40.74775        0\n...                       ...      ...\n2023-11-12 03:00:00  38.68725        6\n2023-11-12 04:00:00  39.28950        6\n2023-11-12 05:00:00  39.31125        6\n2023-11-12 06:00:00  39.64050        6\n2023-11-12 07:00:00  10.09550        6\n\n[42824 rows x 2 columns]",
      "text/html": "<div>\n<style scoped>\n    .dataframe tbody tr th:only-of-type {\n        vertical-align: middle;\n    }\n\n    .dataframe tbody tr th {\n        vertical-align: top;\n    }\n\n    .dataframe thead th {\n        text-align: right;\n    }\n</style>\n<table border=\"1\" class=\"dataframe\">\n  <thead>\n    <tr style=\"text-align: right;\">\n      <th></th>\n      <th>gesamt</th>\n      <th>weekday</th>\n    </tr>\n    <tr>\n      <th>date_time</th>\n      <th></th>\n      <th></th>\n    </tr>\n  </thead>\n  <tbody>\n    <tr>\n      <th>2018-12-24 00:00:00</th>\n      <td>42.02925</td>\n      <td>0</td>\n    </tr>\n    <tr>\n      <th>2018-12-24 01:00:00</th>\n      <td>39.61025</td>\n      <td>0</td>\n    </tr>\n    <tr>\n      <th>2018-12-24 02:00:00</th>\n      <td>39.13875</td>\n      <td>0</td>\n    </tr>\n    <tr>\n      <th>2018-12-24 03:00:00</th>\n      <td>39.42100</td>\n      <td>0</td>\n    </tr>\n    <tr>\n      <th>2018-12-24 04:00:00</th>\n      <td>40.74775</td>\n      <td>0</td>\n    </tr>\n    <tr>\n      <th>...</th>\n      <td>...</td>\n      <td>...</td>\n    </tr>\n    <tr>\n      <th>2023-11-12 03:00:00</th>\n      <td>38.68725</td>\n      <td>6</td>\n    </tr>\n    <tr>\n      <th>2023-11-12 04:00:00</th>\n      <td>39.28950</td>\n      <td>6</td>\n    </tr>\n    <tr>\n      <th>2023-11-12 05:00:00</th>\n      <td>39.31125</td>\n      <td>6</td>\n    </tr>\n    <tr>\n      <th>2023-11-12 06:00:00</th>\n      <td>39.64050</td>\n      <td>6</td>\n    </tr>\n    <tr>\n      <th>2023-11-12 07:00:00</th>\n      <td>10.09550</td>\n      <td>6</td>\n    </tr>\n  </tbody>\n</table>\n<p>42824 rows × 2 columns</p>\n</div>"
     },
     "execution_count": 5,
     "metadata": {},
     "output_type": "execute_result"
    }
   ],
   "source": [
    "df"
   ],
   "metadata": {
    "collapsed": false,
    "ExecuteTime": {
     "end_time": "2023-11-12T07:02:52.567615Z",
     "start_time": "2023-11-12T07:02:52.553931Z"
    }
   },
   "id": "b8139cbb5dd47394"
  },
  {
   "cell_type": "raw",
   "source": [],
   "metadata": {
    "collapsed": false
   },
   "id": "89dfecdef3ab764d"
  },
  {
   "cell_type": "code",
   "execution_count": 8,
   "outputs": [
    {
     "name": "stdout",
     "output_type": "stream",
     "text": [
      "A\n"
     ]
    },
    {
     "data": {
      "text/plain": "        forecast_date  target  horizon     q0.025      q0.25       q0.5  \\\n0 2023-11-13 20:00:00  energy  36 hour  47.099250  54.790000  58.275750   \n1 2023-11-14 00:00:00  energy  40 hour  39.612500  43.428562  45.941125   \n2 2023-11-14 04:00:00  energy  44 hour  39.472119  41.745313  44.774500   \n3 2023-11-14 20:00:00  energy  60 hour  51.757831  55.769188  58.404375   \n4 2023-11-15 00:00:00  energy  64 hour  41.628875  44.106687  45.769250   \n5 2023-11-15 04:00:00  energy  68 hour  40.345519  42.847750  44.830875   \n\n       q0.75     q0.975  \n0  61.938625  68.925319  \n1  49.032313  56.291488  \n2  48.597875  55.372306  \n3  62.398563  69.663931  \n4  49.245688  56.137538  \n5  48.450500  55.380406  ",
      "text/html": "<div>\n<style scoped>\n    .dataframe tbody tr th:only-of-type {\n        vertical-align: middle;\n    }\n\n    .dataframe tbody tr th {\n        vertical-align: top;\n    }\n\n    .dataframe thead th {\n        text-align: right;\n    }\n</style>\n<table border=\"1\" class=\"dataframe\">\n  <thead>\n    <tr style=\"text-align: right;\">\n      <th></th>\n      <th>forecast_date</th>\n      <th>target</th>\n      <th>horizon</th>\n      <th>q0.025</th>\n      <th>q0.25</th>\n      <th>q0.5</th>\n      <th>q0.75</th>\n      <th>q0.975</th>\n    </tr>\n  </thead>\n  <tbody>\n    <tr>\n      <th>0</th>\n      <td>2023-11-13 20:00:00</td>\n      <td>energy</td>\n      <td>36 hour</td>\n      <td>47.099250</td>\n      <td>54.790000</td>\n      <td>58.275750</td>\n      <td>61.938625</td>\n      <td>68.925319</td>\n    </tr>\n    <tr>\n      <th>1</th>\n      <td>2023-11-14 00:00:00</td>\n      <td>energy</td>\n      <td>40 hour</td>\n      <td>39.612500</td>\n      <td>43.428562</td>\n      <td>45.941125</td>\n      <td>49.032313</td>\n      <td>56.291488</td>\n    </tr>\n    <tr>\n      <th>2</th>\n      <td>2023-11-14 04:00:00</td>\n      <td>energy</td>\n      <td>44 hour</td>\n      <td>39.472119</td>\n      <td>41.745313</td>\n      <td>44.774500</td>\n      <td>48.597875</td>\n      <td>55.372306</td>\n    </tr>\n    <tr>\n      <th>3</th>\n      <td>2023-11-14 20:00:00</td>\n      <td>energy</td>\n      <td>60 hour</td>\n      <td>51.757831</td>\n      <td>55.769188</td>\n      <td>58.404375</td>\n      <td>62.398563</td>\n      <td>69.663931</td>\n    </tr>\n    <tr>\n      <th>4</th>\n      <td>2023-11-15 00:00:00</td>\n      <td>energy</td>\n      <td>64 hour</td>\n      <td>41.628875</td>\n      <td>44.106687</td>\n      <td>45.769250</td>\n      <td>49.245688</td>\n      <td>56.137538</td>\n    </tr>\n    <tr>\n      <th>5</th>\n      <td>2023-11-15 04:00:00</td>\n      <td>energy</td>\n      <td>68 hour</td>\n      <td>40.345519</td>\n      <td>42.847750</td>\n      <td>44.830875</td>\n      <td>48.450500</td>\n      <td>55.380406</td>\n    </tr>\n  </tbody>\n</table>\n</div>"
     },
     "execution_count": 8,
     "metadata": {},
     "output_type": "execute_result"
    }
   ],
   "source": [
    "from Energy.baseline import baseline\n",
    "\n",
    "baseline(df, LAST_IDX=-1)"
   ],
   "metadata": {
    "collapsed": false,
    "ExecuteTime": {
     "end_time": "2023-11-12T07:07:14.271187Z",
     "start_time": "2023-11-12T07:07:14.214685Z"
    }
   },
   "id": "f76dde795cb75f16"
  },
  {
   "cell_type": "code",
   "execution_count": 6,
   "outputs": [],
   "source": [],
   "metadata": {
    "collapsed": false,
    "ExecuteTime": {
     "end_time": "2023-11-12T07:02:52.633999Z",
     "start_time": "2023-11-12T07:02:52.613258Z"
    }
   },
   "id": "ab21b06356b38779"
  }
 ],
 "metadata": {
  "kernelspec": {
   "display_name": "Python 3",
   "language": "python",
   "name": "python3"
  },
  "language_info": {
   "codemirror_mode": {
    "name": "ipython",
    "version": 2
   },
   "file_extension": ".py",
   "mimetype": "text/x-python",
   "name": "python",
   "nbconvert_exporter": "python",
   "pygments_lexer": "ipython2",
   "version": "2.7.6"
  }
 },
 "nbformat": 4,
 "nbformat_minor": 5
}
