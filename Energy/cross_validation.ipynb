{
 "cells": [
  {
   "cell_type": "code",
   "execution_count": 5,
   "id": "initial_id",
   "metadata": {
    "collapsed": true,
    "ExecuteTime": {
     "end_time": "2023-11-12T06:32:42.323432Z",
     "start_time": "2023-11-12T06:32:42.312596Z"
    }
   },
   "outputs": [],
   "source": [
    "import pandas as pd\n",
    "import numpy as np\n",
    "import matplotlib.pyplot as plt\n",
    "import seaborn as sns\n",
    "from Energy.HelpFunctions.get_energy_data import get_energy_data, prepare_data"
   ]
  },
  {
   "cell_type": "code",
   "execution_count": 3,
   "outputs": [
    {
     "name": "stderr",
     "output_type": "stream",
     "text": [
      "  0%|          | 0/255 [00:00<?, ?it/s]/Users/elias/Desktop/PTSFC/Energy/HelpFunctions/get_energy_data.py:27: FutureWarning: The behavior of DataFrame concatenation with empty or all-NA entries is deprecated. In a future version, this will no longer exclude empty or all-NA columns when determining the result dtypes. To retain the old behavior, exclude the relevant entries before the concat operation.\n",
      "  energydata = pd.concat([energydata, pd.DataFrame(rawdata, columns=col_names)])\n",
      "100%|██████████| 255/255 [00:29<00:00,  8.74it/s]\n"
     ]
    }
   ],
   "source": [
    "df = get_energy_data()\n",
    "df = prepare_data(df)"
   ],
   "metadata": {
    "collapsed": false,
    "ExecuteTime": {
     "end_time": "2023-11-12T06:31:20.081933Z",
     "start_time": "2023-11-12T06:30:50.644327Z"
    }
   },
   "id": "7bbe30845c7abb4d"
  },
  {
   "cell_type": "code",
   "execution_count": 27,
   "outputs": [],
   "source": [
    "def remove_time(df, num_years = 0, num_months = 0, num_weeks = 0, num_days = 0, num_hours = 0):\n",
    "    # date_to_keep = df.index.max() - num_years - num_months - num_days\n",
    "    date_to_keep = df.index.max() - pd.DateOffset(years = num_years, months=num_months, weeks = num_weeks, days=num_days, hours = num_hours)\n",
    "    df = df.loc[df.index <= date_to_keep]\n",
    "    return df"
   ],
   "metadata": {
    "collapsed": false,
    "ExecuteTime": {
     "end_time": "2023-11-12T06:48:32.899510Z",
     "start_time": "2023-11-12T06:48:32.886635Z"
    }
   },
   "id": "b7dd779f9711d568"
  },
  {
   "cell_type": "code",
   "execution_count": 17,
   "outputs": [
    {
     "data": {
      "text/plain": "                       gesamt  weekday\ndate_time                             \n2018-12-24 00:00:00  42.02925        0\n2018-12-24 01:00:00  39.61025        0\n2018-12-24 02:00:00  39.13875        0\n2018-12-24 03:00:00  39.42100        0\n2018-12-24 04:00:00  40.74775        0\n...                       ...      ...\n2023-11-12 02:00:00  38.89100        6\n2023-11-12 03:00:00  38.68725        6\n2023-11-12 04:00:00  39.28950        6\n2023-11-12 05:00:00  39.31025        6\n2023-11-12 06:00:00  29.64425        6\n\n[42823 rows x 2 columns]",
      "text/html": "<div>\n<style scoped>\n    .dataframe tbody tr th:only-of-type {\n        vertical-align: middle;\n    }\n\n    .dataframe tbody tr th {\n        vertical-align: top;\n    }\n\n    .dataframe thead th {\n        text-align: right;\n    }\n</style>\n<table border=\"1\" class=\"dataframe\">\n  <thead>\n    <tr style=\"text-align: right;\">\n      <th></th>\n      <th>gesamt</th>\n      <th>weekday</th>\n    </tr>\n    <tr>\n      <th>date_time</th>\n      <th></th>\n      <th></th>\n    </tr>\n  </thead>\n  <tbody>\n    <tr>\n      <th>2018-12-24 00:00:00</th>\n      <td>42.02925</td>\n      <td>0</td>\n    </tr>\n    <tr>\n      <th>2018-12-24 01:00:00</th>\n      <td>39.61025</td>\n      <td>0</td>\n    </tr>\n    <tr>\n      <th>2018-12-24 02:00:00</th>\n      <td>39.13875</td>\n      <td>0</td>\n    </tr>\n    <tr>\n      <th>2018-12-24 03:00:00</th>\n      <td>39.42100</td>\n      <td>0</td>\n    </tr>\n    <tr>\n      <th>2018-12-24 04:00:00</th>\n      <td>40.74775</td>\n      <td>0</td>\n    </tr>\n    <tr>\n      <th>...</th>\n      <td>...</td>\n      <td>...</td>\n    </tr>\n    <tr>\n      <th>2023-11-12 02:00:00</th>\n      <td>38.89100</td>\n      <td>6</td>\n    </tr>\n    <tr>\n      <th>2023-11-12 03:00:00</th>\n      <td>38.68725</td>\n      <td>6</td>\n    </tr>\n    <tr>\n      <th>2023-11-12 04:00:00</th>\n      <td>39.28950</td>\n      <td>6</td>\n    </tr>\n    <tr>\n      <th>2023-11-12 05:00:00</th>\n      <td>39.31025</td>\n      <td>6</td>\n    </tr>\n    <tr>\n      <th>2023-11-12 06:00:00</th>\n      <td>29.64425</td>\n      <td>6</td>\n    </tr>\n  </tbody>\n</table>\n<p>42823 rows × 2 columns</p>\n</div>"
     },
     "execution_count": 17,
     "metadata": {},
     "output_type": "execute_result"
    }
   ],
   "source": [
    "df"
   ],
   "metadata": {
    "collapsed": false,
    "ExecuteTime": {
     "end_time": "2023-11-12T06:43:31.272736Z",
     "start_time": "2023-11-12T06:43:31.234823Z"
    }
   },
   "id": "b8139cbb5dd47394"
  },
  {
   "cell_type": "raw",
   "source": [],
   "metadata": {
    "collapsed": false
   },
   "id": "89dfecdef3ab764d"
  },
  {
   "cell_type": "code",
   "execution_count": 30,
   "outputs": [
    {
     "data": {
      "text/plain": "                       gesamt  weekday\ndate_time                             \n2018-12-24 00:00:00  42.02925        0\n2018-12-24 01:00:00  39.61025        0\n2018-12-24 02:00:00  39.13875        0\n2018-12-24 03:00:00  39.42100        0\n2018-12-24 04:00:00  40.74775        0\n...                       ...      ...\n2022-11-09 02:00:00  44.18275        2\n2022-11-09 03:00:00  44.86825        2\n2022-11-09 04:00:00  46.26975        2\n2022-11-09 05:00:00  50.05550        2\n2022-11-09 06:00:00  58.01300        2\n\n[33991 rows x 2 columns]",
      "text/html": "<div>\n<style scoped>\n    .dataframe tbody tr th:only-of-type {\n        vertical-align: middle;\n    }\n\n    .dataframe tbody tr th {\n        vertical-align: top;\n    }\n\n    .dataframe thead th {\n        text-align: right;\n    }\n</style>\n<table border=\"1\" class=\"dataframe\">\n  <thead>\n    <tr style=\"text-align: right;\">\n      <th></th>\n      <th>gesamt</th>\n      <th>weekday</th>\n    </tr>\n    <tr>\n      <th>date_time</th>\n      <th></th>\n      <th></th>\n    </tr>\n  </thead>\n  <tbody>\n    <tr>\n      <th>2018-12-24 00:00:00</th>\n      <td>42.02925</td>\n      <td>0</td>\n    </tr>\n    <tr>\n      <th>2018-12-24 01:00:00</th>\n      <td>39.61025</td>\n      <td>0</td>\n    </tr>\n    <tr>\n      <th>2018-12-24 02:00:00</th>\n      <td>39.13875</td>\n      <td>0</td>\n    </tr>\n    <tr>\n      <th>2018-12-24 03:00:00</th>\n      <td>39.42100</td>\n      <td>0</td>\n    </tr>\n    <tr>\n      <th>2018-12-24 04:00:00</th>\n      <td>40.74775</td>\n      <td>0</td>\n    </tr>\n    <tr>\n      <th>...</th>\n      <td>...</td>\n      <td>...</td>\n    </tr>\n    <tr>\n      <th>2022-11-09 02:00:00</th>\n      <td>44.18275</td>\n      <td>2</td>\n    </tr>\n    <tr>\n      <th>2022-11-09 03:00:00</th>\n      <td>44.86825</td>\n      <td>2</td>\n    </tr>\n    <tr>\n      <th>2022-11-09 04:00:00</th>\n      <td>46.26975</td>\n      <td>2</td>\n    </tr>\n    <tr>\n      <th>2022-11-09 05:00:00</th>\n      <td>50.05550</td>\n      <td>2</td>\n    </tr>\n    <tr>\n      <th>2022-11-09 06:00:00</th>\n      <td>58.01300</td>\n      <td>2</td>\n    </tr>\n  </tbody>\n</table>\n<p>33991 rows × 2 columns</p>\n</div>"
     },
     "execution_count": 30,
     "metadata": {},
     "output_type": "execute_result"
    }
   ],
   "source": [],
   "metadata": {
    "collapsed": false,
    "ExecuteTime": {
     "end_time": "2023-11-12T06:49:04.849278Z",
     "start_time": "2023-11-12T06:49:04.838596Z"
    }
   },
   "id": "eb29f4edf9e9b782"
  },
  {
   "cell_type": "code",
   "execution_count": null,
   "outputs": [],
   "source": [],
   "metadata": {
    "collapsed": false
   },
   "id": "f76dde795cb75f16"
  }
 ],
 "metadata": {
  "kernelspec": {
   "display_name": "Python 3",
   "language": "python",
   "name": "python3"
  },
  "language_info": {
   "codemirror_mode": {
    "name": "ipython",
    "version": 2
   },
   "file_extension": ".py",
   "mimetype": "text/x-python",
   "name": "python",
   "nbconvert_exporter": "python",
   "pygments_lexer": "ipython2",
   "version": "2.7.6"
  }
 },
 "nbformat": 4,
 "nbformat_minor": 5
}
