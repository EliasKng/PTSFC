{
 "cells": [
  {
   "cell_type": "code",
   "execution_count": 22,
   "id": "initial_id",
   "metadata": {
    "collapsed": true,
    "ExecuteTime": {
     "end_time": "2023-12-04T19:32:51.639545Z",
     "start_time": "2023-12-04T19:32:51.605566Z"
    }
   },
   "outputs": [],
   "source": [
    "import pandas as pd\n",
    "import pickle\n",
    "import matplotlib.pyplot as plt\n",
    "import seaborn as sns\n",
    "from Energy.HelpFunctions.get_energy_data import get_energy_data, prepare_data\n",
    "from HelpFunctions.date_and_time import most_recent_thursday, split_time\n",
    "from Energy.Models.baseline import baseline\n",
    "from HelpFunctions.calc_score import evaluate_horizon\n",
    "from HelpFunctions.mix_models import mix_models\n",
    "from Energy.Models.Model1 import model1\n",
    "from Energy.Models.Model2 import model2\n",
    "from Energy.Models.Model4_population import model4_population\n",
    "from Energy.Models.Model4 import model4\n",
    "from Energy.Models.Model3 import model3\n",
    "from Energy.Models.Model5 import model5\n",
    "from Energy.Models.Model4_holidays_2 import model4_holidays_2\n",
    "from Energy.Models.Model4_sunhours import model4_sunhours\n",
    "# import importlib\n",
    "# importlib.reload(Energy.Models)"
   ]
  },
  {
   "cell_type": "markdown",
   "source": [
    "If needed: Fetch energy-data first"
   ],
   "metadata": {
    "collapsed": false
   },
   "id": "473173c9a1c4423e"
  },
  {
   "cell_type": "code",
   "execution_count": 23,
   "outputs": [
    {
     "name": "stderr",
     "output_type": "stream",
     "text": [
      "  0%|          | 0/259 [00:00<?, ?it/s]/Users/elias/Desktop/PTSFC/Energy/HelpFunctions/get_energy_data.py:55: FutureWarning: The behavior of DataFrame concatenation with empty or all-NA entries is deprecated. In a future version, this will no longer exclude empty or all-NA columns when determining the result dtypes. To retain the old behavior, exclude the relevant entries before the concat operation.\n",
      "  energydata = pd.concat([energydata, pd.DataFrame(rawdata, columns=col_names)])\n",
      "100%|██████████| 259/259 [00:54<00:00,  4.76it/s]\n"
     ]
    }
   ],
   "source": [
    "from Energy.HelpFunctions.get_energy_data import fetch_energy_data\n",
    "fetch_energy_data()"
   ],
   "metadata": {
    "collapsed": false,
    "ExecuteTime": {
     "end_time": "2023-12-04T19:33:46.397965Z",
     "start_time": "2023-12-04T19:32:51.615745Z"
    }
   },
   "id": "b2a8b259e2c6f3ee"
  },
  {
   "cell_type": "code",
   "execution_count": 24,
   "outputs": [],
   "source": [
    "df = get_energy_data()\n",
    "df = prepare_data(df)"
   ],
   "metadata": {
    "collapsed": false,
    "ExecuteTime": {
     "end_time": "2023-12-04T19:33:46.417052Z",
     "start_time": "2023-12-04T19:33:46.396718Z"
    }
   },
   "id": "7bbe30845c7abb4d"
  },
  {
   "cell_type": "markdown",
   "source": [
    "# Cross validate baseline model"
   ],
   "metadata": {
    "collapsed": false
   },
   "id": "58741ff6badc9818"
  },
  {
   "cell_type": "markdown",
   "source": [
    "Remove everything til last thursday night 12pm"
   ],
   "metadata": {
    "collapsed": false
   },
   "id": "c75bc49e7d3d4f25"
  },
  {
   "cell_type": "code",
   "execution_count": 25,
   "outputs": [],
   "source": [
    "start_date_excl = most_recent_thursday(df)\n",
    "df_cval = df.loc[df.index < start_date_excl]"
   ],
   "metadata": {
    "collapsed": false,
    "ExecuteTime": {
     "end_time": "2023-12-04T19:33:46.420102Z",
     "start_time": "2023-12-04T19:33:46.415955Z"
    }
   },
   "id": "393b23d7490e8cb6"
  },
  {
   "cell_type": "markdown",
   "source": [
    "Repeatedly run the model. Record predictions and true values (observations). Make sure the observations are available for the most recent prediction."
   ],
   "metadata": {
    "collapsed": false
   },
   "id": "1b8dbeb69e58ff51"
  },
  {
   "cell_type": "code",
   "execution_count": 26,
   "outputs": [],
   "source": [
    "from HelpFunctions.mix_models import mix_models_per_horizon\n",
    "\n",
    "\n",
    "def evaluate_models(models, df, last_x, years =False, months=False, weeks=False):\n",
    "    # Check that exactly one of the boolean parameters is True\n",
    "    if sum([years, months, weeks]) != 1:\n",
    "        raise ValueError(\"Exactly one of the boolean parameters (years, months, weeks) must be True.\")\n",
    "    \n",
    "    years = int(years)\n",
    "    months = int(months)\n",
    "    weeks = int(weeks)\n",
    "        \n",
    "    for m in models:\n",
    "        print(f'*********** Start the evaluation of Model {m[\"name\"]} ***********')\n",
    "        m['evaluation'] = evaluate_model(m, df, last_x, years, months, weeks)\n",
    "        \n",
    "def evaluate_model(model, df, last_x, years, months, weeks):\n",
    "    df_before = df\n",
    "    evaluation = pd.DataFrame()\n",
    "    \n",
    "    for w in range(last_x):\n",
    "        print(f'Iteration {w} of {last_x}')\n",
    "        df_before, df_after = split_time(df_before, num_years=years, num_months=months, num_weeks=weeks)        \n",
    "        \n",
    "        pred = None     \n",
    "        # Is mixed model?\n",
    "        if callable(model['function']):\n",
    "            pred = model['function'](df_before)\n",
    "        else:\n",
    "            pred = mix_models_per_horizon(model['function'][0], model['function'][1], df_before)\n",
    "               \n",
    "        \n",
    "        obs = pd.DataFrame({'gesamt': df.loc[pred['forecast_date']][\"gesamt\"]})\n",
    "        pred = pred.set_index('forecast_date')\n",
    "        merged_df = pd.merge(pred, obs, left_index=True, right_index=True) \n",
    "    \n",
    "    \n",
    "         # Add scores to the merged_df\n",
    "        for index, row in merged_df.iterrows():\n",
    "            quantile_preds = row[['q0.025','q0.25','q0.5','q0.75','q0.975']]\n",
    "            observation = row['gesamt']\n",
    "            score = evaluate_horizon(quantile_preds, observation)\n",
    "            merged_df.at[index, 'score'] = score\n",
    "        # print(merged_df[['q0.025','q0.25','q0.5','q0.75','q0.975']])\n",
    "        evaluation = pd.concat([evaluation, merged_df])\n",
    "    return evaluation"
   ],
   "metadata": {
    "collapsed": false,
    "ExecuteTime": {
     "end_time": "2023-12-04T19:33:46.424882Z",
     "start_time": "2023-12-04T19:33:46.422740Z"
    }
   },
   "id": "59605ee6165a131"
  },
  {
   "cell_type": "markdown",
   "source": [
    "## Evaluation of selected Models"
   ],
   "metadata": {
    "collapsed": false
   },
   "id": "76ab5ca11aa99bc"
  },
  {
   "cell_type": "code",
   "execution_count": 27,
   "outputs": [],
   "source": [
    "weights_m5_bl_m4_x = [[1,1,1,0,0,0.3],[0,0,0,0.25,0.25,0.7],[0,0,0,0.25,0.25,0],[0,0,0,0.25,0.25,0],[0,0,0,0.25,0.25,0]]\n",
    "functions_m5_bl_m4_x = [model5, baseline, model4_population, model4_holidays_2, model4_sunhours]\n",
    "\n",
    "models = [\n",
    "    # {\n",
    "    #     'name': 'mixed',\n",
    "    #     'function': [[model4_sunhours, model4_holidays_2, model4_population],[1,1,1]]\n",
    "    # },\n",
    "    # {\n",
    "    #     'name': 'm5_bl_m4_x',\n",
    "    #     'function': [functions_m5_bl_m4_x,weights_m5_bl_m4_x]\n",
    "    # },\n",
    "    # {\n",
    "    #     'name': 'model5',\n",
    "    #     'function': model5\n",
    "    # },\n",
    "    {\n",
    "        'name': 'baseline',\n",
    "        'function': baseline\n",
    "     },\n",
    "    # {\n",
    "    #     'name': 'model1',\n",
    "    #     'function': model1\n",
    "    # },\n",
    "    # {\n",
    "    #     'name': 'model2',\n",
    "    #     'function': model2\n",
    "    # },\n",
    "    # {\n",
    "    #     'name': 'model3',\n",
    "    #     'function': model3\n",
    "    # },\n",
    "    # {\n",
    "    #     'name': 'model4',\n",
    "    #     'function': model4\n",
    "    # },\n",
    "    # {\n",
    "    #     'name': 'model4_sunhours',\n",
    "    #     'function': model4_sunhours\n",
    "    # },\n",
    "    # {\n",
    "    #     'name': 'model4_holidays_2',\n",
    "    #     'function': model4_holidays_2\n",
    "    # },\n",
    "    # {\n",
    "    #     'name': 'model4_population',\n",
    "    #     'function': model4_population\n",
    "    # },\n",
    "]"
   ],
   "metadata": {
    "collapsed": false,
    "ExecuteTime": {
     "end_time": "2023-12-04T19:33:46.429068Z",
     "start_time": "2023-12-04T19:33:46.425594Z"
    }
   },
   "id": "d678cf047525c9ad"
  },
  {
   "cell_type": "code",
   "execution_count": 28,
   "outputs": [
    {
     "name": "stdout",
     "output_type": "stream",
     "text": [
      "*********** Start the evaluation of Model baseline ***********\n",
      "Iteration 0 of 50\n",
      "Iteration 1 of 50\n",
      "Iteration 2 of 50\n",
      "Iteration 3 of 50\n",
      "Iteration 4 of 50\n",
      "Iteration 5 of 50\n",
      "Iteration 6 of 50\n",
      "Iteration 7 of 50\n",
      "Iteration 8 of 50\n",
      "Iteration 9 of 50\n",
      "Iteration 10 of 50\n",
      "Iteration 11 of 50\n",
      "Iteration 12 of 50\n",
      "Iteration 13 of 50\n",
      "Iteration 14 of 50\n",
      "Iteration 15 of 50\n",
      "Iteration 16 of 50\n",
      "Iteration 17 of 50\n",
      "Iteration 18 of 50\n",
      "Iteration 19 of 50\n",
      "Iteration 20 of 50\n",
      "Iteration 21 of 50\n",
      "Iteration 22 of 50\n",
      "Iteration 23 of 50\n",
      "Iteration 24 of 50\n",
      "Iteration 25 of 50\n",
      "Iteration 26 of 50\n",
      "Iteration 27 of 50\n",
      "Iteration 28 of 50\n",
      "Iteration 29 of 50\n",
      "Iteration 30 of 50\n",
      "Iteration 31 of 50\n",
      "Iteration 32 of 50\n",
      "Iteration 33 of 50\n",
      "Iteration 34 of 50\n",
      "Iteration 35 of 50\n",
      "Iteration 36 of 50\n",
      "Iteration 37 of 50\n",
      "Iteration 38 of 50\n",
      "Iteration 39 of 50\n",
      "Iteration 40 of 50\n",
      "Iteration 41 of 50\n",
      "Iteration 42 of 50\n",
      "Iteration 43 of 50\n",
      "Iteration 44 of 50\n",
      "Iteration 45 of 50\n",
      "Iteration 46 of 50\n",
      "Iteration 47 of 50\n",
      "Iteration 48 of 50\n",
      "Iteration 49 of 50\n"
     ]
    }
   ],
   "source": [
    "evaluate_models(models, df_cval, last_x=50, weeks=True)"
   ],
   "metadata": {
    "collapsed": false,
    "ExecuteTime": {
     "end_time": "2023-12-04T19:33:48.568925Z",
     "start_time": "2023-12-04T19:33:46.430045Z"
    }
   },
   "id": "cb47d8a3d2534a75"
  },
  {
   "cell_type": "code",
   "execution_count": 29,
   "outputs": [
    {
     "data": {
      "text/plain": "                     target  horizon     q0.025      q0.25       q0.5  \\\nforecast_date                                                           \n2023-11-24 12:00:00  energy  36 hour  53.274763  60.736375  63.552250   \n2023-11-24 16:00:00  energy  40 hour  50.642019  55.801063  58.491375   \n2023-11-24 20:00:00  energy  44 hour  49.348806  52.374437  56.135375   \n2023-11-25 12:00:00  energy  60 hour  47.477200  51.210125  53.837750   \n2023-11-25 16:00:00  energy  64 hour  44.081156  47.319625  50.045750   \n...                     ...      ...        ...        ...        ...   \n2022-12-16 16:00:00  energy  40 hour  54.849106  58.917375  61.555875   \n2022-12-16 20:00:00  energy  44 hour  51.692600  55.576625  58.415625   \n2022-12-17 12:00:00  energy  60 hour  51.019400  54.218625  55.583500   \n2022-12-17 16:00:00  energy  64 hour  47.169537  50.157375  51.616625   \n2022-12-17 20:00:00  energy  68 hour  45.266388  48.810375  51.382875   \n\n                         q0.75     q0.975    gesamt      score  \nforecast_date                                                   \n2023-11-24 12:00:00  66.767437  74.963481  69.70550  16.129342  \n2023-11-24 16:00:00  62.505938  70.579475  66.67200  20.862060  \n2023-11-24 20:00:00  59.835375  67.135544  63.18650  18.373181  \n2023-11-25 12:00:00  57.057937  62.957481  57.24800   7.488295  \n2023-11-25 16:00:00  53.217188  60.186881  56.81850  17.729442  \n...                        ...        ...       ...        ...  \n2022-12-16 16:00:00  66.352000  72.031300  66.96425  11.209297  \n2022-12-16 20:00:00  64.226063  68.135462  61.90600   8.637237  \n2022-12-17 12:00:00  59.475313  63.994419  61.05350  11.903470  \n2022-12-17 16:00:00  56.162063  63.037831  60.12375  20.226258  \n2022-12-17 20:00:00  56.785125  60.391506  57.45175  12.145756  \n\n[300 rows x 9 columns]",
      "text/html": "<div>\n<style scoped>\n    .dataframe tbody tr th:only-of-type {\n        vertical-align: middle;\n    }\n\n    .dataframe tbody tr th {\n        vertical-align: top;\n    }\n\n    .dataframe thead th {\n        text-align: right;\n    }\n</style>\n<table border=\"1\" class=\"dataframe\">\n  <thead>\n    <tr style=\"text-align: right;\">\n      <th></th>\n      <th>target</th>\n      <th>horizon</th>\n      <th>q0.025</th>\n      <th>q0.25</th>\n      <th>q0.5</th>\n      <th>q0.75</th>\n      <th>q0.975</th>\n      <th>gesamt</th>\n      <th>score</th>\n    </tr>\n    <tr>\n      <th>forecast_date</th>\n      <th></th>\n      <th></th>\n      <th></th>\n      <th></th>\n      <th></th>\n      <th></th>\n      <th></th>\n      <th></th>\n      <th></th>\n    </tr>\n  </thead>\n  <tbody>\n    <tr>\n      <th>2023-11-24 12:00:00</th>\n      <td>energy</td>\n      <td>36 hour</td>\n      <td>53.274763</td>\n      <td>60.736375</td>\n      <td>63.552250</td>\n      <td>66.767437</td>\n      <td>74.963481</td>\n      <td>69.70550</td>\n      <td>16.129342</td>\n    </tr>\n    <tr>\n      <th>2023-11-24 16:00:00</th>\n      <td>energy</td>\n      <td>40 hour</td>\n      <td>50.642019</td>\n      <td>55.801063</td>\n      <td>58.491375</td>\n      <td>62.505938</td>\n      <td>70.579475</td>\n      <td>66.67200</td>\n      <td>20.862060</td>\n    </tr>\n    <tr>\n      <th>2023-11-24 20:00:00</th>\n      <td>energy</td>\n      <td>44 hour</td>\n      <td>49.348806</td>\n      <td>52.374437</td>\n      <td>56.135375</td>\n      <td>59.835375</td>\n      <td>67.135544</td>\n      <td>63.18650</td>\n      <td>18.373181</td>\n    </tr>\n    <tr>\n      <th>2023-11-25 12:00:00</th>\n      <td>energy</td>\n      <td>60 hour</td>\n      <td>47.477200</td>\n      <td>51.210125</td>\n      <td>53.837750</td>\n      <td>57.057937</td>\n      <td>62.957481</td>\n      <td>57.24800</td>\n      <td>7.488295</td>\n    </tr>\n    <tr>\n      <th>2023-11-25 16:00:00</th>\n      <td>energy</td>\n      <td>64 hour</td>\n      <td>44.081156</td>\n      <td>47.319625</td>\n      <td>50.045750</td>\n      <td>53.217188</td>\n      <td>60.186881</td>\n      <td>56.81850</td>\n      <td>17.729442</td>\n    </tr>\n    <tr>\n      <th>...</th>\n      <td>...</td>\n      <td>...</td>\n      <td>...</td>\n      <td>...</td>\n      <td>...</td>\n      <td>...</td>\n      <td>...</td>\n      <td>...</td>\n      <td>...</td>\n    </tr>\n    <tr>\n      <th>2022-12-16 16:00:00</th>\n      <td>energy</td>\n      <td>40 hour</td>\n      <td>54.849106</td>\n      <td>58.917375</td>\n      <td>61.555875</td>\n      <td>66.352000</td>\n      <td>72.031300</td>\n      <td>66.96425</td>\n      <td>11.209297</td>\n    </tr>\n    <tr>\n      <th>2022-12-16 20:00:00</th>\n      <td>energy</td>\n      <td>44 hour</td>\n      <td>51.692600</td>\n      <td>55.576625</td>\n      <td>58.415625</td>\n      <td>64.226063</td>\n      <td>68.135462</td>\n      <td>61.90600</td>\n      <td>8.637237</td>\n    </tr>\n    <tr>\n      <th>2022-12-17 12:00:00</th>\n      <td>energy</td>\n      <td>60 hour</td>\n      <td>51.019400</td>\n      <td>54.218625</td>\n      <td>55.583500</td>\n      <td>59.475313</td>\n      <td>63.994419</td>\n      <td>61.05350</td>\n      <td>11.903470</td>\n    </tr>\n    <tr>\n      <th>2022-12-17 16:00:00</th>\n      <td>energy</td>\n      <td>64 hour</td>\n      <td>47.169537</td>\n      <td>50.157375</td>\n      <td>51.616625</td>\n      <td>56.162063</td>\n      <td>63.037831</td>\n      <td>60.12375</td>\n      <td>20.226258</td>\n    </tr>\n    <tr>\n      <th>2022-12-17 20:00:00</th>\n      <td>energy</td>\n      <td>68 hour</td>\n      <td>45.266388</td>\n      <td>48.810375</td>\n      <td>51.382875</td>\n      <td>56.785125</td>\n      <td>60.391506</td>\n      <td>57.45175</td>\n      <td>12.145756</td>\n    </tr>\n  </tbody>\n</table>\n<p>300 rows × 9 columns</p>\n</div>"
     },
     "execution_count": 29,
     "metadata": {},
     "output_type": "execute_result"
    }
   ],
   "source": [
    "models[0]['evaluation']"
   ],
   "metadata": {
    "collapsed": false,
    "ExecuteTime": {
     "end_time": "2023-12-04T19:33:48.574461Z",
     "start_time": "2023-12-04T19:33:48.572133Z"
    }
   },
   "id": "c3576e3a77c7f672"
  },
  {
   "cell_type": "markdown",
   "source": [
    "### Save evaluations in pkl file"
   ],
   "metadata": {
    "collapsed": false
   },
   "id": "eba78bf2f16f3ea6"
  },
  {
   "cell_type": "code",
   "execution_count": 30,
   "outputs": [],
   "source": [
    "# with open('./Model evaluations/mm_m5_bl_m4_x.pkl', 'wb') as f:\n",
    "#     pickle.dump(models, f)\n",
    "\n",
    "# with open('./Model evaluations/m4_pop_m5.pkl', 'rb') as f:\n",
    "#     models2 = pickle.load(f)"
   ],
   "metadata": {
    "collapsed": false,
    "ExecuteTime": {
     "end_time": "2023-12-04T19:33:48.577236Z",
     "start_time": "2023-12-04T19:33:48.574563Z"
    }
   },
   "id": "75464ad22c6250a6"
  },
  {
   "cell_type": "markdown",
   "source": [
    "### Create a table that only contains the different scores of the different models"
   ],
   "metadata": {
    "collapsed": false
   },
   "id": "abdceae11f001180"
  },
  {
   "cell_type": "code",
   "execution_count": 31,
   "outputs": [],
   "source": [
    "# scores = [m['evaluation']['score'][m['evaluation']['horizon'] == '36 hour'] for m in models]\n",
    "# horizons = ['36 hour', '40 hour', '44 hour', '60 hour', '64 hour', '68 hour']\n",
    "# \n",
    "# \n",
    "# names = [m['name'] for m in models]\n",
    "# score_df = pd.concat(scores, axis=1,keys=names)"
   ],
   "metadata": {
    "collapsed": false,
    "ExecuteTime": {
     "end_time": "2023-12-04T19:33:48.580Z",
     "start_time": "2023-12-04T19:33:48.576628Z"
    }
   },
   "id": "75e431dcada03444"
  },
  {
   "cell_type": "code",
   "execution_count": 32,
   "outputs": [],
   "source": [
    "horizons = ['36 hour', '40 hour', '44 hour', '60 hour', '64 hour', '68 hour']\n",
    "scores = []\n",
    "names = []\n",
    "for h in horizons:\n",
    "    for m in models:\n",
    "        col_name = f'{m[\"name\"]}: {h}'\n",
    "        scores.append(m['evaluation']['score'][m['evaluation']['horizon'] == h])\n",
    "        names.append(col_name)\n",
    "\n",
    "score_df = pd.concat(scores, axis=1,keys=names)"
   ],
   "metadata": {
    "collapsed": false,
    "ExecuteTime": {
     "end_time": "2023-12-04T19:33:48.584544Z",
     "start_time": "2023-12-04T19:33:48.580790Z"
    }
   },
   "id": "d6e3c0acfdcdacb3"
  },
  {
   "cell_type": "code",
   "execution_count": 33,
   "outputs": [
    {
     "data": {
      "text/plain": "                     baseline: 36 hour  baseline: 40 hour  baseline: 44 hour  \\\nforecast_date                                                                  \n2022-12-16 12:00:00           6.614797                NaN                NaN   \n2022-12-16 16:00:00                NaN          11.209297                NaN   \n2022-12-16 20:00:00                NaN                NaN           8.637237   \n2022-12-17 12:00:00                NaN                NaN                NaN   \n2022-12-17 16:00:00                NaN                NaN                NaN   \n...                                ...                ...                ...   \n2023-11-24 16:00:00                NaN          20.862060                NaN   \n2023-11-24 20:00:00                NaN                NaN          18.373181   \n2023-11-25 12:00:00                NaN                NaN                NaN   \n2023-11-25 16:00:00                NaN                NaN                NaN   \n2023-11-25 20:00:00                NaN                NaN                NaN   \n\n                     baseline: 60 hour  baseline: 64 hour  baseline: 68 hour  \nforecast_date                                                                 \n2022-12-16 12:00:00                NaN                NaN                NaN  \n2022-12-16 16:00:00                NaN                NaN                NaN  \n2022-12-16 20:00:00                NaN                NaN                NaN  \n2022-12-17 12:00:00          11.903470                NaN                NaN  \n2022-12-17 16:00:00                NaN          20.226258                NaN  \n...                                ...                ...                ...  \n2023-11-24 16:00:00                NaN                NaN                NaN  \n2023-11-24 20:00:00                NaN                NaN                NaN  \n2023-11-25 12:00:00           7.488295                NaN                NaN  \n2023-11-25 16:00:00                NaN          17.729442                NaN  \n2023-11-25 20:00:00                NaN                NaN          10.726813  \n\n[300 rows x 6 columns]",
      "text/html": "<div>\n<style scoped>\n    .dataframe tbody tr th:only-of-type {\n        vertical-align: middle;\n    }\n\n    .dataframe tbody tr th {\n        vertical-align: top;\n    }\n\n    .dataframe thead th {\n        text-align: right;\n    }\n</style>\n<table border=\"1\" class=\"dataframe\">\n  <thead>\n    <tr style=\"text-align: right;\">\n      <th></th>\n      <th>baseline: 36 hour</th>\n      <th>baseline: 40 hour</th>\n      <th>baseline: 44 hour</th>\n      <th>baseline: 60 hour</th>\n      <th>baseline: 64 hour</th>\n      <th>baseline: 68 hour</th>\n    </tr>\n    <tr>\n      <th>forecast_date</th>\n      <th></th>\n      <th></th>\n      <th></th>\n      <th></th>\n      <th></th>\n      <th></th>\n    </tr>\n  </thead>\n  <tbody>\n    <tr>\n      <th>2022-12-16 12:00:00</th>\n      <td>6.614797</td>\n      <td>NaN</td>\n      <td>NaN</td>\n      <td>NaN</td>\n      <td>NaN</td>\n      <td>NaN</td>\n    </tr>\n    <tr>\n      <th>2022-12-16 16:00:00</th>\n      <td>NaN</td>\n      <td>11.209297</td>\n      <td>NaN</td>\n      <td>NaN</td>\n      <td>NaN</td>\n      <td>NaN</td>\n    </tr>\n    <tr>\n      <th>2022-12-16 20:00:00</th>\n      <td>NaN</td>\n      <td>NaN</td>\n      <td>8.637237</td>\n      <td>NaN</td>\n      <td>NaN</td>\n      <td>NaN</td>\n    </tr>\n    <tr>\n      <th>2022-12-17 12:00:00</th>\n      <td>NaN</td>\n      <td>NaN</td>\n      <td>NaN</td>\n      <td>11.903470</td>\n      <td>NaN</td>\n      <td>NaN</td>\n    </tr>\n    <tr>\n      <th>2022-12-17 16:00:00</th>\n      <td>NaN</td>\n      <td>NaN</td>\n      <td>NaN</td>\n      <td>NaN</td>\n      <td>20.226258</td>\n      <td>NaN</td>\n    </tr>\n    <tr>\n      <th>...</th>\n      <td>...</td>\n      <td>...</td>\n      <td>...</td>\n      <td>...</td>\n      <td>...</td>\n      <td>...</td>\n    </tr>\n    <tr>\n      <th>2023-11-24 16:00:00</th>\n      <td>NaN</td>\n      <td>20.862060</td>\n      <td>NaN</td>\n      <td>NaN</td>\n      <td>NaN</td>\n      <td>NaN</td>\n    </tr>\n    <tr>\n      <th>2023-11-24 20:00:00</th>\n      <td>NaN</td>\n      <td>NaN</td>\n      <td>18.373181</td>\n      <td>NaN</td>\n      <td>NaN</td>\n      <td>NaN</td>\n    </tr>\n    <tr>\n      <th>2023-11-25 12:00:00</th>\n      <td>NaN</td>\n      <td>NaN</td>\n      <td>NaN</td>\n      <td>7.488295</td>\n      <td>NaN</td>\n      <td>NaN</td>\n    </tr>\n    <tr>\n      <th>2023-11-25 16:00:00</th>\n      <td>NaN</td>\n      <td>NaN</td>\n      <td>NaN</td>\n      <td>NaN</td>\n      <td>17.729442</td>\n      <td>NaN</td>\n    </tr>\n    <tr>\n      <th>2023-11-25 20:00:00</th>\n      <td>NaN</td>\n      <td>NaN</td>\n      <td>NaN</td>\n      <td>NaN</td>\n      <td>NaN</td>\n      <td>10.726813</td>\n    </tr>\n  </tbody>\n</table>\n<p>300 rows × 6 columns</p>\n</div>"
     },
     "execution_count": 33,
     "metadata": {},
     "output_type": "execute_result"
    }
   ],
   "source": [
    "score_df"
   ],
   "metadata": {
    "collapsed": false,
    "ExecuteTime": {
     "end_time": "2023-12-04T19:33:48.592644Z",
     "start_time": "2023-12-04T19:33:48.585184Z"
    }
   },
   "id": "ea5a3ba35bf3374e"
  },
  {
   "cell_type": "markdown",
   "source": [
    "### Plot the densities of the obtained scores"
   ],
   "metadata": {
    "collapsed": false
   },
   "id": "9bb45a13bfa8a60a"
  },
  {
   "cell_type": "code",
   "execution_count": 34,
   "outputs": [
    {
     "ename": "KeyError",
     "evalue": "\"None of [Index(['m5_bl_m4_x: 36 hour'], dtype='object')] are in the [columns]\"",
     "output_type": "error",
     "traceback": [
      "\u001B[0;31m---------------------------------------------------------------------------\u001B[0m",
      "\u001B[0;31mKeyError\u001B[0m                                  Traceback (most recent call last)",
      "Cell \u001B[0;32mIn[34], line 5\u001B[0m\n\u001B[1;32m      2\u001B[0m \u001B[38;5;66;03m# models_display = ['baseline', 'model4_sunhours', 'model4_holidays_2', 'model4', 'model4_population']\u001B[39;00m\n\u001B[1;32m      3\u001B[0m \u001B[38;5;28;01mfor\u001B[39;00m h \u001B[38;5;129;01min\u001B[39;00m [\u001B[38;5;28mstr\u001B[39m(h) \u001B[38;5;241m+\u001B[39m \u001B[38;5;124m\"\u001B[39m\u001B[38;5;124m hour\u001B[39m\u001B[38;5;124m\"\u001B[39m \u001B[38;5;28;01mfor\u001B[39;00m h \u001B[38;5;129;01min\u001B[39;00m [\u001B[38;5;241m36\u001B[39m, \u001B[38;5;241m40\u001B[39m, \u001B[38;5;241m44\u001B[39m, \u001B[38;5;241m60\u001B[39m, \u001B[38;5;241m64\u001B[39m, \u001B[38;5;241m68\u001B[39m]]:\n\u001B[1;32m      4\u001B[0m     \u001B[38;5;66;03m# sns.kdeplot(data=score_df.loc[:,[f'baseline: {h}',f'model3: {h}',f'MM_baseline_model3: {h}']], fill=True)\u001B[39;00m\n\u001B[0;32m----> 5\u001B[0m     sns\u001B[38;5;241m.\u001B[39mkdeplot(data\u001B[38;5;241m=\u001B[39m\u001B[43mscore_df\u001B[49m\u001B[38;5;241;43m.\u001B[39;49m\u001B[43mloc\u001B[49m\u001B[43m[\u001B[49m\u001B[43m:\u001B[49m\u001B[43m,\u001B[49m\u001B[43m[\u001B[49m\u001B[38;5;124;43mf\u001B[39;49m\u001B[38;5;124;43m'\u001B[39;49m\u001B[38;5;132;43;01m{\u001B[39;49;00m\u001B[43mm\u001B[49m\u001B[38;5;132;43;01m}\u001B[39;49;00m\u001B[38;5;124;43m: \u001B[39;49m\u001B[38;5;132;43;01m{\u001B[39;49;00m\u001B[43mh\u001B[49m\u001B[38;5;132;43;01m}\u001B[39;49;00m\u001B[38;5;124;43m'\u001B[39;49m\u001B[43m \u001B[49m\u001B[38;5;28;43;01mfor\u001B[39;49;00m\u001B[43m \u001B[49m\u001B[43mm\u001B[49m\u001B[43m \u001B[49m\u001B[38;5;129;43;01min\u001B[39;49;00m\u001B[43m \u001B[49m\u001B[43mmodels_display\u001B[49m\u001B[43m]\u001B[49m\u001B[43m]\u001B[49m, fill\u001B[38;5;241m=\u001B[39m\u001B[38;5;28;01mTrue\u001B[39;00m)\n\u001B[1;32m      7\u001B[0m     \u001B[38;5;66;03m# Adding labels and title\u001B[39;00m\n\u001B[1;32m      8\u001B[0m     plt\u001B[38;5;241m.\u001B[39mxlabel(\u001B[38;5;124m'\u001B[39m\u001B[38;5;124mScore\u001B[39m\u001B[38;5;124m'\u001B[39m)\n",
      "File \u001B[0;32m~/Desktop/PTSFC/venv/lib/python3.9/site-packages/pandas/core/indexing.py:1147\u001B[0m, in \u001B[0;36m_LocationIndexer.__getitem__\u001B[0;34m(self, key)\u001B[0m\n\u001B[1;32m   1145\u001B[0m     \u001B[38;5;28;01mif\u001B[39;00m \u001B[38;5;28mself\u001B[39m\u001B[38;5;241m.\u001B[39m_is_scalar_access(key):\n\u001B[1;32m   1146\u001B[0m         \u001B[38;5;28;01mreturn\u001B[39;00m \u001B[38;5;28mself\u001B[39m\u001B[38;5;241m.\u001B[39mobj\u001B[38;5;241m.\u001B[39m_get_value(\u001B[38;5;241m*\u001B[39mkey, takeable\u001B[38;5;241m=\u001B[39m\u001B[38;5;28mself\u001B[39m\u001B[38;5;241m.\u001B[39m_takeable)\n\u001B[0;32m-> 1147\u001B[0m     \u001B[38;5;28;01mreturn\u001B[39;00m \u001B[38;5;28;43mself\u001B[39;49m\u001B[38;5;241;43m.\u001B[39;49m\u001B[43m_getitem_tuple\u001B[49m\u001B[43m(\u001B[49m\u001B[43mkey\u001B[49m\u001B[43m)\u001B[49m\n\u001B[1;32m   1148\u001B[0m \u001B[38;5;28;01melse\u001B[39;00m:\n\u001B[1;32m   1149\u001B[0m     \u001B[38;5;66;03m# we by definition only have the 0th axis\u001B[39;00m\n\u001B[1;32m   1150\u001B[0m     axis \u001B[38;5;241m=\u001B[39m \u001B[38;5;28mself\u001B[39m\u001B[38;5;241m.\u001B[39maxis \u001B[38;5;129;01mor\u001B[39;00m \u001B[38;5;241m0\u001B[39m\n",
      "File \u001B[0;32m~/Desktop/PTSFC/venv/lib/python3.9/site-packages/pandas/core/indexing.py:1339\u001B[0m, in \u001B[0;36m_LocIndexer._getitem_tuple\u001B[0;34m(self, tup)\u001B[0m\n\u001B[1;32m   1336\u001B[0m \u001B[38;5;28;01mif\u001B[39;00m \u001B[38;5;28mself\u001B[39m\u001B[38;5;241m.\u001B[39m_multi_take_opportunity(tup):\n\u001B[1;32m   1337\u001B[0m     \u001B[38;5;28;01mreturn\u001B[39;00m \u001B[38;5;28mself\u001B[39m\u001B[38;5;241m.\u001B[39m_multi_take(tup)\n\u001B[0;32m-> 1339\u001B[0m \u001B[38;5;28;01mreturn\u001B[39;00m \u001B[38;5;28;43mself\u001B[39;49m\u001B[38;5;241;43m.\u001B[39;49m\u001B[43m_getitem_tuple_same_dim\u001B[49m\u001B[43m(\u001B[49m\u001B[43mtup\u001B[49m\u001B[43m)\u001B[49m\n",
      "File \u001B[0;32m~/Desktop/PTSFC/venv/lib/python3.9/site-packages/pandas/core/indexing.py:994\u001B[0m, in \u001B[0;36m_LocationIndexer._getitem_tuple_same_dim\u001B[0;34m(self, tup)\u001B[0m\n\u001B[1;32m    991\u001B[0m \u001B[38;5;28;01mif\u001B[39;00m com\u001B[38;5;241m.\u001B[39mis_null_slice(key):\n\u001B[1;32m    992\u001B[0m     \u001B[38;5;28;01mcontinue\u001B[39;00m\n\u001B[0;32m--> 994\u001B[0m retval \u001B[38;5;241m=\u001B[39m \u001B[38;5;28;43mgetattr\u001B[39;49m\u001B[43m(\u001B[49m\u001B[43mretval\u001B[49m\u001B[43m,\u001B[49m\u001B[43m \u001B[49m\u001B[38;5;28;43mself\u001B[39;49m\u001B[38;5;241;43m.\u001B[39;49m\u001B[43mname\u001B[49m\u001B[43m)\u001B[49m\u001B[38;5;241;43m.\u001B[39;49m\u001B[43m_getitem_axis\u001B[49m\u001B[43m(\u001B[49m\u001B[43mkey\u001B[49m\u001B[43m,\u001B[49m\u001B[43m \u001B[49m\u001B[43maxis\u001B[49m\u001B[38;5;241;43m=\u001B[39;49m\u001B[43mi\u001B[49m\u001B[43m)\u001B[49m\n\u001B[1;32m    995\u001B[0m \u001B[38;5;66;03m# We should never have retval.ndim < self.ndim, as that should\u001B[39;00m\n\u001B[1;32m    996\u001B[0m \u001B[38;5;66;03m#  be handled by the _getitem_lowerdim call above.\u001B[39;00m\n\u001B[1;32m    997\u001B[0m \u001B[38;5;28;01massert\u001B[39;00m retval\u001B[38;5;241m.\u001B[39mndim \u001B[38;5;241m==\u001B[39m \u001B[38;5;28mself\u001B[39m\u001B[38;5;241m.\u001B[39mndim\n",
      "File \u001B[0;32m~/Desktop/PTSFC/venv/lib/python3.9/site-packages/pandas/core/indexing.py:1382\u001B[0m, in \u001B[0;36m_LocIndexer._getitem_axis\u001B[0;34m(self, key, axis)\u001B[0m\n\u001B[1;32m   1379\u001B[0m     \u001B[38;5;28;01mif\u001B[39;00m \u001B[38;5;28mhasattr\u001B[39m(key, \u001B[38;5;124m\"\u001B[39m\u001B[38;5;124mndim\u001B[39m\u001B[38;5;124m\"\u001B[39m) \u001B[38;5;129;01mand\u001B[39;00m key\u001B[38;5;241m.\u001B[39mndim \u001B[38;5;241m>\u001B[39m \u001B[38;5;241m1\u001B[39m:\n\u001B[1;32m   1380\u001B[0m         \u001B[38;5;28;01mraise\u001B[39;00m \u001B[38;5;167;01mValueError\u001B[39;00m(\u001B[38;5;124m\"\u001B[39m\u001B[38;5;124mCannot index with multidimensional key\u001B[39m\u001B[38;5;124m\"\u001B[39m)\n\u001B[0;32m-> 1382\u001B[0m     \u001B[38;5;28;01mreturn\u001B[39;00m \u001B[38;5;28;43mself\u001B[39;49m\u001B[38;5;241;43m.\u001B[39;49m\u001B[43m_getitem_iterable\u001B[49m\u001B[43m(\u001B[49m\u001B[43mkey\u001B[49m\u001B[43m,\u001B[49m\u001B[43m \u001B[49m\u001B[43maxis\u001B[49m\u001B[38;5;241;43m=\u001B[39;49m\u001B[43maxis\u001B[49m\u001B[43m)\u001B[49m\n\u001B[1;32m   1384\u001B[0m \u001B[38;5;66;03m# nested tuple slicing\u001B[39;00m\n\u001B[1;32m   1385\u001B[0m \u001B[38;5;28;01mif\u001B[39;00m is_nested_tuple(key, labels):\n",
      "File \u001B[0;32m~/Desktop/PTSFC/venv/lib/python3.9/site-packages/pandas/core/indexing.py:1322\u001B[0m, in \u001B[0;36m_LocIndexer._getitem_iterable\u001B[0;34m(self, key, axis)\u001B[0m\n\u001B[1;32m   1319\u001B[0m \u001B[38;5;28mself\u001B[39m\u001B[38;5;241m.\u001B[39m_validate_key(key, axis)\n\u001B[1;32m   1321\u001B[0m \u001B[38;5;66;03m# A collection of keys\u001B[39;00m\n\u001B[0;32m-> 1322\u001B[0m keyarr, indexer \u001B[38;5;241m=\u001B[39m \u001B[38;5;28;43mself\u001B[39;49m\u001B[38;5;241;43m.\u001B[39;49m\u001B[43m_get_listlike_indexer\u001B[49m\u001B[43m(\u001B[49m\u001B[43mkey\u001B[49m\u001B[43m,\u001B[49m\u001B[43m \u001B[49m\u001B[43maxis\u001B[49m\u001B[43m)\u001B[49m\n\u001B[1;32m   1323\u001B[0m \u001B[38;5;28;01mreturn\u001B[39;00m \u001B[38;5;28mself\u001B[39m\u001B[38;5;241m.\u001B[39mobj\u001B[38;5;241m.\u001B[39m_reindex_with_indexers(\n\u001B[1;32m   1324\u001B[0m     {axis: [keyarr, indexer]}, copy\u001B[38;5;241m=\u001B[39m\u001B[38;5;28;01mTrue\u001B[39;00m, allow_dups\u001B[38;5;241m=\u001B[39m\u001B[38;5;28;01mTrue\u001B[39;00m\n\u001B[1;32m   1325\u001B[0m )\n",
      "File \u001B[0;32m~/Desktop/PTSFC/venv/lib/python3.9/site-packages/pandas/core/indexing.py:1520\u001B[0m, in \u001B[0;36m_LocIndexer._get_listlike_indexer\u001B[0;34m(self, key, axis)\u001B[0m\n\u001B[1;32m   1517\u001B[0m ax \u001B[38;5;241m=\u001B[39m \u001B[38;5;28mself\u001B[39m\u001B[38;5;241m.\u001B[39mobj\u001B[38;5;241m.\u001B[39m_get_axis(axis)\n\u001B[1;32m   1518\u001B[0m axis_name \u001B[38;5;241m=\u001B[39m \u001B[38;5;28mself\u001B[39m\u001B[38;5;241m.\u001B[39mobj\u001B[38;5;241m.\u001B[39m_get_axis_name(axis)\n\u001B[0;32m-> 1520\u001B[0m keyarr, indexer \u001B[38;5;241m=\u001B[39m \u001B[43max\u001B[49m\u001B[38;5;241;43m.\u001B[39;49m\u001B[43m_get_indexer_strict\u001B[49m\u001B[43m(\u001B[49m\u001B[43mkey\u001B[49m\u001B[43m,\u001B[49m\u001B[43m \u001B[49m\u001B[43maxis_name\u001B[49m\u001B[43m)\u001B[49m\n\u001B[1;32m   1522\u001B[0m \u001B[38;5;28;01mreturn\u001B[39;00m keyarr, indexer\n",
      "File \u001B[0;32m~/Desktop/PTSFC/venv/lib/python3.9/site-packages/pandas/core/indexes/base.py:6114\u001B[0m, in \u001B[0;36mIndex._get_indexer_strict\u001B[0;34m(self, key, axis_name)\u001B[0m\n\u001B[1;32m   6111\u001B[0m \u001B[38;5;28;01melse\u001B[39;00m:\n\u001B[1;32m   6112\u001B[0m     keyarr, indexer, new_indexer \u001B[38;5;241m=\u001B[39m \u001B[38;5;28mself\u001B[39m\u001B[38;5;241m.\u001B[39m_reindex_non_unique(keyarr)\n\u001B[0;32m-> 6114\u001B[0m \u001B[38;5;28;43mself\u001B[39;49m\u001B[38;5;241;43m.\u001B[39;49m\u001B[43m_raise_if_missing\u001B[49m\u001B[43m(\u001B[49m\u001B[43mkeyarr\u001B[49m\u001B[43m,\u001B[49m\u001B[43m \u001B[49m\u001B[43mindexer\u001B[49m\u001B[43m,\u001B[49m\u001B[43m \u001B[49m\u001B[43maxis_name\u001B[49m\u001B[43m)\u001B[49m\n\u001B[1;32m   6116\u001B[0m keyarr \u001B[38;5;241m=\u001B[39m \u001B[38;5;28mself\u001B[39m\u001B[38;5;241m.\u001B[39mtake(indexer)\n\u001B[1;32m   6117\u001B[0m \u001B[38;5;28;01mif\u001B[39;00m \u001B[38;5;28misinstance\u001B[39m(key, Index):\n\u001B[1;32m   6118\u001B[0m     \u001B[38;5;66;03m# GH 42790 - Preserve name from an Index\u001B[39;00m\n",
      "File \u001B[0;32m~/Desktop/PTSFC/venv/lib/python3.9/site-packages/pandas/core/indexes/base.py:6175\u001B[0m, in \u001B[0;36mIndex._raise_if_missing\u001B[0;34m(self, key, indexer, axis_name)\u001B[0m\n\u001B[1;32m   6173\u001B[0m     \u001B[38;5;28;01mif\u001B[39;00m use_interval_msg:\n\u001B[1;32m   6174\u001B[0m         key \u001B[38;5;241m=\u001B[39m \u001B[38;5;28mlist\u001B[39m(key)\n\u001B[0;32m-> 6175\u001B[0m     \u001B[38;5;28;01mraise\u001B[39;00m \u001B[38;5;167;01mKeyError\u001B[39;00m(\u001B[38;5;124mf\u001B[39m\u001B[38;5;124m\"\u001B[39m\u001B[38;5;124mNone of [\u001B[39m\u001B[38;5;132;01m{\u001B[39;00mkey\u001B[38;5;132;01m}\u001B[39;00m\u001B[38;5;124m] are in the [\u001B[39m\u001B[38;5;132;01m{\u001B[39;00maxis_name\u001B[38;5;132;01m}\u001B[39;00m\u001B[38;5;124m]\u001B[39m\u001B[38;5;124m\"\u001B[39m)\n\u001B[1;32m   6177\u001B[0m not_found \u001B[38;5;241m=\u001B[39m \u001B[38;5;28mlist\u001B[39m(ensure_index(key)[missing_mask\u001B[38;5;241m.\u001B[39mnonzero()[\u001B[38;5;241m0\u001B[39m]]\u001B[38;5;241m.\u001B[39munique())\n\u001B[1;32m   6178\u001B[0m \u001B[38;5;28;01mraise\u001B[39;00m \u001B[38;5;167;01mKeyError\u001B[39;00m(\u001B[38;5;124mf\u001B[39m\u001B[38;5;124m\"\u001B[39m\u001B[38;5;132;01m{\u001B[39;00mnot_found\u001B[38;5;132;01m}\u001B[39;00m\u001B[38;5;124m not in index\u001B[39m\u001B[38;5;124m\"\u001B[39m)\n",
      "\u001B[0;31mKeyError\u001B[0m: \"None of [Index(['m5_bl_m4_x: 36 hour'], dtype='object')] are in the [columns]\""
     ]
    }
   ],
   "source": [
    "models_display = ['m5_bl_m4_x']\n",
    "# models_display = ['baseline', 'model4_sunhours', 'model4_holidays_2', 'model4', 'model4_population']\n",
    "for h in [str(h) + \" hour\" for h in [36, 40, 44, 60, 64, 68]]:\n",
    "    # sns.kdeplot(data=score_df.loc[:,[f'baseline: {h}',f'model3: {h}',f'MM_baseline_model3: {h}']], fill=True)\n",
    "    sns.kdeplot(data=score_df.loc[:,[f'{m}: {h}' for m in models_display]], fill=True)\n",
    "    \n",
    "    # Adding labels and title\n",
    "    plt.xlabel('Score')\n",
    "    plt.ylabel('Density')\n",
    "    plt.title(f'Density Plot of Scores: {h} horizon')\n",
    "    \n",
    "    # Display the plot\n",
    "    plt.savefig(f'plots/density_plot_{h.replace(\" \", \"_\")}.png')\n",
    "    plt.show()"
   ],
   "metadata": {
    "collapsed": false,
    "ExecuteTime": {
     "end_time": "2023-12-04T19:33:48.638725Z",
     "start_time": "2023-12-04T19:33:48.595966Z"
    }
   },
   "id": "d666e6ed0e246e75"
  },
  {
   "cell_type": "code",
   "execution_count": null,
   "outputs": [],
   "source": [
    "for h in [str(h) + \" hour\" for h in [36, 40, 44, 60, 64, 68]]:\n",
    "    # Plot values from two columns over time\n",
    "    score_df_36_no_na = score_df[score_df[f'{models_display[0]}: {h}'].notna()]\n",
    "    for c in [f'{m}: {h}' for m in models_display]:\n",
    "        # plt.plot(score_df_36_no_na.index, score_df_36_no_na['baseline: 36 hour'], label='baseline')\n",
    "        # plt.plot(score_df_36_no_na.index, score_df_36_no_na['model1: 36 hour'], label='model1')\n",
    "        # plt.plot(score_df_36_no_na.index, score_df_36_no_na['model2: 36 hour'], label='model2')\n",
    "        plt.plot(score_df_36_no_na.index, score_df_36_no_na[c], label=c)\n",
    "        # plt.plot(score_df_36_no_na.index, score_df_36_no_na[c], label='model4')\n",
    "        # Adding labels and title\n",
    "    plt.xlabel('time')\n",
    "    plt.ylabel('score')\n",
    "    plt.title(f'Comparison of scores over time: {h}')\n",
    "    plt.ylim(0,50)\n",
    "    \n",
    "    # Display legend\n",
    "    plt.legend()\n",
    "    plt.savefig(f'plots/line_plot_{h.replace(\" \", \"_\")}.png')\n",
    "\n",
    "    # Show the plot\n",
    "    plt.show()"
   ],
   "metadata": {
    "collapsed": false,
    "ExecuteTime": {
     "start_time": "2023-12-04T19:33:48.633491Z"
    }
   },
   "id": "3700136a69248829"
  },
  {
   "cell_type": "markdown",
   "source": [
    "#### Plot Whole evaluation for a model"
   ],
   "metadata": {
    "collapsed": false
   },
   "id": "3c86e2d49eb70198"
  },
  {
   "cell_type": "code",
   "execution_count": null,
   "outputs": [],
   "source": [
    "[m['name'] for m in models]"
   ],
   "metadata": {
    "collapsed": false,
    "ExecuteTime": {
     "start_time": "2023-12-04T19:33:48.634875Z"
    }
   },
   "id": "9d2b07cd0734e2e"
  },
  {
   "cell_type": "code",
   "execution_count": null,
   "outputs": [],
   "source": [
    "\n",
    "\n",
    "import matplotlib.pyplot as plt\n",
    "\n",
    "def plot_evaluation(evaluation_data):\n",
    "    # Assuming your DataFrame is named df\n",
    "    numeric_columns = evaluation_data.select_dtypes(include='number')\n",
    "    \n",
    "    # Plotting\n",
    "    plt.figure(figsize=(12, 8))\n",
    "    for column in numeric_columns.columns:\n",
    "        plt.plot(evaluation_data.index, evaluation_data[column], label=column)\n",
    "    \n",
    "    # Adding labels and legend\n",
    "    plt.xlabel('Forecast Date')\n",
    "    plt.ylabel('Values')\n",
    "    plt.title('Line Plot for Numeric Columns')\n",
    "    plt.legend()\n",
    "    plt.grid(True)\n",
    "    plt.savefig(f'plots/evaluation_overview.png')\n",
    "    plt.show()\n",
    "\n",
    "plot_evaluation(models[1]['evaluation'][models[1]['evaluation']['horizon'] == '36 hour'])"
   ],
   "metadata": {
    "collapsed": false,
    "ExecuteTime": {
     "start_time": "2023-12-04T19:33:48.636332Z"
    }
   },
   "id": "97760d7c13d97324"
  },
  {
   "cell_type": "markdown",
   "source": [
    "### Search for outliers (highest scores per horizon)"
   ],
   "metadata": {
    "collapsed": false
   },
   "id": "621e615bdcb76d6f"
  },
  {
   "cell_type": "code",
   "execution_count": null,
   "outputs": [],
   "source": [
    "models_display = ['model4_holidays_2']\n",
    "horizons = [36]\n",
    "for h in [str(h) + \" hour\" for h in [36, 40, 44, 60, 64, 68]]:\n",
    "    for c in [f'{m}: {h}' for m in models_display]:\n",
    "        df_sorted = score_df[c].sort_values().dropna().tail(10)\n",
    "        \n",
    "        \n",
    "        print(f'{c}')\n",
    "        print(df_sorted)"
   ],
   "metadata": {
    "collapsed": false,
    "ExecuteTime": {
     "start_time": "2023-12-04T19:33:48.637926Z"
    }
   },
   "id": "9921d7965cd06b0b"
  },
  {
   "cell_type": "code",
   "execution_count": null,
   "outputs": [],
   "source": [
    "[m['name'] for m in models]"
   ],
   "metadata": {
    "collapsed": false,
    "ExecuteTime": {
     "end_time": "2023-12-04T19:33:48.642618Z",
     "start_time": "2023-12-04T19:33:48.639343Z"
    }
   },
   "id": "7b0d508e9dd18925"
  },
  {
   "cell_type": "code",
   "execution_count": null,
   "outputs": [],
   "source": [
    "models[5]"
   ],
   "metadata": {
    "collapsed": false,
    "ExecuteTime": {
     "start_time": "2023-12-04T19:33:48.640194Z"
    }
   },
   "id": "ac4f7143efeacbf5"
  },
  {
   "cell_type": "code",
   "execution_count": null,
   "outputs": [],
   "source": [],
   "metadata": {
    "collapsed": false,
    "ExecuteTime": {
     "start_time": "2023-12-04T19:33:48.641027Z"
    }
   },
   "id": "1f13521e77045c7f"
  }
 ],
 "metadata": {
  "kernelspec": {
   "display_name": "Python 3",
   "language": "python",
   "name": "python3"
  },
  "language_info": {
   "codemirror_mode": {
    "name": "ipython",
    "version": 2
   },
   "file_extension": ".py",
   "mimetype": "text/x-python",
   "name": "python",
   "nbconvert_exporter": "python",
   "pygments_lexer": "ipython2",
   "version": "2.7.6"
  }
 },
 "nbformat": 4,
 "nbformat_minor": 5
}
