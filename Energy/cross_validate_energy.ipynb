{
 "cells": [
  {
   "cell_type": "code",
   "execution_count": null,
   "id": "initial_id",
   "metadata": {
    "collapsed": true
   },
   "outputs": [],
   "source": [
    "import pandas as pd\n",
    "import pickle\n",
    "import numpy as np\n",
    "import matplotlib.pyplot as plt\n",
    "import seaborn as sns\n",
    "from Energy.HelpFunctions.get_energy_data import get_energy_data, prepare_data\n",
    "from Energy.HelpFunctions.get_energy_data import get_energy_data, prepare_data\n",
    "from HelpFunctions.date_and_time import most_recent_thursday, split_time\n",
    "from Energy.Models.baseline import baseline\n",
    "from HelpFunctions.calc_score import evaluate_horizon\n",
    "from Energy.Models.Model1 import model1\n",
    "from Energy.Models.Model2 import model2\n",
    "\n",
    "# import importlib\n",
    "# importlib.reload(Energy.Models)"
   ]
  },
  {
   "cell_type": "code",
   "execution_count": null,
   "outputs": [],
   "source": [
    "\n",
    "df = get_energy_data()\n",
    "df = prepare_data(df)"
   ],
   "metadata": {
    "collapsed": false
   },
   "id": "7bbe30845c7abb4d"
  },
  {
   "cell_type": "markdown",
   "source": [
    "# Cross validate baseline model"
   ],
   "metadata": {
    "collapsed": false
   },
   "id": "58741ff6badc9818"
  },
  {
   "cell_type": "markdown",
   "source": [
    "Remove everything til last thursday night 12pm"
   ],
   "metadata": {
    "collapsed": false
   },
   "id": "c75bc49e7d3d4f25"
  },
  {
   "cell_type": "markdown",
   "source": [],
   "metadata": {
    "collapsed": false
   },
   "id": "2cfa9d8e58e919d0"
  },
  {
   "cell_type": "code",
   "execution_count": null,
   "outputs": [],
   "source": [
    "start_date_excl = most_recent_thursday(df)\n",
    "df_cval = df.loc[df.index < start_date_excl]"
   ],
   "metadata": {
    "collapsed": false
   },
   "id": "393b23d7490e8cb6"
  },
  {
   "cell_type": "code",
   "execution_count": null,
   "outputs": [],
   "source": [
    "# baseline(df_cval, LAST_IDX=-1)\n",
    "# model1(df_cval)"
   ],
   "metadata": {
    "collapsed": false
   },
   "id": "27e46f4fe06a35cd"
  },
  {
   "cell_type": "markdown",
   "source": [
    "Repeatedly run the model. Record predictions and true values (observations). Make sure the observations are available for the most recent prediction."
   ],
   "metadata": {
    "collapsed": false
   },
   "id": "1b8dbeb69e58ff51"
  },
  {
   "cell_type": "code",
   "execution_count": null,
   "outputs": [],
   "source": [
    "evaluation = pd.DataFrame()\n",
    "df_before = df_cval\n",
    "for w in range(100):\n",
    "    # Create a temp df that only contains the values used for training\n",
    "    df_before, df_after = split_time(df_before, num_weeks=1)\n",
    "    pred = baseline(df_before, LAST_IDX=-1)\n",
    "    # pred = model1(df_before)\n",
    "    # Transform the observations to timeseries with same index and then merge\n",
    "    obs = pd.DataFrame({'gesamt': df_cval.loc[pred['forecast_date']][\"gesamt\"]})\n",
    "    pred = pred.set_index('forecast_date')\n",
    "    merged_df = pd.merge(pred, obs, left_index=True, right_index=True) \n",
    "    \n",
    "    # Add scores to the merged_df\n",
    "    for index, row in merged_df.iterrows():\n",
    "        quantile_preds = row[['q0.025','q0.25','q0.5','q0.75','q0.975']]\n",
    "        observation = row['gesamt']\n",
    "        score = evaluate_horizon(quantile_preds, observation)\n",
    "        merged_df.at[index, 'score'] = score\n",
    "    # print(merged_df[['q0.025','q0.25','q0.5','q0.75','q0.975']])\n",
    "    evaluation = pd.concat([evaluation, merged_df])\n",
    "    "
   ],
   "metadata": {
    "collapsed": false
   },
   "id": "5cb11d31f501204a"
  },
  {
   "cell_type": "code",
   "execution_count": null,
   "outputs": [],
   "source": [
    "evaluation[evaluation['horizon'] == '36 hour']"
   ],
   "metadata": {
    "collapsed": false
   },
   "id": "bc59bb6c73ff24b2"
  },
  {
   "cell_type": "code",
   "execution_count": null,
   "outputs": [],
   "source": [
    "import numpy as np\n",
    "import matplotlib.pyplot as plt\n",
    "import seaborn as sns\n",
    "\n",
    "# Example data (replace with your actual data)\n",
    "data = evaluation['score']\n",
    "\n",
    "# Kernel density estimate plot\n",
    "sns.kdeplot(data, fill=True)\n",
    "\n",
    "# Adding labels and title\n",
    "plt.xlabel('X-axis Label')\n",
    "plt.ylabel('Density')\n",
    "plt.title('Kernel Density Estimate Plot')\n",
    "\n",
    "# Display the plot\n",
    "plt.show()"
   ],
   "metadata": {
    "collapsed": false
   },
   "id": "aa86ff984b2fa530"
  },
  {
   "cell_type": "code",
   "execution_count": null,
   "outputs": [],
   "source": [
    "import matplotlib.pyplot as plt\n",
    "\n",
    "horizons = ['36 hour', '40 hour', '44 hour', '60 hour', '64 hour', '68 hour']\n",
    "\n",
    "# for h in horizons:\n",
    "\n",
    "ax = evaluation[evaluation['horizon'] == '36 hour'].plot(kind='line',  linestyle='-')\n",
    "\n",
    "# Adding labels and title\n",
    "plt.xlabel('Forecast Date')\n",
    "plt.ylabel('Score')\n",
    "plt.title('Score Over Time: ' + '36 hour')\n",
    "ax.set_ylim(0, 80)\n",
    "# Display the plot\n",
    "plt.show()\n"
   ],
   "metadata": {
    "collapsed": false
   },
   "id": "9a8d042bb93fda67"
  },
  {
   "cell_type": "code",
   "execution_count": null,
   "outputs": [],
   "source": [
    "import matplotlib.pyplot as plt\n",
    "\n",
    "# List of horizons\n",
    "horizons = ['36 hour', '40 hour', '44 hour', '60 hour', '64 hour', '68 hour']\n",
    "\n",
    "# Plotting all lines in one plot\n",
    "plt.figure()  # Create a new figure\n",
    "for h in horizons:\n",
    "    subset = evaluation[evaluation['horizon'] == h]\n",
    "    plt.plot(subset.index, subset['score'], label=h)\n",
    "\n",
    "# Adding labels and title\n",
    "plt.xlabel('Forecast Date')\n",
    "plt.ylabel('Score')\n",
    "plt.title('Score Over Time')\n",
    "\n",
    "# Setting y-axis limit\n",
    "plt.ylim(0,55)\n",
    "\n",
    "# Adding legend\n",
    "plt.legend(title='Horizon')\n",
    "\n",
    "# Display the plot\n",
    "plt.show()"
   ],
   "metadata": {
    "collapsed": false
   },
   "id": "e5c47dab59f85ebe"
  },
  {
   "cell_type": "markdown",
   "source": [
    "It can be seen that the heavy outliers are 36 and 44 hour. Is it due to workdays (where production is still active) or not active?\n",
    "==> CHeck for Holydays\n",
    "\n",
    "YES! The orange outliers seem to be on Karfreitag.\n",
    "\n",
    "It can also be seen, that 60-68 hour-forecasts seem to have less extreme outliers"
   ],
   "metadata": {
    "collapsed": false
   },
   "id": "55bbf419890dc81"
  },
  {
   "cell_type": "code",
   "execution_count": null,
   "outputs": [],
   "source": [
    "\n",
    "def evaluate_models(models, df, last_x, years =False, months=False, weeks=False):\n",
    "    # Check that exactly one of the boolean parameters is True\n",
    "    if sum([years, months, weeks]) != 1:\n",
    "        raise ValueError(\"Exactly one of the boolean parameters (years, months, weeks) must be True.\")\n",
    "    \n",
    "    years = int(years)\n",
    "    months = int(months)\n",
    "    weeks = int(weeks)\n",
    "        \n",
    "    for m in models:\n",
    "        print(f'*********** Start the evaluation of Model {m[\"name\"]} ***********')\n",
    "        m['evaluation'] = evaluate_model(m, df, last_x, years, months, weeks)\n",
    "        \n",
    "def evaluate_model(model, df, last_x, years, months, weeks):\n",
    "    df_before = df\n",
    "    evaluation = pd.DataFrame()\n",
    "    \n",
    "    for w in range(last_x):\n",
    "        print(f'Iteration {w} of {last_x}')\n",
    "        df_before, df_after = split_time(df_before, num_years=years, num_months=months, num_weeks=weeks)\n",
    "        pred = model['function'](df_before)\n",
    "        obs = pd.DataFrame({'gesamt': df.loc[pred['forecast_date']][\"gesamt\"]})\n",
    "        pred = pred.set_index('forecast_date')\n",
    "        merged_df = pd.merge(pred, obs, left_index=True, right_index=True) \n",
    "    \n",
    "    \n",
    "         # Add scores to the merged_df\n",
    "        for index, row in merged_df.iterrows():\n",
    "            quantile_preds = row[['q0.025','q0.25','q0.5','q0.75','q0.975']]\n",
    "            observation = row['gesamt']\n",
    "            score = evaluate_horizon(quantile_preds, observation)\n",
    "            merged_df.at[index, 'score'] = score\n",
    "        # print(merged_df[['q0.025','q0.25','q0.5','q0.75','q0.975']])\n",
    "        evaluation = pd.concat([evaluation, merged_df])\n",
    "    return evaluation"
   ],
   "metadata": {
    "collapsed": false
   },
   "id": "59605ee6165a131"
  },
  {
   "cell_type": "markdown",
   "source": [
    "## Test the evaluation with baseline and model1 and model2"
   ],
   "metadata": {
    "collapsed": false
   },
   "id": "76ab5ca11aa99bc"
  },
  {
   "cell_type": "code",
   "execution_count": null,
   "outputs": [],
   "source": [
    "from Energy.Models.Model3 import model3\n",
    "\n",
    "models = [\n",
    "    {\n",
    "        'name': 'baseline',\n",
    "        'function': baseline\n",
    "     },\n",
    "    {\n",
    "        'name': 'model1',\n",
    "        'function': model1\n",
    "    },\n",
    "    {\n",
    "        'name': 'model2',\n",
    "        'function': model2\n",
    "    },\n",
    "    {\n",
    "        'name': 'model3',\n",
    "        'function': model3\n",
    "    }\n",
    "]\n",
    "\n",
    "start_date_excl = most_recent_thursday(df)\n",
    "df_cval = df.loc[df.index < start_date_excl]"
   ],
   "metadata": {
    "collapsed": false
   },
   "id": "d678cf047525c9ad"
  },
  {
   "cell_type": "code",
   "execution_count": null,
   "outputs": [],
   "source": [
    "evaluate_models(models, df_cval, last_x=100, weeks=True)"
   ],
   "metadata": {
    "collapsed": false
   },
   "id": "cb47d8a3d2534a75"
  },
  {
   "cell_type": "markdown",
   "source": [
    "### Save evaluations in pkl file"
   ],
   "metadata": {
    "collapsed": false
   },
   "id": "eba78bf2f16f3ea6"
  },
  {
   "cell_type": "code",
   "execution_count": null,
   "outputs": [],
   "source": [
    "with open('./Model evaluations/baseline_m1_m2_m3.pkl', 'wb') as f:\n",
    "    pickle.dump(models, f)\n",
    "        \n",
    "# with open('model_evaluations.pkl', 'rb') as f:\n",
    "#     models = pickle.load(f)"
   ],
   "metadata": {
    "collapsed": false
   },
   "id": "75464ad22c6250a6"
  },
  {
   "cell_type": "markdown",
   "source": [
    "### Create a table that only contains the different scores of the different models"
   ],
   "metadata": {
    "collapsed": false
   },
   "id": "abdceae11f001180"
  },
  {
   "cell_type": "code",
   "execution_count": null,
   "outputs": [],
   "source": [
    "# scores = [m['evaluation']['score'][m['evaluation']['horizon'] == '36 hour'] for m in models]\n",
    "# horizons = ['36 hour', '40 hour', '44 hour', '60 hour', '64 hour', '68 hour']\n",
    "# \n",
    "# \n",
    "# names = [m['name'] for m in models]\n",
    "# score_df = pd.concat(scores, axis=1,keys=names)"
   ],
   "metadata": {
    "collapsed": false
   },
   "id": "75e431dcada03444"
  },
  {
   "cell_type": "code",
   "execution_count": null,
   "outputs": [],
   "source": [
    "horizons = ['36 hour', '40 hour', '44 hour', '60 hour', '64 hour', '68 hour']\n",
    "scores = []\n",
    "names = []\n",
    "for h in horizons:\n",
    "    for m in models:\n",
    "        col_name = f'{m[\"name\"]}: {h}'\n",
    "        scores.append(m['evaluation']['score'][m['evaluation']['horizon'] == h])\n",
    "        names.append(col_name)\n",
    "\n",
    "score_df = pd.concat(scores, axis=1,keys=names)\n",
    "\n",
    "        "
   ],
   "metadata": {
    "collapsed": false
   },
   "id": "d6e3c0acfdcdacb3"
  },
  {
   "cell_type": "code",
   "execution_count": null,
   "outputs": [],
   "source": [
    "score_df"
   ],
   "metadata": {
    "collapsed": false
   },
   "id": "ea5a3ba35bf3374e"
  },
  {
   "cell_type": "markdown",
   "source": [
    "### Plot the densities of the obtained scores"
   ],
   "metadata": {
    "collapsed": false
   },
   "id": "9bb45a13bfa8a60a"
  },
  {
   "cell_type": "code",
   "execution_count": null,
   "outputs": [],
   "source": [
    "sns.kdeplot(data=score_df.loc[:,['baseline: 36 hour','model1: 36 hour','model3: 36 hour']], fill=True)\n",
    "\n",
    "# Adding labels and title\n",
    "plt.xlabel('Score')\n",
    "plt.ylabel('Density')\n",
    "plt.title('Density Plot of Scores: 36 hour horizon')\n",
    "\n",
    "# Display the plot\n",
    "plt.show()"
   ],
   "metadata": {
    "collapsed": false
   },
   "id": "d666e6ed0e246e75"
  },
  {
   "cell_type": "code",
   "execution_count": null,
   "outputs": [],
   "source": [
    "# Plot values from two columns over time\n",
    "score_df_36_no_na = score_df[score_df['baseline: 36 hour'].notna()]\n",
    "# plt.plot(score_df_36_no_na.index, score_df_36_no_na['baseline: 36 hour'], label='baseline')\n",
    "plt.plot(score_df_36_no_na.index, score_df_36_no_na['model1: 36 hour'], label='model1')\n",
    "# plt.plot(score_df_36_no_na.index, score_df_36_no_na['model2: 36 hour'], label='model2')\n",
    "plt.plot(score_df_36_no_na.index, score_df_36_no_na['model3: 36 hour'], label='model3')\n",
    "\n",
    "\n",
    "# Adding labels and title\n",
    "plt.xlabel('time')\n",
    "plt.ylabel('score')\n",
    "plt.title('Comparison of scores over time')\n",
    "\n",
    "# Display legend\n",
    "plt.legend()\n",
    "\n",
    "# Show the plot\n",
    "plt.show()"
   ],
   "metadata": {
    "collapsed": false
   },
   "id": "3700136a69248829"
  },
  {
   "cell_type": "code",
   "execution_count": null,
   "outputs": [],
   "source": [],
   "metadata": {
    "collapsed": false
   },
   "id": "111249694eceab9e"
  }
 ],
 "metadata": {
  "kernelspec": {
   "display_name": "Python 3",
   "language": "python",
   "name": "python3"
  },
  "language_info": {
   "codemirror_mode": {
    "name": "ipython",
    "version": 2
   },
   "file_extension": ".py",
   "mimetype": "text/x-python",
   "name": "python",
   "nbconvert_exporter": "python",
   "pygments_lexer": "ipython2",
   "version": "2.7.6"
  }
 },
 "nbformat": 4,
 "nbformat_minor": 5
}
