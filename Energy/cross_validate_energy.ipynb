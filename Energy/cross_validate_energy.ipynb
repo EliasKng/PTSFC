{
 "cells": [
  {
   "cell_type": "code",
   "execution_count": 1,
   "id": "initial_id",
   "metadata": {
    "ExecuteTime": {
     "end_time": "2024-01-23T18:12:53.527617Z",
     "start_time": "2024-01-23T18:12:53.222433Z"
    }
   },
   "outputs": [
    {
     "name": "stderr",
     "output_type": "stream",
     "text": [
      "/Users/elias/Desktop/PTSFC/venv/lib/python3.9/site-packages/urllib3/__init__.py:34: NotOpenSSLWarning: urllib3 v2.0 only supports OpenSSL 1.1.1+, currently the 'ssl' module is compiled with 'LibreSSL 2.8.3'. See: https://github.com/urllib3/urllib3/issues/3020\n",
      "  warnings.warn(\n"
     ]
    }
   ],
   "source": [
    "import pandas as pd\n",
    "import pickle\n",
    "import matplotlib.pyplot as plt\n",
    "import seaborn as sns\n",
    "from Energy.HelpFunctions.get_energy_data import get_energy_data, prepare_data\n",
    "from HelpFunctions.date_and_time import most_recent_thursday, split_time\n",
    "from Energy.Models.baseline import baseline\n",
    "from HelpFunctions.calc_score import evaluate_horizon\n",
    "from HelpFunctions.mix_models import mix_models\n",
    "from Energy.Models.Model1 import model1\n",
    "from Energy.Models.Model2 import model2\n",
    "from Energy.Models.Model4_population import model4_population\n",
    "from Energy.Models.Model4 import model4\n",
    "from Energy.Models.Model3 import model3\n",
    "from Energy.Models.Model5 import model5\n",
    "from Energy.Models.Model4_holidays_2 import model4_holidays_2\n",
    "from Energy.Models.Model4_sunhours import model4_sunhours\n",
    "# import importlib\n",
    "# importlib.reload(Energy.Models)\n",
    "# Test"
   ]
  },
  {
   "cell_type": "markdown",
   "id": "473173c9a1c4423e",
   "metadata": {
    "collapsed": false
   },
   "source": [
    "If needed: Fetch energy-data first"
   ]
  },
  {
   "cell_type": "code",
   "execution_count": 2,
   "id": "b2a8b259e2c6f3ee",
   "metadata": {
    "ExecuteTime": {
     "end_time": "2024-01-23T18:12:55.239085Z",
     "start_time": "2024-01-23T18:12:55.228169Z"
    },
    "collapsed": false
   },
   "outputs": [],
   "source": [
    "# from Energy.HelpFunctions.get_energy_data import fetch_energy_data\n",
    "# fetch_energy_data()"
   ]
  },
  {
   "cell_type": "code",
   "execution_count": 5,
   "id": "7bbe30845c7abb4d",
   "metadata": {
    "ExecuteTime": {
     "end_time": "2024-01-23T14:21:13.097367Z",
     "start_time": "2024-01-23T14:21:13.028992Z"
    },
    "collapsed": false
   },
   "outputs": [
    {
     "name": "stderr",
     "output_type": "stream",
     "text": [
      "/Users/elias/Desktop/PTSFC/Energy/HelpFunctions/get_energy_data.py:17: UserWarning: The data is not up to date anymore. Please call fetch_energy_data\n",
      "  warnings.warn(\"The data is not up to date anymore. Please call fetch_energy_data\", UserWarning)\n"
     ]
    }
   ],
   "source": [
    "# df = get_energy_data(force_return=True)\n",
    "df = get_energy_data()\n",
    "df = prepare_data(df)"
   ]
  },
  {
   "cell_type": "markdown",
   "id": "58741ff6badc9818",
   "metadata": {
    "collapsed": false
   },
   "source": [
    "# Cross validate baseline model"
   ]
  },
  {
   "cell_type": "markdown",
   "id": "c75bc49e7d3d4f25",
   "metadata": {
    "collapsed": false
   },
   "source": [
    "Remove everything til last thursday night 12pm"
   ]
  },
  {
   "cell_type": "code",
   "execution_count": 7,
   "id": "393b23d7490e8cb6",
   "metadata": {
    "ExecuteTime": {
     "end_time": "2024-01-23T14:21:20.746788Z",
     "start_time": "2024-01-23T14:21:20.714226Z"
    },
    "collapsed": false
   },
   "outputs": [],
   "source": [
    "start_date_excl = most_recent_thursday(df)\n",
    "df_cval = df.loc[df.index < start_date_excl]"
   ]
  },
  {
   "cell_type": "markdown",
   "id": "1b8dbeb69e58ff51",
   "metadata": {
    "collapsed": false
   },
   "source": [
    "Repeatedly run the model. Record predictions and true values (observations). Make sure the observations are available for the most recent prediction."
   ]
  },
  {
   "cell_type": "code",
   "execution_count": 8,
   "id": "59605ee6165a131",
   "metadata": {
    "ExecuteTime": {
     "end_time": "2024-01-23T14:23:13.095514Z",
     "start_time": "2024-01-23T14:23:13.090700Z"
    },
    "collapsed": false
   },
   "outputs": [],
   "source": [
    "from HelpFunctions.mix_models import mix_models_energy\n",
    "\n",
    "\n",
    "def evaluate_models(models, df, last_x, years =False, months=False, weeks=False):\n",
    "    # Check that exactly one of the boolean parameters is True\n",
    "    if sum([years, months, weeks]) != 1:\n",
    "        raise ValueError(\"Exactly one of the boolean parameters (years, months, weeks) must be True.\")\n",
    "    \n",
    "    years = int(years)\n",
    "    months = int(months)\n",
    "    weeks = int(weeks)\n",
    "        \n",
    "    for m in models:\n",
    "        print(f'*********** Start the evaluation of Model {m[\"name\"]} ***********')\n",
    "        m['evaluation'] = evaluate_model(m, df, last_x, years, months, weeks)\n",
    "        \n",
    "def evaluate_model(model, df, last_x, years, months, weeks):\n",
    "    df_before = df\n",
    "    evaluation = pd.DataFrame()\n",
    "    \n",
    "    for w in range(last_x):\n",
    "        print(f'Iteration {w} of {last_x}')\n",
    "        df_before, df_after = split_time(df_before, num_years=years, num_months=months, num_weeks=weeks)        \n",
    "        \n",
    "        pred = None     \n",
    "        # Is mixed model?\n",
    "        if callable(model['function']):\n",
    "            pred = model['function'](df_before)\n",
    "        else:\n",
    "            pred = mix_models_energy(model['function'][0], model['function'][1], df_before)\n",
    "        obs = pd.DataFrame({'gesamt': df.loc[pred['forecast_date']][\"gesamt\"]})\n",
    "        pred = pred.set_index('forecast_date')\n",
    "        merged_df = pd.merge(pred, obs, left_index=True, right_index=True) \n",
    "    \n",
    "    \n",
    "         # Add scores to the merged_df\n",
    "        for index, row in merged_df.iterrows():\n",
    "            quantile_preds = row[['q0.025','q0.25','q0.5','q0.75','q0.975']]\n",
    "            observation = row['gesamt']\n",
    "            score = evaluate_horizon(quantile_preds, observation)\n",
    "            merged_df.at[index, 'score'] = score\n",
    "        # print(merged_df[['q0.025','q0.25','q0.5','q0.75','q0.975']])\n",
    "        evaluation = pd.concat([evaluation, merged_df])\n",
    "    return evaluation"
   ]
  },
  {
   "cell_type": "markdown",
   "id": "76ab5ca11aa99bc",
   "metadata": {
    "collapsed": false
   },
   "source": [
    "## Evaluation of selected Models"
   ]
  },
  {
   "cell_type": "code",
   "execution_count": 9,
   "id": "8d73ef814183cf22",
   "metadata": {
    "ExecuteTime": {
     "end_time": "2024-01-23T14:23:15.557532Z",
     "start_time": "2024-01-23T14:23:14.445212Z"
    },
    "collapsed": false
   },
   "outputs": [],
   "source": [
    "from Energy.Models import mstl\n",
    "from Energy.Models import Model5\n",
    "import importlib\n",
    "importlib.reload(mstl)\n",
    "importlib.reload(Model5)\n",
    "\n",
    "\n",
    "\n",
    "\n",
    "models = [\n",
    "    {\n",
    "        'name': 'model5',\n",
    "        'function': Model5.model5\n",
    "    },\n",
    "    {\n",
    "        'name': 'model5_drop_2',\n",
    "        'function': Model5.model5_drop_2\n",
    "    },\n",
    "    \n",
    "    \n",
    "    # {\n",
    "    #     'name': 'baseline',\n",
    "    #     'function': baseline\n",
    "    #  },\n",
    "    # {\n",
    "    #     'name': 'mstl',\n",
    "    #     'function': mstl.mstl\n",
    "    #  },\n",
    "    # {\n",
    "    #     'name': 'mixed',\n",
    "    #     'function': [[model4_sunhours, model4_holidays_2, model4_population],[1,1,1]]\n",
    "    # },\n",
    "    # {\n",
    "    #     'name': 'MM mstl bl model5',\n",
    "    #     'function': [[mstl.mstl, model5, baseline],[1,1,1]]\n",
    "    # },\n",
    "    # {\n",
    "    #     'name': 'MM bl model5',\n",
    "    #     'function': [[model5, baseline],[1,1]]\n",
    "    # },\n",
    "    # {\n",
    "    #     'name': 'MM mstl model5',\n",
    "    #     'function': [[mstl.mstl, model5],[1,1]]\n",
    "    # },\n",
    "]"
   ]
  },
  {
   "cell_type": "code",
   "execution_count": 10,
   "id": "cb47d8a3d2534a75",
   "metadata": {
    "ExecuteTime": {
     "end_time": "2024-01-23T14:37:04.889478Z",
     "start_time": "2024-01-23T14:31:52.660400Z"
    },
    "collapsed": false
   },
   "outputs": [
    {
     "name": "stdout",
     "output_type": "stream",
     "text": [
      "*********** Start the evaluation of Model model5 ***********\n",
      "Iteration 0 of 30\n",
      "Iteration 1 of 30\n"
     ]
    },
    {
     "ename": "KeyboardInterrupt",
     "evalue": "",
     "output_type": "error",
     "traceback": [
      "\u001B[0;31m---------------------------------------------------------------------------\u001B[0m",
      "\u001B[0;31mKeyboardInterrupt\u001B[0m                         Traceback (most recent call last)",
      "Cell \u001B[0;32mIn[10], line 1\u001B[0m\n\u001B[0;32m----> 1\u001B[0m \u001B[43mevaluate_models\u001B[49m\u001B[43m(\u001B[49m\u001B[43mmodels\u001B[49m\u001B[43m,\u001B[49m\u001B[43m \u001B[49m\u001B[43mdf_cval\u001B[49m\u001B[43m,\u001B[49m\u001B[43m \u001B[49m\u001B[43mlast_x\u001B[49m\u001B[38;5;241;43m=\u001B[39;49m\u001B[38;5;241;43m30\u001B[39;49m\u001B[43m,\u001B[49m\u001B[43m \u001B[49m\u001B[43mweeks\u001B[49m\u001B[38;5;241;43m=\u001B[39;49m\u001B[38;5;28;43;01mTrue\u001B[39;49;00m\u001B[43m)\u001B[49m\n",
      "Cell \u001B[0;32mIn[8], line 15\u001B[0m, in \u001B[0;36mevaluate_models\u001B[0;34m(models, df, last_x, years, months, weeks)\u001B[0m\n\u001B[1;32m     13\u001B[0m \u001B[38;5;28;01mfor\u001B[39;00m m \u001B[38;5;129;01min\u001B[39;00m models:\n\u001B[1;32m     14\u001B[0m     \u001B[38;5;28mprint\u001B[39m(\u001B[38;5;124mf\u001B[39m\u001B[38;5;124m'\u001B[39m\u001B[38;5;124m*********** Start the evaluation of Model \u001B[39m\u001B[38;5;132;01m{\u001B[39;00mm[\u001B[38;5;124m\"\u001B[39m\u001B[38;5;124mname\u001B[39m\u001B[38;5;124m\"\u001B[39m]\u001B[38;5;132;01m}\u001B[39;00m\u001B[38;5;124m ***********\u001B[39m\u001B[38;5;124m'\u001B[39m)\n\u001B[0;32m---> 15\u001B[0m     m[\u001B[38;5;124m'\u001B[39m\u001B[38;5;124mevaluation\u001B[39m\u001B[38;5;124m'\u001B[39m] \u001B[38;5;241m=\u001B[39m \u001B[43mevaluate_model\u001B[49m\u001B[43m(\u001B[49m\u001B[43mm\u001B[49m\u001B[43m,\u001B[49m\u001B[43m \u001B[49m\u001B[43mdf\u001B[49m\u001B[43m,\u001B[49m\u001B[43m \u001B[49m\u001B[43mlast_x\u001B[49m\u001B[43m,\u001B[49m\u001B[43m \u001B[49m\u001B[43myears\u001B[49m\u001B[43m,\u001B[49m\u001B[43m \u001B[49m\u001B[43mmonths\u001B[49m\u001B[43m,\u001B[49m\u001B[43m \u001B[49m\u001B[43mweeks\u001B[49m\u001B[43m)\u001B[49m\n",
      "Cell \u001B[0;32mIn[8], line 28\u001B[0m, in \u001B[0;36mevaluate_model\u001B[0;34m(model, df, last_x, years, months, weeks)\u001B[0m\n\u001B[1;32m     26\u001B[0m \u001B[38;5;66;03m# Is mixed model?\u001B[39;00m\n\u001B[1;32m     27\u001B[0m \u001B[38;5;28;01mif\u001B[39;00m \u001B[38;5;28mcallable\u001B[39m(model[\u001B[38;5;124m'\u001B[39m\u001B[38;5;124mfunction\u001B[39m\u001B[38;5;124m'\u001B[39m]):\n\u001B[0;32m---> 28\u001B[0m     pred \u001B[38;5;241m=\u001B[39m \u001B[43mmodel\u001B[49m\u001B[43m[\u001B[49m\u001B[38;5;124;43m'\u001B[39;49m\u001B[38;5;124;43mfunction\u001B[39;49m\u001B[38;5;124;43m'\u001B[39;49m\u001B[43m]\u001B[49m\u001B[43m(\u001B[49m\u001B[43mdf_before\u001B[49m\u001B[43m)\u001B[49m\n\u001B[1;32m     29\u001B[0m \u001B[38;5;28;01melse\u001B[39;00m:\n\u001B[1;32m     30\u001B[0m     pred \u001B[38;5;241m=\u001B[39m mix_models_energy(model[\u001B[38;5;124m'\u001B[39m\u001B[38;5;124mfunction\u001B[39m\u001B[38;5;124m'\u001B[39m][\u001B[38;5;241m0\u001B[39m], model[\u001B[38;5;124m'\u001B[39m\u001B[38;5;124mfunction\u001B[39m\u001B[38;5;124m'\u001B[39m][\u001B[38;5;241m1\u001B[39m], df_before)\n",
      "File \u001B[0;32m~/Desktop/PTSFC/Energy/Models/Model5.py:9\u001B[0m, in \u001B[0;36mmodel5\u001B[0;34m(energyconsumption, offset_horizons)\u001B[0m\n\u001B[1;32m      8\u001B[0m \u001B[38;5;28;01mdef\u001B[39;00m \u001B[38;5;21mmodel5\u001B[39m(energyconsumption, offset_horizons\u001B[38;5;241m=\u001B[39m\u001B[38;5;241m0\u001B[39m):\n\u001B[0;32m----> 9\u001B[0m     \u001B[38;5;28;01mreturn\u001B[39;00m \u001B[43m_model5\u001B[49m\u001B[43m(\u001B[49m\u001B[43menergyconsumption\u001B[49m\u001B[43m,\u001B[49m\u001B[43m \u001B[49m\u001B[43moffset_horizons\u001B[49m\u001B[38;5;241;43m=\u001B[39;49m\u001B[43moffset_horizons\u001B[49m\u001B[43m)\u001B[49m\n",
      "File \u001B[0;32m~/Desktop/PTSFC/Energy/Models/Model5.py:61\u001B[0m, in \u001B[0;36m_model5\u001B[0;34m(energyconsumption, drop_columns, offset_horizons)\u001B[0m\n\u001B[1;32m     57\u001B[0m \u001B[38;5;66;03m# fit = model_qr.fit(q=0.5)\u001B[39;00m\n\u001B[1;32m     58\u001B[0m \u001B[38;5;66;03m# print(fit.summary())\u001B[39;00m\n\u001B[1;32m     60\u001B[0m \u001B[38;5;28;01mfor\u001B[39;00m q \u001B[38;5;129;01min\u001B[39;00m quantiles:\n\u001B[0;32m---> 61\u001B[0m     model_temp \u001B[38;5;241m=\u001B[39m \u001B[43mmodel_qr\u001B[49m\u001B[38;5;241;43m.\u001B[39;49m\u001B[43mfit\u001B[49m\u001B[43m(\u001B[49m\u001B[43mq\u001B[49m\u001B[38;5;241;43m=\u001B[39;49m\u001B[43mq\u001B[49m\u001B[43m)\u001B[49m\n\u001B[1;32m     63\u001B[0m     \u001B[38;5;66;03m# Calculate forecasts for X_fc using the fitted model for the current quantile\u001B[39;00m\n\u001B[1;32m     64\u001B[0m     forecast_temp \u001B[38;5;241m=\u001B[39m model_temp\u001B[38;5;241m.\u001B[39mpredict(X_fc)\n",
      "File \u001B[0;32m~/Desktop/PTSFC/venv/lib/python3.9/site-packages/statsmodels/regression/quantile_regression.py:171\u001B[0m, in \u001B[0;36mQuantReg.fit\u001B[0;34m(self, q, vcov, kernel, bandwidth, max_iter, p_tol, **kwargs)\u001B[0m\n\u001B[1;32m    169\u001B[0m xty \u001B[38;5;241m=\u001B[39m np\u001B[38;5;241m.\u001B[39mdot(xstar\u001B[38;5;241m.\u001B[39mT, endog)\n\u001B[1;32m    170\u001B[0m beta \u001B[38;5;241m=\u001B[39m np\u001B[38;5;241m.\u001B[39mdot(pinv(xtx), xty)\n\u001B[0;32m--> 171\u001B[0m resid \u001B[38;5;241m=\u001B[39m endog \u001B[38;5;241m-\u001B[39m \u001B[43mnp\u001B[49m\u001B[38;5;241;43m.\u001B[39;49m\u001B[43mdot\u001B[49m\u001B[43m(\u001B[49m\u001B[43mexog\u001B[49m\u001B[43m,\u001B[49m\u001B[43m \u001B[49m\u001B[43mbeta\u001B[49m\u001B[43m)\u001B[49m\n\u001B[1;32m    173\u001B[0m mask \u001B[38;5;241m=\u001B[39m np\u001B[38;5;241m.\u001B[39mabs(resid) \u001B[38;5;241m<\u001B[39m \u001B[38;5;241m.000001\u001B[39m\n\u001B[1;32m    174\u001B[0m resid[mask] \u001B[38;5;241m=\u001B[39m ((resid[mask] \u001B[38;5;241m>\u001B[39m\u001B[38;5;241m=\u001B[39m \u001B[38;5;241m0\u001B[39m) \u001B[38;5;241m*\u001B[39m \u001B[38;5;241m2\u001B[39m \u001B[38;5;241m-\u001B[39m \u001B[38;5;241m1\u001B[39m) \u001B[38;5;241m*\u001B[39m \u001B[38;5;241m.000001\u001B[39m\n",
      "\u001B[0;31mKeyboardInterrupt\u001B[0m: "
     ]
    }
   ],
   "source": [
    "evaluate_models(models, df_cval, last_x=30, weeks=True)\n",
    "# Test"
   ]
  },
  {
   "cell_type": "markdown",
   "id": "eba78bf2f16f3ea6",
   "metadata": {
    "collapsed": false
   },
   "source": [
    "### Save evaluations in pkl file"
   ]
  },
  {
   "cell_type": "code",
   "execution_count": 43,
   "id": "75464ad22c6250a6",
   "metadata": {
    "ExecuteTime": {
     "end_time": "2024-01-22T12:47:12.636800Z",
     "start_time": "2024-01-22T12:47:12.631844Z"
    },
    "collapsed": false
   },
   "outputs": [],
   "source": [
    "# with open('./Model evaluations/mm_m5_bl_m4_x.pkl', 'wb') as f:\n",
    "#     pickle.dump(models, f)\n",
    "\n",
    "# with open('./Model evaluations/m4_pop_m5.pkl', 'rb') as f:\n",
    "#     models2 = pickle.load(f)"
   ]
  },
  {
   "cell_type": "markdown",
   "id": "abdceae11f001180",
   "metadata": {
    "collapsed": false
   },
   "source": [
    "### Create a table that only contains the different scores of the different models"
   ]
  },
  {
   "cell_type": "code",
   "execution_count": 47,
   "id": "d6e3c0acfdcdacb3",
   "metadata": {
    "ExecuteTime": {
     "end_time": "2024-01-22T12:55:23.948289Z",
     "start_time": "2024-01-22T12:55:23.937354Z"
    },
    "collapsed": false
   },
   "outputs": [],
   "source": [
    "horizons = ['36 hour', '40 hour', '44 hour', '60 hour', '64 hour', '68 hour']\n",
    "scores = []\n",
    "names = []\n",
    "for h in horizons:\n",
    "    for m in models:\n",
    "        col_name = f'{m[\"name\"]}: {h}'\n",
    "        scores.append(m['evaluation']['score'][m['evaluation']['horizon'] == h])\n",
    "        names.append(col_name)\n",
    "\n",
    "score_df = pd.concat(scores, axis=1,keys=names)"
   ]
  },
  {
   "cell_type": "markdown",
   "id": "9bb45a13bfa8a60a",
   "metadata": {
    "collapsed": false
   },
   "source": [
    "### Plot the densities of the obtained scores"
   ]
  },
  {
   "cell_type": "code",
   "execution_count": 49,
   "id": "d666e6ed0e246e75",
   "metadata": {
    "ExecuteTime": {
     "end_time": "2024-01-22T13:08:48.642075Z",
     "start_time": "2024-01-22T13:08:47.603497Z"
    },
    "collapsed": false
   },
   "outputs": [
    {
     "name": "stdout",
     "output_type": "stream",
     "text": [
      "      model5: 36 hour  model5_drop_2: 36 hour\n",
      "mean         7.631791                8.769858\n",
      "std          3.695240                4.374655\n",
      "      model5: 40 hour  model5_drop_2: 40 hour\n",
      "mean         8.484731               11.668510\n",
      "std          3.436270                4.924168\n",
      "      model5: 44 hour  model5_drop_2: 44 hour\n",
      "mean         6.189328                8.334472\n",
      "std          3.179364                2.221755\n",
      "      model5: 60 hour  model5_drop_2: 60 hour\n",
      "mean         6.632302                7.085336\n",
      "std          3.692273                3.166683\n",
      "      model5: 64 hour  model5_drop_2: 64 hour\n",
      "mean         7.504815                8.744257\n",
      "std          4.200003                4.401936\n",
      "      model5: 68 hour  model5_drop_2: 68 hour\n",
      "mean         8.639550               11.581125\n",
      "std          5.376772                4.670057\n"
     ]
    },
    {
     "data": {
      "image/png": "[encoded data removed]",
      "text/plain": [
       "<Figure size 640x480 with 1 Axes>"
      ]
     },
     "metadata": {},
     "output_type": "display_data"
    }
   ],
   "source": [
    "# models_display = ['MM mstl bl model5', 'MM bl model5','MM mstl model5']\n",
    "models_display = [m['name'] for m in models]\n",
    "# models_display = ['baseline', 'model4_sunhours', 'model4_holidays_2', 'model4', 'model4_population']\n",
    "for h in [str(h) + \" hour\" for h in [36, 40, 44, 60, 64, 68]]:\n",
    "    # sns.kdeplot(data=score_df.loc[:,[f'baseline: {h}',f'model3: {h}',f'MM_baseline_model3: {h}']], fill=True)\n",
    "    sns.kdeplot(data=score_df.loc[:,[f'{m}: {h}' for m in models_display]], fill=True)\n",
    "    \n",
    "    print(score_df.loc[:,[f'{m}: {h}' for m in models_display]].agg(['mean','std']))\n",
    "    \n",
    "    # Adding labels and title\n",
    "    plt.xlabel('Score')\n",
    "    plt.ylabel('Density')\n",
    "    plt.title(f'Density Plot of Scores: {h} horizon')\n",
    "    \n",
    "    # Display the plot\n",
    "    plt.savefig(f'plots/density_plot_{h.replace(\" \", \"_\")}.png')\n",
    "    # plt.show()"
   ]
  },
  {
   "cell_type": "code",
   "execution_count": null,
   "id": "3700136a69248829",
   "metadata": {
    "ExecuteTime": {
     "start_time": "2024-01-22T12:06:28.298386Z"
    },
    "collapsed": false
   },
   "outputs": [],
   "source": [
    "for h in [str(h) + \" hour\" for h in [36, 40, 44, 60, 64, 68]]:\n",
    "    # Plot values from two columns over time\n",
    "    score_df_36_no_na = score_df[score_df[f'{models_display[0]}: {h}'].notna()]\n",
    "    for c in [f'{m}: {h}' for m in models_display]:\n",
    "        # plt.plot(score_df_36_no_na.index, score_df_36_no_na['baseline: 36 hour'], label='baseline')\n",
    "        # plt.plot(score_df_36_no_na.index, score_df_36_no_na['model1: 36 hour'], label='model1')\n",
    "        # plt.plot(score_df_36_no_na.index, score_df_36_no_na['model2: 36 hour'], label='model2')\n",
    "        plt.plot(score_df_36_no_na.index, score_df_36_no_na[c], label=c)\n",
    "        # plt.plot(score_df_36_no_na.index, score_df_36_no_na[c], label='model4')\n",
    "        # Adding labels and title\n",
    "    plt.xlabel('time')\n",
    "    plt.ylabel('score')\n",
    "    plt.title(f'Comparison of scores over time: {h}')\n",
    "    plt.ylim(0,50)\n",
    "    \n",
    "    # Display legend\n",
    "    plt.legend()\n",
    "    plt.savefig(f'plots/line_plot_{h.replace(\" \", \"_\")}.png')\n",
    "    \n",
    "    plt.xticks(rotation=45)\n",
    "\n",
    "    # Show the plot\n",
    "    plt.show()"
   ]
  },
  {
   "cell_type": "markdown",
   "id": "3c86e2d49eb70198",
   "metadata": {
    "collapsed": false
   },
   "source": [
    "#### Plot Whole evaluation for a model"
   ]
  },
  {
   "cell_type": "code",
   "execution_count": null,
   "id": "9d2b07cd0734e2e",
   "metadata": {
    "ExecuteTime": {
     "start_time": "2024-01-22T12:06:28.299586Z"
    },
    "collapsed": false
   },
   "outputs": [],
   "source": [
    "[m['name'] for m in models]"
   ]
  },
  {
   "cell_type": "code",
   "execution_count": null,
   "id": "97760d7c13d97324",
   "metadata": {
    "ExecuteTime": {
     "start_time": "2024-01-22T12:06:28.300595Z"
    },
    "collapsed": false
   },
   "outputs": [],
   "source": [
    "\n",
    "\n",
    "import matplotlib.pyplot as plt\n",
    "\n",
    "def plot_evaluation(evaluation_data):\n",
    "    # Assuming your DataFrame is named df\n",
    "    numeric_columns = evaluation_data.select_dtypes(include='number')\n",
    "    \n",
    "    # Plotting\n",
    "    plt.figure(figsize=(12, 8))\n",
    "    for column in numeric_columns.columns:\n",
    "        plt.plot(evaluation_data.index, evaluation_data[column], label=column)\n",
    "    \n",
    "    # Adding labels and legend\n",
    "    plt.xlabel('Forecast Date')\n",
    "    plt.ylabel('Values')\n",
    "    plt.title('Line Plot for Numeric Columns')\n",
    "    plt.legend()\n",
    "    plt.grid(True)\n",
    "    plt.savefig(f'plots/evaluation_overview.png')\n",
    "    plt.show()\n",
    "\n",
    "plot_evaluation(models[1]['evaluation'][models[1]['evaluation']['horizon'] == '36 hour'])"
   ]
  },
  {
   "cell_type": "markdown",
   "id": "621e615bdcb76d6f",
   "metadata": {
    "collapsed": false
   },
   "source": [
    "### Search for outliers (highest scores per horizon)"
   ]
  },
  {
   "cell_type": "code",
   "execution_count": null,
   "id": "9921d7965cd06b0b",
   "metadata": {
    "ExecuteTime": {
     "start_time": "2024-01-22T12:06:28.301444Z"
    },
    "collapsed": false
   },
   "outputs": [],
   "source": [
    "models_display = ['model4_holidays_2']\n",
    "horizons = [36]\n",
    "for h in [str(h) + \" hour\" for h in [36, 40, 44, 60, 64, 68]]:\n",
    "    for c in [f'{m}: {h}' for m in models_display]:\n",
    "        df_sorted = score_df[c].sort_values().dropna().tail(10)\n",
    "        \n",
    "        \n",
    "        print(f'{c}')\n",
    "        print(df_sorted)"
   ]
  },
  {
   "cell_type": "code",
   "execution_count": null,
   "id": "7b0d508e9dd18925",
   "metadata": {
    "ExecuteTime": {
     "start_time": "2024-01-22T12:06:28.302689Z"
    },
    "collapsed": false
   },
   "outputs": [],
   "source": [
    "[m['name'] for m in models]"
   ]
  },
  {
   "cell_type": "code",
   "execution_count": null,
   "id": "ac4f7143efeacbf5",
   "metadata": {
    "ExecuteTime": {
     "start_time": "2024-01-22T12:06:28.304168Z"
    },
    "collapsed": false
   },
   "outputs": [],
   "source": [
    "models[5]"
   ]
  },
  {
   "cell_type": "code",
   "execution_count": null,
   "id": "1f13521e77045c7f",
   "metadata": {
    "ExecuteTime": {
     "start_time": "2024-01-22T12:06:28.305013Z"
    },
    "collapsed": false
   },
   "outputs": [],
   "source": []
  }
 ],
 "metadata": {
  "kernelspec": {
   "display_name": "Python 3 (ipykernel)",
   "language": "python",
   "name": "python3"
  },
  "language_info": {
   "codemirror_mode": {
    "name": "ipython",
    "version": 3
   },
   "file_extension": ".py",
   "mimetype": "text/x-python",
   "name": "python",
   "nbconvert_exporter": "python",
   "pygments_lexer": "ipython3",
   "version": "3.9.6"
  }
 },
 "nbformat": 4,
 "nbformat_minor": 5
}
