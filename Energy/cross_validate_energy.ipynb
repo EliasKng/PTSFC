{
 "cells": [
  {
   "cell_type": "code",
   "execution_count": null,
   "id": "initial_id",
   "metadata": {
    "collapsed": true
   },
   "outputs": [],
   "source": [
    "import pandas as pd\n",
    "import pickle\n",
    "import matplotlib.pyplot as plt\n",
    "import seaborn as sns\n",
    "from Energy.HelpFunctions.get_energy_data import get_energy_data, prepare_data\n",
    "from HelpFunctions.date_and_time import most_recent_thursday, split_time\n",
    "from Energy.Models.baseline import baseline\n",
    "from HelpFunctions.calc_score import evaluate_horizon\n",
    "from HelpFunctions.mix_models import mix_models\n",
    "from Energy.Models.Model1 import model1\n",
    "from Energy.Models.Model2 import model2\n",
    "\n",
    "# import importlib\n",
    "# importlib.reload(Energy.Models)"
   ]
  },
  {
   "cell_type": "markdown",
   "source": [
    "If needed: Fetch energy-data first"
   ],
   "metadata": {
    "collapsed": false
   },
   "id": "473173c9a1c4423e"
  },
  {
   "cell_type": "code",
   "execution_count": null,
   "outputs": [],
   "source": [
    "# from Energy.HelpFunctions.get_energy_data import fetch_energy_data\n",
    "# fetch_energy_data()"
   ],
   "metadata": {
    "collapsed": false
   },
   "id": "b2a8b259e2c6f3ee"
  },
  {
   "cell_type": "code",
   "execution_count": null,
   "outputs": [],
   "source": [
    "df = get_energy_data()\n",
    "df = prepare_data(df)"
   ],
   "metadata": {
    "collapsed": false
   },
   "id": "7bbe30845c7abb4d"
  },
  {
   "cell_type": "markdown",
   "source": [
    "# Cross validate baseline model"
   ],
   "metadata": {
    "collapsed": false
   },
   "id": "58741ff6badc9818"
  },
  {
   "cell_type": "markdown",
   "source": [
    "Remove everything til last thursday night 12pm"
   ],
   "metadata": {
    "collapsed": false
   },
   "id": "c75bc49e7d3d4f25"
  },
  {
   "cell_type": "code",
   "execution_count": null,
   "outputs": [],
   "source": [
    "start_date_excl = most_recent_thursday(df)\n",
    "df_cval = df.loc[df.index < start_date_excl]"
   ],
   "metadata": {
    "collapsed": false
   },
   "id": "393b23d7490e8cb6"
  },
  {
   "cell_type": "markdown",
   "source": [
    "Repeatedly run the model. Record predictions and true values (observations). Make sure the observations are available for the most recent prediction."
   ],
   "metadata": {
    "collapsed": false
   },
   "id": "1b8dbeb69e58ff51"
  },
  {
   "cell_type": "code",
   "execution_count": null,
   "outputs": [],
   "source": [
    "def evaluate_models(models, df, last_x, years =False, months=False, weeks=False):\n",
    "    # Check that exactly one of the boolean parameters is True\n",
    "    if sum([years, months, weeks]) != 1:\n",
    "        raise ValueError(\"Exactly one of the boolean parameters (years, months, weeks) must be True.\")\n",
    "    \n",
    "    years = int(years)\n",
    "    months = int(months)\n",
    "    weeks = int(weeks)\n",
    "        \n",
    "    for m in models:\n",
    "        print(f'*********** Start the evaluation of Model {m[\"name\"]} ***********')\n",
    "        m['evaluation'] = evaluate_model(m, df, last_x, years, months, weeks)\n",
    "        \n",
    "def evaluate_model(model, df, last_x, years, months, weeks):\n",
    "    df_before = df\n",
    "    evaluation = pd.DataFrame()\n",
    "    \n",
    "    for w in range(last_x):\n",
    "        print(f'Iteration {w} of {last_x}')\n",
    "        df_before, df_after = split_time(df_before, num_years=years, num_months=months, num_weeks=weeks)        \n",
    "        \n",
    "        pred = None     \n",
    "        # Is mixed model?\n",
    "        if callable(model['function']):\n",
    "            pred = model['function'](df_before)\n",
    "        else: \n",
    "            pred = mix_models(model['function'][0], model['function'][1], df_before)\n",
    "               \n",
    "        \n",
    "        obs = pd.DataFrame({'gesamt': df.loc[pred['forecast_date']][\"gesamt\"]})\n",
    "        pred = pred.set_index('forecast_date')\n",
    "        merged_df = pd.merge(pred, obs, left_index=True, right_index=True) \n",
    "    \n",
    "    \n",
    "         # Add scores to the merged_df\n",
    "        for index, row in merged_df.iterrows():\n",
    "            quantile_preds = row[['q0.025','q0.25','q0.5','q0.75','q0.975']]\n",
    "            observation = row['gesamt']\n",
    "            score = evaluate_horizon(quantile_preds, observation)\n",
    "            merged_df.at[index, 'score'] = score\n",
    "        # print(merged_df[['q0.025','q0.25','q0.5','q0.75','q0.975']])\n",
    "        evaluation = pd.concat([evaluation, merged_df])\n",
    "    return evaluation"
   ],
   "metadata": {
    "collapsed": false
   },
   "id": "59605ee6165a131"
  },
  {
   "cell_type": "markdown",
   "source": [
    "## Evaluation of selected Models"
   ],
   "metadata": {
    "collapsed": false
   },
   "id": "76ab5ca11aa99bc"
  },
  {
   "cell_type": "code",
   "execution_count": null,
   "outputs": [],
   "source": [
    "from Energy.Models.Model4 import model4\n",
    "from Energy.Models.Model3 import model3\n",
    "\n",
    "models = [\n",
    "    # {\n",
    "    #     'name': 'MM_baseline_model3',\n",
    "    #     'function': [[baseline, model1],[0.5,0.5]]\n",
    "    # },\n",
    "    {\n",
    "        'name': 'baseline',\n",
    "        'function': baseline\n",
    "     },\n",
    "    # {\n",
    "    #     'name': 'model1',\n",
    "    #     'function': model1\n",
    "    # },\n",
    "    # {\n",
    "    #     'name': 'model2',\n",
    "    #     'function': model2\n",
    "    # },\n",
    "    {\n",
    "        'name': 'model4',\n",
    "        'function': model4\n",
    "    },\n",
    "    {\n",
    "        'name': 'model3',\n",
    "        'function': model3\n",
    "    },\n",
    "    \n",
    "    \n",
    "]\n",
    "\n",
    "start_date_excl = most_recent_thursday(df)\n",
    "df_cval = df.loc[df.index < start_date_excl]"
   ],
   "metadata": {
    "collapsed": false
   },
   "id": "d678cf047525c9ad"
  },
  {
   "cell_type": "code",
   "execution_count": null,
   "outputs": [],
   "source": [
    "evaluate_models(models, df_cval, last_x=100, weeks=True)"
   ],
   "metadata": {
    "collapsed": false
   },
   "id": "cb47d8a3d2534a75"
  },
  {
   "cell_type": "markdown",
   "source": [
    "### Save evaluations in pkl file"
   ],
   "metadata": {
    "collapsed": false
   },
   "id": "eba78bf2f16f3ea6"
  },
  {
   "cell_type": "code",
   "execution_count": null,
   "outputs": [],
   "source": [
    "with open('./Model evaluations/bl_m3_MM-bl-m3.pkl', 'wb') as f:\n",
    "    pickle.dump(models, f)\n",
    "\n",
    "# with open('model_evaluations.pkl', 'rb') as f:\n",
    "#     models = pickle.load(f)"
   ],
   "metadata": {
    "collapsed": false
   },
   "id": "75464ad22c6250a6"
  },
  {
   "cell_type": "code",
   "execution_count": null,
   "outputs": [],
   "source": [],
   "metadata": {
    "collapsed": false
   },
   "id": "40e7325b7439b43f"
  },
  {
   "cell_type": "markdown",
   "source": [
    "### Create a table that only contains the different scores of the different models"
   ],
   "metadata": {
    "collapsed": false
   },
   "id": "abdceae11f001180"
  },
  {
   "cell_type": "code",
   "execution_count": null,
   "outputs": [],
   "source": [
    "# scores = [m['evaluation']['score'][m['evaluation']['horizon'] == '36 hour'] for m in models]\n",
    "# horizons = ['36 hour', '40 hour', '44 hour', '60 hour', '64 hour', '68 hour']\n",
    "# \n",
    "# \n",
    "# names = [m['name'] for m in models]\n",
    "# score_df = pd.concat(scores, axis=1,keys=names)"
   ],
   "metadata": {
    "collapsed": false
   },
   "id": "75e431dcada03444"
  },
  {
   "cell_type": "code",
   "execution_count": null,
   "outputs": [],
   "source": [
    "horizons = ['36 hour', '40 hour', '44 hour', '60 hour', '64 hour', '68 hour']\n",
    "scores = []\n",
    "names = []\n",
    "for h in horizons:\n",
    "    for m in models:\n",
    "        col_name = f'{m[\"name\"]}: {h}'\n",
    "        scores.append(m['evaluation']['score'][m['evaluation']['horizon'] == h])\n",
    "        names.append(col_name)\n",
    "\n",
    "score_df = pd.concat(scores, axis=1,keys=names)\n",
    "\n",
    "        "
   ],
   "metadata": {
    "collapsed": false
   },
   "id": "d6e3c0acfdcdacb3"
  },
  {
   "cell_type": "code",
   "execution_count": null,
   "outputs": [],
   "source": [
    "score_df"
   ],
   "metadata": {
    "collapsed": false
   },
   "id": "ea5a3ba35bf3374e"
  },
  {
   "cell_type": "markdown",
   "source": [
    "### Plot the densities of the obtained scores"
   ],
   "metadata": {
    "collapsed": false
   },
   "id": "9bb45a13bfa8a60a"
  },
  {
   "cell_type": "code",
   "execution_count": null,
   "outputs": [],
   "source": [
    "models_display = ['baseline','model3','model4']\n",
    "for h in [str(h) + \" hour\" for h in [36, 40, 44, 60, 64, 68]]:\n",
    "    # sns.kdeplot(data=score_df.loc[:,[f'baseline: {h}',f'model3: {h}',f'MM_baseline_model3: {h}']], fill=True)\n",
    "    sns.kdeplot(data=score_df.loc[:,[f'{m}: {h}' for m in models_display]], fill=True)\n",
    "    \n",
    "    # Adding labels and title\n",
    "    plt.xlabel('Score')\n",
    "    plt.ylabel('Density')\n",
    "    plt.title(f'Density Plot of Scores: {h} horizon')\n",
    "    \n",
    "    # Display the plot\n",
    "    plt.savefig(f'plots/density_plot_{h.replace(\" \", \"_\")}.png')\n",
    "    plt.show()"
   ],
   "metadata": {
    "collapsed": false
   },
   "id": "d666e6ed0e246e75"
  },
  {
   "cell_type": "code",
   "execution_count": null,
   "outputs": [],
   "source": [
    "models_display = ['model3','model4']\n",
    "for h in [str(h) + \" hour\" for h in [36, 40, 44, 60, 64, 68]]:\n",
    "    # Plot values from two columns over time\n",
    "    score_df_36_no_na = score_df[score_df[f'{models_display[0]}: {h}'].notna()]\n",
    "    for c in [f'{m}: {h}' for m in models_display]:\n",
    "        # plt.plot(score_df_36_no_na.index, score_df_36_no_na['baseline: 36 hour'], label='baseline')\n",
    "        # plt.plot(score_df_36_no_na.index, score_df_36_no_na['model1: 36 hour'], label='model1')\n",
    "        # plt.plot(score_df_36_no_na.index, score_df_36_no_na['model2: 36 hour'], label='model2')\n",
    "        plt.plot(score_df_36_no_na.index, score_df_36_no_na[c], label=c)\n",
    "        # plt.plot(score_df_36_no_na.index, score_df_36_no_na[c], label='model4')\n",
    "        # Adding labels and title\n",
    "    plt.xlabel('time')\n",
    "    plt.ylabel('score')\n",
    "    plt.title(f'Comparison of scores over time: {h}')\n",
    "    plt.ylim(0,50)\n",
    "    \n",
    "    # Display legend\n",
    "    plt.legend()\n",
    "    plt.savefig(f'plots/line_plot_{h.replace(\" \", \"_\")}.png')\n",
    "\n",
    "    # Show the plot\n",
    "    plt.show()"
   ],
   "metadata": {
    "collapsed": false
   },
   "id": "3700136a69248829"
  },
  {
   "cell_type": "markdown",
   "source": [
    "### Search for outliers (highest scores per horizon)"
   ],
   "metadata": {
    "collapsed": false
   },
   "id": "621e615bdcb76d6f"
  },
  {
   "cell_type": "code",
   "execution_count": 29,
   "outputs": [
    {
     "name": "stdout",
     "output_type": "stream",
     "text": [
      "baseline: 36 hour\n",
      "forecast_date\n",
      "2022-01-28 12:00:00    22.072968\n",
      "2022-04-01 12:00:00    23.392792\n",
      "2022-12-23 12:00:00    23.977391\n",
      "2022-01-21 12:00:00    27.849271\n",
      "2021-12-31 12:00:00    29.794923\n",
      "2023-06-09 12:00:00    29.847516\n",
      "2023-05-19 12:00:00    41.452174\n",
      "2022-12-30 12:00:00    46.208209\n",
      "2022-04-15 12:00:00    46.825597\n",
      "2023-04-07 12:00:00    56.576709\n",
      "Name: baseline: 36 hour, dtype: float64\n",
      "baseline: 40 hour\n",
      "forecast_date\n",
      "2022-08-19 16:00:00    20.054224\n",
      "2022-01-28 16:00:00    20.788040\n",
      "2022-01-07 16:00:00    21.532517\n",
      "2023-06-09 16:00:00    23.278744\n",
      "2022-02-04 16:00:00    23.615821\n",
      "2022-01-14 16:00:00    24.259517\n",
      "2022-01-21 16:00:00    29.518479\n",
      "2023-05-19 16:00:00    43.186252\n",
      "2022-04-15 16:00:00    50.913193\n",
      "2023-04-07 16:00:00    64.637389\n",
      "Name: baseline: 40 hour, dtype: float64\n",
      "baseline: 44 hour\n",
      "forecast_date\n",
      "2023-08-04 20:00:00    21.978468\n",
      "2022-07-29 20:00:00    22.311362\n",
      "2022-08-12 20:00:00    22.472706\n",
      "2023-07-21 20:00:00    22.792978\n",
      "2021-12-24 20:00:00    23.253081\n",
      "2022-06-17 20:00:00    23.451081\n",
      "2022-01-21 20:00:00    28.719962\n",
      "2023-05-19 20:00:00    28.820057\n",
      "2022-04-15 20:00:00    29.399737\n",
      "2023-04-07 20:00:00    29.609527\n",
      "Name: baseline: 44 hour, dtype: float64\n",
      "baseline: 60 hour\n",
      "forecast_date\n",
      "2022-07-30 12:00:00    19.671658\n",
      "2022-08-20 12:00:00    19.681111\n",
      "2023-07-22 12:00:00    21.598784\n",
      "2023-08-05 12:00:00    22.691622\n",
      "2023-06-03 12:00:00    22.767271\n",
      "2023-04-22 12:00:00    23.951498\n",
      "2023-04-08 12:00:00    26.004493\n",
      "2023-05-27 12:00:00    29.000535\n",
      "2022-01-29 12:00:00    29.883434\n",
      "2022-01-01 12:00:00    33.837185\n",
      "Name: baseline: 60 hour, dtype: float64\n",
      "baseline: 64 hour\n",
      "forecast_date\n",
      "2023-04-08 16:00:00    20.493472\n",
      "2022-01-22 16:00:00    20.931900\n",
      "2023-08-05 16:00:00    20.976407\n",
      "2022-07-30 16:00:00    21.590145\n",
      "2023-07-22 16:00:00    21.598678\n",
      "2022-08-20 16:00:00    21.646103\n",
      "2023-06-03 16:00:00    26.359320\n",
      "2022-01-29 16:00:00    26.555400\n",
      "2022-01-08 16:00:00    30.531282\n",
      "2023-05-27 16:00:00    33.084851\n",
      "Name: baseline: 64 hour, dtype: float64\n",
      "baseline: 68 hour\n",
      "forecast_date\n",
      "2022-08-13 20:00:00    21.076059\n",
      "2023-08-05 20:00:00    21.104246\n",
      "2023-07-22 20:00:00    21.229496\n",
      "2023-06-03 20:00:00    23.767862\n",
      "2022-08-20 20:00:00    25.559944\n",
      "2022-08-06 20:00:00    25.649752\n",
      "2022-07-30 20:00:00    25.740416\n",
      "2022-12-24 20:00:00    27.786281\n",
      "2022-01-08 20:00:00    28.454845\n",
      "2023-05-27 20:00:00    29.663345\n",
      "Name: baseline: 68 hour, dtype: float64\n"
     ]
    }
   ],
   "source": [
    "models_display = ['baseline']\n",
    "horizons = [36]\n",
    "for h in [str(h) + \" hour\" for h in [36, 40, 44, 60, 64, 68]]:\n",
    "    for c in [f'{m}: {h}' for m in models_display]:\n",
    "        df_sorted = score_df[c].sort_values().dropna().tail(10)\n",
    "        \n",
    "        \n",
    "        print(f'{c}')\n",
    "        print(df_sorted)"
   ],
   "metadata": {
    "collapsed": false,
    "ExecuteTime": {
     "end_time": "2023-11-27T12:13:19.335994Z",
     "start_time": "2023-11-27T12:13:19.317388Z"
    }
   },
   "id": "9921d7965cd06b0b"
  },
  {
   "cell_type": "code",
   "execution_count": null,
   "outputs": [],
   "source": [],
   "metadata": {
    "collapsed": false
   },
   "id": "6ecfc0df748077b8"
  }
 ],
 "metadata": {
  "kernelspec": {
   "display_name": "Python 3",
   "language": "python",
   "name": "python3"
  },
  "language_info": {
   "codemirror_mode": {
    "name": "ipython",
    "version": 2
   },
   "file_extension": ".py",
   "mimetype": "text/x-python",
   "name": "python",
   "nbconvert_exporter": "python",
   "pygments_lexer": "ipython2",
   "version": "2.7.6"
  }
 },
 "nbformat": 4,
 "nbformat_minor": 5
}
