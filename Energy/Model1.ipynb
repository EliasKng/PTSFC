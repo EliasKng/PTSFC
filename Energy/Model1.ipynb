{
 "cells": [
  {
   "cell_type": "code",
   "execution_count": 12,
   "id": "initial_id",
   "metadata": {
    "collapsed": true,
    "ExecuteTime": {
     "end_time": "2023-11-10T15:20:08.447478Z",
     "start_time": "2023-11-10T15:20:05.853209Z"
    }
   },
   "outputs": [],
   "source": [
    "import pandas as pd\n",
    "import numpy as np\n",
    "import matplotlib.pyplot as plt\n",
    "import seaborn as sns\n",
    "import statsmodels.api as sm\n",
    "import sklearn\n",
    "from math import sqrt"
   ]
  },
  {
   "cell_type": "markdown",
   "source": [
    "First, Import the data"
   ],
   "metadata": {
    "collapsed": false
   },
   "id": "7937394c0bacd2b1"
  },
  {
   "cell_type": "code",
   "execution_count": 4,
   "outputs": [],
   "source": [
    "from HelpFunctions import import_csv_data\n",
    "\n",
    "energyconsumption = import_csv_data.get_data(\n",
    "    'hourly_ec_20201107_20231107.csv')"
   ],
   "metadata": {
    "collapsed": false,
    "ExecuteTime": {
     "end_time": "2023-11-10T15:11:39.767867Z",
     "start_time": "2023-11-10T15:11:39.552116Z"
    }
   },
   "id": "a7dff84cd816e918"
  },
  {
   "cell_type": "code",
   "execution_count": 10,
   "outputs": [
    {
     "data": {
      "text/plain": "                     energy_consumption  winter  low_consumption_time  \\\ndate_time                                                               \n2020-11-07 00:00:00            46.97475       1                     1   \n2020-11-07 01:00:00            45.35550       1                     1   \n2020-11-07 02:00:00            44.66450       1                     1   \n2020-11-07 03:00:00            44.76300       1                     1   \n2020-11-07 04:00:00            44.81150       1                     1   \n...                                 ...     ...                   ...   \n2023-11-07 06:00:00            59.43725       1                     1   \n2023-11-07 07:00:00            63.89000       1                     0   \n2023-11-07 08:00:00            66.64725       1                     0   \n2023-11-07 09:00:00            68.20925       1                     0   \n2023-11-07 10:00:00            68.95050       1                     0   \n\n                     high_consumption_time  transition_time  weekend_day  \ndate_time                                                                 \n2020-11-07 00:00:00                      0                0            1  \n2020-11-07 01:00:00                      0                0            1  \n2020-11-07 02:00:00                      0                0            1  \n2020-11-07 03:00:00                      0                0            1  \n2020-11-07 04:00:00                      0                0            1  \n...                                    ...              ...          ...  \n2023-11-07 06:00:00                      0                1            0  \n2023-11-07 07:00:00                      1                0            0  \n2023-11-07 08:00:00                      1                0            0  \n2023-11-07 09:00:00                      1                0            0  \n2023-11-07 10:00:00                      1                0            0  \n\n[26291 rows x 6 columns]",
      "text/html": "<div>\n<style scoped>\n    .dataframe tbody tr th:only-of-type {\n        vertical-align: middle;\n    }\n\n    .dataframe tbody tr th {\n        vertical-align: top;\n    }\n\n    .dataframe thead th {\n        text-align: right;\n    }\n</style>\n<table border=\"1\" class=\"dataframe\">\n  <thead>\n    <tr style=\"text-align: right;\">\n      <th></th>\n      <th>energy_consumption</th>\n      <th>winter</th>\n      <th>low_consumption_time</th>\n      <th>high_consumption_time</th>\n      <th>transition_time</th>\n      <th>weekend_day</th>\n    </tr>\n    <tr>\n      <th>date_time</th>\n      <th></th>\n      <th></th>\n      <th></th>\n      <th></th>\n      <th></th>\n      <th></th>\n    </tr>\n  </thead>\n  <tbody>\n    <tr>\n      <th>2020-11-07 00:00:00</th>\n      <td>46.97475</td>\n      <td>1</td>\n      <td>1</td>\n      <td>0</td>\n      <td>0</td>\n      <td>1</td>\n    </tr>\n    <tr>\n      <th>2020-11-07 01:00:00</th>\n      <td>45.35550</td>\n      <td>1</td>\n      <td>1</td>\n      <td>0</td>\n      <td>0</td>\n      <td>1</td>\n    </tr>\n    <tr>\n      <th>2020-11-07 02:00:00</th>\n      <td>44.66450</td>\n      <td>1</td>\n      <td>1</td>\n      <td>0</td>\n      <td>0</td>\n      <td>1</td>\n    </tr>\n    <tr>\n      <th>2020-11-07 03:00:00</th>\n      <td>44.76300</td>\n      <td>1</td>\n      <td>1</td>\n      <td>0</td>\n      <td>0</td>\n      <td>1</td>\n    </tr>\n    <tr>\n      <th>2020-11-07 04:00:00</th>\n      <td>44.81150</td>\n      <td>1</td>\n      <td>1</td>\n      <td>0</td>\n      <td>0</td>\n      <td>1</td>\n    </tr>\n    <tr>\n      <th>...</th>\n      <td>...</td>\n      <td>...</td>\n      <td>...</td>\n      <td>...</td>\n      <td>...</td>\n      <td>...</td>\n    </tr>\n    <tr>\n      <th>2023-11-07 06:00:00</th>\n      <td>59.43725</td>\n      <td>1</td>\n      <td>1</td>\n      <td>0</td>\n      <td>1</td>\n      <td>0</td>\n    </tr>\n    <tr>\n      <th>2023-11-07 07:00:00</th>\n      <td>63.89000</td>\n      <td>1</td>\n      <td>0</td>\n      <td>1</td>\n      <td>0</td>\n      <td>0</td>\n    </tr>\n    <tr>\n      <th>2023-11-07 08:00:00</th>\n      <td>66.64725</td>\n      <td>1</td>\n      <td>0</td>\n      <td>1</td>\n      <td>0</td>\n      <td>0</td>\n    </tr>\n    <tr>\n      <th>2023-11-07 09:00:00</th>\n      <td>68.20925</td>\n      <td>1</td>\n      <td>0</td>\n      <td>1</td>\n      <td>0</td>\n      <td>0</td>\n    </tr>\n    <tr>\n      <th>2023-11-07 10:00:00</th>\n      <td>68.95050</td>\n      <td>1</td>\n      <td>0</td>\n      <td>1</td>\n      <td>0</td>\n      <td>0</td>\n    </tr>\n  </tbody>\n</table>\n<p>26291 rows × 6 columns</p>\n</div>"
     },
     "execution_count": 10,
     "metadata": {},
     "output_type": "execute_result"
    }
   ],
   "source": [
    "energyconsumption['weekday'] = energyconsumption.index.weekday\n",
    "energyconsumption['hour'] = energyconsumption.index.hour\n",
    "energyconsumption['month'] = energyconsumption.index.month\n",
    "\n",
    "# create winter/cold dummy variable\n",
    "energyconsumption['winter'] = energyconsumption['month'].apply(\n",
    "    lambda x: 1 if x in [10, 11, 12, 1, 2, 3] else 0)\n",
    "\n",
    "# Define mapping of hours to timeframes (based on graph) and create dummy variable\n",
    "time_mapping = {\n",
    "    'low_consumption_time': list(range(7)),  # differs a lot weekend/weekday\n",
    "    'high_consumption_time': list(range(7, 20)),\n",
    "    'transition_time': [6, 20, 21, 22, 23]}\n",
    "\n",
    "for timeframe, hours in time_mapping.items():\n",
    "    energyconsumption[timeframe] = energyconsumption['hour'].apply(\n",
    "        lambda x: 1 if x in hours else 0)\n",
    "\n",
    "# create weekend day dummy variable\n",
    "energyconsumption['weekend_day'] = energyconsumption['weekday'].apply(\n",
    "    lambda x: 1 if x in [5,6] else 0)\n",
    "\n",
    "# drop unneccesary columns\n",
    "energyconsumption = energyconsumption.drop(columns=['date', 'beginning', 'weekday', 'hour', 'month'])\n",
    "\n",
    "energyconsumption"
   ],
   "metadata": {
    "collapsed": false,
    "ExecuteTime": {
     "end_time": "2023-11-10T15:18:59.548564Z",
     "start_time": "2023-11-10T15:18:59.498840Z"
    }
   },
   "id": "28a8ee7c53a5f7c"
  },
  {
   "cell_type": "markdown",
   "source": [
    "## Let's fit our model"
   ],
   "metadata": {
    "collapsed": false
   },
   "id": "346f627f0a067c25"
  },
  {
   "cell_type": "code",
   "execution_count": 13,
   "outputs": [
    {
     "data": {
      "text/plain": "<class 'statsmodels.iolib.summary.Summary'>\n\"\"\"\n                            OLS Regression Results                            \n==============================================================================\nDep. Variable:     energy_consumption   R-squared:                       0.715\nModel:                            OLS   Adj. R-squared:                  0.715\nMethod:                 Least Squares   F-statistic:                 1.647e+04\nDate:                Fri, 10 Nov 2023   Prob (F-statistic):               0.00\nTime:                        16:20:13   Log-Likelihood:                -80466.\nNo. Observations:               26291   AIC:                         1.609e+05\nDf Residuals:                   26286   BIC:                         1.610e+05\nDf Model:                           4                                         \nCovariance Type:            nonrobust                                         \n=========================================================================================\n                            coef    std err          t      P>|t|      [0.025      0.975]\n-----------------------------------------------------------------------------------------\nconst                    45.2099      0.074    611.208      0.000      45.065      45.355\nwinter                    5.8969      0.064     92.576      0.000       5.772       6.022\nhigh_consumption_time    14.9759      0.077    194.505      0.000      14.825      15.127\ntransition_time           7.9468      0.094     84.116      0.000       7.762       8.132\nweekend_day              -9.6217      0.070   -136.610      0.000      -9.760      -9.484\n==============================================================================\nOmnibus:                      835.742   Durbin-Watson:                   0.266\nProb(Omnibus):                  0.000   Jarque-Bera (JB):             1030.674\nSkew:                          -0.382   Prob(JB):                    1.56e-224\nKurtosis:                       3.597   Cond. No.                         5.14\n==============================================================================\n\nNotes:\n[1] Standard Errors assume that the covariance matrix of the errors is correctly specified.\n\"\"\"",
      "text/html": "<table class=\"simpletable\">\n<caption>OLS Regression Results</caption>\n<tr>\n  <th>Dep. Variable:</th>    <td>energy_consumption</td> <th>  R-squared:         </th> <td>   0.715</td> \n</tr>\n<tr>\n  <th>Model:</th>                    <td>OLS</td>        <th>  Adj. R-squared:    </th> <td>   0.715</td> \n</tr>\n<tr>\n  <th>Method:</th>              <td>Least Squares</td>   <th>  F-statistic:       </th> <td>1.647e+04</td>\n</tr>\n<tr>\n  <th>Date:</th>              <td>Fri, 10 Nov 2023</td>  <th>  Prob (F-statistic):</th>  <td>  0.00</td>  \n</tr>\n<tr>\n  <th>Time:</th>                  <td>16:20:13</td>      <th>  Log-Likelihood:    </th> <td> -80466.</td> \n</tr>\n<tr>\n  <th>No. Observations:</th>       <td> 26291</td>       <th>  AIC:               </th> <td>1.609e+05</td>\n</tr>\n<tr>\n  <th>Df Residuals:</th>           <td> 26286</td>       <th>  BIC:               </th> <td>1.610e+05</td>\n</tr>\n<tr>\n  <th>Df Model:</th>               <td>     4</td>       <th>                     </th>     <td> </td>    \n</tr>\n<tr>\n  <th>Covariance Type:</th>       <td>nonrobust</td>     <th>                     </th>     <td> </td>    \n</tr>\n</table>\n<table class=\"simpletable\">\n<tr>\n            <td></td>               <th>coef</th>     <th>std err</th>      <th>t</th>      <th>P>|t|</th>  <th>[0.025</th>    <th>0.975]</th>  \n</tr>\n<tr>\n  <th>const</th>                 <td>   45.2099</td> <td>    0.074</td> <td>  611.208</td> <td> 0.000</td> <td>   45.065</td> <td>   45.355</td>\n</tr>\n<tr>\n  <th>winter</th>                <td>    5.8969</td> <td>    0.064</td> <td>   92.576</td> <td> 0.000</td> <td>    5.772</td> <td>    6.022</td>\n</tr>\n<tr>\n  <th>high_consumption_time</th> <td>   14.9759</td> <td>    0.077</td> <td>  194.505</td> <td> 0.000</td> <td>   14.825</td> <td>   15.127</td>\n</tr>\n<tr>\n  <th>transition_time</th>       <td>    7.9468</td> <td>    0.094</td> <td>   84.116</td> <td> 0.000</td> <td>    7.762</td> <td>    8.132</td>\n</tr>\n<tr>\n  <th>weekend_day</th>           <td>   -9.6217</td> <td>    0.070</td> <td> -136.610</td> <td> 0.000</td> <td>   -9.760</td> <td>   -9.484</td>\n</tr>\n</table>\n<table class=\"simpletable\">\n<tr>\n  <th>Omnibus:</th>       <td>835.742</td> <th>  Durbin-Watson:     </th> <td>   0.266</td> \n</tr>\n<tr>\n  <th>Prob(Omnibus):</th> <td> 0.000</td>  <th>  Jarque-Bera (JB):  </th> <td>1030.674</td> \n</tr>\n<tr>\n  <th>Skew:</th>          <td>-0.382</td>  <th>  Prob(JB):          </th> <td>1.56e-224</td>\n</tr>\n<tr>\n  <th>Kurtosis:</th>      <td> 3.597</td>  <th>  Cond. No.          </th> <td>    5.14</td> \n</tr>\n</table><br/><br/>Notes:<br/>[1] Standard Errors assume that the covariance matrix of the errors is correctly specified.",
      "text/latex": "\\begin{center}\n\\begin{tabular}{lclc}\n\\toprule\n\\textbf{Dep. Variable:}          & energy\\_consumption & \\textbf{  R-squared:         } &     0.715   \\\\\n\\textbf{Model:}                  &         OLS         & \\textbf{  Adj. R-squared:    } &     0.715   \\\\\n\\textbf{Method:}                 &    Least Squares    & \\textbf{  F-statistic:       } & 1.647e+04   \\\\\n\\textbf{Date:}                   &   Fri, 10 Nov 2023  & \\textbf{  Prob (F-statistic):} &     0.00    \\\\\n\\textbf{Time:}                   &       16:20:13      & \\textbf{  Log-Likelihood:    } &   -80466.   \\\\\n\\textbf{No. Observations:}       &         26291       & \\textbf{  AIC:               } & 1.609e+05   \\\\\n\\textbf{Df Residuals:}           &         26286       & \\textbf{  BIC:               } & 1.610e+05   \\\\\n\\textbf{Df Model:}               &             4       & \\textbf{                     } &             \\\\\n\\textbf{Covariance Type:}        &      nonrobust      & \\textbf{                     } &             \\\\\n\\bottomrule\n\\end{tabular}\n\\begin{tabular}{lcccccc}\n                                 & \\textbf{coef} & \\textbf{std err} & \\textbf{t} & \\textbf{P$> |$t$|$} & \\textbf{[0.025} & \\textbf{0.975]}  \\\\\n\\midrule\n\\textbf{const}                   &      45.2099  &        0.074     &   611.208  &         0.000        &       45.065    &       45.355     \\\\\n\\textbf{winter}                  &       5.8969  &        0.064     &    92.576  &         0.000        &        5.772    &        6.022     \\\\\n\\textbf{high\\_consumption\\_time} &      14.9759  &        0.077     &   194.505  &         0.000        &       14.825    &       15.127     \\\\\n\\textbf{transition\\_time}        &       7.9468  &        0.094     &    84.116  &         0.000        &        7.762    &        8.132     \\\\\n\\textbf{weekend\\_day}            &      -9.6217  &        0.070     &  -136.610  &         0.000        &       -9.760    &       -9.484     \\\\\n\\bottomrule\n\\end{tabular}\n\\begin{tabular}{lclc}\n\\textbf{Omnibus:}       & 835.742 & \\textbf{  Durbin-Watson:     } &     0.266  \\\\\n\\textbf{Prob(Omnibus):} &   0.000 & \\textbf{  Jarque-Bera (JB):  } &  1030.674  \\\\\n\\textbf{Skew:}          &  -0.382 & \\textbf{  Prob(JB):          } & 1.56e-224  \\\\\n\\textbf{Kurtosis:}      &   3.597 & \\textbf{  Cond. No.          } &      5.14  \\\\\n\\bottomrule\n\\end{tabular}\n%\\caption{OLS Regression Results}\n\\end{center}\n\nNotes: \\newline\n [1] Standard Errors assume that the covariance matrix of the errors is correctly specified."
     },
     "execution_count": 13,
     "metadata": {},
     "output_type": "execute_result"
    }
   ],
   "source": [
    "y_ec = energyconsumption['energy_consumption']\n",
    "X_ec = energyconsumption.drop(\n",
    "    columns=['energy_consumption', 'low_consumption_time']) #low consumption time as reference time --> drop\n",
    "\n",
    "# add constant for the intercept term\n",
    "X_ec = sm.add_constant(X_ec)\n",
    "\n",
    "X_ec\n",
    "# fit seasonal linear regression model\n",
    "model = sm.OLS(y_ec, X_ec).fit()\n",
    "model.summary()"
   ],
   "metadata": {
    "collapsed": false,
    "ExecuteTime": {
     "end_time": "2023-11-10T15:20:13.117146Z",
     "start_time": "2023-11-10T15:20:13.071419Z"
    }
   },
   "id": "bdf4de5cc7156a26"
  },
  {
   "cell_type": "markdown",
   "source": [
    "## Calculate Forecasts"
   ],
   "metadata": {
    "collapsed": false
   },
   "id": "d1efb7859dd67ac2"
  },
  {
   "cell_type": "code",
   "execution_count": 14,
   "outputs": [
    {
     "data": {
      "text/plain": "date_time\n2023-11-07 11:00:00    66.082657\n2023-11-07 12:00:00    66.082657\n2023-11-07 13:00:00    66.082657\n2023-11-07 14:00:00    66.082657\n2023-11-07 15:00:00    66.082657\n2023-11-07 16:00:00    66.082657\n2023-11-07 17:00:00    66.082657\n2023-11-07 18:00:00    66.082657\n2023-11-07 19:00:00    66.082657\n2023-11-07 20:00:00    59.053548\n2023-11-07 21:00:00    59.053548\n2023-11-07 22:00:00    59.053548\n2023-11-07 23:00:00    59.053548\n2023-11-08 00:00:00    51.106751\n2023-11-08 01:00:00    51.106751\n2023-11-08 02:00:00    51.106751\n2023-11-08 03:00:00    51.106751\n2023-11-08 04:00:00    51.106751\n2023-11-08 05:00:00    51.106751\n2023-11-08 06:00:00    59.053548\ndtype: float64"
     },
     "execution_count": 14,
     "metadata": {},
     "output_type": "execute_result"
    }
   ],
   "source": [
    "# create new dataframe containing future date_times and indepentent variables\n",
    "\n",
    "last_ts = energyconsumption.index[-1]\n",
    "horizon = pd.date_range(start=last_ts + pd.DateOffset(\n",
    "    hours=1), periods=200, freq='H')\n",
    "\n",
    "energy_forecast = pd.DataFrame({'date_time': horizon})\n",
    "energy_forecast.set_index('date_time', inplace=True)\n",
    "\n",
    "energy_forecast['weekday'] = energy_forecast.index.weekday\n",
    "energy_forecast['hour'] = energy_forecast.index.hour\n",
    "energy_forecast['month'] = energy_forecast.index.month\n",
    "\n",
    "# create winter/cold dummy variable\n",
    "energy_forecast['winter'] = energy_forecast['month'].apply(\n",
    "    lambda x: 1 if x in [10, 11, 12, 1, 2, 3] else 0)\n",
    "\n",
    "# time mapping already initialized\n",
    "for timeframe, hours in time_mapping.items():\n",
    "    energy_forecast[timeframe] = energy_forecast['hour'].apply(\n",
    "        lambda x: 1 if x in hours else 0)\n",
    "\n",
    "# create weekend day dummy variable\n",
    "energy_forecast['weekend_day'] = energy_forecast['weekday'].apply(\n",
    "    lambda x: 1 if x in [5,6] else 0)\n",
    "\n",
    "energy_forecast\n",
    "\n",
    "# Point forecasts\n",
    "X_fc = energy_forecast.drop(columns=['weekday', 'hour', 'month','low_consumption_time'])\n",
    "X_fc = sm.add_constant(X_fc, has_constant='add')\n",
    "X_fc\n",
    "\n",
    "# Make predictions\n",
    "predictions_ec = model.predict(X_fc)\n",
    "predictions_ec.head(20)\n"
   ],
   "metadata": {
    "collapsed": false,
    "ExecuteTime": {
     "end_time": "2023-11-10T15:36:52.290413Z",
     "start_time": "2023-11-10T15:36:52.286034Z"
    }
   },
   "id": "245d6aa6b58b76f7"
  },
  {
   "cell_type": "markdown",
   "source": [
    "Jetzt Quantile Regression um Quantile zu berechnen:"
   ],
   "metadata": {
    "collapsed": false
   },
   "id": "1effc5bc6737d100"
  },
  {
   "cell_type": "code",
   "execution_count": 15,
   "outputs": [],
   "source": [
    "quantiles = [0.025, 0.25, 0.5, 0.75, 0.975]\n",
    "\n",
    "model_qr = sm.QuantReg(y_ec, X_ec)\n",
    "\n",
    "for q in quantiles:\n",
    "    \n",
    "    model_temp = model_qr.fit(q=q)\n",
    "\n",
    "    # Calculate forecasts for X_fc using the fitted model for the current quantile\n",
    "    forecast_temp = model_temp.predict(X_fc)\n",
    "\n",
    "    # Add the forecasts to the energy_forecast DataFrame with a label like 'forecast025'\n",
    "    energy_forecast[f'forecast{q}'] = forecast_temp"
   ],
   "metadata": {
    "collapsed": false,
    "ExecuteTime": {
     "end_time": "2023-11-10T15:38:26.388777Z",
     "start_time": "2023-11-10T15:38:24.920269Z"
    }
   },
   "id": "3994e97c878e3db4"
  },
  {
   "cell_type": "code",
   "execution_count": 19,
   "outputs": [
    {
     "data": {
      "text/plain": "                     forecast0.025  forecast0.25  forecast0.5  forecast0.75  \\\ndate_time                                                                     \n2023-11-10 12:00:00      51.965751     62.826253    66.557000     70.110997   \n2023-11-10 16:00:00      51.965751     62.826253    66.557000     70.110997   \n2023-11-10 20:00:00      47.158251     55.523751    59.529001     63.065389   \n2023-11-11 12:00:00      43.996251     52.709002    56.941501     60.884165   \n2023-11-11 16:00:00      43.996251     52.709002    56.941501     60.884165   \n2023-11-11 20:00:00      39.188751     45.406500    49.913502     53.838557   \n\n                     forecast0.975  \ndate_time                           \n2023-11-10 12:00:00      75.507699  \n2023-11-10 16:00:00      75.507699  \n2023-11-10 20:00:00      68.723749  \n2023-11-11 12:00:00      65.971965  \n2023-11-11 16:00:00      65.971965  \n2023-11-11 20:00:00      59.188016  ",
      "text/html": "<div>\n<style scoped>\n    .dataframe tbody tr th:only-of-type {\n        vertical-align: middle;\n    }\n\n    .dataframe tbody tr th {\n        vertical-align: top;\n    }\n\n    .dataframe thead th {\n        text-align: right;\n    }\n</style>\n<table border=\"1\" class=\"dataframe\">\n  <thead>\n    <tr style=\"text-align: right;\">\n      <th></th>\n      <th>forecast0.025</th>\n      <th>forecast0.25</th>\n      <th>forecast0.5</th>\n      <th>forecast0.75</th>\n      <th>forecast0.975</th>\n    </tr>\n    <tr>\n      <th>date_time</th>\n      <th></th>\n      <th></th>\n      <th></th>\n      <th></th>\n      <th></th>\n    </tr>\n  </thead>\n  <tbody>\n    <tr>\n      <th>2023-11-10 12:00:00</th>\n      <td>51.965751</td>\n      <td>62.826253</td>\n      <td>66.557000</td>\n      <td>70.110997</td>\n      <td>75.507699</td>\n    </tr>\n    <tr>\n      <th>2023-11-10 16:00:00</th>\n      <td>51.965751</td>\n      <td>62.826253</td>\n      <td>66.557000</td>\n      <td>70.110997</td>\n      <td>75.507699</td>\n    </tr>\n    <tr>\n      <th>2023-11-10 20:00:00</th>\n      <td>47.158251</td>\n      <td>55.523751</td>\n      <td>59.529001</td>\n      <td>63.065389</td>\n      <td>68.723749</td>\n    </tr>\n    <tr>\n      <th>2023-11-11 12:00:00</th>\n      <td>43.996251</td>\n      <td>52.709002</td>\n      <td>56.941501</td>\n      <td>60.884165</td>\n      <td>65.971965</td>\n    </tr>\n    <tr>\n      <th>2023-11-11 16:00:00</th>\n      <td>43.996251</td>\n      <td>52.709002</td>\n      <td>56.941501</td>\n      <td>60.884165</td>\n      <td>65.971965</td>\n    </tr>\n    <tr>\n      <th>2023-11-11 20:00:00</th>\n      <td>39.188751</td>\n      <td>45.406500</td>\n      <td>49.913502</td>\n      <td>53.838557</td>\n      <td>59.188016</td>\n    </tr>\n  </tbody>\n</table>\n</div>"
     },
     "execution_count": 19,
     "metadata": {},
     "output_type": "execute_result"
    }
   ],
   "source": [
    "# Define the specific date and time combinations\n",
    "selected_dates = ['2023-11-10 12:00:00', '2023-11-10 16:00:00', '2023-11-10 20:00:00',\n",
    "                  '2023-11-11 12:00:00', '2023-11-11 16:00:00', '2023-11-11 20:00:00']\n",
    "\n",
    "forecasting_results = energy_forecast.loc[selected_dates,\n",
    "                                          'forecast0.025':'forecast0.975']\n",
    "\n",
    "forecasting_results"
   ],
   "metadata": {
    "collapsed": false,
    "ExecuteTime": {
     "end_time": "2023-11-10T15:39:42.825013Z",
     "start_time": "2023-11-10T15:39:42.820101Z"
    }
   },
   "id": "6195beee0fcdb68a"
  },
  {
   "cell_type": "code",
   "execution_count": 18,
   "outputs": [
    {
     "data": {
      "text/plain": "                     weekday  hour  month  winter  low_consumption_time  \\\ndate_time                                                                 \n2023-11-07 11:00:00        1    11     11       1                     0   \n2023-11-07 12:00:00        1    12     11       1                     0   \n2023-11-07 13:00:00        1    13     11       1                     0   \n2023-11-07 14:00:00        1    14     11       1                     0   \n2023-11-07 15:00:00        1    15     11       1                     0   \n...                      ...   ...    ...     ...                   ...   \n2023-11-15 14:00:00        2    14     11       1                     0   \n2023-11-15 15:00:00        2    15     11       1                     0   \n2023-11-15 16:00:00        2    16     11       1                     0   \n2023-11-15 17:00:00        2    17     11       1                     0   \n2023-11-15 18:00:00        2    18     11       1                     0   \n\n                     high_consumption_time  transition_time  weekend_day  \\\ndate_time                                                                  \n2023-11-07 11:00:00                      1                0            0   \n2023-11-07 12:00:00                      1                0            0   \n2023-11-07 13:00:00                      1                0            0   \n2023-11-07 14:00:00                      1                0            0   \n2023-11-07 15:00:00                      1                0            0   \n...                                    ...              ...          ...   \n2023-11-15 14:00:00                      1                0            0   \n2023-11-15 15:00:00                      1                0            0   \n2023-11-15 16:00:00                      1                0            0   \n2023-11-15 17:00:00                      1                0            0   \n2023-11-15 18:00:00                      1                0            0   \n\n                     forecast0.025  forecast0.25  forecast0.5  forecast0.75  \\\ndate_time                                                                     \n2023-11-07 11:00:00      51.965751     62.826253       66.557     70.110997   \n2023-11-07 12:00:00      51.965751     62.826253       66.557     70.110997   \n2023-11-07 13:00:00      51.965751     62.826253       66.557     70.110997   \n2023-11-07 14:00:00      51.965751     62.826253       66.557     70.110997   \n2023-11-07 15:00:00      51.965751     62.826253       66.557     70.110997   \n...                            ...           ...          ...           ...   \n2023-11-15 14:00:00      51.965751     62.826253       66.557     70.110997   \n2023-11-15 15:00:00      51.965751     62.826253       66.557     70.110997   \n2023-11-15 16:00:00      51.965751     62.826253       66.557     70.110997   \n2023-11-15 17:00:00      51.965751     62.826253       66.557     70.110997   \n2023-11-15 18:00:00      51.965751     62.826253       66.557     70.110997   \n\n                     forecast0.975  \ndate_time                           \n2023-11-07 11:00:00      75.507699  \n2023-11-07 12:00:00      75.507699  \n2023-11-07 13:00:00      75.507699  \n2023-11-07 14:00:00      75.507699  \n2023-11-07 15:00:00      75.507699  \n...                            ...  \n2023-11-15 14:00:00      75.507699  \n2023-11-15 15:00:00      75.507699  \n2023-11-15 16:00:00      75.507699  \n2023-11-15 17:00:00      75.507699  \n2023-11-15 18:00:00      75.507699  \n\n[200 rows x 13 columns]",
      "text/html": "<div>\n<style scoped>\n    .dataframe tbody tr th:only-of-type {\n        vertical-align: middle;\n    }\n\n    .dataframe tbody tr th {\n        vertical-align: top;\n    }\n\n    .dataframe thead th {\n        text-align: right;\n    }\n</style>\n<table border=\"1\" class=\"dataframe\">\n  <thead>\n    <tr style=\"text-align: right;\">\n      <th></th>\n      <th>weekday</th>\n      <th>hour</th>\n      <th>month</th>\n      <th>winter</th>\n      <th>low_consumption_time</th>\n      <th>high_consumption_time</th>\n      <th>transition_time</th>\n      <th>weekend_day</th>\n      <th>forecast0.025</th>\n      <th>forecast0.25</th>\n      <th>forecast0.5</th>\n      <th>forecast0.75</th>\n      <th>forecast0.975</th>\n    </tr>\n    <tr>\n      <th>date_time</th>\n      <th></th>\n      <th></th>\n      <th></th>\n      <th></th>\n      <th></th>\n      <th></th>\n      <th></th>\n      <th></th>\n      <th></th>\n      <th></th>\n      <th></th>\n      <th></th>\n      <th></th>\n    </tr>\n  </thead>\n  <tbody>\n    <tr>\n      <th>2023-11-07 11:00:00</th>\n      <td>1</td>\n      <td>11</td>\n      <td>11</td>\n      <td>1</td>\n      <td>0</td>\n      <td>1</td>\n      <td>0</td>\n      <td>0</td>\n      <td>51.965751</td>\n      <td>62.826253</td>\n      <td>66.557</td>\n      <td>70.110997</td>\n      <td>75.507699</td>\n    </tr>\n    <tr>\n      <th>2023-11-07 12:00:00</th>\n      <td>1</td>\n      <td>12</td>\n      <td>11</td>\n      <td>1</td>\n      <td>0</td>\n      <td>1</td>\n      <td>0</td>\n      <td>0</td>\n      <td>51.965751</td>\n      <td>62.826253</td>\n      <td>66.557</td>\n      <td>70.110997</td>\n      <td>75.507699</td>\n    </tr>\n    <tr>\n      <th>2023-11-07 13:00:00</th>\n      <td>1</td>\n      <td>13</td>\n      <td>11</td>\n      <td>1</td>\n      <td>0</td>\n      <td>1</td>\n      <td>0</td>\n      <td>0</td>\n      <td>51.965751</td>\n      <td>62.826253</td>\n      <td>66.557</td>\n      <td>70.110997</td>\n      <td>75.507699</td>\n    </tr>\n    <tr>\n      <th>2023-11-07 14:00:00</th>\n      <td>1</td>\n      <td>14</td>\n      <td>11</td>\n      <td>1</td>\n      <td>0</td>\n      <td>1</td>\n      <td>0</td>\n      <td>0</td>\n      <td>51.965751</td>\n      <td>62.826253</td>\n      <td>66.557</td>\n      <td>70.110997</td>\n      <td>75.507699</td>\n    </tr>\n    <tr>\n      <th>2023-11-07 15:00:00</th>\n      <td>1</td>\n      <td>15</td>\n      <td>11</td>\n      <td>1</td>\n      <td>0</td>\n      <td>1</td>\n      <td>0</td>\n      <td>0</td>\n      <td>51.965751</td>\n      <td>62.826253</td>\n      <td>66.557</td>\n      <td>70.110997</td>\n      <td>75.507699</td>\n    </tr>\n    <tr>\n      <th>...</th>\n      <td>...</td>\n      <td>...</td>\n      <td>...</td>\n      <td>...</td>\n      <td>...</td>\n      <td>...</td>\n      <td>...</td>\n      <td>...</td>\n      <td>...</td>\n      <td>...</td>\n      <td>...</td>\n      <td>...</td>\n      <td>...</td>\n    </tr>\n    <tr>\n      <th>2023-11-15 14:00:00</th>\n      <td>2</td>\n      <td>14</td>\n      <td>11</td>\n      <td>1</td>\n      <td>0</td>\n      <td>1</td>\n      <td>0</td>\n      <td>0</td>\n      <td>51.965751</td>\n      <td>62.826253</td>\n      <td>66.557</td>\n      <td>70.110997</td>\n      <td>75.507699</td>\n    </tr>\n    <tr>\n      <th>2023-11-15 15:00:00</th>\n      <td>2</td>\n      <td>15</td>\n      <td>11</td>\n      <td>1</td>\n      <td>0</td>\n      <td>1</td>\n      <td>0</td>\n      <td>0</td>\n      <td>51.965751</td>\n      <td>62.826253</td>\n      <td>66.557</td>\n      <td>70.110997</td>\n      <td>75.507699</td>\n    </tr>\n    <tr>\n      <th>2023-11-15 16:00:00</th>\n      <td>2</td>\n      <td>16</td>\n      <td>11</td>\n      <td>1</td>\n      <td>0</td>\n      <td>1</td>\n      <td>0</td>\n      <td>0</td>\n      <td>51.965751</td>\n      <td>62.826253</td>\n      <td>66.557</td>\n      <td>70.110997</td>\n      <td>75.507699</td>\n    </tr>\n    <tr>\n      <th>2023-11-15 17:00:00</th>\n      <td>2</td>\n      <td>17</td>\n      <td>11</td>\n      <td>1</td>\n      <td>0</td>\n      <td>1</td>\n      <td>0</td>\n      <td>0</td>\n      <td>51.965751</td>\n      <td>62.826253</td>\n      <td>66.557</td>\n      <td>70.110997</td>\n      <td>75.507699</td>\n    </tr>\n    <tr>\n      <th>2023-11-15 18:00:00</th>\n      <td>2</td>\n      <td>18</td>\n      <td>11</td>\n      <td>1</td>\n      <td>0</td>\n      <td>1</td>\n      <td>0</td>\n      <td>0</td>\n      <td>51.965751</td>\n      <td>62.826253</td>\n      <td>66.557</td>\n      <td>70.110997</td>\n      <td>75.507699</td>\n    </tr>\n  </tbody>\n</table>\n<p>200 rows × 13 columns</p>\n</div>"
     },
     "execution_count": 18,
     "metadata": {},
     "output_type": "execute_result"
    }
   ],
   "source": [],
   "metadata": {
    "collapsed": false,
    "ExecuteTime": {
     "end_time": "2023-11-10T15:39:00.602912Z",
     "start_time": "2023-11-10T15:39:00.594984Z"
    }
   },
   "id": "6505dabcc637f6b8"
  },
  {
   "cell_type": "code",
   "execution_count": null,
   "outputs": [],
   "source": [],
   "metadata": {
    "collapsed": false
   },
   "id": "9dffc24ac7d9d525"
  }
 ],
 "metadata": {
  "kernelspec": {
   "display_name": "Python 3",
   "language": "python",
   "name": "python3"
  },
  "language_info": {
   "codemirror_mode": {
    "name": "ipython",
    "version": 2
   },
   "file_extension": ".py",
   "mimetype": "text/x-python",
   "name": "python",
   "nbconvert_exporter": "python",
   "pygments_lexer": "ipython2",
   "version": "2.7.6"
  }
 },
 "nbformat": 4,
 "nbformat_minor": 5
}
