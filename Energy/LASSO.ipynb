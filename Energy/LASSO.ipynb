{
 "cells": [
  {
   "cell_type": "code",
   "execution_count": null,
   "id": "initial_id",
   "metadata": {
    "collapsed": true
   },
   "outputs": [],
   "source": [
    "import numpy as np\n",
    "import pandas as pd\n",
    "import pickle\n",
    "import matplotlib.pyplot as plt\n",
    "import seaborn as sns\n",
    "from Energy.HelpFunctions.get_energy_data import get_energy_data, prepare_data\n",
    "from HelpFunctions.date_and_time import most_recent_thursday, split_time\n",
    "from Energy.Models.baseline import baseline\n",
    "from HelpFunctions.calc_score import evaluate_horizon\n",
    "from HelpFunctions.mix_models import mix_models\n",
    "from Energy.Models.Model1 import model1\n",
    "from Energy.Models.Model2 import model2\n",
    "from Energy.Models.Model4_population import model4_population\n",
    "from Energy.Models.Model4 import model4\n",
    "from Energy.Models.Model3 import model3\n",
    "from Energy.Models.Model5 import model5\n",
    "from Energy.Models.Model4_holidays_2 import model4_holidays_2\n",
    "from Energy.Models.Model4_sunhours import model4_sunhours\n",
    "# import importlib\n",
    "# importlib.reload(Energy.Models)"
   ]
  },
  {
   "cell_type": "code",
   "execution_count": 3,
   "outputs": [
    {
     "name": "stderr",
     "output_type": "stream",
     "text": [
      "100%|██████████| 266/266 [00:57<00:00,  4.59it/s]"
     ]
    },
    {
     "name": "stdout",
     "output_type": "stream",
     "text": [
      "                     Netzlast_Gesamt\n",
      "date_time                           \n",
      "2024-01-22 01:00:00         48962.50\n",
      "2024-01-22 02:00:00         48157.75\n",
      "2024-01-22 03:00:00         48287.75\n",
      "2024-01-22 04:00:00         49635.00\n",
      "2024-01-22 05:00:00         53793.25\n",
      "2024-01-22 06:00:00         61285.75\n",
      "2024-01-22 07:00:00         67834.75\n",
      "2024-01-22 08:00:00         71177.75\n",
      "2024-01-22 09:00:00         71795.25\n",
      "2024-01-22 10:00:00         36243.00\n"
     ]
    },
    {
     "name": "stderr",
     "output_type": "stream",
     "text": [
      "\n"
     ]
    }
   ],
   "source": [
    "# from Energy.HelpFunctions.get_energy_data import fetch_energy_data\n",
    "# fetch_energy_data()"
   ],
   "metadata": {
    "collapsed": false
   },
   "id": "ec01ca220c6bac7d"
  },
  {
   "cell_type": "code",
   "execution_count": 4,
   "outputs": [],
   "source": [
    "df = get_energy_data()\n",
    "df = prepare_data(df)"
   ],
   "metadata": {
    "collapsed": false,
    "ExecuteTime": {
     "end_time": "2024-01-22T10:09:50.149107Z",
     "start_time": "2024-01-22T10:09:50.057621Z"
    }
   },
   "id": "d71c3d24e0d21b7f"
  },
  {
   "cell_type": "code",
   "execution_count": 5,
   "outputs": [],
   "source": [
    "from Energy.Models.Model5 import add_dummies\n",
    "\n",
    "df = df.rename(columns={\"gesamt\": \"energy_consumption\"})\n",
    "df = add_dummies(df)"
   ],
   "metadata": {
    "collapsed": false,
    "ExecuteTime": {
     "end_time": "2024-01-22T10:10:02.222388Z",
     "start_time": "2024-01-22T10:10:01.501540Z"
    }
   },
   "id": "720abc923362086e"
  },
  {
   "cell_type": "code",
   "execution_count": 8,
   "outputs": [
    {
     "data": {
      "text/plain": "energy_consumption              float64\nwinter                            int64\nhigh_consumption_time             int64\nmedium_high_consumption_time      int64\ntransition_time                   int64\nweekend_day                       int64\nholiday                           int64\npopulation                      float64\nsun_hours                       float64\ndtype: object"
     },
     "execution_count": 8,
     "metadata": {},
     "output_type": "execute_result"
    }
   ],
   "source": [
    "df.dtypes"
   ],
   "metadata": {
    "collapsed": false,
    "ExecuteTime": {
     "end_time": "2024-01-22T10:10:17.170996Z",
     "start_time": "2024-01-22T10:10:17.163967Z"
    }
   },
   "id": "fdcce44609a9cf77"
  },
  {
   "cell_type": "code",
   "execution_count": 53,
   "outputs": [],
   "source": [
    "from sklearn.model_selection import train_test_split\n",
    "from sklearn.linear_model import Lasso\n",
    "from sklearn.feature_selection import SelectFromModel\n",
    "from sklearn.preprocessing import StandardScaler\n",
    "import numpy as np"
   ],
   "metadata": {
    "collapsed": false,
    "ExecuteTime": {
     "end_time": "2024-01-22T10:19:45.885541Z",
     "start_time": "2024-01-22T10:19:45.883276Z"
    }
   },
   "id": "719c0480fa8e51d"
  },
  {
   "cell_type": "code",
   "execution_count": 15,
   "outputs": [
    {
     "data": {
      "text/plain": "Index(['energy_consumption', 'winter', 'high_consumption_time',\n       'medium_high_consumption_time', 'transition_time', 'weekend_day',\n       'holiday', 'population', 'sun_hours'],\n      dtype='object')"
     },
     "execution_count": 15,
     "metadata": {},
     "output_type": "execute_result"
    }
   ],
   "source": [
    "df.columns"
   ],
   "metadata": {
    "collapsed": false,
    "ExecuteTime": {
     "end_time": "2024-01-22T10:12:02.380020Z",
     "start_time": "2024-01-22T10:12:02.373905Z"
    }
   },
   "id": "1b1409bf349bb2f1"
  },
  {
   "cell_type": "code",
   "execution_count": 14,
   "outputs": [
    {
     "data": {
      "text/plain": "(44531, 9)"
     },
     "execution_count": 14,
     "metadata": {},
     "output_type": "execute_result"
    }
   ],
   "source": [
    "numerics = ['int16', 'int32', 'int64', 'float16', 'float32', 'float64']\n",
    "numerical_vars = list(df.select_dtypes(include=numerics).columns)\n",
    "df = df[numerical_vars]\n",
    "df.shape"
   ],
   "metadata": {
    "collapsed": false,
    "ExecuteTime": {
     "end_time": "2024-01-22T10:11:29.009095Z",
     "start_time": "2024-01-22T10:11:28.999813Z"
    }
   },
   "id": "a20e3b8cfa4e8932"
  },
  {
   "cell_type": "code",
   "execution_count": 17,
   "outputs": [
    {
     "data": {
      "text/plain": "((31171, 8), (13360, 8))"
     },
     "execution_count": 17,
     "metadata": {},
     "output_type": "execute_result"
    }
   ],
   "source": [
    "# separate train and test sets\n",
    "X_train, X_test, y_train, y_test = train_test_split(\n",
    "    df.drop(labels=['energy_consumption'], axis=1),\n",
    "    df['energy_consumption'],\n",
    "    test_size=0.3,\n",
    "    random_state=0)\n",
    "\n",
    "X_train.shape, X_test.shape"
   ],
   "metadata": {
    "collapsed": false,
    "ExecuteTime": {
     "end_time": "2024-01-22T10:12:26.721724Z",
     "start_time": "2024-01-22T10:12:26.712734Z"
    }
   },
   "id": "a551e73d35be393f"
  },
  {
   "cell_type": "code",
   "execution_count": 18,
   "outputs": [
    {
     "data": {
      "text/plain": "StandardScaler()",
      "text/html": "<style>#sk-container-id-1 {color: black;}#sk-container-id-1 pre{padding: 0;}#sk-container-id-1 div.sk-toggleable {background-color: white;}#sk-container-id-1 label.sk-toggleable__label {cursor: pointer;display: block;width: 100%;margin-bottom: 0;padding: 0.3em;box-sizing: border-box;text-align: center;}#sk-container-id-1 label.sk-toggleable__label-arrow:before {content: \"▸\";float: left;margin-right: 0.25em;color: #696969;}#sk-container-id-1 label.sk-toggleable__label-arrow:hover:before {color: black;}#sk-container-id-1 div.sk-estimator:hover label.sk-toggleable__label-arrow:before {color: black;}#sk-container-id-1 div.sk-toggleable__content {max-height: 0;max-width: 0;overflow: hidden;text-align: left;background-color: #f0f8ff;}#sk-container-id-1 div.sk-toggleable__content pre {margin: 0.2em;color: black;border-radius: 0.25em;background-color: #f0f8ff;}#sk-container-id-1 input.sk-toggleable__control:checked~div.sk-toggleable__content {max-height: 200px;max-width: 100%;overflow: auto;}#sk-container-id-1 input.sk-toggleable__control:checked~label.sk-toggleable__label-arrow:before {content: \"▾\";}#sk-container-id-1 div.sk-estimator input.sk-toggleable__control:checked~label.sk-toggleable__label {background-color: #d4ebff;}#sk-container-id-1 div.sk-label input.sk-toggleable__control:checked~label.sk-toggleable__label {background-color: #d4ebff;}#sk-container-id-1 input.sk-hidden--visually {border: 0;clip: rect(1px 1px 1px 1px);clip: rect(1px, 1px, 1px, 1px);height: 1px;margin: -1px;overflow: hidden;padding: 0;position: absolute;width: 1px;}#sk-container-id-1 div.sk-estimator {font-family: monospace;background-color: #f0f8ff;border: 1px dotted black;border-radius: 0.25em;box-sizing: border-box;margin-bottom: 0.5em;}#sk-container-id-1 div.sk-estimator:hover {background-color: #d4ebff;}#sk-container-id-1 div.sk-parallel-item::after {content: \"\";width: 100%;border-bottom: 1px solid gray;flex-grow: 1;}#sk-container-id-1 div.sk-label:hover label.sk-toggleable__label {background-color: #d4ebff;}#sk-container-id-1 div.sk-serial::before {content: \"\";position: absolute;border-left: 1px solid gray;box-sizing: border-box;top: 0;bottom: 0;left: 50%;z-index: 0;}#sk-container-id-1 div.sk-serial {display: flex;flex-direction: column;align-items: center;background-color: white;padding-right: 0.2em;padding-left: 0.2em;position: relative;}#sk-container-id-1 div.sk-item {position: relative;z-index: 1;}#sk-container-id-1 div.sk-parallel {display: flex;align-items: stretch;justify-content: center;background-color: white;position: relative;}#sk-container-id-1 div.sk-item::before, #sk-container-id-1 div.sk-parallel-item::before {content: \"\";position: absolute;border-left: 1px solid gray;box-sizing: border-box;top: 0;bottom: 0;left: 50%;z-index: -1;}#sk-container-id-1 div.sk-parallel-item {display: flex;flex-direction: column;z-index: 1;position: relative;background-color: white;}#sk-container-id-1 div.sk-parallel-item:first-child::after {align-self: flex-end;width: 50%;}#sk-container-id-1 div.sk-parallel-item:last-child::after {align-self: flex-start;width: 50%;}#sk-container-id-1 div.sk-parallel-item:only-child::after {width: 0;}#sk-container-id-1 div.sk-dashed-wrapped {border: 1px dashed gray;margin: 0 0.4em 0.5em 0.4em;box-sizing: border-box;padding-bottom: 0.4em;background-color: white;}#sk-container-id-1 div.sk-label label {font-family: monospace;font-weight: bold;display: inline-block;line-height: 1.2em;}#sk-container-id-1 div.sk-label-container {text-align: center;}#sk-container-id-1 div.sk-container {/* jupyter's `normalize.less` sets `[hidden] { display: none; }` but bootstrap.min.css set `[hidden] { display: none !important; }` so we also need the `!important` here to be able to override the default hidden behavior on the sphinx rendered scikit-learn.org. See: https://github.com/scikit-learn/scikit-learn/issues/21755 */display: inline-block !important;position: relative;}#sk-container-id-1 div.sk-text-repr-fallback {display: none;}</style><div id=\"sk-container-id-1\" class=\"sk-top-container\"><div class=\"sk-text-repr-fallback\"><pre>StandardScaler()</pre><b>In a Jupyter environment, please rerun this cell to show the HTML representation or trust the notebook. <br />On GitHub, the HTML representation is unable to render, please try loading this page with nbviewer.org.</b></div><div class=\"sk-container\" hidden><div class=\"sk-item\"><div class=\"sk-estimator sk-toggleable\"><input class=\"sk-toggleable__control sk-hidden--visually\" id=\"sk-estimator-id-1\" type=\"checkbox\" checked><label for=\"sk-estimator-id-1\" class=\"sk-toggleable__label sk-toggleable__label-arrow\">StandardScaler</label><div class=\"sk-toggleable__content\"><pre>StandardScaler()</pre></div></div></div></div></div>"
     },
     "execution_count": 18,
     "metadata": {},
     "output_type": "execute_result"
    }
   ],
   "source": [
    "scaler = StandardScaler()\n",
    "scaler.fit(X_train.fillna(0))"
   ],
   "metadata": {
    "collapsed": false,
    "ExecuteTime": {
     "end_time": "2024-01-22T10:12:39.540483Z",
     "start_time": "2024-01-22T10:12:39.519756Z"
    }
   },
   "id": "5bee1db40b0e65ef"
  },
  {
   "cell_type": "code",
   "execution_count": 83,
   "outputs": [
    {
     "name": "stderr",
     "output_type": "stream",
     "text": [
      "/Users/elias/Desktop/PTSFC/venv/lib/python3.9/site-packages/sklearn/base.py:1152: UserWarning: With alpha=0, this algorithm does not converge well. You are advised to use the LinearRegression estimator\n",
      "  return fit_method(estimator, *args, **kwargs)\n",
      "/Users/elias/Desktop/PTSFC/venv/lib/python3.9/site-packages/sklearn/linear_model/_coordinate_descent.py:628: UserWarning: Coordinate descent with no regularization may lead to unexpected results and is discouraged.\n",
      "  model = cd_fast.enet_coordinate_descent(\n",
      "/Users/elias/Desktop/PTSFC/venv/lib/python3.9/site-packages/sklearn/linear_model/_coordinate_descent.py:628: ConvergenceWarning: Objective did not converge. You might want to increase the number of iterations, check the scale of the features or consider increasing regularisation. Duality gap: 5.188e+05, tolerance: 2.989e+02 Linear regression models with null weight for the l1 regularization term are more efficiently fitted using one of the solvers implemented in sklearn.linear_model.Ridge/RidgeCV instead.\n",
      "  model = cd_fast.enet_coordinate_descent(\n"
     ]
    },
    {
     "name": "stdout",
     "output_type": "stream",
     "text": [
      "alpha 0.88: ['transition_time']\n",
      "alpha 1.42: ['transition_time' 'population']\n",
      "alpha 1.96: ['transition_time' 'holiday' 'population']\n",
      "alpha 2.05: ['transition_time' 'holiday' 'population' 'sun_hours']\n",
      "alpha 2.64: ['medium_high_consumption_time' 'transition_time' 'holiday' 'population'\n",
      " 'sun_hours']\n",
      "alpha 2.93: ['winter' 'medium_high_consumption_time' 'transition_time' 'holiday'\n",
      " 'population' 'sun_hours']\n",
      "alpha 4.0: ['winter' 'high_consumption_time' 'medium_high_consumption_time'\n",
      " 'transition_time' 'holiday' 'population' 'sun_hours']\n",
      "alpha 4.37: ['winter' 'high_consumption_time' 'medium_high_consumption_time'\n",
      " 'transition_time' 'weekend_day' 'holiday' 'population' 'sun_hours']\n"
     ]
    },
    {
     "data": {
      "text/plain": "      numVariables\n0.00             8\n0.01             8\n0.02             8\n0.03             8\n0.04             8\n...            ...\n4.95             0\n4.96             0\n4.97             0\n4.98             0\n4.99             0\n\n[500 rows x 1 columns]",
      "text/html": "<div>\n<style scoped>\n    .dataframe tbody tr th:only-of-type {\n        vertical-align: middle;\n    }\n\n    .dataframe tbody tr th {\n        vertical-align: top;\n    }\n\n    .dataframe thead th {\n        text-align: right;\n    }\n</style>\n<table border=\"1\" class=\"dataframe\">\n  <thead>\n    <tr style=\"text-align: right;\">\n      <th></th>\n      <th>numVariables</th>\n    </tr>\n  </thead>\n  <tbody>\n    <tr>\n      <th>0.00</th>\n      <td>8</td>\n    </tr>\n    <tr>\n      <th>0.01</th>\n      <td>8</td>\n    </tr>\n    <tr>\n      <th>0.02</th>\n      <td>8</td>\n    </tr>\n    <tr>\n      <th>0.03</th>\n      <td>8</td>\n    </tr>\n    <tr>\n      <th>0.04</th>\n      <td>8</td>\n    </tr>\n    <tr>\n      <th>...</th>\n      <td>...</td>\n    </tr>\n    <tr>\n      <th>4.95</th>\n      <td>0</td>\n    </tr>\n    <tr>\n      <th>4.96</th>\n      <td>0</td>\n    </tr>\n    <tr>\n      <th>4.97</th>\n      <td>0</td>\n    </tr>\n    <tr>\n      <th>4.98</th>\n      <td>0</td>\n    </tr>\n    <tr>\n      <th>4.99</th>\n      <td>0</td>\n    </tr>\n  </tbody>\n</table>\n<p>500 rows × 1 columns</p>\n</div>"
     },
     "execution_count": 83,
     "metadata": {},
     "output_type": "execute_result"
    }
   ],
   "source": [
    "numvars = pd.DataFrame(columns=['numVariables'])\n",
    "numvar_old = 8\n",
    "for alpha in np.arange(0.0,5.0,0.01):\n",
    "    sel_ = SelectFromModel(Lasso(alpha=alpha))\n",
    "    sel_.fit(scaler.transform(X_train.fillna(0)), y_train)\n",
    "    numvar = sum(sel_.get_support())\n",
    "    if numvar_old != numvar:\n",
    "        # print(sel_.get_support())\n",
    "        print(f'alpha {alpha}: {np.asarray(numerical_vars[1:])[sel_.get_support() == False]}')\n",
    "    numvar_old = numvar\n",
    "    numvars.loc[alpha] = numvar \n",
    "    # numvars = numvars.append({'alpha':alpha,'numvars':numvar})\n",
    "numvars"
   ],
   "metadata": {
    "collapsed": false,
    "ExecuteTime": {
     "end_time": "2024-01-22T10:36:28.142232Z",
     "start_time": "2024-01-22T10:36:19.331645Z"
    }
   },
   "id": "5732bd27f798fe19"
  },
  {
   "cell_type": "code",
   "execution_count": 77,
   "outputs": [
    {
     "data": {
      "text/plain": "array([False, False, False, False, False, False, False, False])"
     },
     "execution_count": 77,
     "metadata": {},
     "output_type": "execute_result"
    }
   ],
   "source": [
    "# numerical_vars\n",
    "# np.asarray(numerical_vars[1:])[sel_.get_support()]"
   ],
   "metadata": {
    "collapsed": false,
    "ExecuteTime": {
     "end_time": "2024-01-22T10:32:55.800409Z",
     "start_time": "2024-01-22T10:32:55.790596Z"
    }
   },
   "id": "ad3731fe0ee805d8"
  },
  {
   "cell_type": "code",
   "execution_count": 65,
   "outputs": [
    {
     "data": {
      "text/plain": "<Figure size 640x480 with 1 Axes>",
      "image/png": "[encoded data removed]"
     },
     "metadata": {},
     "output_type": "display_data"
    }
   ],
   "source": [
    "import matplotlib.pyplot as plt\n",
    "\n",
    "plt.plot(numvars)\n",
    "plt.xlabel('Lasso Regression aplha')\n",
    "plt.ylabel('Number of used Variables')\n",
    "plt.savefig('./Plots/Lasso.png')\n",
    "plt.show()"
   ],
   "metadata": {
    "collapsed": false,
    "ExecuteTime": {
     "end_time": "2024-01-22T10:26:17.953669Z",
     "start_time": "2024-01-22T10:26:17.806217Z"
    }
   },
   "id": "b6f49ce53ddf2923"
  },
  {
   "cell_type": "code",
   "execution_count": 40,
   "outputs": [],
   "source": [],
   "metadata": {
    "collapsed": false,
    "ExecuteTime": {
     "end_time": "2024-01-22T10:14:19.343739Z",
     "start_time": "2024-01-22T10:14:19.338442Z"
    }
   },
   "id": "e541c79dd5612161"
  }
 ],
 "metadata": {
  "kernelspec": {
   "display_name": "Python 3",
   "language": "python",
   "name": "python3"
  },
  "language_info": {
   "codemirror_mode": {
    "name": "ipython",
    "version": 2
   },
   "file_extension": ".py",
   "mimetype": "text/x-python",
   "name": "python",
   "nbconvert_exporter": "python",
   "pygments_lexer": "ipython2",
   "version": "2.7.6"
  }
 },
 "nbformat": 4,
 "nbformat_minor": 5
}
