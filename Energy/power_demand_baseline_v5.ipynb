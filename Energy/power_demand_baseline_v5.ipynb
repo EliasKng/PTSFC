{
 "cells": [
  {
   "cell_type": "code",
   "execution_count": 1,
   "id": "6bfd3ae6-0e5e-4f78-9e9f-e2cc688bdee2",
   "metadata": {
    "ExecuteTime": {
     "end_time": "2023-11-10T15:48:38.948476Z",
     "start_time": "2023-11-10T15:48:38.946391Z"
    }
   },
   "outputs": [],
   "source": [
    "import pandas as pd\n",
    "import numpy as np\n",
    "import matplotlib.pyplot as plt\n",
    "import seaborn as sns"
   ]
  },
  {
   "cell_type": "code",
   "execution_count": 2,
   "id": "dff0f0d8-9316-4510-8e60-b12a0e9ac253",
   "metadata": {
    "ExecuteTime": {
     "end_time": "2023-11-10T15:48:40.027898Z",
     "start_time": "2023-11-10T15:48:39.942973Z"
    }
   },
   "outputs": [
    {
     "name": "stderr",
     "output_type": "stream",
     "text": [
      "/Users/elias/Desktop/PTSFC/venv/lib/python3.9/site-packages/urllib3/__init__.py:34: NotOpenSSLWarning: urllib3 v2.0 only supports OpenSSL 1.1.1+, currently the 'ssl' module is compiled with 'LibreSSL 2.8.3'. See: https://github.com/urllib3/urllib3/issues/3020\n",
      "  warnings.warn(\n"
     ]
    }
   ],
   "source": [
    "import requests\n",
    "from datetime import datetime\n",
    "from tqdm import tqdm"
   ]
  },
  {
   "cell_type": "code",
   "execution_count": 3,
   "id": "6dd68c07-25ac-404f-8cb5-dd7884d9acd5",
   "metadata": {
    "ExecuteTime": {
     "end_time": "2023-11-10T15:48:42.358270Z",
     "start_time": "2023-11-10T15:48:42.354683Z"
    }
   },
   "outputs": [],
   "source": [
    "def get_energy_data():\n",
    "\n",
    "    # get all available time stamps\n",
    "    stampsurl = \"https://www.smard.de/app/chart_data/410/DE/index_quarterhour.json\"\n",
    "    response = requests.get(stampsurl)\n",
    "    #ignore first 4 years (don't need those in the baseline and speeds the code up a bit)\n",
    "    timestamps = list(response.json()[\"timestamps\"])[4*52:]\n",
    "\n",
    " \n",
    "    col_names = ['date_time','Netzlast_Gesamt']\n",
    "    energydata = pd.DataFrame(columns=col_names)\n",
    "    \n",
    "    # loop over all available timestamps\n",
    "    for stamp in tqdm(timestamps):\n",
    "\n",
    "        dataurl = \"https://www.smard.de/app/chart_data/410/DE/410_DE_quarterhour_\" + str(stamp) + \".json\"\n",
    "        response = requests.get(dataurl)\n",
    "        rawdata = response.json()[\"series\"]\n",
    "\n",
    "        for i in range(len(rawdata)):\n",
    "\n",
    "            rawdata[i][0] = datetime.fromtimestamp(int(str(rawdata[i][0])[:10])).strftime(\"%Y-%m-%d %H:%M:%S\")\n",
    "\n",
    "        energydata = pd.concat([energydata, pd.DataFrame(rawdata, columns=col_names)])\n",
    "\n",
    "    energydata = energydata.dropna()\n",
    "    energydata[\"date_time\"] = pd.to_datetime(energydata.date_time)\n",
    "    #set date_time as index\n",
    "    energydata.set_index(\"date_time\", inplace=True)\n",
    "    #resample\n",
    "    energydata = energydata.resample(\"1h\", label = \"left\").sum()\n",
    "\n",
    "    return energydata"
   ]
  },
  {
   "cell_type": "code",
   "execution_count": 4,
   "id": "8f77a2e8-851a-4969-8b54-a1d525137e79",
   "metadata": {
    "ExecuteTime": {
     "end_time": "2023-11-10T15:49:41.703534Z",
     "start_time": "2023-11-10T15:48:45.930856Z"
    }
   },
   "outputs": [
    {
     "name": "stderr",
     "output_type": "stream",
     "text": [
      "  0%|          | 0/255 [00:00<?, ?it/s]/var/folders/c7/nx3f8qlj38ld0jj0l_0nyp2h0000gn/T/ipykernel_4002/2942256061.py:24: FutureWarning: The behavior of DataFrame concatenation with empty or all-NA entries is deprecated. In a future version, this will no longer exclude empty or all-NA columns when determining the result dtypes. To retain the old behavior, exclude the relevant entries before the concat operation.\n",
      "  energydata = pd.concat([energydata, pd.DataFrame(rawdata, columns=col_names)])\n",
      "100%|██████████| 255/255 [00:55<00:00,  4.60it/s]\n"
     ]
    }
   ],
   "source": [
    "df = get_energy_data()"
   ]
  },
  {
   "cell_type": "code",
   "execution_count": 12,
   "id": "6da4b0b2-5c5d-47a3-be0e-03115f29f19d",
   "metadata": {
    "ExecuteTime": {
     "end_time": "2023-11-10T15:51:33.289910Z",
     "start_time": "2023-11-10T15:51:33.282985Z"
    }
   },
   "outputs": [
    {
     "data": {
      "text/plain": "                       gesamt\ndate_time                    \n2018-12-24 00:00:00  42.02925\n2018-12-24 01:00:00  39.61025\n2018-12-24 02:00:00  39.13875\n2018-12-24 03:00:00  39.42100\n2018-12-24 04:00:00  40.74775",
      "text/html": "<div>\n<style scoped>\n    .dataframe tbody tr th:only-of-type {\n        vertical-align: middle;\n    }\n\n    .dataframe tbody tr th {\n        vertical-align: top;\n    }\n\n    .dataframe thead th {\n        text-align: right;\n    }\n</style>\n<table border=\"1\" class=\"dataframe\">\n  <thead>\n    <tr style=\"text-align: right;\">\n      <th></th>\n      <th>gesamt</th>\n    </tr>\n    <tr>\n      <th>date_time</th>\n      <th></th>\n    </tr>\n  </thead>\n  <tbody>\n    <tr>\n      <th>2018-12-24 00:00:00</th>\n      <td>42.02925</td>\n    </tr>\n    <tr>\n      <th>2018-12-24 01:00:00</th>\n      <td>39.61025</td>\n    </tr>\n    <tr>\n      <th>2018-12-24 02:00:00</th>\n      <td>39.13875</td>\n    </tr>\n    <tr>\n      <th>2018-12-24 03:00:00</th>\n      <td>39.42100</td>\n    </tr>\n    <tr>\n      <th>2018-12-24 04:00:00</th>\n      <td>40.74775</td>\n    </tr>\n  </tbody>\n</table>\n</div>"
     },
     "execution_count": 12,
     "metadata": {},
     "output_type": "execute_result"
    }
   ],
   "source": [
    "df.head()"
   ]
  },
  {
   "cell_type": "markdown",
   "id": "2d12b8fc-a35a-411f-b87a-72f764275690",
   "metadata": {},
   "source": [
    "Rename column for convenience"
   ]
  },
  {
   "cell_type": "code",
   "execution_count": 9,
   "id": "da3ff9bc-063a-42ae-895c-1a91a2fcde28",
   "metadata": {
    "ExecuteTime": {
     "end_time": "2023-11-10T15:51:09.516699Z",
     "start_time": "2023-11-10T15:51:09.511735Z"
    }
   },
   "outputs": [],
   "source": [
    "df = df.rename(columns={\"Netzlast_Gesamt\": \"gesamt\"})"
   ]
  },
  {
   "cell_type": "markdown",
   "id": "6f06f031-1a45-4b03-862f-9cbdae802220",
   "metadata": {},
   "source": [
    "Rescale Netzlast so it fits requirements"
   ]
  },
  {
   "cell_type": "code",
   "execution_count": 11,
   "id": "728f7dd1-9556-4974-a8bc-51e701372ad0",
   "metadata": {
    "ExecuteTime": {
     "end_time": "2023-11-10T15:51:23.401736Z",
     "start_time": "2023-11-10T15:51:23.386492Z"
    }
   },
   "outputs": [],
   "source": [
    "df['gesamt'] = df['gesamt'] / 1000"
   ]
  },
  {
   "cell_type": "markdown",
   "id": "0f31220b-b84d-44b1-8201-29473e1c83ac",
   "metadata": {},
   "source": [
    "Check dtypes and if columns contain and missing values"
   ]
  },
  {
   "cell_type": "code",
   "execution_count": 13,
   "id": "1d362a66-6898-454f-a540-3f5773d85974",
   "metadata": {
    "ExecuteTime": {
     "end_time": "2023-11-10T15:51:37.615740Z",
     "start_time": "2023-11-10T15:51:37.607207Z"
    }
   },
   "outputs": [
    {
     "data": {
      "text/plain": "gesamt    float64\ndtype: object"
     },
     "execution_count": 13,
     "metadata": {},
     "output_type": "execute_result"
    }
   ],
   "source": [
    "df.dtypes"
   ]
  },
  {
   "cell_type": "code",
   "execution_count": 14,
   "id": "c293fdd7-b8b5-45ec-9319-c514bc25fce4",
   "metadata": {
    "ExecuteTime": {
     "end_time": "2023-11-10T15:51:46.245106Z",
     "start_time": "2023-11-10T15:51:46.240509Z"
    }
   },
   "outputs": [
    {
     "data": {
      "text/plain": "gesamt    False\ndtype: bool"
     },
     "execution_count": 14,
     "metadata": {},
     "output_type": "execute_result"
    }
   ],
   "source": [
    "df.isna().any()"
   ]
  },
  {
   "cell_type": "markdown",
   "id": "791b084f-f7ec-4a4a-9947-f292dfcddf4c",
   "metadata": {},
   "source": [
    "Define weekday column"
   ]
  },
  {
   "cell_type": "code",
   "execution_count": 15,
   "id": "a8b96cb2-ec82-433d-9c54-040d0499ca57",
   "metadata": {
    "ExecuteTime": {
     "end_time": "2023-11-10T15:52:02.074953Z",
     "start_time": "2023-11-10T15:52:02.068849Z"
    }
   },
   "outputs": [],
   "source": [
    "df[\"weekday\"] = df.index.weekday #Monday=0, Sunday=6\n",
    "#df[\"time\"] = df.index.strftime(\"%H:%M\")"
   ]
  },
  {
   "cell_type": "markdown",
   "id": "e2cf1b27-c033-48a9-8758-ca05bfe91ed8",
   "metadata": {},
   "source": [
    "Lead times are"
   ]
  },
  {
   "cell_type": "code",
   "execution_count": 16,
   "id": "ffc6169f-d45e-42b1-a0c0-a6e30c8cbec6",
   "metadata": {
    "ExecuteTime": {
     "end_time": "2023-11-10T15:52:21.930362Z",
     "start_time": "2023-11-10T15:52:21.924681Z"
    }
   },
   "outputs": [
    {
     "data": {
      "text/plain": "[36, 40, 44, 60, 64, 68]"
     },
     "execution_count": 16,
     "metadata": {},
     "output_type": "execute_result"
    }
   ],
   "source": [
    "horizons_def = [36, 40, 44, 60, 64, 68]#[24 + 12*i for i in range(5)]\n",
    "horizons_def"
   ]
  },
  {
   "cell_type": "markdown",
   "id": "f1cf8917-68b4-4a03-b196-83915cabcb64",
   "metadata": {},
   "source": [
    "Adapt horzions so they actually fit"
   ]
  },
  {
   "cell_type": "code",
   "execution_count": 17,
   "id": "ee0221c6-eb42-43de-8ec0-4aa2fd1519bc",
   "metadata": {
    "ExecuteTime": {
     "end_time": "2023-11-10T15:52:26.608856Z",
     "start_time": "2023-11-10T15:52:26.605630Z"
    }
   },
   "outputs": [
    {
     "data": {
      "text/plain": "[37, 41, 45, 61, 65, 69]"
     },
     "execution_count": 17,
     "metadata": {},
     "output_type": "execute_result"
    }
   ],
   "source": [
    "horizons = [h+1 for h in horizons_def]\n",
    "horizons"
   ]
  },
  {
   "cell_type": "code",
   "execution_count": 18,
   "id": "8a4b5b1f-f4a7-45fd-973d-a691a601b2cb",
   "metadata": {
    "ExecuteTime": {
     "end_time": "2023-11-10T15:52:39.971088Z",
     "start_time": "2023-11-10T15:52:39.962330Z"
    }
   },
   "outputs": [],
   "source": [
    "def get_date_from_horizon(last_ts, horizon):\n",
    "    return last_ts + pd.DateOffset(hours=horizon)"
   ]
  },
  {
   "cell_type": "code",
   "execution_count": 40,
   "id": "564d7433-a811-40e5-a9ea-2e837b2b2a02",
   "metadata": {
    "ExecuteTime": {
     "end_time": "2023-11-10T16:11:03.386780Z",
     "start_time": "2023-11-10T16:11:03.381876Z"
    }
   },
   "outputs": [],
   "source": [
    "LAST_IDX = -39\n",
    "LAST_DATE = df.iloc[LAST_IDX].name"
   ]
  },
  {
   "cell_type": "markdown",
   "id": "51214044-60af-4d25-a508-03c0a16787bc",
   "metadata": {},
   "source": [
    "Get time and date that correspond to the lead times (starting at the last observation in our data which should be the respective thursday 0:00)  \n",
    "*Attention*: if the last timestamp in the data is not thursday 0:00, you have to adjust your lead times accordingly"
   ]
  },
  {
   "cell_type": "code",
   "execution_count": 41,
   "id": "4e0da017-d3b4-4cde-b373-63213b42ebc0",
   "metadata": {
    "ExecuteTime": {
     "end_time": "2023-11-10T16:11:04.255377Z",
     "start_time": "2023-11-10T16:11:04.248503Z"
    }
   },
   "outputs": [
    {
     "data": {
      "text/plain": "[Timestamp('2023-11-10 12:00:00'),\n Timestamp('2023-11-10 16:00:00'),\n Timestamp('2023-11-10 20:00:00'),\n Timestamp('2023-11-11 12:00:00'),\n Timestamp('2023-11-11 16:00:00'),\n Timestamp('2023-11-11 20:00:00')]"
     },
     "execution_count": 41,
     "metadata": {},
     "output_type": "execute_result"
    }
   ],
   "source": [
    "horizon_date = [get_date_from_horizon(LAST_DATE, h) for h in horizons]\n",
    "horizon_date"
   ]
  },
  {
   "cell_type": "markdown",
   "id": "1dcf62b9-a0ba-4582-9f83-ee24aadb0223",
   "metadata": {},
   "source": [
    "quantile levels"
   ]
  },
  {
   "cell_type": "code",
   "execution_count": 42,
   "id": "bf3ae619-5bdc-4c66-8137-4daa880ce9c7",
   "metadata": {
    "ExecuteTime": {
     "end_time": "2023-11-10T16:11:50.856378Z",
     "start_time": "2023-11-10T16:11:50.850272Z"
    }
   },
   "outputs": [],
   "source": [
    "tau = [.025, .25, .5, .75, .975]"
   ]
  },
  {
   "cell_type": "code",
   "execution_count": 43,
   "id": "8e5ef128-ba07-497d-ab2b-1c7599e86bd0",
   "metadata": {
    "ExecuteTime": {
     "end_time": "2023-11-10T16:11:53.877796Z",
     "start_time": "2023-11-10T16:11:53.872134Z"
    }
   },
   "outputs": [],
   "source": [
    "#rows correspond to horizon, columns to quantile level\n",
    "pred_baseline = np.zeros((6,5))"
   ]
  },
  {
   "cell_type": "code",
   "execution_count": 47,
   "id": "6033e162-aecf-4e8c-a143-28446cffab0f",
   "metadata": {
    "ExecuteTime": {
     "end_time": "2023-11-10T16:17:35.669816Z",
     "start_time": "2023-11-10T16:17:35.622408Z"
    }
   },
   "outputs": [
    {
     "name": "stdout",
     "output_type": "stream",
     "text": [
      "date_time\n",
      "2018-12-24 00:00:00    False\n",
      "2018-12-24 01:00:00    False\n",
      "2018-12-24 02:00:00    False\n",
      "2018-12-24 03:00:00    False\n",
      "2018-12-24 04:00:00    False\n",
      "                       ...  \n",
      "2023-11-08 18:00:00    False\n",
      "2023-11-08 19:00:00    False\n",
      "2023-11-08 20:00:00    False\n",
      "2023-11-08 21:00:00    False\n",
      "2023-11-08 22:00:00    False\n",
      "Freq: H, Name: weekday, Length: 42743, dtype: bool\n",
      "date_time\n",
      "2018-12-24 00:00:00    False\n",
      "2018-12-24 01:00:00    False\n",
      "2018-12-24 02:00:00    False\n",
      "2018-12-24 03:00:00    False\n",
      "2018-12-24 04:00:00    False\n",
      "                       ...  \n",
      "2023-11-08 18:00:00    False\n",
      "2023-11-08 19:00:00    False\n",
      "2023-11-08 20:00:00    False\n",
      "2023-11-08 21:00:00    False\n",
      "2023-11-08 22:00:00    False\n",
      "Freq: H, Name: weekday, Length: 42743, dtype: bool\n",
      "date_time\n",
      "2018-12-24 00:00:00    False\n",
      "2018-12-24 01:00:00    False\n",
      "2018-12-24 02:00:00    False\n",
      "2018-12-24 03:00:00    False\n",
      "2018-12-24 04:00:00    False\n",
      "                       ...  \n",
      "2023-11-08 18:00:00    False\n",
      "2023-11-08 19:00:00    False\n",
      "2023-11-08 20:00:00    False\n",
      "2023-11-08 21:00:00    False\n",
      "2023-11-08 22:00:00    False\n",
      "Freq: H, Name: weekday, Length: 42743, dtype: bool\n",
      "date_time\n",
      "2018-12-24 00:00:00    False\n",
      "2018-12-24 01:00:00    False\n",
      "2018-12-24 02:00:00    False\n",
      "2018-12-24 03:00:00    False\n",
      "2018-12-24 04:00:00    False\n",
      "                       ...  \n",
      "2023-11-08 18:00:00    False\n",
      "2023-11-08 19:00:00    False\n",
      "2023-11-08 20:00:00    False\n",
      "2023-11-08 21:00:00    False\n",
      "2023-11-08 22:00:00    False\n",
      "Freq: H, Name: weekday, Length: 42743, dtype: bool\n",
      "date_time\n",
      "2018-12-24 00:00:00    False\n",
      "2018-12-24 01:00:00    False\n",
      "2018-12-24 02:00:00    False\n",
      "2018-12-24 03:00:00    False\n",
      "2018-12-24 04:00:00    False\n",
      "                       ...  \n",
      "2023-11-08 18:00:00    False\n",
      "2023-11-08 19:00:00    False\n",
      "2023-11-08 20:00:00    False\n",
      "2023-11-08 21:00:00    False\n",
      "2023-11-08 22:00:00    False\n",
      "Freq: H, Name: weekday, Length: 42743, dtype: bool\n",
      "date_time\n",
      "2018-12-24 00:00:00    False\n",
      "2018-12-24 01:00:00    False\n",
      "2018-12-24 02:00:00    False\n",
      "2018-12-24 03:00:00    False\n",
      "2018-12-24 04:00:00    False\n",
      "                       ...  \n",
      "2023-11-08 18:00:00    False\n",
      "2023-11-08 19:00:00    False\n",
      "2023-11-08 20:00:00    False\n",
      "2023-11-08 21:00:00    False\n",
      "2023-11-08 22:00:00    False\n",
      "Freq: H, Name: weekday, Length: 42743, dtype: bool\n"
     ]
    }
   ],
   "source": [
    "last_t = 100\n",
    "for i,d in enumerate(horizon_date):\n",
    "    \n",
    "    weekday = d.weekday()\n",
    "    hour = d.hour\n",
    "    \n",
    "    df_tmp = df.iloc[:LAST_IDX]\n",
    "    \n",
    "    cond = (df_tmp.weekday == weekday) & (df_tmp.index.time == d.time())\n",
    "    \n",
    "    pred_baseline[i,:] = np.quantile(df_tmp[cond].iloc[-last_t:][\"gesamt\"], q=tau)\n",
    "    "
   ]
  },
  {
   "cell_type": "code",
   "execution_count": 24,
   "id": "19935ed4-040c-4169-a28c-437a2effeede",
   "metadata": {
    "ExecuteTime": {
     "end_time": "2023-11-10T15:53:29.675573Z",
     "start_time": "2023-11-10T15:53:29.669296Z"
    }
   },
   "outputs": [
    {
     "data": {
      "text/plain": "array([[32.96196875, 35.6086875 , 37.6355    , 42.133625  , 48.7684625 ],\n       [33.91830625, 35.7955625 , 37.83275   , 41.897875  , 47.5838375 ],\n       [42.338475  , 45.7920625 , 48.115125  , 52.212     , 58.9526625 ],\n       [35.0606    , 37.48425   , 39.875875  , 43.735875  , 50.6902375 ],\n       [36.48033125, 49.334625  , 53.064125  , 57.11775   , 64.10020625],\n       [46.431225  , 59.9011875 , 63.500375  , 67.05875   , 74.25583125]])"
     },
     "execution_count": 24,
     "metadata": {},
     "output_type": "execute_result"
    }
   ],
   "source": [
    "pred_baseline"
   ]
  },
  {
   "cell_type": "markdown",
   "id": "420cfb8d-f64b-46b1-88e3-8d5159eb88bc",
   "metadata": {},
   "source": [
    "Visually check if quantiles make sense"
   ]
  },
  {
   "cell_type": "code",
   "execution_count": 25,
   "id": "daf9b394-79d2-48dd-914b-8fc9a9f1a5a1",
   "metadata": {
    "ExecuteTime": {
     "end_time": "2023-11-10T15:53:41.037741Z",
     "start_time": "2023-11-10T15:53:40.750950Z"
    }
   },
   "outputs": [
    {
     "data": {
      "text/plain": "<Figure size 640x480 with 1 Axes>",
      "image/png": "[encoded data removed]"
     },
     "metadata": {},
     "output_type": "display_data"
    }
   ],
   "source": [
    "x = horizons\n",
    "_ = plt.plot(x,pred_baseline, ls=\"\", marker=\"o\", c=\"black\")\n",
    "_ = plt.xticks(x, x)\n",
    "_ = plt.plot((x,x),(pred_baseline[:,0], pred_baseline[:,-1]),c='black')"
   ]
  },
  {
   "cell_type": "code",
   "execution_count": 26,
   "id": "0ee8c6fe-43c9-4a71-b8f0-300a382f59c6",
   "metadata": {
    "ExecuteTime": {
     "end_time": "2023-11-10T15:54:02.701163Z",
     "start_time": "2023-11-10T15:54:02.694395Z"
    }
   },
   "outputs": [],
   "source": [
    "from datetime import datetime, date, timedelta\n",
    "date_str = datetime.today().strftime('%Y%m%d')"
   ]
  },
  {
   "cell_type": "code",
   "execution_count": 29,
   "id": "6024fd0b-f3d5-40f4-81cd-5d2d6f5d4237",
   "metadata": {
    "ExecuteTime": {
     "end_time": "2023-11-10T15:54:26.132725Z",
     "start_time": "2023-11-10T15:54:26.126513Z"
    }
   },
   "outputs": [
    {
     "data": {
      "text/plain": "'2023-11-10'"
     },
     "execution_count": 29,
     "metadata": {},
     "output_type": "execute_result"
    }
   ],
   "source": [
    "date_str = date.today() #- timedelta(days=1)\n",
    "date_str = date_str.strftime('%Y-%m-%d')\n",
    "date_str"
   ]
  },
  {
   "cell_type": "code",
   "execution_count": 30,
   "id": "ff1ff112-6973-4e8c-be11-5705434c3416",
   "metadata": {
    "ExecuteTime": {
     "end_time": "2023-11-10T15:54:26.920593Z",
     "start_time": "2023-11-10T15:54:26.916301Z"
    }
   },
   "outputs": [
    {
     "data": {
      "text/plain": "  forecast_date  target  horizon     q0.025      q0.25       q0.5      q0.75  \\\n0    2023-11-10  energy  36 hour  32.961969  35.608688  37.635500  42.133625   \n1    2023-11-10  energy  40 hour  33.918306  35.795563  37.832750  41.897875   \n2    2023-11-10  energy  44 hour  42.338475  45.792063  48.115125  52.212000   \n3    2023-11-10  energy  60 hour  35.060600  37.484250  39.875875  43.735875   \n4    2023-11-10  energy  64 hour  36.480331  49.334625  53.064125  57.117750   \n5    2023-11-10  energy  68 hour  46.431225  59.901187  63.500375  67.058750   \n\n      q0.975  \n0  48.768462  \n1  47.583838  \n2  58.952662  \n3  50.690238  \n4  64.100206  \n5  74.255831  ",
      "text/html": "<div>\n<style scoped>\n    .dataframe tbody tr th:only-of-type {\n        vertical-align: middle;\n    }\n\n    .dataframe tbody tr th {\n        vertical-align: top;\n    }\n\n    .dataframe thead th {\n        text-align: right;\n    }\n</style>\n<table border=\"1\" class=\"dataframe\">\n  <thead>\n    <tr style=\"text-align: right;\">\n      <th></th>\n      <th>forecast_date</th>\n      <th>target</th>\n      <th>horizon</th>\n      <th>q0.025</th>\n      <th>q0.25</th>\n      <th>q0.5</th>\n      <th>q0.75</th>\n      <th>q0.975</th>\n    </tr>\n  </thead>\n  <tbody>\n    <tr>\n      <th>0</th>\n      <td>2023-11-10</td>\n      <td>energy</td>\n      <td>36 hour</td>\n      <td>32.961969</td>\n      <td>35.608688</td>\n      <td>37.635500</td>\n      <td>42.133625</td>\n      <td>48.768462</td>\n    </tr>\n    <tr>\n      <th>1</th>\n      <td>2023-11-10</td>\n      <td>energy</td>\n      <td>40 hour</td>\n      <td>33.918306</td>\n      <td>35.795563</td>\n      <td>37.832750</td>\n      <td>41.897875</td>\n      <td>47.583838</td>\n    </tr>\n    <tr>\n      <th>2</th>\n      <td>2023-11-10</td>\n      <td>energy</td>\n      <td>44 hour</td>\n      <td>42.338475</td>\n      <td>45.792063</td>\n      <td>48.115125</td>\n      <td>52.212000</td>\n      <td>58.952662</td>\n    </tr>\n    <tr>\n      <th>3</th>\n      <td>2023-11-10</td>\n      <td>energy</td>\n      <td>60 hour</td>\n      <td>35.060600</td>\n      <td>37.484250</td>\n      <td>39.875875</td>\n      <td>43.735875</td>\n      <td>50.690238</td>\n    </tr>\n    <tr>\n      <th>4</th>\n      <td>2023-11-10</td>\n      <td>energy</td>\n      <td>64 hour</td>\n      <td>36.480331</td>\n      <td>49.334625</td>\n      <td>53.064125</td>\n      <td>57.117750</td>\n      <td>64.100206</td>\n    </tr>\n    <tr>\n      <th>5</th>\n      <td>2023-11-10</td>\n      <td>energy</td>\n      <td>68 hour</td>\n      <td>46.431225</td>\n      <td>59.901187</td>\n      <td>63.500375</td>\n      <td>67.058750</td>\n      <td>74.255831</td>\n    </tr>\n  </tbody>\n</table>\n</div>"
     },
     "execution_count": 30,
     "metadata": {},
     "output_type": "execute_result"
    }
   ],
   "source": [
    "df_sub = pd.DataFrame({\n",
    "    \"forecast_date\": date_str,\n",
    "    \"target\": \"energy\",\n",
    "    \"horizon\": [str(h) + \" hour\" for h in horizons_def],\n",
    "    \"q0.025\": pred_baseline[:,0],\n",
    "    \"q0.25\": pred_baseline[:,1],\n",
    "    \"q0.5\": pred_baseline[:,2],\n",
    "    \"q0.75\": pred_baseline[:,3],\n",
    "    \"q0.975\": pred_baseline[:,4]})\n",
    "df_sub"
   ]
  },
  {
   "cell_type": "code",
   "execution_count": 29,
   "id": "94f92f2c-859a-4094-8bb4-3249c4de4f2b",
   "metadata": {},
   "outputs": [],
   "source": [
    "#need to change this\n",
    "PATH = \"/save/to/path\"\n",
    "\n",
    "\n",
    "df_sub.to_csv(PATH+date_str+\"_power_benchmark.csv\", index=False)"
   ]
  },
  {
   "cell_type": "code",
   "execution_count": null,
   "id": "ec87e79b-7c52-4b83-8848-154e90df9323",
   "metadata": {},
   "outputs": [],
   "source": []
  }
 ],
 "metadata": {
  "kernelspec": {
   "display_name": "Python 3 (ipykernel)",
   "language": "python",
   "name": "python3"
  },
  "language_info": {
   "codemirror_mode": {
    "name": "ipython",
    "version": 3
   },
   "file_extension": ".py",
   "mimetype": "text/x-python",
   "name": "python",
   "nbconvert_exporter": "python",
   "pygments_lexer": "ipython3",
   "version": "3.7.13"
  }
 },
 "nbformat": 4,
 "nbformat_minor": 5
}
