{
 "cells": [
  {
   "cell_type": "markdown",
   "source": [
    "# Probability integral transform (PIT) Histogram"
   ],
   "metadata": {
    "collapsed": false
   },
   "id": "1b3dea707758b7aa"
  },
  {
   "cell_type": "markdown",
   "source": [
    "Get observation & forecast data"
   ],
   "metadata": {
    "collapsed": false
   },
   "id": "6f4b377c766a989e"
  },
  {
   "cell_type": "code",
   "execution_count": null,
   "outputs": [],
   "source": [
    "import pandas as pd\n",
    "import pickle\n",
    "import matplotlib.pyplot as plt\n",
    "import seaborn as sns\n",
    "from Energy.HelpFunctions.get_energy_data import get_energy_data, prepare_data\n",
    "from HelpFunctions.date_and_time import most_recent_thursday, split_time\n",
    "from Energy.Models.baseline import baseline\n",
    "from HelpFunctions.calc_score import evaluate_horizon\n",
    "from HelpFunctions.mix_models import mix_models\n",
    "from Energy.Models.Model1 import model1\n",
    "from Energy.Models.Model2 import model2\n",
    "from Energy.Models.Model4_population import model4_population\n",
    "from Energy.Models.Model4 import model4\n",
    "from Energy.Models.Model3 import model3\n",
    "from Energy.Models.Model5 import model5\n",
    "from Energy.Models.Model4_holidays_2 import model4_holidays_2\n",
    "from Energy.Models.Model4_sunhours import model4_sunhours\n",
    "# import importlib\n",
    "# importlib.reload(Energy.Models)"
   ],
   "metadata": {
    "collapsed": false
   },
   "id": "995696e344fffc3b"
  },
  {
   "cell_type": "code",
   "execution_count": null,
   "outputs": [],
   "source": [
    "# from Energy.HelpFunctions.get_energy_data import fetch_energy_data\n",
    "# fetch_energy_data()"
   ],
   "metadata": {
    "collapsed": false
   },
   "id": "a5ff2218440a781b"
  },
  {
   "cell_type": "code",
   "execution_count": null,
   "outputs": [],
   "source": [
    "df = get_energy_data()\n",
    "df = prepare_data(df)"
   ],
   "metadata": {
    "collapsed": false
   },
   "id": "6054f3c808c1be91"
  },
  {
   "cell_type": "code",
   "execution_count": null,
   "outputs": [],
   "source": [
    "start_date_excl = most_recent_thursday(df)\n",
    "df_cval = df.loc[df.index < start_date_excl]"
   ],
   "metadata": {
    "collapsed": false
   },
   "id": "3d3b3b79ed4b54bd"
  },
  {
   "cell_type": "markdown",
   "source": [
    "Use cross validate functions to get the data. Cannot import fun"
   ],
   "metadata": {
    "collapsed": false
   },
   "id": "88c82474d3300e0b"
  },
  {
   "cell_type": "code",
   "execution_count": null,
   "outputs": [],
   "source": [
    "from HelpFunctions.mix_models import mix_models_per_horizon\n",
    "\n",
    "\n",
    "def evaluate_models(models, df, last_x, years =False, months=False, weeks=False):\n",
    "    # Check that exactly one of the boolean parameters is True\n",
    "    if sum([years, months, weeks]) != 1:\n",
    "        raise ValueError(\"Exactly one of the boolean parameters (years, months, weeks) must be True.\")\n",
    "    \n",
    "    years = int(years)\n",
    "    months = int(months)\n",
    "    weeks = int(weeks)\n",
    "        \n",
    "    for m in models:\n",
    "        print(f'*********** Start the evaluation of Model {m[\"name\"]} ***********')\n",
    "        m['evaluation'] = evaluate_model(m, df, last_x, years, months, weeks)\n",
    "        \n",
    "def evaluate_model(model, df, last_x, years, months, weeks):\n",
    "    df_before = df\n",
    "    evaluation = pd.DataFrame()\n",
    "    \n",
    "    for w in range(last_x):\n",
    "        print(f'Iteration {w+1} of {last_x}')\n",
    "        df_before, df_after = split_time(df_before, num_years=years, num_months=months, num_weeks=weeks)        \n",
    "        \n",
    "        pred = None     \n",
    "        # Is mixed model?\n",
    "        if callable(model['function']):\n",
    "            pred = model['function'](df_before)\n",
    "        else:\n",
    "            pred = mix_models(model['function'][0], model['function'][1], df_before, target='DAX')\n",
    "               \n",
    "        \n",
    "        obs = pd.DataFrame({'gesamt': df.loc[pred['forecast_date']][\"gesamt\"]})\n",
    "        pred = pred.set_index('forecast_date')\n",
    "        merged_df = pd.merge(pred, obs, left_index=True, right_index=True) \n",
    "    \n",
    "    \n",
    "         # Add scores to the merged_df\n",
    "        for index, row in merged_df.iterrows():\n",
    "            quantile_preds = row[['q0.025','q0.25','q0.5','q0.75','q0.975']]\n",
    "            observation = row['gesamt']\n",
    "            score = evaluate_horizon(quantile_preds, observation)\n",
    "            merged_df.at[index, 'score'] = score\n",
    "        # print(merged_df[['q0.025','q0.25','q0.5','q0.75','q0.975']])\n",
    "        evaluation = pd.concat([evaluation, merged_df])\n",
    "    return evaluation"
   ],
   "metadata": {
    "collapsed": false
   },
   "id": "2cede62502f8c773"
  },
  {
   "cell_type": "code",
   "execution_count": null,
   "outputs": [],
   "source": [
    "from Energy.Models import mstl\n",
    "models = [\n",
    "    {\n",
    "        'name': 'baseline',\n",
    "        'function': baseline\n",
    "     },\n",
    "    {\n",
    "        'name': 'quantile regression v1',\n",
    "        'function': model1\n",
    "     },\n",
    "    {\n",
    "        'name': 'quantile regression v5',\n",
    "        'function': model5\n",
    "     },\n",
    "    {\n",
    "        'name': 'mstl',\n",
    "        'function': mstl.mstl\n",
    "     },\n",
    "    {\n",
    "        'name': 'energy ensemble',\n",
    "        'function': [[mstl.mstl, model5],[1,1]]\n",
    "     },\n",
    "]\n",
    "evaluate_models(models, df_cval, last_x=100, weeks=True)"
   ],
   "metadata": {
    "collapsed": false
   },
   "id": "8a08748131d12c85"
  },
  {
   "cell_type": "code",
   "execution_count": null,
   "outputs": [],
   "source": [
    "# with open('./Model evaluations/big_evaluation.pkl', 'rb') as f:\n",
    "#     models = pickle.load(f)"
   ],
   "metadata": {
    "collapsed": false
   },
   "id": "fc60bacf40acc3d5"
  },
  {
   "cell_type": "code",
   "execution_count": 37,
   "outputs": [],
   "source": [
    "import numpy as np\n",
    "\n",
    "\n",
    "model_index = 0\n",
    "results = []\n",
    "\n",
    "for h in ['36 hour', '40 hour', '44 hour', '60 hour', '64 hour', '68 hour']:\n",
    "    results.append(models[model_index]['evaluation'][models[model_index]['evaluation']['horizon'] == h])\n",
    "\n",
    "# results36h = models[0]['evaluation'][models[0]['evaluation']['horizon'] == '36 hour']\n",
    "\n",
    "\n",
    "\n",
    "# results = models[0]['evaluation']\n",
    "\n"
   ],
   "metadata": {
    "collapsed": false,
    "ExecuteTime": {
     "end_time": "2024-03-16T11:19:37.582207Z",
     "start_time": "2024-03-16T11:19:37.569866Z"
    }
   },
   "id": "a00ca5f3b6caea37"
  },
  {
   "cell_type": "markdown",
   "source": [
    "## Create PIT Histogram"
   ],
   "metadata": {
    "collapsed": false
   },
   "id": "3b912687d7b49e4"
  },
  {
   "cell_type": "code",
   "execution_count": 38,
   "outputs": [],
   "source": [
    "import matplotlib.pyplot as plt\n",
    "import numpy as np\n",
    "import string\n",
    "import random\n",
    "import scipy.stats as stats\n",
    "\n",
    "from scipy.stats import uniform\n",
    "\n",
    "for index, r in enumerate(results):\n",
    "    obs = np.array(np.array(r['gesamt']),dtype=float)\n",
    "    forecasts = np.array(np.array(r.loc[:,'q0.025':'q0.975']),dtype=float)\n",
    "\n",
    "    # Example quantile forecasts and observations\n",
    "    quantile_forecasts = forecasts\n",
    "    observations = obs\n",
    "    \n",
    "    # Calculate PIT values\n",
    "    pit_values = np.zeros_like(quantile_forecasts)\n",
    "    \n",
    "    for i in range(quantile_forecasts.shape[1]):\n",
    "        sorted_forecasts = np.sort(quantile_forecasts[:, i])\n",
    "        ecdf_values = np.linspace(0, 1, len(sorted_forecasts))\n",
    "        pit_values[:, i] = np.interp(\n",
    "            quantile_forecasts[:, i], sorted_forecasts, ecdf_values)\n",
    "    \n",
    "    # # Create PIT histogram\n",
    "    # fig, ax = plt.subplots()\n",
    "    # ax.hist(pit_values.flatten(), bins=20, density=True,\n",
    "    #         alpha=0.75, color='blue', edgecolor='black')\n",
    "    # \n",
    "    # # Plot the uniform distribution for reference\n",
    "    # x = np.linspace(0, 1, 100)\n",
    "    # ax.plot(x, uniform.pdf(x), 'r-', lw=2, label='Uniform [0,1]')\n",
    "    # \n",
    "    # ax.set_title('Probability Integral Transform (PIT)')\n",
    "    # ax.set_xlabel('PIT Values')\n",
    "    # ax.set_ylabel('Density')\n",
    "    # ax.legend()\n",
    "    # \n",
    "    \n",
    "    # plt.savefig(f'plots/{index} {\"\".join(random.SystemRandom().choice(string.ascii_uppercase + string.digits) for _ in range(4))}.png')\n",
    "    # plt.show()"
   ],
   "metadata": {
    "collapsed": false,
    "ExecuteTime": {
     "end_time": "2024-03-16T11:19:37.944344Z",
     "start_time": "2024-03-16T11:19:37.935944Z"
    }
   },
   "id": "d1dbfe03a94d707"
  },
  {
   "cell_type": "markdown",
   "source": [
    "### Check Manually"
   ],
   "metadata": {
    "collapsed": false
   },
   "id": "469c3434a6a8c3bb"
  },
  {
   "cell_type": "code",
   "execution_count": 39,
   "outputs": [
    {
     "name": "stdout",
     "output_type": "stream",
     "text": [
      "baseline\n"
     ]
    },
    {
     "data": {
      "text/plain": "        36 hour  40 hour  44 hour  60 hour  64 hour  68 hour  All horizons\nq0.025     0.04     0.05     0.06     0.10     0.13     0.12         0.083\nq0.25      0.53     0.53     0.42     0.54     0.50     0.43         0.492\nq0.5       0.71     0.66     0.67     0.67     0.69     0.67         0.678\nq0.75      0.89     0.85     0.92     0.89     0.82     0.89         0.877\nq0.975     0.99     0.99     0.99     0.98     0.99     0.99         0.988",
      "text/html": "<div>\n<style scoped>\n    .dataframe tbody tr th:only-of-type {\n        vertical-align: middle;\n    }\n\n    .dataframe tbody tr th {\n        vertical-align: top;\n    }\n\n    .dataframe thead th {\n        text-align: right;\n    }\n</style>\n<table border=\"1\" class=\"dataframe\">\n  <thead>\n    <tr style=\"text-align: right;\">\n      <th></th>\n      <th>36 hour</th>\n      <th>40 hour</th>\n      <th>44 hour</th>\n      <th>60 hour</th>\n      <th>64 hour</th>\n      <th>68 hour</th>\n      <th>All horizons</th>\n    </tr>\n  </thead>\n  <tbody>\n    <tr>\n      <th>q0.025</th>\n      <td>0.04</td>\n      <td>0.05</td>\n      <td>0.06</td>\n      <td>0.10</td>\n      <td>0.13</td>\n      <td>0.12</td>\n      <td>0.083</td>\n    </tr>\n    <tr>\n      <th>q0.25</th>\n      <td>0.53</td>\n      <td>0.53</td>\n      <td>0.42</td>\n      <td>0.54</td>\n      <td>0.50</td>\n      <td>0.43</td>\n      <td>0.492</td>\n    </tr>\n    <tr>\n      <th>q0.5</th>\n      <td>0.71</td>\n      <td>0.66</td>\n      <td>0.67</td>\n      <td>0.67</td>\n      <td>0.69</td>\n      <td>0.67</td>\n      <td>0.678</td>\n    </tr>\n    <tr>\n      <th>q0.75</th>\n      <td>0.89</td>\n      <td>0.85</td>\n      <td>0.92</td>\n      <td>0.89</td>\n      <td>0.82</td>\n      <td>0.89</td>\n      <td>0.877</td>\n    </tr>\n    <tr>\n      <th>q0.975</th>\n      <td>0.99</td>\n      <td>0.99</td>\n      <td>0.99</td>\n      <td>0.98</td>\n      <td>0.99</td>\n      <td>0.99</td>\n      <td>0.988</td>\n    </tr>\n  </tbody>\n</table>\n</div>"
     },
     "execution_count": 39,
     "metadata": {},
     "output_type": "execute_result"
    }
   ],
   "source": [
    "array = []\n",
    "\n",
    "for q in ['q0.025', 'q0.25', 'q0.5', 'q0.75', 'q0.975']:\n",
    "    # print(f'*** {q} ***')\n",
    "    # arr = models[5]['evaluation'][q] > models[5]['evaluation']['gesamt']\n",
    "    # print(arr.mean())\n",
    "    \n",
    "    per_quantile = []\n",
    "    \n",
    "    \n",
    "    for index, r in enumerate(results):\n",
    "        # r.loc[:, f'{q}larger'] = r[q] > r['gesamt']\n",
    "        mean = (r[q] > r['gesamt']).mean()\n",
    "        # print(r[f'{q}larger'].mean())\n",
    "        per_quantile.append(round(mean,3))\n",
    "    per_quantile.append(round((models[model_index]['evaluation'][q] > models[model_index]['evaluation']['gesamt']).mean(), 3))\n",
    "    \n",
    "    array.append(per_quantile)\n",
    "\n",
    "print(models[model_index]['name'])\n",
    "pd.DataFrame(array, columns=['36 hour', '40 hour', '44 hour', '60 hour', '64 hour', '68 hour','All horizons'], index=['q0.025', 'q0.25', 'q0.5', 'q0.75', 'q0.975'])\n",
    "\n"
   ],
   "metadata": {
    "collapsed": false,
    "ExecuteTime": {
     "end_time": "2024-03-16T11:19:38.577700Z",
     "start_time": "2024-03-16T11:19:38.571379Z"
    }
   },
   "id": "9ec0051bbc03e609"
  },
  {
   "cell_type": "markdown",
   "source": [
    "# Lets only use horizon data for training and check again"
   ],
   "metadata": {
    "collapsed": false
   },
   "id": "7f4c3e1dbad3b50f"
  },
  {
   "cell_type": "code",
   "execution_count": null,
   "outputs": [],
   "source": [
    "df_cval_horizon = df.loc[df.index < start_date_excl]\n",
    "df_cval_horizon = df_cval_horizon[df_cval_horizon.index.dayofweek.isin([4,5])] # Only keep Friday & Saturday\n",
    "df_cval_horizon = df_cval_horizon[df_cval_horizon.index.hour.isin([12,16,20])]\n",
    "df_cval_horizon = df_cval_horizon.loc[df_cval_horizon.index < start_date_excl]\n"
   ],
   "metadata": {
    "collapsed": false
   },
   "id": "e80e664bcb64d23f"
  },
  {
   "cell_type": "code",
   "execution_count": null,
   "outputs": [],
   "source": [
    "df_cval_horizon"
   ],
   "metadata": {
    "collapsed": false
   },
   "id": "598558b37daf7625"
  },
  {
   "cell_type": "code",
   "execution_count": null,
   "outputs": [],
   "source": [
    "\n",
    "models = [\n",
    "    {\n",
    "        'name': 'baseline',\n",
    "        'function': baseline\n",
    "    },\n",
    "    # {\n",
    "    #     'name': 'model5',\n",
    "    #     'function': model5\n",
    "    #  }\n",
    "]\n",
    "print(df_cval_horizon)\n",
    "evaluate_models(models, df_cval_horizon, last_x=100, weeks=True)"
   ],
   "metadata": {
    "collapsed": false
   },
   "id": "8e345a5621125755"
  },
  {
   "cell_type": "code",
   "execution_count": null,
   "outputs": [],
   "source": [
    "df_cval_horizon"
   ],
   "metadata": {
    "collapsed": false
   },
   "id": "3048895a43465c0d"
  },
  {
   "cell_type": "code",
   "execution_count": null,
   "outputs": [],
   "source": [
    "models[0]"
   ],
   "metadata": {
    "collapsed": false
   },
   "id": "74cbba8cf9f666b1"
  },
  {
   "cell_type": "code",
   "execution_count": null,
   "outputs": [],
   "source": [
    "from statistics import mean\n",
    "mean([100,75,50,50,50,75,100])"
   ],
   "metadata": {
    "collapsed": false
   },
   "id": "7bfd139871f364b7"
  },
  {
   "cell_type": "code",
   "execution_count": null,
   "outputs": [],
   "source": [
    "mean([0,100,0,100,50,25,0])"
   ],
   "metadata": {
    "collapsed": false
   },
   "id": "c0f2b5ee34181b93"
  },
  {
   "cell_type": "code",
   "execution_count": null,
   "outputs": [],
   "source": [
    "(2*120000*600/9)**0.5"
   ],
   "metadata": {
    "collapsed": false
   },
   "id": "7cd1ae50054869cc"
  },
  {
   "cell_type": "code",
   "execution_count": null,
   "outputs": [],
   "source": [
    "120/4"
   ],
   "metadata": {
    "collapsed": false
   },
   "id": "50d02e1fe7bfc720"
  },
  {
   "cell_type": "code",
   "execution_count": null,
   "outputs": [],
   "source": [
    " 50*(-1) + 20/1.1 + 40/1.1**2"
   ],
   "metadata": {
    "collapsed": false
   },
   "id": "66c9b8268b50e377"
  },
  {
   "cell_type": "code",
   "execution_count": null,
   "outputs": [],
   "source": [
    " 75*(-1) + 80/1.1 + 10/1.1**2"
   ],
   "metadata": {
    "collapsed": false
   },
   "id": "bfef917f7cad92f8"
  },
  {
   "cell_type": "code",
   "execution_count": null,
   "outputs": [],
   "source": [
    " round(85*(-1) + 20/1.1 + 70/1.1**2,4)"
   ],
   "metadata": {
    "collapsed": false
   },
   "id": "cc88df8ab57c1"
  },
  {
   "cell_type": "code",
   "execution_count": null,
   "outputs": [],
   "source": [],
   "metadata": {
    "collapsed": false
   },
   "id": "fc87d98a05e330a9"
  }
 ],
 "metadata": {
  "kernelspec": {
   "display_name": "Python 3",
   "language": "python",
   "name": "python3"
  },
  "language_info": {
   "codemirror_mode": {
    "name": "ipython",
    "version": 2
   },
   "file_extension": ".py",
   "mimetype": "text/x-python",
   "name": "python",
   "nbconvert_exporter": "python",
   "pygments_lexer": "ipython2",
   "version": "2.7.6"
  }
 },
 "nbformat": 4,
 "nbformat_minor": 5
}
