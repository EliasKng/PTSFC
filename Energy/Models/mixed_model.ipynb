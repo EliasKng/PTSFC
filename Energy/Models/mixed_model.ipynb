{
 "cells": [
  {
   "cell_type": "code",
   "execution_count": 5,
   "id": "initial_id",
   "metadata": {
    "collapsed": true,
    "ExecuteTime": {
     "end_time": "2023-11-22T17:53:41.631643Z",
     "start_time": "2023-11-22T17:53:41.624078Z"
    }
   },
   "outputs": [],
   "source": [
    "import pandas as pd\n",
    "import pickle\n",
    "from Energy.HelpFunctions.get_energy_data import get_energy_data, prepare_data\n",
    "from HelpFunctions.date_and_time import most_recent_thursday, split_time\n",
    "from Energy.Models.baseline import baseline\n",
    "from HelpFunctions.calc_score import evaluate_horizon\n",
    "from Energy.Models.Model1 import model1\n",
    "from Energy.Models.Model2 import model2\n",
    "import numpy as np\n",
    "# import importlib\n",
    "# importlib.reload(Energy.Models)"
   ]
  },
  {
   "cell_type": "code",
   "execution_count": 2,
   "outputs": [],
   "source": [
    "\n",
    "df = get_energy_data()\n",
    "df = prepare_data(df)"
   ],
   "metadata": {
    "collapsed": false,
    "ExecuteTime": {
     "end_time": "2023-11-22T17:53:06.029174Z",
     "start_time": "2023-11-22T17:53:05.994618Z"
    }
   },
   "id": "4919b24060c5e7d7"
  },
  {
   "cell_type": "code",
   "execution_count": 7,
   "outputs": [
    {
     "data": {
      "text/plain": "        forecast_date     q0.025      q0.25       q0.5      q0.75     q0.975  \\\n0 2023-11-24 03:00:00  40.747496  47.861500  51.552579  54.794750  60.648517   \n1 2023-11-24 07:00:00  51.168254  63.466500  67.265266  70.584751  75.332749   \n2 2023-11-24 11:00:00  51.168254  63.466500  67.265266  70.584751  75.332749   \n3 2023-11-25 03:00:00  33.632742  37.612993  41.722813  45.212703  51.022999   \n4 2023-11-25 07:00:00  44.053500  53.217992  57.435500  61.002704  65.707232   \n5 2023-11-25 11:00:00  44.053500  53.217992  57.435500  61.002704  65.707232   \n\n   horizon  target  \n0  36 hour  energy  \n1  40 hour  energy  \n2  44 hour  energy  \n3  60 hour  energy  \n4  64 hour  energy  \n5  68 hour  energy  ",
      "text/html": "<div>\n<style scoped>\n    .dataframe tbody tr th:only-of-type {\n        vertical-align: middle;\n    }\n\n    .dataframe tbody tr th {\n        vertical-align: top;\n    }\n\n    .dataframe thead th {\n        text-align: right;\n    }\n</style>\n<table border=\"1\" class=\"dataframe\">\n  <thead>\n    <tr style=\"text-align: right;\">\n      <th></th>\n      <th>forecast_date</th>\n      <th>q0.025</th>\n      <th>q0.25</th>\n      <th>q0.5</th>\n      <th>q0.75</th>\n      <th>q0.975</th>\n      <th>horizon</th>\n      <th>target</th>\n    </tr>\n  </thead>\n  <tbody>\n    <tr>\n      <th>0</th>\n      <td>2023-11-24 03:00:00</td>\n      <td>40.747496</td>\n      <td>47.861500</td>\n      <td>51.552579</td>\n      <td>54.794750</td>\n      <td>60.648517</td>\n      <td>36 hour</td>\n      <td>energy</td>\n    </tr>\n    <tr>\n      <th>1</th>\n      <td>2023-11-24 07:00:00</td>\n      <td>51.168254</td>\n      <td>63.466500</td>\n      <td>67.265266</td>\n      <td>70.584751</td>\n      <td>75.332749</td>\n      <td>40 hour</td>\n      <td>energy</td>\n    </tr>\n    <tr>\n      <th>2</th>\n      <td>2023-11-24 11:00:00</td>\n      <td>51.168254</td>\n      <td>63.466500</td>\n      <td>67.265266</td>\n      <td>70.584751</td>\n      <td>75.332749</td>\n      <td>44 hour</td>\n      <td>energy</td>\n    </tr>\n    <tr>\n      <th>3</th>\n      <td>2023-11-25 03:00:00</td>\n      <td>33.632742</td>\n      <td>37.612993</td>\n      <td>41.722813</td>\n      <td>45.212703</td>\n      <td>51.022999</td>\n      <td>60 hour</td>\n      <td>energy</td>\n    </tr>\n    <tr>\n      <th>4</th>\n      <td>2023-11-25 07:00:00</td>\n      <td>44.053500</td>\n      <td>53.217992</td>\n      <td>57.435500</td>\n      <td>61.002704</td>\n      <td>65.707232</td>\n      <td>64 hour</td>\n      <td>energy</td>\n    </tr>\n    <tr>\n      <th>5</th>\n      <td>2023-11-25 11:00:00</td>\n      <td>44.053500</td>\n      <td>53.217992</td>\n      <td>57.435500</td>\n      <td>61.002704</td>\n      <td>65.707232</td>\n      <td>68 hour</td>\n      <td>energy</td>\n    </tr>\n  </tbody>\n</table>\n</div>"
     },
     "execution_count": 7,
     "metadata": {},
     "output_type": "execute_result"
    }
   ],
   "source": [
    "model1(df)"
   ],
   "metadata": {
    "collapsed": false,
    "ExecuteTime": {
     "end_time": "2023-11-22T17:54:15.654592Z",
     "start_time": "2023-11-22T17:54:14.069671Z"
    }
   },
   "id": "71d4c13f9b29632e"
  },
  {
   "cell_type": "code",
   "execution_count": 6,
   "outputs": [],
   "source": [
    "mix_model"
   ],
   "metadata": {
    "collapsed": false,
    "ExecuteTime": {
     "end_time": "2023-11-22T17:53:43.141964Z",
     "start_time": "2023-11-22T17:53:43.138608Z"
    }
   },
   "id": "2bf2d2b96ef0570d"
  },
  {
   "cell_type": "code",
   "execution_count": null,
   "outputs": [],
   "source": [],
   "metadata": {
    "collapsed": false
   },
   "id": "8482384f95616f46"
  }
 ],
 "metadata": {
  "kernelspec": {
   "display_name": "Python 3",
   "language": "python",
   "name": "python3"
  },
  "language_info": {
   "codemirror_mode": {
    "name": "ipython",
    "version": 2
   },
   "file_extension": ".py",
   "mimetype": "text/x-python",
   "name": "python",
   "nbconvert_exporter": "python",
   "pygments_lexer": "ipython2",
   "version": "2.7.6"
  }
 },
 "nbformat": 4,
 "nbformat_minor": 5
}
