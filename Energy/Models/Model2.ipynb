{
 "cells": [
  {
   "cell_type": "code",
   "execution_count": 5,
   "outputs": [],
   "source": [
    "import pandas as pd\n",
    "import statsmodels.api as sm\n",
    "from Energy.HelpFunctions.get_energy_data import get_energy_data, prepare_data\n",
    "from Energy.HelpFunctions.date_and_time import most_recent_thursday"
   ],
   "metadata": {
    "collapsed": false,
    "ExecuteTime": {
     "end_time": "2023-11-13T13:50:30.142718Z",
     "start_time": "2023-11-13T13:50:30.139593Z"
    }
   },
   "id": "c0306991888b7812"
  },
  {
   "cell_type": "code",
   "execution_count": 22,
   "outputs": [],
   "source": [
    "def model2(df):\n",
    "    df = df.rename(columns={\"gesamt\": \"energy_consumption\"})\n",
    "\n",
    "    # Prepare df (add dummies)\n",
    "    df['weekday'] = df.index.weekday\n",
    "    df['hour'] = df.index.hour\n",
    "    df['month'] = df.index.month\n",
    "\n",
    "    # create winter/cold dummy variable\n",
    "    df['winter'] = df['month'].apply(\n",
    "        lambda x: 1 if x in [10, 11, 12, 1, 2, 3] else 0)\n",
    "\n",
    "    df['working_day'] = df['weekday'].apply(\n",
    "        lambda x: 1 if x <= 4 else 0\n",
    "    )\n",
    "\n",
    "    df['saturday'] = df['weekday'].apply(\n",
    "        lambda x: 1 if x == 5 else 0\n",
    "    )\n",
    "\n",
    "    df['sunday'] = df['weekday'].apply(\n",
    "        lambda x: 1 if x == 6 else 0\n",
    "    )\n",
    "\n",
    "    for hour in range(12):\n",
    "        df[f'hour {hour}'] = df['hour'].apply(\n",
    "            lambda x: 1 if x == hour else 0\n",
    "        )\n",
    "\n",
    "    # drop unneccesary columns\n",
    "    df = df.drop(columns=['weekday', 'hour', 'month'])\n",
    "    \n",
    "    print(df.columns)\n",
    "\n",
    "    # Fit model*****\n",
    "    y_ec = df['energy_consumption']\n",
    "    X_ec = df.drop(\n",
    "        columns=['energy_consumption'])  # low consumption time as reference time --> drop\n",
    "\n",
    "    # Those stay: ['winter', 'working_day', 'saturday', 'sunday',\n",
    "    #    'hour 0', 'hour 1', 'hour 2', 'hour 3', 'hour 4', 'hour 5', 'hour 6',\n",
    "    #    'hour 7', 'hour 8', 'hour 9', 'hour 10', 'hour 11']\n",
    "\n",
    "    # add constant for the intercept term\n",
    "    X_ec = sm.add_constant(X_ec)\n",
    "\n",
    "    # fit seasonal linear regression model\n",
    "    model = sm.OLS(y_ec, X_ec).fit()\n",
    "    model.summary()\n",
    "\n",
    "    # Calculate Forecasts\n",
    "    # create new dataframe containing future date_times and indepentent variables\n",
    "\n",
    "    last_ts = df.index[-1]\n",
    "    horizon = pd.date_range(start=last_ts + pd.DateOffset(\n",
    "        hours=1), periods=200, freq='H')\n",
    "\n",
    "    energy_forecast = pd.DataFrame({'date_time': horizon})\n",
    "    energy_forecast.set_index('date_time', inplace=True)\n",
    "\n",
    "    energy_forecast['weekday'] = energy_forecast.index.weekday\n",
    "    energy_forecast['hour'] = energy_forecast.index.hour\n",
    "    energy_forecast['month'] = energy_forecast.index.month\n",
    "\n",
    "    # create winter dummy variable\n",
    "    energy_forecast['winter'] = energy_forecast['month'].apply(\n",
    "        lambda x: 1 if x in [10, 11, 12, 1, 2, 3] else 0)\n",
    "\n",
    "    energy_forecast['working_day'] = energy_forecast['weekday'].apply(\n",
    "        lambda x: 1 if x <= 4 else 0\n",
    "    )\n",
    "\n",
    "    energy_forecast['saturday'] = energy_forecast['weekday'].apply(\n",
    "        lambda x: 1 if x == 5 else 0\n",
    "    )\n",
    "\n",
    "    energy_forecast['sunday'] = energy_forecast['weekday'].apply(\n",
    "        lambda x: 1 if x == 6 else 0\n",
    "    )\n",
    "\n",
    "    for hour in range(12):\n",
    "        energy_forecast[f'hour {hour}'] = energy_forecast['hour'].apply(\n",
    "            lambda x: 1 if x == hour else 0\n",
    "        )\n",
    "\n",
    "    # Point forecasts\n",
    "    X_fc = energy_forecast.drop(columns=['weekday', 'hour', 'month'])\n",
    "    X_fc = sm.add_constant(X_fc, has_constant='add')\n",
    "\n",
    "    # Make predictions\n",
    "    predictions_ec = model.predict(X_fc)\n",
    "\n",
    "    # Quantile Regression\n",
    "    quantiles = [0.025, 0.25, 0.5, 0.75, 0.975]\n",
    "\n",
    "    model_qr = sm.QuantReg(y_ec, X_ec)\n",
    "\n",
    "    for q in quantiles:\n",
    "        model_temp = model_qr.fit(q=q)\n",
    "\n",
    "        # Calculate forecasts for X_fc using the fitted model for the current quantile\n",
    "        forecast_temp = model_temp.predict(X_fc)\n",
    "\n",
    "        # Add the forecasts to the energy_forecast DataFrame with a label like 'forecast025'\n",
    "        energy_forecast[f'q{q}'] = forecast_temp\n",
    "\n",
    "    # Format Results\n",
    "    # Define the specific date and time combinations\n",
    "    # selected_dates = ['2023-11-14 12:00:00', '2023-11-14 16:00:00', '2023-11-14 20:00:00',\n",
    "    #                   '2023-11-15 12:00:00', '2023-11-15 16:00:00', '2023-11-15 20:00:00']\n",
    "\n",
    "    indexes = [36, 40, 44, 60, 64, 68]\n",
    "\n",
    "    forecasting_results = energy_forecast.iloc[indexes,\n",
    "                          energy_forecast.columns.get_loc('q0.025'):energy_forecast.columns.get_loc('q0.975') + 1]\n",
    "\n",
    "    forecasting_results = forecasting_results.reset_index(drop=False)\n",
    "    forecasting_results = forecasting_results.rename(columns={\"date_time\": \"forecast_date\"})\n",
    "    forecasting_results['horizon'] = ['36 hour', '40 hour', '44 hour', '60 hour', '64 hour', '68 hour']\n",
    "    forecasting_results['target'] = [\"energy\" for _ in range(6)]\n",
    "\n",
    "    return forecasting_results\n"
   ],
   "metadata": {
    "collapsed": false,
    "ExecuteTime": {
     "end_time": "2023-11-13T14:04:48.295148Z",
     "start_time": "2023-11-13T14:04:48.289205Z"
    }
   },
   "id": "initial_id"
  },
  {
   "cell_type": "code",
   "execution_count": 11,
   "outputs": [
    {
     "name": "stderr",
     "output_type": "stream",
     "text": [
      "  0%|          | 0/256 [00:00<?, ?it/s]/Users/elias/Desktop/PTSFC/Energy/HelpFunctions/get_energy_data.py:27: FutureWarning: The behavior of DataFrame concatenation with empty or all-NA entries is deprecated. In a future version, this will no longer exclude empty or all-NA columns when determining the result dtypes. To retain the old behavior, exclude the relevant entries before the concat operation.\n",
      "  energydata = pd.concat([energydata, pd.DataFrame(rawdata, columns=col_names)])\n",
      "100%|██████████| 256/256 [00:31<00:00,  8.16it/s]\n"
     ]
    }
   ],
   "source": [
    "df = get_energy_data()\n",
    "df = prepare_data(df)"
   ],
   "metadata": {
    "collapsed": false,
    "ExecuteTime": {
     "end_time": "2023-11-13T13:52:46.799070Z",
     "start_time": "2023-11-13T13:52:15.314091Z"
    }
   },
   "id": "c9a0172f616357b7"
  },
  {
   "cell_type": "code",
   "execution_count": 23,
   "outputs": [],
   "source": [
    "start_date_excl = most_recent_thursday(df)\n",
    "df = df.loc[df.index < start_date_excl]"
   ],
   "metadata": {
    "collapsed": false,
    "ExecuteTime": {
     "end_time": "2023-11-13T14:04:51.164869Z",
     "start_time": "2023-11-13T14:04:51.157081Z"
    }
   },
   "id": "71ced25506cb1af"
  },
  {
   "cell_type": "code",
   "execution_count": 24,
   "outputs": [
    {
     "name": "stdout",
     "output_type": "stream",
     "text": [
      "Index(['energy_consumption', 'winter', 'working_day', 'saturday', 'sunday',\n",
      "       'hour 0', 'hour 1', 'hour 2', 'hour 3', 'hour 4', 'hour 5', 'hour 6',\n",
      "       'hour 7', 'hour 8', 'hour 9', 'hour 10', 'hour 11'],\n",
      "      dtype='object')\n"
     ]
    },
    {
     "data": {
      "text/plain": "        forecast_date    q0.025      q0.25       q0.5      q0.75     q0.975  \\\n0 2023-11-03 12:00:00  48.73675  60.339248  65.251255  69.158707  74.797750   \n1 2023-11-03 16:00:00  48.73675  60.339248  65.251255  69.158707  74.797750   \n2 2023-11-03 20:00:00  48.73675  60.339248  65.251255  69.158707  74.797750   \n3 2023-11-04 12:00:00  45.67975  52.420745  56.493325  60.394089  65.623518   \n4 2023-11-04 16:00:00  45.67975  52.420745  56.493325  60.394089  65.623518   \n5 2023-11-04 20:00:00  45.67975  52.420745  56.493325  60.394089  65.623518   \n\n   horizon  target  \n0  36 hour  energy  \n1  40 hour  energy  \n2  44 hour  energy  \n3  60 hour  energy  \n4  64 hour  energy  \n5  68 hour  energy  ",
      "text/html": "<div>\n<style scoped>\n    .dataframe tbody tr th:only-of-type {\n        vertical-align: middle;\n    }\n\n    .dataframe tbody tr th {\n        vertical-align: top;\n    }\n\n    .dataframe thead th {\n        text-align: right;\n    }\n</style>\n<table border=\"1\" class=\"dataframe\">\n  <thead>\n    <tr style=\"text-align: right;\">\n      <th></th>\n      <th>forecast_date</th>\n      <th>q0.025</th>\n      <th>q0.25</th>\n      <th>q0.5</th>\n      <th>q0.75</th>\n      <th>q0.975</th>\n      <th>horizon</th>\n      <th>target</th>\n    </tr>\n  </thead>\n  <tbody>\n    <tr>\n      <th>0</th>\n      <td>2023-11-03 12:00:00</td>\n      <td>48.73675</td>\n      <td>60.339248</td>\n      <td>65.251255</td>\n      <td>69.158707</td>\n      <td>74.797750</td>\n      <td>36 hour</td>\n      <td>energy</td>\n    </tr>\n    <tr>\n      <th>1</th>\n      <td>2023-11-03 16:00:00</td>\n      <td>48.73675</td>\n      <td>60.339248</td>\n      <td>65.251255</td>\n      <td>69.158707</td>\n      <td>74.797750</td>\n      <td>40 hour</td>\n      <td>energy</td>\n    </tr>\n    <tr>\n      <th>2</th>\n      <td>2023-11-03 20:00:00</td>\n      <td>48.73675</td>\n      <td>60.339248</td>\n      <td>65.251255</td>\n      <td>69.158707</td>\n      <td>74.797750</td>\n      <td>44 hour</td>\n      <td>energy</td>\n    </tr>\n    <tr>\n      <th>3</th>\n      <td>2023-11-04 12:00:00</td>\n      <td>45.67975</td>\n      <td>52.420745</td>\n      <td>56.493325</td>\n      <td>60.394089</td>\n      <td>65.623518</td>\n      <td>60 hour</td>\n      <td>energy</td>\n    </tr>\n    <tr>\n      <th>4</th>\n      <td>2023-11-04 16:00:00</td>\n      <td>45.67975</td>\n      <td>52.420745</td>\n      <td>56.493325</td>\n      <td>60.394089</td>\n      <td>65.623518</td>\n      <td>64 hour</td>\n      <td>energy</td>\n    </tr>\n    <tr>\n      <th>5</th>\n      <td>2023-11-04 20:00:00</td>\n      <td>45.67975</td>\n      <td>52.420745</td>\n      <td>56.493325</td>\n      <td>60.394089</td>\n      <td>65.623518</td>\n      <td>68 hour</td>\n      <td>energy</td>\n    </tr>\n  </tbody>\n</table>\n</div>"
     },
     "execution_count": 24,
     "metadata": {},
     "output_type": "execute_result"
    }
   ],
   "source": [
    "model2(df)"
   ],
   "metadata": {
    "collapsed": false,
    "ExecuteTime": {
     "end_time": "2023-11-13T14:04:58.364269Z",
     "start_time": "2023-11-13T14:04:52.787916Z"
    }
   },
   "id": "91307b8f41ecb16d"
  },
  {
   "cell_type": "code",
   "execution_count": null,
   "outputs": [],
   "source": [],
   "metadata": {
    "collapsed": false
   },
   "id": "a6d5747b73452e94"
  }
 ],
 "metadata": {
  "kernelspec": {
   "display_name": "Python 3",
   "language": "python",
   "name": "python3"
  },
  "language_info": {
   "codemirror_mode": {
    "name": "ipython",
    "version": 2
   },
   "file_extension": ".py",
   "mimetype": "text/x-python",
   "name": "python",
   "nbconvert_exporter": "python",
   "pygments_lexer": "ipython2",
   "version": "2.7.6"
  }
 },
 "nbformat": 4,
 "nbformat_minor": 5
}
