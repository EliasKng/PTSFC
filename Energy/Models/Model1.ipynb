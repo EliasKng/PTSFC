{
 "cells": [
  {
   "cell_type": "code",
   "execution_count": null,
   "id": "initial_id",
   "metadata": {
    "collapsed": true
   },
   "outputs": [],
   "source": [
    "import pandas as pd\n",
    "import statsmodels.api as sm\n",
    "from Energy.HelpFunctions.get_energy_data import get_energy_data, prepare_data\n",
    "from Energy.HelpFunctions.date_and_time import most_recent_thursday\n",
    "from Energy.Models.Model1 import model1"
   ]
  },
  {
   "cell_type": "code",
   "execution_count": null,
   "outputs": [],
   "source": [
    "df = get_energy_data()\n",
    "df = prepare_data(df)"
   ],
   "metadata": {
    "collapsed": false
   },
   "id": "a7dff84cd816e918"
  },
  {
   "cell_type": "raw",
   "source": [
    "Prepare Dataset (so it starts with thursday 11pm)"
   ],
   "metadata": {
    "collapsed": false
   },
   "id": "780b09fd52d7d3c1"
  },
  {
   "cell_type": "code",
   "execution_count": null,
   "outputs": [],
   "source": [
    "start_date_excl = most_recent_thursday(df)\n",
    "df = df.loc[df.index < start_date_excl]"
   ],
   "metadata": {
    "collapsed": false
   },
   "id": "cfdb666c6ede4420"
  },
  {
   "cell_type": "code",
   "execution_count": null,
   "outputs": [],
   "source": [
    "model1(df)"
   ],
   "metadata": {
    "collapsed": false
   },
   "id": "28a8ee7c53a5f7c"
  },
  {
   "cell_type": "code",
   "execution_count": null,
   "outputs": [],
   "source": [],
   "metadata": {
    "collapsed": false
   },
   "id": "c464edc4e17111ca"
  }
 ],
 "metadata": {
  "kernelspec": {
   "display_name": "Python 3",
   "language": "python",
   "name": "python3"
  },
  "language_info": {
   "codemirror_mode": {
    "name": "ipython",
    "version": 2
   },
   "file_extension": ".py",
   "mimetype": "text/x-python",
   "name": "python",
   "nbconvert_exporter": "python",
   "pygments_lexer": "ipython2",
   "version": "2.7.6"
  }
 },
 "nbformat": 4,
 "nbformat_minor": 5
}
