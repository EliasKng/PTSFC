{
 "cells": [
  {
   "cell_type": "code",
   "execution_count": null,
   "id": "initial_id",
   "metadata": {
    "collapsed": true
   },
   "outputs": [],
   "source": [
    "import pandas as pd\n",
    "import numpy as np\n",
    "import matplotlib.pyplot as plt\n",
    "import seaborn as sns\n",
    "import statsmodels.api as sm\n",
    "import sklearn\n",
    "from math import sqrt"
   ]
  },
  {
   "cell_type": "markdown",
   "source": [
    "First, Import the data"
   ],
   "metadata": {
    "collapsed": false
   },
   "id": "7937394c0bacd2b1"
  },
  {
   "cell_type": "code",
   "execution_count": null,
   "outputs": [],
   "source": [
    "from Energy.HelpFunctions.get_energy_data import get_energy_data, prepare_data\n",
    "\n",
    "# from Energy.HelpFunctions import import_csv_data\n",
    "# \n",
    "# energyconsumption = import_csv_data.get_data(\n",
    "#     '../hourly_ec_20201107_20231107.csv')\n",
    "\n",
    "\n",
    "energyconsumption = get_energy_data()\n",
    "energyconsumption = prepare_data(energyconsumption)\n",
    "energyconsumption = energyconsumption.rename(columns={\"gesamt\": \"energy_consumption\"})\n"
   ],
   "metadata": {
    "collapsed": false
   },
   "id": "a7dff84cd816e918"
  },
  {
   "cell_type": "raw",
   "source": [
    "Prepare Dataset (so it starts with thursday 11pm)"
   ],
   "metadata": {
    "collapsed": false
   },
   "id": "780b09fd52d7d3c1"
  },
  {
   "cell_type": "code",
   "execution_count": null,
   "outputs": [],
   "source": [
    "from Energy.HelpFunctions.date_and_time import most_recent_thursday\n",
    "\n",
    "start_date_excl = most_recent_thursday(energyconsumption)\n",
    "df_cval = energyconsumption.loc[energyconsumption.index < start_date_excl]"
   ],
   "metadata": {
    "collapsed": false
   },
   "id": "cfdb666c6ede4420"
  },
  {
   "cell_type": "code",
   "execution_count": null,
   "outputs": [],
   "source": [
    "energyconsumption['weekday'] = energyconsumption.index.weekday\n",
    "energyconsumption['hour'] = energyconsumption.index.hour\n",
    "energyconsumption['month'] = energyconsumption.index.month\n",
    "\n",
    "# create winter/cold dummy variable\n",
    "energyconsumption['winter'] = energyconsumption['month'].apply(\n",
    "    lambda x: 1 if x in [10, 11, 12, 1, 2, 3] else 0)\n",
    "\n",
    "# Define mapping of hours to timeframes (based on graph) and create dummy variable\n",
    "time_mapping = {\n",
    "    'low_consumption_time': list(range(7)),  # differs a lot weekend/weekday\n",
    "    'high_consumption_time': list(range(7, 20)),\n",
    "    'transition_time': [6, 20, 21, 22, 23]}\n",
    "\n",
    "for timeframe, hours in time_mapping.items():\n",
    "    energyconsumption[timeframe] = energyconsumption['hour'].apply(\n",
    "        lambda x: 1 if x in hours else 0)\n",
    "\n",
    "# create weekend day dummy variable\n",
    "energyconsumption['weekend_day'] = energyconsumption['weekday'].apply(\n",
    "    lambda x: 1 if x in [5,6] else 0)\n",
    "\n",
    "# drop unneccesary columns\n",
    "energyconsumption = energyconsumption.drop(columns=['weekday', 'hour', 'month'])\n",
    "\n",
    "energyconsumption"
   ],
   "metadata": {
    "collapsed": false
   },
   "id": "28a8ee7c53a5f7c"
  },
  {
   "cell_type": "markdown",
   "source": [
    "## Let's fit our model"
   ],
   "metadata": {
    "collapsed": false
   },
   "id": "346f627f0a067c25"
  },
  {
   "cell_type": "code",
   "execution_count": null,
   "outputs": [],
   "source": [
    "y_ec = energyconsumption['energy_consumption']\n",
    "X_ec = energyconsumption.drop(\n",
    "    columns=['energy_consumption', 'low_consumption_time']) #low consumption time as reference time --> drop\n",
    "\n",
    "# add constant for the intercept term\n",
    "X_ec = sm.add_constant(X_ec)\n",
    "\n",
    "X_ec\n",
    "# fit seasonal linear regression model\n",
    "model = sm.OLS(y_ec, X_ec).fit()\n",
    "model.summary()"
   ],
   "metadata": {
    "collapsed": false
   },
   "id": "bdf4de5cc7156a26"
  },
  {
   "cell_type": "markdown",
   "source": [
    "## Calculate Forecasts"
   ],
   "metadata": {
    "collapsed": false
   },
   "id": "d1efb7859dd67ac2"
  },
  {
   "cell_type": "code",
   "execution_count": null,
   "outputs": [],
   "source": [
    "# create new dataframe containing future date_times and indepentent variables\n",
    "\n",
    "last_ts = energyconsumption.index[-1]\n",
    "horizon = pd.date_range(start=last_ts + pd.DateOffset(\n",
    "    hours=1), periods=200, freq='H')\n",
    "\n",
    "energy_forecast = pd.DataFrame({'date_time': horizon})\n",
    "energy_forecast.set_index('date_time', inplace=True)\n",
    "\n",
    "energy_forecast['weekday'] = energy_forecast.index.weekday\n",
    "energy_forecast['hour'] = energy_forecast.index.hour\n",
    "energy_forecast['month'] = energy_forecast.index.month\n",
    "\n",
    "# create winter/cold dummy variable\n",
    "energy_forecast['winter'] = energy_forecast['month'].apply(\n",
    "    lambda x: 1 if x in [10, 11, 12, 1, 2, 3] else 0)\n",
    "\n",
    "# time mapping already initialized\n",
    "for timeframe, hours in time_mapping.items():\n",
    "    energy_forecast[timeframe] = energy_forecast['hour'].apply(\n",
    "        lambda x: 1 if x in hours else 0)\n",
    "\n",
    "# create weekend day dummy variable\n",
    "energy_forecast['weekend_day'] = energy_forecast['weekday'].apply(\n",
    "    lambda x: 1 if x in [5,6] else 0)\n",
    "\n",
    "energy_forecast\n",
    "\n",
    "# Point forecasts\n",
    "X_fc = energy_forecast.drop(columns=['weekday', 'hour', 'month','low_consumption_time'])\n",
    "X_fc = sm.add_constant(X_fc, has_constant='add')\n",
    "X_fc\n",
    "\n",
    "# Make predictions\n",
    "predictions_ec = model.predict(X_fc)\n",
    "predictions_ec\n"
   ],
   "metadata": {
    "collapsed": false
   },
   "id": "245d6aa6b58b76f7"
  },
  {
   "cell_type": "markdown",
   "source": [
    "Jetzt Quantile Regression um Quantile zu berechnen:"
   ],
   "metadata": {
    "collapsed": false
   },
   "id": "1effc5bc6737d100"
  },
  {
   "cell_type": "code",
   "execution_count": null,
   "outputs": [],
   "source": [
    "quantiles = [0.025, 0.25, 0.5, 0.75, 0.975]\n",
    "\n",
    "model_qr = sm.QuantReg(y_ec, X_ec)\n",
    "\n",
    "for q in quantiles:\n",
    "    \n",
    "    model_temp = model_qr.fit(q=q)\n",
    "\n",
    "    # Calculate forecasts for X_fc using the fitted model for the current quantile\n",
    "    forecast_temp = model_temp.predict(X_fc)\n",
    "\n",
    "    # Add the forecasts to the energy_forecast DataFrame with a label like 'forecast025'\n",
    "    energy_forecast[f'q{q}'] = forecast_temp"
   ],
   "metadata": {
    "collapsed": false
   },
   "id": "3994e97c878e3db4"
  },
  {
   "cell_type": "code",
   "execution_count": null,
   "outputs": [],
   "source": [
    "# Define the specific date and time combinations\n",
    "# selected_dates = ['2023-11-14 12:00:00', '2023-11-14 16:00:00', '2023-11-14 20:00:00',\n",
    "#                   '2023-11-15 12:00:00', '2023-11-15 16:00:00', '2023-11-15 20:00:00']\n",
    "\n",
    "indexes = [28,32,36,52,56,60]\n",
    "\n",
    "forecasting_results = energy_forecast.iloc[indexes, energy_forecast.columns.get_loc('q0.025'):energy_forecast.columns.get_loc('q0.975')+1]\n",
    "\n",
    "forecasting_results = forecasting_results.reset_index(drop=False)\n",
    "forecasting_results = forecasting_results.rename(columns={\"date_time\": \"forecast_date\"})"
   ],
   "metadata": {
    "collapsed": false
   },
   "id": "6195beee0fcdb68a"
  },
  {
   "cell_type": "code",
   "execution_count": null,
   "outputs": [],
   "source": [
    "forecasting_results"
   ],
   "metadata": {
    "collapsed": false
   },
   "id": "34eef570af90dd6f"
  },
  {
   "cell_type": "code",
   "execution_count": null,
   "outputs": [],
   "source": [],
   "metadata": {
    "collapsed": false
   },
   "id": "aeb32722baec4e12"
  }
 ],
 "metadata": {
  "kernelspec": {
   "display_name": "Python 3",
   "language": "python",
   "name": "python3"
  },
  "language_info": {
   "codemirror_mode": {
    "name": "ipython",
    "version": 2
   },
   "file_extension": ".py",
   "mimetype": "text/x-python",
   "name": "python",
   "nbconvert_exporter": "python",
   "pygments_lexer": "ipython2",
   "version": "2.7.6"
  }
 },
 "nbformat": 4,
 "nbformat_minor": 5
}
