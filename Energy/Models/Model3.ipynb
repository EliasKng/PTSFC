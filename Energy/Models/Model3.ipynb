{
 "cells": [
  {
   "cell_type": "code",
   "execution_count": 1,
   "outputs": [
    {
     "name": "stderr",
     "output_type": "stream",
     "text": [
      "/Users/elias/Desktop/PTSFC/venv/lib/python3.9/site-packages/urllib3/__init__.py:34: NotOpenSSLWarning: urllib3 v2.0 only supports OpenSSL 1.1.1+, currently the 'ssl' module is compiled with 'LibreSSL 2.8.3'. See: https://github.com/urllib3/urllib3/issues/3020\n",
      "  warnings.warn(\n"
     ]
    }
   ],
   "source": [
    "import pandas as pd\n",
    "import statsmodels.api as sm\n",
    "from Energy.HelpFunctions.get_energy_data import get_energy_data, prepare_data\n",
    "from HelpFunctions.date_and_time import most_recent_thursday\n",
    "from Energy.Models.Model3 import model3"
   ],
   "metadata": {
    "collapsed": false,
    "ExecuteTime": {
     "end_time": "2023-11-25T19:29:42.348692Z",
     "start_time": "2023-11-25T19:29:42.084122Z"
    }
   },
   "id": "c0306991888b7812"
  },
  {
   "cell_type": "code",
   "execution_count": 2,
   "outputs": [],
   "source": [
    "df = get_energy_data()\n",
    "df = prepare_data(df)"
   ],
   "metadata": {
    "collapsed": false,
    "ExecuteTime": {
     "end_time": "2023-11-25T19:29:42.375746Z",
     "start_time": "2023-11-25T19:29:42.342146Z"
    }
   },
   "id": "c9a0172f616357b7"
  },
  {
   "cell_type": "code",
   "execution_count": 3,
   "outputs": [],
   "source": [
    "start_date_excl = most_recent_thursday(df)\n",
    "df = df.loc[df.index < start_date_excl]"
   ],
   "metadata": {
    "collapsed": false,
    "ExecuteTime": {
     "end_time": "2023-11-25T19:29:42.382584Z",
     "start_time": "2023-11-25T19:29:42.361507Z"
    }
   },
   "id": "71ced25506cb1af"
  },
  {
   "cell_type": "code",
   "execution_count": 4,
   "outputs": [
    {
     "data": {
      "text/plain": "        forecast_date     q0.025      q0.25       q0.5      q0.75     q0.975  \\\n0 2023-11-24 12:00:00  55.292750  63.677531  67.303252  70.602123  75.316251   \n1 2023-11-24 16:00:00  55.292750  63.677531  67.303252  70.602123  75.316251   \n2 2023-11-24 20:00:00  48.260250  56.265782  60.146251  63.492249  68.810001   \n3 2023-11-25 12:00:00  44.375000  53.347499  57.519251  61.143249  65.836501   \n4 2023-11-25 16:00:00  44.375000  53.347499  57.519251  61.143249  65.836501   \n5 2023-11-25 20:00:00  37.342501  45.935750  50.362251  54.033374  59.330251   \n\n   horizon  target  \n0  36 hour  energy  \n1  40 hour  energy  \n2  44 hour  energy  \n3  60 hour  energy  \n4  64 hour  energy  \n5  68 hour  energy  ",
      "text/html": "<div>\n<style scoped>\n    .dataframe tbody tr th:only-of-type {\n        vertical-align: middle;\n    }\n\n    .dataframe tbody tr th {\n        vertical-align: top;\n    }\n\n    .dataframe thead th {\n        text-align: right;\n    }\n</style>\n<table border=\"1\" class=\"dataframe\">\n  <thead>\n    <tr style=\"text-align: right;\">\n      <th></th>\n      <th>forecast_date</th>\n      <th>q0.025</th>\n      <th>q0.25</th>\n      <th>q0.5</th>\n      <th>q0.75</th>\n      <th>q0.975</th>\n      <th>horizon</th>\n      <th>target</th>\n    </tr>\n  </thead>\n  <tbody>\n    <tr>\n      <th>0</th>\n      <td>2023-11-24 12:00:00</td>\n      <td>55.292750</td>\n      <td>63.677531</td>\n      <td>67.303252</td>\n      <td>70.602123</td>\n      <td>75.316251</td>\n      <td>36 hour</td>\n      <td>energy</td>\n    </tr>\n    <tr>\n      <th>1</th>\n      <td>2023-11-24 16:00:00</td>\n      <td>55.292750</td>\n      <td>63.677531</td>\n      <td>67.303252</td>\n      <td>70.602123</td>\n      <td>75.316251</td>\n      <td>40 hour</td>\n      <td>energy</td>\n    </tr>\n    <tr>\n      <th>2</th>\n      <td>2023-11-24 20:00:00</td>\n      <td>48.260250</td>\n      <td>56.265782</td>\n      <td>60.146251</td>\n      <td>63.492249</td>\n      <td>68.810001</td>\n      <td>44 hour</td>\n      <td>energy</td>\n    </tr>\n    <tr>\n      <th>3</th>\n      <td>2023-11-25 12:00:00</td>\n      <td>44.375000</td>\n      <td>53.347499</td>\n      <td>57.519251</td>\n      <td>61.143249</td>\n      <td>65.836501</td>\n      <td>60 hour</td>\n      <td>energy</td>\n    </tr>\n    <tr>\n      <th>4</th>\n      <td>2023-11-25 16:00:00</td>\n      <td>44.375000</td>\n      <td>53.347499</td>\n      <td>57.519251</td>\n      <td>61.143249</td>\n      <td>65.836501</td>\n      <td>64 hour</td>\n      <td>energy</td>\n    </tr>\n    <tr>\n      <th>5</th>\n      <td>2023-11-25 20:00:00</td>\n      <td>37.342501</td>\n      <td>45.935750</td>\n      <td>50.362251</td>\n      <td>54.033374</td>\n      <td>59.330251</td>\n      <td>68 hour</td>\n      <td>energy</td>\n    </tr>\n  </tbody>\n</table>\n</div>"
     },
     "execution_count": 4,
     "metadata": {},
     "output_type": "execute_result"
    }
   ],
   "source": [
    "from Energy.Models import Model3\n",
    "from importlib import reload\n",
    "# from HelpFunctions import mix_models as mms\n",
    "reload(Model3)\n",
    "\n",
    "model3(df)"
   ],
   "metadata": {
    "collapsed": false,
    "ExecuteTime": {
     "end_time": "2023-11-25T19:29:44.160551Z",
     "start_time": "2023-11-25T19:29:42.365310Z"
    }
   },
   "id": "5902f0cd4c415dc"
  },
  {
   "cell_type": "code",
   "execution_count": 7,
   "outputs": [
    {
     "name": "stdout",
     "output_type": "stream",
     "text": [
      "                     energy_consumption  winter  high_consumption_time  \\\n",
      "date_time                                                                \n",
      "2018-12-24 00:00:00            42.02925       1                      0   \n",
      "2018-12-24 01:00:00            39.61025       1                      0   \n",
      "2018-12-24 02:00:00            39.13875       1                      0   \n",
      "2018-12-24 03:00:00            39.42100       1                      0   \n",
      "2018-12-24 04:00:00            40.74775       1                      0   \n",
      "...                                 ...     ...                    ...   \n",
      "2023-11-22 19:00:00            68.35000       1                      1   \n",
      "2023-11-22 20:00:00            64.93350       1                      0   \n",
      "2023-11-22 21:00:00            61.89050       1                      0   \n",
      "2023-11-22 22:00:00            58.72750       1                      0   \n",
      "2023-11-22 23:00:00            55.48650       1                      0   \n",
      "\n",
      "                     transition_time  weekend_day  holiday  population  \n",
      "date_time                                                               \n",
      "2018-12-24 00:00:00                0            0        0      83.019  \n",
      "2018-12-24 01:00:00                0            0        0      83.019  \n",
      "2018-12-24 02:00:00                0            0        0      83.019  \n",
      "2018-12-24 03:00:00                0            0        0      83.019  \n",
      "2018-12-24 04:00:00                0            0        0      83.019  \n",
      "...                              ...          ...      ...         ...  \n",
      "2023-11-22 19:00:00                0            0        0      84.581  \n",
      "2023-11-22 20:00:00                1            0        0      84.581  \n",
      "2023-11-22 21:00:00                1            0        0      84.581  \n",
      "2023-11-22 22:00:00                1            0        0      84.581  \n",
      "2023-11-22 23:00:00                1            0        0      84.581  \n",
      "\n",
      "[43080 rows x 7 columns]\n",
      "                     winter  high_consumption_time  transition_time  \\\n",
      "date_time                                                             \n",
      "2023-11-23 00:00:00       1                      0                0   \n",
      "2023-11-23 01:00:00       1                      0                0   \n",
      "2023-11-23 02:00:00       1                      0                0   \n",
      "2023-11-23 03:00:00       1                      0                0   \n",
      "2023-11-23 04:00:00       1                      0                0   \n",
      "...                     ...                    ...              ...   \n",
      "2023-12-01 03:00:00       1                      0                0   \n",
      "2023-12-01 04:00:00       1                      0                0   \n",
      "2023-12-01 05:00:00       1                      0                0   \n",
      "2023-12-01 06:00:00       1                      0                1   \n",
      "2023-12-01 07:00:00       1                      1                0   \n",
      "\n",
      "                     weekend_day  holiday  population  \n",
      "date_time                                              \n",
      "2023-11-23 00:00:00            0        0      84.581  \n",
      "2023-11-23 01:00:00            0        0      84.581  \n",
      "2023-11-23 02:00:00            0        0      84.581  \n",
      "2023-11-23 03:00:00            0        0      84.581  \n",
      "2023-11-23 04:00:00            0        0      84.581  \n",
      "...                          ...      ...         ...  \n",
      "2023-12-01 03:00:00            0        0      84.581  \n",
      "2023-12-01 04:00:00            0        0      84.581  \n",
      "2023-12-01 05:00:00            0        0      84.581  \n",
      "2023-12-01 06:00:00            0        0      84.581  \n",
      "2023-12-01 07:00:00            0        0      84.581  \n",
      "\n",
      "[200 rows x 6 columns]\n",
      "                         QuantReg Regression Results                          \n",
      "==============================================================================\n",
      "Dep. Variable:     energy_consumption   Pseudo R-squared:               0.5626\n",
      "Model:                       QuantReg   Bandwidth:                      0.6124\n",
      "Method:                 Least Squares   Sparsity:                        11.09\n",
      "Date:                Sat, 25 Nov 2023   No. Observations:                43080\n",
      "Time:                        20:42:26   Df Residuals:                    43073\n",
      "                                        Df Model:                            6\n",
      "=========================================================================================\n",
      "                            coef    std err          t      P>|t|      [0.025      0.975]\n",
      "-----------------------------------------------------------------------------------------\n",
      "const                   251.7470      3.571     70.492      0.000     244.747     258.747\n",
      "winter                    6.2263      0.053    116.417      0.000       6.121       6.331\n",
      "high_consumption_time    15.7187      0.065    243.345      0.000      15.592      15.845\n",
      "transition_time           8.5636      0.079    108.059      0.000       8.408       8.719\n",
      "weekend_day              -9.8911      0.059   -167.132      0.000     -10.007      -9.775\n",
      "holiday                 -11.6805      0.171    -68.324      0.000     -12.016     -11.345\n",
      "population               -2.4664      0.043    -57.814      0.000      -2.550      -2.383\n",
      "=========================================================================================\n",
      "\n",
      "The condition number is large, 1.12e+04. This might indicate that there are\n",
      "strong multicollinearity or other numerical problems.\n"
     ]
    },
    {
     "data": {
      "text/plain": "        forecast_date     q0.025      q0.25       q0.5      q0.75     q0.975  \\\n0 2023-11-24 12:00:00  54.350647  62.145498  65.080750  67.952677  74.128048   \n1 2023-11-24 16:00:00  54.350647  62.145498  65.080750  67.952677  74.128048   \n2 2023-11-24 20:00:00  47.349629  54.526756  57.925696  60.874469  67.533798   \n3 2023-11-25 12:00:00  43.457814  51.528538  55.189692  58.552744  64.893032   \n4 2023-11-25 16:00:00  43.457814  51.528538  55.189692  58.552744  64.893032   \n5 2023-11-25 20:00:00  36.456796  43.909797  48.034638  51.474536  58.298782   \n\n   horizon  target  \n0  36 hour  energy  \n1  40 hour  energy  \n2  44 hour  energy  \n3  60 hour  energy  \n4  64 hour  energy  \n5  68 hour  energy  ",
      "text/html": "<div>\n<style scoped>\n    .dataframe tbody tr th:only-of-type {\n        vertical-align: middle;\n    }\n\n    .dataframe tbody tr th {\n        vertical-align: top;\n    }\n\n    .dataframe thead th {\n        text-align: right;\n    }\n</style>\n<table border=\"1\" class=\"dataframe\">\n  <thead>\n    <tr style=\"text-align: right;\">\n      <th></th>\n      <th>forecast_date</th>\n      <th>q0.025</th>\n      <th>q0.25</th>\n      <th>q0.5</th>\n      <th>q0.75</th>\n      <th>q0.975</th>\n      <th>horizon</th>\n      <th>target</th>\n    </tr>\n  </thead>\n  <tbody>\n    <tr>\n      <th>0</th>\n      <td>2023-11-24 12:00:00</td>\n      <td>54.350647</td>\n      <td>62.145498</td>\n      <td>65.080750</td>\n      <td>67.952677</td>\n      <td>74.128048</td>\n      <td>36 hour</td>\n      <td>energy</td>\n    </tr>\n    <tr>\n      <th>1</th>\n      <td>2023-11-24 16:00:00</td>\n      <td>54.350647</td>\n      <td>62.145498</td>\n      <td>65.080750</td>\n      <td>67.952677</td>\n      <td>74.128048</td>\n      <td>40 hour</td>\n      <td>energy</td>\n    </tr>\n    <tr>\n      <th>2</th>\n      <td>2023-11-24 20:00:00</td>\n      <td>47.349629</td>\n      <td>54.526756</td>\n      <td>57.925696</td>\n      <td>60.874469</td>\n      <td>67.533798</td>\n      <td>44 hour</td>\n      <td>energy</td>\n    </tr>\n    <tr>\n      <th>3</th>\n      <td>2023-11-25 12:00:00</td>\n      <td>43.457814</td>\n      <td>51.528538</td>\n      <td>55.189692</td>\n      <td>58.552744</td>\n      <td>64.893032</td>\n      <td>60 hour</td>\n      <td>energy</td>\n    </tr>\n    <tr>\n      <th>4</th>\n      <td>2023-11-25 16:00:00</td>\n      <td>43.457814</td>\n      <td>51.528538</td>\n      <td>55.189692</td>\n      <td>58.552744</td>\n      <td>64.893032</td>\n      <td>64 hour</td>\n      <td>energy</td>\n    </tr>\n    <tr>\n      <th>5</th>\n      <td>2023-11-25 20:00:00</td>\n      <td>36.456796</td>\n      <td>43.909797</td>\n      <td>48.034638</td>\n      <td>51.474536</td>\n      <td>58.298782</td>\n      <td>68 hour</td>\n      <td>energy</td>\n    </tr>\n  </tbody>\n</table>\n</div>"
     },
     "execution_count": 7,
     "metadata": {},
     "output_type": "execute_result"
    }
   ],
   "source": [
    "\n",
    "\n",
    "from Energy.Models import Model4\n",
    "from importlib import reload\n",
    "# from HelpFunctions import mix_models as mms\n",
    "reload(Model4)\n",
    "\n",
    "\n",
    "\n",
    "Model4.model4(df)"
   ],
   "metadata": {
    "collapsed": false,
    "ExecuteTime": {
     "end_time": "2023-11-25T19:42:29.414301Z",
     "start_time": "2023-11-25T19:42:26.270520Z"
    }
   },
   "id": "c40329a3f0bdaf42"
  },
  {
   "cell_type": "code",
   "execution_count": 5,
   "outputs": [],
   "source": [],
   "metadata": {
    "collapsed": false,
    "ExecuteTime": {
     "end_time": "2023-11-25T19:29:47.168697Z",
     "start_time": "2023-11-25T19:29:47.145224Z"
    }
   },
   "id": "e74475c6e441a635"
  }
 ],
 "metadata": {
  "kernelspec": {
   "display_name": "Python 3",
   "language": "python",
   "name": "python3"
  },
  "language_info": {
   "codemirror_mode": {
    "name": "ipython",
    "version": 2
   },
   "file_extension": ".py",
   "mimetype": "text/x-python",
   "name": "python",
   "nbconvert_exporter": "python",
   "pygments_lexer": "ipython2",
   "version": "2.7.6"
  }
 },
 "nbformat": 4,
 "nbformat_minor": 5
}
