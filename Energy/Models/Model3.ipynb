{
 "cells": [
  {
   "cell_type": "code",
   "execution_count": 5,
   "outputs": [],
   "source": [
    "import pandas as pd\n",
    "import statsmodels.api as sm\n",
    "from Energy.HelpFunctions.get_energy_data import get_energy_data, prepare_data\n",
    "from Energy.HelpFunctions.date_and_time import most_recent_thursday\n",
    "from Energy.Models.Model2 import model2"
   ],
   "metadata": {
    "collapsed": false,
    "ExecuteTime": {
     "end_time": "2023-11-13T13:50:30.142718Z",
     "start_time": "2023-11-13T13:50:30.139593Z"
    }
   },
   "id": "c0306991888b7812"
  },
  {
   "cell_type": "code",
   "execution_count": 11,
   "outputs": [
    {
     "name": "stderr",
     "output_type": "stream",
     "text": [
      "  0%|          | 0/256 [00:00<?, ?it/s]/Users/elias/Desktop/PTSFC/Energy/HelpFunctions/get_energy_data.py:27: FutureWarning: The behavior of DataFrame concatenation with empty or all-NA entries is deprecated. In a future version, this will no longer exclude empty or all-NA columns when determining the result dtypes. To retain the old behavior, exclude the relevant entries before the concat operation.\n",
      "  energydata = pd.concat([energydata, pd.DataFrame(rawdata, columns=col_names)])\n",
      "100%|██████████| 256/256 [00:31<00:00,  8.16it/s]\n"
     ]
    }
   ],
   "source": [
    "df = get_energy_data()\n",
    "df = prepare_data(df)"
   ],
   "metadata": {
    "collapsed": false,
    "ExecuteTime": {
     "end_time": "2023-11-13T13:52:46.799070Z",
     "start_time": "2023-11-13T13:52:15.314091Z"
    }
   },
   "id": "c9a0172f616357b7"
  },
  {
   "cell_type": "code",
   "execution_count": 23,
   "outputs": [],
   "source": [
    "start_date_excl = most_recent_thursday(df)\n",
    "df = df.loc[df.index < start_date_excl]"
   ],
   "metadata": {
    "collapsed": false,
    "ExecuteTime": {
     "end_time": "2023-11-13T14:04:51.164869Z",
     "start_time": "2023-11-13T14:04:51.157081Z"
    }
   },
   "id": "71ced25506cb1af"
  },
  {
   "cell_type": "code",
   "execution_count": 24,
   "outputs": [
    {
     "name": "stdout",
     "output_type": "stream",
     "text": [
      "Index(['energy_consumption', 'winter', 'working_day', 'saturday', 'sunday',\n",
      "       'hour 0', 'hour 1', 'hour 2', 'hour 3', 'hour 4', 'hour 5', 'hour 6',\n",
      "       'hour 7', 'hour 8', 'hour 9', 'hour 10', 'hour 11'],\n",
      "      dtype='object')\n"
     ]
    },
    {
     "data": {
      "text/plain": "        forecast_date    q0.025      q0.25       q0.5      q0.75     q0.975  \\\n0 2023-11-03 12:00:00  48.73675  60.339248  65.251255  69.158707  74.797750   \n1 2023-11-03 16:00:00  48.73675  60.339248  65.251255  69.158707  74.797750   \n2 2023-11-03 20:00:00  48.73675  60.339248  65.251255  69.158707  74.797750   \n3 2023-11-04 12:00:00  45.67975  52.420745  56.493325  60.394089  65.623518   \n4 2023-11-04 16:00:00  45.67975  52.420745  56.493325  60.394089  65.623518   \n5 2023-11-04 20:00:00  45.67975  52.420745  56.493325  60.394089  65.623518   \n\n   horizon  target  \n0  36 hour  energy  \n1  40 hour  energy  \n2  44 hour  energy  \n3  60 hour  energy  \n4  64 hour  energy  \n5  68 hour  energy  ",
      "text/html": "<div>\n<style scoped>\n    .dataframe tbody tr th:only-of-type {\n        vertical-align: middle;\n    }\n\n    .dataframe tbody tr th {\n        vertical-align: top;\n    }\n\n    .dataframe thead th {\n        text-align: right;\n    }\n</style>\n<table border=\"1\" class=\"dataframe\">\n  <thead>\n    <tr style=\"text-align: right;\">\n      <th></th>\n      <th>forecast_date</th>\n      <th>q0.025</th>\n      <th>q0.25</th>\n      <th>q0.5</th>\n      <th>q0.75</th>\n      <th>q0.975</th>\n      <th>horizon</th>\n      <th>target</th>\n    </tr>\n  </thead>\n  <tbody>\n    <tr>\n      <th>0</th>\n      <td>2023-11-03 12:00:00</td>\n      <td>48.73675</td>\n      <td>60.339248</td>\n      <td>65.251255</td>\n      <td>69.158707</td>\n      <td>74.797750</td>\n      <td>36 hour</td>\n      <td>energy</td>\n    </tr>\n    <tr>\n      <th>1</th>\n      <td>2023-11-03 16:00:00</td>\n      <td>48.73675</td>\n      <td>60.339248</td>\n      <td>65.251255</td>\n      <td>69.158707</td>\n      <td>74.797750</td>\n      <td>40 hour</td>\n      <td>energy</td>\n    </tr>\n    <tr>\n      <th>2</th>\n      <td>2023-11-03 20:00:00</td>\n      <td>48.73675</td>\n      <td>60.339248</td>\n      <td>65.251255</td>\n      <td>69.158707</td>\n      <td>74.797750</td>\n      <td>44 hour</td>\n      <td>energy</td>\n    </tr>\n    <tr>\n      <th>3</th>\n      <td>2023-11-04 12:00:00</td>\n      <td>45.67975</td>\n      <td>52.420745</td>\n      <td>56.493325</td>\n      <td>60.394089</td>\n      <td>65.623518</td>\n      <td>60 hour</td>\n      <td>energy</td>\n    </tr>\n    <tr>\n      <th>4</th>\n      <td>2023-11-04 16:00:00</td>\n      <td>45.67975</td>\n      <td>52.420745</td>\n      <td>56.493325</td>\n      <td>60.394089</td>\n      <td>65.623518</td>\n      <td>64 hour</td>\n      <td>energy</td>\n    </tr>\n    <tr>\n      <th>5</th>\n      <td>2023-11-04 20:00:00</td>\n      <td>45.67975</td>\n      <td>52.420745</td>\n      <td>56.493325</td>\n      <td>60.394089</td>\n      <td>65.623518</td>\n      <td>68 hour</td>\n      <td>energy</td>\n    </tr>\n  </tbody>\n</table>\n</div>"
     },
     "execution_count": 24,
     "metadata": {},
     "output_type": "execute_result"
    }
   ],
   "source": [
    "model2(df)"
   ],
   "metadata": {
    "collapsed": false,
    "ExecuteTime": {
     "end_time": "2023-11-13T14:04:58.364269Z",
     "start_time": "2023-11-13T14:04:52.787916Z"
    }
   },
   "id": "91307b8f41ecb16d"
  },
  {
   "cell_type": "code",
   "execution_count": null,
   "outputs": [],
   "source": [],
   "metadata": {
    "collapsed": false
   },
   "id": "a6d5747b73452e94"
  }
 ],
 "metadata": {
  "kernelspec": {
   "display_name": "Python 3",
   "language": "python",
   "name": "python3"
  },
  "language_info": {
   "codemirror_mode": {
    "name": "ipython",
    "version": 2
   },
   "file_extension": ".py",
   "mimetype": "text/x-python",
   "name": "python",
   "nbconvert_exporter": "python",
   "pygments_lexer": "ipython2",
   "version": "2.7.6"
  }
 },
 "nbformat": 4,
 "nbformat_minor": 5
}
