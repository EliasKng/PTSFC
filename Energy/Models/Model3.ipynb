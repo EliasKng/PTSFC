{
 "cells": [
  {
   "cell_type": "code",
   "execution_count": 3,
   "outputs": [
    {
     "name": "stderr",
     "output_type": "stream",
     "text": [
      "/Users/elias/Desktop/PTSFC/venv/lib/python3.9/site-packages/urllib3/__init__.py:34: NotOpenSSLWarning: urllib3 v2.0 only supports OpenSSL 1.1.1+, currently the 'ssl' module is compiled with 'LibreSSL 2.8.3'. See: https://github.com/urllib3/urllib3/issues/3020\n",
      "  warnings.warn(\n"
     ]
    }
   ],
   "source": [
    "import pandas as pd\n",
    "import statsmodels.api as sm\n",
    "from Energy.HelpFunctions.get_energy_data import get_energy_data, prepare_data\n",
    "from HelpFunctions.date_and_time import most_recent_thursday\n",
    "from Energy.Models.Model3 import model3"
   ],
   "metadata": {
    "collapsed": false,
    "ExecuteTime": {
     "end_time": "2023-11-27T09:09:44.962853Z",
     "start_time": "2023-11-27T09:09:44.719263Z"
    }
   },
   "id": "c0306991888b7812"
  },
  {
   "cell_type": "code",
   "execution_count": 4,
   "outputs": [],
   "source": [
    "df = get_energy_data()\n",
    "df = prepare_data(df)"
   ],
   "metadata": {
    "collapsed": false,
    "ExecuteTime": {
     "end_time": "2023-11-27T09:09:45.104099Z",
     "start_time": "2023-11-27T09:09:45.048699Z"
    }
   },
   "id": "c9a0172f616357b7"
  },
  {
   "cell_type": "code",
   "execution_count": 5,
   "outputs": [],
   "source": [
    "start_date_excl = most_recent_thursday(df)\n",
    "df = df.loc[df.index < start_date_excl]"
   ],
   "metadata": {
    "collapsed": false,
    "ExecuteTime": {
     "end_time": "2023-11-27T09:09:45.758982Z",
     "start_time": "2023-11-27T09:09:45.754563Z"
    }
   },
   "id": "71ced25506cb1af"
  },
  {
   "cell_type": "code",
   "execution_count": 6,
   "outputs": [
    {
     "data": {
      "text/plain": "        forecast_date     q0.025      q0.25       q0.5      q0.75     q0.975  \\\n0 2023-11-24 12:00:00  55.292750  63.677531  67.303252  70.602123  75.316251   \n1 2023-11-24 16:00:00  55.292750  63.677531  67.303252  70.602123  75.316251   \n2 2023-11-24 20:00:00  48.260250  56.265782  60.146251  63.492249  68.810001   \n3 2023-11-25 12:00:00  44.375000  53.347499  57.519251  61.143249  65.836501   \n4 2023-11-25 16:00:00  44.375000  53.347499  57.519251  61.143249  65.836501   \n5 2023-11-25 20:00:00  37.342501  45.935750  50.362251  54.033374  59.330251   \n\n   horizon  target  \n0  36 hour  energy  \n1  40 hour  energy  \n2  44 hour  energy  \n3  60 hour  energy  \n4  64 hour  energy  \n5  68 hour  energy  ",
      "text/html": "<div>\n<style scoped>\n    .dataframe tbody tr th:only-of-type {\n        vertical-align: middle;\n    }\n\n    .dataframe tbody tr th {\n        vertical-align: top;\n    }\n\n    .dataframe thead th {\n        text-align: right;\n    }\n</style>\n<table border=\"1\" class=\"dataframe\">\n  <thead>\n    <tr style=\"text-align: right;\">\n      <th></th>\n      <th>forecast_date</th>\n      <th>q0.025</th>\n      <th>q0.25</th>\n      <th>q0.5</th>\n      <th>q0.75</th>\n      <th>q0.975</th>\n      <th>horizon</th>\n      <th>target</th>\n    </tr>\n  </thead>\n  <tbody>\n    <tr>\n      <th>0</th>\n      <td>2023-11-24 12:00:00</td>\n      <td>55.292750</td>\n      <td>63.677531</td>\n      <td>67.303252</td>\n      <td>70.602123</td>\n      <td>75.316251</td>\n      <td>36 hour</td>\n      <td>energy</td>\n    </tr>\n    <tr>\n      <th>1</th>\n      <td>2023-11-24 16:00:00</td>\n      <td>55.292750</td>\n      <td>63.677531</td>\n      <td>67.303252</td>\n      <td>70.602123</td>\n      <td>75.316251</td>\n      <td>40 hour</td>\n      <td>energy</td>\n    </tr>\n    <tr>\n      <th>2</th>\n      <td>2023-11-24 20:00:00</td>\n      <td>48.260250</td>\n      <td>56.265782</td>\n      <td>60.146251</td>\n      <td>63.492249</td>\n      <td>68.810001</td>\n      <td>44 hour</td>\n      <td>energy</td>\n    </tr>\n    <tr>\n      <th>3</th>\n      <td>2023-11-25 12:00:00</td>\n      <td>44.375000</td>\n      <td>53.347499</td>\n      <td>57.519251</td>\n      <td>61.143249</td>\n      <td>65.836501</td>\n      <td>60 hour</td>\n      <td>energy</td>\n    </tr>\n    <tr>\n      <th>4</th>\n      <td>2023-11-25 16:00:00</td>\n      <td>44.375000</td>\n      <td>53.347499</td>\n      <td>57.519251</td>\n      <td>61.143249</td>\n      <td>65.836501</td>\n      <td>64 hour</td>\n      <td>energy</td>\n    </tr>\n    <tr>\n      <th>5</th>\n      <td>2023-11-25 20:00:00</td>\n      <td>37.342501</td>\n      <td>45.935750</td>\n      <td>50.362251</td>\n      <td>54.033374</td>\n      <td>59.330251</td>\n      <td>68 hour</td>\n      <td>energy</td>\n    </tr>\n  </tbody>\n</table>\n</div>"
     },
     "execution_count": 6,
     "metadata": {},
     "output_type": "execute_result"
    }
   ],
   "source": [
    "from Energy.Models import Model3\n",
    "from importlib import reload\n",
    "# from HelpFunctions import mix_models as mms\n",
    "reload(Model3)\n",
    "\n",
    "model3(df)"
   ],
   "metadata": {
    "collapsed": false,
    "ExecuteTime": {
     "end_time": "2023-11-27T09:09:48.081036Z",
     "start_time": "2023-11-27T09:09:46.244711Z"
    }
   },
   "id": "5902f0cd4c415dc"
  },
  {
   "cell_type": "code",
   "execution_count": 7,
   "outputs": [
    {
     "name": "stdout",
     "output_type": "stream",
     "text": [
      "                         QuantReg Regression Results                          \n",
      "==============================================================================\n",
      "Dep. Variable:     energy_consumption   Pseudo R-squared:               0.5683\n",
      "Model:                       QuantReg   Bandwidth:                      0.6127\n",
      "Method:                 Least Squares   Sparsity:                        11.22\n",
      "Date:                Mon, 27 Nov 2023   No. Observations:                43080\n",
      "Time:                        10:09:49   Df Residuals:                    43072\n",
      "                                        Df Model:                            7\n",
      "=========================================================================================\n",
      "                            coef    std err          t      P>|t|      [0.025      0.975]\n",
      "-----------------------------------------------------------------------------------------\n",
      "const                   252.3250      3.613     69.836      0.000     245.243     259.407\n",
      "winter                    6.2463      0.054    115.440      0.000       6.140       6.352\n",
      "high_consumption_time    15.5320      0.065    237.671      0.000      15.404      15.660\n",
      "transition_time           8.3938      0.080    104.689      0.000       8.237       8.551\n",
      "sturday                  -8.5613      0.078   -109.204      0.000      -8.715      -8.408\n",
      "sunday                  -11.4970      0.078   -146.651      0.000     -11.651     -11.343\n",
      "holiday                 -11.6980      0.173    -67.634      0.000     -12.037     -11.359\n",
      "population               -2.4718      0.043    -57.269      0.000      -2.556      -2.387\n",
      "=========================================================================================\n",
      "\n",
      "The condition number is large, 1.12e+04. This might indicate that there are\n",
      "strong multicollinearity or other numerical problems.\n"
     ]
    },
    {
     "name": "stderr",
     "output_type": "stream",
     "text": [
      "/Users/elias/Desktop/PTSFC/venv/lib/python3.9/site-packages/statsmodels/regression/quantile_regression.py:191: IterationLimitWarning: Maximum number of iterations (1000) reached.\n",
      "  warnings.warn(\"Maximum number of iterations (\" + str(max_iter) +\n"
     ]
    },
    {
     "data": {
      "text/plain": "        forecast_date     q0.025      q0.25       q0.5      q0.75     q0.975  \\\n0 2023-11-24 12:00:00  54.271247  62.169261  65.038251  67.888068  74.113255   \n1 2023-11-24 16:00:00  54.271247  62.169261  65.038251  67.888068  74.113255   \n2 2023-11-24 20:00:00  47.252496  54.352531  57.900078  60.983326  67.685497   \n3 2023-11-25 12:00:00  46.933497  53.300490  56.476989  59.629191  66.160755   \n4 2023-11-25 16:00:00  46.933497  53.300490  56.476989  59.629191  66.160755   \n5 2023-11-25 20:00:00  39.914746  45.483761  49.338816  52.724449  59.732997   \n\n   horizon  target  \n0  36 hour  energy  \n1  40 hour  energy  \n2  44 hour  energy  \n3  60 hour  energy  \n4  64 hour  energy  \n5  68 hour  energy  ",
      "text/html": "<div>\n<style scoped>\n    .dataframe tbody tr th:only-of-type {\n        vertical-align: middle;\n    }\n\n    .dataframe tbody tr th {\n        vertical-align: top;\n    }\n\n    .dataframe thead th {\n        text-align: right;\n    }\n</style>\n<table border=\"1\" class=\"dataframe\">\n  <thead>\n    <tr style=\"text-align: right;\">\n      <th></th>\n      <th>forecast_date</th>\n      <th>q0.025</th>\n      <th>q0.25</th>\n      <th>q0.5</th>\n      <th>q0.75</th>\n      <th>q0.975</th>\n      <th>horizon</th>\n      <th>target</th>\n    </tr>\n  </thead>\n  <tbody>\n    <tr>\n      <th>0</th>\n      <td>2023-11-24 12:00:00</td>\n      <td>54.271247</td>\n      <td>62.169261</td>\n      <td>65.038251</td>\n      <td>67.888068</td>\n      <td>74.113255</td>\n      <td>36 hour</td>\n      <td>energy</td>\n    </tr>\n    <tr>\n      <th>1</th>\n      <td>2023-11-24 16:00:00</td>\n      <td>54.271247</td>\n      <td>62.169261</td>\n      <td>65.038251</td>\n      <td>67.888068</td>\n      <td>74.113255</td>\n      <td>40 hour</td>\n      <td>energy</td>\n    </tr>\n    <tr>\n      <th>2</th>\n      <td>2023-11-24 20:00:00</td>\n      <td>47.252496</td>\n      <td>54.352531</td>\n      <td>57.900078</td>\n      <td>60.983326</td>\n      <td>67.685497</td>\n      <td>44 hour</td>\n      <td>energy</td>\n    </tr>\n    <tr>\n      <th>3</th>\n      <td>2023-11-25 12:00:00</td>\n      <td>46.933497</td>\n      <td>53.300490</td>\n      <td>56.476989</td>\n      <td>59.629191</td>\n      <td>66.160755</td>\n      <td>60 hour</td>\n      <td>energy</td>\n    </tr>\n    <tr>\n      <th>4</th>\n      <td>2023-11-25 16:00:00</td>\n      <td>46.933497</td>\n      <td>53.300490</td>\n      <td>56.476989</td>\n      <td>59.629191</td>\n      <td>66.160755</td>\n      <td>64 hour</td>\n      <td>energy</td>\n    </tr>\n    <tr>\n      <th>5</th>\n      <td>2023-11-25 20:00:00</td>\n      <td>39.914746</td>\n      <td>45.483761</td>\n      <td>49.338816</td>\n      <td>52.724449</td>\n      <td>59.732997</td>\n      <td>68 hour</td>\n      <td>energy</td>\n    </tr>\n  </tbody>\n</table>\n</div>"
     },
     "execution_count": 7,
     "metadata": {},
     "output_type": "execute_result"
    }
   ],
   "source": [
    "\n",
    "\n",
    "from Energy.Models import Model4\n",
    "from importlib import reload\n",
    "# from HelpFunctions import mix_models as mms\n",
    "reload(Model4)\n",
    "\n",
    "\n",
    "\n",
    "Model4.model4(df)"
   ],
   "metadata": {
    "collapsed": false,
    "ExecuteTime": {
     "end_time": "2023-11-27T09:09:53.380073Z",
     "start_time": "2023-11-27T09:09:48.683994Z"
    }
   },
   "id": "c40329a3f0bdaf42"
  },
  {
   "cell_type": "code",
   "execution_count": 14,
   "outputs": [
    {
     "name": "stdout",
     "output_type": "stream",
     "text": [
      "{'country': DE, 'expand': True, 'language': None, 'market': None, 'observed': True, 'subdiv': None, 'years': set()}\n"
     ]
    }
   ],
   "source": [
    "import holidays\n",
    "\n",
    "holidays_de = holidays.DE()\n",
    "print(holidays_de)"
   ],
   "metadata": {
    "collapsed": false,
    "ExecuteTime": {
     "end_time": "2023-11-26T11:39:36.399654Z",
     "start_time": "2023-11-26T11:39:36.395181Z"
    }
   },
   "id": "e74475c6e441a635"
  },
  {
   "cell_type": "code",
   "execution_count": null,
   "outputs": [],
   "source": [],
   "metadata": {
    "collapsed": false
   },
   "id": "136f6a1d35a7d577"
  }
 ],
 "metadata": {
  "kernelspec": {
   "display_name": "Python 3",
   "language": "python",
   "name": "python3"
  },
  "language_info": {
   "codemirror_mode": {
    "name": "ipython",
    "version": 2
   },
   "file_extension": ".py",
   "mimetype": "text/x-python",
   "name": "python",
   "nbconvert_exporter": "python",
   "pygments_lexer": "ipython2",
   "version": "2.7.6"
  }
 },
 "nbformat": 4,
 "nbformat_minor": 5
}
