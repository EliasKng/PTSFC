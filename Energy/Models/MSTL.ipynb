{
 "cells": [
  {
   "cell_type": "code",
   "execution_count": null,
   "id": "initial_id",
   "metadata": {
    "collapsed": true
   },
   "outputs": [],
   "source": [
    "import numpy as np\n",
    "import pandas as pd\n",
    "import matplotlib.pyplot as plt\n",
    "from pmdarima import auto_arima\n",
    "# Generate synthetic time series data with daily seasonality\n",
    "np.random.seed(42)\n",
    "n = 365  # Number of data points\n",
    "t = np.arange(n)\n",
    "seasonality = 7  # Weekly seasonality\n",
    "data = 50 + 10 * np.sin(2 * np.pi * t / seasonality) + np.random.normal(0, 5, n)\n",
    "\n",
    "# Convert the data to a pandas DataFrame\n",
    "df = pd.DataFrame({'Date': pd.date_range(start='2020-01-01', periods=n), 'Value': data})\n",
    "df.set_index('Date', inplace=True)\n",
    "\n",
    "# Create Fourier terms for weekly seasonality\n",
    "def create_fourier_terms(t, period, num_terms):\n",
    "    terms = []\n",
    "    for i in range(1, num_terms + 1):\n",
    "        terms.append(np.sin(2 * np.pi * i * t / period))\n",
    "        terms.append(np.cos(2 * np.pi * i * t / period))\n",
    "    return np.column_stack(terms)\n",
    "\n",
    "num_fourier_terms = 4\n",
    "fourier_terms = create_fourier_terms(t, seasonality, num_fourier_terms)\n",
    "\n",
    "print(fourier_terms)\n",
    "\n",
    "# Fit the ARIMA model using pmdarima's auto_arima with Fourier terms as exogenous variables\n",
    "model = auto_arima(df['Value'],exogenous=fourier_terms[:n], seasonal=True, suppress_warnings=True)\n",
    "model.fit(df['Value'], exogenous=fourier_terms[:n])\n",
    "\n",
    "# Forecast future values with the fitted model\n",
    "forecast_steps =30\n",
    "forecast_exog = create_fourier_terms(np.arange(n, n + forecast_steps), seasonality, num_fourier_terms)\n",
    "\n",
    "# Get the forecast for the future steps with exogenous variables\n",
    "forecast_df = pd.DataFrame(forecast_exog, columns=[f'Fourier_{i+1}' for i in range(num_fourier_terms * 2)])\n",
    "#forecast_values = model.predict(n_periods=forecast_steps)\n",
    "forecast_values = model.predict(n_periods=forecast_steps, exogenous=forecast_df)\n",
    "\n",
    "# Retrieve the index for forecasting\n",
    "forecast_index = pd.date_range(start='2021-01-01', periods=forecast_steps)\n",
    "\n",
    "# Plot the original data and the forecasted values\n",
    "plt.figure(figsize=(10, 5))\n",
    "plt.plot(df.index, df['Value'], label='Original Data')\n",
    "plt.plot(forecast_index, forecast_values, label='Forecasted Values', color='red')\n",
    "plt.xlabel('Date')\n",
    "plt.ylabel('Value')\n",
    "plt.title('ARIMA with Fourier Terms Forecast')\n",
    "plt.legend()\n",
    "plt.show()"
   ]
  },
  {
   "cell_type": "markdown",
   "source": [
    "# Seasonal-Trend decomposition using LOESS (STL)"
   ],
   "metadata": {
    "collapsed": false
   },
   "id": "90efc241741dec1d"
  },
  {
   "cell_type": "code",
   "execution_count": null,
   "outputs": [],
   "source": [
    "import numpy as np\n",
    "\n",
    "rs = np.random.RandomState(0xA4FD94BC)\n",
    "tau = 2000\n",
    "t = np.arange(tau)\n",
    "period = int(0.05 * tau)\n",
    "seasonal = period + ((period % 2) == 0)  # Ensure odd\n",
    "e = 0.25 * rs.standard_normal(tau)\n",
    "y = np.cos(t / tau * 2 * np.pi) + 0.25 * np.sin(t / period * 2 * np.pi) + e\n",
    "plt.plot(y)\n",
    "plt.title(\"Simulated Data\")\n",
    "xlim = plt.gca().set_xlim(0, tau)"
   ],
   "metadata": {
    "collapsed": false
   },
   "id": "d38a4983029d7f72"
  },
  {
   "cell_type": "code",
   "execution_count": null,
   "outputs": [],
   "source": [
    "\n",
    "from statsmodels.tsa.stl._stl import STL\n",
    "\n",
    "mod = STL(y, period=period, seasonal=seasonal)\n",
    "%timeit mod.fit()\n",
    "res = mod.fit()\n",
    "fig = res.plot(observed=False, resid=False)"
   ],
   "metadata": {
    "collapsed": false
   },
   "id": "2632c65052989e3c"
  },
  {
   "cell_type": "code",
   "execution_count": null,
   "outputs": [],
   "source": [
    "res"
   ],
   "metadata": {
    "collapsed": false
   },
   "id": "3493e7f338946a0d"
  },
  {
   "cell_type": "markdown",
   "source": [
    "# Multiple Seasonal-Trend decomposition using LOESS (MSTL)"
   ],
   "metadata": {
    "collapsed": false
   },
   "id": "931c017811070a4"
  },
  {
   "cell_type": "code",
   "execution_count": null,
   "outputs": [],
   "source": [
    "import matplotlib.pyplot as plt\n",
    "import datetime\n",
    "import pandas as pd\n",
    "import numpy as np\n",
    "import seaborn as sns\n",
    "from pandas.plotting import register_matplotlib_converters\n",
    "\n",
    "from statsmodels.tsa.seasonal import MSTL\n",
    "from statsmodels.tsa.seasonal import DecomposeResult\n",
    "\n",
    "register_matplotlib_converters()\n",
    "sns.set_style(\"darkgrid\")"
   ],
   "metadata": {
    "collapsed": false
   },
   "id": "c75616c9f03bcc3e"
  },
  {
   "cell_type": "code",
   "execution_count": null,
   "outputs": [],
   "source": [
    "plt.rc(\"figure\", figsize=(16, 12))\n",
    "plt.rc(\"font\", size=13)"
   ],
   "metadata": {
    "collapsed": false
   },
   "id": "659f347a901b4244"
  },
  {
   "cell_type": "code",
   "execution_count": null,
   "outputs": [],
   "source": [
    "t = np.arange(1, 1000)\n",
    "daily_seasonality = 5 * np.sin(2 * np.pi * t / 24)\n",
    "weekly_seasonality = 10 * np.sin(2 * np.pi * t / (24 * 7))\n",
    "trend = 0.0001 * t**2\n",
    "y = trend + daily_seasonality + weekly_seasonality + np.random.randn(len(t))\n",
    "ts = pd.date_range(start=\"2020-01-01\", freq=\"H\", periods=len(t))\n",
    "df = pd.DataFrame(data=y, index=ts, columns=[\"y\"])"
   ],
   "metadata": {
    "collapsed": false
   },
   "id": "d540db17e60f19c2"
  },
  {
   "cell_type": "code",
   "execution_count": null,
   "outputs": [],
   "source": [
    "df.head()\n"
   ],
   "metadata": {
    "collapsed": false
   },
   "id": "be2933f5e3de7856"
  },
  {
   "cell_type": "code",
   "execution_count": null,
   "outputs": [],
   "source": [
    "df[\"y\"].plot(figsize=[10, 5])\n"
   ],
   "metadata": {
    "collapsed": false
   },
   "id": "d5273c268c7df3f0"
  },
  {
   "cell_type": "code",
   "execution_count": null,
   "outputs": [],
   "source": [
    "\n",
    "mstl = MSTL(df[\"y\"], periods=[24, 24 * 7])\n",
    "res = mstl.fit()"
   ],
   "metadata": {
    "collapsed": false
   },
   "id": "170ab9e7d308d7ed"
  },
  {
   "cell_type": "code",
   "execution_count": null,
   "outputs": [],
   "source": [
    "res.seasonal.head()\n"
   ],
   "metadata": {
    "collapsed": false
   },
   "id": "fd1c17add8333993"
  },
  {
   "cell_type": "code",
   "execution_count": null,
   "outputs": [],
   "source": [
    "ax = res.plot()\n"
   ],
   "metadata": {
    "collapsed": false
   },
   "id": "8b1ca4cd47f2656c"
  },
  {
   "cell_type": "code",
   "execution_count": null,
   "outputs": [],
   "source": [],
   "metadata": {
    "collapsed": false
   },
   "id": "4a8715550542b25c"
  },
  {
   "cell_type": "markdown",
   "source": [
    "# MSTL Using Energy data (Australia)"
   ],
   "metadata": {
    "collapsed": false
   },
   "id": "b34c5d800517ac7a"
  },
  {
   "cell_type": "code",
   "execution_count": null,
   "outputs": [],
   "source": [
    "url = \"https://raw.githubusercontent.com/tidyverts/tsibbledata/master/data-raw/vic_elec/VIC2015/demand.csv\"\n",
    "df = pd.read_csv(url)"
   ],
   "metadata": {
    "collapsed": false
   },
   "id": "cb9e9da7509bb1f3"
  },
  {
   "cell_type": "code",
   "execution_count": null,
   "outputs": [],
   "source": [
    "\n",
    "df.head()"
   ],
   "metadata": {
    "collapsed": false
   },
   "id": "d38950cebb00142b"
  },
  {
   "cell_type": "code",
   "execution_count": null,
   "outputs": [],
   "source": [
    "df[\"Date\"] = df[\"Date\"].apply(lambda x: pd.Timestamp(\"1899-12-30\") + pd.Timedelta(x, unit=\"days\"))\n",
    "df[\"ds\"] = df[\"Date\"] + pd.to_timedelta((df[\"Period\"]-1)*30, unit=\"m\")\n"
   ],
   "metadata": {
    "collapsed": false
   },
   "id": "e176af414ef985c"
  },
  {
   "cell_type": "code",
   "execution_count": null,
   "outputs": [],
   "source": [
    "timeseries = df[[\"ds\", \"OperationalLessIndustrial\"]]\n",
    "timeseries.columns = [\"ds\", \"y\"] # Rename to OperationalLessIndustrial to y for simplicity.\n",
    "\n",
    "# Filter for first 149 days of 2012.\n",
    "start_date = pd.to_datetime(\"2012-01-01\")\n",
    "end_date = start_date + pd.Timedelta(\"149D\")\n",
    "mask = (timeseries[\"ds\"] >= start_date) & (timeseries[\"ds\"] < end_date)\n",
    "timeseries = timeseries[mask]\n",
    "\n",
    "# Resample to hourly\n",
    "timeseries = timeseries.set_index(\"ds\").resample(\"H\").sum()\n",
    "timeseries.head()\n"
   ],
   "metadata": {
    "collapsed": false
   },
   "id": "a6b35f02101cb8d6"
  },
  {
   "cell_type": "code",
   "execution_count": null,
   "outputs": [],
   "source": [
    "mstl = MSTL(timeseries[\"y\"], periods=[24, 24 * 7], iterate=3, stl_kwargs={\"seasonal_deg\": 0,\n",
    "                                                                          \"inner_iter\": 2,\n",
    "                                                                          \"outer_iter\": 0})\n",
    "res = mstl.fit() # Use .fit() to perform and return the decomposition\n",
    "ax = res.plot()\n",
    "plt.tight_layout()\n"
   ],
   "metadata": {
    "collapsed": false
   },
   "id": "40a3c4ff02ecdf0e"
  },
  {
   "cell_type": "code",
   "execution_count": null,
   "outputs": [],
   "source": [
    "res.seasonal"
   ],
   "metadata": {
    "collapsed": false
   },
   "id": "ac4664829ae58eca"
  },
  {
   "cell_type": "markdown",
   "source": [
    "# Doing the same for out energy data"
   ],
   "metadata": {
    "collapsed": false
   },
   "id": "975811acbe3b7dcc"
  },
  {
   "cell_type": "code",
   "execution_count": null,
   "outputs": [],
   "source": [
    "from Energy.HelpFunctions.get_energy_data import fetch_energy_data\n",
    "\n",
    "# fetch_energy_data()"
   ],
   "metadata": {
    "collapsed": false
   },
   "id": "b1983e514fe92bf9"
  },
  {
   "cell_type": "code",
   "execution_count": null,
   "outputs": [],
   "source": [
    "from Energy.HelpFunctions.get_energy_data import get_energy_data, prepare_data\n",
    "import matplotlib.pyplot as plt\n",
    "import datetime\n",
    "import pandas as pd\n",
    "import numpy as np\n",
    "import seaborn as sns\n",
    "from pandas.plotting import register_matplotlib_converters\n",
    "\n",
    "from statsmodels.tsa.seasonal import MSTL\n",
    "\n",
    "df = get_energy_data()\n",
    "df = prepare_data(df)\n",
    "\n",
    "start_date = pd.to_datetime(\"2020-01-01\")\n",
    "end_date = pd.to_datetime(\"2023-12-31\")\n",
    "\n",
    "mask = (df.index >= start_date) & (df.index < end_date)\n",
    "df = df[mask]"
   ],
   "metadata": {
    "collapsed": false
   },
   "id": "f1985213b01e1515"
  },
  {
   "cell_type": "code",
   "execution_count": null,
   "outputs": [],
   "source": [
    "df"
   ],
   "metadata": {
    "collapsed": false
   },
   "id": "b1a4b7403a536fb5"
  },
  {
   "cell_type": "code",
   "execution_count": null,
   "outputs": [],
   "source": [
    "mstl = MSTL(df['gesamt'], periods=[24, 24 * 7], iterate=3)\n",
    "res = mstl.fit() # Use .fit() to perform and return the decomposition\n",
    "ax = res.plot()\n",
    "plt.tight_layout()\n",
    "plt.savefig(f'../plots/MSLT.png')\n",
    "plt.show()"
   ],
   "metadata": {
    "collapsed": false
   },
   "id": "c55fdc4ae3e82a48"
  },
  {
   "cell_type": "code",
   "execution_count": null,
   "outputs": [],
   "source": [
    "object_methods = [f'{method_name}: {callable(getattr(res, method_name))}' for method_name in dir(res)]"
   ],
   "metadata": {
    "collapsed": false
   },
   "id": "80860fb2cd5cecaa"
  },
  {
   "cell_type": "code",
   "execution_count": null,
   "outputs": [],
   "source": [
    "object_methods"
   ],
   "metadata": {
    "collapsed": false
   },
   "id": "d076243ad98a95ef"
  },
  {
   "cell_type": "code",
   "execution_count": null,
   "outputs": [],
   "source": [
    "res.trend"
   ],
   "metadata": {
    "collapsed": false
   },
   "id": "c8edf92f26c9025a"
  },
  {
   "cell_type": "code",
   "execution_count": null,
   "outputs": [],
   "source": [
    "mstl.forecast()"
   ],
   "metadata": {
    "collapsed": false
   },
   "id": "d12b7418661ea573"
  },
  {
   "cell_type": "code",
   "execution_count": null,
   "outputs": [],
   "source": [
    "from statistics import mean\n",
    "\n",
    "mean(res.resid)"
   ],
   "metadata": {
    "collapsed": false
   },
   "id": "d1d811419ebd4f8c"
  },
  {
   "cell_type": "code",
   "execution_count": null,
   "outputs": [],
   "source": [
    "plt.plot(res.trend[-5000:])"
   ],
   "metadata": {
    "collapsed": false
   },
   "id": "bbb7f3e52cd4f53d"
  },
  {
   "cell_type": "code",
   "execution_count": null,
   "outputs": [],
   "source": [
    "d = pd.DataFrame(res.seasonal.seasonal_24[-500:] + res.seasonal.seasonal_168[-500:] + res.trend[-500:])\n",
    "d.columns = ['24p168_trend']\n",
    "d['weekly'] = res.seasonal.seasonal_168[-500:]\n",
    "d['trend'] = res.trend\n",
    "d['obs'] = df\n",
    "plt.plot(d)"
   ],
   "metadata": {
    "collapsed": false
   },
   "id": "7ba25717bdf7ec3b"
  },
  {
   "cell_type": "code",
   "execution_count": null,
   "outputs": [],
   "source": [
    "d"
   ],
   "metadata": {
    "collapsed": false
   },
   "id": "32a9bef21ebf7a7"
  },
  {
   "cell_type": "code",
   "execution_count": null,
   "outputs": [],
   "source": [
    "# plt.plot(res.resid)\n",
    "\n",
    "sns.kdeplot(res.resid)"
   ],
   "metadata": {
    "collapsed": false
   },
   "id": "3854af9ce891f1a8"
  },
  {
   "cell_type": "markdown",
   "source": [
    "# Forecast using STL"
   ],
   "metadata": {
    "collapsed": false
   },
   "id": "9130718d7657b451"
  },
  {
   "cell_type": "code",
   "execution_count": null,
   "outputs": [],
   "source": [
    "from sktime.datasets import load_airline\n",
    "from sktime.forecasting.statsforecast import StatsForecastMSTL"
   ],
   "metadata": {
    "collapsed": false
   },
   "id": "178e729b41e74e79"
  },
  {
   "cell_type": "code",
   "execution_count": null,
   "outputs": [],
   "source": [
    "import pandas as pd\n",
    "from datetime import timedelta\n",
    "\n",
    "# Trainind Data start date\n",
    "start_date = pd.to_datetime(\"2021-01-01\")\n",
    "\n",
    "# Define the thursdays (after the forecast wednesday). It will then be the end date of the training data\n",
    "end_dates = [\"2022-03-24\",\"2022-03-17\",\"2022-03-10\",\"2022-03-03\",\"2022-02-24\",\"2022-02-17\",\"2022-02-10\",\"2022-02-03\",\"2022-01-27\",\"2022-01-20\",\"2022-01-13\",\"2022-01-06\",\"2023-03-23\",\"2023-03-16\",\"2023-03-09\",\"2023-03-02\",\"2023-02-23\",\"2023-02-16\",\"2023-02-09\",\"2023-02-02\",\"2023-01-26\",\"2022-01-20\",\"2023-01-12\",\"2023-01-05\"]\n",
    "\n",
    "residuals = []\n",
    "\n",
    "for end_date in end_dates:\n",
    "    end_date = pd.to_datetime(end_date)\n",
    "    mask = (df.index >= start_date) & (df.index < end_date)\n",
    "    y = df[mask]\n",
    "    model = StatsForecastMSTL(season_length=[24,24*7, 24*364]) \n",
    "    fitted_model = model.fit(y=y) \n",
    "    \n",
    "    y_pred = fitted_model.predict(fh=[i for i in range(1,73)]) \n",
    "    \n",
    "    \n",
    "    start_date_obs = end_date\n",
    "    end_date_obs = start_date_obs + timedelta(days=3)\n",
    "    \n",
    "    mask = (df.index >= start_date_obs) & (df.index < end_date_obs)\n",
    "    obs = df[mask]\n",
    "    \n",
    "    \n",
    "    import matplotlib.pyplot as plt\n",
    "    # y.index = y.index.to_timestamp()\n",
    "    plt.plot(y, color='blue', label='Training')\n",
    "    \n",
    "    plt.plot(obs, color='green', label='Observation')\n",
    "    plt.plot(y_pred, color='orange', label='Prediction')\n",
    "    plt.legend()\n",
    "    plt.xticks(rotation=45)\n",
    "    plt.xlim(pd.to_datetime(end_date-timedelta(days=2)),pd.to_datetime(end_date+timedelta(days=5)))\n",
    "    plt.show()\n",
    "    \n",
    "    res = obs - y_pred\n",
    "    \n",
    "    residuals.append(res)\n",
    "    \n",
    "    \n"
   ],
   "metadata": {
    "collapsed": false
   },
   "id": "da1a627fee318cca"
  },
  {
   "cell_type": "code",
   "execution_count": null,
   "outputs": [],
   "source": [
    "res_one_arr = pd.DataFrame()\n",
    "for res in residuals:\n",
    "    res_one_arr = pd.concat([res_one_arr, res])\n",
    "# print(residuals_one_array)\n",
    "\n",
    "sns.kdeplot(res_one_arr, fill=True)"
   ],
   "metadata": {
    "collapsed": false
   },
   "id": "1359ec4219d92a7c"
  },
  {
   "cell_type": "code",
   "execution_count": null,
   "outputs": [],
   "source": [
    "import pandas as pd\n",
    "from datetime import timedelta\n",
    "\n",
    "# Trainind Data start date\n",
    "start_date = pd.to_datetime(\"2020-01-01\")\n",
    "\n",
    "# Define the thursdays (after the forecast wednesday). It will then be the end date of the training data\n",
    "end_dates = [\"2023-03-23\",\"2023-03-16\",\"2023-03-09\",\"2023-03-02\",\"2023-02-23\",\"2023-02-16\",\"2023-02-09\",\"2023-02-02\",\"2023-01-26\",\"2022-01-20\",\"2023-01-12\",\"2023-01-05\"]\n",
    "\n",
    "residuals = []\n",
    "\n",
    "for end_date in end_dates:\n",
    "    end_date = pd.to_datetime(end_date)\n",
    "    mask = (df.index >= start_date) & (df.index < end_date)\n",
    "    y = df[mask]\n",
    "    model = StatsForecastMSTL(season_length=[24,24*7]) \n",
    "    fitted_model = model.fit(y=y) \n",
    "    \n",
    "    y_pred = fitted_model.predict(fh=[i for i in range(1,73)]) \n",
    "    \n",
    "    \n",
    "    start_date_obs = end_date\n",
    "    end_date_obs = start_date_obs + timedelta(days=3)\n",
    "    \n",
    "    mask = (df.index >= start_date_obs) & (df.index < end_date_obs)\n",
    "    obs = df[mask]\n",
    "    \n",
    "    \n",
    "    import matplotlib.pyplot as plt\n",
    "    # y.index = y.index.to_timestamp()\n",
    "    plt.plot(y, color='blue', label='Training')\n",
    "    \n",
    "    plt.plot(obs, color='green', label='Observation')\n",
    "    plt.plot(y_pred, color='orange', label='Prediction')\n",
    "    plt.legend()\n",
    "    plt.xticks(rotation=45)\n",
    "    plt.xlim(pd.to_datetime(end_date-timedelta(days=2)),pd.to_datetime(end_date+timedelta(days=5)))\n",
    "    plt.show()\n",
    "    \n",
    "    res = obs - y_pred\n",
    "    \n",
    "    residuals.append(res)\n",
    "    \n",
    "    \n"
   ],
   "metadata": {
    "collapsed": false
   },
   "id": "58392da1ae32fc21"
  },
  {
   "cell_type": "code",
   "execution_count": null,
   "outputs": [],
   "source": [
    "res_one_arr_2022 = res_one_arr\n"
   ],
   "metadata": {
    "collapsed": false
   },
   "id": "5d95ccd01de59a18"
  },
  {
   "cell_type": "code",
   "execution_count": null,
   "outputs": [],
   "source": [
    "print(res_one_arr.mean())\n",
    "print(res_one_arr.var())"
   ],
   "metadata": {
    "collapsed": false
   },
   "id": "cc1decd9f6ac8fb2"
  },
  {
   "cell_type": "code",
   "execution_count": null,
   "outputs": [],
   "source": [
    "y_pred2 = fitted_model.predict_quantiles(fh=[i for i in range(1,90)]) "
   ],
   "metadata": {
    "collapsed": false
   },
   "id": "c31fc2893829977b"
  },
  {
   "cell_type": "code",
   "execution_count": null,
   "outputs": [],
   "source": [
    "print(y_pred.loc[\"2023-12-08\"])"
   ],
   "metadata": {
    "collapsed": false
   },
   "id": "c322992573e07369"
  },
  {
   "cell_type": "code",
   "execution_count": null,
   "outputs": [],
   "source": [
    "print(obs.loc[\"2023-12-08\"])"
   ],
   "metadata": {
    "collapsed": false
   },
   "id": "ee6f827f023b650f"
  },
  {
   "cell_type": "code",
   "execution_count": null,
   "outputs": [],
   "source": [
    "model.predict_residuals(fh=[i for i in range(1,500)])"
   ],
   "metadata": {
    "collapsed": false
   },
   "id": "825f5e0838bb71f1"
  },
  {
   "cell_type": "code",
   "execution_count": null,
   "outputs": [],
   "source": [
    "model.residuals_"
   ],
   "metadata": {
    "collapsed": false
   },
   "id": "7c9ea85215b80fff"
  },
  {
   "cell_type": "code",
   "execution_count": null,
   "outputs": [],
   "source": [
    "object_methods = [method_name for method_name in dir(model)]"
   ],
   "metadata": {
    "collapsed": false
   },
   "id": "f6d4d15c34e8f14a"
  },
  {
   "cell_type": "code",
   "execution_count": null,
   "outputs": [],
   "source": [
    "object_methods"
   ],
   "metadata": {
    "collapsed": false
   },
   "id": "18bb401766546bf5"
  },
  {
   "cell_type": "code",
   "execution_count": null,
   "outputs": [],
   "source": [
    "model.predict_residuals(y)"
   ],
   "metadata": {
    "collapsed": false
   },
   "id": "94d4b8b861811b04"
  },
  {
   "cell_type": "code",
   "execution_count": null,
   "outputs": [],
   "source": [
    "import seaborn as sns\n",
    "sns.kdeplot(data=model.predict_residuals(y), fill=True)"
   ],
   "metadata": {
    "collapsed": false
   },
   "id": "ffc198ce5d3c0eaf"
  },
  {
   "cell_type": "code",
   "execution_count": null,
   "outputs": [],
   "source": [
    "from statistics import mean, median\n",
    "mean(model.predict_residuals(y)['gesamt'])"
   ],
   "metadata": {
    "collapsed": false
   },
   "id": "e509f118709455a"
  },
  {
   "cell_type": "code",
   "execution_count": null,
   "outputs": [],
   "source": [
    "residuals = model.predict_residuals(y)"
   ],
   "metadata": {
    "collapsed": false
   },
   "id": "c89e50adfe0583fc"
  },
  {
   "cell_type": "code",
   "execution_count": null,
   "outputs": [],
   "source": [
    "from scipy.stats import norm\n",
    "\n",
    "mean, std_dev = norm.fit(residuals)"
   ],
   "metadata": {
    "collapsed": false
   },
   "id": "eedd052fd5916353"
  },
  {
   "cell_type": "code",
   "execution_count": null,
   "outputs": [],
   "source": [
    "import numpy as np\n",
    "quantiles = np.quantile(residuals, [.025, .25, .5, .75, .975])"
   ],
   "metadata": {
    "collapsed": false
   },
   "id": "b872cfe89c33b37b"
  },
  {
   "cell_type": "code",
   "execution_count": null,
   "outputs": [],
   "source": [
    "quantiles"
   ],
   "metadata": {
    "collapsed": false
   },
   "id": "d086f1f70b0a1c90"
  },
  {
   "cell_type": "markdown",
   "source": [
    "Calculate residuals manually"
   ],
   "metadata": {
    "collapsed": false
   },
   "id": "f42a678b81e67123"
  },
  {
   "cell_type": "code",
   "execution_count": null,
   "outputs": [],
   "source": [
    "residuals = obs - y_pred\n",
    "sns.kdeplot(residuals, fill=True)"
   ],
   "metadata": {
    "collapsed": false
   },
   "id": "1ca1cac4c0bc531c"
  },
  {
   "cell_type": "markdown",
   "source": [
    "They look much better than the \"predicted\" residuals. Lets use them instead."
   ],
   "metadata": {
    "collapsed": false
   },
   "id": "72554c71d90e32ac"
  }
 ],
 "metadata": {
  "kernelspec": {
   "display_name": "Python 3",
   "language": "python",
   "name": "python3"
  },
  "language_info": {
   "codemirror_mode": {
    "name": "ipython",
    "version": 2
   },
   "file_extension": ".py",
   "mimetype": "text/x-python",
   "name": "python",
   "nbconvert_exporter": "python",
   "pygments_lexer": "ipython2",
   "version": "2.7.6"
  }
 },
 "nbformat": 4,
 "nbformat_minor": 5
}
