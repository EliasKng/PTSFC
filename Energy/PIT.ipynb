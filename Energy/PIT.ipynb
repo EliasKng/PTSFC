{
 "cells": [
  {
   "cell_type": "markdown",
   "source": [
    "# Probability integral transform (PIT) Histogram"
   ],
   "metadata": {
    "collapsed": false
   },
   "id": "1b3dea707758b7aa"
  },
  {
   "cell_type": "markdown",
   "source": [
    "Get observation & forecast data"
   ],
   "metadata": {
    "collapsed": false
   },
   "id": "6f4b377c766a989e"
  },
  {
   "cell_type": "code",
   "execution_count": 46,
   "outputs": [],
   "source": [
    "import pandas as pd\n",
    "import pickle\n",
    "import matplotlib.pyplot as plt\n",
    "import seaborn as sns\n",
    "from Energy.HelpFunctions.get_energy_data import get_energy_data, prepare_data\n",
    "from HelpFunctions.date_and_time import most_recent_thursday, split_time\n",
    "from Energy.Models.baseline import baseline\n",
    "from HelpFunctions.calc_score import evaluate_horizon\n",
    "from HelpFunctions.mix_models import mix_models\n",
    "from Energy.Models.Model1 import model1\n",
    "from Energy.Models.Model2 import model2\n",
    "from Energy.Models.Model4_population import model4_population\n",
    "from Energy.Models.Model4 import model4\n",
    "from Energy.Models.Model3 import model3\n",
    "from Energy.Models.Model5 import model5\n",
    "from Energy.Models.Model4_holidays_2 import model4_holidays_2\n",
    "from Energy.Models.Model4_sunhours import model4_sunhours\n",
    "# import importlib\n",
    "# importlib.reload(Energy.Models)"
   ],
   "metadata": {
    "collapsed": false,
    "ExecuteTime": {
     "end_time": "2024-03-16T10:27:18.178017Z",
     "start_time": "2024-03-16T10:27:18.112998Z"
    }
   },
   "id": "995696e344fffc3b"
  },
  {
   "cell_type": "code",
   "execution_count": 47,
   "outputs": [],
   "source": [
    "# from Energy.HelpFunctions.get_energy_data import fetch_energy_data\n",
    "# fetch_energy_data()"
   ],
   "metadata": {
    "collapsed": false,
    "ExecuteTime": {
     "end_time": "2024-03-16T10:27:18.180310Z",
     "start_time": "2024-03-16T10:27:18.116816Z"
    }
   },
   "id": "a5ff2218440a781b"
  },
  {
   "cell_type": "code",
   "execution_count": 48,
   "outputs": [],
   "source": [
    "df = get_energy_data()\n",
    "df = prepare_data(df)"
   ],
   "metadata": {
    "collapsed": false,
    "ExecuteTime": {
     "end_time": "2024-03-16T10:27:18.234101Z",
     "start_time": "2024-03-16T10:27:18.118553Z"
    }
   },
   "id": "6054f3c808c1be91"
  },
  {
   "cell_type": "code",
   "execution_count": 49,
   "outputs": [],
   "source": [
    "start_date_excl = most_recent_thursday(df)\n",
    "df_cval = df.loc[df.index < start_date_excl]"
   ],
   "metadata": {
    "collapsed": false,
    "ExecuteTime": {
     "end_time": "2024-03-16T10:27:18.234302Z",
     "start_time": "2024-03-16T10:27:18.198368Z"
    }
   },
   "id": "3d3b3b79ed4b54bd"
  },
  {
   "cell_type": "markdown",
   "source": [
    "Use cross validate functions to get the data. Cannot import fun"
   ],
   "metadata": {
    "collapsed": false
   },
   "id": "88c82474d3300e0b"
  },
  {
   "cell_type": "code",
   "execution_count": 60,
   "outputs": [],
   "source": [
    "from HelpFunctions.mix_models import mix_models_per_horizon\n",
    "\n",
    "\n",
    "def evaluate_models(models, df, last_x, years =False, months=False, weeks=False):\n",
    "    # Check that exactly one of the boolean parameters is True\n",
    "    if sum([years, months, weeks]) != 1:\n",
    "        raise ValueError(\"Exactly one of the boolean parameters (years, months, weeks) must be True.\")\n",
    "    \n",
    "    years = int(years)\n",
    "    months = int(months)\n",
    "    weeks = int(weeks)\n",
    "        \n",
    "    for m in models:\n",
    "        print(f'*********** Start the evaluation of Model {m[\"name\"]} ***********')\n",
    "        m['evaluation'] = evaluate_model(m, df, last_x, years, months, weeks)\n",
    "        \n",
    "def evaluate_model(model, df, last_x, years, months, weeks):\n",
    "    df_before = df\n",
    "    evaluation = pd.DataFrame()\n",
    "    \n",
    "    for w in range(last_x):\n",
    "        print(f'Iteration {w+1} of {last_x}')\n",
    "        df_before, df_after = split_time(df_before, num_years=years, num_months=months, num_weeks=weeks)        \n",
    "        \n",
    "        pred = None     \n",
    "        # Is mixed model?\n",
    "        if callable(model['function']):\n",
    "            pred = model['function'](df_before)\n",
    "        else:\n",
    "            pred = mix_models(model['function'][0], model['function'][1], df_before, target='DAX')\n",
    "               \n",
    "        \n",
    "        obs = pd.DataFrame({'gesamt': df.loc[pred['forecast_date']][\"gesamt\"]})\n",
    "        pred = pred.set_index('forecast_date')\n",
    "        merged_df = pd.merge(pred, obs, left_index=True, right_index=True) \n",
    "    \n",
    "    \n",
    "         # Add scores to the merged_df\n",
    "        for index, row in merged_df.iterrows():\n",
    "            quantile_preds = row[['q0.025','q0.25','q0.5','q0.75','q0.975']]\n",
    "            observation = row['gesamt']\n",
    "            score = evaluate_horizon(quantile_preds, observation)\n",
    "            merged_df.at[index, 'score'] = score\n",
    "        # print(merged_df[['q0.025','q0.25','q0.5','q0.75','q0.975']])\n",
    "        evaluation = pd.concat([evaluation, merged_df])\n",
    "    return evaluation"
   ],
   "metadata": {
    "collapsed": false,
    "ExecuteTime": {
     "end_time": "2024-03-16T10:36:07.018482Z",
     "start_time": "2024-03-16T10:36:07.012609Z"
    }
   },
   "id": "2cede62502f8c773"
  },
  {
   "cell_type": "code",
   "execution_count": 62,
   "outputs": [
    {
     "name": "stdout",
     "output_type": "stream",
     "text": [
      "*********** Start the evaluation of Model baseline ***********\n",
      "Iteration 0 of 5\n",
      "Iteration 1 of 5\n",
      "Iteration 2 of 5\n",
      "Iteration 3 of 5\n",
      "Iteration 4 of 5\n",
      "*********** Start the evaluation of Model quantile regression v1 ***********\n",
      "Iteration 0 of 5\n",
      "Iteration 1 of 5\n",
      "Iteration 2 of 5\n",
      "Iteration 3 of 5\n",
      "Iteration 4 of 5\n",
      "*********** Start the evaluation of Model quantile regression v5 ***********\n",
      "Iteration 0 of 5\n",
      "Iteration 1 of 5\n",
      "Iteration 2 of 5\n",
      "Iteration 3 of 5\n",
      "Iteration 4 of 5\n",
      "*********** Start the evaluation of Model mstl ***********\n",
      "Iteration 0 of 5\n",
      "Iteration 1 of 5\n",
      "Iteration 2 of 5\n",
      "Iteration 3 of 5\n",
      "Iteration 4 of 5\n",
      "*********** Start the evaluation of Model energy ensemble ***********\n",
      "Iteration 0 of 5\n",
      "Iteration 1 of 5\n",
      "Iteration 2 of 5\n",
      "Iteration 3 of 5\n",
      "Iteration 4 of 5\n"
     ]
    }
   ],
   "source": [
    "from Energy.Models import mstl\n",
    "models = [\n",
    "    {\n",
    "        'name': 'baseline',\n",
    "        'function': baseline\n",
    "     },\n",
    "    {\n",
    "        'name': 'quantile regression v1',\n",
    "        'function': model1\n",
    "     },\n",
    "    {\n",
    "        'name': 'quantile regression v5',\n",
    "        'function': model5\n",
    "     },\n",
    "    {\n",
    "        'name': 'mstl',\n",
    "        'function': mstl.mstl\n",
    "     },\n",
    "    {\n",
    "        'name': 'energy ensemble',\n",
    "        'function': [[mstl.mstl, model5],[1,1]]\n",
    "     },\n",
    "]\n",
    "evaluate_models(models, df_cval, last_x=5, weeks=True)"
   ],
   "metadata": {
    "collapsed": false,
    "ExecuteTime": {
     "end_time": "2024-03-16T10:37:51.027585Z",
     "start_time": "2024-03-16T10:36:33.555868Z"
    }
   },
   "id": "8a08748131d12c85"
  },
  {
   "cell_type": "code",
   "execution_count": 63,
   "outputs": [],
   "source": [
    "# with open('./Model evaluations/big_evaluation.pkl', 'rb') as f:\n",
    "#     models = pickle.load(f)"
   ],
   "metadata": {
    "collapsed": false,
    "ExecuteTime": {
     "end_time": "2024-03-16T10:38:27.821705Z",
     "start_time": "2024-03-16T10:38:27.814394Z"
    }
   },
   "id": "fc60bacf40acc3d5"
  },
  {
   "cell_type": "code",
   "execution_count": 64,
   "outputs": [],
   "source": [
    "import numpy as np\n",
    "\n",
    "\n",
    "model_index = 0\n",
    "results = []\n",
    "\n",
    "for h in ['36 hour', '40 hour', '44 hour', '60 hour', '64 hour', '68 hour']:\n",
    "    results.append(models[model_index]['evaluation'][models[model_index]['evaluation']['horizon'] == h])\n",
    "\n",
    "# results36h = models[0]['evaluation'][models[0]['evaluation']['horizon'] == '36 hour']\n",
    "\n",
    "\n",
    "\n",
    "# results = models[0]['evaluation']\n",
    "\n"
   ],
   "metadata": {
    "collapsed": false,
    "ExecuteTime": {
     "end_time": "2024-03-16T10:38:28.151640Z",
     "start_time": "2024-03-16T10:38:28.148341Z"
    }
   },
   "id": "a00ca5f3b6caea37"
  },
  {
   "cell_type": "markdown",
   "source": [
    "## Create PIT Histogram"
   ],
   "metadata": {
    "collapsed": false
   },
   "id": "3b912687d7b49e4"
  },
  {
   "cell_type": "code",
   "execution_count": 65,
   "outputs": [],
   "source": [
    "import matplotlib.pyplot as plt\n",
    "import numpy as np\n",
    "import string\n",
    "import random\n",
    "import scipy.stats as stats\n",
    "\n",
    "from scipy.stats import uniform\n",
    "\n",
    "for index, r in enumerate(results):\n",
    "    obs = np.array(np.array(r['gesamt']),dtype=float)\n",
    "    forecasts = np.array(np.array(r.loc[:,'q0.025':'q0.975']),dtype=float)\n",
    "\n",
    "    # Example quantile forecasts and observations\n",
    "    quantile_forecasts = forecasts\n",
    "    observations = obs\n",
    "    \n",
    "    # Calculate PIT values\n",
    "    pit_values = np.zeros_like(quantile_forecasts)\n",
    "    \n",
    "    for i in range(quantile_forecasts.shape[1]):\n",
    "        sorted_forecasts = np.sort(quantile_forecasts[:, i])\n",
    "        ecdf_values = np.linspace(0, 1, len(sorted_forecasts))\n",
    "        pit_values[:, i] = np.interp(\n",
    "            quantile_forecasts[:, i], sorted_forecasts, ecdf_values)\n",
    "    \n",
    "    # # Create PIT histogram\n",
    "    # fig, ax = plt.subplots()\n",
    "    # ax.hist(pit_values.flatten(), bins=20, density=True,\n",
    "    #         alpha=0.75, color='blue', edgecolor='black')\n",
    "    # \n",
    "    # # Plot the uniform distribution for reference\n",
    "    # x = np.linspace(0, 1, 100)\n",
    "    # ax.plot(x, uniform.pdf(x), 'r-', lw=2, label='Uniform [0,1]')\n",
    "    # \n",
    "    # ax.set_title('Probability Integral Transform (PIT)')\n",
    "    # ax.set_xlabel('PIT Values')\n",
    "    # ax.set_ylabel('Density')\n",
    "    # ax.legend()\n",
    "    # \n",
    "    \n",
    "    # plt.savefig(f'plots/{index} {\"\".join(random.SystemRandom().choice(string.ascii_uppercase + string.digits) for _ in range(4))}.png')\n",
    "    # plt.show()"
   ],
   "metadata": {
    "collapsed": false,
    "ExecuteTime": {
     "end_time": "2024-03-16T10:38:28.946851Z",
     "start_time": "2024-03-16T10:38:28.941901Z"
    }
   },
   "id": "d1dbfe03a94d707"
  },
  {
   "cell_type": "markdown",
   "source": [
    "### Check Manually"
   ],
   "metadata": {
    "collapsed": false
   },
   "id": "469c3434a6a8c3bb"
  },
  {
   "cell_type": "code",
   "execution_count": 70,
   "outputs": [
    {
     "ename": "AttributeError",
     "evalue": "'list' object has no attribute 'iloc'",
     "output_type": "error",
     "traceback": [
      "\u001B[0;31m---------------------------------------------------------------------------\u001B[0m",
      "\u001B[0;31mAttributeError\u001B[0m                            Traceback (most recent call last)",
      "Cell \u001B[0;32mIn[70], line 19\u001B[0m\n\u001B[1;32m     16\u001B[0m     per_quantile\u001B[38;5;241m.\u001B[39mappend(\u001B[38;5;28mround\u001B[39m((models[model_index][\u001B[38;5;124m'\u001B[39m\u001B[38;5;124mevaluation\u001B[39m\u001B[38;5;124m'\u001B[39m][q] \u001B[38;5;241m>\u001B[39m models[model_index][\u001B[38;5;124m'\u001B[39m\u001B[38;5;124mevaluation\u001B[39m\u001B[38;5;124m'\u001B[39m][\u001B[38;5;124m'\u001B[39m\u001B[38;5;124mgesamt\u001B[39m\u001B[38;5;124m'\u001B[39m])\u001B[38;5;241m.\u001B[39mmean(), \u001B[38;5;241m3\u001B[39m))\n\u001B[1;32m     18\u001B[0m     array\u001B[38;5;241m.\u001B[39mappend(per_quantile)\n\u001B[0;32m---> 19\u001B[0m \u001B[38;5;28mprint\u001B[39m(\u001B[43mmodels\u001B[49m\u001B[38;5;241;43m.\u001B[39;49m\u001B[43miloc\u001B[49m[m,:][\u001B[38;5;124m'\u001B[39m\u001B[38;5;124mname\u001B[39m\u001B[38;5;124m'\u001B[39m]) \n\u001B[1;32m     20\u001B[0m \u001B[38;5;28mprint\u001B[39m(pd\u001B[38;5;241m.\u001B[39mDataFrame(array, columns\u001B[38;5;241m=\u001B[39m[\u001B[38;5;124m'\u001B[39m\u001B[38;5;124m36 hour\u001B[39m\u001B[38;5;124m'\u001B[39m, \u001B[38;5;124m'\u001B[39m\u001B[38;5;124m40 hour\u001B[39m\u001B[38;5;124m'\u001B[39m, \u001B[38;5;124m'\u001B[39m\u001B[38;5;124m44 hour\u001B[39m\u001B[38;5;124m'\u001B[39m, \u001B[38;5;124m'\u001B[39m\u001B[38;5;124m60 hour\u001B[39m\u001B[38;5;124m'\u001B[39m, \u001B[38;5;124m'\u001B[39m\u001B[38;5;124m64 hour\u001B[39m\u001B[38;5;124m'\u001B[39m, \u001B[38;5;124m'\u001B[39m\u001B[38;5;124m68 hour\u001B[39m\u001B[38;5;124m'\u001B[39m,\u001B[38;5;124m'\u001B[39m\u001B[38;5;124mAll horizons\u001B[39m\u001B[38;5;124m'\u001B[39m], index\u001B[38;5;241m=\u001B[39m[\u001B[38;5;124m'\u001B[39m\u001B[38;5;124mq0.025\u001B[39m\u001B[38;5;124m'\u001B[39m, \u001B[38;5;124m'\u001B[39m\u001B[38;5;124mq0.25\u001B[39m\u001B[38;5;124m'\u001B[39m, \u001B[38;5;124m'\u001B[39m\u001B[38;5;124mq0.5\u001B[39m\u001B[38;5;124m'\u001B[39m, \u001B[38;5;124m'\u001B[39m\u001B[38;5;124mq0.75\u001B[39m\u001B[38;5;124m'\u001B[39m, \u001B[38;5;124m'\u001B[39m\u001B[38;5;124mq0.975\u001B[39m\u001B[38;5;124m'\u001B[39m]))\n",
      "\u001B[0;31mAttributeError\u001B[0m: 'list' object has no attribute 'iloc'"
     ]
    }
   ],
   "source": [
    "array = []\n",
    "\n",
    "for q in ['q0.025', 'q0.25', 'q0.5', 'q0.75', 'q0.975']:\n",
    "    # print(f'*** {q} ***')\n",
    "    # arr = models[5]['evaluation'][q] > models[5]['evaluation']['gesamt']\n",
    "    # print(arr.mean())\n",
    "    \n",
    "    per_quantile = []\n",
    "    \n",
    "    \n",
    "    for index, r in enumerate(results):\n",
    "        # r.loc[:, f'{q}larger'] = r[q] > r['gesamt']\n",
    "        mean = (r[q] > r['gesamt']).mean()\n",
    "        # print(r[f'{q}larger'].mean())\n",
    "        per_quantile.append(round(mean,3))\n",
    "    per_quantile.append(round((models[model_index]['evaluation'][q] > models[model_index]['evaluation']['gesamt']).mean(), 3))\n",
    "    \n",
    "    array.append(per_quantile)\n",
    "        \n",
    "pd.DataFrame(array, columns=['36 hour', '40 hour', '44 hour', '60 hour', '64 hour', '68 hour','All horizons'], index=['q0.025', 'q0.25', 'q0.5', 'q0.75', 'q0.975'])\n",
    "\n"
   ],
   "metadata": {
    "collapsed": false,
    "ExecuteTime": {
     "end_time": "2024-03-16T10:43:24.697534Z",
     "start_time": "2024-03-16T10:43:24.690751Z"
    }
   },
   "id": "9ec0051bbc03e609"
  },
  {
   "cell_type": "markdown",
   "source": [
    "# Lets only use horizon data for training and check again"
   ],
   "metadata": {
    "collapsed": false
   },
   "id": "7f4c3e1dbad3b50f"
  },
  {
   "cell_type": "code",
   "execution_count": 56,
   "outputs": [],
   "source": [
    "df_cval_horizon = df.loc[df.index < start_date_excl]\n",
    "df_cval_horizon = df_cval_horizon[df_cval_horizon.index.dayofweek.isin([4,5])] # Only keep Friday & Saturday\n",
    "df_cval_horizon = df_cval_horizon[df_cval_horizon.index.hour.isin([12,16,20])]\n",
    "df_cval_horizon = df_cval_horizon.loc[df_cval_horizon.index < start_date_excl]\n"
   ],
   "metadata": {
    "collapsed": false,
    "ExecuteTime": {
     "end_time": "2024-03-16T10:27:20.640695Z",
     "start_time": "2024-03-16T10:27:20.632716Z"
    }
   },
   "id": "e80e664bcb64d23f"
  },
  {
   "cell_type": "code",
   "execution_count": 57,
   "outputs": [
    {
     "data": {
      "text/plain": "                       gesamt\ndate_time                    \n2018-12-28 12:00:00  58.90900\n2018-12-28 16:00:00  58.55400\n2018-12-28 20:00:00  55.58925\n2018-12-29 12:00:00  56.84650\n2018-12-29 16:00:00  57.72725\n...                       ...\n2024-03-08 16:00:00  58.45875\n2024-03-08 20:00:00  58.05450\n2024-03-09 12:00:00  52.77300\n2024-03-09 16:00:00  49.06450\n2024-03-09 20:00:00  50.46575\n\n[1632 rows x 1 columns]",
      "text/html": "<div>\n<style scoped>\n    .dataframe tbody tr th:only-of-type {\n        vertical-align: middle;\n    }\n\n    .dataframe tbody tr th {\n        vertical-align: top;\n    }\n\n    .dataframe thead th {\n        text-align: right;\n    }\n</style>\n<table border=\"1\" class=\"dataframe\">\n  <thead>\n    <tr style=\"text-align: right;\">\n      <th></th>\n      <th>gesamt</th>\n    </tr>\n    <tr>\n      <th>date_time</th>\n      <th></th>\n    </tr>\n  </thead>\n  <tbody>\n    <tr>\n      <th>2018-12-28 12:00:00</th>\n      <td>58.90900</td>\n    </tr>\n    <tr>\n      <th>2018-12-28 16:00:00</th>\n      <td>58.55400</td>\n    </tr>\n    <tr>\n      <th>2018-12-28 20:00:00</th>\n      <td>55.58925</td>\n    </tr>\n    <tr>\n      <th>2018-12-29 12:00:00</th>\n      <td>56.84650</td>\n    </tr>\n    <tr>\n      <th>2018-12-29 16:00:00</th>\n      <td>57.72725</td>\n    </tr>\n    <tr>\n      <th>...</th>\n      <td>...</td>\n    </tr>\n    <tr>\n      <th>2024-03-08 16:00:00</th>\n      <td>58.45875</td>\n    </tr>\n    <tr>\n      <th>2024-03-08 20:00:00</th>\n      <td>58.05450</td>\n    </tr>\n    <tr>\n      <th>2024-03-09 12:00:00</th>\n      <td>52.77300</td>\n    </tr>\n    <tr>\n      <th>2024-03-09 16:00:00</th>\n      <td>49.06450</td>\n    </tr>\n    <tr>\n      <th>2024-03-09 20:00:00</th>\n      <td>50.46575</td>\n    </tr>\n  </tbody>\n</table>\n<p>1632 rows × 1 columns</p>\n</div>"
     },
     "execution_count": 57,
     "metadata": {},
     "output_type": "execute_result"
    }
   ],
   "source": [
    "df_cval_horizon"
   ],
   "metadata": {
    "collapsed": false,
    "ExecuteTime": {
     "end_time": "2024-03-16T10:27:20.678338Z",
     "start_time": "2024-03-16T10:27:20.638890Z"
    }
   },
   "id": "598558b37daf7625"
  },
  {
   "cell_type": "code",
   "execution_count": 58,
   "outputs": [
    {
     "name": "stdout",
     "output_type": "stream",
     "text": [
      "                       gesamt\n",
      "date_time                    \n",
      "2018-12-28 12:00:00  58.90900\n",
      "2018-12-28 16:00:00  58.55400\n",
      "2018-12-28 20:00:00  55.58925\n",
      "2018-12-29 12:00:00  56.84650\n",
      "2018-12-29 16:00:00  57.72725\n",
      "...                       ...\n",
      "2024-03-08 16:00:00  58.45875\n",
      "2024-03-08 20:00:00  58.05450\n",
      "2024-03-09 12:00:00  52.77300\n",
      "2024-03-09 16:00:00  49.06450\n",
      "2024-03-09 20:00:00  50.46575\n",
      "\n",
      "[1632 rows x 1 columns]\n",
      "*********** Start the evaluation of Model baseline ***********\n",
      "Iteration 0 of 100\n"
     ]
    },
    {
     "ename": "IndexError",
     "evalue": "index -1 is out of bounds for axis 0 with size 0",
     "output_type": "error",
     "traceback": [
      "\u001B[0;31m---------------------------------------------------------------------------\u001B[0m",
      "\u001B[0;31mIndexError\u001B[0m                                Traceback (most recent call last)",
      "Cell \u001B[0;32mIn[58], line 12\u001B[0m\n\u001B[1;32m      1\u001B[0m models \u001B[38;5;241m=\u001B[39m [\n\u001B[1;32m      2\u001B[0m     {\n\u001B[1;32m      3\u001B[0m         \u001B[38;5;124m'\u001B[39m\u001B[38;5;124mname\u001B[39m\u001B[38;5;124m'\u001B[39m: \u001B[38;5;124m'\u001B[39m\u001B[38;5;124mbaseline\u001B[39m\u001B[38;5;124m'\u001B[39m,\n\u001B[0;32m   (...)\u001B[0m\n\u001B[1;32m      9\u001B[0m     \u001B[38;5;66;03m#  }\u001B[39;00m\n\u001B[1;32m     10\u001B[0m ]\n\u001B[1;32m     11\u001B[0m \u001B[38;5;28mprint\u001B[39m(df_cval_horizon)\n\u001B[0;32m---> 12\u001B[0m \u001B[43mevaluate_models\u001B[49m\u001B[43m(\u001B[49m\u001B[43mmodels\u001B[49m\u001B[43m,\u001B[49m\u001B[43m \u001B[49m\u001B[43mdf_cval_horizon\u001B[49m\u001B[43m,\u001B[49m\u001B[43m \u001B[49m\u001B[43mlast_x\u001B[49m\u001B[38;5;241;43m=\u001B[39;49m\u001B[38;5;241;43m100\u001B[39;49m\u001B[43m,\u001B[49m\u001B[43m \u001B[49m\u001B[43mweeks\u001B[49m\u001B[38;5;241;43m=\u001B[39;49m\u001B[38;5;28;43;01mTrue\u001B[39;49;00m\u001B[43m)\u001B[49m\n",
      "Cell \u001B[0;32mIn[50], line 15\u001B[0m, in \u001B[0;36mevaluate_models\u001B[0;34m(models, df, last_x, years, months, weeks)\u001B[0m\n\u001B[1;32m     13\u001B[0m \u001B[38;5;28;01mfor\u001B[39;00m m \u001B[38;5;129;01min\u001B[39;00m models:\n\u001B[1;32m     14\u001B[0m     \u001B[38;5;28mprint\u001B[39m(\u001B[38;5;124mf\u001B[39m\u001B[38;5;124m'\u001B[39m\u001B[38;5;124m*********** Start the evaluation of Model \u001B[39m\u001B[38;5;132;01m{\u001B[39;00mm[\u001B[38;5;124m\"\u001B[39m\u001B[38;5;124mname\u001B[39m\u001B[38;5;124m\"\u001B[39m]\u001B[38;5;132;01m}\u001B[39;00m\u001B[38;5;124m ***********\u001B[39m\u001B[38;5;124m'\u001B[39m)\n\u001B[0;32m---> 15\u001B[0m     m[\u001B[38;5;124m'\u001B[39m\u001B[38;5;124mevaluation\u001B[39m\u001B[38;5;124m'\u001B[39m] \u001B[38;5;241m=\u001B[39m \u001B[43mevaluate_model\u001B[49m\u001B[43m(\u001B[49m\u001B[43mm\u001B[49m\u001B[43m,\u001B[49m\u001B[43m \u001B[49m\u001B[43mdf\u001B[49m\u001B[43m,\u001B[49m\u001B[43m \u001B[49m\u001B[43mlast_x\u001B[49m\u001B[43m,\u001B[49m\u001B[43m \u001B[49m\u001B[43myears\u001B[49m\u001B[43m,\u001B[49m\u001B[43m \u001B[49m\u001B[43mmonths\u001B[49m\u001B[43m,\u001B[49m\u001B[43m \u001B[49m\u001B[43mweeks\u001B[49m\u001B[43m)\u001B[49m\n",
      "Cell \u001B[0;32mIn[50], line 28\u001B[0m, in \u001B[0;36mevaluate_model\u001B[0;34m(model, df, last_x, years, months, weeks)\u001B[0m\n\u001B[1;32m     26\u001B[0m \u001B[38;5;66;03m# Is mixed model?\u001B[39;00m\n\u001B[1;32m     27\u001B[0m \u001B[38;5;28;01mif\u001B[39;00m \u001B[38;5;28mcallable\u001B[39m(model[\u001B[38;5;124m'\u001B[39m\u001B[38;5;124mfunction\u001B[39m\u001B[38;5;124m'\u001B[39m]):\n\u001B[0;32m---> 28\u001B[0m     pred \u001B[38;5;241m=\u001B[39m \u001B[43mmodel\u001B[49m\u001B[43m[\u001B[49m\u001B[38;5;124;43m'\u001B[39;49m\u001B[38;5;124;43mfunction\u001B[39;49m\u001B[38;5;124;43m'\u001B[39;49m\u001B[43m]\u001B[49m\u001B[43m(\u001B[49m\u001B[43mdf_before\u001B[49m\u001B[43m)\u001B[49m\n\u001B[1;32m     29\u001B[0m \u001B[38;5;28;01melse\u001B[39;00m:\n\u001B[1;32m     30\u001B[0m     pred \u001B[38;5;241m=\u001B[39m mix_models_per_horizon(model[\u001B[38;5;124m'\u001B[39m\u001B[38;5;124mfunction\u001B[39m\u001B[38;5;124m'\u001B[39m][\u001B[38;5;241m0\u001B[39m], model[\u001B[38;5;124m'\u001B[39m\u001B[38;5;124mfunction\u001B[39m\u001B[38;5;124m'\u001B[39m][\u001B[38;5;241m1\u001B[39m], df_before)\n",
      "File \u001B[0;32m~/Desktop/PTSFC/Energy/Models/baseline.py:30\u001B[0m, in \u001B[0;36mbaseline\u001B[0;34m(df, LAST_IDX, offset_horizons)\u001B[0m\n\u001B[1;32m     26\u001B[0m     df_tmp \u001B[38;5;241m=\u001B[39m df\u001B[38;5;241m.\u001B[39miloc[:LAST_IDX]\n\u001B[1;32m     28\u001B[0m     cond \u001B[38;5;241m=\u001B[39m (df_tmp\u001B[38;5;241m.\u001B[39mweekday \u001B[38;5;241m==\u001B[39m weekday) \u001B[38;5;241m&\u001B[39m (df_tmp\u001B[38;5;241m.\u001B[39mindex\u001B[38;5;241m.\u001B[39mtime \u001B[38;5;241m==\u001B[39m d\u001B[38;5;241m.\u001B[39mtime())\n\u001B[0;32m---> 30\u001B[0m     pred_baseline[i, :] \u001B[38;5;241m=\u001B[39m \u001B[43mnp\u001B[49m\u001B[38;5;241;43m.\u001B[39;49m\u001B[43mquantile\u001B[49m\u001B[43m(\u001B[49m\u001B[43mdf_tmp\u001B[49m\u001B[43m[\u001B[49m\u001B[43mcond\u001B[49m\u001B[43m]\u001B[49m\u001B[38;5;241;43m.\u001B[39;49m\u001B[43miloc\u001B[49m\u001B[43m[\u001B[49m\u001B[38;5;241;43m-\u001B[39;49m\u001B[43mlast_t\u001B[49m\u001B[43m:\u001B[49m\u001B[43m]\u001B[49m\u001B[43m[\u001B[49m\u001B[38;5;124;43m\"\u001B[39;49m\u001B[38;5;124;43mgesamt\u001B[39;49m\u001B[38;5;124;43m\"\u001B[39;49m\u001B[43m]\u001B[49m\u001B[43m,\u001B[49m\u001B[43m \u001B[49m\u001B[43mq\u001B[49m\u001B[38;5;241;43m=\u001B[39;49m\u001B[43mtau\u001B[49m\u001B[43m)\u001B[49m\n\u001B[1;32m     32\u001B[0m df_sub \u001B[38;5;241m=\u001B[39m pd\u001B[38;5;241m.\u001B[39mDataFrame({\n\u001B[1;32m     33\u001B[0m     \u001B[38;5;124m\"\u001B[39m\u001B[38;5;124mforecast_date\u001B[39m\u001B[38;5;124m\"\u001B[39m: horizon_date,\n\u001B[1;32m     34\u001B[0m     \u001B[38;5;124m\"\u001B[39m\u001B[38;5;124mtarget\u001B[39m\u001B[38;5;124m\"\u001B[39m: \u001B[38;5;124m\"\u001B[39m\u001B[38;5;124menergy\u001B[39m\u001B[38;5;124m\"\u001B[39m,\n\u001B[0;32m   (...)\u001B[0m\n\u001B[1;32m     39\u001B[0m     \u001B[38;5;124m\"\u001B[39m\u001B[38;5;124mq0.75\u001B[39m\u001B[38;5;124m\"\u001B[39m: pred_baseline[:, \u001B[38;5;241m3\u001B[39m],\n\u001B[1;32m     40\u001B[0m     \u001B[38;5;124m\"\u001B[39m\u001B[38;5;124mq0.975\u001B[39m\u001B[38;5;124m\"\u001B[39m: pred_baseline[:, \u001B[38;5;241m4\u001B[39m]})\n\u001B[1;32m     41\u001B[0m \u001B[38;5;28;01mreturn\u001B[39;00m df_sub\n",
      "File \u001B[0;32m~/Desktop/PTSFC/venv/lib/python3.9/site-packages/numpy/lib/function_base.py:4543\u001B[0m, in \u001B[0;36mquantile\u001B[0;34m(a, q, axis, out, overwrite_input, method, keepdims, interpolation)\u001B[0m\n\u001B[1;32m   4541\u001B[0m \u001B[38;5;28;01mif\u001B[39;00m \u001B[38;5;129;01mnot\u001B[39;00m _quantile_is_valid(q):\n\u001B[1;32m   4542\u001B[0m     \u001B[38;5;28;01mraise\u001B[39;00m \u001B[38;5;167;01mValueError\u001B[39;00m(\u001B[38;5;124m\"\u001B[39m\u001B[38;5;124mQuantiles must be in the range [0, 1]\u001B[39m\u001B[38;5;124m\"\u001B[39m)\n\u001B[0;32m-> 4543\u001B[0m \u001B[38;5;28;01mreturn\u001B[39;00m \u001B[43m_quantile_unchecked\u001B[49m\u001B[43m(\u001B[49m\n\u001B[1;32m   4544\u001B[0m \u001B[43m    \u001B[49m\u001B[43ma\u001B[49m\u001B[43m,\u001B[49m\u001B[43m \u001B[49m\u001B[43mq\u001B[49m\u001B[43m,\u001B[49m\u001B[43m \u001B[49m\u001B[43maxis\u001B[49m\u001B[43m,\u001B[49m\u001B[43m \u001B[49m\u001B[43mout\u001B[49m\u001B[43m,\u001B[49m\u001B[43m \u001B[49m\u001B[43moverwrite_input\u001B[49m\u001B[43m,\u001B[49m\u001B[43m \u001B[49m\u001B[43mmethod\u001B[49m\u001B[43m,\u001B[49m\u001B[43m \u001B[49m\u001B[43mkeepdims\u001B[49m\u001B[43m)\u001B[49m\n",
      "File \u001B[0;32m~/Desktop/PTSFC/venv/lib/python3.9/site-packages/numpy/lib/function_base.py:4555\u001B[0m, in \u001B[0;36m_quantile_unchecked\u001B[0;34m(a, q, axis, out, overwrite_input, method, keepdims)\u001B[0m\n\u001B[1;32m   4547\u001B[0m \u001B[38;5;28;01mdef\u001B[39;00m \u001B[38;5;21m_quantile_unchecked\u001B[39m(a,\n\u001B[1;32m   4548\u001B[0m                         q,\n\u001B[1;32m   4549\u001B[0m                         axis\u001B[38;5;241m=\u001B[39m\u001B[38;5;28;01mNone\u001B[39;00m,\n\u001B[0;32m   (...)\u001B[0m\n\u001B[1;32m   4552\u001B[0m                         method\u001B[38;5;241m=\u001B[39m\u001B[38;5;124m\"\u001B[39m\u001B[38;5;124mlinear\u001B[39m\u001B[38;5;124m\"\u001B[39m,\n\u001B[1;32m   4553\u001B[0m                         keepdims\u001B[38;5;241m=\u001B[39m\u001B[38;5;28;01mFalse\u001B[39;00m):\n\u001B[1;32m   4554\u001B[0m \u001B[38;5;250m    \u001B[39m\u001B[38;5;124;03m\"\"\"Assumes that q is in [0, 1], and is an ndarray\"\"\"\u001B[39;00m\n\u001B[0;32m-> 4555\u001B[0m     \u001B[38;5;28;01mreturn\u001B[39;00m \u001B[43m_ureduce\u001B[49m\u001B[43m(\u001B[49m\u001B[43ma\u001B[49m\u001B[43m,\u001B[49m\n\u001B[1;32m   4556\u001B[0m \u001B[43m                    \u001B[49m\u001B[43mfunc\u001B[49m\u001B[38;5;241;43m=\u001B[39;49m\u001B[43m_quantile_ureduce_func\u001B[49m\u001B[43m,\u001B[49m\n\u001B[1;32m   4557\u001B[0m \u001B[43m                    \u001B[49m\u001B[43mq\u001B[49m\u001B[38;5;241;43m=\u001B[39;49m\u001B[43mq\u001B[49m\u001B[43m,\u001B[49m\n\u001B[1;32m   4558\u001B[0m \u001B[43m                    \u001B[49m\u001B[43mkeepdims\u001B[49m\u001B[38;5;241;43m=\u001B[39;49m\u001B[43mkeepdims\u001B[49m\u001B[43m,\u001B[49m\n\u001B[1;32m   4559\u001B[0m \u001B[43m                    \u001B[49m\u001B[43maxis\u001B[49m\u001B[38;5;241;43m=\u001B[39;49m\u001B[43maxis\u001B[49m\u001B[43m,\u001B[49m\n\u001B[1;32m   4560\u001B[0m \u001B[43m                    \u001B[49m\u001B[43mout\u001B[49m\u001B[38;5;241;43m=\u001B[39;49m\u001B[43mout\u001B[49m\u001B[43m,\u001B[49m\n\u001B[1;32m   4561\u001B[0m \u001B[43m                    \u001B[49m\u001B[43moverwrite_input\u001B[49m\u001B[38;5;241;43m=\u001B[39;49m\u001B[43moverwrite_input\u001B[49m\u001B[43m,\u001B[49m\n\u001B[1;32m   4562\u001B[0m \u001B[43m                    \u001B[49m\u001B[43mmethod\u001B[49m\u001B[38;5;241;43m=\u001B[39;49m\u001B[43mmethod\u001B[49m\u001B[43m)\u001B[49m\n",
      "File \u001B[0;32m~/Desktop/PTSFC/venv/lib/python3.9/site-packages/numpy/lib/function_base.py:3823\u001B[0m, in \u001B[0;36m_ureduce\u001B[0;34m(a, func, keepdims, **kwargs)\u001B[0m\n\u001B[1;32m   3820\u001B[0m             index_out \u001B[38;5;241m=\u001B[39m (\u001B[38;5;241m0\u001B[39m, ) \u001B[38;5;241m*\u001B[39m nd\n\u001B[1;32m   3821\u001B[0m             kwargs[\u001B[38;5;124m'\u001B[39m\u001B[38;5;124mout\u001B[39m\u001B[38;5;124m'\u001B[39m] \u001B[38;5;241m=\u001B[39m out[(\u001B[38;5;28mEllipsis\u001B[39m, ) \u001B[38;5;241m+\u001B[39m index_out]\n\u001B[0;32m-> 3823\u001B[0m r \u001B[38;5;241m=\u001B[39m \u001B[43mfunc\u001B[49m\u001B[43m(\u001B[49m\u001B[43ma\u001B[49m\u001B[43m,\u001B[49m\u001B[43m \u001B[49m\u001B[38;5;241;43m*\u001B[39;49m\u001B[38;5;241;43m*\u001B[39;49m\u001B[43mkwargs\u001B[49m\u001B[43m)\u001B[49m\n\u001B[1;32m   3825\u001B[0m \u001B[38;5;28;01mif\u001B[39;00m out \u001B[38;5;129;01mis\u001B[39;00m \u001B[38;5;129;01mnot\u001B[39;00m \u001B[38;5;28;01mNone\u001B[39;00m:\n\u001B[1;32m   3826\u001B[0m     \u001B[38;5;28;01mreturn\u001B[39;00m out\n",
      "File \u001B[0;32m~/Desktop/PTSFC/venv/lib/python3.9/site-packages/numpy/lib/function_base.py:4721\u001B[0m, in \u001B[0;36m_quantile_ureduce_func\u001B[0;34m(a, q, axis, out, overwrite_input, method)\u001B[0m\n\u001B[1;32m   4719\u001B[0m     \u001B[38;5;28;01melse\u001B[39;00m:\n\u001B[1;32m   4720\u001B[0m         arr \u001B[38;5;241m=\u001B[39m a\u001B[38;5;241m.\u001B[39mcopy()\n\u001B[0;32m-> 4721\u001B[0m result \u001B[38;5;241m=\u001B[39m \u001B[43m_quantile\u001B[49m\u001B[43m(\u001B[49m\u001B[43marr\u001B[49m\u001B[43m,\u001B[49m\n\u001B[1;32m   4722\u001B[0m \u001B[43m                   \u001B[49m\u001B[43mquantiles\u001B[49m\u001B[38;5;241;43m=\u001B[39;49m\u001B[43mq\u001B[49m\u001B[43m,\u001B[49m\n\u001B[1;32m   4723\u001B[0m \u001B[43m                   \u001B[49m\u001B[43maxis\u001B[49m\u001B[38;5;241;43m=\u001B[39;49m\u001B[43maxis\u001B[49m\u001B[43m,\u001B[49m\n\u001B[1;32m   4724\u001B[0m \u001B[43m                   \u001B[49m\u001B[43mmethod\u001B[49m\u001B[38;5;241;43m=\u001B[39;49m\u001B[43mmethod\u001B[49m\u001B[43m,\u001B[49m\n\u001B[1;32m   4725\u001B[0m \u001B[43m                   \u001B[49m\u001B[43mout\u001B[49m\u001B[38;5;241;43m=\u001B[39;49m\u001B[43mout\u001B[49m\u001B[43m)\u001B[49m\n\u001B[1;32m   4726\u001B[0m \u001B[38;5;28;01mreturn\u001B[39;00m result\n",
      "File \u001B[0;32m~/Desktop/PTSFC/venv/lib/python3.9/site-packages/numpy/lib/function_base.py:4830\u001B[0m, in \u001B[0;36m_quantile\u001B[0;34m(arr, quantiles, axis, method, out)\u001B[0m\n\u001B[1;32m   4823\u001B[0m arr\u001B[38;5;241m.\u001B[39mpartition(\n\u001B[1;32m   4824\u001B[0m     np\u001B[38;5;241m.\u001B[39munique(np\u001B[38;5;241m.\u001B[39mconcatenate(([\u001B[38;5;241m0\u001B[39m, \u001B[38;5;241m-\u001B[39m\u001B[38;5;241m1\u001B[39m],\n\u001B[1;32m   4825\u001B[0m                               previous_indexes\u001B[38;5;241m.\u001B[39mravel(),\n\u001B[1;32m   4826\u001B[0m                               next_indexes\u001B[38;5;241m.\u001B[39mravel(),\n\u001B[1;32m   4827\u001B[0m                               ))),\n\u001B[1;32m   4828\u001B[0m     axis\u001B[38;5;241m=\u001B[39m\u001B[38;5;241m0\u001B[39m)\n\u001B[1;32m   4829\u001B[0m \u001B[38;5;28;01mif\u001B[39;00m supports_nans:\n\u001B[0;32m-> 4830\u001B[0m     slices_having_nans \u001B[38;5;241m=\u001B[39m np\u001B[38;5;241m.\u001B[39misnan(\u001B[43marr\u001B[49m\u001B[43m[\u001B[49m\u001B[38;5;241;43m-\u001B[39;49m\u001B[38;5;241;43m1\u001B[39;49m\u001B[43m,\u001B[49m\u001B[43m \u001B[49m\u001B[38;5;241;43m.\u001B[39;49m\u001B[38;5;241;43m.\u001B[39;49m\u001B[38;5;241;43m.\u001B[39;49m\u001B[43m]\u001B[49m)\n\u001B[1;32m   4831\u001B[0m \u001B[38;5;28;01melse\u001B[39;00m:\n\u001B[1;32m   4832\u001B[0m     slices_having_nans \u001B[38;5;241m=\u001B[39m \u001B[38;5;28;01mNone\u001B[39;00m\n",
      "\u001B[0;31mIndexError\u001B[0m: index -1 is out of bounds for axis 0 with size 0"
     ]
    }
   ],
   "source": [
    "\n",
    "models = [\n",
    "    {\n",
    "        'name': 'baseline',\n",
    "        'function': baseline\n",
    "    },\n",
    "    # {\n",
    "    #     'name': 'model5',\n",
    "    #     'function': model5\n",
    "    #  }\n",
    "]\n",
    "print(df_cval_horizon)\n",
    "evaluate_models(models, df_cval_horizon, last_x=100, weeks=True)"
   ],
   "metadata": {
    "collapsed": false,
    "ExecuteTime": {
     "end_time": "2024-03-16T10:27:20.703909Z",
     "start_time": "2024-03-16T10:27:20.642437Z"
    }
   },
   "id": "8e345a5621125755"
  },
  {
   "cell_type": "code",
   "execution_count": null,
   "outputs": [],
   "source": [
    "df_cval_horizon"
   ],
   "metadata": {
    "collapsed": false,
    "ExecuteTime": {
     "start_time": "2024-03-16T10:27:20.693781Z"
    }
   },
   "id": "3048895a43465c0d"
  },
  {
   "cell_type": "code",
   "execution_count": null,
   "outputs": [],
   "source": [
    "models[0]"
   ],
   "metadata": {
    "collapsed": false,
    "ExecuteTime": {
     "start_time": "2024-03-16T10:27:20.695390Z"
    }
   },
   "id": "74cbba8cf9f666b1"
  },
  {
   "cell_type": "code",
   "execution_count": null,
   "outputs": [],
   "source": [
    "from statistics import mean\n",
    "mean([100,75,50,50,50,75,100])"
   ],
   "metadata": {
    "collapsed": false,
    "ExecuteTime": {
     "start_time": "2024-03-16T10:27:20.696810Z"
    }
   },
   "id": "7bfd139871f364b7"
  },
  {
   "cell_type": "code",
   "execution_count": null,
   "outputs": [],
   "source": [
    "mean([0,100,0,100,50,25,0])"
   ],
   "metadata": {
    "collapsed": false,
    "ExecuteTime": {
     "start_time": "2024-03-16T10:27:20.698074Z"
    }
   },
   "id": "c0f2b5ee34181b93"
  },
  {
   "cell_type": "code",
   "execution_count": null,
   "outputs": [],
   "source": [
    "(2*120000*600/9)**0.5"
   ],
   "metadata": {
    "collapsed": false,
    "ExecuteTime": {
     "start_time": "2024-03-16T10:27:20.699243Z"
    }
   },
   "id": "7cd1ae50054869cc"
  },
  {
   "cell_type": "code",
   "execution_count": null,
   "outputs": [],
   "source": [
    "120/4"
   ],
   "metadata": {
    "collapsed": false,
    "ExecuteTime": {
     "start_time": "2024-03-16T10:27:20.700432Z"
    }
   },
   "id": "50d02e1fe7bfc720"
  },
  {
   "cell_type": "code",
   "execution_count": null,
   "outputs": [],
   "source": [
    " 50*(-1) + 20/1.1 + 40/1.1**2"
   ],
   "metadata": {
    "collapsed": false,
    "ExecuteTime": {
     "start_time": "2024-03-16T10:27:20.701303Z"
    }
   },
   "id": "66c9b8268b50e377"
  },
  {
   "cell_type": "code",
   "execution_count": null,
   "outputs": [],
   "source": [
    " 75*(-1) + 80/1.1 + 10/1.1**2"
   ],
   "metadata": {
    "collapsed": false,
    "ExecuteTime": {
     "start_time": "2024-03-16T10:27:20.702147Z"
    }
   },
   "id": "bfef917f7cad92f8"
  },
  {
   "cell_type": "code",
   "execution_count": null,
   "outputs": [],
   "source": [
    " round(85*(-1) + 20/1.1 + 70/1.1**2,4)"
   ],
   "metadata": {
    "collapsed": false,
    "ExecuteTime": {
     "start_time": "2024-03-16T10:27:20.702945Z"
    }
   },
   "id": "cc88df8ab57c1"
  },
  {
   "cell_type": "code",
   "execution_count": null,
   "outputs": [],
   "source": [],
   "metadata": {
    "collapsed": false,
    "ExecuteTime": {
     "start_time": "2024-03-16T10:27:20.703798Z"
    }
   },
   "id": "fc87d98a05e330a9"
  }
 ],
 "metadata": {
  "kernelspec": {
   "display_name": "Python 3",
   "language": "python",
   "name": "python3"
  },
  "language_info": {
   "codemirror_mode": {
    "name": "ipython",
    "version": 2
   },
   "file_extension": ".py",
   "mimetype": "text/x-python",
   "name": "python",
   "nbconvert_exporter": "python",
   "pygments_lexer": "ipython2",
   "version": "2.7.6"
  }
 },
 "nbformat": 4,
 "nbformat_minor": 5
}
